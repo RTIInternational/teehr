{
 "cells": [
  {
   "cell_type": "markdown",
   "metadata": {},
   "source": [
    "Joining Timeseries\n",
    "==================\n",
    "\n",
    "One of the first and most important steps in comparing simulated and observed timeseries data is to join\n",
    "the two datasets together based on location and time (and potentially other fields).\n",
    "\n",
    "In this example, we consider a comparison of National Water Model (NWM) v3.0 retrospective\n",
    "streamflow simulations (\"secondary\") to USGS observed streamflow data (\"primary\") for a few\n",
    "time steps at five different locations (gage stations).\n",
    "\n",
    "We'll use an example Evaluation dataset for this tutorial."
   ]
  },
  {
   "cell_type": "code",
   "execution_count": null,
   "metadata": {
    "tags": [
     "hide-output"
    ]
   },
   "outputs": [],
   "source": [
    "from teehr import Evaluation\n",
    "\n",
    "ev = Evaluation(\"joining_tutorial_data\")"
   ]
  },
  {
   "cell_type": "markdown",
   "metadata": {},
   "source": [
    "**Primary Timeseries**: The USGS observed streamflow data at all locations and times."
   ]
  },
  {
   "cell_type": "code",
   "execution_count": null,
   "metadata": {
    "tags": [
     "hide-output"
    ]
   },
   "outputs": [],
   "source": [
    "primary_df = ev.primary_timeseries.to_pandas()"
   ]
  },
  {
   "cell_type": "code",
   "execution_count": null,
   "metadata": {},
   "outputs": [],
   "source": [
    "primary_df"
   ]
  },
  {
   "cell_type": "markdown",
   "metadata": {},
   "source": [
    "**Secondary Timeseries**: The NWM v3.0 retrospective streamflow simulations at all locations and times."
   ]
  },
  {
   "cell_type": "code",
   "execution_count": null,
   "metadata": {},
   "outputs": [],
   "source": [
    "ev.secondary_timeseries.to_pandas()"
   ]
  },
  {
   "cell_type": "markdown",
   "metadata": {},
   "source": [
    "**Locations Crosswalks**: A mapping between the USGS and NWM location IDs"
   ]
  },
  {
   "cell_type": "code",
   "execution_count": null,
   "metadata": {},
   "outputs": [],
   "source": [
    "ev.location_crosswalks.to_pandas()"
   ]
  },
  {
   "cell_type": "markdown",
   "metadata": {},
   "source": [
    "**Location Geometry**: The point geometries of the USGS gage station locations."
   ]
  },
  {
   "cell_type": "code",
   "execution_count": null,
   "metadata": {},
   "outputs": [],
   "source": [
    "ev.locations.to_geopandas()"
   ]
  },
  {
   "cell_type": "markdown",
   "metadata": {},
   "source": [
    "**Attributes**: Additional information about each of the locations."
   ]
  },
  {
   "cell_type": "code",
   "execution_count": null,
   "metadata": {},
   "outputs": [],
   "source": [
    "ev.location_attributes.to_pandas().head()"
   ]
  },
  {
   "cell_type": "markdown",
   "metadata": {},
   "source": [
    "There are a number of physical attributes associated with each location:"
   ]
  },
  {
   "cell_type": "code",
   "execution_count": null,
   "metadata": {},
   "outputs": [],
   "source": [
    "ev.location_attributes.to_pandas().attribute_name.unique()"
   ]
  },
  {
   "cell_type": "markdown",
   "metadata": {},
   "source": [
    "Ultimately, we want to combine all the data into a single table to facilitate efficient analysis and exploration based\n",
    "on the location, time, and potentially some other attributes.  For example, we could start to ask questions like:\n",
    "\"How does the NWM model perform in primarily forested watersheds compared to primarily urban watersheds?\"\n",
    "\n",
    "First, we can join the primary and secondary timeseries by location and time without adding geometry or\n",
    "attributes.  This requires the crosswalk table to map the primary and secondary location IDs. Because\n",
    "the data may contain more than one variable (e.g., temperature, C) we also need to consider the ``variable_name``\n",
    "and ``measurement_unit`` fields during the join."
   ]
  },
  {
   "cell_type": "markdown",
   "metadata": {},
   "source": [
    ":::{figure} ../../images/tutorials/joining/nwm_usgs_ex_joining_snip.png\n",
    "---\n",
    "height: 400px\n",
    "width: 900px\n",
    "---\n",
    "\n",
    "Joining the primary and secondary streamflow values by location, time, variable name, and measurement unit.\n",
    ":::"
   ]
  },
  {
   "cell_type": "markdown",
   "metadata": {},
   "source": [
    "We can also join the location geometry and attributes to the joined timeseries table.  This will allow us to\n",
    "easily filter and group the data based on the location attributes, and to visualize the output.\n",
    "\n",
    "To join the geometry, we can simply map each primary location ID in the joined timeseries table to the ID in the\n",
    "geometry table, which in this case contains the point geometries of the USGS gage stations."
   ]
  },
  {
   "cell_type": "markdown",
   "metadata": {},
   "source": [
    ":::{figure} ../../images/tutorials/joining/nwm_usgs_ex_joining_geometry.png\n",
    "---\n",
    "height: 400px\n",
    "width: 900px\n",
    "---\n",
    "\n",
    "Joining the geometry to the initial joined timeseries table.\n",
    ":::"
   ]
  },
  {
   "cell_type": "markdown",
   "metadata": {},
   "source": [
    "Finally, we can join additional, pre-calculated attributes the table, which give us more options for\n",
    "filtering and grouping the data when calculating performance metrics."
   ]
  },
  {
   "cell_type": "markdown",
   "metadata": {},
   "source": []
  },
  {
   "cell_type": "markdown",
   "metadata": {},
   "source": [
    ":::{figure} ../../images/tutorials/joining/nwm_usgs_ex_joining_attributes.png\n",
    "---\n",
    "height: 400px\n",
    "width: 900px\n",
    "---\n",
    "\n",
    "Joining the attributes to the initial joined timeseries table.\n",
    ":::"
   ]
  },
  {
   "cell_type": "markdown",
   "metadata": {},
   "source": [
    "TEEHR can automatically join the timeseries and location attributes, while simulaneously running user-defined functions on specified fields."
   ]
  },
  {
   "cell_type": "code",
   "execution_count": null,
   "metadata": {
    "tags": [
     "hide-output"
    ]
   },
   "outputs": [],
   "source": [
    "ev.joined_timeseries.create(execute_udf=True)"
   ]
  },
  {
   "cell_type": "code",
   "execution_count": null,
   "metadata": {},
   "outputs": [],
   "source": [
    "ev.joined_timeseries.to_pandas()"
   ]
  },
  {
   "cell_type": "markdown",
   "metadata": {},
   "source": [
    "The geometry data is joined on the fly when a ``GeoDataFrame`` is requested."
   ]
  },
  {
   "cell_type": "code",
   "execution_count": null,
   "metadata": {},
   "outputs": [],
   "source": [
    "ev.joined_timeseries.to_geopandas()"
   ]
  },
  {
   "cell_type": "markdown",
   "metadata": {},
   "source": [
    "Now that the data is joined into a single table, we can easily filter and groupby the available fields to pre-calculated\n",
    "performance metrics, such as the Nash-Sutcliffe Efficiency (NSE) or the Kling-Gupta Efficiency (KGE), and create visualizations."
   ]
  },
  {
   "cell_type": "markdown",
   "metadata": {},
   "source": []
  }
 ],
 "metadata": {
  "kernelspec": {
   "display_name": ".venv",
   "language": "python",
   "name": "python3"
  },
  "language_info": {
   "codemirror_mode": {
    "name": "ipython",
    "version": 3
   },
   "file_extension": ".py",
   "mimetype": "text/x-python",
   "name": "python",
   "nbconvert_exporter": "python",
   "pygments_lexer": "ipython3",
   "version": "3.10.12"
  }
 },
 "nbformat": 4,
 "nbformat_minor": 2
}
