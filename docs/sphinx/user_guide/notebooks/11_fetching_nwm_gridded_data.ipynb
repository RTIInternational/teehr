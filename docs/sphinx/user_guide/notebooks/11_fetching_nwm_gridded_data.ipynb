{
 "cells": [
  {
   "cell_type": "markdown",
   "metadata": {},
   "source": [
    "# Fetching and Summarizing NWM Gridded Data"
   ]
  },
  {
   "cell_type": "markdown",
   "metadata": {},
   "source": [
    "## Overview\n",
    "In this guide we'll demonstrate fetching National Water Model (NWM) operational and retrospective gridded data from cloud storage. This example makes use of a pre-generated Evaluation dataset stored in TEEHR's examples data module.\n",
    "\n",
    "**Note**: For demonstration purposes several cells below are shown in markdown form. If you want to download this notebook and run them yourself, you will need to convert them to code cells.\n",
    "\n",
    "For a refresher on loading location and location crosswalk data into a new Evaluation refer back to the [Loading Local Data](https://rtiinternational.github.io/teehr/user_guide/notebooks/02_loading_local_data.html) and [Setting-up a Simple Example](https://rtiinternational.github.io/teehr/user_guide/notebooks/04_setup_simple_example.html) user guide pages."
   ]
  },
  {
   "cell_type": "markdown",
   "metadata": {},
   "source": [
    "### Set up the example Evaluation"
   ]
  },
  {
   "cell_type": "code",
   "execution_count": 34,
   "metadata": {},
   "outputs": [
    {
     "data": {
      "text/html": [
       "<script type=\"esms-options\">{\"shimMode\": true}</script><style>*[data-root-id],\n",
       "*[data-root-id] > * {\n",
       "  box-sizing: border-box;\n",
       "  font-family: var(--jp-ui-font-family);\n",
       "  font-size: var(--jp-ui-font-size1);\n",
       "  color: var(--vscode-editor-foreground, var(--jp-ui-font-color1));\n",
       "}\n",
       "\n",
       "/* Override VSCode background color */\n",
       ".cell-output-ipywidget-background:has(\n",
       "    > .cell-output-ipywidget-background > .lm-Widget > *[data-root-id]\n",
       "  ),\n",
       ".cell-output-ipywidget-background:has(> .lm-Widget > *[data-root-id]) {\n",
       "  background-color: transparent !important;\n",
       "}\n",
       "</style>"
      ]
     },
     "metadata": {},
     "output_type": "display_data"
    },
    {
     "data": {
      "application/javascript": "(function(root) {\n  function now() {\n    return new Date();\n  }\n\n  const force = true;\n  const py_version = '3.6.2'.replace('rc', '-rc.').replace('.dev', '-dev.');\n  const reloading = false;\n  const Bokeh = root.Bokeh;\n\n  // Set a timeout for this load but only if we are not already initializing\n  if (typeof (root._bokeh_timeout) === \"undefined\" || (force || !root._bokeh_is_initializing)) {\n    root._bokeh_timeout = Date.now() + 5000;\n    root._bokeh_failed_load = false;\n  }\n\n  function run_callbacks() {\n    try {\n      root._bokeh_onload_callbacks.forEach(function(callback) {\n        if (callback != null)\n          callback();\n      });\n    } finally {\n      delete root._bokeh_onload_callbacks;\n    }\n    console.debug(\"Bokeh: all callbacks have finished\");\n  }\n\n  function load_libs(css_urls, js_urls, js_modules, js_exports, callback) {\n    if (css_urls == null) css_urls = [];\n    if (js_urls == null) js_urls = [];\n    if (js_modules == null) js_modules = [];\n    if (js_exports == null) js_exports = {};\n\n    root._bokeh_onload_callbacks.push(callback);\n\n    if (root._bokeh_is_loading > 0) {\n      // Don't load bokeh if it is still initializing\n      console.debug(\"Bokeh: BokehJS is being loaded, scheduling callback at\", now());\n      return null;\n    } else if (js_urls.length === 0 && js_modules.length === 0 && Object.keys(js_exports).length === 0) {\n      // There is nothing to load\n      run_callbacks();\n      return null;\n    }\n\n    function on_load() {\n      root._bokeh_is_loading--;\n      if (root._bokeh_is_loading === 0) {\n        console.debug(\"Bokeh: all BokehJS libraries/stylesheets loaded\");\n        run_callbacks()\n      }\n    }\n    window._bokeh_on_load = on_load\n\n    function on_error(e) {\n      const src_el = e.srcElement\n      console.error(\"failed to load \" + (src_el.href || src_el.src));\n    }\n\n    const skip = [];\n    if (window.requirejs) {\n      window.requirejs.config({'packages': {}, 'paths': {}, 'shim': {}});\n      root._bokeh_is_loading = css_urls.length + 0;\n    } else {\n      root._bokeh_is_loading = css_urls.length + js_urls.length + js_modules.length + Object.keys(js_exports).length;\n    }\n\n    const existing_stylesheets = []\n    const links = document.getElementsByTagName('link')\n    for (let i = 0; i < links.length; i++) {\n      const link = links[i]\n      if (link.href != null) {\n        existing_stylesheets.push(link.href)\n      }\n    }\n    for (let i = 0; i < css_urls.length; i++) {\n      const url = css_urls[i];\n      const escaped = encodeURI(url)\n      if (existing_stylesheets.indexOf(escaped) !== -1) {\n        on_load()\n        continue;\n      }\n      const element = document.createElement(\"link\");\n      element.onload = on_load;\n      element.onerror = on_error;\n      element.rel = \"stylesheet\";\n      element.type = \"text/css\";\n      element.href = url;\n      console.debug(\"Bokeh: injecting link tag for BokehJS stylesheet: \", url);\n      document.body.appendChild(element);\n    }    var existing_scripts = []\n    const scripts = document.getElementsByTagName('script')\n    for (let i = 0; i < scripts.length; i++) {\n      var script = scripts[i]\n      if (script.src != null) {\n        existing_scripts.push(script.src)\n      }\n    }\n    for (let i = 0; i < js_urls.length; i++) {\n      const url = js_urls[i];\n      const escaped = encodeURI(url)\n      if (skip.indexOf(escaped) !== -1 || existing_scripts.indexOf(escaped) !== -1) {\n        if (!window.requirejs) {\n          on_load();\n        }\n        continue;\n      }\n      const element = document.createElement('script');\n      element.onload = on_load;\n      element.onerror = on_error;\n      element.async = false;\n      element.src = url;\n      console.debug(\"Bokeh: injecting script tag for BokehJS library: \", url);\n      document.head.appendChild(element);\n    }\n    for (let i = 0; i < js_modules.length; i++) {\n      const url = js_modules[i];\n      const escaped = encodeURI(url)\n      if (skip.indexOf(escaped) !== -1 || existing_scripts.indexOf(escaped) !== -1) {\n        if (!window.requirejs) {\n          on_load();\n        }\n        continue;\n      }\n      var element = document.createElement('script');\n      element.onload = on_load;\n      element.onerror = on_error;\n      element.async = false;\n      element.src = url;\n      element.type = \"module\";\n      console.debug(\"Bokeh: injecting script tag for BokehJS library: \", url);\n      document.head.appendChild(element);\n    }\n    for (const name in js_exports) {\n      const url = js_exports[name];\n      const escaped = encodeURI(url)\n      if (skip.indexOf(escaped) >= 0 || root[name] != null) {\n        if (!window.requirejs) {\n          on_load();\n        }\n        continue;\n      }\n      var element = document.createElement('script');\n      element.onerror = on_error;\n      element.async = false;\n      element.type = \"module\";\n      console.debug(\"Bokeh: injecting script tag for BokehJS library: \", url);\n      element.textContent = `\n      import ${name} from \"${url}\"\n      window.${name} = ${name}\n      window._bokeh_on_load()\n      `\n      document.head.appendChild(element);\n    }\n    if (!js_urls.length && !js_modules.length) {\n      on_load()\n    }\n  };\n\n  function inject_raw_css(css) {\n    const element = document.createElement(\"style\");\n    element.appendChild(document.createTextNode(css));\n    document.body.appendChild(element);\n  }\n\n  const js_urls = [\"https://cdn.holoviz.org/panel/1.5.5/dist/bundled/reactiveesm/es-module-shims@^1.10.0/dist/es-module-shims.min.js\", \"https://cdn.bokeh.org/bokeh/release/bokeh-3.6.2.min.js\", \"https://cdn.bokeh.org/bokeh/release/bokeh-gl-3.6.2.min.js\", \"https://cdn.bokeh.org/bokeh/release/bokeh-widgets-3.6.2.min.js\", \"https://cdn.bokeh.org/bokeh/release/bokeh-tables-3.6.2.min.js\", \"https://cdn.holoviz.org/panel/1.5.5/dist/panel.min.js\", \"https://cdn.jsdelivr.net/npm/@holoviz/geoviews@1.14.0/dist/geoviews.min.js\"];\n  const js_modules = [];\n  const js_exports = {};\n  const css_urls = [];\n  const inline_js = [    function(Bokeh) {\n      Bokeh.set_log_level(\"info\");\n    },\nfunction(Bokeh) {} // ensure no trailing comma for IE\n  ];\n\n  function run_inline_js() {\n    if ((root.Bokeh !== undefined) || (force === true)) {\n      for (let i = 0; i < inline_js.length; i++) {\n        try {\n          inline_js[i].call(root, root.Bokeh);\n        } catch(e) {\n          if (!reloading) {\n            throw e;\n          }\n        }\n      }\n      // Cache old bokeh versions\n      if (Bokeh != undefined && !reloading) {\n        var NewBokeh = root.Bokeh;\n        if (Bokeh.versions === undefined) {\n          Bokeh.versions = new Map();\n        }\n        if (NewBokeh.version !== Bokeh.version) {\n          Bokeh.versions.set(NewBokeh.version, NewBokeh)\n        }\n        root.Bokeh = Bokeh;\n      }\n    } else if (Date.now() < root._bokeh_timeout) {\n      setTimeout(run_inline_js, 100);\n    } else if (!root._bokeh_failed_load) {\n      console.log(\"Bokeh: BokehJS failed to load within specified timeout.\");\n      root._bokeh_failed_load = true;\n    }\n    root._bokeh_is_initializing = false\n  }\n\n  function load_or_wait() {\n    // Implement a backoff loop that tries to ensure we do not load multiple\n    // versions of Bokeh and its dependencies at the same time.\n    // In recent versions we use the root._bokeh_is_initializing flag\n    // to determine whether there is an ongoing attempt to initialize\n    // bokeh, however for backward compatibility we also try to ensure\n    // that we do not start loading a newer (Panel>=1.0 and Bokeh>3) version\n    // before older versions are fully initialized.\n    if (root._bokeh_is_initializing && Date.now() > root._bokeh_timeout) {\n      // If the timeout and bokeh was not successfully loaded we reset\n      // everything and try loading again\n      root._bokeh_timeout = Date.now() + 5000;\n      root._bokeh_is_initializing = false;\n      root._bokeh_onload_callbacks = undefined;\n      root._bokeh_is_loading = 0\n      console.log(\"Bokeh: BokehJS was loaded multiple times but one version failed to initialize.\");\n      load_or_wait();\n    } else if (root._bokeh_is_initializing || (typeof root._bokeh_is_initializing === \"undefined\" && root._bokeh_onload_callbacks !== undefined)) {\n      setTimeout(load_or_wait, 100);\n    } else {\n      root._bokeh_is_initializing = true\n      root._bokeh_onload_callbacks = []\n      const bokeh_loaded = root.Bokeh != null && (root.Bokeh.version === py_version || (root.Bokeh.versions !== undefined && root.Bokeh.versions.has(py_version)));\n      if (!reloading && !bokeh_loaded) {\n        if (root.Bokeh) {\n          root.Bokeh = undefined;\n        }\n        console.debug(\"Bokeh: BokehJS not loaded, scheduling load and callback at\", now());\n      }\n      load_libs(css_urls, js_urls, js_modules, js_exports, function() {\n        console.debug(\"Bokeh: BokehJS plotting callback run at\", now());\n        run_inline_js();\n      });\n    }\n  }\n  // Give older versions of the autoload script a head-start to ensure\n  // they initialize before we start loading newer version.\n  setTimeout(load_or_wait, 100)\n}(window));",
      "application/vnd.holoviews_load.v0+json": ""
     },
     "metadata": {},
     "output_type": "display_data"
    },
    {
     "data": {
      "application/javascript": "\nif ((window.PyViz === undefined) || (window.PyViz instanceof HTMLElement)) {\n  window.PyViz = {comms: {}, comm_status:{}, kernels:{}, receivers: {}, plot_index: []}\n}\n\n\n    function JupyterCommManager() {\n    }\n\n    JupyterCommManager.prototype.register_target = function(plot_id, comm_id, msg_handler) {\n      if (window.comm_manager || ((window.Jupyter !== undefined) && (Jupyter.notebook.kernel != null))) {\n        var comm_manager = window.comm_manager || Jupyter.notebook.kernel.comm_manager;\n        comm_manager.register_target(comm_id, function(comm) {\n          comm.on_msg(msg_handler);\n        });\n      } else if ((plot_id in window.PyViz.kernels) && (window.PyViz.kernels[plot_id])) {\n        window.PyViz.kernels[plot_id].registerCommTarget(comm_id, function(comm) {\n          comm.onMsg = msg_handler;\n        });\n      } else if (typeof google != 'undefined' && google.colab.kernel != null) {\n        google.colab.kernel.comms.registerTarget(comm_id, (comm) => {\n          var messages = comm.messages[Symbol.asyncIterator]();\n          function processIteratorResult(result) {\n            var message = result.value;\n            console.log(message)\n            var content = {data: message.data, comm_id};\n            var buffers = []\n            for (var buffer of message.buffers || []) {\n              buffers.push(new DataView(buffer))\n            }\n            var metadata = message.metadata || {};\n            var msg = {content, buffers, metadata}\n            msg_handler(msg);\n            return messages.next().then(processIteratorResult);\n          }\n          return messages.next().then(processIteratorResult);\n        })\n      }\n    }\n\n    JupyterCommManager.prototype.get_client_comm = function(plot_id, comm_id, msg_handler) {\n      if (comm_id in window.PyViz.comms) {\n        return window.PyViz.comms[comm_id];\n      } else if (window.comm_manager || ((window.Jupyter !== undefined) && (Jupyter.notebook.kernel != null))) {\n        var comm_manager = window.comm_manager || Jupyter.notebook.kernel.comm_manager;\n        var comm = comm_manager.new_comm(comm_id, {}, {}, {}, comm_id);\n        if (msg_handler) {\n          comm.on_msg(msg_handler);\n        }\n      } else if ((plot_id in window.PyViz.kernels) && (window.PyViz.kernels[plot_id])) {\n        var comm = window.PyViz.kernels[plot_id].connectToComm(comm_id);\n        comm.open();\n        if (msg_handler) {\n          comm.onMsg = msg_handler;\n        }\n      } else if (typeof google != 'undefined' && google.colab.kernel != null) {\n        var comm_promise = google.colab.kernel.comms.open(comm_id)\n        comm_promise.then((comm) => {\n          window.PyViz.comms[comm_id] = comm;\n          if (msg_handler) {\n            var messages = comm.messages[Symbol.asyncIterator]();\n            function processIteratorResult(result) {\n              var message = result.value;\n              var content = {data: message.data};\n              var metadata = message.metadata || {comm_id};\n              var msg = {content, metadata}\n              msg_handler(msg);\n              return messages.next().then(processIteratorResult);\n            }\n            return messages.next().then(processIteratorResult);\n          }\n        }) \n        var sendClosure = (data, metadata, buffers, disposeOnDone) => {\n          return comm_promise.then((comm) => {\n            comm.send(data, metadata, buffers, disposeOnDone);\n          });\n        };\n        var comm = {\n          send: sendClosure\n        };\n      }\n      window.PyViz.comms[comm_id] = comm;\n      return comm;\n    }\n    window.PyViz.comm_manager = new JupyterCommManager();\n    \n\n\nvar JS_MIME_TYPE = 'application/javascript';\nvar HTML_MIME_TYPE = 'text/html';\nvar EXEC_MIME_TYPE = 'application/vnd.holoviews_exec.v0+json';\nvar CLASS_NAME = 'output';\n\n/**\n * Render data to the DOM node\n */\nfunction render(props, node) {\n  var div = document.createElement(\"div\");\n  var script = document.createElement(\"script\");\n  node.appendChild(div);\n  node.appendChild(script);\n}\n\n/**\n * Handle when a new output is added\n */\nfunction handle_add_output(event, handle) {\n  var output_area = handle.output_area;\n  var output = handle.output;\n  if ((output.data == undefined) || (!output.data.hasOwnProperty(EXEC_MIME_TYPE))) {\n    return\n  }\n  var id = output.metadata[EXEC_MIME_TYPE][\"id\"];\n  var toinsert = output_area.element.find(\".\" + CLASS_NAME.split(' ')[0]);\n  if (id !== undefined) {\n    var nchildren = toinsert.length;\n    var html_node = toinsert[nchildren-1].children[0];\n    html_node.innerHTML = output.data[HTML_MIME_TYPE];\n    var scripts = [];\n    var nodelist = html_node.querySelectorAll(\"script\");\n    for (var i in nodelist) {\n      if (nodelist.hasOwnProperty(i)) {\n        scripts.push(nodelist[i])\n      }\n    }\n\n    scripts.forEach( function (oldScript) {\n      var newScript = document.createElement(\"script\");\n      var attrs = [];\n      var nodemap = oldScript.attributes;\n      for (var j in nodemap) {\n        if (nodemap.hasOwnProperty(j)) {\n          attrs.push(nodemap[j])\n        }\n      }\n      attrs.forEach(function(attr) { newScript.setAttribute(attr.name, attr.value) });\n      newScript.appendChild(document.createTextNode(oldScript.innerHTML));\n      oldScript.parentNode.replaceChild(newScript, oldScript);\n    });\n    if (JS_MIME_TYPE in output.data) {\n      toinsert[nchildren-1].children[1].textContent = output.data[JS_MIME_TYPE];\n    }\n    output_area._hv_plot_id = id;\n    if ((window.Bokeh !== undefined) && (id in Bokeh.index)) {\n      window.PyViz.plot_index[id] = Bokeh.index[id];\n    } else {\n      window.PyViz.plot_index[id] = null;\n    }\n  } else if (output.metadata[EXEC_MIME_TYPE][\"server_id\"] !== undefined) {\n    var bk_div = document.createElement(\"div\");\n    bk_div.innerHTML = output.data[HTML_MIME_TYPE];\n    var script_attrs = bk_div.children[0].attributes;\n    for (var i = 0; i < script_attrs.length; i++) {\n      toinsert[toinsert.length - 1].childNodes[1].setAttribute(script_attrs[i].name, script_attrs[i].value);\n    }\n    // store reference to server id on output_area\n    output_area._bokeh_server_id = output.metadata[EXEC_MIME_TYPE][\"server_id\"];\n  }\n}\n\n/**\n * Handle when an output is cleared or removed\n */\nfunction handle_clear_output(event, handle) {\n  var id = handle.cell.output_area._hv_plot_id;\n  var server_id = handle.cell.output_area._bokeh_server_id;\n  if (((id === undefined) || !(id in PyViz.plot_index)) && (server_id !== undefined)) { return; }\n  var comm = window.PyViz.comm_manager.get_client_comm(\"hv-extension-comm\", \"hv-extension-comm\", function () {});\n  if (server_id !== null) {\n    comm.send({event_type: 'server_delete', 'id': server_id});\n    return;\n  } else if (comm !== null) {\n    comm.send({event_type: 'delete', 'id': id});\n  }\n  delete PyViz.plot_index[id];\n  if ((window.Bokeh !== undefined) & (id in window.Bokeh.index)) {\n    var doc = window.Bokeh.index[id].model.document\n    doc.clear();\n    const i = window.Bokeh.documents.indexOf(doc);\n    if (i > -1) {\n      window.Bokeh.documents.splice(i, 1);\n    }\n  }\n}\n\n/**\n * Handle kernel restart event\n */\nfunction handle_kernel_cleanup(event, handle) {\n  delete PyViz.comms[\"hv-extension-comm\"];\n  window.PyViz.plot_index = {}\n}\n\n/**\n * Handle update_display_data messages\n */\nfunction handle_update_output(event, handle) {\n  handle_clear_output(event, {cell: {output_area: handle.output_area}})\n  handle_add_output(event, handle)\n}\n\nfunction register_renderer(events, OutputArea) {\n  function append_mime(data, metadata, element) {\n    // create a DOM node to render to\n    var toinsert = this.create_output_subarea(\n    metadata,\n    CLASS_NAME,\n    EXEC_MIME_TYPE\n    );\n    this.keyboard_manager.register_events(toinsert);\n    // Render to node\n    var props = {data: data, metadata: metadata[EXEC_MIME_TYPE]};\n    render(props, toinsert[0]);\n    element.append(toinsert);\n    return toinsert\n  }\n\n  events.on('output_added.OutputArea', handle_add_output);\n  events.on('output_updated.OutputArea', handle_update_output);\n  events.on('clear_output.CodeCell', handle_clear_output);\n  events.on('delete.Cell', handle_clear_output);\n  events.on('kernel_ready.Kernel', handle_kernel_cleanup);\n\n  OutputArea.prototype.register_mime_type(EXEC_MIME_TYPE, append_mime, {\n    safe: true,\n    index: 0\n  });\n}\n\nif (window.Jupyter !== undefined) {\n  try {\n    var events = require('base/js/events');\n    var OutputArea = require('notebook/js/outputarea').OutputArea;\n    if (OutputArea.prototype.mime_types().indexOf(EXEC_MIME_TYPE) == -1) {\n      register_renderer(events, OutputArea);\n    }\n  } catch(err) {\n  }\n}\n",
      "application/vnd.holoviews_load.v0+json": ""
     },
     "metadata": {},
     "output_type": "display_data"
    },
    {
     "data": {
      "application/vnd.holoviews_exec.v0+json": "",
      "text/html": [
       "<div id='c9e71d28-ee9d-478d-be29-d005020e4c5c'>\n",
       "  <div id=\"d35d96b4-3676-4d97-b928-5b70717c3daf\" data-root-id=\"c9e71d28-ee9d-478d-be29-d005020e4c5c\" style=\"display: contents;\"></div>\n",
       "</div>\n",
       "<script type=\"application/javascript\">(function(root) {\n",
       "  var docs_json = {\"5942305d-a1a7-4a9e-bf80-f3d12383a87a\":{\"version\":\"3.6.2\",\"title\":\"Bokeh Application\",\"roots\":[{\"type\":\"object\",\"name\":\"panel.models.browser.BrowserInfo\",\"id\":\"c9e71d28-ee9d-478d-be29-d005020e4c5c\"},{\"type\":\"object\",\"name\":\"panel.models.comm_manager.CommManager\",\"id\":\"a11ac461-0aec-4121-bb32-8fb5c9c7e400\",\"attributes\":{\"plot_id\":\"c9e71d28-ee9d-478d-be29-d005020e4c5c\",\"comm_id\":\"793273b265874d07906c6c6b301b6854\",\"client_comm_id\":\"dba2c2492ecd43c586993f657b647e07\"}}],\"defs\":[{\"type\":\"model\",\"name\":\"ReactiveHTML1\"},{\"type\":\"model\",\"name\":\"FlexBox1\",\"properties\":[{\"name\":\"align_content\",\"kind\":\"Any\",\"default\":\"flex-start\"},{\"name\":\"align_items\",\"kind\":\"Any\",\"default\":\"flex-start\"},{\"name\":\"flex_direction\",\"kind\":\"Any\",\"default\":\"row\"},{\"name\":\"flex_wrap\",\"kind\":\"Any\",\"default\":\"wrap\"},{\"name\":\"gap\",\"kind\":\"Any\",\"default\":\"\"},{\"name\":\"justify_content\",\"kind\":\"Any\",\"default\":\"flex-start\"}]},{\"type\":\"model\",\"name\":\"FloatPanel1\",\"properties\":[{\"name\":\"config\",\"kind\":\"Any\",\"default\":{\"type\":\"map\"}},{\"name\":\"contained\",\"kind\":\"Any\",\"default\":true},{\"name\":\"position\",\"kind\":\"Any\",\"default\":\"right-top\"},{\"name\":\"offsetx\",\"kind\":\"Any\",\"default\":null},{\"name\":\"offsety\",\"kind\":\"Any\",\"default\":null},{\"name\":\"theme\",\"kind\":\"Any\",\"default\":\"primary\"},{\"name\":\"status\",\"kind\":\"Any\",\"default\":\"normalized\"}]},{\"type\":\"model\",\"name\":\"GridStack1\",\"properties\":[{\"name\":\"mode\",\"kind\":\"Any\",\"default\":\"warn\"},{\"name\":\"ncols\",\"kind\":\"Any\",\"default\":null},{\"name\":\"nrows\",\"kind\":\"Any\",\"default\":null},{\"name\":\"allow_resize\",\"kind\":\"Any\",\"default\":true},{\"name\":\"allow_drag\",\"kind\":\"Any\",\"default\":true},{\"name\":\"state\",\"kind\":\"Any\",\"default\":[]}]},{\"type\":\"model\",\"name\":\"drag1\",\"properties\":[{\"name\":\"slider_width\",\"kind\":\"Any\",\"default\":5},{\"name\":\"slider_color\",\"kind\":\"Any\",\"default\":\"black\"},{\"name\":\"value\",\"kind\":\"Any\",\"default\":50}]},{\"type\":\"model\",\"name\":\"click1\",\"properties\":[{\"name\":\"terminal_output\",\"kind\":\"Any\",\"default\":\"\"},{\"name\":\"debug_name\",\"kind\":\"Any\",\"default\":\"\"},{\"name\":\"clears\",\"kind\":\"Any\",\"default\":0}]},{\"type\":\"model\",\"name\":\"FastWrapper1\",\"properties\":[{\"name\":\"object\",\"kind\":\"Any\",\"default\":null},{\"name\":\"style\",\"kind\":\"Any\",\"default\":null}]},{\"type\":\"model\",\"name\":\"NotificationAreaBase1\",\"properties\":[{\"name\":\"js_events\",\"kind\":\"Any\",\"default\":{\"type\":\"map\"}},{\"name\":\"position\",\"kind\":\"Any\",\"default\":\"bottom-right\"},{\"name\":\"_clear\",\"kind\":\"Any\",\"default\":0}]},{\"type\":\"model\",\"name\":\"NotificationArea1\",\"properties\":[{\"name\":\"js_events\",\"kind\":\"Any\",\"default\":{\"type\":\"map\"}},{\"name\":\"notifications\",\"kind\":\"Any\",\"default\":[]},{\"name\":\"position\",\"kind\":\"Any\",\"default\":\"bottom-right\"},{\"name\":\"_clear\",\"kind\":\"Any\",\"default\":0},{\"name\":\"types\",\"kind\":\"Any\",\"default\":[{\"type\":\"map\",\"entries\":[[\"type\",\"warning\"],[\"background\",\"#ffc107\"],[\"icon\",{\"type\":\"map\",\"entries\":[[\"className\",\"fas fa-exclamation-triangle\"],[\"tagName\",\"i\"],[\"color\",\"white\"]]}]]},{\"type\":\"map\",\"entries\":[[\"type\",\"info\"],[\"background\",\"#007bff\"],[\"icon\",{\"type\":\"map\",\"entries\":[[\"className\",\"fas fa-info-circle\"],[\"tagName\",\"i\"],[\"color\",\"white\"]]}]]}]}]},{\"type\":\"model\",\"name\":\"Notification\",\"properties\":[{\"name\":\"background\",\"kind\":\"Any\",\"default\":null},{\"name\":\"duration\",\"kind\":\"Any\",\"default\":3000},{\"name\":\"icon\",\"kind\":\"Any\",\"default\":null},{\"name\":\"message\",\"kind\":\"Any\",\"default\":\"\"},{\"name\":\"notification_type\",\"kind\":\"Any\",\"default\":null},{\"name\":\"_rendered\",\"kind\":\"Any\",\"default\":false},{\"name\":\"_destroyed\",\"kind\":\"Any\",\"default\":false}]},{\"type\":\"model\",\"name\":\"TemplateActions1\",\"properties\":[{\"name\":\"open_modal\",\"kind\":\"Any\",\"default\":0},{\"name\":\"close_modal\",\"kind\":\"Any\",\"default\":0}]},{\"type\":\"model\",\"name\":\"BootstrapTemplateActions1\",\"properties\":[{\"name\":\"open_modal\",\"kind\":\"Any\",\"default\":0},{\"name\":\"close_modal\",\"kind\":\"Any\",\"default\":0}]},{\"type\":\"model\",\"name\":\"TemplateEditor1\",\"properties\":[{\"name\":\"layout\",\"kind\":\"Any\",\"default\":[]}]},{\"type\":\"model\",\"name\":\"MaterialTemplateActions1\",\"properties\":[{\"name\":\"open_modal\",\"kind\":\"Any\",\"default\":0},{\"name\":\"close_modal\",\"kind\":\"Any\",\"default\":0}]},{\"type\":\"model\",\"name\":\"ReactiveESM1\",\"properties\":[{\"name\":\"esm_constants\",\"kind\":\"Any\",\"default\":{\"type\":\"map\"}}]},{\"type\":\"model\",\"name\":\"JSComponent1\",\"properties\":[{\"name\":\"esm_constants\",\"kind\":\"Any\",\"default\":{\"type\":\"map\"}}]},{\"type\":\"model\",\"name\":\"ReactComponent1\",\"properties\":[{\"name\":\"esm_constants\",\"kind\":\"Any\",\"default\":{\"type\":\"map\"}}]},{\"type\":\"model\",\"name\":\"AnyWidgetComponent1\",\"properties\":[{\"name\":\"esm_constants\",\"kind\":\"Any\",\"default\":{\"type\":\"map\"}}]},{\"type\":\"model\",\"name\":\"request_value1\",\"properties\":[{\"name\":\"fill\",\"kind\":\"Any\",\"default\":\"none\"},{\"name\":\"_synced\",\"kind\":\"Any\",\"default\":null},{\"name\":\"_request_sync\",\"kind\":\"Any\",\"default\":0}]}]}};\n",
       "  var render_items = [{\"docid\":\"5942305d-a1a7-4a9e-bf80-f3d12383a87a\",\"roots\":{\"c9e71d28-ee9d-478d-be29-d005020e4c5c\":\"d35d96b4-3676-4d97-b928-5b70717c3daf\"},\"root_ids\":[\"c9e71d28-ee9d-478d-be29-d005020e4c5c\"]}];\n",
       "  var docs = Object.values(docs_json)\n",
       "  if (!docs) {\n",
       "    return\n",
       "  }\n",
       "  const py_version = docs[0].version.replace('rc', '-rc.').replace('.dev', '-dev.')\n",
       "  async function embed_document(root) {\n",
       "    var Bokeh = get_bokeh(root)\n",
       "    await Bokeh.embed.embed_items_notebook(docs_json, render_items);\n",
       "    for (const render_item of render_items) {\n",
       "      for (const root_id of render_item.root_ids) {\n",
       "\tconst id_el = document.getElementById(root_id)\n",
       "\tif (id_el.children.length && id_el.children[0].hasAttribute('data-root-id')) {\n",
       "\t  const root_el = id_el.children[0]\n",
       "\t  root_el.id = root_el.id + '-rendered'\n",
       "\t  for (const child of root_el.children) {\n",
       "            // Ensure JupyterLab does not capture keyboard shortcuts\n",
       "            // see: https://jupyterlab.readthedocs.io/en/4.1.x/extension/notebook.html#keyboard-interaction-model\n",
       "\t    child.setAttribute('data-lm-suppress-shortcuts', 'true')\n",
       "\t  }\n",
       "\t}\n",
       "      }\n",
       "    }\n",
       "  }\n",
       "  function get_bokeh(root) {\n",
       "    if (root.Bokeh === undefined) {\n",
       "      return null\n",
       "    } else if (root.Bokeh.version !== py_version) {\n",
       "      if (root.Bokeh.versions === undefined || !root.Bokeh.versions.has(py_version)) {\n",
       "\treturn null\n",
       "      }\n",
       "      return root.Bokeh.versions.get(py_version);\n",
       "    } else if (root.Bokeh.version === py_version) {\n",
       "      return root.Bokeh\n",
       "    }\n",
       "    return null\n",
       "  }\n",
       "  function is_loaded(root) {\n",
       "    var Bokeh = get_bokeh(root)\n",
       "    return (Bokeh != null && Bokeh.Panel !== undefined)\n",
       "  }\n",
       "  if (is_loaded(root)) {\n",
       "    embed_document(root);\n",
       "  } else {\n",
       "    var attempts = 0;\n",
       "    var timer = setInterval(function(root) {\n",
       "      if (is_loaded(root)) {\n",
       "        clearInterval(timer);\n",
       "        embed_document(root);\n",
       "      } else if (document.readyState == \"complete\") {\n",
       "        attempts++;\n",
       "        if (attempts > 200) {\n",
       "          clearInterval(timer);\n",
       "\t  var Bokeh = get_bokeh(root)\n",
       "\t  if (Bokeh == null || Bokeh.Panel == null) {\n",
       "            console.warn(\"Panel: ERROR: Unable to run Panel code because Bokeh or Panel library is missing\");\n",
       "\t  } else {\n",
       "\t    console.warn(\"Panel: WARNING: Attempting to render but not all required libraries could be resolved.\")\n",
       "\t    embed_document(root)\n",
       "\t  }\n",
       "        }\n",
       "      }\n",
       "    }, 25, root)\n",
       "  }\n",
       "})(window);</script>"
      ]
     },
     "metadata": {
      "application/vnd.holoviews_exec.v0+json": {
       "id": "c9e71d28-ee9d-478d-be29-d005020e4c5c"
      }
     },
     "output_type": "display_data"
    },
    {
     "data": {
      "text/html": [
       "    <style>\n",
       "        .bk-notebook-logo {\n",
       "            display: block;\n",
       "            width: 20px;\n",
       "            height: 20px;\n",
       "            background-image: url(data:image/png;base64,iVBORw0KGgoAAAANSUhEUgAAABQAAAAUCAYAAACNiR0NAAAABHNCSVQICAgIfAhkiAAAAAlwSFlzAAALEgAACxIB0t1+/AAAABx0RVh0U29mdHdhcmUAQWRvYmUgRmlyZXdvcmtzIENTNui8sowAAAOkSURBVDiNjZRtaJVlGMd/1/08zzln5zjP1LWcU9N0NkN8m2CYjpgQYQXqSs0I84OLIC0hkEKoPtiH3gmKoiJDU7QpLgoLjLIQCpEsNJ1vqUOdO7ppbuec5+V+rj4ctwzd8IIbbi6u+8f1539dt3A78eXC7QizUF7gyV1fD1Yqg4JWz84yffhm0qkFqBogB9rM8tZdtwVsPUhWhGcFJngGeWrPzHm5oaMmkfEg1usvLFyc8jLRqDOMru7AyC8saQr7GG7f5fvDeH7Ej8CM66nIF+8yngt6HWaKh7k49Soy9nXurCi1o3qUbS3zWfrYeQDTB/Qj6kX6Ybhw4B+bOYoLKCC9H3Nu/leUTZ1JdRWkkn2ldcCamzrcf47KKXdAJllSlxAOkRgyHsGC/zRday5Qld9DyoM4/q/rUoy/CXh3jzOu3bHUVZeU+DEn8FInkPBFlu3+nW3Nw0mk6vCDiWg8CeJaxEwuHS3+z5RgY+YBR6V1Z1nxSOfoaPa4LASWxxdNp+VWTk7+4vzaou8v8PN+xo+KY2xsw6une2frhw05CTYOmQvsEhjhWjn0bmXPjpE1+kplmmkP3suftwTubK9Vq22qKmrBhpY4jvd5afdRA3wGjFAgcnTK2s4hY0/GPNIb0nErGMCRxWOOX64Z8RAC4oCXdklmEvcL8o0BfkNK4lUg9HTl+oPlQxdNo3Mg4Nv175e/1LDGzZen30MEjRUtmXSfiTVu1kK8W4txyV6BMKlbgk3lMwYCiusNy9fVfvvwMxv8Ynl6vxoByANLTWplvuj/nF9m2+PDtt1eiHPBr1oIfhCChQMBw6Aw0UulqTKZdfVvfG7VcfIqLG9bcldL/+pdWTLxLUy8Qq38heUIjh4XlzZxzQm19lLFlr8vdQ97rjZVOLf8nclzckbcD4wxXMidpX30sFd37Fv/GtwwhzhxGVAprjbg0gCAEeIgwCZyTV2Z1REEW8O4py0wsjeloKoMr6iCY6dP92H6Vw/oTyICIthibxjm/DfN9lVz8IqtqKYLUXfoKVMVQVVJOElGjrnnUt9T9wbgp8AyYKaGlqingHZU/uG2NTZSVqwHQTWkx9hxjkpWDaCg6Ckj5qebgBVbT3V3NNXMSiWSDdGV3hrtzla7J+duwPOToIg42ChPQOQjspnSlp1V+Gjdged7+8UN5CRAV7a5EdFNwCjEaBR27b3W890TE7g24NAP/mMDXRWrGoFPQI9ls/MWO2dWFAar/xcOIImbbpA3zgAAAABJRU5ErkJggg==);\n",
       "        }\n",
       "    </style>\n",
       "    <div>\n",
       "        <a href=\"https://bokeh.org\" target=\"_blank\" class=\"bk-notebook-logo\"></a>\n",
       "        <span id=\"db58da51-e21e-4965-b180-ca4047813ece\">Loading BokehJS ...</span>\n",
       "    </div>\n"
      ]
     },
     "metadata": {},
     "output_type": "display_data"
    },
    {
     "data": {
      "application/javascript": "'use strict';\n(function(root) {\n  function now() {\n    return new Date();\n  }\n\n  const force = true;\n\n  if (typeof root._bokeh_onload_callbacks === \"undefined\" || force === true) {\n    root._bokeh_onload_callbacks = [];\n    root._bokeh_is_loading = undefined;\n  }\n\nconst JS_MIME_TYPE = 'application/javascript';\n  const HTML_MIME_TYPE = 'text/html';\n  const EXEC_MIME_TYPE = 'application/vnd.bokehjs_exec.v0+json';\n  const CLASS_NAME = 'output_bokeh rendered_html';\n\n  /**\n   * Render data to the DOM node\n   */\n  function render(props, node) {\n    const script = document.createElement(\"script\");\n    node.appendChild(script);\n  }\n\n  /**\n   * Handle when an output is cleared or removed\n   */\n  function handleClearOutput(event, handle) {\n    function drop(id) {\n      const view = Bokeh.index.get_by_id(id)\n      if (view != null) {\n        view.model.document.clear()\n        Bokeh.index.delete(view)\n      }\n    }\n\n    const cell = handle.cell;\n\n    const id = cell.output_area._bokeh_element_id;\n    const server_id = cell.output_area._bokeh_server_id;\n\n    // Clean up Bokeh references\n    if (id != null) {\n      drop(id)\n    }\n\n    if (server_id !== undefined) {\n      // Clean up Bokeh references\n      const cmd_clean = \"from bokeh.io.state import curstate; print(curstate().uuid_to_server['\" + server_id + \"'].get_sessions()[0].document.roots[0]._id)\";\n      cell.notebook.kernel.execute(cmd_clean, {\n        iopub: {\n          output: function(msg) {\n            const id = msg.content.text.trim()\n            drop(id)\n          }\n        }\n      });\n      // Destroy server and session\n      const cmd_destroy = \"import bokeh.io.notebook as ion; ion.destroy_server('\" + server_id + \"')\";\n      cell.notebook.kernel.execute(cmd_destroy);\n    }\n  }\n\n  /**\n   * Handle when a new output is added\n   */\n  function handleAddOutput(event, handle) {\n    const output_area = handle.output_area;\n    const output = handle.output;\n\n    // limit handleAddOutput to display_data with EXEC_MIME_TYPE content only\n    if ((output.output_type != \"display_data\") || (!Object.prototype.hasOwnProperty.call(output.data, EXEC_MIME_TYPE))) {\n      return\n    }\n\n    const toinsert = output_area.element.find(\".\" + CLASS_NAME.split(' ')[0]);\n\n    if (output.metadata[EXEC_MIME_TYPE][\"id\"] !== undefined) {\n      toinsert[toinsert.length - 1].firstChild.textContent = output.data[JS_MIME_TYPE];\n      // store reference to embed id on output_area\n      output_area._bokeh_element_id = output.metadata[EXEC_MIME_TYPE][\"id\"];\n    }\n    if (output.metadata[EXEC_MIME_TYPE][\"server_id\"] !== undefined) {\n      const bk_div = document.createElement(\"div\");\n      bk_div.innerHTML = output.data[HTML_MIME_TYPE];\n      const script_attrs = bk_div.children[0].attributes;\n      for (let i = 0; i < script_attrs.length; i++) {\n        toinsert[toinsert.length - 1].firstChild.setAttribute(script_attrs[i].name, script_attrs[i].value);\n        toinsert[toinsert.length - 1].firstChild.textContent = bk_div.children[0].textContent\n      }\n      // store reference to server id on output_area\n      output_area._bokeh_server_id = output.metadata[EXEC_MIME_TYPE][\"server_id\"];\n    }\n  }\n\n  function register_renderer(events, OutputArea) {\n\n    function append_mime(data, metadata, element) {\n      // create a DOM node to render to\n      const toinsert = this.create_output_subarea(\n        metadata,\n        CLASS_NAME,\n        EXEC_MIME_TYPE\n      );\n      this.keyboard_manager.register_events(toinsert);\n      // Render to node\n      const props = {data: data, metadata: metadata[EXEC_MIME_TYPE]};\n      render(props, toinsert[toinsert.length - 1]);\n      element.append(toinsert);\n      return toinsert\n    }\n\n    /* Handle when an output is cleared or removed */\n    events.on('clear_output.CodeCell', handleClearOutput);\n    events.on('delete.Cell', handleClearOutput);\n\n    /* Handle when a new output is added */\n    events.on('output_added.OutputArea', handleAddOutput);\n\n    /**\n     * Register the mime type and append_mime function with output_area\n     */\n    OutputArea.prototype.register_mime_type(EXEC_MIME_TYPE, append_mime, {\n      /* Is output safe? */\n      safe: true,\n      /* Index of renderer in `output_area.display_order` */\n      index: 0\n    });\n  }\n\n  // register the mime type if in Jupyter Notebook environment and previously unregistered\n  if (root.Jupyter !== undefined) {\n    const events = require('base/js/events');\n    const OutputArea = require('notebook/js/outputarea').OutputArea;\n\n    if (OutputArea.prototype.mime_types().indexOf(EXEC_MIME_TYPE) == -1) {\n      register_renderer(events, OutputArea);\n    }\n  }\n  if (typeof (root._bokeh_timeout) === \"undefined\" || force === true) {\n    root._bokeh_timeout = Date.now() + 5000;\n    root._bokeh_failed_load = false;\n  }\n\n  const NB_LOAD_WARNING = {'data': {'text/html':\n     \"<div style='background-color: #fdd'>\\n\"+\n     \"<p>\\n\"+\n     \"BokehJS does not appear to have successfully loaded. If loading BokehJS from CDN, this \\n\"+\n     \"may be due to a slow or bad network connection. Possible fixes:\\n\"+\n     \"</p>\\n\"+\n     \"<ul>\\n\"+\n     \"<li>re-rerun `output_notebook()` to attempt to load from CDN again, or</li>\\n\"+\n     \"<li>use INLINE resources instead, as so:</li>\\n\"+\n     \"</ul>\\n\"+\n     \"<code>\\n\"+\n     \"from bokeh.resources import INLINE\\n\"+\n     \"output_notebook(resources=INLINE)\\n\"+\n     \"</code>\\n\"+\n     \"</div>\"}};\n\n  function display_loaded(error = null) {\n    const el = document.getElementById(\"db58da51-e21e-4965-b180-ca4047813ece\");\n    if (el != null) {\n      const html = (() => {\n        if (typeof root.Bokeh === \"undefined\") {\n          if (error == null) {\n            return \"BokehJS is loading ...\";\n          } else {\n            return \"BokehJS failed to load.\";\n          }\n        } else {\n          const prefix = `BokehJS ${root.Bokeh.version}`;\n          if (error == null) {\n            return `${prefix} successfully loaded.`;\n          } else {\n            return `${prefix} <b>encountered errors</b> while loading and may not function as expected.`;\n          }\n        }\n      })();\n      el.innerHTML = html;\n\n      if (error != null) {\n        const wrapper = document.createElement(\"div\");\n        wrapper.style.overflow = \"auto\";\n        wrapper.style.height = \"5em\";\n        wrapper.style.resize = \"vertical\";\n        const content = document.createElement(\"div\");\n        content.style.fontFamily = \"monospace\";\n        content.style.whiteSpace = \"pre-wrap\";\n        content.style.backgroundColor = \"rgb(255, 221, 221)\";\n        content.textContent = error.stack ?? error.toString();\n        wrapper.append(content);\n        el.append(wrapper);\n      }\n    } else if (Date.now() < root._bokeh_timeout) {\n      setTimeout(() => display_loaded(error), 100);\n    }\n  }\n\n  function run_callbacks() {\n    try {\n      root._bokeh_onload_callbacks.forEach(function(callback) {\n        if (callback != null)\n          callback();\n      });\n    } finally {\n      delete root._bokeh_onload_callbacks\n    }\n    console.debug(\"Bokeh: all callbacks have finished\");\n  }\n\n  function load_libs(css_urls, js_urls, callback) {\n    if (css_urls == null) css_urls = [];\n    if (js_urls == null) js_urls = [];\n\n    root._bokeh_onload_callbacks.push(callback);\n    if (root._bokeh_is_loading > 0) {\n      console.debug(\"Bokeh: BokehJS is being loaded, scheduling callback at\", now());\n      return null;\n    }\n    if (js_urls == null || js_urls.length === 0) {\n      run_callbacks();\n      return null;\n    }\n    console.debug(\"Bokeh: BokehJS not loaded, scheduling load and callback at\", now());\n    root._bokeh_is_loading = css_urls.length + js_urls.length;\n\n    function on_load() {\n      root._bokeh_is_loading--;\n      if (root._bokeh_is_loading === 0) {\n        console.debug(\"Bokeh: all BokehJS libraries/stylesheets loaded\");\n        run_callbacks()\n      }\n    }\n\n    function on_error(url) {\n      console.error(\"failed to load \" + url);\n    }\n\n    for (let i = 0; i < css_urls.length; i++) {\n      const url = css_urls[i];\n      const element = document.createElement(\"link\");\n      element.onload = on_load;\n      element.onerror = on_error.bind(null, url);\n      element.rel = \"stylesheet\";\n      element.type = \"text/css\";\n      element.href = url;\n      console.debug(\"Bokeh: injecting link tag for BokehJS stylesheet: \", url);\n      document.body.appendChild(element);\n    }\n\n    for (let i = 0; i < js_urls.length; i++) {\n      const url = js_urls[i];\n      const element = document.createElement('script');\n      element.onload = on_load;\n      element.onerror = on_error.bind(null, url);\n      element.async = false;\n      element.src = url;\n      console.debug(\"Bokeh: injecting script tag for BokehJS library: \", url);\n      document.head.appendChild(element);\n    }\n  };\n\n  function inject_raw_css(css) {\n    const element = document.createElement(\"style\");\n    element.appendChild(document.createTextNode(css));\n    document.body.appendChild(element);\n  }\n\n  const js_urls = [\"https://cdn.holoviz.org/panel/1.5.5/dist/bundled/reactiveesm/es-module-shims@^1.10.0/dist/es-module-shims.min.js\", \"https://cdn.bokeh.org/bokeh/release/bokeh-3.6.2.min.js\", \"https://cdn.bokeh.org/bokeh/release/bokeh-gl-3.6.2.min.js\", \"https://cdn.bokeh.org/bokeh/release/bokeh-widgets-3.6.2.min.js\", \"https://cdn.bokeh.org/bokeh/release/bokeh-tables-3.6.2.min.js\", \"https://cdn.bokeh.org/bokeh/release/bokeh-mathjax-3.6.2.min.js\", \"https://unpkg.com/@holoviz/panel@1.5.5/dist/panel.min.js\", \"https://unpkg.com/@holoviz/geoviews@1.14.0/dist/geoviews.min.js\"];\n  const css_urls = [];\n\n  const inline_js = [    function(Bokeh) {\n      Bokeh.set_log_level(\"info\");\n    },\nfunction(Bokeh) {\n    }\n  ];\n\n  function run_inline_js() {\n    if (root.Bokeh !== undefined || force === true) {\n      try {\n            for (let i = 0; i < inline_js.length; i++) {\n      inline_js[i].call(root, root.Bokeh);\n    }\n\n      } catch (error) {display_loaded(error);throw error;\n      }if (force === true) {\n        display_loaded();\n      }} else if (Date.now() < root._bokeh_timeout) {\n      setTimeout(run_inline_js, 100);\n    } else if (!root._bokeh_failed_load) {\n      console.log(\"Bokeh: BokehJS failed to load within specified timeout.\");\n      root._bokeh_failed_load = true;\n    } else if (force !== true) {\n      const cell = $(document.getElementById(\"db58da51-e21e-4965-b180-ca4047813ece\")).parents('.cell').data().cell;\n      cell.output_area.append_execute_result(NB_LOAD_WARNING)\n    }\n  }\n\n  if (root._bokeh_is_loading === 0) {\n    console.debug(\"Bokeh: BokehJS loaded, going straight to plotting\");\n    run_inline_js();\n  } else {\n    load_libs(css_urls, js_urls, function() {\n      console.debug(\"Bokeh: BokehJS plotting callback run at\", now());\n      run_inline_js();\n    });\n  }\n}(window));",
      "application/vnd.bokehjs_load.v0+json": ""
     },
     "metadata": {},
     "output_type": "display_data"
    }
   ],
   "source": [
    "from datetime import datetime\n",
    "from pathlib import Path\n",
    "import shutil\n",
    "import hvplot.pandas  # noqa\n",
    "import pandas as pd\n",
    "\n",
    "from teehr.examples.setup_nwm_streamflow_example import setup_nwm_example\n",
    "import teehr\n",
    "from teehr.evaluation.utils import print_tree\n",
    "\n",
    "# Tell Bokeh to output plots in the notebook\n",
    "from bokeh.io import output_notebook\n",
    "output_notebook()"
   ]
  },
  {
   "cell_type": "markdown",
   "metadata": {},
   "source": [
    "We'll start with the Evaluation from the previous User Guide, which contains observed (USGS) and simulation (NWM) streamflow for a gage at Radford, VA during hurricane Helene."
   ]
  },
  {
   "cell_type": "code",
   "execution_count": 35,
   "metadata": {
    "tags": [
     "hide-output"
    ]
   },
   "outputs": [],
   "source": [
    "# Define the directory where the Evaluation will be created.\n",
    "test_eval_dir = Path(Path().home(), \"temp\", \"11_fetch_gridded_nwm_data\")\n",
    "\n",
    "# # Setup the example evaluation using data from the TEEHR repository.\n",
    "# shutil.rmtree(test_eval_dir, ignore_errors=True)\n",
    "# setup_nwm_example(tmpdir=test_eval_dir)\n",
    "\n",
    "# Initialize the evaluation.\n",
    "ev = teehr.Evaluation(dir_path=test_eval_dir)"
   ]
  },
  {
   "cell_type": "code",
   "execution_count": 3,
   "metadata": {},
   "outputs": [
    {
     "data": {
      "text/html": [
       "<div>\n",
       "<style scoped>\n",
       "    .dataframe tbody tr th:only-of-type {\n",
       "        vertical-align: middle;\n",
       "    }\n",
       "\n",
       "    .dataframe tbody tr th {\n",
       "        vertical-align: top;\n",
       "    }\n",
       "\n",
       "    .dataframe thead th {\n",
       "        text-align: right;\n",
       "    }\n",
       "</style>\n",
       "<table border=\"1\" class=\"dataframe\">\n",
       "  <thead>\n",
       "    <tr style=\"text-align: right;\">\n",
       "      <th></th>\n",
       "      <th>id</th>\n",
       "      <th>name</th>\n",
       "      <th>geometry</th>\n",
       "    </tr>\n",
       "  </thead>\n",
       "  <tbody>\n",
       "    <tr>\n",
       "      <th>0</th>\n",
       "      <td>usgs-03171000</td>\n",
       "      <td>NEW RIVER AT RADFORD, VA</td>\n",
       "      <td>POINT (-80.56922 37.14179)</td>\n",
       "    </tr>\n",
       "  </tbody>\n",
       "</table>\n",
       "</div>"
      ],
      "text/plain": [
       "              id                      name                    geometry\n",
       "0  usgs-03171000  NEW RIVER AT RADFORD, VA  POINT (-80.56922 37.14179)"
      ]
     },
     "execution_count": 3,
     "metadata": {},
     "output_type": "execute_result"
    }
   ],
   "source": [
    "ev.locations.to_geopandas()"
   ]
  },
  {
   "cell_type": "markdown",
   "metadata": {},
   "source": [
    "We can add polygons to summarize rainfall to, to see the impact of the forcing data on the NWM streamflow prediction"
   ]
  },
  {
   "cell_type": "code",
   "execution_count": null,
   "metadata": {},
   "outputs": [],
   "source": [
    "# location_data_path = Path(test_eval_dir, \"two_locations.parquet\")\n",
    "# two_locations_data.fetch_file(\"two_locations.parquet\", location_data_path)\n",
    "\n",
    "location_data_path = Path(\"/home/sam/git/teehr/tests/data/fetch_nwm_grids/three_huc10s_radford.parquet\")"
   ]
  },
  {
   "cell_type": "code",
   "execution_count": 5,
   "metadata": {},
   "outputs": [],
   "source": [
    "ev.locations.load_spatial(\n",
    "    location_data_path,\n",
    "    field_mapping={\n",
    "        \"huc10\": \"id\"\n",
    "    },\n",
    "    location_id_prefix=\"wbd\",\n",
    "    write_mode=\"append\"  # this is the default\n",
    ")"
   ]
  },
  {
   "cell_type": "code",
   "execution_count": 6,
   "metadata": {},
   "outputs": [
    {
     "data": {
      "text/html": [
       "<div>\n",
       "<style scoped>\n",
       "    .dataframe tbody tr th:only-of-type {\n",
       "        vertical-align: middle;\n",
       "    }\n",
       "\n",
       "    .dataframe tbody tr th {\n",
       "        vertical-align: top;\n",
       "    }\n",
       "\n",
       "    .dataframe thead th {\n",
       "        text-align: right;\n",
       "    }\n",
       "</style>\n",
       "<table border=\"1\" class=\"dataframe\">\n",
       "  <thead>\n",
       "    <tr style=\"text-align: right;\">\n",
       "      <th></th>\n",
       "      <th>id</th>\n",
       "      <th>name</th>\n",
       "      <th>geometry</th>\n",
       "    </tr>\n",
       "  </thead>\n",
       "  <tbody>\n",
       "    <tr>\n",
       "      <th>0</th>\n",
       "      <td>wbd-0505000115</td>\n",
       "      <td>Peak Creek-New River</td>\n",
       "      <td>MULTIPOLYGON (((-80.81589 37.13150, -80.81594 ...</td>\n",
       "    </tr>\n",
       "    <tr>\n",
       "      <th>1</th>\n",
       "      <td>wbd-0505000117</td>\n",
       "      <td>Lower Little River</td>\n",
       "      <td>MULTIPOLYGON (((-80.43397 37.11944, -80.43478 ...</td>\n",
       "    </tr>\n",
       "    <tr>\n",
       "      <th>2</th>\n",
       "      <td>wbd-0505000118</td>\n",
       "      <td>Back Creek-New River</td>\n",
       "      <td>MULTIPOLYGON (((-80.40439 37.30049, -80.40460 ...</td>\n",
       "    </tr>\n",
       "    <tr>\n",
       "      <th>3</th>\n",
       "      <td>usgs-03171000</td>\n",
       "      <td>NEW RIVER AT RADFORD, VA</td>\n",
       "      <td>POINT (-80.56922 37.14179)</td>\n",
       "    </tr>\n",
       "  </tbody>\n",
       "</table>\n",
       "</div>"
      ],
      "text/plain": [
       "               id                      name  \\\n",
       "0  wbd-0505000115      Peak Creek-New River   \n",
       "1  wbd-0505000117        Lower Little River   \n",
       "2  wbd-0505000118      Back Creek-New River   \n",
       "3   usgs-03171000  NEW RIVER AT RADFORD, VA   \n",
       "\n",
       "                                            geometry  \n",
       "0  MULTIPOLYGON (((-80.81589 37.13150, -80.81594 ...  \n",
       "1  MULTIPOLYGON (((-80.43397 37.11944, -80.43478 ...  \n",
       "2  MULTIPOLYGON (((-80.40439 37.30049, -80.40460 ...  \n",
       "3                         POINT (-80.56922 37.14179)  "
      ]
     },
     "execution_count": 6,
     "metadata": {},
     "output_type": "execute_result"
    }
   ],
   "source": [
    "gdf = ev.locations.to_geopandas()\n",
    "gdf"
   ]
  },
  {
   "cell_type": "code",
   "execution_count": 7,
   "metadata": {},
   "outputs": [
    {
     "data": {},
     "metadata": {},
     "output_type": "display_data"
    },
    {
     "data": {
      "application/vnd.holoviews_exec.v0+json": "",
      "text/html": [
       "<div id='5ac93b68-8893-42f1-9058-357d9ae52116'>\n",
       "  <div id=\"a108ccbb-e260-448a-b996-0c73a7298e33\" data-root-id=\"5ac93b68-8893-42f1-9058-357d9ae52116\" style=\"display: contents;\"></div>\n",
       "</div>\n",
       "<script type=\"application/javascript\">(function(root) {\n",
       "  var docs_json = {\"f636afe6-99b7-46de-a80c-a20fa14db3bc\":{\"version\":\"3.6.2\",\"title\":\"Bokeh Application\",\"roots\":[{\"type\":\"object\",\"name\":\"Row\",\"id\":\"5ac93b68-8893-42f1-9058-357d9ae52116\",\"attributes\":{\"name\":\"Row00393\",\"tags\":[\"embedded\"],\"stylesheets\":[\"\\n:host(.pn-loading):before, .pn-loading:before {\\n  background-color: #c3c3c3;\\n  mask-size: auto calc(min(50%, 400px));\\n  -webkit-mask-size: auto calc(min(50%, 400px));\\n}\",{\"type\":\"object\",\"name\":\"ImportedStyleSheet\",\"id\":\"37686b44-6b1f-43f2-903f-e7035afc8102\",\"attributes\":{\"url\":\"https://cdn.holoviz.org/panel/1.5.5/dist/css/loading.css\"}},{\"type\":\"object\",\"name\":\"ImportedStyleSheet\",\"id\":\"60cbe87f-5f7e-48cc-a025-605081b985e7\",\"attributes\":{\"url\":\"https://cdn.holoviz.org/panel/1.5.5/dist/css/listpanel.css\"}},{\"type\":\"object\",\"name\":\"ImportedStyleSheet\",\"id\":\"c6140adb-af93-4df9-aee2-697bbdf63e7c\",\"attributes\":{\"url\":\"https://cdn.holoviz.org/panel/1.5.5/dist/bundled/theme/default.css\"}},{\"type\":\"object\",\"name\":\"ImportedStyleSheet\",\"id\":\"6a0fb29a-3a8e-4dcd-a253-a03d4005db94\",\"attributes\":{\"url\":\"https://cdn.holoviz.org/panel/1.5.5/dist/bundled/theme/native.css\"}}],\"margin\":0,\"sizing_mode\":\"stretch_width\",\"align\":\"start\",\"children\":[{\"type\":\"object\",\"name\":\"Spacer\",\"id\":\"c18d372b-1c20-4738-a5cc-119a8f287f82\",\"attributes\":{\"name\":\"HSpacer00397\",\"stylesheets\":[\"\\n:host(.pn-loading):before, .pn-loading:before {\\n  background-color: #c3c3c3;\\n  mask-size: auto calc(min(50%, 400px));\\n  -webkit-mask-size: auto calc(min(50%, 400px));\\n}\",{\"id\":\"37686b44-6b1f-43f2-903f-e7035afc8102\"},{\"id\":\"c6140adb-af93-4df9-aee2-697bbdf63e7c\"},{\"id\":\"6a0fb29a-3a8e-4dcd-a253-a03d4005db94\"}],\"margin\":0,\"sizing_mode\":\"stretch_width\",\"align\":\"start\"}},{\"type\":\"object\",\"name\":\"Figure\",\"id\":\"006ff809-b085-4e91-b138-500a413cb092\",\"attributes\":{\"width\":null,\"height\":null,\"margin\":[5,10],\"sizing_mode\":\"fixed\",\"align\":\"start\",\"x_range\":{\"type\":\"object\",\"name\":\"Range1d\",\"id\":\"55cb02f3-dafd-4aef-9328-591c523611f1\",\"attributes\":{\"name\":\"Longitude\",\"tags\":[[[\"Longitude\",null]],[]],\"start\":-9022461.442401655,\"end\":-8926167.667381983,\"reset_start\":-9022461.442401655,\"reset_end\":-8926167.667381983,\"min_interval\":5}},\"y_range\":{\"type\":\"object\",\"name\":\"Range1d\",\"id\":\"8e13688e-b78c-44f5-8dbc-bc4db05d9813\",\"attributes\":{\"name\":\"Latitude\",\"tags\":[[[\"Latitude\",null]],{\"type\":\"map\",\"entries\":[[\"invert_yaxis\",false],[\"autorange\",false]]}],\"start\":4418683.036118579,\"end\":4485396.810609478,\"reset_start\":4418683.036118579,\"reset_end\":4485396.810609478,\"min_interval\":5}},\"x_scale\":{\"type\":\"object\",\"name\":\"LinearScale\",\"id\":\"d68ed9c9-c7fe-4d72-abe0-03df9cdfbb20\"},\"y_scale\":{\"type\":\"object\",\"name\":\"LinearScale\",\"id\":\"74cdd5cc-47cd-4259-ba54-bc4447ad242a\"},\"title\":{\"type\":\"object\",\"name\":\"Title\",\"id\":\"71c7a37a-011e-4537-a6c9-b19cf9213839\",\"attributes\":{\"text_color\":\"black\",\"text_font_size\":\"12pt\"}},\"renderers\":[{\"type\":\"object\",\"name\":\"TileRenderer\",\"id\":\"e721f4b4-19e4-4ddf-bcac-8e307b0f0b55\",\"attributes\":{\"level\":\"underlay\",\"tile_source\":{\"type\":\"object\",\"name\":\"WMTSTileSource\",\"id\":\"151afbce-2be5-40ea-aa6c-5d9d4b544541\",\"attributes\":{\"url\":\"https://c.tile.openstreetmap.org/{Z}/{X}/{Y}.png\",\"attribution\":\"&copy; <a href=\\\"https://www.openstreetmap.org/copyright\\\">OpenStreetMap</a> contributors\"}}}},{\"type\":\"object\",\"name\":\"GlyphRenderer\",\"id\":\"53fccda8-d673-4fa3-abaf-1dc0cc162cde\",\"attributes\":{\"data_source\":{\"type\":\"object\",\"name\":\"ColumnDataSource\",\"id\":\"a5a0652a-a53f-431e-891d-4f77d23d2169\",\"attributes\":{\"selected\":{\"type\":\"object\",\"name\":\"Selection\",\"id\":\"5c821766-a1b6-4d35-9d63-28e12d0e21b7\",\"attributes\":{\"indices\":[],\"line_indices\":[]}},\"selection_policy\":{\"type\":\"object\",\"name\":\"UnionRenderers\",\"id\":\"f039d1c1-c4e9-4f96-b77e-b1c3765a54b7\"},\"data\":{\"type\":\"map\",\"entries\":[[\"xs\",[[[{\"type\":\"ndarray\",\"array\":{\"type\":\"bytes\",\"data\":\"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\"},\"shape\":[2384],\"dtype\":\"float64\",\"order\":\"little\"}]],[[{\"type\":\"ndarray\",\"array\":{\"type\":\"bytes\",\"data\":\"DgYulQEUYcHRjqDRDBRhwdoqmvMUFGHBo4YwxBgUYcHD7qgyHBRhwfapPnQeFGHBWPvTIioUYcE0Mrn6NhRhwahKsbNHFGHBr89xa1gUYcFfTbZdaBRhwZxFPUBzFGHBx4aAZ3sUYcHoKQ6dgRRhwWPp6kWLFGHByzhuEZgUYcHv5FFUnhRhwbfNzqeiFGHBg7MGbqUUYcEAJTP3qRRhwRSFJpywFGHBdAG2srUUYcGEo35LtxRhwcX4krO0FGHB96dx2LIUYcHJuRcysBRhwWDhVLezFGHBQBujfrYUYcHyJuSTwBRhwfUo1f/MFGHBns1MwdsUYcFckW5Z8BRhwUJf8I8QFWHBiKBDPy4VYcHdgAdIMRVhwfZJzx41FWHBqMbQTDsVYcHTB9F6SBVhwYPTRvJSFWHBQYCl+F4VYcFFz8DGaxVhweixoNF3FWHBj2bzYIcVYcHgMK6pkhVhwZV96gacFWHBWnPdKKQVYcGoctckqxVhwfyT1ga2FWHB4BEjMsUVYcGDJsL20xVhwevUsibTFWHBp2vOQ9QVYcFNkuqG1hVhwWq1dHjWFWHB5O48SNoVYcFmw3V83hVhwaFnW97yFWHBWvTc5gUWYcHlCkAdExZhwYLsfA0jFmHB2A2++DIWYcFm/kCRQBZhwXaa4K9KFmHBAg49mVwWYcFzg3XuZRZhwfal2T9vFmHBld2aj3gWYcGLJvzggRZhwbSQkyKGFmHBMw4BQ44WYcFgX9SxmBZhwehtWxuuFmHBp2rG+LMWYcFVbiIsvBZhwSRzAO7MFmHBYwOaOtgWYcEztVT/4RZhwTYj3TzxFmHB6G+SH/4WYcFmNnf+ChdhwW74TM4ZF2HBY9bRDycXYcEUfeeRLxdhweibAso6F2HBBaoELEcXYcFpmCufURdhwd7yXz9dF2HBsNSm4GgXYcE+8OxkcRdhwW31QpF3F2HBhMm22XsXYcGhd3STjBdhwTkfKOKTF2HBs+QbIKMXYcHYuODZqhdhwdrYVny0F2HBiShuXrsXYcFb+eADxRdhwezb2x3OF2HBJFImd9wXYcEb6fpW5RdhwRlZ+WrwF2HBM6BuNvsXYcF3TxNiBxhhwXWOgmYPGGHBc/b9ExkYYcED3r5xFBhhwULAjl0QGGHB7cyekQ8YYcHlTy/pEhhhwSSySa8aGGHBbtRQUScYYcEXYhAONBhhwYEefT87GGHB96kF1kAYYcF5ovm/PBhhwZJdSYUxGGHBFNT18DoYYcFk1da7PRhhwV4KOAZDGGHBWfD6j0gYYcFajRpsURhhwTFsPPJWGGHBTqrlKmEYYcHd80AtaRhhwRCC7yJvGGHB7Tkh03AYYcGy5R6zhBhhwSSty8CKGGHBvNIXcpIYYcH/wYQ7mxhhwedOG+qfGGHBaIy136QYYcGNHL/GqxhhwWp/JjyzGGHBkOreqrcYYcE/RyLFuRhhwVjUKS27GGHBWt7icMAYYcFslIYRyhhhwWa1Jl7NGGHBmQHmVdIYYcENXp3R3BhhwdZeW+fqGGHB2JjGjvQYYcG4BzwP+hhhwT+KVQH/GGHBCIDjkgIZYcFfpAF7DBlhwSUMt/gbGWHBZqvFdDAZYcGVH1LuNxlhwa66LEY7GWHBxx5MFEEZYcEZFavkPhlhwRbJFzU/GWHBD+R2dUEZYcFRsffFRBlhwUh4UPVLGWHBtUoEAFcZYcFy5fBnZBlhwSHeFq9sGWHBMi0S9nwZYcH4CcNHiBlhwSZPdhmRGWHBr2oiHpQZYcFDr922mhlhwdK9I/KfGWHBbYBm+KoZYcGj6saorxlhwTamzHS1GWHBvHKFQrsZYcHfdQcivxlhwXgSKIHFGWHBcIKmH9EZYcEDSRbs4hlhwax+q07nGWHB6Vt98usZYcGkJRLu7hlhwZC+qaLuGWHB2uBbIewZYcEwTCe+5Rlhwdyd0PjqGWHBTAl7CfEZYcFJo/9Z9BlhwY7k/F38GWHBaLFDxQUaYcGa4EY9DRphwUvASiYUGmHBKcbhbxwaYcF3f3BGJRphwb/7YQItGmHBVT72Oi8aYcHV0KQBNxphwfZOHNhDGmHBxYSLIVQaYcH13iKWWxphwTC3/FleGmHBQCe+x2IaYcFBYYpiZhphwQKb8dVqGmHBEignUnIaYcGWAUthdRphwW7+gBB3GmHBHuwhXXcaYcEL8GuqdxphwTaBGiR3GmHB3NnREXYaYcG2vQlyfBphweCGtjmDGmHBlXL7uY0aYcGwNiVMnhphwaEVCsStGmHBoAz2v7IaYcFc1MlzvBphwWoW3HvMGmHBJK2gqtMaYcFBvNam2BphwRENFnzZGmHB+1bE/tsaYcGQOoW64BphwZH25WniGmHBus3hDuEaYcESEHUT4RphwYE7jXriGmHBzJ0Gp+YaYcFCj2AA7hphwZb/+bL/GmHBFttOJwcbYcEL2rOZDhthwcgUbMYVG2HBbK3MZxwbYcFHahx/IhthwUmKD5coG2HBwstYVTEbYcF5f2gLNhthwTPGsEU4G2HBtqfFszkbYcEVExbrQxthwZBl5qZTG2HBXuTUjlobYcEBuMX0YxthwSNGXpJvG2HBSKUL9ngbYcH6jqygghthwZZj67+LG2HBeFJ6BpQbYcEN82oooBthwZ41tXerG2HByqP59LUbYcF04zqWvBthwQ7LxofGG2HBxXK0KM0bYcFZt4q7zxthwcI406jUG2HBTWvtG9EbYcGYZsbOzRthwY1qC4/NG2HB5qqEOMwbYcG7MFs3yRthwRiO8GPJG2HBHYufWcsbYcGvtkye0BthwU/1U6XYG2HBC9H9O9kbYcF7ck4m2Rthwcm2h43XG2HBb6Dvq9UbYcFNa+Ge1BthwYHJoTzYG2HBgKT51dsbYcFKkeFb4Rthwefuuz3lG2HBJwug4vAbYcF99oHd+hthwXIou7kIHGHB8NfcBg0cYcFlxB5hBRxhwQy1ii39G2HB1Huk+vQbYcFfp5Ow7hthwYE9uQzqG2HBNVsNmOMbYcH82uoQ2xthwdAYHx3gG2HBWqErleQbYcFNjSkr5RthwdLwSDPlG2HBpRy8kuMbYcGrqIpQ3BthwY0dpsDVG2HB4ehjj9AbYcG2Ku2zyRthwSIisIDAG2HBlBG3issbYcE2kmIJ1hthwTxxJl3hG2HB4/0FbuwbYcHfe0Dy9hthwUn33lL9G2HBC7EsAP8bYcEJg0yGARxhwX0PlM4GHGHBxhS9WQwcYcG+vDWpFBxhwTQ7oPwXHGHBNjfK0RwcYcEkHG67HxxhwRUYLRUbHGHBfFCeQBccYcGOZwoiExxhwaDra34WHGHBQXaNrxocYcHNYPsqHxxhwagxQjQfHGHBfuW1sx4cYcGw8rAwHhxhwQ09sJEcHGHBgdD+hx4cYcGb8wsEIhxhwQ1oXpgiHGHBAdK6FCIcYcEQU6X0JRxhwZWw/HUoHGHB0sbL/SocYcHhBm0PLhxhwV+m5ZIwHGHB0L8qaDkcYcGwZKRNQBxhwbHjgexGHGHBJz/MLEwcYcE5dqGrThxhwW0e251QHGHBQ251y1ccYcHuA3blYBxhwU2IdfVuHGHBSOvayHccYcEAcjqvfhxhwQZIDmGDHGHBerlB74QcYcEYni9AhRxhwWicDP+EHGHB4fYFhoccYcFJuGkPihxhwf6DVG+NHGHB7D/JPZAcYcEpPdXijhxhwcTjwGqMHGHBxYenY4kcYcEFBiMAjRxhwbXlAtqNHGHBwbQmzI8cYcElN0xlkxxhwffGn7OXHGHBvxBYZZwcYcGUjviToxxhwbVqFy2nHGHB2I8C+6wcYcHcP06asxxhwZSeAQ67HGHBQdcx/MQcYcFvZ7FTyxxhwS7IuhbSHGHBWINTbdgcYcEtz7ds4BxhwbFyaR7lHGHBdlGVvuscYcEoYDc26BxhwemfQiHkHGHBuLWFseEcYcHQWewK3RxhwQWQ0iHbHGHBf33/tNscYcG1+qSq3RxhwXfmwI7hHGHBpecZgeMcYcG+Z2kR3BxhwcIlwAzZHGHB7qUuCtYcYcEnd9AL0xxhwRk0bffRHGHBuyw+MMwcYcGtRd0YyxxhwSifcfHLHGHB3aMLr8scYcG40mELyhxhwZ8HCNzHHGHBUV8jisUcYcG/Wc3wxhxhwRultIrKHGHB5yS0MtwcYcER6m5N5RxhwX+NlRHlHGHBSI/PMuYcYcFe3gde6hxhwWe02w/vHGHBqMoolfQcYcGHh8+a9BxhwaaHV3P1HGHBAZA6X/QcYcHEG/AD8xxhwQGFUIH5HGHBRQoJWAIdYcHeFfSDCR1hwfZdo/4THWHBYZCzQyQdYcHAKElSMh1hweSuVIQ8HWHBjKW86z0dYcGl1W4lQB1hwbSmyPRFHWHBmJal30wdYcHTKQ2sUh1hwfgyhzZnHWHBCwTs5WEdYcHuztfDWR1hwbBq9ChVHWHB+gH1eU8dYcHdArw1Qx1hwUwVvENDHWHBnjkEo0gdYcGwnuWKQB1hwQIcIU48HWHBtV+/fzkdYcGtpNeIOR1hwTdMgF87HWHBnNvRMDodYcHfBlXPOB1hwXO6iyY4HWHBCmTxPzkdYcE9BgEwPR1hwYU6zOZCHWHBs6LWR0gdYcGugIzwTB1hwdULlmpOHWHBnRSoSlEdYcGN01qhWB1hwX16rjtXHWHB512Co1cdYcGCiyqsVx1hwS5wXGlYHWHBSQq5kFodYcEI/zIPYh1hwV1wmVNrHWHBK4VJznIdYcGjN8eyex1hwQGCjqeFHWHBBLryYIYdYcGwbKRthh1hwSLrTcqLHWHBu9ky4IwdYcGb9UJahh1hwRxYk6uAHWHB6xWtaXwdYcGMC/uoeh1hwZQcR414HWHB04P/l3MdYcEKhgoicR1hwYEdCMx1HWHBQEiIJ3sdYcEdS+7tgR1hwWzOEVeIHWHB50Z4Go8dYcFRhtmWlh1hwSTps5GbHWHBEchx+qEdYcG9+mJUpx1hwfSpu4avHWHBcCJGWbwdYcGTP4LRyB1hwRTgvwbRHWHBgV2ksdAdYcH1eLvDzh1hwawvdPrRHWHBSbPt+NYdYcEDsNhg3R1hwUYM6h7pHWHBfpS1k/UdYcEng9itAR5hwXNWghANHmHBT6KCBxceYcGJktaBHh5hwaMjmqIlHmHBeNRPvDEeYcH7wih/OB5hwQgWM+U+HmHB7oaOREoeYcGGc1UPUR5hwSo/3JBYHmHBbFm8R14eYcGZ/ilHYx5hwbWO2T9tHmHBjXmwanoeYcEe7OeJgR5hwSZeMHCPHmHB1tDDeJ8eYcF+lJq0tx5hwfCaqcHCHmHBJEImJ9MeYcHyhiN12h5hwTcYjkPWHmHBsRitHdMeYcHfpeZf0R5hwQVbTJ/PHmHB6rffY8seYcH/iiV6zB5hwSopnzjNHmHBRl5Yz9AeYcHTF0FA0h5hwV6e/ljTHmHByh0d0c8eYcG0WC4lyh5hweX/NuXFHmHBcY5v18QeYcE/fO1ywx5hwZf2TbHBHmHBbyy1wLweYcERdMq2uB5hweKchRi5HmHBJNAsorseYcG/J+52vR5hwYrpuf2/HmHBLvY7x8YeYcEMKnGBxx5hwRDr0fC8HmHB6tc6x7YeYcEvWzyutB5hweIOj120HmHB8KWTn70eYcEuf3aWxx5hwVk09GfPHmHBbeaM2dseYcEQmAbE2R5hwcSNhGXYHmHB6NU0u9ceYcHYdoQtyR5hwe2pq9O9HmHBtHITeLIeYcGvjMdjox5hwS+L8cyZHmHBd2WauI0eYcF7Anjefx5hwSShP2Z4HmHB74A6EHMeYcF4GaO7bR5hwbQh58RoHmHBewX1KmQeYcHlsFxMYB5hwXiONNpTHmHBgAUuck0eYcEpKyNzSB5hwcAC0oZEHmHBE6W1sDweYcFeVih8Mx5hwWumkLkmHmHBKQP0MCMeYcHIHp+DHR5hwQ8Wk/YOHmHBKovjFgYeYcFqkgtrAB5hwTcsc/D9HWHB2xcO7PwdYcEfy9Ir+x1hwTy1p6r3HWHB7QH27PIdYcHtZQRD7R1hwXp+xCDlHWHBFF4MCN4dYcFL8/0Hzh1hwT9JFvzHHWHBW3hQbb4dYcFJYlCSrx1hwdLaJSmoHWHBwENRc6EdYcF+LIa9mh1hwcrjXaSYHWHBExeAfokdYcH566mihh1hwdFGUJiAHWHB5EdelnUdYcG5YXLEbR1hwUU4R0FvHWHBR00r5G0dYcGBgU8Wax1hwbKCnXtmHWHB0Nx9Zl8dYcEjH2DhVh1hweKOI5hMHWHBGF3LkkYdYcGppLWeQR1hwfyXR986HWHBgcyRLzUdYcFWgyilLB1hwfbJhe4lHWHBo/M6mB8dYcHQBv0TFh1hwWUKqcIMHWHBmvrurwodYcFiO1PMCx1hwaDBzkQNHWHBiCn2gBAdYcF0Ce6YFh1hwWEWL3gZHWHBT4EfpxYdYcGidg/EEh1hwfpOw9YQHWHBNJ0nlAwdYcER6y1EBx1hwcQbzSkFHWHByt7mAAIdYcG2AE98/hxhwZt6pk37HGHBL0U6HvgcYcHgO5Tj7hxhwdS8x07lHGHBZg55k94cYcHnGfZD2RxhwbXWZtLRHGHB/czbJMwcYcFrD0N4wRxhwQhPqgi6HGHBwinhY68cYcH7vfTHqhxhwTUiwkiiHGHB6zV3mpwcYcGTT20NmRxhwaDlgnmPHGHB+r2khIocYcFT7IeAhBxhwSKL+Np/HGHB9iE6VYEcYcEDOC4bgxxhwT9P2k6EHGHBKI8gFIYcYcGWtYQchxxhwZAo9iSIHGHB6Nmw+YkcYcGhM/h/ixxhwYrucyCNHGHBDdt4gZAcYcGwe5V9kxxhwf+pfyucHGHBocbFuKAcYcHs6U57pxxhwUaXQqKtHGHBvIvZ+7IcYcFOsECJuRxhwYSiMGG/HGHBsopvgsMcYcEwIkwdxRxhwZ6ZJ8DIHGHB9udiZM0cYcHCxzEf0BxhwSCqhfPTHGHBBY3OFdgcYcF1nZdW3hxhwV1dBl/iHGHBJSiofeUcYcGSA1mC6BxhwfRtnvntHGHBx8X8DvUcYcEfWdPeDR1hwZVWUk0WHWHB8jUloBodYcG999ekHR1hwWZOMMYjHWHBQ+VZRiwdYcEAPVwKOx1hwesafkhBHWHBYDbS60QdYcGr0+dZSB1hwVhW4xJLHWHBMmUTY04dYcGznOLRUh1hwSFxwSxbHWHBmn7e114dYcF8XGKmZh1hwbN4J8lsHWHB3W2lPHYdYcHMkzN5fB1hwZLc43+AHWHBchNwRIUdYcF+Ws2Shx1hwcbH8jCMHWHB7IuaE44dYcFJD1Lnkh1hwXw+jlOVHWHBOaXAkJMdYcFXCDQakh1hwfhI2FmNHWHBpnTZYocdYcGt0Tr5gR1hwV90nSp9HWHBbBAaKncdYcH103rFbh1hwUPThC5rHWHBUqy6ymgdYcH2I/AcZh1hwfyHwPFkHWHBIhxh+mQdYcHthLqCZh1hwSVwDQhiHWHBUfagj10dYcGVxA+BWx1hwV9MRHFcHWHBSoiSdFkdYcGf2UANVB1hwbzsUCRNHWHB+kLHOkkdYcEvO06FQx1hwayBRwVCHWHBb8kM0z0dYcGhl4dWOR1hwbsuDGEwHWHBmQlHGi0dYcGL8gugKB1hwQd6K88XHWHB6f8csw8dYcH7zMYxCx1hwW+/BRcDHWHBZrsc5/4cYcEKxPPs+xxhwYgET134HGHB/QU2/v4cYcHhYIEABR1hwV0qwFEIHWHBbLzQowgdYcFRrQkoBx1hwb2W3JIDHWHBhhHDs/8cYcHwRQMp/BxhwUKhjwT4HGHBxjgHD/UcYcHtpHga8hxhwUCDM73vHGHBPndDrPAcYcHxDQdT8RxhwQ2E4DDwHGHBplSDCe8cYcEdq/Xb7Rxhwdllz67pHGHBzUArTeccYcFyaFu45hxhwffi87vmHGHBlfF/2+gcYcFDY2uk6xxhwUFw/2zuHGHB/jYx4fAcYcFfMmz67BxhwT3I2TDoHGHBTgE5e+UcYcGJJTte3RxhwQMuuY/VHGHBufJeKNAcYcHRk3F3yhxhwZ22ckfGHGHBiUJBL8EcYcH411X6vBxhwQZWMUG3HGHBy2o0Iq8cYcHYS6gbphxhwd2NUvudHGHBpczmpZQcYcFdBBU8khxhwXMjdXyPHGHB1KlYroQcYcEmkVfhfxxhwYeVEn93HGHByq/DmXAcYcHM3XsUbxxhwTgoLdpqHGHBpHIiIWgcYcF9Ww/QZBxhwQoQtspbHGHBsTbJ+FMcYcGxzCRzSRxhwdbZFHhDHGHBHVBalz8cYcF2kPE6PRxhwcr0jSo7HGHBgEcFfz4cYcGbAGqFPhxhwb3JZcM8HGHBn1KfNDkcYcFGAtw8NhxhwZh4jccxHGHBK4dUaCwcYcGjFP85JRxhwTZjfgsnHGHB/7wx/SccYcFhE5DvKBxhwauC0WArHGHBYgnLLiccYcH8U+2tHxxhwYGXmRMZHGHBn7FC4BEcYcEd88r6ChxhwY4E5UcCHGHBmU9WLfobYcFO7kMn9BthwXqzLiHuG2HBjz7rGeUbYcF4Na0b3xthwcrTPx3cG2HBXWLNhdgbYcFqis5Z1Bthwf60Qt/PG2HB2tuVSswbYcF19VbOxxthwWva6p3DG2HB+gGpnb0bYcGrqXk0uxthwS5p/Cy1G2HBLXN/5LEbYcEoPaB+rBthwUcKLmakG2HB6Kb+GZsbYcGPCcWxkhthwaHOYU+NG2HB7dR/a4kbYcHh7P+ehBthwQthMAWBG2HB9eaf5nsbYcEZIBMRdxthwdO8VTBzG2HBhwdiGG4bYcFSgnWwaBthwerZXfxiG2HBS2HZaF8bYcGhHgZRXRthwSCXTm1TG2HBbHZ3O0wbYcFu8g7FShthwerr9mRIG2HBjOwxgkQbYcEwUgSzQhthwUpEkBQ8G2HBudEI9zYbYcFS6BP1MBthwXo+t6wtG2HBY0l1GCEbYcGipUc1GhthwfXI+dEUG2HB9XVqVA0bYcHDFrGICBthwQp2MiYGG2HBUKNMlQIbYcGCoj8e/hphwfxYNAXzGmHBjSRrBe0aYcED7yxn4BphwQX08zLZGmHBl/hrmNIaYcGLZ8TkzBphwclojTLHGmHB0ri3A8AaYcH1eU7VuxphwcTXQF20GmHBj+pU4qwaYcFhjH06phphweZI37SkGmHBnR5rxqMaYcH5YJk6nxphwRDzgPCYGmHB88swQZMaYcEbC3tvixphwQSXBdaEGmHBfPuPCX0aYcEv9NEldhphwSltsClwGmHBd992DGsaYcHnM/IKaBphwbVtbNZjGmHBZyRlBl8aYcG5BzODWhphwckpUE5WGmHBjpPTgFEaYcGsfJZPTRphwfh+STlIGmHBFDMcyz8aYcGRS4dHOxphwVePG183GmHB7QWekTIaYcF4faX5KxphwbAwHkAmGmHBoaB5vyEaYcH3LlnyHBphwYnPP3cYGmHBCZYurhMaYcGbNhUzDxphwbj9np8LGmHBKEz3iwYaYcHIByuq/xlhwS/5lv35GWHBbO7qN/UZYcEmaCg+7xlhwdo1ktzmGWHB+H92/9wZYcEH6nfG1RlhwTa9U6rQGWHB5IG/xskZYcHEu9x5wxlhwQZcYty5GWHBrSe6wbQZYcGxGCILrBlhwQ8BedKkGWHBlx5tmZ0ZYcFq/z9ilhlhwU5Q1hCQGWHBSoyGeowZYcFSSlrrhRlhwdqjkyOBGWHBC6R/2n0ZYcGLvxvaehlhwTlzHHtvGWHBykzkYWYZYcG2xeLsXBlhwX60zDtaGWHBzqTOfVQZYcEguS2CTxlhwXq1ddNMGWHBwF0sJkoZYcHh8o1YRhlhweuP5YtCGWHBFu6mGTwZYcEUK3iwOBlhwVqbfMMzGWHBeoWPrioZYcENiyhBJBlhwbZ81jQeGWHBOrHcAxcZYcHxXmEXEhlhwXRonG0MGWHBuk6YggcZYcHYa8BYAxlhwWjm3MH7GGHBXNBlcfYYYcHqBUdf8BhhwfDvuO/mGGHBsWj2wuIYYcF41XV03RhhwUTm2x7VGGHB38BnGsoYYcHmqHlWwRhhwc82ZBG6GGHBzqear7YYYcHSfHSrsxhhwXYeY8auGGHBcIw+aq4YYcENewr+rxhhwVVsdAOwGGHBE8yIiK4YYcF4H23pqxhhwU2/FN6iGGHBodpQGZ8YYcFzji0ZnBhhwfPK3k2VGGHBdATnAZAYYcGsl6Q0iRhhwcDXeCWAGGHBCS1feXcYYcFGJ/uRchhhwaUvsGlrGGHBPRDThGYYYcE5TxDtXhhhwdAKK55ZGGHBlvUVO1YYYcHD/xE5UxhhwUp6T7FOGGHBaoncm00YYcF3NIzBSxhhwSiDveJJGGHB66qdJUkYYcGkOJg5TBhhwfKsvPhJGGHBbk0ymkYYYcGTV72fQxhhwdTAnoI/GGHBmY7elDoYYcHPaGcjNBhhwbxZnAooGGHBh9mochoYYcF1e54UDBhhwaZAn3sBGGHBL0fCu/gXYcGraI/C8BdhwaxVo+PpF2HBQ6riruUXYcF7ol/03xdhwdjhlmHbF2HB8EmQStUXYcFW3Iqc0hdhwT+R4CrPF2HBRNbDGswXYcGDTxRLyBdhwZjGatHBF2HBIDa4VrsXYcHYU1BjthdhwdMXdHKxF2HBimtvX6sXYcEHcx3qpxdhwWW8CpulF2HBnfdWiqIXYcHY+Vv/mBdhweR7JvONF2HBPEShrIMXYcGOsn1agxdhwYeUkKh/F2HB6DQuc30XYcGw3b2ReBdhwTleWhB0F2HBxEIp9G8XYcFH5XtfaBdhwWh1cxxbF2HBeedJwE8XYcEA9E0JRBdhwYCOBDlNF2HB7AHptlMXYcFQ7w5vWRdhwb7dvr9bF2HBOSSLyFsXYcF/E93qVhdhwYtL7QhPF2HBukTvg0cXYcH0tB6rRRdhwXN03LxIF2HBuXco0UAXYcEO90jrOxdhwcIXlH01F2HBiBETNDAXYcF4zansKhdhwdI4eIknF2HBqHLvPx8XYcGMYFg0FhdhwV5ZFSQNF2HB493u1QQXYcFKqhgu/BZhwf/7YMj1FmHB2K86s+4WYcGcyVpz5BZhwfdULg3ZFmHB7/Qr1tEWYcGQZC7AyxZhwTii02vDFmHBT4GmersWYcGyWCfOtRZhwSFvenytFmHBf8g+XqEWYcFImVRomRZhwV+dymWOFmHBs855aYYWYcH1ZYM3ehZhwYUDci1vFmHBGoGckmkWYcGj25n0YxZhwdqkSQ9cFmHBn0rsK1cWYcHgb6qrShZhwcU5a1dCFmHBD+2I/TYWYcGsoMAvKxZhwXN13/AjFmHBw0RRACIWYcE92/xoHRZhwTjK4esWFmHBkpBr0RAWYcF4nm7KBRZhwTx9hFD/FWHB+v5+OfwVYcH3DuGB+RVhwTl2CoX0FWHBoYzOQO0VYcFnDlgc6RVhwfEsswngFWHB+clLvtoVYcFb/+xZzxVhwWzFJ5rGFWHBFRL2ZsIVYcFWplQ8uxVhwZ2CLBW3FWHBy0LUqLAVYcGlLB3xpBVhwYAwJ8KdFWHB/0chE5sVYcEBgK9DlxVhwcuxDbGSFWHBS/RNeI4VYcFD8m8mjBVhwWeTcWuJFWHB3t03rooVYcG0xSm3iRVhwVYbiCKIFWHBS8RwFYgVYcHkjnHuixVhwa3fJzmDFWHBxt8cgnoVYcGJ4hTNdBVhwWFAYUNqFWHB/q6joG8VYcG+7qqbchVhwRZsLeByFWHBE0sXI3AVYcGHRLbJbBVhwVmKE6FkFWHBGMPkUV4VYcGGx1dpWhVhwUVKm35WFWHBrqVmOVIVYcGlp1KVThVhwTXW61NNFWHB80HO/1IVYcHmdBB3VxVhwYWC2GxaFWHBbcorE10VYcFzf32HXhVhwdpQmM9bFWHB2uQMe1UVYcGzubw+WhVhwbZ6TEpcFWHBUZCjI10VYcFXACgVXRVhwYOVacBcFWHBX60UHVwVYcFg2BkSXBVhwRHyPYRdFWHBmQPIxF0VYcHrsIDnWxVhwTvUi5deFWHBRAWFmmQVYcEt+cy3bBVhwdB86jp3FWHBD507ioAVYcFBNSm2gRVhwYSdEHuGFWHB4L9Fb4YVYcEjK0SthhVhwS8kVmyIFWHBmt7ws4gVYcGGTqJGiRVhwYWV5ieNFWHBhvM1DJQVYcGupBeXkRVhwWOZPY+RFWHBcF8faZIVYcFk9PZfkhVhwbB7x2yOFWHBSF/uk4wVYcHouTTahhVhwTHFplF/FWHBsPtxBXwVYcF0Gz9ScxVhwaW76lBtFWHB9gFRgGUVYcFn7nTgXhVhwUiZZz5bFWHB0LWx5VoVYcF5lk1xWBVhwR6twmJVFWHBQnUx81IVYcFWBaDSTRVhwUyFlxZIFWHBz86dCkIVYcGzwnqXPxVhwYSB03w6FWHBQM14ejEVYcHiiSDEKxVhwfY7jokkFWHBO0iyrRkVYcGCIzRVExVhwTpj2sQLFWHBiT4JWQMVYcFqlrC6+RRhwRpah5zuFGHBjpVHmNkUYcFY5njg0BRhwQFpmxDMFGHBR3UdwMgUYcFSG6ABwxRhwaXgUci+FGHBEXo8vrUUYcHQQfLKrhRhwV+FEimrFGHB8kuYyqcUYcH0nbyEphRhwTCAdgOnFGHBI6W9i6oUYcEXX0h2rRRhwe09t02cFGHBha/BFZUUYcGOEzdfjxRhwcYZtHN5FGHBMhweJXAUYcGKR2KlaxRhwUX1tLRnFGHBvEu/9l4UYcHCeskFVRRhwT2t2ABMFGHB15roSkAUYcGMkx1iNhRhwcmWfPgnFGHB/hl13xwUYcG/Rkx6FxRhwSqkTIoQFGHBScb1MgcUYcHxqysT/xNhwZz/AI73E2HBmGZva+8TYcHZmZLi5xNhwfdjbUThE2HB16Amc9YTYcHUJHdXzhNhwT/JK7nEE2HBBwPXALkTYcH/UhBkshNhwZW9BnmrE2HBUP/XOKETYcHdD4EwmBNhwQNIt6uQE2HBbxoxjYgTYcHwQ+XtfhNhwarXuvV3E2HBuf6cFHATYcEVPWBWahNhwU3Gfk9kE2HB/sgHL1wTYcHiBcRdVBNhwQ143lhIE2HBaHSUokITYcG6z57jMBNhwbxWE0YnE2HBHhfDEiATYcEPOHJEEhNhwfloFcYEE2HBLrMDxPgSYcE4GkwF7RJhwVU5gKngEmHBQNzk/tMSYcGZpx9DyxJhwZWDPm7AEmHBAXci+7ESYcFz81zZphJhwXpEPFefEmHB9Omm2JoSYcHD9o1GkRJhwS8ko/6KEmHB5y65NIMSYcE5nTnPdxJhwbFKMzRxEmHBoHXGEFoSYcH/Pj9wUBJhwR2D/ghIEmHBsZeFozwSYcFINiJBNBJhwVqlk+UrEmHB2cUNuyQSYcFZIIinHBJhwXuLr/4TEmHB1QuMtQoSYcHZOq3OAxJhwZajvNX9EWHB/iiAYvkRYcHKPGkG7RFhwfamga3mEWHBlfcNwOURYcG9Zx8C5hFhweb2yirnEWHB4ct/POkRYcELbYSB6RFhwag1wHXpEWHBoLLDsuYRYcHkeAxB5BFhwWvW77TiEWHBhwttqtYRYcGPQRBvzBFhwXXBsCy8EWHBTOukoLQRYcFox6YvrxFhwc2X27ajEWHBeRrn3JsRYcElvjI3khFhwaBFuH6MEWHB2m7kRYURYcG3/N8KexFhwWwMBhtuEWHB1VQzfWQRYcGHFWHeWhFhwRXOLopREWHB6dAqsEMRYcHj0jj2NxFhwfNVpIwsEWHBX+yZ8x8RYcE8pD2MFxFhwQZMDXEMEWHBO6dBU/gQYcGsoUaY7BBhwUU5u3jkEGHBDKL39twQYcHslYV10hBhwYGO+b/MEGHBkJBsbMMQYcGNO+YauhBhwXoegBaxEGHBbXA63awQYcERf9lppxBhwSLDZhOhEGHBlw85JJoQYcG9KJQ3kxBhwcBjYeCJEGHBegVzWIIQYcFZt/5rfhBhwQtM1KZ1EGHB3ZauYG8QYcFXYUZLZxBhwbp9wZhhEGHB5cbI+lcQYcHHQPdETxBhwf8k6JBJEGHBvuNjEkUQYcGW7vQbOxBhwTOIrN45EGHBK+eqbzoQYcH++X77OhBhwSqq5VU6EGHB5CeMFjkQYcGqsRBWMxBhwT6QxhcsEGHBLq7dvRsQYcGy03tiDhBhwaaNTTYFEGHB8ulWuvsPYcG4qm6E9A9hwRJxL+bsD2HBOvc2e+wPYcEKM7wk6g9hwaQm+g3nD2HBcux6sOEPYcFkIkye3g9hwbyqjcHXD2HBUkStfM0PYcEQLNQGvw9hwRdhF0LED2HBw86J48wPYcFLH4Mo1Q9hwU0K7BviD2HB/BhsqeYPYcEM6hh37Q9hwQnpPfD8D2HBS39tvwYQYcFuVwYsDRBhwYDoB84PEGHBZ9Auxg8QYcHah5h1DRBhwQng8PcGEGHBEicMPQQQYcHqANFSAxBhwQF8xZcDEGHBjijKQQQQYcFqJzPOBhBhwd7zM4r3D2HBngKSa/EPYcHl72wv6g9hwU76dmbsD2HBcdGEne4PYcFJGLKz8g9hweRbb5H3D2HBFTL/gvcPYcFGX2IV9w9hwWG13eL1D2HBcHCkyvIPYcEP0Gfz7g9hwY4YvdfzD2HB8YORdPYPYcEHqezH9g9hwXeLk4X6D2HBam9fO/4PYcFHiKRKARBhwaeqSjcBEGHBKtD+9QAQYcE3Z/oiABBhwavyJC7+D2HBYsLCMf0PYcECfQY3/w9hwVPxWeX3D2HBC0Ao7u0PYcGHp0Ig5Q9hwXiP1YPkD2HBNYtkpeEPYcH+xDb83g9hweCD0dXdD2HBugxUVdwPYcGNfQYg0g9hwXmEI2XMD2HBkB3KV8gPYcFOOEZexw9hwSJxyIPID2HBi1fw9ckPYcHNsNaYyQ9hwcceLTrJD2HBby7I9McPYcFW/2vsxw9hwWaDNsnID2HBGBrr8skPYcFm4ptNyQ9hwczxWFvFD2HBz+LIMcAPYcEXUG29vQ9hwXB81+K4D2HBrJKdVbEPYcGmlHysqg9hwdJw4KGkD2HBsITdJZYPYcHkj0sqhg9hwatRvRV6D2HBNk8XcIUPYcFPpigAjw9hwZopAfiXD2HB1/UtPKcPYcF3urB3pA9hwbw/jbChD2HBP5u90Z8PYcHA3jpIng9hwbF00fCdD2HB8bLWZZ8PYcFMjdzXow9hwQ2P+xOqD2HBRpSFp6oPYcF4hNMhrA9hwdhMvGuvD2HB4B40aLIPYcHa7CVNuQ9hwXCpnczDD2HBVTeUscoPYcElXDF31Q9hwV0G4dfjD2HBVwgM1fIPYcGHvoCv7Q9hweGaJm/pD2HBa1Z7seYPYcGAJReM5A9hwYc4UszhD2HBPwlweN4PYcF4oC7V1A9hwYcL703ND2HBPqXp38QPYcEHASkVvQ9hwd+2JmC3D2HBaZ+IdbMPYcExc2qHqQ9hwbwUOjWgD2HBBPI0s5gPYcH+akozkQ9hwbwxFBeMD2HBjT06W4YPYcF32po1fg9hwWVLO/F/D2HBdaglEoQPYcHWwjwbhg9hwbG5nT6HD2HBNFP4J4cPYcEVEjb+hA9hwam+yBJ+D2HBptwLQHYPYcFty+iJcA9hwRWDJW5rD2HBdb3w7WAPYcG3j/SIWw9hwTL3a75TD2HBsAMUoU4PYcFLeozOSQ9hwcMdqPBBD2HB5J/IzTkPYcGW8oMLLg9hwaxqOKMbD2HBueQJqw4PYcGH9A8fBA9hwX1Xz0j5DmHBC+Xu7ekOYcHoeaX/6A5hwfojEXHnDmHBBK6q2eIOYcHp8TTC3A5hwd3aZcjYDmHBsX3Lz9QOYcHhdKdyzw5hwTv61pTMDmHBSDVzwcoOYcE38mywyg5hwbLywgbGDmHBtMZhy7wOYcGeuhW8sw5hwYhDwp2sDmHBYmA0xqQOYcGAvnprnw5hwbxoUh6bDmHBj+1ma5UOYcGjVWzRiw5hwb9cwduHDmHB49ffgoIOYcEc8tareg5hwa2BcK9wDmHBucVGZ2wOYcG5uSPKZw5hwd9hszdeDmHBtkSjW1sOYcHvDY3yVA5hwTBk3/lKDmHBSUnIFUIOYcFKvxYGPA5hwej22r03DmHBOPpixi0OYcFaxyyiIw5hwREBW4kcDmHB0lkiug4OYcEqcpRlCQ5hwdwk8tYADmHBC7Ais/kNYcENDTFL8w1hwXjVQPftDWHBGOZx3OYNYcF1NGVi3w1hwQxTzT/YDWHBpct6wtANYcF9xWpcyg1hwbKQyFHDDWHBM5DBcb8NYcHGIyEzuw1hwSfgmtG0DWHBCQiZ5LANYcF6nNADrg1hwbmPJmWqDWHBAnAMbaYNYcFxuM7Wog1hwQCLMgycDWHBvVk71ZYNYcGfUXgHjw1hweZdxbKJDWHBDWr2BYQNYcHQnFSmfQ1hwfg2Oqt3DWHBB9X4BHINYcHIq7GrbA1hwRvIDhRpDWHB/x6W0GUNYcHYwbLJXw1hwRMsyeNbDWHBuPMKDVMNYcHB9vH5Sw1hwRfGYPRFDWHBOGE8Jz4NYcEee246NA1hwcNnfNktDWHBIoxPjicNYcH8D44fHw1hwbz/E64dDWHBMHysFxoNYcFDCRVzFQ1hwTB/PQYPDWHBGpjKcQsNYcFzji66CA1hwXJVkFEIDWHBmY7yhgcNYcFvCa8bBw1hwXC6odoDDWHB7LhMVgENYcHBSFYO/QxhwfNrb936DGHB1t0j1voMYcHfiPmC+wxhwdnDIlT+DGHBt2UbuAUNYcE/Qrmr+gxhwcB/morzDGHB8VyDoOoMYcGD4DsQ4Qxhwb3k3+LYDGHBUawBr9UMYcGiFN7R0gxhwd94E+PRDGHBQNrtutAMYcHO8zZW0AxhwUwPpt7ODGHBHAdItswMYcGhxGLNwwxhwaiEXxa+DGHB+GmIb7kMYcE3jtlguQxhwUEXmJWyDGHBhddRka0MYcHDmuYRpgxhwSHbLy+iDGHBwifOhJwMYcEpJKpAmAxhwakRMcKVDGHBh4FrXJAMYcF77llPiwxhwTP7FnCIDGHB+GrqK4QMYcHjkwZXfAxhwYLWwfF1DGHBXQsNTHAMYcHrL3dBaQxhwbpKSKlkDGHB3TrRpF4MYcE2b+YvWgxhwXvs3YZVDGHBQNeTH1AMYcFewG9wSwxhwXuF1/RCDGHBB1/cbD8MYcGHYJzpOwxhwWJIXmY4DGHBQIg/sDYMYcHAMG28NgxhwViUG6I0DGHBa7ovki0MYcGgYmBvJQxhwd/NnqYdDGHBA6cJhQoMYcEEK7FX/AthwazdjcvtC2HBwTvAe+kLYcHiA24V6QthwcZMSfHsC2HBgUEGae8LYcHk2TrX8QthwS8luH3yC2HBkiXrdvALYcEXkBEt7Qthwf3FrSvpC2HBNSy9BuELYcHC1V8Z1wthwXJgpZfOC2HBj96oyMYLYcF5+0BjwAthwVjdPNG7C2HB7D0CpbILYcH4VJOFqgthwYWoCyekC2HBsH0Ia50LYcFcZh/QmAthwRkCyzyUC2HBFHOfX5ALYcFQkVS5igthwRSZo1+EC2HBGVeQUn0LYcEZrEODdAthwUOJaKJqC2HBJKmGS2QLYcHVJNY0XQthwTnbBMJVC2HBiukiuk8LYcG38lR5RgthwbLNJ3g5C2HBvrxuYTILYcH50w8ILQthwSvZUhopC2HBKYLMdyQLYcG4KcSvHAthwXfuPLwXC2HBYIoiZhELYcHP6ZFHCQthwS0wHukCC2HBOi0Nw/sKYcFCrZFs9wphwS9l43nzCmHBKi8iDu0KYcEIGTvK3gphwbTnQKjXCmHBYoy6NNEKYcHinm4fywphwZqSu1vFCmHBQckxWsEKYcG4F5zDvgphwRzcfc69CmHB5mPgJbMKYcHHwFdorAphwcxXk46jCmHBlDecLZcKYcExdt0YkAphwSg6wZaCCmHBwp5dHXsKYcEZx1wQdQphwRZUnw5wCmHBB+cYKW0KYcECf1CSaQphwWutMQFmCmHBTz7iW2cKYcGimBKeawphwdEVAaJvCmHBxhPA5HYKYcH1ILL5fQphwWvHdkmGCmHBgRH+FY0KYcFdOm95lQphwTzu2XubCmHBFTbnPaEKYcFuYrd7pwphwdIXav2sCmHBy93WA7YKYcEsPi1DvgphwR/+br/CCmHBrWgkaL4KYcFwNTJYvQphwTmcHoe8CmHBy+Xp+b0KYcGkNLhwwgphwU0kKKfGCmHB8qCX4soKYcFuxOhMyAphwfMeL73ECmHB4JvLBsIKYcGdOwa1xAphwXMBA93FCmHBs3Q7iMYKYcFIQOj4vwphwe1tj2S4CmHB0GLilLMKYcGoSzvEsAphweyIqYaxCmHB303HYLUKYcGQOXVhvQphweH5XeTDCmHBvDDbK8kKYcGPa/o2zwphwcFe3sTWCmHBO3sXjNsKYcEDagxo3wphwf7QgeLkCmHBfndSmugKYcFVuShV7QphwUZ5W1TyCmHBVexZwvQKYcE/dX2x9AphwWFMwmT1CmHBCIFemfgKYcH40TDUAAthwbTgedAFC2HB4fjJ0AsLYcF0knOzEgthwd434uYZC2HBLwMd2CILYcHM+tsNLgthwS9vYUM1C2HBB4Uh4T8LYcFyVCHeRQthwWhmXZ1NC2HBwedInFILYcFH8KDeWAthwVYD7yNfC2HBOz3j52MLYcFLzbJnagthwY0lJmdvC2HBqA3yLHgLYcE1YfZtfwthwQ8PfN9+C2HB4FBtlH8LYcHhUTrTiAthwYb/LhmQC2HBDtj4BpgLYcE8kDNOnQthwbvxqpCjC2HBQ/2S0agLYcEmoHzWrQthwaIvE5yzC2HBcZXuorgLYcEE6+svvgthwUgUHH/AC2HBg6CrjMQLYcG5hbedyQthwR2JjyfNC2HBBa+pa9ALYcEjN6Zx1gthwbW+RjbcC2HBaY93/OILYcGj8dJD6QthwXQzu5DxC2HBT/5EoPoLYcGGs05P/Qthwaie5gcDDGHBVQQNvwgMYcFhbeJ4DAxhwRJAYRYQDGHBJH6pww8MYcGaBAV2EQxhwXsecCoUDGHBxB0/JxkMYcFJ9eBKEwxhwSgHUosNDGHBQe/sPA0MYcETMdHsCgxhwWmOAZ4HDGHBFb87CAIMYcGKvq86/wthwYDJMK39C2HBi8Jv4/0LYcHGnona/wthwcE9EBAFDGHBbXU8QwcMYcGPl15xAQxhwakZQeL+C2HBW6JCjvkLYcEx4ixV8QthwZid5lH1C2HBW7zzEfgLYcGRFRRG+gthwbKa5ED+C2HBEpg1xQIMYcEVdMoNCQxhwZsYNuQMDGHB+3wFSw8MYcGR50N+FAxhwZ6Y4jkZDGHB3HYGHycMYcHHhIw6MAxhwa+2Do0vDGHBu8/5WTEMYcElePoDNAxhwa0635M4DGHBV45gIDoMYcEZrDMxPQxhwRWI3vs/DGHBPNHWjUgMYcErT8OgUgxhwU2VzjBbDGHB6RHI+18MYcHugEXKZQxhwRFXLuRuDGHBehv2fHgMYcESdEyMfgxhwWb8q1aIDGHBQ9tJYpQMYcFUvfUqnwxhwQ1+A7KqDGHBdNpVsrEMYcFDGQN3uAxhwcnLps3CDGHBqFJfiM4MYcHnxM8Z1wxhwesZ223gDGHBT7Qnv+cMYcE4Sdbb8wxhwZ5hGJP8DGHB0Kw26AENYcFCyVu6Bw1hwTkZ6kAQDWHBfLkuzxkNYcEFKjieIA1hwQacCO8gDWHB/DJNPyMNYcFlJRBMJg1hwdwGCtUsDWHBuQkRIDYNYcGGMXDoPg1hwcroOe9EDWHBflYGf0oNYcHtRNJRTw1hwahSzalVDWHBIJBOMlwNYcEAjOVOaw1hwd+KomF1DWHBu9iRtH4NYcEPAXpKhw1hwZRERs+NDWHB9Z3BT5ENYcFNls+Clg1hwdX8YRedDWHBqhSMDqcNYcE8cZTmsw1hwYe7b/q+DWHBn2GzyscNYcFs1GiTzQ1hwfkTWdjRDWHBbfkIGtgNYcFFruzU3w1hwZQjclLmDWHBbPvwHewNYcGmmEci7w1hwal+HCn3DWHBVr/gcv4NYcFOFYp+BQ5hwXkDfrkODmHB5HOCOhgOYcGyvwnBHw5hwTk0HEcnDmHBMeotCjAOYcGkodRKMw5hwWI9p8Y3DmHBbuSmSD0OYcGBBAbMQg5hwc1Yu4VEDmHB+3M+gUgOYcFuPFpCUA5hwYdVo4VYDmHBtavoSV4OYcHPIMORZg5hwTTXPrVqDmHBsofgqmwOYcGPQwKQbw5hwQozIX9yDmHB+gM753EOYcFprcCxcQ5hwd5XZrl7DmHB/4Cev4MOYcHLvMiKjg5hwWlAqKGeDmHB1X6O7acOYcGu02R8sg5hwfXITka6DmHBsDPKy8EOYcF+bwWMyA5hwcZA5ZHQDmHBgXXXr9YOYcFCZSnC2Q5hwS+agpTcDmHBjfnNKOEOYcHsL3cc6A5hwexq+GPrDmHBji9tqu8OYcFLN8Dt8w5hwaPCsS75DmHB9Sa2rv4OYcFZ2QWpAw9hwcnsGmcHD2HB7f7tZg4PYcGQMLIrGA9hwT0zMbMhD2HBdMCMdygPYcGguvc9LQ9hwQ9ypgs0D2HBpuvW4z4PYcGZqjk8SA9hwfuU63dRD2HBITNPyVYPYcEavRlbXA9hwU0mRnFoD2HBF3wFPm8PYcGmiW7NdQ9hwUHLlNp8D2HBHzoF44IPYcFpv5yqiA9hwX0aE22ND2HB08a6Z5EPYcGmJaE9nA9hwdsEJkmiD2HB9uiLVKkPYcHhBxDjrw9hwVyDCzK2D2HBpFrPQL4PYcH5bz2Nxw9hwSk8RF/VD2HBxXotbN4PYcFjr2+y5A9hwSOFNFDvD2HB9Ml3l/QPYcFkmFfvABBhwZrMbskMEGHBQrui2BQQYcEthUCqHhBhwde4vDkoEGHBDi8zgi4QYcGeLOfKNhBhwS0QNRY/EGHBoiku3UIQYcFukijqRhBhwSDcUzZKEGHBmIunh00QYcFOxKxhVBBhwcwNpv1cEGHBznjIBlcQYcGu/QzLUhBhwbBlytRPEGHBsI9bnk4QYcFGvYipThBhwSb9GfVOEGHBMaNKwE4QYcHpOvICShBhwbiSHnxBEGHB5YjlbjgQYcGPkQfmMhBhwfjpU5crEGHBzO86RyEQYcEy7OH+GhBhwf/HpnoWEGHBeK4lxhAQYcFMrX5NDRBhwZ+ih+wIEGHBkh/npAAQYcH/FFma9w9hwWQ1npXwD2HBITSswPAPYcGVK9AY8g9hwbeHeOjxD2HB37iqtfAPYcHj/NOA7g9hweK9OgXrD2HBr1JenOEPYcGk2VSu5g9hwZIYhDbnD2HBPTtxO+YPYcFPHIdB5g9hwQPc0hbvD2HBalVITAYQYcF2PZwpExBhwXD1ecEbEGHBdqz/miQQYcF2lf2sKxBhwbgPKyE3EGHBp061NDwQYcF0xIkDQRBhwbYLVaNNEGHBtUyOBFkQYcHQSoeZXxBhwbTF+6djEGHBkSN8MmUQYcH7mKb6ZBBhwQpWG71iEGHB682Iv2AQYcH5rk0/XBBhwaKjGMFYEGHBwcv+hVcQYcH2B1itVRBhwZkaT/9YEGHBUcxW114QYcEERwW2aBBhwRrMJkxyEGHB1EYFon0QYcE5lihqhhBhweXT1TqSEGHB4IgCxZgQYcFB6F1eoxBhwez9KbitEGHBhRGiT7YQYcEHDCUqvhBhwWhnDQTEEGHBlrxoF8gQYcGljySzyRBhwQKM5YnKEGHBxou63swQYcEUABCy0xBhwQB+pdbjEGHBNYHSwvkQYcHJvPzhCBFhwQ7CWnEQEWHBesi2fBYRYcHD2jTHHBFhwS7ux5ckEWHBkBwhsS8RYcHZJ45IORFhwXYQ7eBBEWHBh24FNEkRYcHQSHLDTxFhweGMKZFWEWHB7CRNiGMRYcGy7Y/abRFhwUeFvm55EWHB52CKxoURYcEKp9dfkxFhwdCGxbGcEWHBF1H9hKURYcGv+8XUqxFhwYbquCOyEWHBfrYgPb4RYcHN7zRayhFhwZN2iK7TEWHBSlB5it4RYcHgVoPg5hFhwWjjKhfvEWHBewypK/YRYcHJ6VBD/hFhwb+KCN4HEmHB2GQ4MA0SYcGayptOFhJhwZf7oWsgEmHBbz+siywSYcGYahBqOBJhwTm3He1HEmHBL7HoClUSYcGs9FqhXhJhwSTcUbVkEmHB2EnBQWkSYcGLHREObxJhwVffIBZzEmHBclcQX3oSYcFidqZqgxJhweeOVvCGEmHBGdpdO4kSYcEBoA/IihJhwWpD4RWNEmHBpJ6HJZESYcFde496lxJhwUG7EtGeEmHBlitL46QSYcHXWDTrqRJhwXDc7PKwEmHBEUSbErYSYcEauMw/vBJhwbB77mnCEmHB9D03VskSYcGOA01UzhJhwcDEFCXSEmHBWwWfB9kSYcHlbL5J4BJhwVjjbrrjEmHBxdHlFusSYcFtTs7X8hJhwb1dTY71EmHBF7IzR/8SYcFgBwi2BBNhwcZJvTwNE2HBCSAMmA0TYcE6xnm1DxNhwbmnG7MUE2HBMVF6BhwTYcFfTXAgIhNhwdHLGX0nE2HBJr6iIioTYcEO8MOBLxNhwegr8icyE2HBvKVasD0TYcEz1fjbTBNhwWJniXlKE2HBSgY1w0wTYcF5qF01UBNhwSvd6F9WE2HBMkUCfV4TYcF5WdkraBNhwdjl1RdxE2HBfVYvu3MTYcHBKhJFeBNhwagp9rl5E2HBHazKt3cTYcHGbx00dBNhwWsxV0VlE2HBCJ6byWsTYcHVeQrfcxNhwTS7j7t8E2HBC0I+hokTYcFZSt6NjhNhwXpzhIyTE2HBqvYDm5YTYcH2UkdIoBNhwSG269CmE2HBjoCOXaYTYcGo0tV0ohNhwY1gdb6dE2HBr4VZ75UTYcEfs4+hkRNhwZs58kOPE2HBecU11pUTYcGyN3tonBNhwbnjisScE2HB/noJKJsTYcE6SgBPmhNhwZQsriacE2HBeMdJyaETYcFwtxAdqxNhwZ+wTMG2E2HBPCZsVb0TYcE2oULKwBNhwYMXL27FE2HB1frnBcwTYcGgE6zE2hNhwQx0NPPgE2HBEw/88uwTYcEm+QIj+hNhwesaQ976E2HBKwWYqPQTYcEpnuop6hNhwZLaGP7hE2HBh5epbOQTYcGja8gp6hNhwXaJIyjvE2HBXGd0avETYcHnkSMJ9hNhwYJ9hq0BFGHBgATiOgoUYcFSAhQtERRhwQ5y2QgVFGHBFqfstxcUYcHc0z/YGBRhwbG9mcIaFGHBL470UyEUYcFnVo9WJhRhwWf7h/8jFGHBHoVa2iAUYcFES/aQIRRhwRlAveMhFGHBKSbXRiAUYcFfB7ouKRRhweN6MIowFGHBHut1yzsUYcEWT8fHQhRhwc7/IYBMFGHByM5LnFYUYcH5Yq0zZRRhwQIITWFrFGHBUEB3zXUUYcGtHxOkexRhwY0w2EyAFGHB75H0LYQUYcH+hDLpixRhwU3ygw6ZFGHB4udk8qEUYcFGJeEXqhRhwVIC6xO4FGHBjjfLj8IUYcE9gvUezhRhwY8erlbSFGHBgoVS1dMUYcEwbh5h4hRhwfsgcNjsFGHBOHbH5vYUYcGcTi0LBBVhwbtzcewRFWHB3air6AoVYcGEhcO/BxVhwYN/L7UFFWHBlqu5tQEVYcFltUpODBVhwctphBcQFWHBgV5zkxEVYcGR5o6YDRVhwekwE/wLFWHB+VHLGAYVYcEaz4alBRVhwZTlenAQFWHBafNzJhgVYcH+/WCsHhVhwZtblhknFWHBfDOOvR4VYcE1en3kGBVhwYrbTEQSFWHBWw8dgw8VYcGYUVUmDRVhwS/R8vkQFWHBmwmVjAQVYcE0m6pm/BRhwYnnphjzFGHBf02hyukUYcHpxdUG4hRhwb5fUYHeFGHBAbDNDN4UYcHh4mbvzBRhwbZwtcfEFGHBClxeibEUYcEl8aKxpBRhwQyZZHeeFGHB80ThbZcUYcHh7jkEjxRhwTILXACUFGHBFomBHJoUYcFeJGw6oBRhwaT/DVSVFGHBJes66YgUYcGQnk/ogRRhwVH68K17FGHBGV6ZP28UYcGvX4AJYhRhwV/WDo9XFGHBKl+1hUsUYcGui29qQRRhwdv352U6FGHBK9Q1rzUUYcEOoqqbMBRhwS0f/B8sFGHBN7GRdCwUYcEVqWg7KxRhwU7ohmUqFGHBJn852CsUYcFLFycZLhRhwf6RMvs4FGHBoyVQNj8UYcFLmhQMQxRhwZ/9p2BKFGHBUGxboU4UYcHc+PBFUxRhweNxlMhUFGHBzmtlY1gUYcE+OB6uThRhwb0qP4RGFGHBJV5CSkAUYcHtb5yqORRhweop7QM6FGHBALjglDkUYcH5euH+NxRhwW9+floxFGHBchkHuSoUYcG91nOaIBRhwV0Js+IWFGHBBngngggUYcHLCw3i9RNhwdrmbr7mE2HBY1rUd+ATYcEfUco02RNhwaKJIrTTE2HBnwWowM8TYcGuytjdyRNhwR4PkpDFE2HBw7BjOcgTYcFo0FJHyxNhwYdQ4XjWE2HBQSsIZ9YTYcGy7+lc1BNhwae48VbSE2HBaqaA/M0TYcFodyL/4BNhwdFjM5/zE2HBDgYulQEUYcE=\"},\"shape\":[2308],\"dtype\":\"float64\",\"order\":\"little\"}]],[[{\"type\":\"ndarray\",\"array\":{\"type\":\"bytes\",\"data\":\"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\"},\"shape\":[2232],\"dtype\":\"float64\",\"order\":\"little\"}]]]],[\"ys\",[[[{\"type\":\"ndarray\",\"array\":{\"type\":\"bytes\",\"data\":\"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\"},\"shape\":[2384],\"dtype\":\"float64\",\"order\":\"little\"}]],[[{\"type\":\"ndarray\",\"array\":{\"type\":\"bytes\",\"data\":\"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\"},\"shape\":[2308],\"dtype\":\"float64\",\"order\":\"little\"}]],[[{\"type\":\"ndarray\",\"array\":{\"type\":\"bytes\",\"data\":\"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\"},\"shape\":[2232],\"dtype\":\"float64\",\"order\":\"little\"}]]]]]}}},\"view\":{\"type\":\"object\",\"name\":\"CDSView\",\"id\":\"117ad735-b79b-415d-b2b6-4365bc337352\",\"attributes\":{\"filter\":{\"type\":\"object\",\"name\":\"AllIndices\",\"id\":\"fbfd501b-f068-4106-9f9f-b4aae3b690e3\"}}},\"glyph\":{\"type\":\"object\",\"name\":\"MultiPolygons\",\"id\":\"bb764e9f-0457-4d70-8197-58ef34a13e64\",\"attributes\":{\"xs\":{\"type\":\"field\",\"field\":\"xs\"},\"ys\":{\"type\":\"field\",\"field\":\"ys\"},\"line_alpha\":{\"type\":\"value\",\"value\":0.5},\"fill_color\":{\"type\":\"value\",\"value\":\"#30a2da\"},\"fill_alpha\":{\"type\":\"value\",\"value\":0.5},\"hatch_color\":{\"type\":\"value\",\"value\":\"#30a2da\"},\"hatch_alpha\":{\"type\":\"value\",\"value\":0.5}}},\"selection_glyph\":{\"type\":\"object\",\"name\":\"MultiPolygons\",\"id\":\"d4311289-82cc-433b-8ff3-e50b1e87770f\",\"attributes\":{\"xs\":{\"type\":\"field\",\"field\":\"xs\"},\"ys\":{\"type\":\"field\",\"field\":\"ys\"},\"line_color\":{\"type\":\"value\",\"value\":\"black\"},\"line_alpha\":{\"type\":\"value\",\"value\":0.5},\"line_width\":{\"type\":\"value\",\"value\":1},\"line_join\":{\"type\":\"value\",\"value\":\"bevel\"},\"line_cap\":{\"type\":\"value\",\"value\":\"butt\"},\"line_dash\":{\"type\":\"value\",\"value\":[]},\"line_dash_offset\":{\"type\":\"value\",\"value\":0},\"fill_color\":{\"type\":\"value\",\"value\":\"#30a2da\"},\"fill_alpha\":{\"type\":\"value\",\"value\":0.5},\"hatch_color\":{\"type\":\"value\",\"value\":\"#30a2da\"},\"hatch_alpha\":{\"type\":\"value\",\"value\":0.5},\"hatch_scale\":{\"type\":\"value\",\"value\":12.0},\"hatch_pattern\":{\"type\":\"value\",\"value\":null},\"hatch_weight\":{\"type\":\"value\",\"value\":1.0}}},\"nonselection_glyph\":{\"type\":\"object\",\"name\":\"MultiPolygons\",\"id\":\"f3df36ff-c066-4db4-9b69-25a880b98361\",\"attributes\":{\"xs\":{\"type\":\"field\",\"field\":\"xs\"},\"ys\":{\"type\":\"field\",\"field\":\"ys\"},\"line_alpha\":{\"type\":\"value\",\"value\":0.5},\"fill_color\":{\"type\":\"value\",\"value\":\"#30a2da\"},\"fill_alpha\":{\"type\":\"value\",\"value\":0.5},\"hatch_color\":{\"type\":\"value\",\"value\":\"#30a2da\"},\"hatch_alpha\":{\"type\":\"value\",\"value\":0.1}}},\"muted_glyph\":{\"type\":\"object\",\"name\":\"MultiPolygons\",\"id\":\"cacd3973-6673-48c6-a23b-17d3ad9d43b6\",\"attributes\":{\"xs\":{\"type\":\"field\",\"field\":\"xs\"},\"ys\":{\"type\":\"field\",\"field\":\"ys\"},\"line_alpha\":{\"type\":\"value\",\"value\":0.2},\"fill_color\":{\"type\":\"value\",\"value\":\"#30a2da\"},\"fill_alpha\":{\"type\":\"value\",\"value\":0.2},\"hatch_color\":{\"type\":\"value\",\"value\":\"#30a2da\"},\"hatch_alpha\":{\"type\":\"value\",\"value\":0.2}}}}},{\"type\":\"object\",\"name\":\"GlyphRenderer\",\"id\":\"66dd7091-e464-4ee6-b17c-49a9898fe259\",\"attributes\":{\"data_source\":{\"type\":\"object\",\"name\":\"ColumnDataSource\",\"id\":\"4b620300-2972-4b8b-b39e-e08d47d9d21f\",\"attributes\":{\"selected\":{\"type\":\"object\",\"name\":\"Selection\",\"id\":\"4710b2c0-c855-4b07-a335-f11a193186f5\",\"attributes\":{\"indices\":[],\"line_indices\":[]}},\"selection_policy\":{\"type\":\"object\",\"name\":\"UnionRenderers\",\"id\":\"bfb6aaf8-d725-4ef5-b46f-1f91e31dc58b\"},\"data\":{\"type\":\"map\",\"entries\":[[\"Longitude\",{\"type\":\"ndarray\",\"array\":{\"type\":\"bytes\",\"data\":\"PREvo1sbYcE=\"},\"shape\":[1],\"dtype\":\"float64\",\"order\":\"little\"}],[\"Latitude\",{\"type\":\"ndarray\",\"array\":{\"type\":\"bytes\",\"data\":\"lKbeU2ICUUE=\"},\"shape\":[1],\"dtype\":\"float64\",\"order\":\"little\"}]]}}},\"view\":{\"type\":\"object\",\"name\":\"CDSView\",\"id\":\"a62ba0f7-56fb-497e-b1e9-29a357b511dd\",\"attributes\":{\"filter\":{\"type\":\"object\",\"name\":\"AllIndices\",\"id\":\"2fe51793-211b-4344-909e-82fcd11f9e1d\"}}},\"glyph\":{\"type\":\"object\",\"name\":\"Scatter\",\"id\":\"18f2cfbc-3d54-4551-8151-65bdd11be459\",\"attributes\":{\"tags\":[\"apply_ranges\"],\"x\":{\"type\":\"field\",\"field\":\"Longitude\"},\"y\":{\"type\":\"field\",\"field\":\"Latitude\"},\"size\":{\"type\":\"value\",\"value\":7.0710678118654755},\"fill_color\":{\"type\":\"value\",\"value\":\"black\"}}},\"selection_glyph\":{\"type\":\"object\",\"name\":\"Scatter\",\"id\":\"cf9449e6-85b9-4275-af27-ac348f3f67f9\",\"attributes\":{\"tags\":[\"apply_ranges\"],\"x\":{\"type\":\"field\",\"field\":\"Longitude\"},\"y\":{\"type\":\"field\",\"field\":\"Latitude\"},\"size\":{\"type\":\"value\",\"value\":7.0710678118654755},\"angle\":{\"type\":\"value\",\"value\":0.0},\"line_color\":{\"type\":\"value\",\"value\":\"black\"},\"line_alpha\":{\"type\":\"value\",\"value\":1.0},\"line_width\":{\"type\":\"value\",\"value\":1},\"line_join\":{\"type\":\"value\",\"value\":\"bevel\"},\"line_cap\":{\"type\":\"value\",\"value\":\"butt\"},\"line_dash\":{\"type\":\"value\",\"value\":[]},\"line_dash_offset\":{\"type\":\"value\",\"value\":0},\"fill_color\":{\"type\":\"value\",\"value\":\"black\"},\"fill_alpha\":{\"type\":\"value\",\"value\":1.0},\"hatch_color\":{\"type\":\"value\",\"value\":\"black\"},\"hatch_alpha\":{\"type\":\"value\",\"value\":1.0},\"hatch_scale\":{\"type\":\"value\",\"value\":12.0},\"hatch_pattern\":{\"type\":\"value\",\"value\":null},\"hatch_weight\":{\"type\":\"value\",\"value\":1.0},\"marker\":{\"type\":\"value\",\"value\":\"circle\"}}},\"nonselection_glyph\":{\"type\":\"object\",\"name\":\"Scatter\",\"id\":\"05d1c3f2-2d93-448e-8044-86f8a2879b72\",\"attributes\":{\"tags\":[\"apply_ranges\"],\"x\":{\"type\":\"field\",\"field\":\"Longitude\"},\"y\":{\"type\":\"field\",\"field\":\"Latitude\"},\"size\":{\"type\":\"value\",\"value\":7.0710678118654755},\"line_alpha\":{\"type\":\"value\",\"value\":0.1},\"fill_color\":{\"type\":\"value\",\"value\":\"black\"},\"fill_alpha\":{\"type\":\"value\",\"value\":0.1},\"hatch_alpha\":{\"type\":\"value\",\"value\":0.1}}},\"muted_glyph\":{\"type\":\"object\",\"name\":\"Scatter\",\"id\":\"0009c1e7-dfe5-4eee-a0b5-ba8dbdfcc9c9\",\"attributes\":{\"tags\":[\"apply_ranges\"],\"x\":{\"type\":\"field\",\"field\":\"Longitude\"},\"y\":{\"type\":\"field\",\"field\":\"Latitude\"},\"size\":{\"type\":\"value\",\"value\":7.0710678118654755},\"line_alpha\":{\"type\":\"value\",\"value\":0.2},\"fill_color\":{\"type\":\"value\",\"value\":\"black\"},\"fill_alpha\":{\"type\":\"value\",\"value\":0.2},\"hatch_alpha\":{\"type\":\"value\",\"value\":0.2}}}}}],\"toolbar\":{\"type\":\"object\",\"name\":\"Toolbar\",\"id\":\"f5d5f875-635e-4a1c-bfe7-31bccc9cb5f0\",\"attributes\":{\"tools\":[{\"type\":\"object\",\"name\":\"WheelZoomTool\",\"id\":\"39e16d51-54d9-4697-ad16-64b35654de0b\",\"attributes\":{\"renderers\":\"auto\",\"zoom_on_axis\":false}},{\"type\":\"object\",\"name\":\"BoxZoomTool\",\"id\":\"2c7bb6db-8680-4c8d-8bd7-105d00914d5a\",\"attributes\":{\"overlay\":{\"type\":\"object\",\"name\":\"BoxAnnotation\",\"id\":\"7146f70f-52b3-4671-8480-c0a9250d329e\",\"attributes\":{\"syncable\":false,\"line_color\":\"black\",\"line_alpha\":1.0,\"line_width\":2,\"line_dash\":[4,4],\"fill_color\":\"lightgrey\",\"fill_alpha\":0.5,\"level\":\"overlay\",\"visible\":false,\"left\":{\"type\":\"number\",\"value\":\"nan\"},\"right\":{\"type\":\"number\",\"value\":\"nan\"},\"top\":{\"type\":\"number\",\"value\":\"nan\"},\"bottom\":{\"type\":\"number\",\"value\":\"nan\"},\"left_units\":\"canvas\",\"right_units\":\"canvas\",\"top_units\":\"canvas\",\"bottom_units\":\"canvas\",\"handles\":{\"type\":\"object\",\"name\":\"BoxInteractionHandles\",\"id\":\"b28d3450-b240-4e6f-9b00-5ecc7a657b6c\",\"attributes\":{\"all\":{\"type\":\"object\",\"name\":\"AreaVisuals\",\"id\":\"66a82ae7-b06d-4e88-a0c9-e64653c90acf\",\"attributes\":{\"fill_color\":\"white\",\"hover_fill_color\":\"lightgray\"}}}}}},\"match_aspect\":true}},{\"type\":\"object\",\"name\":\"HoverTool\",\"id\":\"913ddcfd-6243-4738-a765-0cd95fd28ceb\",\"attributes\":{\"tags\":[\"hv_created\"],\"renderers\":[{\"id\":\"66dd7091-e464-4ee6-b17c-49a9898fe259\"}],\"tooltips\":[[\"Longitude\",\"$x{custom}\"],[\"Latitude\",\"$y{custom}\"]],\"formatters\":{\"type\":\"map\",\"entries\":[[\"$x\",{\"type\":\"object\",\"name\":\"CustomJSHover\",\"id\":\"3048fa57-5e88-483a-b84b-d04e6a637dbf\",\"attributes\":{\"code\":\"\\n        const projections = Bokeh.require(\\\"core/util/projections\\\");\\n        const {snap_x, snap_y} = special_vars\\n        const coords = projections.wgs84_mercator.invert(snap_x, snap_y)\\n        return \\\"\\\" + (coords[0]).toFixed(4)\\n    \"}}],[\"$y\",{\"type\":\"object\",\"name\":\"CustomJSHover\",\"id\":\"a9f43f56-33bf-47f5-992d-991f2c5bc434\",\"attributes\":{\"code\":\"\\n        const projections = Bokeh.require(\\\"core/util/projections\\\");\\n        const {snap_x, snap_y} = special_vars\\n        const coords = projections.wgs84_mercator.invert(snap_x, snap_y)\\n        return \\\"\\\" + (coords[1]).toFixed(4)\\n    \"}}]]}}},{\"type\":\"object\",\"name\":\"PanTool\",\"id\":\"63bbf7fe-3b76-4f20-b059-426041e96e9f\"},{\"type\":\"object\",\"name\":\"ResetTool\",\"id\":\"37fcc0b6-3f57-4cac-9cff-004addb2d062\"}],\"active_drag\":{\"id\":\"63bbf7fe-3b76-4f20-b059-426041e96e9f\"}}},\"left\":[{\"type\":\"object\",\"name\":\"LinearAxis\",\"id\":\"de38c8c7-7797-4a81-85f8-95b55c6a6b25\",\"attributes\":{\"ticker\":{\"type\":\"object\",\"name\":\"MercatorTicker\",\"id\":\"b39aefd3-35ba-4c36-ad30-954c57bf3922\",\"attributes\":{\"mantissas\":[1,2,5],\"dimension\":\"lat\"}},\"formatter\":{\"type\":\"object\",\"name\":\"MercatorTickFormatter\",\"id\":\"d280596f-6f2e-49f9-b5ff-9aedf996af89\",\"attributes\":{\"dimension\":\"lat\"}},\"axis_label\":\"Latitude\",\"major_label_policy\":{\"type\":\"object\",\"name\":\"AllLabels\",\"id\":\"60a8c1f7-26e7-4a02-8d39-068a9e83b7ef\"}}}],\"below\":[{\"type\":\"object\",\"name\":\"LinearAxis\",\"id\":\"3e5833c1-46ad-416b-8cd3-efbef9a06957\",\"attributes\":{\"ticker\":{\"type\":\"object\",\"name\":\"MercatorTicker\",\"id\":\"f0dbc5e9-dba7-4c7a-918e-06d374f590b4\",\"attributes\":{\"mantissas\":[1,2,5],\"dimension\":\"lon\"}},\"formatter\":{\"type\":\"object\",\"name\":\"MercatorTickFormatter\",\"id\":\"a0ae1eab-38c9-4377-9977-d6d1dfa07167\",\"attributes\":{\"dimension\":\"lon\"}},\"axis_label\":\"Longitude\",\"major_label_policy\":{\"type\":\"object\",\"name\":\"AllLabels\",\"id\":\"0d60cde2-d979-405b-9081-ba7166ead99e\"}}}],\"center\":[{\"type\":\"object\",\"name\":\"Grid\",\"id\":\"10a0f5a3-4907-43e0-98ec-e3d1e0b5a01e\",\"attributes\":{\"axis\":{\"id\":\"3e5833c1-46ad-416b-8cd3-efbef9a06957\"},\"grid_line_color\":null}},{\"type\":\"object\",\"name\":\"Grid\",\"id\":\"afe7e17b-29f5-4e24-84f9-61e1b773ad57\",\"attributes\":{\"dimension\":1,\"axis\":{\"id\":\"de38c8c7-7797-4a81-85f8-95b55c6a6b25\"},\"grid_line_color\":null}}],\"frame_width\":433,\"frame_height\":300,\"min_border_top\":10,\"min_border_bottom\":10,\"min_border_left\":10,\"min_border_right\":10,\"output_backend\":\"webgl\",\"match_aspect\":true}},{\"type\":\"object\",\"name\":\"Spacer\",\"id\":\"b25edc08-61b4-4b47-91fe-a9c7648dc6ea\",\"attributes\":{\"name\":\"HSpacer00398\",\"stylesheets\":[\"\\n:host(.pn-loading):before, .pn-loading:before {\\n  background-color: #c3c3c3;\\n  mask-size: auto calc(min(50%, 400px));\\n  -webkit-mask-size: auto calc(min(50%, 400px));\\n}\",{\"id\":\"37686b44-6b1f-43f2-903f-e7035afc8102\"},{\"id\":\"c6140adb-af93-4df9-aee2-697bbdf63e7c\"},{\"id\":\"6a0fb29a-3a8e-4dcd-a253-a03d4005db94\"}],\"margin\":0,\"sizing_mode\":\"stretch_width\",\"align\":\"start\"}}]}}],\"defs\":[{\"type\":\"model\",\"name\":\"ReactiveHTML1\"},{\"type\":\"model\",\"name\":\"FlexBox1\",\"properties\":[{\"name\":\"align_content\",\"kind\":\"Any\",\"default\":\"flex-start\"},{\"name\":\"align_items\",\"kind\":\"Any\",\"default\":\"flex-start\"},{\"name\":\"flex_direction\",\"kind\":\"Any\",\"default\":\"row\"},{\"name\":\"flex_wrap\",\"kind\":\"Any\",\"default\":\"wrap\"},{\"name\":\"gap\",\"kind\":\"Any\",\"default\":\"\"},{\"name\":\"justify_content\",\"kind\":\"Any\",\"default\":\"flex-start\"}]},{\"type\":\"model\",\"name\":\"FloatPanel1\",\"properties\":[{\"name\":\"config\",\"kind\":\"Any\",\"default\":{\"type\":\"map\"}},{\"name\":\"contained\",\"kind\":\"Any\",\"default\":true},{\"name\":\"position\",\"kind\":\"Any\",\"default\":\"right-top\"},{\"name\":\"offsetx\",\"kind\":\"Any\",\"default\":null},{\"name\":\"offsety\",\"kind\":\"Any\",\"default\":null},{\"name\":\"theme\",\"kind\":\"Any\",\"default\":\"primary\"},{\"name\":\"status\",\"kind\":\"Any\",\"default\":\"normalized\"}]},{\"type\":\"model\",\"name\":\"GridStack1\",\"properties\":[{\"name\":\"mode\",\"kind\":\"Any\",\"default\":\"warn\"},{\"name\":\"ncols\",\"kind\":\"Any\",\"default\":null},{\"name\":\"nrows\",\"kind\":\"Any\",\"default\":null},{\"name\":\"allow_resize\",\"kind\":\"Any\",\"default\":true},{\"name\":\"allow_drag\",\"kind\":\"Any\",\"default\":true},{\"name\":\"state\",\"kind\":\"Any\",\"default\":[]}]},{\"type\":\"model\",\"name\":\"drag1\",\"properties\":[{\"name\":\"slider_width\",\"kind\":\"Any\",\"default\":5},{\"name\":\"slider_color\",\"kind\":\"Any\",\"default\":\"black\"},{\"name\":\"value\",\"kind\":\"Any\",\"default\":50}]},{\"type\":\"model\",\"name\":\"click1\",\"properties\":[{\"name\":\"terminal_output\",\"kind\":\"Any\",\"default\":\"\"},{\"name\":\"debug_name\",\"kind\":\"Any\",\"default\":\"\"},{\"name\":\"clears\",\"kind\":\"Any\",\"default\":0}]},{\"type\":\"model\",\"name\":\"FastWrapper1\",\"properties\":[{\"name\":\"object\",\"kind\":\"Any\",\"default\":null},{\"name\":\"style\",\"kind\":\"Any\",\"default\":null}]},{\"type\":\"model\",\"name\":\"NotificationAreaBase1\",\"properties\":[{\"name\":\"js_events\",\"kind\":\"Any\",\"default\":{\"type\":\"map\"}},{\"name\":\"position\",\"kind\":\"Any\",\"default\":\"bottom-right\"},{\"name\":\"_clear\",\"kind\":\"Any\",\"default\":0}]},{\"type\":\"model\",\"name\":\"NotificationArea1\",\"properties\":[{\"name\":\"js_events\",\"kind\":\"Any\",\"default\":{\"type\":\"map\"}},{\"name\":\"notifications\",\"kind\":\"Any\",\"default\":[]},{\"name\":\"position\",\"kind\":\"Any\",\"default\":\"bottom-right\"},{\"name\":\"_clear\",\"kind\":\"Any\",\"default\":0},{\"name\":\"types\",\"kind\":\"Any\",\"default\":[{\"type\":\"map\",\"entries\":[[\"type\",\"warning\"],[\"background\",\"#ffc107\"],[\"icon\",{\"type\":\"map\",\"entries\":[[\"className\",\"fas fa-exclamation-triangle\"],[\"tagName\",\"i\"],[\"color\",\"white\"]]}]]},{\"type\":\"map\",\"entries\":[[\"type\",\"info\"],[\"background\",\"#007bff\"],[\"icon\",{\"type\":\"map\",\"entries\":[[\"className\",\"fas fa-info-circle\"],[\"tagName\",\"i\"],[\"color\",\"white\"]]}]]}]}]},{\"type\":\"model\",\"name\":\"Notification\",\"properties\":[{\"name\":\"background\",\"kind\":\"Any\",\"default\":null},{\"name\":\"duration\",\"kind\":\"Any\",\"default\":3000},{\"name\":\"icon\",\"kind\":\"Any\",\"default\":null},{\"name\":\"message\",\"kind\":\"Any\",\"default\":\"\"},{\"name\":\"notification_type\",\"kind\":\"Any\",\"default\":null},{\"name\":\"_rendered\",\"kind\":\"Any\",\"default\":false},{\"name\":\"_destroyed\",\"kind\":\"Any\",\"default\":false}]},{\"type\":\"model\",\"name\":\"TemplateActions1\",\"properties\":[{\"name\":\"open_modal\",\"kind\":\"Any\",\"default\":0},{\"name\":\"close_modal\",\"kind\":\"Any\",\"default\":0}]},{\"type\":\"model\",\"name\":\"BootstrapTemplateActions1\",\"properties\":[{\"name\":\"open_modal\",\"kind\":\"Any\",\"default\":0},{\"name\":\"close_modal\",\"kind\":\"Any\",\"default\":0}]},{\"type\":\"model\",\"name\":\"TemplateEditor1\",\"properties\":[{\"name\":\"layout\",\"kind\":\"Any\",\"default\":[]}]},{\"type\":\"model\",\"name\":\"MaterialTemplateActions1\",\"properties\":[{\"name\":\"open_modal\",\"kind\":\"Any\",\"default\":0},{\"name\":\"close_modal\",\"kind\":\"Any\",\"default\":0}]},{\"type\":\"model\",\"name\":\"ReactiveESM1\",\"properties\":[{\"name\":\"esm_constants\",\"kind\":\"Any\",\"default\":{\"type\":\"map\"}}]},{\"type\":\"model\",\"name\":\"JSComponent1\",\"properties\":[{\"name\":\"esm_constants\",\"kind\":\"Any\",\"default\":{\"type\":\"map\"}}]},{\"type\":\"model\",\"name\":\"ReactComponent1\",\"properties\":[{\"name\":\"esm_constants\",\"kind\":\"Any\",\"default\":{\"type\":\"map\"}}]},{\"type\":\"model\",\"name\":\"AnyWidgetComponent1\",\"properties\":[{\"name\":\"esm_constants\",\"kind\":\"Any\",\"default\":{\"type\":\"map\"}}]},{\"type\":\"model\",\"name\":\"request_value1\",\"properties\":[{\"name\":\"fill\",\"kind\":\"Any\",\"default\":\"none\"},{\"name\":\"_synced\",\"kind\":\"Any\",\"default\":null},{\"name\":\"_request_sync\",\"kind\":\"Any\",\"default\":0}]}]}};\n",
       "  var render_items = [{\"docid\":\"f636afe6-99b7-46de-a80c-a20fa14db3bc\",\"roots\":{\"5ac93b68-8893-42f1-9058-357d9ae52116\":\"a108ccbb-e260-448a-b996-0c73a7298e33\"},\"root_ids\":[\"5ac93b68-8893-42f1-9058-357d9ae52116\"]}];\n",
       "  var docs = Object.values(docs_json)\n",
       "  if (!docs) {\n",
       "    return\n",
       "  }\n",
       "  const py_version = docs[0].version.replace('rc', '-rc.').replace('.dev', '-dev.')\n",
       "  async function embed_document(root) {\n",
       "    var Bokeh = get_bokeh(root)\n",
       "    await Bokeh.embed.embed_items_notebook(docs_json, render_items);\n",
       "    for (const render_item of render_items) {\n",
       "      for (const root_id of render_item.root_ids) {\n",
       "\tconst id_el = document.getElementById(root_id)\n",
       "\tif (id_el.children.length && id_el.children[0].hasAttribute('data-root-id')) {\n",
       "\t  const root_el = id_el.children[0]\n",
       "\t  root_el.id = root_el.id + '-rendered'\n",
       "\t  for (const child of root_el.children) {\n",
       "            // Ensure JupyterLab does not capture keyboard shortcuts\n",
       "            // see: https://jupyterlab.readthedocs.io/en/4.1.x/extension/notebook.html#keyboard-interaction-model\n",
       "\t    child.setAttribute('data-lm-suppress-shortcuts', 'true')\n",
       "\t  }\n",
       "\t}\n",
       "      }\n",
       "    }\n",
       "  }\n",
       "  function get_bokeh(root) {\n",
       "    if (root.Bokeh === undefined) {\n",
       "      return null\n",
       "    } else if (root.Bokeh.version !== py_version) {\n",
       "      if (root.Bokeh.versions === undefined || !root.Bokeh.versions.has(py_version)) {\n",
       "\treturn null\n",
       "      }\n",
       "      return root.Bokeh.versions.get(py_version);\n",
       "    } else if (root.Bokeh.version === py_version) {\n",
       "      return root.Bokeh\n",
       "    }\n",
       "    return null\n",
       "  }\n",
       "  function is_loaded(root) {\n",
       "    var Bokeh = get_bokeh(root)\n",
       "    return (Bokeh != null && Bokeh.Panel !== undefined)\n",
       "  }\n",
       "  if (is_loaded(root)) {\n",
       "    embed_document(root);\n",
       "  } else {\n",
       "    var attempts = 0;\n",
       "    var timer = setInterval(function(root) {\n",
       "      if (is_loaded(root)) {\n",
       "        clearInterval(timer);\n",
       "        embed_document(root);\n",
       "      } else if (document.readyState == \"complete\") {\n",
       "        attempts++;\n",
       "        if (attempts > 200) {\n",
       "          clearInterval(timer);\n",
       "\t  var Bokeh = get_bokeh(root)\n",
       "\t  if (Bokeh == null || Bokeh.Panel == null) {\n",
       "            console.warn(\"Panel: ERROR: Unable to run Panel code because Bokeh or Panel library is missing\");\n",
       "\t  } else {\n",
       "\t    console.warn(\"Panel: WARNING: Attempting to render but not all required libraries could be resolved.\")\n",
       "\t    embed_document(root)\n",
       "\t  }\n",
       "        }\n",
       "      }\n",
       "    }, 25, root)\n",
       "  }\n",
       "})(window);</script>"
      ],
      "text/plain": [
       ":Overlay\n",
       "   .WMTS.I     :WMTS   [Longitude,Latitude]\n",
       "   .Polygons.I :Polygons   [Longitude,Latitude]\n",
       "   .Points.I   :Points   [Longitude,Latitude]"
      ]
     },
     "execution_count": 7,
     "metadata": {
      "application/vnd.holoviews_exec.v0+json": {
       "id": "5ac93b68-8893-42f1-9058-357d9ae52116"
      }
     },
     "output_type": "execute_result"
    }
   ],
   "source": [
    "gdf[gdf.id != \"usgs-03171000\"].hvplot(geo=True, tiles=\"OSM\", alpha=0.5) * \\\n",
    "    gdf[gdf.id == \"usgs-03171000\"].hvplot(geo=True, color=\"black\", size=50)"
   ]
  },
  {
   "cell_type": "markdown",
   "metadata": {},
   "source": [
    "Now we'll fetch NWM gridded AnA data and calculate MAP. We'll consider this \"observed\" since it's MRMS. The location ID prefix filters to include only our polygons. Append is default so it will add rainfall data to the streamflow in the table (primary timeseries table will contain both streamflow and rainfall)"
   ]
  },
  {
   "cell_type": "code",
   "execution_count": 8,
   "metadata": {
    "tags": [
     "hide-output"
    ]
   },
   "outputs": [
    {
     "name": "stderr",
     "output_type": "stream",
     "text": [
      "WARNING:google.auth.compute_engine._metadata:Compute Engine Metadata server unavailable on attempt 1 of 3. Reason: timed out\n",
      "WARNING:google.auth.compute_engine._metadata:Compute Engine Metadata server unavailable on attempt 2 of 3. Reason: timed out\n",
      "WARNING:google.auth.compute_engine._metadata:Compute Engine Metadata server unavailable on attempt 3 of 3. Reason: timed out\n",
      "WARNING:google.auth._default:Authentication failed using Compute Engine authentication due to unavailable metadata server.\n",
      "WARNING:google.auth.compute_engine._metadata:Compute Engine Metadata server unavailable on attempt 1 of 5. Reason: HTTPConnectionPool(host='metadata.google.internal', port=80): Max retries exceeded with url: /computeMetadata/v1/instance/service-accounts/default/?recursive=true (Caused by NameResolutionError(\"<urllib3.connection.HTTPConnection object at 0x7b334ca0b160>: Failed to resolve 'metadata.google.internal' ([Errno -2] Name or service not known)\"))\n",
      "WARNING:google.auth.compute_engine._metadata:Compute Engine Metadata server unavailable on attempt 2 of 5. Reason: HTTPConnectionPool(host='metadata.google.internal', port=80): Max retries exceeded with url: /computeMetadata/v1/instance/service-accounts/default/?recursive=true (Caused by NameResolutionError(\"<urllib3.connection.HTTPConnection object at 0x7b334ca0bd60>: Failed to resolve 'metadata.google.internal' ([Errno -2] Name or service not known)\"))\n",
      "WARNING:google.auth.compute_engine._metadata:Compute Engine Metadata server unavailable on attempt 3 of 5. Reason: HTTPConnectionPool(host='metadata.google.internal', port=80): Max retries exceeded with url: /computeMetadata/v1/instance/service-accounts/default/?recursive=true (Caused by NameResolutionError(\"<urllib3.connection.HTTPConnection object at 0x7b334ca481c0>: Failed to resolve 'metadata.google.internal' ([Errno -2] Name or service not known)\"))\n",
      "WARNING:google.auth.compute_engine._metadata:Compute Engine Metadata server unavailable on attempt 4 of 5. Reason: HTTPConnectionPool(host='metadata.google.internal', port=80): Max retries exceeded with url: /computeMetadata/v1/instance/service-accounts/default/?recursive=true (Caused by NameResolutionError(\"<urllib3.connection.HTTPConnection object at 0x7b334ca486a0>: Failed to resolve 'metadata.google.internal' ([Errno -2] Name or service not known)\"))\n",
      "WARNING:google.auth.compute_engine._metadata:Compute Engine Metadata server unavailable on attempt 5 of 5. Reason: HTTPConnectionPool(host='metadata.google.internal', port=80): Max retries exceeded with url: /computeMetadata/v1/instance/service-accounts/default/?recursive=true (Caused by NameResolutionError(\"<urllib3.connection.HTTPConnection object at 0x7b334ca48b80>: Failed to resolve 'metadata.google.internal' ([Errno -2] Name or service not known)\"))\n",
      "WARNING:google.auth.compute_engine._metadata:Compute Engine Metadata server unavailable on attempt 1 of 3. Reason: timed out\n",
      "WARNING:google.auth.compute_engine._metadata:Compute Engine Metadata server unavailable on attempt 2 of 3. Reason: timed out\n",
      "WARNING:google.auth.compute_engine._metadata:Compute Engine Metadata server unavailable on attempt 3 of 3. Reason: timed out\n",
      "WARNING:google.auth._default:Authentication failed using Compute Engine authentication due to unavailable metadata server.\n",
      "WARNING:google.auth.compute_engine._metadata:Compute Engine Metadata server unavailable on attempt 1 of 5. Reason: HTTPConnectionPool(host='metadata.google.internal', port=80): Max retries exceeded with url: /computeMetadata/v1/instance/service-accounts/default/?recursive=true (Caused by NameResolutionError(\"<urllib3.connection.HTTPConnection object at 0x7b334ad8ada0>: Failed to resolve 'metadata.google.internal' ([Errno -2] Name or service not known)\"))\n",
      "WARNING:google.auth.compute_engine._metadata:Compute Engine Metadata server unavailable on attempt 2 of 5. Reason: HTTPConnectionPool(host='metadata.google.internal', port=80): Max retries exceeded with url: /computeMetadata/v1/instance/service-accounts/default/?recursive=true (Caused by NameResolutionError(\"<urllib3.connection.HTTPConnection object at 0x7b334ad8a020>: Failed to resolve 'metadata.google.internal' ([Errno -2] Name or service not known)\"))\n",
      "WARNING:google.auth.compute_engine._metadata:Compute Engine Metadata server unavailable on attempt 3 of 5. Reason: HTTPConnectionPool(host='metadata.google.internal', port=80): Max retries exceeded with url: /computeMetadata/v1/instance/service-accounts/default/?recursive=true (Caused by NameResolutionError(\"<urllib3.connection.HTTPConnection object at 0x7b334ad8a560>: Failed to resolve 'metadata.google.internal' ([Errno -2] Name or service not known)\"))\n",
      "WARNING:google.auth.compute_engine._metadata:Compute Engine Metadata server unavailable on attempt 4 of 5. Reason: HTTPConnectionPool(host='metadata.google.internal', port=80): Max retries exceeded with url: /computeMetadata/v1/instance/service-accounts/default/?recursive=true (Caused by NameResolutionError(\"<urllib3.connection.HTTPConnection object at 0x7b334b6f31f0>: Failed to resolve 'metadata.google.internal' ([Errno -2] Name or service not known)\"))\n",
      "WARNING:google.auth.compute_engine._metadata:Compute Engine Metadata server unavailable on attempt 5 of 5. Reason: HTTPConnectionPool(host='metadata.google.internal', port=80): Max retries exceeded with url: /computeMetadata/v1/instance/service-accounts/default/?recursive=true (Caused by NameResolutionError(\"<urllib3.connection.HTTPConnection object at 0x7b334b6f39d0>: Failed to resolve 'metadata.google.internal' ([Errno -2] Name or service not known)\"))\n",
      "WARNING:google.auth.compute_engine._metadata:Compute Engine Metadata server unavailable on attempt 1 of 3. Reason: timed out\n",
      "WARNING:google.auth.compute_engine._metadata:Compute Engine Metadata server unavailable on attempt 2 of 3. Reason: timed out\n",
      "WARNING:google.auth.compute_engine._metadata:Compute Engine Metadata server unavailable on attempt 3 of 3. Reason: timed out\n",
      "WARNING:google.auth._default:Authentication failed using Compute Engine authentication due to unavailable metadata server.\n",
      "WARNING:google.auth.compute_engine._metadata:Compute Engine Metadata server unavailable on attempt 1 of 5. Reason: HTTPConnectionPool(host='metadata.google.internal', port=80): Max retries exceeded with url: /computeMetadata/v1/instance/service-accounts/default/?recursive=true (Caused by NameResolutionError(\"<urllib3.connection.HTTPConnection object at 0x7b334ad8bcd0>: Failed to resolve 'metadata.google.internal' ([Errno -2] Name or service not known)\"))\n",
      "WARNING:google.auth.compute_engine._metadata:Compute Engine Metadata server unavailable on attempt 2 of 5. Reason: HTTPConnectionPool(host='metadata.google.internal', port=80): Max retries exceeded with url: /computeMetadata/v1/instance/service-accounts/default/?recursive=true (Caused by NameResolutionError(\"<urllib3.connection.HTTPConnection object at 0x7b334ad2f130>: Failed to resolve 'metadata.google.internal' ([Errno -2] Name or service not known)\"))\n",
      "WARNING:google.auth.compute_engine._metadata:Compute Engine Metadata server unavailable on attempt 3 of 5. Reason: HTTPConnectionPool(host='metadata.google.internal', port=80): Max retries exceeded with url: /computeMetadata/v1/instance/service-accounts/default/?recursive=true (Caused by NameResolutionError(\"<urllib3.connection.HTTPConnection object at 0x7b334ad2eb30>: Failed to resolve 'metadata.google.internal' ([Errno -2] Name or service not known)\"))\n",
      "WARNING:google.auth.compute_engine._metadata:Compute Engine Metadata server unavailable on attempt 4 of 5. Reason: HTTPConnectionPool(host='metadata.google.internal', port=80): Max retries exceeded with url: /computeMetadata/v1/instance/service-accounts/default/?recursive=true (Caused by NameResolutionError(\"<urllib3.connection.HTTPConnection object at 0x7b334ad2ea40>: Failed to resolve 'metadata.google.internal' ([Errno -2] Name or service not known)\"))\n",
      "WARNING:google.auth.compute_engine._metadata:Compute Engine Metadata server unavailable on attempt 5 of 5. Reason: HTTPConnectionPool(host='metadata.google.internal', port=80): Max retries exceeded with url: /computeMetadata/v1/instance/service-accounts/default/?recursive=true (Caused by NameResolutionError(\"<urllib3.connection.HTTPConnection object at 0x7b334ad00880>: Failed to resolve 'metadata.google.internal' ([Errno -2] Name or service not known)\"))\n",
      "WARNING:google.auth.compute_engine._metadata:Compute Engine Metadata server unavailable on attempt 1 of 3. Reason: timed out\n",
      "WARNING:google.auth.compute_engine._metadata:Compute Engine Metadata server unavailable on attempt 2 of 3. Reason: timed out\n",
      "WARNING:google.auth.compute_engine._metadata:Compute Engine Metadata server unavailable on attempt 3 of 3. Reason: timed out\n",
      "WARNING:google.auth._default:Authentication failed using Compute Engine authentication due to unavailable metadata server.\n",
      "WARNING:google.auth.compute_engine._metadata:Compute Engine Metadata server unavailable on attempt 1 of 5. Reason: HTTPConnectionPool(host='metadata.google.internal', port=80): Max retries exceeded with url: /computeMetadata/v1/instance/service-accounts/default/?recursive=true (Caused by NameResolutionError(\"<urllib3.connection.HTTPConnection object at 0x7b333a6bcfd0>: Failed to resolve 'metadata.google.internal' ([Errno -2] Name or service not known)\"))\n",
      "WARNING:google.auth.compute_engine._metadata:Compute Engine Metadata server unavailable on attempt 2 of 5. Reason: HTTPConnectionPool(host='metadata.google.internal', port=80): Max retries exceeded with url: /computeMetadata/v1/instance/service-accounts/default/?recursive=true (Caused by NameResolutionError(\"<urllib3.connection.HTTPConnection object at 0x7b333a6bcb20>: Failed to resolve 'metadata.google.internal' ([Errno -2] Name or service not known)\"))\n",
      "WARNING:google.auth.compute_engine._metadata:Compute Engine Metadata server unavailable on attempt 3 of 5. Reason: HTTPConnectionPool(host='metadata.google.internal', port=80): Max retries exceeded with url: /computeMetadata/v1/instance/service-accounts/default/?recursive=true (Caused by NameResolutionError(\"<urllib3.connection.HTTPConnection object at 0x7b333a6bddb0>: Failed to resolve 'metadata.google.internal' ([Errno -2] Name or service not known)\"))\n",
      "WARNING:google.auth.compute_engine._metadata:Compute Engine Metadata server unavailable on attempt 4 of 5. Reason: HTTPConnectionPool(host='metadata.google.internal', port=80): Max retries exceeded with url: /computeMetadata/v1/instance/service-accounts/default/?recursive=true (Caused by NameResolutionError(\"<urllib3.connection.HTTPConnection object at 0x7b333a6be1a0>: Failed to resolve 'metadata.google.internal' ([Errno -2] Name or service not known)\"))\n",
      "WARNING:google.auth.compute_engine._metadata:Compute Engine Metadata server unavailable on attempt 5 of 5. Reason: HTTPConnectionPool(host='metadata.google.internal', port=80): Max retries exceeded with url: /computeMetadata/v1/instance/service-accounts/default/?recursive=true (Caused by NameResolutionError(\"<urllib3.connection.HTTPConnection object at 0x7b333a6be590>: Failed to resolve 'metadata.google.internal' ([Errno -2] Name or service not known)\"))\n",
      "WARNING:google.auth.compute_engine._metadata:Compute Engine Metadata server unavailable on attempt 1 of 3. Reason: timed out\n",
      "WARNING:google.auth.compute_engine._metadata:Compute Engine Metadata server unavailable on attempt 2 of 3. Reason: timed out\n",
      "WARNING:google.auth.compute_engine._metadata:Compute Engine Metadata server unavailable on attempt 3 of 3. Reason: timed out\n",
      "WARNING:google.auth._default:Authentication failed using Compute Engine authentication due to unavailable metadata server.\n",
      "WARNING:google.auth.compute_engine._metadata:Compute Engine Metadata server unavailable on attempt 1 of 5. Reason: HTTPConnectionPool(host='metadata.google.internal', port=80): Max retries exceeded with url: /computeMetadata/v1/instance/service-accounts/default/?recursive=true (Caused by NameResolutionError(\"<urllib3.connection.HTTPConnection object at 0x7b333a611450>: Failed to resolve 'metadata.google.internal' ([Errno -2] Name or service not known)\"))\n",
      "WARNING:google.auth.compute_engine._metadata:Compute Engine Metadata server unavailable on attempt 2 of 5. Reason: HTTPConnectionPool(host='metadata.google.internal', port=80): Max retries exceeded with url: /computeMetadata/v1/instance/service-accounts/default/?recursive=true (Caused by NameResolutionError(\"<urllib3.connection.HTTPConnection object at 0x7b333a611120>: Failed to resolve 'metadata.google.internal' ([Errno -2] Name or service not known)\"))\n",
      "WARNING:google.auth.compute_engine._metadata:Compute Engine Metadata server unavailable on attempt 3 of 5. Reason: HTTPConnectionPool(host='metadata.google.internal', port=80): Max retries exceeded with url: /computeMetadata/v1/instance/service-accounts/default/?recursive=true (Caused by NameResolutionError(\"<urllib3.connection.HTTPConnection object at 0x7b333a6118d0>: Failed to resolve 'metadata.google.internal' ([Errno -2] Name or service not known)\"))\n",
      "WARNING:google.auth.compute_engine._metadata:Compute Engine Metadata server unavailable on attempt 4 of 5. Reason: HTTPConnectionPool(host='metadata.google.internal', port=80): Max retries exceeded with url: /computeMetadata/v1/instance/service-accounts/default/?recursive=true (Caused by NameResolutionError(\"<urllib3.connection.HTTPConnection object at 0x7b333a612320>: Failed to resolve 'metadata.google.internal' ([Errno -2] Name or service not known)\"))\n",
      "WARNING:google.auth.compute_engine._metadata:Compute Engine Metadata server unavailable on attempt 5 of 5. Reason: HTTPConnectionPool(host='metadata.google.internal', port=80): Max retries exceeded with url: /computeMetadata/v1/instance/service-accounts/default/?recursive=true (Caused by NameResolutionError(\"<urllib3.connection.HTTPConnection object at 0x7b333a612e00>: Failed to resolve 'metadata.google.internal' ([Errno -2] Name or service not known)\"))\n",
      "WARNING:google.auth.compute_engine._metadata:Compute Engine Metadata server unavailable on attempt 1 of 3. Reason: timed out\n",
      "WARNING:google.auth.compute_engine._metadata:Compute Engine Metadata server unavailable on attempt 2 of 3. Reason: timed out\n",
      "WARNING:google.auth.compute_engine._metadata:Compute Engine Metadata server unavailable on attempt 3 of 3. Reason: timed out\n",
      "WARNING:google.auth._default:Authentication failed using Compute Engine authentication due to unavailable metadata server.\n",
      "WARNING:google.auth.compute_engine._metadata:Compute Engine Metadata server unavailable on attempt 1 of 5. Reason: HTTPConnectionPool(host='metadata.google.internal', port=80): Max retries exceeded with url: /computeMetadata/v1/instance/service-accounts/default/?recursive=true (Caused by NameResolutionError(\"<urllib3.connection.HTTPConnection object at 0x7b334b65ee90>: Failed to resolve 'metadata.google.internal' ([Errno -2] Name or service not known)\"))\n",
      "WARNING:google.auth.compute_engine._metadata:Compute Engine Metadata server unavailable on attempt 2 of 5. Reason: HTTPConnectionPool(host='metadata.google.internal', port=80): Max retries exceeded with url: /computeMetadata/v1/instance/service-accounts/default/?recursive=true (Caused by NameResolutionError(\"<urllib3.connection.HTTPConnection object at 0x7b334ad88f70>: Failed to resolve 'metadata.google.internal' ([Errno -2] Name or service not known)\"))\n",
      "WARNING:google.auth.compute_engine._metadata:Compute Engine Metadata server unavailable on attempt 3 of 5. Reason: HTTPConnectionPool(host='metadata.google.internal', port=80): Max retries exceeded with url: /computeMetadata/v1/instance/service-accounts/default/?recursive=true (Caused by NameResolutionError(\"<urllib3.connection.HTTPConnection object at 0x7b333a6bc760>: Failed to resolve 'metadata.google.internal' ([Errno -2] Name or service not known)\"))\n",
      "WARNING:google.auth.compute_engine._metadata:Compute Engine Metadata server unavailable on attempt 4 of 5. Reason: HTTPConnectionPool(host='metadata.google.internal', port=80): Max retries exceeded with url: /computeMetadata/v1/instance/service-accounts/default/?recursive=true (Caused by NameResolutionError(\"<urllib3.connection.HTTPConnection object at 0x7b334ad02ad0>: Failed to resolve 'metadata.google.internal' ([Errno -2] Name or service not known)\"))\n",
      "WARNING:google.auth.compute_engine._metadata:Compute Engine Metadata server unavailable on attempt 5 of 5. Reason: HTTPConnectionPool(host='metadata.google.internal', port=80): Max retries exceeded with url: /computeMetadata/v1/instance/service-accounts/default/?recursive=true (Caused by NameResolutionError(\"<urllib3.connection.HTTPConnection object at 0x7b334b65c2e0>: Failed to resolve 'metadata.google.internal' ([Errno -2] Name or service not known)\"))\n",
      "WARNING:google.auth.compute_engine._metadata:Compute Engine Metadata server unavailable on attempt 1 of 3. Reason: timed out\n",
      "WARNING:google.auth.compute_engine._metadata:Compute Engine Metadata server unavailable on attempt 2 of 3. Reason: timed out\n",
      "WARNING:google.auth.compute_engine._metadata:Compute Engine Metadata server unavailable on attempt 3 of 3. Reason: timed out\n",
      "WARNING:google.auth._default:Authentication failed using Compute Engine authentication due to unavailable metadata server.\n",
      "WARNING:google.auth.compute_engine._metadata:Compute Engine Metadata server unavailable on attempt 1 of 5. Reason: HTTPConnectionPool(host='metadata.google.internal', port=80): Max retries exceeded with url: /computeMetadata/v1/instance/service-accounts/default/?recursive=true (Caused by NameResolutionError(\"<urllib3.connection.HTTPConnection object at 0x7b333de5c310>: Failed to resolve 'metadata.google.internal' ([Errno -2] Name or service not known)\"))\n",
      "WARNING:google.auth.compute_engine._metadata:Compute Engine Metadata server unavailable on attempt 2 of 5. Reason: HTTPConnectionPool(host='metadata.google.internal', port=80): Max retries exceeded with url: /computeMetadata/v1/instance/service-accounts/default/?recursive=true (Caused by NameResolutionError(\"<urllib3.connection.HTTPConnection object at 0x7b333dd323e0>: Failed to resolve 'metadata.google.internal' ([Errno -2] Name or service not known)\"))\n",
      "WARNING:google.auth.compute_engine._metadata:Compute Engine Metadata server unavailable on attempt 3 of 5. Reason: HTTPConnectionPool(host='metadata.google.internal', port=80): Max retries exceeded with url: /computeMetadata/v1/instance/service-accounts/default/?recursive=true (Caused by NameResolutionError(\"<urllib3.connection.HTTPConnection object at 0x7b334b6a48e0>: Failed to resolve 'metadata.google.internal' ([Errno -2] Name or service not known)\"))\n",
      "WARNING:google.auth.compute_engine._metadata:Compute Engine Metadata server unavailable on attempt 4 of 5. Reason: HTTPConnectionPool(host='metadata.google.internal', port=80): Max retries exceeded with url: /computeMetadata/v1/instance/service-accounts/default/?recursive=true (Caused by NameResolutionError(\"<urllib3.connection.HTTPConnection object at 0x7b334b6a6b30>: Failed to resolve 'metadata.google.internal' ([Errno -2] Name or service not known)\"))\n",
      "WARNING:google.auth.compute_engine._metadata:Compute Engine Metadata server unavailable on attempt 5 of 5. Reason: HTTPConnectionPool(host='metadata.google.internal', port=80): Max retries exceeded with url: /computeMetadata/v1/instance/service-accounts/default/?recursive=true (Caused by NameResolutionError(\"<urllib3.connection.HTTPConnection object at 0x7b334b6a5fc0>: Failed to resolve 'metadata.google.internal' ([Errno -2] Name or service not known)\"))\n",
      "WARNING:google.auth.compute_engine._metadata:Compute Engine Metadata server unavailable on attempt 1 of 3. Reason: timed out\n",
      "WARNING:google.auth.compute_engine._metadata:Compute Engine Metadata server unavailable on attempt 2 of 3. Reason: timed out\n",
      "WARNING:google.auth.compute_engine._metadata:Compute Engine Metadata server unavailable on attempt 3 of 3. Reason: timed out\n",
      "WARNING:google.auth._default:Authentication failed using Compute Engine authentication due to unavailable metadata server.\n",
      "WARNING:google.auth.compute_engine._metadata:Compute Engine Metadata server unavailable on attempt 1 of 5. Reason: HTTPConnectionPool(host='metadata.google.internal', port=80): Max retries exceeded with url: /computeMetadata/v1/instance/service-accounts/default/?recursive=true (Caused by NameResolutionError(\"<urllib3.connection.HTTPConnection object at 0x7b333dc3ff70>: Failed to resolve 'metadata.google.internal' ([Errno -2] Name or service not known)\"))\n",
      "WARNING:google.auth.compute_engine._metadata:Compute Engine Metadata server unavailable on attempt 2 of 5. Reason: HTTPConnectionPool(host='metadata.google.internal', port=80): Max retries exceeded with url: /computeMetadata/v1/instance/service-accounts/default/?recursive=true (Caused by NameResolutionError(\"<urllib3.connection.HTTPConnection object at 0x7b333dfa00a0>: Failed to resolve 'metadata.google.internal' ([Errno -2] Name or service not known)\"))\n",
      "WARNING:google.auth.compute_engine._metadata:Compute Engine Metadata server unavailable on attempt 3 of 5. Reason: HTTPConnectionPool(host='metadata.google.internal', port=80): Max retries exceeded with url: /computeMetadata/v1/instance/service-accounts/default/?recursive=true (Caused by NameResolutionError(\"<urllib3.connection.HTTPConnection object at 0x7b333dedc730>: Failed to resolve 'metadata.google.internal' ([Errno -2] Name or service not known)\"))\n",
      "WARNING:google.auth.compute_engine._metadata:Compute Engine Metadata server unavailable on attempt 4 of 5. Reason: HTTPConnectionPool(host='metadata.google.internal', port=80): Max retries exceeded with url: /computeMetadata/v1/instance/service-accounts/default/?recursive=true (Caused by NameResolutionError(\"<urllib3.connection.HTTPConnection object at 0x7b334b6a51b0>: Failed to resolve 'metadata.google.internal' ([Errno -2] Name or service not known)\"))\n",
      "WARNING:google.auth.compute_engine._metadata:Compute Engine Metadata server unavailable on attempt 5 of 5. Reason: HTTPConnectionPool(host='metadata.google.internal', port=80): Max retries exceeded with url: /computeMetadata/v1/instance/service-accounts/default/?recursive=true (Caused by NameResolutionError(\"<urllib3.connection.HTTPConnection object at 0x7b334b6a6a70>: Failed to resolve 'metadata.google.internal' ([Errno -2] Name or service not known)\"))\n",
      "WARNING:google.auth.compute_engine._metadata:Compute Engine Metadata server unavailable on attempt 1 of 3. Reason: timed out\n",
      "WARNING:google.auth.compute_engine._metadata:Compute Engine Metadata server unavailable on attempt 2 of 3. Reason: timed out\n",
      "WARNING:google.auth.compute_engine._metadata:Compute Engine Metadata server unavailable on attempt 3 of 3. Reason: timed out\n",
      "WARNING:google.auth._default:Authentication failed using Compute Engine authentication due to unavailable metadata server.\n",
      "WARNING:google.auth.compute_engine._metadata:Compute Engine Metadata server unavailable on attempt 1 of 5. Reason: HTTPConnectionPool(host='metadata.google.internal', port=80): Max retries exceeded with url: /computeMetadata/v1/instance/service-accounts/default/?recursive=true (Caused by NameResolutionError(\"<urllib3.connection.HTTPConnection object at 0x7b334ad89ab0>: Failed to resolve 'metadata.google.internal' ([Errno -2] Name or service not known)\"))\n",
      "WARNING:google.auth.compute_engine._metadata:Compute Engine Metadata server unavailable on attempt 2 of 5. Reason: HTTPConnectionPool(host='metadata.google.internal', port=80): Max retries exceeded with url: /computeMetadata/v1/instance/service-accounts/default/?recursive=true (Caused by NameResolutionError(\"<urllib3.connection.HTTPConnection object at 0x7b334ad8aa70>: Failed to resolve 'metadata.google.internal' ([Errno -2] Name or service not known)\"))\n",
      "WARNING:google.auth.compute_engine._metadata:Compute Engine Metadata server unavailable on attempt 3 of 5. Reason: HTTPConnectionPool(host='metadata.google.internal', port=80): Max retries exceeded with url: /computeMetadata/v1/instance/service-accounts/default/?recursive=true (Caused by NameResolutionError(\"<urllib3.connection.HTTPConnection object at 0x7b334b65eb30>: Failed to resolve 'metadata.google.internal' ([Errno -2] Name or service not known)\"))\n",
      "WARNING:google.auth.compute_engine._metadata:Compute Engine Metadata server unavailable on attempt 4 of 5. Reason: HTTPConnectionPool(host='metadata.google.internal', port=80): Max retries exceeded with url: /computeMetadata/v1/instance/service-accounts/default/?recursive=true (Caused by NameResolutionError(\"<urllib3.connection.HTTPConnection object at 0x7b334ad8ab90>: Failed to resolve 'metadata.google.internal' ([Errno -2] Name or service not known)\"))\n",
      "WARNING:google.auth.compute_engine._metadata:Compute Engine Metadata server unavailable on attempt 5 of 5. Reason: HTTPConnectionPool(host='metadata.google.internal', port=80): Max retries exceeded with url: /computeMetadata/v1/instance/service-accounts/default/?recursive=true (Caused by NameResolutionError(\"<urllib3.connection.HTTPConnection object at 0x7b333a6bc700>: Failed to resolve 'metadata.google.internal' ([Errno -2] Name or service not known)\"))\n",
      "WARNING:google.auth.compute_engine._metadata:Compute Engine Metadata server unavailable on attempt 1 of 3. Reason: timed out\n",
      "WARNING:google.auth.compute_engine._metadata:Compute Engine Metadata server unavailable on attempt 2 of 3. Reason: timed out\n",
      "WARNING:google.auth.compute_engine._metadata:Compute Engine Metadata server unavailable on attempt 3 of 3. Reason: timed out\n",
      "WARNING:google.auth._default:Authentication failed using Compute Engine authentication due to unavailable metadata server.\n",
      "WARNING:google.auth.compute_engine._metadata:Compute Engine Metadata server unavailable on attempt 1 of 5. Reason: HTTPConnectionPool(host='metadata.google.internal', port=80): Max retries exceeded with url: /computeMetadata/v1/instance/service-accounts/default/?recursive=true (Caused by NameResolutionError(\"<urllib3.connection.HTTPConnection object at 0x7b333a612290>: Failed to resolve 'metadata.google.internal' ([Errno -2] Name or service not known)\"))\n",
      "WARNING:google.auth.compute_engine._metadata:Compute Engine Metadata server unavailable on attempt 2 of 5. Reason: HTTPConnectionPool(host='metadata.google.internal', port=80): Max retries exceeded with url: /computeMetadata/v1/instance/service-accounts/default/?recursive=true (Caused by NameResolutionError(\"<urllib3.connection.HTTPConnection object at 0x7b333a612260>: Failed to resolve 'metadata.google.internal' ([Errno -2] Name or service not known)\"))\n",
      "WARNING:google.auth.compute_engine._metadata:Compute Engine Metadata server unavailable on attempt 3 of 5. Reason: HTTPConnectionPool(host='metadata.google.internal', port=80): Max retries exceeded with url: /computeMetadata/v1/instance/service-accounts/default/?recursive=true (Caused by NameResolutionError(\"<urllib3.connection.HTTPConnection object at 0x7b334adeb940>: Failed to resolve 'metadata.google.internal' ([Errno -2] Name or service not known)\"))\n",
      "WARNING:google.auth.compute_engine._metadata:Compute Engine Metadata server unavailable on attempt 4 of 5. Reason: HTTPConnectionPool(host='metadata.google.internal', port=80): Max retries exceeded with url: /computeMetadata/v1/instance/service-accounts/default/?recursive=true (Caused by NameResolutionError(\"<urllib3.connection.HTTPConnection object at 0x7b334adeb520>: Failed to resolve 'metadata.google.internal' ([Errno -2] Name or service not known)\"))\n",
      "WARNING:google.auth.compute_engine._metadata:Compute Engine Metadata server unavailable on attempt 5 of 5. Reason: HTTPConnectionPool(host='metadata.google.internal', port=80): Max retries exceeded with url: /computeMetadata/v1/instance/service-accounts/default/?recursive=true (Caused by NameResolutionError(\"<urllib3.connection.HTTPConnection object at 0x7b333914d4b0>: Failed to resolve 'metadata.google.internal' ([Errno -2] Name or service not known)\"))\n",
      "                                                                                \r"
     ]
    }
   ],
   "source": [
    "ev.fetch.nwm_operational_grids(\n",
    "    nwm_configuration=\"forcing_analysis_assim\",\n",
    "    output_type=\"forcing\",\n",
    "    variable_name=\"RAINRATE\",\n",
    "    start_date=datetime(2024, 9, 26),\n",
    "    ingest_days=1,\n",
    "    nwm_version=\"nwm30\",\n",
    "    prioritize_analysis_valid_time=True,\n",
    "    t_minus_hours=[0],\n",
    "    calculate_zonal_weights=True,\n",
    "    location_id_prefix=\"wbd\",\n",
    "    timeseries_type=\"primary\"  # To be considered \"observations\". This is the default.\n",
    ")"
   ]
  },
  {
   "cell_type": "code",
   "execution_count": 9,
   "metadata": {},
   "outputs": [
    {
     "data": {
      "text/html": [
       "<div>\n",
       "<style scoped>\n",
       "    .dataframe tbody tr th:only-of-type {\n",
       "        vertical-align: middle;\n",
       "    }\n",
       "\n",
       "    .dataframe tbody tr th {\n",
       "        vertical-align: top;\n",
       "    }\n",
       "\n",
       "    .dataframe thead th {\n",
       "        text-align: right;\n",
       "    }\n",
       "</style>\n",
       "<table border=\"1\" class=\"dataframe\">\n",
       "  <thead>\n",
       "    <tr style=\"text-align: right;\">\n",
       "      <th></th>\n",
       "      <th>value_time</th>\n",
       "      <th>value</th>\n",
       "      <th>unit_name</th>\n",
       "      <th>location_id</th>\n",
       "      <th>configuration_name</th>\n",
       "      <th>variable_name</th>\n",
       "      <th>reference_time</th>\n",
       "    </tr>\n",
       "  </thead>\n",
       "  <tbody>\n",
       "    <tr>\n",
       "      <th>0</th>\n",
       "      <td>2024-09-26 00:00:00</td>\n",
       "      <td>286.000153</td>\n",
       "      <td>m^3/s</td>\n",
       "      <td>usgs-03171000</td>\n",
       "      <td>usgs_observations</td>\n",
       "      <td>streamflow_hourly_inst</td>\n",
       "      <td>NaT</td>\n",
       "    </tr>\n",
       "    <tr>\n",
       "      <th>1</th>\n",
       "      <td>2024-09-26 01:00:00</td>\n",
       "      <td>274.956573</td>\n",
       "      <td>m^3/s</td>\n",
       "      <td>usgs-03171000</td>\n",
       "      <td>usgs_observations</td>\n",
       "      <td>streamflow_hourly_inst</td>\n",
       "      <td>NaT</td>\n",
       "    </tr>\n",
       "    <tr>\n",
       "      <th>2</th>\n",
       "      <td>2024-09-26 02:00:00</td>\n",
       "      <td>270.425873</td>\n",
       "      <td>m^3/s</td>\n",
       "      <td>usgs-03171000</td>\n",
       "      <td>usgs_observations</td>\n",
       "      <td>streamflow_hourly_inst</td>\n",
       "      <td>NaT</td>\n",
       "    </tr>\n",
       "    <tr>\n",
       "      <th>3</th>\n",
       "      <td>2024-09-26 03:00:00</td>\n",
       "      <td>273.257568</td>\n",
       "      <td>m^3/s</td>\n",
       "      <td>usgs-03171000</td>\n",
       "      <td>usgs_observations</td>\n",
       "      <td>streamflow_hourly_inst</td>\n",
       "      <td>NaT</td>\n",
       "    </tr>\n",
       "    <tr>\n",
       "      <th>4</th>\n",
       "      <td>2024-09-26 04:00:00</td>\n",
       "      <td>286.000153</td>\n",
       "      <td>m^3/s</td>\n",
       "      <td>usgs-03171000</td>\n",
       "      <td>usgs_observations</td>\n",
       "      <td>streamflow_hourly_inst</td>\n",
       "      <td>NaT</td>\n",
       "    </tr>\n",
       "  </tbody>\n",
       "</table>\n",
       "</div>"
      ],
      "text/plain": [
       "           value_time       value unit_name    location_id configuration_name  \\\n",
       "0 2024-09-26 00:00:00  286.000153     m^3/s  usgs-03171000  usgs_observations   \n",
       "1 2024-09-26 01:00:00  274.956573     m^3/s  usgs-03171000  usgs_observations   \n",
       "2 2024-09-26 02:00:00  270.425873     m^3/s  usgs-03171000  usgs_observations   \n",
       "3 2024-09-26 03:00:00  273.257568     m^3/s  usgs-03171000  usgs_observations   \n",
       "4 2024-09-26 04:00:00  286.000153     m^3/s  usgs-03171000  usgs_observations   \n",
       "\n",
       "            variable_name reference_time  \n",
       "0  streamflow_hourly_inst            NaT  \n",
       "1  streamflow_hourly_inst            NaT  \n",
       "2  streamflow_hourly_inst            NaT  \n",
       "3  streamflow_hourly_inst            NaT  \n",
       "4  streamflow_hourly_inst            NaT  "
      ]
     },
     "execution_count": 9,
     "metadata": {},
     "output_type": "execute_result"
    }
   ],
   "source": [
    "primary_df = ev.primary_timeseries.to_pandas()\n",
    "primary_df.head()"
   ]
  },
  {
   "cell_type": "markdown",
   "metadata": {},
   "source": [
    "Let's take a look at the `cache` directory. After fetching the NWM analysis forcing, we have a directory for the weights file and a directory for other stuff"
   ]
  },
  {
   "cell_type": "code",
   "execution_count": 10,
   "metadata": {},
   "outputs": [
    {
     "name": "stdout",
     "output_type": "stream",
     "text": [
      "├── readme.md\n",
      "├── fetching\n",
      "│   ├── weights\n",
      "│   │   └── nwm30_forcing_analysis_assim\n",
      "│   ├── kerchunk\n",
      "│   │   ├── nwm.20240926.nwm.t02z.analysis_assim.forcing.tm00.conus.nc.json\n",
      "│   │   ├── nwm.20240926.nwm.t20z.analysis_assim.forcing.tm00.conus.nc.json\n",
      "│   │   ├── nwm.20240926.nwm.t21z.analysis_assim.forcing.tm00.conus.nc.json\n",
      "│   │   ├── nwm.20240926.nwm.t22z.analysis_assim.forcing.tm00.conus.nc.json\n",
      "│   │   ├── nwm.20240926.nwm.t08z.analysis_assim.forcing.tm00.conus.nc.json\n",
      "│   │   ├── nwm.20240926.nwm.t04z.analysis_assim.forcing.tm00.conus.nc.json\n",
      "│   │   ├── nwm.20240926.nwm.t12z.analysis_assim.forcing.tm00.conus.nc.json\n",
      "│   │   ├── nwm.20240926.nwm.t13z.analysis_assim.forcing.tm00.conus.nc.json\n",
      "│   │   ├── nwm.20240926.nwm.t18z.analysis_assim.forcing.tm00.conus.nc.json\n",
      "│   │   ├── nwm.20240926.nwm.t10z.analysis_assim.forcing.tm00.conus.nc.json\n",
      "│   │   ├── nwm.20240926.nwm.t05z.analysis_assim.forcing.tm00.conus.nc.json\n",
      "│   │   ├── nwm.20240926.nwm.t01z.analysis_assim.forcing.tm00.conus.nc.json\n",
      "│   │   ├── nwm.20240926.nwm.t03z.analysis_assim.forcing.tm00.conus.nc.json\n",
      "│   │   ├── nwm.20240926.nwm.t06z.analysis_assim.forcing.tm00.conus.nc.json\n",
      "│   │   ├── nwm.20240926.nwm.t14z.analysis_assim.forcing.tm00.conus.nc.json\n",
      "│   │   ├── nwm.20240926.nwm.t09z.analysis_assim.forcing.tm00.conus.nc.json\n",
      "│   │   ├── nwm.20240926.nwm.t07z.analysis_assim.forcing.tm00.conus.nc.json\n",
      "│   │   ├── nwm.20240926.nwm.t11z.analysis_assim.forcing.tm00.conus.nc.json\n",
      "│   │   ├── nwm.20240926.nwm.t17z.analysis_assim.forcing.tm00.conus.nc.json\n",
      "│   │   ├── nwm.20240926.nwm.t16z.analysis_assim.forcing.tm00.conus.nc.json\n",
      "│   │   ├── nwm.20240926.nwm.t19z.analysis_assim.forcing.tm00.conus.nc.json\n",
      "│   │   ├── nwm.20240926.nwm.t23z.analysis_assim.forcing.tm00.conus.nc.json\n",
      "│   │   ├── nwm.20240926.nwm.t00z.analysis_assim.forcing.tm00.conus.nc.json\n",
      "│   │   └── nwm.20240926.nwm.t15z.analysis_assim.forcing.tm00.conus.nc.json\n",
      "│   └── nwm\n",
      "│       └── nwm30_forcing_analysis_assim\n",
      "└── loading\n",
      "    ├── secondary_timeseries\n",
      "    │   └── nwm_forecasts.parquet\n",
      "    ├── location_crosswalks\n",
      "    │   └── location_crosswalks.parquet\n",
      "    ├── locations\n",
      "    │   └── three_huc10s_radford.parquet\n",
      "    └── primary_timeseries\n",
      "        └── usgs_timeseries.parquet\n"
     ]
    }
   ],
   "source": [
    "print_tree(ev.cache_dir, max_depth=2)"
   ]
  },
  {
   "cell_type": "code",
   "execution_count": 11,
   "metadata": {},
   "outputs": [
    {
     "name": "stdout",
     "output_type": "stream",
     "text": [
      "└── nwm30_forcing_analysis_assim\n",
      "    └── nwm30_forcing_analysis_assim_pixel_weights.parquet\n"
     ]
    }
   ],
   "source": [
    "print_tree(Path(ev.cache_dir, \"fetching\", \"weights\"))"
   ]
  },
  {
   "cell_type": "markdown",
   "metadata": {},
   "source": [
    "The weights file contains the fractional coverage for each pixel (row/col pair) that intersects with each polygon location (WBD HUC10 watershed)."
   ]
  },
  {
   "cell_type": "code",
   "execution_count": 12,
   "metadata": {},
   "outputs": [
    {
     "data": {
      "text/html": [
       "<div>\n",
       "<style scoped>\n",
       "    .dataframe tbody tr th:only-of-type {\n",
       "        vertical-align: middle;\n",
       "    }\n",
       "\n",
       "    .dataframe tbody tr th {\n",
       "        vertical-align: top;\n",
       "    }\n",
       "\n",
       "    .dataframe thead th {\n",
       "        text-align: right;\n",
       "    }\n",
       "</style>\n",
       "<table border=\"1\" class=\"dataframe\">\n",
       "  <thead>\n",
       "    <tr style=\"text-align: right;\">\n",
       "      <th></th>\n",
       "      <th>row</th>\n",
       "      <th>col</th>\n",
       "      <th>weight</th>\n",
       "      <th>location_id</th>\n",
       "    </tr>\n",
       "  </thead>\n",
       "  <tbody>\n",
       "    <tr>\n",
       "      <th>0</th>\n",
       "      <td>1730</td>\n",
       "      <td>3704</td>\n",
       "      <td>0.045272</td>\n",
       "      <td>wbd-0505000115</td>\n",
       "    </tr>\n",
       "    <tr>\n",
       "      <th>1</th>\n",
       "      <td>1730</td>\n",
       "      <td>3705</td>\n",
       "      <td>0.246893</td>\n",
       "      <td>wbd-0505000115</td>\n",
       "    </tr>\n",
       "    <tr>\n",
       "      <th>2</th>\n",
       "      <td>1730</td>\n",
       "      <td>3706</td>\n",
       "      <td>0.090052</td>\n",
       "      <td>wbd-0505000115</td>\n",
       "    </tr>\n",
       "    <tr>\n",
       "      <th>3</th>\n",
       "      <td>1730</td>\n",
       "      <td>3725</td>\n",
       "      <td>0.012040</td>\n",
       "      <td>wbd-0505000117</td>\n",
       "    </tr>\n",
       "    <tr>\n",
       "      <th>4</th>\n",
       "      <td>1730</td>\n",
       "      <td>3726</td>\n",
       "      <td>0.001101</td>\n",
       "      <td>wbd-0505000117</td>\n",
       "    </tr>\n",
       "    <tr>\n",
       "      <th>...</th>\n",
       "      <td>...</td>\n",
       "      <td>...</td>\n",
       "      <td>...</td>\n",
       "      <td>...</td>\n",
       "    </tr>\n",
       "    <tr>\n",
       "      <th>1599</th>\n",
       "      <td>1774</td>\n",
       "      <td>3726</td>\n",
       "      <td>0.801455</td>\n",
       "      <td>wbd-0505000118</td>\n",
       "    </tr>\n",
       "    <tr>\n",
       "      <th>1600</th>\n",
       "      <td>1774</td>\n",
       "      <td>3727</td>\n",
       "      <td>0.028692</td>\n",
       "      <td>wbd-0505000118</td>\n",
       "    </tr>\n",
       "    <tr>\n",
       "      <th>1601</th>\n",
       "      <td>1775</td>\n",
       "      <td>3724</td>\n",
       "      <td>0.377646</td>\n",
       "      <td>wbd-0505000118</td>\n",
       "    </tr>\n",
       "    <tr>\n",
       "      <th>1602</th>\n",
       "      <td>1775</td>\n",
       "      <td>3725</td>\n",
       "      <td>0.784341</td>\n",
       "      <td>wbd-0505000118</td>\n",
       "    </tr>\n",
       "    <tr>\n",
       "      <th>1603</th>\n",
       "      <td>1775</td>\n",
       "      <td>3726</td>\n",
       "      <td>0.109935</td>\n",
       "      <td>wbd-0505000118</td>\n",
       "    </tr>\n",
       "  </tbody>\n",
       "</table>\n",
       "<p>1604 rows × 4 columns</p>\n",
       "</div>"
      ],
      "text/plain": [
       "       row   col    weight     location_id\n",
       "0     1730  3704  0.045272  wbd-0505000115\n",
       "1     1730  3705  0.246893  wbd-0505000115\n",
       "2     1730  3706  0.090052  wbd-0505000115\n",
       "3     1730  3725  0.012040  wbd-0505000117\n",
       "4     1730  3726  0.001101  wbd-0505000117\n",
       "...    ...   ...       ...             ...\n",
       "1599  1774  3726  0.801455  wbd-0505000118\n",
       "1600  1774  3727  0.028692  wbd-0505000118\n",
       "1601  1775  3724  0.377646  wbd-0505000118\n",
       "1602  1775  3725  0.784341  wbd-0505000118\n",
       "1603  1775  3726  0.109935  wbd-0505000118\n",
       "\n",
       "[1604 rows x 4 columns]"
      ]
     },
     "execution_count": 12,
     "metadata": {},
     "output_type": "execute_result"
    }
   ],
   "source": [
    "cached_weights_filepath = Path(\n",
    "        ev.cache_dir,\n",
    "        \"fetching\",\n",
    "        \"weights\",\n",
    "        \"nwm30_forcing_analysis_assim\",\n",
    "        \"nwm30_forcing_analysis_assim_pixel_weights.parquet\"\n",
    ")\n",
    "pd.read_parquet(cached_weights_filepath)"
   ]
  },
  {
   "cell_type": "markdown",
   "metadata": {},
   "source": [
    "Now we can fetch the NWM forecast rainfall to compare it to the \"observed\" rainfall. First we need to create and import the `location_crosswalks` table, which maps the secondary locations (\"model\") to the primary (\"observations\")."
   ]
  },
  {
   "cell_type": "code",
   "execution_count": 13,
   "metadata": {},
   "outputs": [
    {
     "data": {
      "text/plain": [
       "array(['wbd-0505000115', 'wbd-0505000117', 'wbd-0505000118',\n",
       "       'usgs-03171000'], dtype=object)"
      ]
     },
     "execution_count": 13,
     "metadata": {},
     "output_type": "execute_result"
    }
   ],
   "source": [
    "ev.locations.to_pandas()[\"id\"].unique()"
   ]
  },
  {
   "cell_type": "code",
   "execution_count": 14,
   "metadata": {},
   "outputs": [],
   "source": [
    "xwalk_df = pd.DataFrame(\n",
    "    {\n",
    "        \"primary_location_id\": [\n",
    "            \"wbd-0505000115\",\n",
    "            \"wbd-0505000117\",\n",
    "            \"wbd-0505000118\"\n",
    "        ],\n",
    "        \"secondary_location_id\": [\n",
    "            \"forecast-0505000115\",\n",
    "            \"forecast-0505000117\",\n",
    "            \"forecast-0505000118\"\n",
    "        ]\n",
    "    }\n",
    ")\n",
    "temp_xwalk_path = Path(ev.cache_dir, \"loading\", \"forcing_xwalk.parquet\")\n",
    "xwalk_df.to_parquet(temp_xwalk_path)"
   ]
  },
  {
   "cell_type": "markdown",
   "metadata": {},
   "source": [
    "Now we can load it into the Evaluation, appending to the existing table."
   ]
  },
  {
   "cell_type": "code",
   "execution_count": 15,
   "metadata": {},
   "outputs": [
    {
     "data": {
      "text/html": [
       "<div>\n",
       "<style scoped>\n",
       "    .dataframe tbody tr th:only-of-type {\n",
       "        vertical-align: middle;\n",
       "    }\n",
       "\n",
       "    .dataframe tbody tr th {\n",
       "        vertical-align: top;\n",
       "    }\n",
       "\n",
       "    .dataframe thead th {\n",
       "        text-align: right;\n",
       "    }\n",
       "</style>\n",
       "<table border=\"1\" class=\"dataframe\">\n",
       "  <thead>\n",
       "    <tr style=\"text-align: right;\">\n",
       "      <th></th>\n",
       "      <th>primary_location_id</th>\n",
       "      <th>secondary_location_id</th>\n",
       "    </tr>\n",
       "  </thead>\n",
       "  <tbody>\n",
       "    <tr>\n",
       "      <th>0</th>\n",
       "      <td>usgs-03171000</td>\n",
       "      <td>nwm30-6884666</td>\n",
       "    </tr>\n",
       "  </tbody>\n",
       "</table>\n",
       "</div>"
      ],
      "text/plain": [
       "  primary_location_id secondary_location_id\n",
       "0       usgs-03171000         nwm30-6884666"
      ]
     },
     "execution_count": 15,
     "metadata": {},
     "output_type": "execute_result"
    }
   ],
   "source": [
    "# Take a look at the existing crosswalk, which maps the point locations.\n",
    "ev.location_crosswalks.to_pandas()"
   ]
  },
  {
   "cell_type": "markdown",
   "metadata": {},
   "source": [
    "Load in the additional crosswalk pairs"
   ]
  },
  {
   "cell_type": "code",
   "execution_count": 16,
   "metadata": {},
   "outputs": [],
   "source": [
    "ev.location_crosswalks.load_parquet(temp_xwalk_path)"
   ]
  },
  {
   "cell_type": "code",
   "execution_count": 17,
   "metadata": {},
   "outputs": [
    {
     "data": {
      "text/html": [
       "<div>\n",
       "<style scoped>\n",
       "    .dataframe tbody tr th:only-of-type {\n",
       "        vertical-align: middle;\n",
       "    }\n",
       "\n",
       "    .dataframe tbody tr th {\n",
       "        vertical-align: top;\n",
       "    }\n",
       "\n",
       "    .dataframe thead th {\n",
       "        text-align: right;\n",
       "    }\n",
       "</style>\n",
       "<table border=\"1\" class=\"dataframe\">\n",
       "  <thead>\n",
       "    <tr style=\"text-align: right;\">\n",
       "      <th></th>\n",
       "      <th>primary_location_id</th>\n",
       "      <th>secondary_location_id</th>\n",
       "    </tr>\n",
       "  </thead>\n",
       "  <tbody>\n",
       "    <tr>\n",
       "      <th>0</th>\n",
       "      <td>wbd-0505000115</td>\n",
       "      <td>forecast-0505000115</td>\n",
       "    </tr>\n",
       "    <tr>\n",
       "      <th>1</th>\n",
       "      <td>wbd-0505000117</td>\n",
       "      <td>forecast-0505000117</td>\n",
       "    </tr>\n",
       "    <tr>\n",
       "      <th>2</th>\n",
       "      <td>wbd-0505000118</td>\n",
       "      <td>forecast-0505000118</td>\n",
       "    </tr>\n",
       "    <tr>\n",
       "      <th>3</th>\n",
       "      <td>usgs-03171000</td>\n",
       "      <td>nwm30-6884666</td>\n",
       "    </tr>\n",
       "  </tbody>\n",
       "</table>\n",
       "</div>"
      ],
      "text/plain": [
       "  primary_location_id secondary_location_id\n",
       "0      wbd-0505000115   forecast-0505000115\n",
       "1      wbd-0505000117   forecast-0505000117\n",
       "2      wbd-0505000118   forecast-0505000118\n",
       "3       usgs-03171000         nwm30-6884666"
      ]
     },
     "execution_count": 17,
     "metadata": {},
     "output_type": "execute_result"
    }
   ],
   "source": [
    "ev.location_crosswalks.to_pandas()"
   ]
  },
  {
   "cell_type": "markdown",
   "metadata": {},
   "source": [
    "Now we can fetch the NWM forecast rainfall, which we'll consider the \"secondary\" timeseries. Let's grab a single short range rainfall forecast"
   ]
  },
  {
   "cell_type": "code",
   "execution_count": 18,
   "metadata": {
    "tags": [
     "hide-output"
    ]
   },
   "outputs": [],
   "source": [
    "ev.fetch.nwm_operational_grids(\n",
    "    nwm_configuration=\"forcing_short_range\",\n",
    "    output_type=\"forcing\",\n",
    "    variable_name=\"RAINRATE\",\n",
    "    start_date=datetime(2024, 9, 26),\n",
    "    ingest_days=1,\n",
    "    nwm_version=\"nwm30\",\n",
    "    location_id_prefix=\"forecast\",\n",
    "    calculate_zonal_weights=False,  # re-use the weights file in the cache\n",
    "    zonal_weights_filepath=cached_weights_filepath,\n",
    "    starting_z_hour=1,\n",
    "    ending_z_hour=1,\n",
    "    timeseries_type=\"secondary\"  # now considered forecast\n",
    ")"
   ]
  },
  {
   "cell_type": "markdown",
   "metadata": {},
   "source": [
    "And our `secondary_timeseries` table consists of NWM medium range streamflow forecasts (member 1), plus NWM short range rainfall forecast summarized to the three WBD HUC10 watersheds as mean areal precipitation (MAP)."
   ]
  },
  {
   "cell_type": "code",
   "execution_count": 19,
   "metadata": {},
   "outputs": [
    {
     "data": {
      "text/html": [
       "<div>\n",
       "<style scoped>\n",
       "    .dataframe tbody tr th:only-of-type {\n",
       "        vertical-align: middle;\n",
       "    }\n",
       "\n",
       "    .dataframe tbody tr th {\n",
       "        vertical-align: top;\n",
       "    }\n",
       "\n",
       "    .dataframe thead th {\n",
       "        text-align: right;\n",
       "    }\n",
       "</style>\n",
       "<table border=\"1\" class=\"dataframe\">\n",
       "  <thead>\n",
       "    <tr style=\"text-align: right;\">\n",
       "      <th></th>\n",
       "      <th>value_time</th>\n",
       "      <th>value</th>\n",
       "      <th>unit_name</th>\n",
       "      <th>location_id</th>\n",
       "      <th>member</th>\n",
       "      <th>configuration_name</th>\n",
       "      <th>variable_name</th>\n",
       "      <th>reference_time</th>\n",
       "    </tr>\n",
       "  </thead>\n",
       "  <tbody>\n",
       "    <tr>\n",
       "      <th>0</th>\n",
       "      <td>2024-09-26 07:00:00</td>\n",
       "      <td>304.829987</td>\n",
       "      <td>m^3/s</td>\n",
       "      <td>nwm30-6884666</td>\n",
       "      <td>1</td>\n",
       "      <td>nwm30_medium_range</td>\n",
       "      <td>streamflow_hourly_inst</td>\n",
       "      <td>2024-09-26 06:00:00</td>\n",
       "    </tr>\n",
       "    <tr>\n",
       "      <th>1</th>\n",
       "      <td>2024-09-26 08:00:00</td>\n",
       "      <td>291.509979</td>\n",
       "      <td>m^3/s</td>\n",
       "      <td>nwm30-6884666</td>\n",
       "      <td>1</td>\n",
       "      <td>nwm30_medium_range</td>\n",
       "      <td>streamflow_hourly_inst</td>\n",
       "      <td>2024-09-26 06:00:00</td>\n",
       "    </tr>\n",
       "    <tr>\n",
       "      <th>2</th>\n",
       "      <td>2024-09-26 09:00:00</td>\n",
       "      <td>273.970001</td>\n",
       "      <td>m^3/s</td>\n",
       "      <td>nwm30-6884666</td>\n",
       "      <td>1</td>\n",
       "      <td>nwm30_medium_range</td>\n",
       "      <td>streamflow_hourly_inst</td>\n",
       "      <td>2024-09-26 06:00:00</td>\n",
       "    </tr>\n",
       "    <tr>\n",
       "      <th>3</th>\n",
       "      <td>2024-09-26 10:00:00</td>\n",
       "      <td>252.580002</td>\n",
       "      <td>m^3/s</td>\n",
       "      <td>nwm30-6884666</td>\n",
       "      <td>1</td>\n",
       "      <td>nwm30_medium_range</td>\n",
       "      <td>streamflow_hourly_inst</td>\n",
       "      <td>2024-09-26 06:00:00</td>\n",
       "    </tr>\n",
       "    <tr>\n",
       "      <th>4</th>\n",
       "      <td>2024-09-26 11:00:00</td>\n",
       "      <td>228.429993</td>\n",
       "      <td>m^3/s</td>\n",
       "      <td>nwm30-6884666</td>\n",
       "      <td>1</td>\n",
       "      <td>nwm30_medium_range</td>\n",
       "      <td>streamflow_hourly_inst</td>\n",
       "      <td>2024-09-26 06:00:00</td>\n",
       "    </tr>\n",
       "  </tbody>\n",
       "</table>\n",
       "</div>"
      ],
      "text/plain": [
       "           value_time       value unit_name    location_id member  \\\n",
       "0 2024-09-26 07:00:00  304.829987     m^3/s  nwm30-6884666      1   \n",
       "1 2024-09-26 08:00:00  291.509979     m^3/s  nwm30-6884666      1   \n",
       "2 2024-09-26 09:00:00  273.970001     m^3/s  nwm30-6884666      1   \n",
       "3 2024-09-26 10:00:00  252.580002     m^3/s  nwm30-6884666      1   \n",
       "4 2024-09-26 11:00:00  228.429993     m^3/s  nwm30-6884666      1   \n",
       "\n",
       "   configuration_name           variable_name      reference_time  \n",
       "0  nwm30_medium_range  streamflow_hourly_inst 2024-09-26 06:00:00  \n",
       "1  nwm30_medium_range  streamflow_hourly_inst 2024-09-26 06:00:00  \n",
       "2  nwm30_medium_range  streamflow_hourly_inst 2024-09-26 06:00:00  \n",
       "3  nwm30_medium_range  streamflow_hourly_inst 2024-09-26 06:00:00  \n",
       "4  nwm30_medium_range  streamflow_hourly_inst 2024-09-26 06:00:00  "
      ]
     },
     "execution_count": 19,
     "metadata": {},
     "output_type": "execute_result"
    }
   ],
   "source": [
    "secondary_df = ev.secondary_timeseries.to_pandas()\n",
    "secondary_df.head()"
   ]
  },
  {
   "cell_type": "markdown",
   "metadata": {},
   "source": [
    "And our `primary_timeseries` table consists of USGS streamflow data at the Radford gage, plus NWM analysis rainfall summarized to the three WBD HUC10 watersheds as mean areal precipitation (MAP)."
   ]
  },
  {
   "cell_type": "code",
   "execution_count": 20,
   "metadata": {},
   "outputs": [
    {
     "data": {
      "text/html": [
       "<div>\n",
       "<style scoped>\n",
       "    .dataframe tbody tr th:only-of-type {\n",
       "        vertical-align: middle;\n",
       "    }\n",
       "\n",
       "    .dataframe tbody tr th {\n",
       "        vertical-align: top;\n",
       "    }\n",
       "\n",
       "    .dataframe thead th {\n",
       "        text-align: right;\n",
       "    }\n",
       "</style>\n",
       "<table border=\"1\" class=\"dataframe\">\n",
       "  <thead>\n",
       "    <tr style=\"text-align: right;\">\n",
       "      <th></th>\n",
       "      <th>value_time</th>\n",
       "      <th>value</th>\n",
       "      <th>unit_name</th>\n",
       "      <th>location_id</th>\n",
       "      <th>configuration_name</th>\n",
       "      <th>variable_name</th>\n",
       "      <th>reference_time</th>\n",
       "    </tr>\n",
       "  </thead>\n",
       "  <tbody>\n",
       "    <tr>\n",
       "      <th>0</th>\n",
       "      <td>2024-09-26 00:00:00</td>\n",
       "      <td>286.000153</td>\n",
       "      <td>m^3/s</td>\n",
       "      <td>usgs-03171000</td>\n",
       "      <td>usgs_observations</td>\n",
       "      <td>streamflow_hourly_inst</td>\n",
       "      <td>NaT</td>\n",
       "    </tr>\n",
       "    <tr>\n",
       "      <th>1</th>\n",
       "      <td>2024-09-26 01:00:00</td>\n",
       "      <td>274.956573</td>\n",
       "      <td>m^3/s</td>\n",
       "      <td>usgs-03171000</td>\n",
       "      <td>usgs_observations</td>\n",
       "      <td>streamflow_hourly_inst</td>\n",
       "      <td>NaT</td>\n",
       "    </tr>\n",
       "    <tr>\n",
       "      <th>2</th>\n",
       "      <td>2024-09-26 02:00:00</td>\n",
       "      <td>270.425873</td>\n",
       "      <td>m^3/s</td>\n",
       "      <td>usgs-03171000</td>\n",
       "      <td>usgs_observations</td>\n",
       "      <td>streamflow_hourly_inst</td>\n",
       "      <td>NaT</td>\n",
       "    </tr>\n",
       "    <tr>\n",
       "      <th>3</th>\n",
       "      <td>2024-09-26 03:00:00</td>\n",
       "      <td>273.257568</td>\n",
       "      <td>m^3/s</td>\n",
       "      <td>usgs-03171000</td>\n",
       "      <td>usgs_observations</td>\n",
       "      <td>streamflow_hourly_inst</td>\n",
       "      <td>NaT</td>\n",
       "    </tr>\n",
       "    <tr>\n",
       "      <th>4</th>\n",
       "      <td>2024-09-26 04:00:00</td>\n",
       "      <td>286.000153</td>\n",
       "      <td>m^3/s</td>\n",
       "      <td>usgs-03171000</td>\n",
       "      <td>usgs_observations</td>\n",
       "      <td>streamflow_hourly_inst</td>\n",
       "      <td>NaT</td>\n",
       "    </tr>\n",
       "  </tbody>\n",
       "</table>\n",
       "</div>"
      ],
      "text/plain": [
       "           value_time       value unit_name    location_id configuration_name  \\\n",
       "0 2024-09-26 00:00:00  286.000153     m^3/s  usgs-03171000  usgs_observations   \n",
       "1 2024-09-26 01:00:00  274.956573     m^3/s  usgs-03171000  usgs_observations   \n",
       "2 2024-09-26 02:00:00  270.425873     m^3/s  usgs-03171000  usgs_observations   \n",
       "3 2024-09-26 03:00:00  273.257568     m^3/s  usgs-03171000  usgs_observations   \n",
       "4 2024-09-26 04:00:00  286.000153     m^3/s  usgs-03171000  usgs_observations   \n",
       "\n",
       "            variable_name reference_time  \n",
       "0  streamflow_hourly_inst            NaT  \n",
       "1  streamflow_hourly_inst            NaT  \n",
       "2  streamflow_hourly_inst            NaT  \n",
       "3  streamflow_hourly_inst            NaT  \n",
       "4  streamflow_hourly_inst            NaT  "
      ]
     },
     "execution_count": 20,
     "metadata": {},
     "output_type": "execute_result"
    }
   ],
   "source": [
    "primary_df = ev.primary_timeseries.to_pandas()\n",
    "primary_df.head()"
   ]
  },
  {
   "cell_type": "code",
   "execution_count": 40,
   "metadata": {},
   "outputs": [],
   "source": [
    "config_df = ev.configurations.to_pandas()"
   ]
  },
  {
   "cell_type": "code",
   "execution_count": 41,
   "metadata": {},
   "outputs": [],
   "source": [
    "config_df.to_parquet(Path(Path.home(), \"git\", \"teehr\", \"tests\", \"data\", \"fetch_nwm_grids\", \"configurations.parquet\"))"
   ]
  },
  {
   "cell_type": "code",
   "execution_count": null,
   "metadata": {},
   "outputs": [],
   "source": [
    "ev.joined_timeseries.create()"
   ]
  },
  {
   "cell_type": "code",
   "execution_count": 36,
   "metadata": {},
   "outputs": [
    {
     "data": {
      "text/html": [
       "<div>\n",
       "<style scoped>\n",
       "    .dataframe tbody tr th:only-of-type {\n",
       "        vertical-align: middle;\n",
       "    }\n",
       "\n",
       "    .dataframe tbody tr th {\n",
       "        vertical-align: top;\n",
       "    }\n",
       "\n",
       "    .dataframe thead th {\n",
       "        text-align: right;\n",
       "    }\n",
       "</style>\n",
       "<table border=\"1\" class=\"dataframe\">\n",
       "  <thead>\n",
       "    <tr style=\"text-align: right;\">\n",
       "      <th></th>\n",
       "      <th>value_time</th>\n",
       "      <th>primary_location_id</th>\n",
       "      <th>secondary_location_id</th>\n",
       "      <th>primary_value</th>\n",
       "      <th>secondary_value</th>\n",
       "      <th>unit_name</th>\n",
       "      <th>member</th>\n",
       "      <th>configuration_name</th>\n",
       "      <th>variable_name</th>\n",
       "      <th>reference_time</th>\n",
       "    </tr>\n",
       "  </thead>\n",
       "  <tbody>\n",
       "    <tr>\n",
       "      <th>0</th>\n",
       "      <td>2024-09-26 01:00:00</td>\n",
       "      <td>usgs-03171000</td>\n",
       "      <td>nwm30-6884666</td>\n",
       "      <td>274.956573</td>\n",
       "      <td>274.630005</td>\n",
       "      <td>m^3/s</td>\n",
       "      <td>1</td>\n",
       "      <td>nwm30_medium_range</td>\n",
       "      <td>streamflow_hourly_inst</td>\n",
       "      <td>2024-09-26</td>\n",
       "    </tr>\n",
       "    <tr>\n",
       "      <th>1</th>\n",
       "      <td>2024-09-26 02:00:00</td>\n",
       "      <td>usgs-03171000</td>\n",
       "      <td>nwm30-6884666</td>\n",
       "      <td>270.425873</td>\n",
       "      <td>259.910004</td>\n",
       "      <td>m^3/s</td>\n",
       "      <td>1</td>\n",
       "      <td>nwm30_medium_range</td>\n",
       "      <td>streamflow_hourly_inst</td>\n",
       "      <td>2024-09-26</td>\n",
       "    </tr>\n",
       "    <tr>\n",
       "      <th>2</th>\n",
       "      <td>2024-09-26 03:00:00</td>\n",
       "      <td>usgs-03171000</td>\n",
       "      <td>nwm30-6884666</td>\n",
       "      <td>273.257568</td>\n",
       "      <td>241.559998</td>\n",
       "      <td>m^3/s</td>\n",
       "      <td>1</td>\n",
       "      <td>nwm30_medium_range</td>\n",
       "      <td>streamflow_hourly_inst</td>\n",
       "      <td>2024-09-26</td>\n",
       "    </tr>\n",
       "    <tr>\n",
       "      <th>3</th>\n",
       "      <td>2024-09-26 04:00:00</td>\n",
       "      <td>usgs-03171000</td>\n",
       "      <td>nwm30-6884666</td>\n",
       "      <td>286.000153</td>\n",
       "      <td>220.289993</td>\n",
       "      <td>m^3/s</td>\n",
       "      <td>1</td>\n",
       "      <td>nwm30_medium_range</td>\n",
       "      <td>streamflow_hourly_inst</td>\n",
       "      <td>2024-09-26</td>\n",
       "    </tr>\n",
       "    <tr>\n",
       "      <th>4</th>\n",
       "      <td>2024-09-26 05:00:00</td>\n",
       "      <td>usgs-03171000</td>\n",
       "      <td>nwm30-6884666</td>\n",
       "      <td>302.990265</td>\n",
       "      <td>197.220001</td>\n",
       "      <td>m^3/s</td>\n",
       "      <td>1</td>\n",
       "      <td>nwm30_medium_range</td>\n",
       "      <td>streamflow_hourly_inst</td>\n",
       "      <td>2024-09-26</td>\n",
       "    </tr>\n",
       "  </tbody>\n",
       "</table>\n",
       "</div>"
      ],
      "text/plain": [
       "           value_time primary_location_id secondary_location_id  \\\n",
       "0 2024-09-26 01:00:00       usgs-03171000         nwm30-6884666   \n",
       "1 2024-09-26 02:00:00       usgs-03171000         nwm30-6884666   \n",
       "2 2024-09-26 03:00:00       usgs-03171000         nwm30-6884666   \n",
       "3 2024-09-26 04:00:00       usgs-03171000         nwm30-6884666   \n",
       "4 2024-09-26 05:00:00       usgs-03171000         nwm30-6884666   \n",
       "\n",
       "   primary_value  secondary_value unit_name member  configuration_name  \\\n",
       "0     274.956573       274.630005     m^3/s      1  nwm30_medium_range   \n",
       "1     270.425873       259.910004     m^3/s      1  nwm30_medium_range   \n",
       "2     273.257568       241.559998     m^3/s      1  nwm30_medium_range   \n",
       "3     286.000153       220.289993     m^3/s      1  nwm30_medium_range   \n",
       "4     302.990265       197.220001     m^3/s      1  nwm30_medium_range   \n",
       "\n",
       "            variable_name reference_time  \n",
       "0  streamflow_hourly_inst     2024-09-26  \n",
       "1  streamflow_hourly_inst     2024-09-26  \n",
       "2  streamflow_hourly_inst     2024-09-26  \n",
       "3  streamflow_hourly_inst     2024-09-26  \n",
       "4  streamflow_hourly_inst     2024-09-26  "
      ]
     },
     "execution_count": 36,
     "metadata": {},
     "output_type": "execute_result"
    }
   ],
   "source": [
    "joined_df = ev.joined_timeseries.to_pandas()\n",
    "joined_df.head()"
   ]
  },
  {
   "cell_type": "code",
   "execution_count": 23,
   "metadata": {},
   "outputs": [
    {
     "data": {
      "text/plain": [
       "array(['nwm30_medium_range', 'nwm30_forcing_short_range'], dtype=object)"
      ]
     },
     "execution_count": 23,
     "metadata": {},
     "output_type": "execute_result"
    }
   ],
   "source": [
    "joined_df.configuration_name.unique()"
   ]
  },
  {
   "cell_type": "code",
   "execution_count": 24,
   "metadata": {},
   "outputs": [],
   "source": [
    "# We'll use this helper function for plotting timeseries.\n",
    "def plot_timeseries(\n",
    "    configuration_name: str,\n",
    "    secondary_by: list[str],\n",
    "    title: str\n",
    "):\n",
    "    sim_plot = joined_df[joined_df[\"configuration_name\"] == configuration_name].\\\n",
    "        hvplot(\n",
    "            x=\"value_time\",\n",
    "            y=\"secondary_value\",\n",
    "            by=secondary_by,\n",
    "            legend=False,\n",
    "            )\n",
    "    obs_plot = joined_df[joined_df[\"configuration_name\"] == configuration_name].\\\n",
    "        hvplot(\n",
    "            x=\"value_time\",\n",
    "            y=\"primary_value\",\n",
    "            by=[\"primary_location_id\", \"configuration_name\"],\n",
    "            legend=False,\n",
    "            color=\"black\"\n",
    "            )\n",
    "    return (sim_plot * obs_plot).options(\n",
    "                width=700,\n",
    "                height=400,\n",
    "                show_grid=True,\n",
    "                title=title\n",
    "            )"
   ]
  },
  {
   "cell_type": "code",
   "execution_count": 25,
   "metadata": {},
   "outputs": [
    {
     "data": {},
     "metadata": {},
     "output_type": "display_data"
    },
    {
     "data": {
      "application/vnd.holoviews_exec.v0+json": "",
      "text/html": [
       "<div id='ebcf17ed-5446-4cf5-9e1a-1046041186f8'>\n",
       "  <div id=\"e9eea08b-0c55-44bd-aca8-3a5882d54d3b\" data-root-id=\"ebcf17ed-5446-4cf5-9e1a-1046041186f8\" style=\"display: contents;\"></div>\n",
       "</div>\n",
       "<script type=\"application/javascript\">(function(root) {\n",
       "  var docs_json = {\"6bb9beee-43e7-4404-af74-8faf414969fa\":{\"version\":\"3.6.2\",\"title\":\"Bokeh Application\",\"roots\":[{\"type\":\"object\",\"name\":\"Row\",\"id\":\"ebcf17ed-5446-4cf5-9e1a-1046041186f8\",\"attributes\":{\"name\":\"Row00600\",\"tags\":[\"embedded\"],\"stylesheets\":[\"\\n:host(.pn-loading):before, .pn-loading:before {\\n  background-color: #c3c3c3;\\n  mask-size: auto calc(min(50%, 400px));\\n  -webkit-mask-size: auto calc(min(50%, 400px));\\n}\",{\"type\":\"object\",\"name\":\"ImportedStyleSheet\",\"id\":\"760c9fdc-b4ab-4d50-909b-d35ccc76eca1\",\"attributes\":{\"url\":\"https://cdn.holoviz.org/panel/1.5.5/dist/css/loading.css\"}},{\"type\":\"object\",\"name\":\"ImportedStyleSheet\",\"id\":\"51f66a29-d35d-4525-8110-cb1cb96147a1\",\"attributes\":{\"url\":\"https://cdn.holoviz.org/panel/1.5.5/dist/css/listpanel.css\"}},{\"type\":\"object\",\"name\":\"ImportedStyleSheet\",\"id\":\"f64faef2-fbcf-4927-b9b2-a103d849d23e\",\"attributes\":{\"url\":\"https://cdn.holoviz.org/panel/1.5.5/dist/bundled/theme/default.css\"}},{\"type\":\"object\",\"name\":\"ImportedStyleSheet\",\"id\":\"1a85bcb7-7f8e-46ea-aa49-5a9b39396c18\",\"attributes\":{\"url\":\"https://cdn.holoviz.org/panel/1.5.5/dist/bundled/theme/native.css\"}}],\"min_width\":700,\"margin\":0,\"sizing_mode\":\"stretch_width\",\"align\":\"start\",\"children\":[{\"type\":\"object\",\"name\":\"Spacer\",\"id\":\"1f60ccdd-e83b-41f2-938b-204575cc6a37\",\"attributes\":{\"name\":\"HSpacer00604\",\"stylesheets\":[\"\\n:host(.pn-loading):before, .pn-loading:before {\\n  background-color: #c3c3c3;\\n  mask-size: auto calc(min(50%, 400px));\\n  -webkit-mask-size: auto calc(min(50%, 400px));\\n}\",{\"id\":\"760c9fdc-b4ab-4d50-909b-d35ccc76eca1\"},{\"id\":\"f64faef2-fbcf-4927-b9b2-a103d849d23e\"},{\"id\":\"1a85bcb7-7f8e-46ea-aa49-5a9b39396c18\"}],\"margin\":0,\"sizing_mode\":\"stretch_width\",\"align\":\"start\"}},{\"type\":\"object\",\"name\":\"Figure\",\"id\":\"d2f2a1d1-686e-486b-bead-bb9c2773f7ae\",\"attributes\":{\"width\":700,\"height\":400,\"margin\":[5,10],\"sizing_mode\":\"fixed\",\"align\":\"start\",\"x_range\":{\"type\":\"object\",\"name\":\"Range1d\",\"id\":\"e570430c-bcfe-4723-9bf8-4268aa3ed398\",\"attributes\":{\"name\":\"value_time\",\"tags\":[[[\"value_time\",null]],[]],\"start\":1727312400000.0,\"end\":1727740800000.0,\"reset_start\":1727312400000.0,\"reset_end\":1727740800000.0}},\"y_range\":{\"type\":\"object\",\"name\":\"Range1d\",\"id\":\"19ff7a3f-9fab-4770-aa0d-e0b784a02575\",\"attributes\":{\"name\":\"secondary_value\",\"tags\":[[[\"secondary_value\",null]],{\"type\":\"map\",\"entries\":[[\"invert_yaxis\",false],[\"autorange\",false]]}],\"start\":-418.2463794708252,\"end\":5289.510146713257,\"reset_start\":-418.2463794708252,\"reset_end\":5289.510146713257}},\"x_scale\":{\"type\":\"object\",\"name\":\"LinearScale\",\"id\":\"ff395414-ed4f-41a5-ba75-6fa700b57c29\"},\"y_scale\":{\"type\":\"object\",\"name\":\"LinearScale\",\"id\":\"5a48af2c-966b-42ca-a03d-6ce6f81358b4\"},\"title\":{\"type\":\"object\",\"name\":\"Title\",\"id\":\"a25b353e-afb7-4191-aedc-17da8bca9cce\",\"attributes\":{\"text\":\"Observed streamflow (black) and forecast streamflow at the Radford gage\",\"text_color\":\"black\",\"text_font_size\":\"12pt\"}},\"renderers\":[{\"type\":\"object\",\"name\":\"GlyphRenderer\",\"id\":\"e4ae5bab-4e87-49d4-a788-1fa83f558700\",\"attributes\":{\"data_source\":{\"type\":\"object\",\"name\":\"ColumnDataSource\",\"id\":\"49b53ffb-29db-499d-a2ca-ef81956b26be\",\"attributes\":{\"selected\":{\"type\":\"object\",\"name\":\"Selection\",\"id\":\"226758d3-9bca-411f-a319-5b771692105e\",\"attributes\":{\"indices\":[],\"line_indices\":[]}},\"selection_policy\":{\"type\":\"object\",\"name\":\"UnionRenderers\",\"id\":\"14a3e3b1-913d-4609-960d-cb0e65641346\"},\"data\":{\"type\":\"map\",\"entries\":[[\"value_time\",{\"type\":\"ndarray\",\"array\":{\"type\":\"bytes\",\"data\":\"AADoeL0ieUIAANDnwCJ5QgAAuFbEInlCAACgxccieUIAAIg0yyJ5QgAAcKPOInlCAABYEtIieUIAAECB1SJ5QgAAKPDYInlCAAAQX9wieUIAAPjN3yJ5QgAA4DzjInlCAADIq+YieUIAALAa6iJ5QgAAmIntInlCAACA+PAieUIAAGhn9CJ5QgAAUNb3InlCAAA4RfsieUIAACC0/iJ5QgAACCMCI3lCAADwkQUjeUIAANgACSN5QgAAwG8MI3lCAACo3g8jeUIAAJBNEyN5QgAAeLwWI3lCAABgKxojeUIAAEiaHSN5QgAAMAkhI3lCAAAYeCQjeUIAAADnJyN5QgAA6FUrI3lCAADQxC4jeUIAALgzMiN5QgAAoKI1I3lCAACIETkjeUIAAHCAPCN5QgAAWO8/I3lCAABAXkMjeUIAACjNRiN5QgAAEDxKI3lCAAD4qk0jeUIAAOAZUSN5QgAAyIhUI3lCAACw91cjeUIAAJhmWyN5QgAAgNVeI3lCAABoRGIjeUIAAFCzZSN5QgAAOCJpI3lCAAAgkWwjeUIAAAgAcCN5QgAA8G5zI3lCAADY3XYjeUIAAMBMeiN5QgAAqLt9I3lCAACQKoEjeUIAAHiZhCN5QgAAYAiII3lCAABId4sjeUIAADDmjiN5QgAAGFWSI3lCAAAAxJUjeUIAAOgymSN5QgAA0KGcI3lCAAC4EKAjeUIAAKB/oyN5QgAAiO6mI3lCAABwXaojeUIAAFjMrSN5QgAAQDuxI3lCAAAoqrQjeUIAABAZuCN5QgAA+Ie7I3lCAADg9r4jeUIAAMhlwiN5QgAAsNTFI3lCAACYQ8kjeUIAAICyzCN5QgAAaCHQI3lCAABQkNMjeUIAADj/1iN5QgAAIG7aI3lCAAAI3d0jeUIAAPBL4SN5QgAA2LrkI3lCAADAKegjeUIAAKiY6yN5QgAAkAfvI3lCAAB4dvIjeUIAAGDl9SN5QgAASFT5I3lCAAAww/wjeUIAABgyACR5QgAAAKEDJHlCAADoDwckeUIAANB+CiR5QgAAuO0NJHlCAACgXBEkeUIAAIjLFCR5QgAAcDoYJHlCAABYqRskeUIAAEAYHyR5QgAAKIciJHlCAAAQ9iUkeUIAAPhkKSR5QgAA4NMsJHlCAADIQjAkeUIAALCxMyR5QgAAmCA3JHlCAACAjzokeUIAAGj+PSR5QgAAUG1BJHlCAAA43EQkeUIAACBLSCR5QgAACLpLJHlCAADwKE8keUIAANiXUiR5QgAAwAZWJHlC\"},\"shape\":[120],\"dtype\":\"float64\",\"order\":\"little\"}],[\"secondary_value\",{\"type\":\"ndarray\",\"array\":{\"type\":\"bytes\",\"data\":\"pFCJQ3v0gUNcj3FDPUpcQ1I4RUMKFy5D4ToYQwrXBEPXo+hCZmbNQo/Ct0LCdadC69GaQoXrkELC9YhC1yODQqNwfUKF63ZCMzNyQpmZbkJ7FGxCcD1qQo/CaEIUrmdCR+FmQilcZkL1KGZCexRmQnsUZkIpXGZCPQpnQo/CZkI9CmZCmZllQtejZUIpXGZCZmZoQtejcUIpXHNCcD1yQh6FcEIK125Co3BuQq5Hb0JwPXFCAAB0QqNwd0KuR3tC9Sh/QgpXgUIzs4JCXI+DQqTwg0Ip3INCpHCDQuvRgkKZGYJCZmaBQmbmgEIzs4BCHwWBQh8FgkIAAIRCj0KHQrgejEIK15JCzUybQnsUpUIzs69Cj0K6Qmbmw0IeBcxCKVzSQszM1kKFa9lC16PaQlyP2kLXo9lCZmbYQq7H10KZmdlCZubgQkdh8kKZWQlDuB4mQ8xMVEOFC4tD9Yi0Q6QQ40PhOglECscfRK5XNEQ9qkZEwsVWRI/SZERw/XBEo3B7RFIogkRS4IVEpPCIRKRoi0RwVY1EKcSORFLAj0QKV5BEj5KQROF6kERwFZBEmWmPRLiGjkQ9co1E9jCMRKTIikQKP4lEpJiHRD3ahUQACIREZiaCRBQ2gER7dHxE\"},\"shape\":[120],\"dtype\":\"float32\",\"order\":\"little\"}],[\"reference_time\",[1727308800000.0,1727308800000.0,1727308800000.0,1727308800000.0,1727308800000.0,1727308800000.0,1727308800000.0,1727308800000.0,1727308800000.0,1727308800000.0,1727308800000.0,1727308800000.0,1727308800000.0,1727308800000.0,1727308800000.0,1727308800000.0,1727308800000.0,1727308800000.0,1727308800000.0,1727308800000.0,1727308800000.0,1727308800000.0,1727308800000.0,1727308800000.0,1727308800000.0,1727308800000.0,1727308800000.0,1727308800000.0,1727308800000.0,1727308800000.0,1727308800000.0,1727308800000.0,1727308800000.0,1727308800000.0,1727308800000.0,1727308800000.0,1727308800000.0,1727308800000.0,1727308800000.0,1727308800000.0,1727308800000.0,1727308800000.0,1727308800000.0,1727308800000.0,1727308800000.0,1727308800000.0,1727308800000.0,1727308800000.0,1727308800000.0,1727308800000.0,1727308800000.0,1727308800000.0,1727308800000.0,1727308800000.0,1727308800000.0,1727308800000.0,1727308800000.0,1727308800000.0,1727308800000.0,1727308800000.0,1727308800000.0,1727308800000.0,1727308800000.0,1727308800000.0,1727308800000.0,1727308800000.0,1727308800000.0,1727308800000.0,1727308800000.0,1727308800000.0,1727308800000.0,1727308800000.0,1727308800000.0,1727308800000.0,1727308800000.0,1727308800000.0,1727308800000.0,1727308800000.0,1727308800000.0,1727308800000.0,1727308800000.0,1727308800000.0,1727308800000.0,1727308800000.0,1727308800000.0,1727308800000.0,1727308800000.0,1727308800000.0,1727308800000.0,1727308800000.0,1727308800000.0,1727308800000.0,1727308800000.0,1727308800000.0,1727308800000.0,1727308800000.0,1727308800000.0,1727308800000.0,1727308800000.0,1727308800000.0,1727308800000.0,1727308800000.0,1727308800000.0,1727308800000.0,1727308800000.0,1727308800000.0,1727308800000.0,1727308800000.0,1727308800000.0,1727308800000.0,1727308800000.0,1727308800000.0,1727308800000.0,1727308800000.0,1727308800000.0,1727308800000.0,1727308800000.0,1727308800000.0,1727308800000.0,1727308800000.0]]]}}},\"view\":{\"type\":\"object\",\"name\":\"CDSView\",\"id\":\"04176e9c-ddc9-4eed-93c5-77e4d8528175\",\"attributes\":{\"filter\":{\"type\":\"object\",\"name\":\"AllIndices\",\"id\":\"e991a02f-d5e7-4cee-b122-80da481255ec\"}}},\"glyph\":{\"type\":\"object\",\"name\":\"Line\",\"id\":\"3159edbb-6167-471e-8344-5b36708b6169\",\"attributes\":{\"tags\":[\"apply_ranges\"],\"x\":{\"type\":\"field\",\"field\":\"value_time\"},\"y\":{\"type\":\"field\",\"field\":\"secondary_value\"},\"line_color\":\"#30a2da\",\"line_width\":2}},\"selection_glyph\":{\"type\":\"object\",\"name\":\"Line\",\"id\":\"bb75058e-cd36-4f9f-98c4-6c8d62f4359a\",\"attributes\":{\"tags\":[\"apply_ranges\"],\"x\":{\"type\":\"field\",\"field\":\"value_time\"},\"y\":{\"type\":\"field\",\"field\":\"secondary_value\"},\"line_color\":\"#30a2da\",\"line_width\":2}},\"nonselection_glyph\":{\"type\":\"object\",\"name\":\"Line\",\"id\":\"945f1967-cd0b-4db7-9a30-4c0e2a917610\",\"attributes\":{\"tags\":[\"apply_ranges\"],\"x\":{\"type\":\"field\",\"field\":\"value_time\"},\"y\":{\"type\":\"field\",\"field\":\"secondary_value\"},\"line_color\":\"#30a2da\",\"line_alpha\":0.1,\"line_width\":2}},\"muted_glyph\":{\"type\":\"object\",\"name\":\"Line\",\"id\":\"9c1aae01-66b6-4feb-b9bd-846a02436831\",\"attributes\":{\"tags\":[\"apply_ranges\"],\"x\":{\"type\":\"field\",\"field\":\"value_time\"},\"y\":{\"type\":\"field\",\"field\":\"secondary_value\"},\"line_color\":\"#30a2da\",\"line_alpha\":0.2,\"line_width\":2}}}},{\"type\":\"object\",\"name\":\"GlyphRenderer\",\"id\":\"7102b085-69d6-48cb-ba9e-c72d2f22c57c\",\"attributes\":{\"data_source\":{\"type\":\"object\",\"name\":\"ColumnDataSource\",\"id\":\"52399bee-28f2-4c91-8b9d-0546ad3b18c7\",\"attributes\":{\"selected\":{\"type\":\"object\",\"name\":\"Selection\",\"id\":\"71b3a673-2c2e-4d64-9061-fc131fbe8b58\",\"attributes\":{\"indices\":[],\"line_indices\":[]}},\"selection_policy\":{\"type\":\"object\",\"name\":\"UnionRenderers\",\"id\":\"cb0f08ba-942a-4510-bf2b-0c0682e0412f\"},\"data\":{\"type\":\"map\",\"entries\":[[\"value_time\",{\"type\":\"ndarray\",\"array\":{\"type\":\"bytes\",\"data\":\"AABYEtIieUIAAECB1SJ5QgAAKPDYInlCAAAQX9wieUIAAPjN3yJ5QgAA4DzjInlCAADIq+YieUIAALAa6iJ5QgAAmIntInlCAACA+PAieUIAAGhn9CJ5QgAAUNb3InlCAAA4RfsieUIAACC0/iJ5QgAACCMCI3lCAADwkQUjeUIAANgACSN5QgAAwG8MI3lCAACo3g8jeUIAAJBNEyN5QgAAeLwWI3lCAABgKxojeUIAAEiaHSN5QgAAMAkhI3lCAAAYeCQjeUIAAADnJyN5QgAA6FUrI3lCAADQxC4jeUIAALgzMiN5QgAAoKI1I3lCAACIETkjeUIAAHCAPCN5QgAAWO8/I3lCAABAXkMjeUIAACjNRiN5QgAAEDxKI3lCAAD4qk0jeUIAAOAZUSN5QgAAyIhUI3lCAACw91cjeUIAAJhmWyN5QgAAgNVeI3lCAABoRGIjeUIAAFCzZSN5QgAAOCJpI3lCAAAgkWwjeUIAAAgAcCN5QgAA8G5zI3lCAADY3XYjeUIAAMBMeiN5QgAAqLt9I3lCAACQKoEjeUIAAHiZhCN5QgAAYAiII3lCAABId4sjeUIAADDmjiN5QgAAGFWSI3lCAAAAxJUjeUIAAOgymSN5QgAA0KGcI3lCAAC4EKAjeUIAAKB/oyN5QgAAiO6mI3lCAABwXaojeUIAAFjMrSN5QgAAQDuxI3lCAAAoqrQjeUIAABAZuCN5QgAA+Ie7I3lCAADg9r4jeUIAAMhlwiN5QgAAsNTFI3lCAACYQ8kjeUIAAICyzCN5QgAAaCHQI3lCAABQkNMjeUIAADj/1iN5QgAAIG7aI3lCAAAI3d0jeUIAAPBL4SN5QgAA2LrkI3lCAADAKegjeUIAAKiY6yN5QgAAkAfvI3lCAAB4dvIjeUIAAGDl9SN5QgAASFT5I3lCAAAww/wjeUIAABgyACR5QgAAAKEDJHlCAADoDwckeUIAANB+CiR5QgAAuO0NJHlCAACgXBEkeUIAAIjLFCR5QgAAcDoYJHlCAABYqRskeUIAAEAYHyR5QgAAKIciJHlCAAAQ9iUkeUIAAPhkKSR5QgAA4NMsJHlCAADIQjAkeUIAALCxMyR5QgAAmCA3JHlCAACAjzokeUIAAGj+PSR5QgAAUG1BJHlCAAA43EQkeUIAACBLSCR5QgAACLpLJHlCAADwKE8keUIAANiXUiR5QgAAwAZWJHlC\"},\"shape\":[114],\"dtype\":\"float64\",\"order\":\"little\"}],[\"secondary_value\",{\"type\":\"ndarray\",\"array\":{\"type\":\"bytes\",\"data\":\"PWqYQ0fBkUMp/IhDe5R8QxRuZEPNTEtDXI8yQ5mZG0PCNQdDhWvsQszM0ELr0bpC69GpQhQunUI9ipNCMzOMQgrXhkLC9YJCzUyAQtejfUKuR3tCo3B6QhSuekJSuHpCCtd7QuF6e0LMzHpCHoV6QjMze0LXo31CcD2BQq5Hh0KPQotCcL2MQgrXjUJH4Y5C61GQQsJ1kkIULpVC61GYQuvRm0KkcJ9CKdyiQnC9pUJm5qdCMzOpQnC9qUIUrqlCrkepQuvRqEJ7lKhCKdyoQuH6qUKFa6xCzcywQq7Ht0I9isFCUrjNQutR20IAAOlC4Xr1Qo/C/0IzswNDhSsGQx+FB0M9SghDM7MJQ9djDUP26BVDuN4lQxTuP0MeBWdD9kiPQxRutUOuZ+dDHyUSRD0KNEQKl1ZE9Wh3RLiOikT2mJdEM9OiRJlZrETXU7RE4eq6ROtBwERSeMRE16vHRPX4yURHectEPULMRPVozET1AMxEexzLRDPLyUTXG8hEjxrGRCnUw0Q9UsFEuJ6+RJnBu0ThwrhER6m1ROF6skR7PK9E4fKrRPagqERwTaVEPfqhROGqnkS4XptE6xmYRCnclERHqZFE\"},\"shape\":[114],\"dtype\":\"float32\",\"order\":\"little\"}],[\"reference_time\",[1727330400000.0,1727330400000.0,1727330400000.0,1727330400000.0,1727330400000.0,1727330400000.0,1727330400000.0,1727330400000.0,1727330400000.0,1727330400000.0,1727330400000.0,1727330400000.0,1727330400000.0,1727330400000.0,1727330400000.0,1727330400000.0,1727330400000.0,1727330400000.0,1727330400000.0,1727330400000.0,1727330400000.0,1727330400000.0,1727330400000.0,1727330400000.0,1727330400000.0,1727330400000.0,1727330400000.0,1727330400000.0,1727330400000.0,1727330400000.0,1727330400000.0,1727330400000.0,1727330400000.0,1727330400000.0,1727330400000.0,1727330400000.0,1727330400000.0,1727330400000.0,1727330400000.0,1727330400000.0,1727330400000.0,1727330400000.0,1727330400000.0,1727330400000.0,1727330400000.0,1727330400000.0,1727330400000.0,1727330400000.0,1727330400000.0,1727330400000.0,1727330400000.0,1727330400000.0,1727330400000.0,1727330400000.0,1727330400000.0,1727330400000.0,1727330400000.0,1727330400000.0,1727330400000.0,1727330400000.0,1727330400000.0,1727330400000.0,1727330400000.0,1727330400000.0,1727330400000.0,1727330400000.0,1727330400000.0,1727330400000.0,1727330400000.0,1727330400000.0,1727330400000.0,1727330400000.0,1727330400000.0,1727330400000.0,1727330400000.0,1727330400000.0,1727330400000.0,1727330400000.0,1727330400000.0,1727330400000.0,1727330400000.0,1727330400000.0,1727330400000.0,1727330400000.0,1727330400000.0,1727330400000.0,1727330400000.0,1727330400000.0,1727330400000.0,1727330400000.0,1727330400000.0,1727330400000.0,1727330400000.0,1727330400000.0,1727330400000.0,1727330400000.0,1727330400000.0,1727330400000.0,1727330400000.0,1727330400000.0,1727330400000.0,1727330400000.0,1727330400000.0,1727330400000.0,1727330400000.0,1727330400000.0,1727330400000.0,1727330400000.0,1727330400000.0,1727330400000.0,1727330400000.0,1727330400000.0,1727330400000.0,1727330400000.0]]]}}},\"view\":{\"type\":\"object\",\"name\":\"CDSView\",\"id\":\"68044a92-3e32-4f32-bd37-b85cbd7985cb\",\"attributes\":{\"filter\":{\"type\":\"object\",\"name\":\"AllIndices\",\"id\":\"e3af694c-856c-4021-9f1c-3ffd64cc3754\"}}},\"glyph\":{\"type\":\"object\",\"name\":\"Line\",\"id\":\"fcfb5411-8558-419e-ab99-c026d1d94162\",\"attributes\":{\"tags\":[\"apply_ranges\"],\"x\":{\"type\":\"field\",\"field\":\"value_time\"},\"y\":{\"type\":\"field\",\"field\":\"secondary_value\"},\"line_color\":\"#fc4f30\",\"line_width\":2}},\"selection_glyph\":{\"type\":\"object\",\"name\":\"Line\",\"id\":\"37abf36c-8bc0-43d7-9461-0517d33a920a\",\"attributes\":{\"tags\":[\"apply_ranges\"],\"x\":{\"type\":\"field\",\"field\":\"value_time\"},\"y\":{\"type\":\"field\",\"field\":\"secondary_value\"},\"line_color\":\"#fc4f30\",\"line_width\":2}},\"nonselection_glyph\":{\"type\":\"object\",\"name\":\"Line\",\"id\":\"4d474736-3726-475a-861e-a910f89eef36\",\"attributes\":{\"tags\":[\"apply_ranges\"],\"x\":{\"type\":\"field\",\"field\":\"value_time\"},\"y\":{\"type\":\"field\",\"field\":\"secondary_value\"},\"line_color\":\"#fc4f30\",\"line_alpha\":0.1,\"line_width\":2}},\"muted_glyph\":{\"type\":\"object\",\"name\":\"Line\",\"id\":\"4561c473-57ee-4ab5-9ddb-2686e30dc970\",\"attributes\":{\"tags\":[\"apply_ranges\"],\"x\":{\"type\":\"field\",\"field\":\"value_time\"},\"y\":{\"type\":\"field\",\"field\":\"secondary_value\"},\"line_color\":\"#fc4f30\",\"line_alpha\":0.2,\"line_width\":2}}}},{\"type\":\"object\",\"name\":\"GlyphRenderer\",\"id\":\"bccc1d37-e217-45b5-afcf-ac4f2319c7a1\",\"attributes\":{\"data_source\":{\"type\":\"object\",\"name\":\"ColumnDataSource\",\"id\":\"3f4911eb-0b59-4adc-b38f-fbc8e59b4d8f\",\"attributes\":{\"selected\":{\"type\":\"object\",\"name\":\"Selection\",\"id\":\"adaded8b-3098-490f-95f7-2e46a963e92f\",\"attributes\":{\"indices\":[],\"line_indices\":[]}},\"selection_policy\":{\"type\":\"object\",\"name\":\"UnionRenderers\",\"id\":\"ec8f3db0-fbb6-40eb-9a92-724c2b62db11\"},\"data\":{\"type\":\"map\",\"entries\":[[\"value_time\",{\"type\":\"ndarray\",\"array\":{\"type\":\"bytes\",\"data\":\"AADIq+YieUIAALAa6iJ5QgAAmIntInlCAACA+PAieUIAAGhn9CJ5QgAAUNb3InlCAAA4RfsieUIAACC0/iJ5QgAACCMCI3lCAADwkQUjeUIAANgACSN5QgAAwG8MI3lCAACo3g8jeUIAAJBNEyN5QgAAeLwWI3lCAABgKxojeUIAAEiaHSN5QgAAMAkhI3lCAAAYeCQjeUIAAADnJyN5QgAA6FUrI3lCAADQxC4jeUIAALgzMiN5QgAAoKI1I3lCAACIETkjeUIAAHCAPCN5QgAAWO8/I3lCAABAXkMjeUIAACjNRiN5QgAAEDxKI3lCAAD4qk0jeUIAAOAZUSN5QgAAyIhUI3lCAACw91cjeUIAAJhmWyN5QgAAgNVeI3lCAABoRGIjeUIAAFCzZSN5QgAAOCJpI3lCAAAgkWwjeUIAAAgAcCN5QgAA8G5zI3lCAADY3XYjeUIAAMBMeiN5QgAAqLt9I3lCAACQKoEjeUIAAHiZhCN5QgAAYAiII3lCAABId4sjeUIAADDmjiN5QgAAGFWSI3lCAAAAxJUjeUIAAOgymSN5QgAA0KGcI3lCAAC4EKAjeUIAAKB/oyN5QgAAiO6mI3lCAABwXaojeUIAAFjMrSN5QgAAQDuxI3lCAAAoqrQjeUIAABAZuCN5QgAA+Ie7I3lCAADg9r4jeUIAAMhlwiN5QgAAsNTFI3lCAACYQ8kjeUIAAICyzCN5QgAAaCHQI3lCAABQkNMjeUIAADj/1iN5QgAAIG7aI3lCAAAI3d0jeUIAAPBL4SN5QgAA2LrkI3lCAADAKegjeUIAAKiY6yN5QgAAkAfvI3lCAAB4dvIjeUIAAGDl9SN5QgAASFT5I3lCAAAww/wjeUIAABgyACR5QgAAAKEDJHlCAADoDwckeUIAANB+CiR5QgAAuO0NJHlCAACgXBEkeUIAAIjLFCR5QgAAcDoYJHlCAABYqRskeUIAAEAYHyR5QgAAKIciJHlCAAAQ9iUkeUIAAPhkKSR5QgAA4NMsJHlCAADIQjAkeUIAALCxMyR5QgAAmCA3JHlCAACAjzokeUIAAGj+PSR5QgAAUG1BJHlCAAA43EQkeUIAACBLSCR5QgAACLpLJHlCAADwKE8keUIAANiXUiR5QgAAwAZWJHlC\"},\"shape\":[108],\"dtype\":\"float64\",\"order\":\"little\"}],[\"secondary_value\",{\"type\":\"ndarray\",\"array\":{\"type\":\"bytes\",\"data\":\"R4GgQzNTmUNw3Y9DH2WEQ48Cb0OuB1RDZqY5Qz2KIUOuhwxDuJ71QlwP2UIAgMJCUjixQtejpEKk8JpCHwWUQpmZj0IUroxCCleKQlI4iULheohCZmaIQs3MiELXo4lCuB6MQs3MjUJcD5FChWuaQtejoEL2qKNC16OlQpmZp0Jcj6pCzcyuQnsUtEK4HrpCFK7AQilcx0K4ns1CzMzSQj2K1kLMzNhCrsfZQsL12ULC9dlCwnXaQsJ13EI9iuFChevrQpkZ/UJmJgpDClcYQwCAJ0NHYTZDuB5FQ3sUVUMKF2hDe9R/Q6SwjkNSmKBDwnW1Q6TQzEN79OVD1wMARPYYDURm1hlEZvYlRMJVMUSFCzxEZoZGROuxUUTXw15Ee5RuRK6HgERHmYpEj8qURBR+nkT2UKdEXA+vRNertUSFM7tEHq2/RHssw0TXy8VEpKDHRFy/yESPOslEHiXJRB6NyETrgcdEzRTGROtRxEQpRMJErve/RBR2vURcx7pER/G3RHD9tETr8bFE19OuRACoq0ThcqhERzmlRBT+oUSZwZ5EAIibRDNTmESPIpVE\"},\"shape\":[108],\"dtype\":\"float32\",\"order\":\"little\"}],[\"reference_time\",[1727352000000.0,1727352000000.0,1727352000000.0,1727352000000.0,1727352000000.0,1727352000000.0,1727352000000.0,1727352000000.0,1727352000000.0,1727352000000.0,1727352000000.0,1727352000000.0,1727352000000.0,1727352000000.0,1727352000000.0,1727352000000.0,1727352000000.0,1727352000000.0,1727352000000.0,1727352000000.0,1727352000000.0,1727352000000.0,1727352000000.0,1727352000000.0,1727352000000.0,1727352000000.0,1727352000000.0,1727352000000.0,1727352000000.0,1727352000000.0,1727352000000.0,1727352000000.0,1727352000000.0,1727352000000.0,1727352000000.0,1727352000000.0,1727352000000.0,1727352000000.0,1727352000000.0,1727352000000.0,1727352000000.0,1727352000000.0,1727352000000.0,1727352000000.0,1727352000000.0,1727352000000.0,1727352000000.0,1727352000000.0,1727352000000.0,1727352000000.0,1727352000000.0,1727352000000.0,1727352000000.0,1727352000000.0,1727352000000.0,1727352000000.0,1727352000000.0,1727352000000.0,1727352000000.0,1727352000000.0,1727352000000.0,1727352000000.0,1727352000000.0,1727352000000.0,1727352000000.0,1727352000000.0,1727352000000.0,1727352000000.0,1727352000000.0,1727352000000.0,1727352000000.0,1727352000000.0,1727352000000.0,1727352000000.0,1727352000000.0,1727352000000.0,1727352000000.0,1727352000000.0,1727352000000.0,1727352000000.0,1727352000000.0,1727352000000.0,1727352000000.0,1727352000000.0,1727352000000.0,1727352000000.0,1727352000000.0,1727352000000.0,1727352000000.0,1727352000000.0,1727352000000.0,1727352000000.0,1727352000000.0,1727352000000.0,1727352000000.0,1727352000000.0,1727352000000.0,1727352000000.0,1727352000000.0,1727352000000.0,1727352000000.0,1727352000000.0,1727352000000.0,1727352000000.0,1727352000000.0,1727352000000.0,1727352000000.0,1727352000000.0]]]}}},\"view\":{\"type\":\"object\",\"name\":\"CDSView\",\"id\":\"ab8dc86f-3fd1-4886-938c-1409aa34850c\",\"attributes\":{\"filter\":{\"type\":\"object\",\"name\":\"AllIndices\",\"id\":\"da917be8-d57c-42c1-8070-2ebe9f8ad2d2\"}}},\"glyph\":{\"type\":\"object\",\"name\":\"Line\",\"id\":\"3c7da2d8-8b6c-45d9-b1f8-f9844dca88ef\",\"attributes\":{\"tags\":[\"apply_ranges\"],\"x\":{\"type\":\"field\",\"field\":\"value_time\"},\"y\":{\"type\":\"field\",\"field\":\"secondary_value\"},\"line_color\":\"#e5ae38\",\"line_width\":2}},\"selection_glyph\":{\"type\":\"object\",\"name\":\"Line\",\"id\":\"e1d878a2-d8bb-4cb9-aff7-be5dd2b02d66\",\"attributes\":{\"tags\":[\"apply_ranges\"],\"x\":{\"type\":\"field\",\"field\":\"value_time\"},\"y\":{\"type\":\"field\",\"field\":\"secondary_value\"},\"line_color\":\"#e5ae38\",\"line_width\":2}},\"nonselection_glyph\":{\"type\":\"object\",\"name\":\"Line\",\"id\":\"54b1028d-83c2-4b27-9c6b-86bd0bba559b\",\"attributes\":{\"tags\":[\"apply_ranges\"],\"x\":{\"type\":\"field\",\"field\":\"value_time\"},\"y\":{\"type\":\"field\",\"field\":\"secondary_value\"},\"line_color\":\"#e5ae38\",\"line_alpha\":0.1,\"line_width\":2}},\"muted_glyph\":{\"type\":\"object\",\"name\":\"Line\",\"id\":\"1b3d05ac-6d2f-4b12-9d70-b77a9f8066cc\",\"attributes\":{\"tags\":[\"apply_ranges\"],\"x\":{\"type\":\"field\",\"field\":\"value_time\"},\"y\":{\"type\":\"field\",\"field\":\"secondary_value\"},\"line_color\":\"#e5ae38\",\"line_alpha\":0.2,\"line_width\":2}}}},{\"type\":\"object\",\"name\":\"GlyphRenderer\",\"id\":\"20cd48ed-af04-4156-b583-1b3deaffed0c\",\"attributes\":{\"data_source\":{\"type\":\"object\",\"name\":\"ColumnDataSource\",\"id\":\"019e0aad-a4de-4b35-9cde-98f3c1b529af\",\"attributes\":{\"selected\":{\"type\":\"object\",\"name\":\"Selection\",\"id\":\"eb4e12d0-9e2d-46ce-b6eb-2024c624d1ce\",\"attributes\":{\"indices\":[],\"line_indices\":[]}},\"selection_policy\":{\"type\":\"object\",\"name\":\"UnionRenderers\",\"id\":\"c8efb548-e02b-4826-be59-40f2d2f5f534\"},\"data\":{\"type\":\"map\",\"entries\":[[\"value_time\",{\"type\":\"ndarray\",\"array\":{\"type\":\"bytes\",\"data\":\"AAA4RfsieUIAACC0/iJ5QgAACCMCI3lCAADwkQUjeUIAANgACSN5QgAAwG8MI3lCAACo3g8jeUIAAJBNEyN5QgAAeLwWI3lCAABgKxojeUIAAEiaHSN5QgAAMAkhI3lCAAAYeCQjeUIAAADnJyN5QgAA6FUrI3lCAADQxC4jeUIAALgzMiN5QgAAoKI1I3lCAACIETkjeUIAAHCAPCN5QgAAWO8/I3lCAABAXkMjeUIAACjNRiN5QgAAEDxKI3lCAAD4qk0jeUIAAOAZUSN5QgAAyIhUI3lCAACw91cjeUIAAJhmWyN5QgAAgNVeI3lCAABoRGIjeUIAAFCzZSN5QgAAOCJpI3lCAAAgkWwjeUIAAAgAcCN5QgAA8G5zI3lCAADY3XYjeUIAAMBMeiN5QgAAqLt9I3lCAACQKoEjeUIAAHiZhCN5QgAAYAiII3lCAABId4sjeUIAADDmjiN5QgAAGFWSI3lCAAAAxJUjeUIAAOgymSN5QgAA0KGcI3lCAAC4EKAjeUIAAKB/oyN5QgAAiO6mI3lCAABwXaojeUIAAFjMrSN5QgAAQDuxI3lCAAAoqrQjeUIAABAZuCN5QgAA+Ie7I3lCAADg9r4jeUIAAMhlwiN5QgAAsNTFI3lCAACYQ8kjeUIAAICyzCN5QgAAaCHQI3lCAABQkNMjeUIAADj/1iN5QgAAIG7aI3lCAAAI3d0jeUIAAPBL4SN5QgAA2LrkI3lCAADAKegjeUIAAKiY6yN5QgAAkAfvI3lCAAB4dvIjeUIAAGDl9SN5QgAASFT5I3lCAAAww/wjeUIAABgyACR5QgAAAKEDJHlCAADoDwckeUIAANB+CiR5QgAAuO0NJHlCAACgXBEkeUIAAIjLFCR5QgAAcDoYJHlCAABYqRskeUIAAEAYHyR5QgAAKIciJHlCAAAQ9iUkeUIAAPhkKSR5QgAA4NMsJHlCAADIQjAkeUIAALCxMyR5QgAAmCA3JHlCAACAjzokeUIAAGj+PSR5QgAAUG1BJHlCAAA43EQkeUIAACBLSCR5QgAACLpLJHlCAADwKE8keUIAANiXUiR5QgAAwAZWJHlC\"},\"shape\":[102],\"dtype\":\"float64\",\"order\":\"little\"}],[\"secondary_value\",{\"type\":\"ndarray\",\"array\":{\"type\":\"bytes\",\"data\":\"whWaQxRukUNcr4ZDhat0Q4VrWkMpXEBDhSsoQ5kZE0MAQAFDcD3lQh6FzkJ7lL1CAACxQjMzqULXI6NChWufQo/CnUJm5p1CUjigQgrXo0IUrqlCmZmtQsL1sUKk8LVCUji6QjOzvkKZmcNCR+HIQsJ1zkKPQtRCFC7aQpkZ4ELr0eVCcD3rQsxM8EJcD/VC9aj5QutR/kLCtQFDH8UEQ9ejCEM9yg1DuB4VQ7ieH0OksC5DjwJEQ1xPYUOP4oNDXM+bQ3v0t0Ncb9dD61H5Qx91DkSk4CBEwrUzRJmpRkQKZ1lECrdrRHvUfUSkcIhEFH6TRMINoUTXI7FEuK7CRGYm1ERwTeREe2zyRKNY/kS4BgRFXM8HRaSkCkXhqgxFmfkNRYWnDkUzyw5FmXEORVKsDUWuhwxFXBMLRRReCUUKcwdFuFoFRUcdA0U9wgBFAKD8RPWY90SjePJEUkjtRAoP6ERm1uJE67HdRPWQ2ET1WNNE9TjORCk0yURwRcRECm+/RDOzukS4DrZEcIWxRJkRrUT2uKhE\"},\"shape\":[102],\"dtype\":\"float32\",\"order\":\"little\"}],[\"reference_time\",[1727373600000.0,1727373600000.0,1727373600000.0,1727373600000.0,1727373600000.0,1727373600000.0,1727373600000.0,1727373600000.0,1727373600000.0,1727373600000.0,1727373600000.0,1727373600000.0,1727373600000.0,1727373600000.0,1727373600000.0,1727373600000.0,1727373600000.0,1727373600000.0,1727373600000.0,1727373600000.0,1727373600000.0,1727373600000.0,1727373600000.0,1727373600000.0,1727373600000.0,1727373600000.0,1727373600000.0,1727373600000.0,1727373600000.0,1727373600000.0,1727373600000.0,1727373600000.0,1727373600000.0,1727373600000.0,1727373600000.0,1727373600000.0,1727373600000.0,1727373600000.0,1727373600000.0,1727373600000.0,1727373600000.0,1727373600000.0,1727373600000.0,1727373600000.0,1727373600000.0,1727373600000.0,1727373600000.0,1727373600000.0,1727373600000.0,1727373600000.0,1727373600000.0,1727373600000.0,1727373600000.0,1727373600000.0,1727373600000.0,1727373600000.0,1727373600000.0,1727373600000.0,1727373600000.0,1727373600000.0,1727373600000.0,1727373600000.0,1727373600000.0,1727373600000.0,1727373600000.0,1727373600000.0,1727373600000.0,1727373600000.0,1727373600000.0,1727373600000.0,1727373600000.0,1727373600000.0,1727373600000.0,1727373600000.0,1727373600000.0,1727373600000.0,1727373600000.0,1727373600000.0,1727373600000.0,1727373600000.0,1727373600000.0,1727373600000.0,1727373600000.0,1727373600000.0,1727373600000.0,1727373600000.0,1727373600000.0,1727373600000.0,1727373600000.0,1727373600000.0,1727373600000.0,1727373600000.0,1727373600000.0,1727373600000.0,1727373600000.0,1727373600000.0,1727373600000.0,1727373600000.0,1727373600000.0,1727373600000.0,1727373600000.0,1727373600000.0]]]}}},\"view\":{\"type\":\"object\",\"name\":\"CDSView\",\"id\":\"16bfdd81-f3cd-45e3-b906-819845c2a92b\",\"attributes\":{\"filter\":{\"type\":\"object\",\"name\":\"AllIndices\",\"id\":\"61925352-75ce-4645-a13b-798b638c3099\"}}},\"glyph\":{\"type\":\"object\",\"name\":\"Line\",\"id\":\"458c833c-f96f-47e6-a412-7aaa1bd5ff87\",\"attributes\":{\"tags\":[\"apply_ranges\"],\"x\":{\"type\":\"field\",\"field\":\"value_time\"},\"y\":{\"type\":\"field\",\"field\":\"secondary_value\"},\"line_color\":\"#6d904f\",\"line_width\":2}},\"selection_glyph\":{\"type\":\"object\",\"name\":\"Line\",\"id\":\"47008105-d6b4-473a-9b0c-c85d917f5fd1\",\"attributes\":{\"tags\":[\"apply_ranges\"],\"x\":{\"type\":\"field\",\"field\":\"value_time\"},\"y\":{\"type\":\"field\",\"field\":\"secondary_value\"},\"line_color\":\"#6d904f\",\"line_width\":2}},\"nonselection_glyph\":{\"type\":\"object\",\"name\":\"Line\",\"id\":\"fbe652aa-8e65-496d-8e90-692960dcfe0c\",\"attributes\":{\"tags\":[\"apply_ranges\"],\"x\":{\"type\":\"field\",\"field\":\"value_time\"},\"y\":{\"type\":\"field\",\"field\":\"secondary_value\"},\"line_color\":\"#6d904f\",\"line_alpha\":0.1,\"line_width\":2}},\"muted_glyph\":{\"type\":\"object\",\"name\":\"Line\",\"id\":\"f9eaae88-1801-414d-b9d7-eb014445965b\",\"attributes\":{\"tags\":[\"apply_ranges\"],\"x\":{\"type\":\"field\",\"field\":\"value_time\"},\"y\":{\"type\":\"field\",\"field\":\"secondary_value\"},\"line_color\":\"#6d904f\",\"line_alpha\":0.2,\"line_width\":2}}}},{\"type\":\"object\",\"name\":\"GlyphRenderer\",\"id\":\"cc75ff69-5e35-40d2-bb74-47633efab324\",\"attributes\":{\"data_source\":{\"type\":\"object\",\"name\":\"ColumnDataSource\",\"id\":\"ac295676-821a-4351-b7bb-5a5d8ce40fff\",\"attributes\":{\"selected\":{\"type\":\"object\",\"name\":\"Selection\",\"id\":\"52d20f3b-2b52-4329-b255-a08459510803\",\"attributes\":{\"indices\":[],\"line_indices\":[]}},\"selection_policy\":{\"type\":\"object\",\"name\":\"UnionRenderers\",\"id\":\"e5d800e4-b5de-4bf5-a44b-dc9746143d31\"},\"data\":{\"type\":\"map\",\"entries\":[[\"value_time\",{\"type\":\"ndarray\",\"array\":{\"type\":\"bytes\",\"data\":\"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\"},\"shape\":[444],\"dtype\":\"float64\",\"order\":\"little\"}],[\"primary_value\",{\"type\":\"ndarray\",\"array\":{\"type\":\"bytes\",\"data\":\"cXqJQ4M2h0P4oIhDBQCPQ8F+l0OTKJ1Dff2fQ339n0N9/Z9Dff2fQ339n0N9/Z9DZtKiQ2bSokNPp6VDT6elQ0+npUNPp6VDT6elQ0+npUNPp6VD2zykQ9s8pEPbPKRDff2fQ339n0N9/Z9Dff2fQ339n0N9/Z9D2zykQ9s8pEPbPKRD2zykQ9s8pEPbPKRD2zykQ9s8pEPbPKRD2zykQ9s8pEPbPKRD2zykQ9s8pENPp6VDT6elQ0+npUNPp6VDKHfKQyh3ykMod8pDKHfKQ4lJ3kOJSd5DiUneQ4lJ3kN1sfBDdbHwQ3Wx8EN1sfBDtB8RRLQfEUS0HxFEtB8RRLB5OUSweTlEsHk5RLB5OUTk9VJE5PVSROT1UkTk9VJEIT5jRCE+Y0QhPmNEIT5jRLBmcUSwZnFEsGZxRLBmcUTZfIBE2XyARNl8gETZfIBEftCLRH7Qi0R+0ItEftCLRCQkl0QkJJdEJCSXRCQkl0QsHaJELB2iRCwdokQsHaJE55uqROebqkTnm6pE55uqRKiArkSogK5EqICuRKiArkQBWrdEAVq3RAFat0QBWrdEdPHMRHTxzER08cxEdPHMRBTf3EQU39xEFN/cRBTf3ESjB+tEowfrRKMH60SjB+tEsGbxRLBm8USwZvFEsGbxRGd//kRnf/5EZ3/+RGd//kR0JANFdCQDRXQkA0V0JANFcnEFRXJxBUVycQVFcnEFRc39C0XN/QtFzf0LRc39C0Wd9BNFnfQTRZ30E0Wd9BNF9s0cRfbNHEX2zRxF9s0cReebKkXnmypF55sqReebKkVfmTtFX5k7RV+ZO0VfmTtF3PxHRdz8R0Xc/EdF3PxHRY6vWUWOr1lFjq9ZRY6vWUWrAHZFqwB2RasAdkWrAHZFrtmDRa7Zg0Wu2YNFrtmDRQezjEUHs4xFB7OMRQezjEW0H5FFtB+RRbQfkUW0H5FF2KmURdiplEXYqZRF2KmURelulkXpbpZF6W6WRelulkVgjJVFYIyVRWCMlUVgjJVFxuSSRcbkkkXG5JJFxuSSRbQfkUW0H5FFtB+RRbQfkUV+0ItFftCLRX7Qi0V+0ItF0mOHRdJjh0XSY4dF0mOHRRQygUUUMoFFFDKBRRQygUWrAHZFqwB2RasAdkWrAHZF+U1kRflNZEX5TWRF+U1kRUebUkVHm1JFR5tSRUebUkWV6EBFlehARZXoQEWV6EBFGIU0RRiFNEUYhTRFGIU0RXiXJEV4lyRFeJckRXiXJEV6ahBFemoQRXpqEEV6ahBFPo//RD6P/0Q+j/9EPo//RDv870Q7/O9EO/zvRDv870RFyOZERcjmREXI5kRFyOZEAhrbRAIa20QCGttEAhrbREwBzkRMAc5ETAHOREwBzkR5V8hEeVfIRHlXyER5V8hE8yfFRPMnxUTzJ8VE8yfFRF+Zu0RfmbtEX5m7RF+Zu0RXoLBEV6CwRFegsERXoLBELB2iRCwdokQsHaJELB2iRF7Zl0Re2ZdEXtmXRF7Zl0Q/tY9EP7WPRD+1j0Q/tY9EN7yERDe8hEQ3vIREN7yERGvleURr5XlEa+V5RGvleUR1sXBEdbFwRHWxcER1sXBEch5hRHIeYURyHmFEch5hRG+LUURvi1FEb4tRRG+LUUSd4UtEneFLRJ3hS0Sd4UtEmk48RJpOPESaTjxEmk48RFwGLERcBixEXAYsRFwGLEQV8iREFfIkRBXyJEQV8iREoIcjRKCHI0SghyNEoIcjRPFnIUTxZyFE8WchRPFnIUQfvhtEH74bRB++G0QfvhtEKYoSRCmKEkQpihJEKYoSRDJWCUQyVglEMlYJRDJWCUTUFgVE1BYFRNQWBUTUFgVEj2/9Q49v/UOPb/1Dj2/9Q0XI5kNFyOZDRcjmQ0XI5kOJSd5DiUneQ4lJ3kOJSd5DFN/cQxTf3EMU39xDFN/cQ6B020OgdNtDoHTbQ6B020MrCtpDKwraQysK2kMrCtpDKwraQysK2kMrCtpDKwraQysK2kMrCtpDKwraQysK2kO2n9hDtp/YQ7af2EO2n9hDtp/YQ7af2EO2n9hDtp/YQz+ix0M/osdDP6LHQz+ix0Pez7ND3s+zQ97Ps0Pez7NDOXyoQzl8qEM5fKhDOXyoQ8QRp0PEEadDxBGnQ8QRp0PEEadDxBGnQ8QRp0PEEadDxBGnQ8QRp0PEEadDxBGnQzl8qEM5fKhDOXyoQzl8qEM5fKhDOXyoQzl8qEM5fKhDOXyoQzl8qEM5fKhDOXyoQzl8qEM5fKhDOXyoQzl8qEPEEadDxBGnQ8QRp0PEEadDxBGnQ8QRp0PEEadDxBGnQ8QRp0PEEadDxBGnQ8QRp0PEEadDxBGnQ8QRp0PEEadD\"},\"shape\":[444],\"dtype\":\"float32\",\"order\":\"little\"}],[\"primary_location_id\",[\"usgs-03171000\",\"usgs-03171000\",\"usgs-03171000\",\"usgs-03171000\",\"usgs-03171000\",\"usgs-03171000\",\"usgs-03171000\",\"usgs-03171000\",\"usgs-03171000\",\"usgs-03171000\",\"usgs-03171000\",\"usgs-03171000\",\"usgs-03171000\",\"usgs-03171000\",\"usgs-03171000\",\"usgs-03171000\",\"usgs-03171000\",\"usgs-03171000\",\"usgs-03171000\",\"usgs-03171000\",\"usgs-03171000\",\"usgs-03171000\",\"usgs-03171000\",\"usgs-03171000\",\"usgs-03171000\",\"usgs-03171000\",\"usgs-03171000\",\"usgs-03171000\",\"usgs-03171000\",\"usgs-03171000\",\"usgs-03171000\",\"usgs-03171000\",\"usgs-03171000\",\"usgs-03171000\",\"usgs-03171000\",\"usgs-03171000\",\"usgs-03171000\",\"usgs-03171000\",\"usgs-03171000\",\"usgs-03171000\",\"usgs-03171000\",\"usgs-03171000\",\"usgs-03171000\",\"usgs-03171000\",\"usgs-03171000\",\"usgs-03171000\",\"usgs-03171000\",\"usgs-03171000\",\"usgs-03171000\",\"usgs-03171000\",\"usgs-03171000\",\"usgs-03171000\",\"usgs-03171000\",\"usgs-03171000\",\"usgs-03171000\",\"usgs-03171000\",\"usgs-03171000\",\"usgs-03171000\",\"usgs-03171000\",\"usgs-03171000\",\"usgs-03171000\",\"usgs-03171000\",\"usgs-03171000\",\"usgs-03171000\",\"usgs-03171000\",\"usgs-03171000\",\"usgs-03171000\",\"usgs-03171000\",\"usgs-03171000\",\"usgs-03171000\",\"usgs-03171000\",\"usgs-03171000\",\"usgs-03171000\",\"usgs-03171000\",\"usgs-03171000\",\"usgs-03171000\",\"usgs-03171000\",\"usgs-03171000\",\"usgs-03171000\",\"usgs-03171000\",\"usgs-03171000\",\"usgs-03171000\",\"usgs-03171000\",\"usgs-03171000\",\"usgs-03171000\",\"usgs-03171000\",\"usgs-03171000\",\"usgs-03171000\",\"usgs-03171000\",\"usgs-03171000\",\"usgs-03171000\",\"usgs-03171000\",\"usgs-03171000\",\"usgs-03171000\",\"usgs-03171000\",\"usgs-03171000\",\"usgs-03171000\",\"usgs-03171000\",\"usgs-03171000\",\"usgs-03171000\",\"usgs-03171000\",\"usgs-03171000\",\"usgs-03171000\",\"usgs-03171000\",\"usgs-03171000\",\"usgs-03171000\",\"usgs-03171000\",\"usgs-03171000\",\"usgs-03171000\",\"usgs-03171000\",\"usgs-03171000\",\"usgs-03171000\",\"usgs-03171000\",\"usgs-03171000\",\"usgs-03171000\",\"usgs-03171000\",\"usgs-03171000\",\"usgs-03171000\",\"usgs-03171000\",\"usgs-03171000\",\"usgs-03171000\",\"usgs-03171000\",\"usgs-03171000\",\"usgs-03171000\",\"usgs-03171000\",\"usgs-03171000\",\"usgs-03171000\",\"usgs-03171000\",\"usgs-03171000\",\"usgs-03171000\",\"usgs-03171000\",\"usgs-03171000\",\"usgs-03171000\",\"usgs-03171000\",\"usgs-03171000\",\"usgs-03171000\",\"usgs-03171000\",\"usgs-03171000\",\"usgs-03171000\",\"usgs-03171000\",\"usgs-03171000\",\"usgs-03171000\",\"usgs-03171000\",\"usgs-03171000\",\"usgs-03171000\",\"usgs-03171000\",\"usgs-03171000\",\"usgs-03171000\",\"usgs-03171000\",\"usgs-03171000\",\"usgs-03171000\",\"usgs-03171000\",\"usgs-03171000\",\"usgs-03171000\",\"usgs-03171000\",\"usgs-03171000\",\"usgs-03171000\",\"usgs-03171000\",\"usgs-03171000\",\"usgs-03171000\",\"usgs-03171000\",\"usgs-03171000\",\"usgs-03171000\",\"usgs-03171000\",\"usgs-03171000\",\"usgs-03171000\",\"usgs-03171000\",\"usgs-03171000\",\"usgs-03171000\",\"usgs-03171000\",\"usgs-03171000\",\"usgs-03171000\",\"usgs-03171000\",\"usgs-03171000\",\"usgs-03171000\",\"usgs-03171000\",\"usgs-03171000\",\"usgs-03171000\",\"usgs-03171000\",\"usgs-03171000\",\"usgs-03171000\",\"usgs-03171000\",\"usgs-03171000\",\"usgs-03171000\",\"usgs-03171000\",\"usgs-03171000\",\"usgs-03171000\",\"usgs-03171000\",\"usgs-03171000\",\"usgs-03171000\",\"usgs-03171000\",\"usgs-03171000\",\"usgs-03171000\",\"usgs-03171000\",\"usgs-03171000\",\"usgs-03171000\",\"usgs-03171000\",\"usgs-03171000\",\"usgs-03171000\",\"usgs-03171000\",\"usgs-03171000\",\"usgs-03171000\",\"usgs-03171000\",\"usgs-03171000\",\"usgs-03171000\",\"usgs-03171000\",\"usgs-03171000\",\"usgs-03171000\",\"usgs-03171000\",\"usgs-03171000\",\"usgs-03171000\",\"usgs-03171000\",\"usgs-03171000\",\"usgs-03171000\",\"usgs-03171000\",\"usgs-03171000\",\"usgs-03171000\",\"usgs-03171000\",\"usgs-03171000\",\"usgs-03171000\",\"usgs-03171000\",\"usgs-03171000\",\"usgs-03171000\",\"usgs-03171000\",\"usgs-03171000\",\"usgs-03171000\",\"usgs-03171000\",\"usgs-03171000\",\"usgs-03171000\",\"usgs-03171000\",\"usgs-03171000\",\"usgs-03171000\",\"usgs-03171000\",\"usgs-03171000\",\"usgs-03171000\",\"usgs-03171000\",\"usgs-03171000\",\"usgs-03171000\",\"usgs-03171000\",\"usgs-03171000\",\"usgs-03171000\",\"usgs-03171000\",\"usgs-03171000\",\"usgs-03171000\",\"usgs-03171000\",\"usgs-03171000\",\"usgs-03171000\",\"usgs-03171000\",\"usgs-03171000\",\"usgs-03171000\",\"usgs-03171000\",\"usgs-03171000\",\"usgs-03171000\",\"usgs-03171000\",\"usgs-03171000\",\"usgs-03171000\",\"usgs-03171000\",\"usgs-03171000\",\"usgs-03171000\",\"usgs-03171000\",\"usgs-03171000\",\"usgs-03171000\",\"usgs-03171000\",\"usgs-03171000\",\"usgs-03171000\",\"usgs-03171000\",\"usgs-03171000\",\"usgs-03171000\",\"usgs-03171000\",\"usgs-03171000\",\"usgs-03171000\",\"usgs-03171000\",\"usgs-03171000\",\"usgs-03171000\",\"usgs-03171000\",\"usgs-03171000\",\"usgs-03171000\",\"usgs-03171000\",\"usgs-03171000\",\"usgs-03171000\",\"usgs-03171000\",\"usgs-03171000\",\"usgs-03171000\",\"usgs-03171000\",\"usgs-03171000\",\"usgs-03171000\",\"usgs-03171000\",\"usgs-03171000\",\"usgs-03171000\",\"usgs-03171000\",\"usgs-03171000\",\"usgs-03171000\",\"usgs-03171000\",\"usgs-03171000\",\"usgs-03171000\",\"usgs-03171000\",\"usgs-03171000\",\"usgs-03171000\",\"usgs-03171000\",\"usgs-03171000\",\"usgs-03171000\",\"usgs-03171000\",\"usgs-03171000\",\"usgs-03171000\",\"usgs-03171000\",\"usgs-03171000\",\"usgs-03171000\",\"usgs-03171000\",\"usgs-03171000\",\"usgs-03171000\",\"usgs-03171000\",\"usgs-03171000\",\"usgs-03171000\",\"usgs-03171000\",\"usgs-03171000\",\"usgs-03171000\",\"usgs-03171000\",\"usgs-03171000\",\"usgs-03171000\",\"usgs-03171000\",\"usgs-03171000\",\"usgs-03171000\",\"usgs-03171000\",\"usgs-03171000\",\"usgs-03171000\",\"usgs-03171000\",\"usgs-03171000\",\"usgs-03171000\",\"usgs-03171000\",\"usgs-03171000\",\"usgs-03171000\",\"usgs-03171000\",\"usgs-03171000\",\"usgs-03171000\",\"usgs-03171000\",\"usgs-03171000\",\"usgs-03171000\",\"usgs-03171000\",\"usgs-03171000\",\"usgs-03171000\",\"usgs-03171000\",\"usgs-03171000\",\"usgs-03171000\",\"usgs-03171000\",\"usgs-03171000\",\"usgs-03171000\",\"usgs-03171000\",\"usgs-03171000\",\"usgs-03171000\",\"usgs-03171000\",\"usgs-03171000\",\"usgs-03171000\",\"usgs-03171000\",\"usgs-03171000\",\"usgs-03171000\",\"usgs-03171000\",\"usgs-03171000\",\"usgs-03171000\",\"usgs-03171000\",\"usgs-03171000\",\"usgs-03171000\",\"usgs-03171000\",\"usgs-03171000\",\"usgs-03171000\",\"usgs-03171000\",\"usgs-03171000\",\"usgs-03171000\",\"usgs-03171000\",\"usgs-03171000\",\"usgs-03171000\",\"usgs-03171000\",\"usgs-03171000\",\"usgs-03171000\",\"usgs-03171000\",\"usgs-03171000\",\"usgs-03171000\",\"usgs-03171000\",\"usgs-03171000\",\"usgs-03171000\",\"usgs-03171000\",\"usgs-03171000\",\"usgs-03171000\",\"usgs-03171000\",\"usgs-03171000\",\"usgs-03171000\",\"usgs-03171000\",\"usgs-03171000\",\"usgs-03171000\",\"usgs-03171000\",\"usgs-03171000\",\"usgs-03171000\",\"usgs-03171000\",\"usgs-03171000\",\"usgs-03171000\",\"usgs-03171000\",\"usgs-03171000\",\"usgs-03171000\",\"usgs-03171000\",\"usgs-03171000\",\"usgs-03171000\",\"usgs-03171000\",\"usgs-03171000\",\"usgs-03171000\",\"usgs-03171000\",\"usgs-03171000\",\"usgs-03171000\",\"usgs-03171000\",\"usgs-03171000\",\"usgs-03171000\",\"usgs-03171000\",\"usgs-03171000\",\"usgs-03171000\",\"usgs-03171000\",\"usgs-03171000\",\"usgs-03171000\",\"usgs-03171000\",\"usgs-03171000\",\"usgs-03171000\",\"usgs-03171000\",\"usgs-03171000\",\"usgs-03171000\",\"usgs-03171000\",\"usgs-03171000\",\"usgs-03171000\",\"usgs-03171000\",\"usgs-03171000\",\"usgs-03171000\",\"usgs-03171000\",\"usgs-03171000\",\"usgs-03171000\",\"usgs-03171000\",\"usgs-03171000\",\"usgs-03171000\",\"usgs-03171000\",\"usgs-03171000\",\"usgs-03171000\",\"usgs-03171000\",\"usgs-03171000\",\"usgs-03171000\",\"usgs-03171000\",\"usgs-03171000\",\"usgs-03171000\",\"usgs-03171000\",\"usgs-03171000\"]],[\"configuration_name\",[\"nwm30_medium_range\",\"nwm30_medium_range\",\"nwm30_medium_range\",\"nwm30_medium_range\",\"nwm30_medium_range\",\"nwm30_medium_range\",\"nwm30_medium_range\",\"nwm30_medium_range\",\"nwm30_medium_range\",\"nwm30_medium_range\",\"nwm30_medium_range\",\"nwm30_medium_range\",\"nwm30_medium_range\",\"nwm30_medium_range\",\"nwm30_medium_range\",\"nwm30_medium_range\",\"nwm30_medium_range\",\"nwm30_medium_range\",\"nwm30_medium_range\",\"nwm30_medium_range\",\"nwm30_medium_range\",\"nwm30_medium_range\",\"nwm30_medium_range\",\"nwm30_medium_range\",\"nwm30_medium_range\",\"nwm30_medium_range\",\"nwm30_medium_range\",\"nwm30_medium_range\",\"nwm30_medium_range\",\"nwm30_medium_range\",\"nwm30_medium_range\",\"nwm30_medium_range\",\"nwm30_medium_range\",\"nwm30_medium_range\",\"nwm30_medium_range\",\"nwm30_medium_range\",\"nwm30_medium_range\",\"nwm30_medium_range\",\"nwm30_medium_range\",\"nwm30_medium_range\",\"nwm30_medium_range\",\"nwm30_medium_range\",\"nwm30_medium_range\",\"nwm30_medium_range\",\"nwm30_medium_range\",\"nwm30_medium_range\",\"nwm30_medium_range\",\"nwm30_medium_range\",\"nwm30_medium_range\",\"nwm30_medium_range\",\"nwm30_medium_range\",\"nwm30_medium_range\",\"nwm30_medium_range\",\"nwm30_medium_range\",\"nwm30_medium_range\",\"nwm30_medium_range\",\"nwm30_medium_range\",\"nwm30_medium_range\",\"nwm30_medium_range\",\"nwm30_medium_range\",\"nwm30_medium_range\",\"nwm30_medium_range\",\"nwm30_medium_range\",\"nwm30_medium_range\",\"nwm30_medium_range\",\"nwm30_medium_range\",\"nwm30_medium_range\",\"nwm30_medium_range\",\"nwm30_medium_range\",\"nwm30_medium_range\",\"nwm30_medium_range\",\"nwm30_medium_range\",\"nwm30_medium_range\",\"nwm30_medium_range\",\"nwm30_medium_range\",\"nwm30_medium_range\",\"nwm30_medium_range\",\"nwm30_medium_range\",\"nwm30_medium_range\",\"nwm30_medium_range\",\"nwm30_medium_range\",\"nwm30_medium_range\",\"nwm30_medium_range\",\"nwm30_medium_range\",\"nwm30_medium_range\",\"nwm30_medium_range\",\"nwm30_medium_range\",\"nwm30_medium_range\",\"nwm30_medium_range\",\"nwm30_medium_range\",\"nwm30_medium_range\",\"nwm30_medium_range\",\"nwm30_medium_range\",\"nwm30_medium_range\",\"nwm30_medium_range\",\"nwm30_medium_range\",\"nwm30_medium_range\",\"nwm30_medium_range\",\"nwm30_medium_range\",\"nwm30_medium_range\",\"nwm30_medium_range\",\"nwm30_medium_range\",\"nwm30_medium_range\",\"nwm30_medium_range\",\"nwm30_medium_range\",\"nwm30_medium_range\",\"nwm30_medium_range\",\"nwm30_medium_range\",\"nwm30_medium_range\",\"nwm30_medium_range\",\"nwm30_medium_range\",\"nwm30_medium_range\",\"nwm30_medium_range\",\"nwm30_medium_range\",\"nwm30_medium_range\",\"nwm30_medium_range\",\"nwm30_medium_range\",\"nwm30_medium_range\",\"nwm30_medium_range\",\"nwm30_medium_range\",\"nwm30_medium_range\",\"nwm30_medium_range\",\"nwm30_medium_range\",\"nwm30_medium_range\",\"nwm30_medium_range\",\"nwm30_medium_range\",\"nwm30_medium_range\",\"nwm30_medium_range\",\"nwm30_medium_range\",\"nwm30_medium_range\",\"nwm30_medium_range\",\"nwm30_medium_range\",\"nwm30_medium_range\",\"nwm30_medium_range\",\"nwm30_medium_range\",\"nwm30_medium_range\",\"nwm30_medium_range\",\"nwm30_medium_range\",\"nwm30_medium_range\",\"nwm30_medium_range\",\"nwm30_medium_range\",\"nwm30_medium_range\",\"nwm30_medium_range\",\"nwm30_medium_range\",\"nwm30_medium_range\",\"nwm30_medium_range\",\"nwm30_medium_range\",\"nwm30_medium_range\",\"nwm30_medium_range\",\"nwm30_medium_range\",\"nwm30_medium_range\",\"nwm30_medium_range\",\"nwm30_medium_range\",\"nwm30_medium_range\",\"nwm30_medium_range\",\"nwm30_medium_range\",\"nwm30_medium_range\",\"nwm30_medium_range\",\"nwm30_medium_range\",\"nwm30_medium_range\",\"nwm30_medium_range\",\"nwm30_medium_range\",\"nwm30_medium_range\",\"nwm30_medium_range\",\"nwm30_medium_range\",\"nwm30_medium_range\",\"nwm30_medium_range\",\"nwm30_medium_range\",\"nwm30_medium_range\",\"nwm30_medium_range\",\"nwm30_medium_range\",\"nwm30_medium_range\",\"nwm30_medium_range\",\"nwm30_medium_range\",\"nwm30_medium_range\",\"nwm30_medium_range\",\"nwm30_medium_range\",\"nwm30_medium_range\",\"nwm30_medium_range\",\"nwm30_medium_range\",\"nwm30_medium_range\",\"nwm30_medium_range\",\"nwm30_medium_range\",\"nwm30_medium_range\",\"nwm30_medium_range\",\"nwm30_medium_range\",\"nwm30_medium_range\",\"nwm30_medium_range\",\"nwm30_medium_range\",\"nwm30_medium_range\",\"nwm30_medium_range\",\"nwm30_medium_range\",\"nwm30_medium_range\",\"nwm30_medium_range\",\"nwm30_medium_range\",\"nwm30_medium_range\",\"nwm30_medium_range\",\"nwm30_medium_range\",\"nwm30_medium_range\",\"nwm30_medium_range\",\"nwm30_medium_range\",\"nwm30_medium_range\",\"nwm30_medium_range\",\"nwm30_medium_range\",\"nwm30_medium_range\",\"nwm30_medium_range\",\"nwm30_medium_range\",\"nwm30_medium_range\",\"nwm30_medium_range\",\"nwm30_medium_range\",\"nwm30_medium_range\",\"nwm30_medium_range\",\"nwm30_medium_range\",\"nwm30_medium_range\",\"nwm30_medium_range\",\"nwm30_medium_range\",\"nwm30_medium_range\",\"nwm30_medium_range\",\"nwm30_medium_range\",\"nwm30_medium_range\",\"nwm30_medium_range\",\"nwm30_medium_range\",\"nwm30_medium_range\",\"nwm30_medium_range\",\"nwm30_medium_range\",\"nwm30_medium_range\",\"nwm30_medium_range\",\"nwm30_medium_range\",\"nwm30_medium_range\",\"nwm30_medium_range\",\"nwm30_medium_range\",\"nwm30_medium_range\",\"nwm30_medium_range\",\"nwm30_medium_range\",\"nwm30_medium_range\",\"nwm30_medium_range\",\"nwm30_medium_range\",\"nwm30_medium_range\",\"nwm30_medium_range\",\"nwm30_medium_range\",\"nwm30_medium_range\",\"nwm30_medium_range\",\"nwm30_medium_range\",\"nwm30_medium_range\",\"nwm30_medium_range\",\"nwm30_medium_range\",\"nwm30_medium_range\",\"nwm30_medium_range\",\"nwm30_medium_range\",\"nwm30_medium_range\",\"nwm30_medium_range\",\"nwm30_medium_range\",\"nwm30_medium_range\",\"nwm30_medium_range\",\"nwm30_medium_range\",\"nwm30_medium_range\",\"nwm30_medium_range\",\"nwm30_medium_range\",\"nwm30_medium_range\",\"nwm30_medium_range\",\"nwm30_medium_range\",\"nwm30_medium_range\",\"nwm30_medium_range\",\"nwm30_medium_range\",\"nwm30_medium_range\",\"nwm30_medium_range\",\"nwm30_medium_range\",\"nwm30_medium_range\",\"nwm30_medium_range\",\"nwm30_medium_range\",\"nwm30_medium_range\",\"nwm30_medium_range\",\"nwm30_medium_range\",\"nwm30_medium_range\",\"nwm30_medium_range\",\"nwm30_medium_range\",\"nwm30_medium_range\",\"nwm30_medium_range\",\"nwm30_medium_range\",\"nwm30_medium_range\",\"nwm30_medium_range\",\"nwm30_medium_range\",\"nwm30_medium_range\",\"nwm30_medium_range\",\"nwm30_medium_range\",\"nwm30_medium_range\",\"nwm30_medium_range\",\"nwm30_medium_range\",\"nwm30_medium_range\",\"nwm30_medium_range\",\"nwm30_medium_range\",\"nwm30_medium_range\",\"nwm30_medium_range\",\"nwm30_medium_range\",\"nwm30_medium_range\",\"nwm30_medium_range\",\"nwm30_medium_range\",\"nwm30_medium_range\",\"nwm30_medium_range\",\"nwm30_medium_range\",\"nwm30_medium_range\",\"nwm30_medium_range\",\"nwm30_medium_range\",\"nwm30_medium_range\",\"nwm30_medium_range\",\"nwm30_medium_range\",\"nwm30_medium_range\",\"nwm30_medium_range\",\"nwm30_medium_range\",\"nwm30_medium_range\",\"nwm30_medium_range\",\"nwm30_medium_range\",\"nwm30_medium_range\",\"nwm30_medium_range\",\"nwm30_medium_range\",\"nwm30_medium_range\",\"nwm30_medium_range\",\"nwm30_medium_range\",\"nwm30_medium_range\",\"nwm30_medium_range\",\"nwm30_medium_range\",\"nwm30_medium_range\",\"nwm30_medium_range\",\"nwm30_medium_range\",\"nwm30_medium_range\",\"nwm30_medium_range\",\"nwm30_medium_range\",\"nwm30_medium_range\",\"nwm30_medium_range\",\"nwm30_medium_range\",\"nwm30_medium_range\",\"nwm30_medium_range\",\"nwm30_medium_range\",\"nwm30_medium_range\",\"nwm30_medium_range\",\"nwm30_medium_range\",\"nwm30_medium_range\",\"nwm30_medium_range\",\"nwm30_medium_range\",\"nwm30_medium_range\",\"nwm30_medium_range\",\"nwm30_medium_range\",\"nwm30_medium_range\",\"nwm30_medium_range\",\"nwm30_medium_range\",\"nwm30_medium_range\",\"nwm30_medium_range\",\"nwm30_medium_range\",\"nwm30_medium_range\",\"nwm30_medium_range\",\"nwm30_medium_range\",\"nwm30_medium_range\",\"nwm30_medium_range\",\"nwm30_medium_range\",\"nwm30_medium_range\",\"nwm30_medium_range\",\"nwm30_medium_range\",\"nwm30_medium_range\",\"nwm30_medium_range\",\"nwm30_medium_range\",\"nwm30_medium_range\",\"nwm30_medium_range\",\"nwm30_medium_range\",\"nwm30_medium_range\",\"nwm30_medium_range\",\"nwm30_medium_range\",\"nwm30_medium_range\",\"nwm30_medium_range\",\"nwm30_medium_range\",\"nwm30_medium_range\",\"nwm30_medium_range\",\"nwm30_medium_range\",\"nwm30_medium_range\",\"nwm30_medium_range\",\"nwm30_medium_range\",\"nwm30_medium_range\",\"nwm30_medium_range\",\"nwm30_medium_range\",\"nwm30_medium_range\",\"nwm30_medium_range\",\"nwm30_medium_range\",\"nwm30_medium_range\",\"nwm30_medium_range\",\"nwm30_medium_range\",\"nwm30_medium_range\",\"nwm30_medium_range\",\"nwm30_medium_range\",\"nwm30_medium_range\",\"nwm30_medium_range\",\"nwm30_medium_range\",\"nwm30_medium_range\",\"nwm30_medium_range\",\"nwm30_medium_range\",\"nwm30_medium_range\",\"nwm30_medium_range\",\"nwm30_medium_range\",\"nwm30_medium_range\",\"nwm30_medium_range\",\"nwm30_medium_range\",\"nwm30_medium_range\",\"nwm30_medium_range\",\"nwm30_medium_range\",\"nwm30_medium_range\",\"nwm30_medium_range\",\"nwm30_medium_range\",\"nwm30_medium_range\",\"nwm30_medium_range\",\"nwm30_medium_range\",\"nwm30_medium_range\",\"nwm30_medium_range\",\"nwm30_medium_range\",\"nwm30_medium_range\",\"nwm30_medium_range\",\"nwm30_medium_range\",\"nwm30_medium_range\",\"nwm30_medium_range\",\"nwm30_medium_range\",\"nwm30_medium_range\",\"nwm30_medium_range\",\"nwm30_medium_range\",\"nwm30_medium_range\",\"nwm30_medium_range\",\"nwm30_medium_range\",\"nwm30_medium_range\",\"nwm30_medium_range\",\"nwm30_medium_range\",\"nwm30_medium_range\",\"nwm30_medium_range\",\"nwm30_medium_range\",\"nwm30_medium_range\",\"nwm30_medium_range\",\"nwm30_medium_range\",\"nwm30_medium_range\",\"nwm30_medium_range\",\"nwm30_medium_range\",\"nwm30_medium_range\",\"nwm30_medium_range\",\"nwm30_medium_range\",\"nwm30_medium_range\",\"nwm30_medium_range\",\"nwm30_medium_range\",\"nwm30_medium_range\",\"nwm30_medium_range\",\"nwm30_medium_range\"]]]}}},\"view\":{\"type\":\"object\",\"name\":\"CDSView\",\"id\":\"55ab6307-22a8-405e-9c96-999c7816b8ca\",\"attributes\":{\"filter\":{\"type\":\"object\",\"name\":\"AllIndices\",\"id\":\"fc79a9e5-f7dd-4cba-82c7-0e21bdc55cdc\"}}},\"glyph\":{\"type\":\"object\",\"name\":\"Line\",\"id\":\"3ea8c28e-19c9-4d45-b2f4-28b2f182739b\",\"attributes\":{\"tags\":[\"apply_ranges\"],\"x\":{\"type\":\"field\",\"field\":\"value_time\"},\"y\":{\"type\":\"field\",\"field\":\"primary_value\"},\"line_width\":2}},\"selection_glyph\":{\"type\":\"object\",\"name\":\"Line\",\"id\":\"21008809-9f73-4886-aeba-ada92e73578e\",\"attributes\":{\"tags\":[\"apply_ranges\"],\"x\":{\"type\":\"field\",\"field\":\"value_time\"},\"y\":{\"type\":\"field\",\"field\":\"primary_value\"},\"line_width\":2}},\"nonselection_glyph\":{\"type\":\"object\",\"name\":\"Line\",\"id\":\"23edad92-2546-4ed4-9a63-0af56ded0be1\",\"attributes\":{\"tags\":[\"apply_ranges\"],\"x\":{\"type\":\"field\",\"field\":\"value_time\"},\"y\":{\"type\":\"field\",\"field\":\"primary_value\"},\"line_alpha\":0.1,\"line_width\":2}},\"muted_glyph\":{\"type\":\"object\",\"name\":\"Line\",\"id\":\"698d1983-3c9e-423b-839b-04af915255a8\",\"attributes\":{\"tags\":[\"apply_ranges\"],\"x\":{\"type\":\"field\",\"field\":\"value_time\"},\"y\":{\"type\":\"field\",\"field\":\"primary_value\"},\"line_alpha\":0.2,\"line_width\":2}}}}],\"toolbar\":{\"type\":\"object\",\"name\":\"Toolbar\",\"id\":\"d09c49e3-f29e-46ad-9f8f-51e542f77ccb\",\"attributes\":{\"tools\":[{\"type\":\"object\",\"name\":\"WheelZoomTool\",\"id\":\"e8e2d941-db7d-492e-b245-534b570c3658\",\"attributes\":{\"tags\":[\"hv_created\"],\"renderers\":\"auto\",\"zoom_together\":\"none\"}},{\"type\":\"object\",\"name\":\"HoverTool\",\"id\":\"e0cc1317-bea4-49c7-84b3-185b437e1aba\",\"attributes\":{\"tags\":[\"hv_created\"],\"renderers\":[{\"id\":\"e4ae5bab-4e87-49d4-a788-1fa83f558700\"},{\"id\":\"7102b085-69d6-48cb-ba9e-c72d2f22c57c\"},{\"id\":\"bccc1d37-e217-45b5-afcf-ac4f2319c7a1\"},{\"id\":\"20cd48ed-af04-4156-b583-1b3deaffed0c\"}],\"tooltips\":[[\"reference_time\",\"@{reference_time}{%F %T}\"],[\"value_time\",\"@{value_time}{%F %T}\"],[\"secondary_value\",\"@{secondary_value}\"]],\"formatters\":{\"type\":\"map\",\"entries\":[[\"@{value_time}\",\"datetime\"],[\"@{reference_time}\",\"datetime\"]]}}},{\"type\":\"object\",\"name\":\"HoverTool\",\"id\":\"2fbd9600-8c0b-475c-9170-89fd44a54dcc\",\"attributes\":{\"tags\":[\"hv_created\"],\"renderers\":[{\"id\":\"cc75ff69-5e35-40d2-bb74-47633efab324\"}],\"tooltips\":[[\"primary_location_id\",\"@{primary_location_id}\"],[\"configuration_name\",\"@{configuration_name}\"],[\"value_time\",\"@{value_time}{%F %T}\"],[\"primary_value\",\"@{primary_value}\"]],\"formatters\":{\"type\":\"map\",\"entries\":[[\"@{value_time}\",\"datetime\"]]}}},{\"type\":\"object\",\"name\":\"SaveTool\",\"id\":\"00180eeb-5eee-4420-ade0-c135a462faf5\"},{\"type\":\"object\",\"name\":\"PanTool\",\"id\":\"59110c41-f593-45d8-830e-29d56a51665a\"},{\"type\":\"object\",\"name\":\"BoxZoomTool\",\"id\":\"00f9cac6-f6f2-4cfd-85c7-3b9e0d983bfe\",\"attributes\":{\"overlay\":{\"type\":\"object\",\"name\":\"BoxAnnotation\",\"id\":\"5cf8819e-1063-4693-aa26-d8e508e3f869\",\"attributes\":{\"syncable\":false,\"line_color\":\"black\",\"line_alpha\":1.0,\"line_width\":2,\"line_dash\":[4,4],\"fill_color\":\"lightgrey\",\"fill_alpha\":0.5,\"level\":\"overlay\",\"visible\":false,\"left\":{\"type\":\"number\",\"value\":\"nan\"},\"right\":{\"type\":\"number\",\"value\":\"nan\"},\"top\":{\"type\":\"number\",\"value\":\"nan\"},\"bottom\":{\"type\":\"number\",\"value\":\"nan\"},\"left_units\":\"canvas\",\"right_units\":\"canvas\",\"top_units\":\"canvas\",\"bottom_units\":\"canvas\",\"handles\":{\"type\":\"object\",\"name\":\"BoxInteractionHandles\",\"id\":\"5e7b98ae-3bf2-4934-a602-473a24e50d76\",\"attributes\":{\"all\":{\"type\":\"object\",\"name\":\"AreaVisuals\",\"id\":\"c6d74956-24c0-48e5-8761-f7daa9b80c73\",\"attributes\":{\"fill_color\":\"white\",\"hover_fill_color\":\"lightgray\"}}}}}}}},{\"type\":\"object\",\"name\":\"ResetTool\",\"id\":\"ccb24b22-0644-4e57-808b-2fb7103f41b4\"}],\"active_drag\":{\"id\":\"59110c41-f593-45d8-830e-29d56a51665a\"}}},\"left\":[{\"type\":\"object\",\"name\":\"LinearAxis\",\"id\":\"cffbf3d9-6d8e-4dad-8da6-ca91bb536468\",\"attributes\":{\"ticker\":{\"type\":\"object\",\"name\":\"BasicTicker\",\"id\":\"df683e94-3d09-4d5a-ba63-5317df2bc4b2\",\"attributes\":{\"mantissas\":[1,2,5]}},\"formatter\":{\"type\":\"object\",\"name\":\"BasicTickFormatter\",\"id\":\"2248f4b7-0dc4-412e-8a67-e894f5e4866c\"},\"axis_label\":\"secondary_value\",\"major_label_policy\":{\"type\":\"object\",\"name\":\"AllLabels\",\"id\":\"e1cc14ae-e50f-40c9-93e1-3b204575b39c\"}}}],\"below\":[{\"type\":\"object\",\"name\":\"DatetimeAxis\",\"id\":\"4ba3dcfa-233b-4bef-aad8-711737649fcd\",\"attributes\":{\"ticker\":{\"type\":\"object\",\"name\":\"DatetimeTicker\",\"id\":\"f1e9120a-7ca8-4639-b26c-a66310b219be\",\"attributes\":{\"num_minor_ticks\":5,\"tickers\":[{\"type\":\"object\",\"name\":\"AdaptiveTicker\",\"id\":\"d1eac58c-9795-4820-8447-b411459fdef6\",\"attributes\":{\"num_minor_ticks\":0,\"mantissas\":[1,2,5],\"max_interval\":500.0}},{\"type\":\"object\",\"name\":\"AdaptiveTicker\",\"id\":\"3fba93ce-988a-4e78-89d6-f07bd2708719\",\"attributes\":{\"num_minor_ticks\":0,\"base\":60,\"mantissas\":[1,2,5,10,15,20,30],\"min_interval\":1000.0,\"max_interval\":1800000.0}},{\"type\":\"object\",\"name\":\"AdaptiveTicker\",\"id\":\"a149965b-682f-49a4-969b-3f3de3633443\",\"attributes\":{\"num_minor_ticks\":0,\"base\":24,\"mantissas\":[1,2,4,6,8,12],\"min_interval\":3600000.0,\"max_interval\":43200000.0}},{\"type\":\"object\",\"name\":\"DaysTicker\",\"id\":\"51913394-c7ad-46fd-92f0-6d21dbeace25\",\"attributes\":{\"days\":[1,2,3,4,5,6,7,8,9,10,11,12,13,14,15,16,17,18,19,20,21,22,23,24,25,26,27,28,29,30,31]}},{\"type\":\"object\",\"name\":\"DaysTicker\",\"id\":\"d7f913c4-d492-4fff-88c2-9aaa66b9348d\",\"attributes\":{\"days\":[1,4,7,10,13,16,19,22,25,28]}},{\"type\":\"object\",\"name\":\"DaysTicker\",\"id\":\"2eec5b2d-cff2-472c-b432-f50324e1acd6\",\"attributes\":{\"days\":[1,8,15,22]}},{\"type\":\"object\",\"name\":\"DaysTicker\",\"id\":\"36eb4ad9-5d8c-40b6-9eef-20b8882dd395\",\"attributes\":{\"days\":[1,15]}},{\"type\":\"object\",\"name\":\"MonthsTicker\",\"id\":\"98f21c1e-27d6-4b9f-8018-9a8ac840f459\",\"attributes\":{\"months\":[0,1,2,3,4,5,6,7,8,9,10,11]}},{\"type\":\"object\",\"name\":\"MonthsTicker\",\"id\":\"1402c315-0246-481b-80b4-64f7990ba93e\",\"attributes\":{\"months\":[0,2,4,6,8,10]}},{\"type\":\"object\",\"name\":\"MonthsTicker\",\"id\":\"4a56599a-98e0-4b5b-beb7-5792e954f601\",\"attributes\":{\"months\":[0,4,8]}},{\"type\":\"object\",\"name\":\"MonthsTicker\",\"id\":\"62c83d6a-102d-402f-b0b3-54efcefe9f69\",\"attributes\":{\"months\":[0,6]}},{\"type\":\"object\",\"name\":\"YearsTicker\",\"id\":\"4a96416a-a845-4fbc-85c4-acac9ba4aeb3\"}]}},\"formatter\":{\"type\":\"object\",\"name\":\"DatetimeTickFormatter\",\"id\":\"6cd762e8-a11f-4887-931b-c43b75ddf00d\"},\"axis_label\":\"value_time\",\"major_label_policy\":{\"type\":\"object\",\"name\":\"AllLabels\",\"id\":\"db9c781a-bf22-48d7-98ca-6c6b99bb5ed4\"}}}],\"center\":[{\"type\":\"object\",\"name\":\"Grid\",\"id\":\"79d5985e-13e8-4488-a1cc-7ba65a9583bd\",\"attributes\":{\"axis\":{\"id\":\"4ba3dcfa-233b-4bef-aad8-711737649fcd\"},\"ticker\":{\"id\":\"f1e9120a-7ca8-4639-b26c-a66310b219be\"}}},{\"type\":\"object\",\"name\":\"Grid\",\"id\":\"7fd0f2c9-8dcc-4188-a8f6-8d0b25bf9f18\",\"attributes\":{\"dimension\":1,\"axis\":{\"id\":\"cffbf3d9-6d8e-4dad-8da6-ca91bb536468\"},\"ticker\":{\"id\":\"df683e94-3d09-4d5a-ba63-5317df2bc4b2\"}}}],\"min_border_top\":10,\"min_border_bottom\":10,\"min_border_left\":10,\"min_border_right\":10,\"output_backend\":\"webgl\"}},{\"type\":\"object\",\"name\":\"Spacer\",\"id\":\"f1df7ae2-4556-4325-a03f-d71bc1572467\",\"attributes\":{\"name\":\"HSpacer00605\",\"stylesheets\":[\"\\n:host(.pn-loading):before, .pn-loading:before {\\n  background-color: #c3c3c3;\\n  mask-size: auto calc(min(50%, 400px));\\n  -webkit-mask-size: auto calc(min(50%, 400px));\\n}\",{\"id\":\"760c9fdc-b4ab-4d50-909b-d35ccc76eca1\"},{\"id\":\"f64faef2-fbcf-4927-b9b2-a103d849d23e\"},{\"id\":\"1a85bcb7-7f8e-46ea-aa49-5a9b39396c18\"}],\"margin\":0,\"sizing_mode\":\"stretch_width\",\"align\":\"start\"}}]}}],\"defs\":[{\"type\":\"model\",\"name\":\"ReactiveHTML1\"},{\"type\":\"model\",\"name\":\"FlexBox1\",\"properties\":[{\"name\":\"align_content\",\"kind\":\"Any\",\"default\":\"flex-start\"},{\"name\":\"align_items\",\"kind\":\"Any\",\"default\":\"flex-start\"},{\"name\":\"flex_direction\",\"kind\":\"Any\",\"default\":\"row\"},{\"name\":\"flex_wrap\",\"kind\":\"Any\",\"default\":\"wrap\"},{\"name\":\"gap\",\"kind\":\"Any\",\"default\":\"\"},{\"name\":\"justify_content\",\"kind\":\"Any\",\"default\":\"flex-start\"}]},{\"type\":\"model\",\"name\":\"FloatPanel1\",\"properties\":[{\"name\":\"config\",\"kind\":\"Any\",\"default\":{\"type\":\"map\"}},{\"name\":\"contained\",\"kind\":\"Any\",\"default\":true},{\"name\":\"position\",\"kind\":\"Any\",\"default\":\"right-top\"},{\"name\":\"offsetx\",\"kind\":\"Any\",\"default\":null},{\"name\":\"offsety\",\"kind\":\"Any\",\"default\":null},{\"name\":\"theme\",\"kind\":\"Any\",\"default\":\"primary\"},{\"name\":\"status\",\"kind\":\"Any\",\"default\":\"normalized\"}]},{\"type\":\"model\",\"name\":\"GridStack1\",\"properties\":[{\"name\":\"mode\",\"kind\":\"Any\",\"default\":\"warn\"},{\"name\":\"ncols\",\"kind\":\"Any\",\"default\":null},{\"name\":\"nrows\",\"kind\":\"Any\",\"default\":null},{\"name\":\"allow_resize\",\"kind\":\"Any\",\"default\":true},{\"name\":\"allow_drag\",\"kind\":\"Any\",\"default\":true},{\"name\":\"state\",\"kind\":\"Any\",\"default\":[]}]},{\"type\":\"model\",\"name\":\"drag1\",\"properties\":[{\"name\":\"slider_width\",\"kind\":\"Any\",\"default\":5},{\"name\":\"slider_color\",\"kind\":\"Any\",\"default\":\"black\"},{\"name\":\"value\",\"kind\":\"Any\",\"default\":50}]},{\"type\":\"model\",\"name\":\"click1\",\"properties\":[{\"name\":\"terminal_output\",\"kind\":\"Any\",\"default\":\"\"},{\"name\":\"debug_name\",\"kind\":\"Any\",\"default\":\"\"},{\"name\":\"clears\",\"kind\":\"Any\",\"default\":0}]},{\"type\":\"model\",\"name\":\"FastWrapper1\",\"properties\":[{\"name\":\"object\",\"kind\":\"Any\",\"default\":null},{\"name\":\"style\",\"kind\":\"Any\",\"default\":null}]},{\"type\":\"model\",\"name\":\"NotificationAreaBase1\",\"properties\":[{\"name\":\"js_events\",\"kind\":\"Any\",\"default\":{\"type\":\"map\"}},{\"name\":\"position\",\"kind\":\"Any\",\"default\":\"bottom-right\"},{\"name\":\"_clear\",\"kind\":\"Any\",\"default\":0}]},{\"type\":\"model\",\"name\":\"NotificationArea1\",\"properties\":[{\"name\":\"js_events\",\"kind\":\"Any\",\"default\":{\"type\":\"map\"}},{\"name\":\"notifications\",\"kind\":\"Any\",\"default\":[]},{\"name\":\"position\",\"kind\":\"Any\",\"default\":\"bottom-right\"},{\"name\":\"_clear\",\"kind\":\"Any\",\"default\":0},{\"name\":\"types\",\"kind\":\"Any\",\"default\":[{\"type\":\"map\",\"entries\":[[\"type\",\"warning\"],[\"background\",\"#ffc107\"],[\"icon\",{\"type\":\"map\",\"entries\":[[\"className\",\"fas fa-exclamation-triangle\"],[\"tagName\",\"i\"],[\"color\",\"white\"]]}]]},{\"type\":\"map\",\"entries\":[[\"type\",\"info\"],[\"background\",\"#007bff\"],[\"icon\",{\"type\":\"map\",\"entries\":[[\"className\",\"fas fa-info-circle\"],[\"tagName\",\"i\"],[\"color\",\"white\"]]}]]}]}]},{\"type\":\"model\",\"name\":\"Notification\",\"properties\":[{\"name\":\"background\",\"kind\":\"Any\",\"default\":null},{\"name\":\"duration\",\"kind\":\"Any\",\"default\":3000},{\"name\":\"icon\",\"kind\":\"Any\",\"default\":null},{\"name\":\"message\",\"kind\":\"Any\",\"default\":\"\"},{\"name\":\"notification_type\",\"kind\":\"Any\",\"default\":null},{\"name\":\"_rendered\",\"kind\":\"Any\",\"default\":false},{\"name\":\"_destroyed\",\"kind\":\"Any\",\"default\":false}]},{\"type\":\"model\",\"name\":\"TemplateActions1\",\"properties\":[{\"name\":\"open_modal\",\"kind\":\"Any\",\"default\":0},{\"name\":\"close_modal\",\"kind\":\"Any\",\"default\":0}]},{\"type\":\"model\",\"name\":\"BootstrapTemplateActions1\",\"properties\":[{\"name\":\"open_modal\",\"kind\":\"Any\",\"default\":0},{\"name\":\"close_modal\",\"kind\":\"Any\",\"default\":0}]},{\"type\":\"model\",\"name\":\"TemplateEditor1\",\"properties\":[{\"name\":\"layout\",\"kind\":\"Any\",\"default\":[]}]},{\"type\":\"model\",\"name\":\"MaterialTemplateActions1\",\"properties\":[{\"name\":\"open_modal\",\"kind\":\"Any\",\"default\":0},{\"name\":\"close_modal\",\"kind\":\"Any\",\"default\":0}]},{\"type\":\"model\",\"name\":\"ReactiveESM1\",\"properties\":[{\"name\":\"esm_constants\",\"kind\":\"Any\",\"default\":{\"type\":\"map\"}}]},{\"type\":\"model\",\"name\":\"JSComponent1\",\"properties\":[{\"name\":\"esm_constants\",\"kind\":\"Any\",\"default\":{\"type\":\"map\"}}]},{\"type\":\"model\",\"name\":\"ReactComponent1\",\"properties\":[{\"name\":\"esm_constants\",\"kind\":\"Any\",\"default\":{\"type\":\"map\"}}]},{\"type\":\"model\",\"name\":\"AnyWidgetComponent1\",\"properties\":[{\"name\":\"esm_constants\",\"kind\":\"Any\",\"default\":{\"type\":\"map\"}}]},{\"type\":\"model\",\"name\":\"request_value1\",\"properties\":[{\"name\":\"fill\",\"kind\":\"Any\",\"default\":\"none\"},{\"name\":\"_synced\",\"kind\":\"Any\",\"default\":null},{\"name\":\"_request_sync\",\"kind\":\"Any\",\"default\":0}]}]}};\n",
       "  var render_items = [{\"docid\":\"6bb9beee-43e7-4404-af74-8faf414969fa\",\"roots\":{\"ebcf17ed-5446-4cf5-9e1a-1046041186f8\":\"e9eea08b-0c55-44bd-aca8-3a5882d54d3b\"},\"root_ids\":[\"ebcf17ed-5446-4cf5-9e1a-1046041186f8\"]}];\n",
       "  var docs = Object.values(docs_json)\n",
       "  if (!docs) {\n",
       "    return\n",
       "  }\n",
       "  const py_version = docs[0].version.replace('rc', '-rc.').replace('.dev', '-dev.')\n",
       "  async function embed_document(root) {\n",
       "    var Bokeh = get_bokeh(root)\n",
       "    await Bokeh.embed.embed_items_notebook(docs_json, render_items);\n",
       "    for (const render_item of render_items) {\n",
       "      for (const root_id of render_item.root_ids) {\n",
       "\tconst id_el = document.getElementById(root_id)\n",
       "\tif (id_el.children.length && id_el.children[0].hasAttribute('data-root-id')) {\n",
       "\t  const root_el = id_el.children[0]\n",
       "\t  root_el.id = root_el.id + '-rendered'\n",
       "\t  for (const child of root_el.children) {\n",
       "            // Ensure JupyterLab does not capture keyboard shortcuts\n",
       "            // see: https://jupyterlab.readthedocs.io/en/4.1.x/extension/notebook.html#keyboard-interaction-model\n",
       "\t    child.setAttribute('data-lm-suppress-shortcuts', 'true')\n",
       "\t  }\n",
       "\t}\n",
       "      }\n",
       "    }\n",
       "  }\n",
       "  function get_bokeh(root) {\n",
       "    if (root.Bokeh === undefined) {\n",
       "      return null\n",
       "    } else if (root.Bokeh.version !== py_version) {\n",
       "      if (root.Bokeh.versions === undefined || !root.Bokeh.versions.has(py_version)) {\n",
       "\treturn null\n",
       "      }\n",
       "      return root.Bokeh.versions.get(py_version);\n",
       "    } else if (root.Bokeh.version === py_version) {\n",
       "      return root.Bokeh\n",
       "    }\n",
       "    return null\n",
       "  }\n",
       "  function is_loaded(root) {\n",
       "    var Bokeh = get_bokeh(root)\n",
       "    return (Bokeh != null && Bokeh.Panel !== undefined)\n",
       "  }\n",
       "  if (is_loaded(root)) {\n",
       "    embed_document(root);\n",
       "  } else {\n",
       "    var attempts = 0;\n",
       "    var timer = setInterval(function(root) {\n",
       "      if (is_loaded(root)) {\n",
       "        clearInterval(timer);\n",
       "        embed_document(root);\n",
       "      } else if (document.readyState == \"complete\") {\n",
       "        attempts++;\n",
       "        if (attempts > 200) {\n",
       "          clearInterval(timer);\n",
       "\t  var Bokeh = get_bokeh(root)\n",
       "\t  if (Bokeh == null || Bokeh.Panel == null) {\n",
       "            console.warn(\"Panel: ERROR: Unable to run Panel code because Bokeh or Panel library is missing\");\n",
       "\t  } else {\n",
       "\t    console.warn(\"Panel: WARNING: Attempting to render but not all required libraries could be resolved.\")\n",
       "\t    embed_document(root)\n",
       "\t  }\n",
       "        }\n",
       "      }\n",
       "    }, 25, root)\n",
       "  }\n",
       "})(window);</script>"
      ],
      "text/plain": [
       ":Overlay\n",
       "   .NdOverlay.I  :NdOverlay   [reference_time]\n",
       "      :Curve   [value_time]   (secondary_value)\n",
       "   .NdOverlay.II :NdOverlay   [primary_location_id,configuration_name]\n",
       "      :Curve   [value_time]   (primary_value)"
      ]
     },
     "execution_count": 25,
     "metadata": {
      "application/vnd.holoviews_exec.v0+json": {
       "id": "ebcf17ed-5446-4cf5-9e1a-1046041186f8"
      }
     },
     "output_type": "execute_result"
    }
   ],
   "source": [
    "plot_timeseries(\n",
    "    configuration_name=\"nwm30_medium_range\",\n",
    "    secondary_by=[\"reference_time\"],\n",
    "    title=\"Observed streamflow (black) and forecast streamflow at the Radford gage\"\n",
    ")"
   ]
  },
  {
   "cell_type": "code",
   "execution_count": 26,
   "metadata": {},
   "outputs": [
    {
     "data": {},
     "metadata": {},
     "output_type": "display_data"
    },
    {
     "data": {
      "application/vnd.holoviews_exec.v0+json": "",
      "text/html": [
       "<div id='e9052a14-fa2a-42a9-b5e2-e2d485c9e42b'>\n",
       "  <div id=\"cf2271b9-e268-4b97-bff6-93413116774f\" data-root-id=\"e9052a14-fa2a-42a9-b5e2-e2d485c9e42b\" style=\"display: contents;\"></div>\n",
       "</div>\n",
       "<script type=\"application/javascript\">(function(root) {\n",
       "  var docs_json = {\"f89bbea3-0e85-4d30-a55f-49820e085053\":{\"version\":\"3.6.2\",\"title\":\"Bokeh Application\",\"roots\":[{\"type\":\"object\",\"name\":\"Row\",\"id\":\"e9052a14-fa2a-42a9-b5e2-e2d485c9e42b\",\"attributes\":{\"name\":\"Row00836\",\"tags\":[\"embedded\"],\"stylesheets\":[\"\\n:host(.pn-loading):before, .pn-loading:before {\\n  background-color: #c3c3c3;\\n  mask-size: auto calc(min(50%, 400px));\\n  -webkit-mask-size: auto calc(min(50%, 400px));\\n}\",{\"type\":\"object\",\"name\":\"ImportedStyleSheet\",\"id\":\"65e83d31-fcde-44be-a3d2-d29646ce5b8d\",\"attributes\":{\"url\":\"https://cdn.holoviz.org/panel/1.5.5/dist/css/loading.css\"}},{\"type\":\"object\",\"name\":\"ImportedStyleSheet\",\"id\":\"ae0400c7-f02e-4ed7-b706-a989ba9c4bdb\",\"attributes\":{\"url\":\"https://cdn.holoviz.org/panel/1.5.5/dist/css/listpanel.css\"}},{\"type\":\"object\",\"name\":\"ImportedStyleSheet\",\"id\":\"2573ee46-7b23-4454-8617-9cb014a538c0\",\"attributes\":{\"url\":\"https://cdn.holoviz.org/panel/1.5.5/dist/bundled/theme/default.css\"}},{\"type\":\"object\",\"name\":\"ImportedStyleSheet\",\"id\":\"616830e6-317b-4aa6-863b-7dc7f7a2ae84\",\"attributes\":{\"url\":\"https://cdn.holoviz.org/panel/1.5.5/dist/bundled/theme/native.css\"}}],\"min_width\":700,\"margin\":0,\"sizing_mode\":\"stretch_width\",\"align\":\"start\",\"children\":[{\"type\":\"object\",\"name\":\"Spacer\",\"id\":\"45958f71-ca3e-40cc-bcb7-510514453440\",\"attributes\":{\"name\":\"HSpacer00840\",\"stylesheets\":[\"\\n:host(.pn-loading):before, .pn-loading:before {\\n  background-color: #c3c3c3;\\n  mask-size: auto calc(min(50%, 400px));\\n  -webkit-mask-size: auto calc(min(50%, 400px));\\n}\",{\"id\":\"65e83d31-fcde-44be-a3d2-d29646ce5b8d\"},{\"id\":\"2573ee46-7b23-4454-8617-9cb014a538c0\"},{\"id\":\"616830e6-317b-4aa6-863b-7dc7f7a2ae84\"}],\"margin\":0,\"sizing_mode\":\"stretch_width\",\"align\":\"start\"}},{\"type\":\"object\",\"name\":\"Figure\",\"id\":\"fd5993e8-31a9-4ec9-84f2-f5e331f3ce18\",\"attributes\":{\"width\":700,\"height\":400,\"margin\":[5,10],\"sizing_mode\":\"fixed\",\"align\":\"start\",\"x_range\":{\"type\":\"object\",\"name\":\"Range1d\",\"id\":\"ee8bb510-fcb0-42d6-8d92-3cb92780718b\",\"attributes\":{\"name\":\"value_time\",\"tags\":[[[\"value_time\",null]],[]],\"start\":1727316000000.0,\"end\":1727377200000.0,\"reset_start\":1727316000000.0,\"reset_end\":1727377200000.0}},\"y_range\":{\"type\":\"object\",\"name\":\"Range1d\",\"id\":\"afe35e9a-53a2-4e5d-9cc6-68994e6b06a4\",\"attributes\":{\"name\":\"secondary_value\",\"tags\":[[[\"secondary_value\",null]],{\"type\":\"map\",\"entries\":[[\"invert_yaxis\",false],[\"autorange\",false]]}],\"start\":-0.00046603600494563583,\"end\":0.005126396054401993,\"reset_start\":-0.00046603600494563583,\"reset_end\":0.005126396054401993}},\"x_scale\":{\"type\":\"object\",\"name\":\"LinearScale\",\"id\":\"9161f118-23ce-4a68-a7e0-dc7289d010b7\"},\"y_scale\":{\"type\":\"object\",\"name\":\"LinearScale\",\"id\":\"f949ebbf-a4aa-4b31-b313-4fc002ff80df\"},\"title\":{\"type\":\"object\",\"name\":\"Title\",\"id\":\"c1b75b94-388d-4f43-a2ed-2f12deb7199a\",\"attributes\":{\"text\":\"Observed MAP (black) and forecast MAP at the three HUC10s\",\"text_color\":\"black\",\"text_font_size\":\"12pt\"}},\"renderers\":[{\"type\":\"object\",\"name\":\"GlyphRenderer\",\"id\":\"9c52b8a2-691b-49ec-8992-52f224c1d10d\",\"attributes\":{\"data_source\":{\"type\":\"object\",\"name\":\"ColumnDataSource\",\"id\":\"c9141914-738e-4184-a1ef-5940ec53cbfa\",\"attributes\":{\"selected\":{\"type\":\"object\",\"name\":\"Selection\",\"id\":\"2e2867e0-484b-48cf-8ffc-d4579cb248db\",\"attributes\":{\"indices\":[],\"line_indices\":[]}},\"selection_policy\":{\"type\":\"object\",\"name\":\"UnionRenderers\",\"id\":\"595db9c2-1c62-4e82-993c-3d38dfa72f7e\"},\"data\":{\"type\":\"map\",\"entries\":[[\"value_time\",{\"type\":\"ndarray\",\"array\":{\"type\":\"bytes\",\"data\":\"AADQ58AieUIAALhWxCJ5QgAAoMXHInlCAACINMsieUIAAHCjziJ5QgAAWBLSInlCAABAgdUieUIAACjw2CJ5QgAAEF/cInlCAAD4zd8ieUIAAOA84yJ5QgAAyKvmInlCAACwGuoieUIAAJiJ7SJ5QgAAgPjwInlCAABoZ/QieUIAAFDW9yJ5QgAAOEX7InlC\"},\"shape\":[18],\"dtype\":\"float64\",\"order\":\"little\"}],[\"secondary_value\",{\"type\":\"ndarray\",\"array\":{\"type\":\"bytes\",\"data\":\"j8mlMRWWvjKcpgg3a26gOd899TnpJls4wTvnOPR1CDlWeCM6l9XTOkrkgTqbqCI6kuRJOvidnDmcM6c5zm83OgP+3TgUSqs4\"},\"shape\":[18],\"dtype\":\"float32\",\"order\":\"little\"}],[\"primary_location_id\",[\"wbd-0505000115\",\"wbd-0505000115\",\"wbd-0505000115\",\"wbd-0505000115\",\"wbd-0505000115\",\"wbd-0505000115\",\"wbd-0505000115\",\"wbd-0505000115\",\"wbd-0505000115\",\"wbd-0505000115\",\"wbd-0505000115\",\"wbd-0505000115\",\"wbd-0505000115\",\"wbd-0505000115\",\"wbd-0505000115\",\"wbd-0505000115\",\"wbd-0505000115\",\"wbd-0505000115\"]]]}}},\"view\":{\"type\":\"object\",\"name\":\"CDSView\",\"id\":\"b927f601-b734-4a7c-94b2-8955ca94b05d\",\"attributes\":{\"filter\":{\"type\":\"object\",\"name\":\"AllIndices\",\"id\":\"334ff5ab-8b55-47eb-9d7a-6d4fffacc88f\"}}},\"glyph\":{\"type\":\"object\",\"name\":\"Line\",\"id\":\"f01866a1-27d2-496a-934d-d347968d2fbb\",\"attributes\":{\"tags\":[\"apply_ranges\"],\"x\":{\"type\":\"field\",\"field\":\"value_time\"},\"y\":{\"type\":\"field\",\"field\":\"secondary_value\"},\"line_color\":\"#30a2da\",\"line_width\":2}},\"selection_glyph\":{\"type\":\"object\",\"name\":\"Line\",\"id\":\"dff5fb5e-81f2-4682-9454-b8bf9262fe31\",\"attributes\":{\"tags\":[\"apply_ranges\"],\"x\":{\"type\":\"field\",\"field\":\"value_time\"},\"y\":{\"type\":\"field\",\"field\":\"secondary_value\"},\"line_color\":\"#30a2da\",\"line_width\":2}},\"nonselection_glyph\":{\"type\":\"object\",\"name\":\"Line\",\"id\":\"421729cb-441f-454d-bd62-168dff26c896\",\"attributes\":{\"tags\":[\"apply_ranges\"],\"x\":{\"type\":\"field\",\"field\":\"value_time\"},\"y\":{\"type\":\"field\",\"field\":\"secondary_value\"},\"line_color\":\"#30a2da\",\"line_alpha\":0.1,\"line_width\":2}},\"muted_glyph\":{\"type\":\"object\",\"name\":\"Line\",\"id\":\"69d15675-6c71-4225-ae6f-d78aa139cf05\",\"attributes\":{\"tags\":[\"apply_ranges\"],\"x\":{\"type\":\"field\",\"field\":\"value_time\"},\"y\":{\"type\":\"field\",\"field\":\"secondary_value\"},\"line_color\":\"#30a2da\",\"line_alpha\":0.2,\"line_width\":2}}}},{\"type\":\"object\",\"name\":\"GlyphRenderer\",\"id\":\"280d7bc0-6e06-41c1-9934-3102c5b140e0\",\"attributes\":{\"data_source\":{\"type\":\"object\",\"name\":\"ColumnDataSource\",\"id\":\"9b2180bc-9167-47f7-986d-b3691da9605e\",\"attributes\":{\"selected\":{\"type\":\"object\",\"name\":\"Selection\",\"id\":\"b3019115-ef99-4ca3-b79d-0ce4eaca8120\",\"attributes\":{\"indices\":[],\"line_indices\":[]}},\"selection_policy\":{\"type\":\"object\",\"name\":\"UnionRenderers\",\"id\":\"723d24bd-8de8-4d0b-aeba-012fbc8af6d9\"},\"data\":{\"type\":\"map\",\"entries\":[[\"value_time\",{\"type\":\"ndarray\",\"array\":{\"type\":\"bytes\",\"data\":\"AADQ58AieUIAALhWxCJ5QgAAoMXHInlCAACINMsieUIAAHCjziJ5QgAAWBLSInlCAABAgdUieUIAACjw2CJ5QgAAEF/cInlCAAD4zd8ieUIAAOA84yJ5QgAAyKvmInlCAACwGuoieUIAAJiJ7SJ5QgAAgPjwInlCAABoZ/QieUIAAFDW9yJ5QgAAOEX7InlC\"},\"shape\":[18],\"dtype\":\"float64\",\"order\":\"little\"}],[\"secondary_value\",{\"type\":\"ndarray\",\"array\":{\"type\":\"bytes\",\"data\":\"DAPHOrj+cDgIIVk6sLvqOvI6VznNYIA5GGcHOl8lGjk3AOQ5vub+OZvlMzlxftE5E8cOOmaEBjqtPIU4pb6iOY/WDDq0vAg5\"},\"shape\":[18],\"dtype\":\"float32\",\"order\":\"little\"}],[\"primary_location_id\",[\"wbd-0505000117\",\"wbd-0505000117\",\"wbd-0505000117\",\"wbd-0505000117\",\"wbd-0505000117\",\"wbd-0505000117\",\"wbd-0505000117\",\"wbd-0505000117\",\"wbd-0505000117\",\"wbd-0505000117\",\"wbd-0505000117\",\"wbd-0505000117\",\"wbd-0505000117\",\"wbd-0505000117\",\"wbd-0505000117\",\"wbd-0505000117\",\"wbd-0505000117\",\"wbd-0505000117\"]]]}}},\"view\":{\"type\":\"object\",\"name\":\"CDSView\",\"id\":\"30ea41a9-d69a-490a-9eaa-20bad5876c97\",\"attributes\":{\"filter\":{\"type\":\"object\",\"name\":\"AllIndices\",\"id\":\"2ba51b40-37a4-4fc2-9240-009f527956f9\"}}},\"glyph\":{\"type\":\"object\",\"name\":\"Line\",\"id\":\"9fbc561d-5e96-4262-8e35-cd08150b1836\",\"attributes\":{\"tags\":[\"apply_ranges\"],\"x\":{\"type\":\"field\",\"field\":\"value_time\"},\"y\":{\"type\":\"field\",\"field\":\"secondary_value\"},\"line_color\":\"#fc4f30\",\"line_width\":2}},\"selection_glyph\":{\"type\":\"object\",\"name\":\"Line\",\"id\":\"4b67e763-0dbd-4e21-a36b-09c5526e14c9\",\"attributes\":{\"tags\":[\"apply_ranges\"],\"x\":{\"type\":\"field\",\"field\":\"value_time\"},\"y\":{\"type\":\"field\",\"field\":\"secondary_value\"},\"line_color\":\"#fc4f30\",\"line_width\":2}},\"nonselection_glyph\":{\"type\":\"object\",\"name\":\"Line\",\"id\":\"95b966a3-5cc4-448a-b38e-52d404a44197\",\"attributes\":{\"tags\":[\"apply_ranges\"],\"x\":{\"type\":\"field\",\"field\":\"value_time\"},\"y\":{\"type\":\"field\",\"field\":\"secondary_value\"},\"line_color\":\"#fc4f30\",\"line_alpha\":0.1,\"line_width\":2}},\"muted_glyph\":{\"type\":\"object\",\"name\":\"Line\",\"id\":\"9be2d5bc-a2ea-4124-9985-0d79099efce9\",\"attributes\":{\"tags\":[\"apply_ranges\"],\"x\":{\"type\":\"field\",\"field\":\"value_time\"},\"y\":{\"type\":\"field\",\"field\":\"secondary_value\"},\"line_color\":\"#fc4f30\",\"line_alpha\":0.2,\"line_width\":2}}}},{\"type\":\"object\",\"name\":\"GlyphRenderer\",\"id\":\"348b9284-d2bb-47ff-9a10-3575bf9d5ca0\",\"attributes\":{\"data_source\":{\"type\":\"object\",\"name\":\"ColumnDataSource\",\"id\":\"d4dc2212-e37d-4a75-87e1-d42cdbb91635\",\"attributes\":{\"selected\":{\"type\":\"object\",\"name\":\"Selection\",\"id\":\"e3eb3d4f-695a-4635-9fbe-f3f107eacb9f\",\"attributes\":{\"indices\":[],\"line_indices\":[]}},\"selection_policy\":{\"type\":\"object\",\"name\":\"UnionRenderers\",\"id\":\"3260b033-1ac4-471e-b50b-54a81afaf07b\"},\"data\":{\"type\":\"map\",\"entries\":[[\"value_time\",{\"type\":\"ndarray\",\"array\":{\"type\":\"bytes\",\"data\":\"AADQ58AieUIAALhWxCJ5QgAAoMXHInlCAACINMsieUIAAHCjziJ5QgAAWBLSInlCAABAgdUieUIAACjw2CJ5QgAAEF/cInlCAAD4zd8ieUIAAOA84yJ5QgAAyKvmInlCAACwGuoieUIAAJiJ7SJ5QgAAgPjwInlCAABoZ/QieUIAAFDW9yJ5QgAAOEX7InlC\"},\"shape\":[18],\"dtype\":\"float64\",\"order\":\"little\"}],[\"secondary_value\",{\"type\":\"ndarray\",\"array\":{\"type\":\"bytes\",\"data\":\"0yNFOP63Gzm9clc4yG29OvZ38TmgQlU4FfC8OYbZkDl6VG45u/KqOsnf6zn1KqY5gdOdOf6LrDlMRlw5XPkYOQyhXjmhpQU6\"},\"shape\":[18],\"dtype\":\"float32\",\"order\":\"little\"}],[\"primary_location_id\",[\"wbd-0505000118\",\"wbd-0505000118\",\"wbd-0505000118\",\"wbd-0505000118\",\"wbd-0505000118\",\"wbd-0505000118\",\"wbd-0505000118\",\"wbd-0505000118\",\"wbd-0505000118\",\"wbd-0505000118\",\"wbd-0505000118\",\"wbd-0505000118\",\"wbd-0505000118\",\"wbd-0505000118\",\"wbd-0505000118\",\"wbd-0505000118\",\"wbd-0505000118\",\"wbd-0505000118\"]]]}}},\"view\":{\"type\":\"object\",\"name\":\"CDSView\",\"id\":\"48465075-7ef3-4ce3-b9d8-73875f1f4954\",\"attributes\":{\"filter\":{\"type\":\"object\",\"name\":\"AllIndices\",\"id\":\"45565970-e177-4e98-a6af-3336e99ab5bd\"}}},\"glyph\":{\"type\":\"object\",\"name\":\"Line\",\"id\":\"480ad6f5-f035-4622-ac9b-c4c25d5e3774\",\"attributes\":{\"tags\":[\"apply_ranges\"],\"x\":{\"type\":\"field\",\"field\":\"value_time\"},\"y\":{\"type\":\"field\",\"field\":\"secondary_value\"},\"line_color\":\"#e5ae38\",\"line_width\":2}},\"selection_glyph\":{\"type\":\"object\",\"name\":\"Line\",\"id\":\"a9424518-5c89-4785-a50a-d3f8484d43bc\",\"attributes\":{\"tags\":[\"apply_ranges\"],\"x\":{\"type\":\"field\",\"field\":\"value_time\"},\"y\":{\"type\":\"field\",\"field\":\"secondary_value\"},\"line_color\":\"#e5ae38\",\"line_width\":2}},\"nonselection_glyph\":{\"type\":\"object\",\"name\":\"Line\",\"id\":\"cf14e495-b33c-46d1-ae8e-3f675af38f81\",\"attributes\":{\"tags\":[\"apply_ranges\"],\"x\":{\"type\":\"field\",\"field\":\"value_time\"},\"y\":{\"type\":\"field\",\"field\":\"secondary_value\"},\"line_color\":\"#e5ae38\",\"line_alpha\":0.1,\"line_width\":2}},\"muted_glyph\":{\"type\":\"object\",\"name\":\"Line\",\"id\":\"e517f918-15b3-44ab-b038-7cb5811e784c\",\"attributes\":{\"tags\":[\"apply_ranges\"],\"x\":{\"type\":\"field\",\"field\":\"value_time\"},\"y\":{\"type\":\"field\",\"field\":\"secondary_value\"},\"line_color\":\"#e5ae38\",\"line_alpha\":0.2,\"line_width\":2}}}},{\"type\":\"object\",\"name\":\"GlyphRenderer\",\"id\":\"2f1497ef-51ef-4786-a6f9-ce267eedfd43\",\"attributes\":{\"data_source\":{\"type\":\"object\",\"name\":\"ColumnDataSource\",\"id\":\"ea6d67df-48d7-4f3f-aff7-bedf306620bf\",\"attributes\":{\"selected\":{\"type\":\"object\",\"name\":\"Selection\",\"id\":\"f82e6b06-08fc-485c-b284-05617761046d\",\"attributes\":{\"indices\":[],\"line_indices\":[]}},\"selection_policy\":{\"type\":\"object\",\"name\":\"UnionRenderers\",\"id\":\"8d88263b-89ba-4424-b158-25652e4df8af\"},\"data\":{\"type\":\"map\",\"entries\":[[\"value_time\",{\"type\":\"ndarray\",\"array\":{\"type\":\"bytes\",\"data\":\"AADQ58AieUIAALhWxCJ5QgAAoMXHInlCAACINMsieUIAAHCjziJ5QgAAWBLSInlCAABAgdUieUIAACjw2CJ5QgAAEF/cInlCAAD4zd8ieUIAAOA84yJ5QgAAyKvmInlCAACwGuoieUIAAJiJ7SJ5QgAAgPjwInlCAABoZ/QieUIAAFDW9yJ5QgAAOEX7InlC\"},\"shape\":[18],\"dtype\":\"float64\",\"order\":\"little\"}],[\"primary_value\",{\"type\":\"ndarray\",\"array\":{\"type\":\"bytes\",\"data\":\"a4j1OYafcjtEcT071T/eOjf04TcrmFw6g35SOlV0QzsP2hA7GKGKOqvn+jl1hU06zAWWOU7TmzkRlW43fAVzNfJn1jmC33U5\"},\"shape\":[18],\"dtype\":\"float32\",\"order\":\"little\"}],[\"primary_location_id\",[\"wbd-0505000115\",\"wbd-0505000115\",\"wbd-0505000115\",\"wbd-0505000115\",\"wbd-0505000115\",\"wbd-0505000115\",\"wbd-0505000115\",\"wbd-0505000115\",\"wbd-0505000115\",\"wbd-0505000115\",\"wbd-0505000115\",\"wbd-0505000115\",\"wbd-0505000115\",\"wbd-0505000115\",\"wbd-0505000115\",\"wbd-0505000115\",\"wbd-0505000115\",\"wbd-0505000115\"]],[\"configuration_name\",[\"nwm30_forcing_short_range\",\"nwm30_forcing_short_range\",\"nwm30_forcing_short_range\",\"nwm30_forcing_short_range\",\"nwm30_forcing_short_range\",\"nwm30_forcing_short_range\",\"nwm30_forcing_short_range\",\"nwm30_forcing_short_range\",\"nwm30_forcing_short_range\",\"nwm30_forcing_short_range\",\"nwm30_forcing_short_range\",\"nwm30_forcing_short_range\",\"nwm30_forcing_short_range\",\"nwm30_forcing_short_range\",\"nwm30_forcing_short_range\",\"nwm30_forcing_short_range\",\"nwm30_forcing_short_range\",\"nwm30_forcing_short_range\"]]]}}},\"view\":{\"type\":\"object\",\"name\":\"CDSView\",\"id\":\"be3769a7-5486-4af4-ad19-0b074026e267\",\"attributes\":{\"filter\":{\"type\":\"object\",\"name\":\"AllIndices\",\"id\":\"c4bc3cfb-1054-4ddd-95a0-5a74faf18f9a\"}}},\"glyph\":{\"type\":\"object\",\"name\":\"Line\",\"id\":\"b955066d-8ae8-40af-9b32-bd38ba9b213c\",\"attributes\":{\"tags\":[\"apply_ranges\"],\"x\":{\"type\":\"field\",\"field\":\"value_time\"},\"y\":{\"type\":\"field\",\"field\":\"primary_value\"},\"line_width\":2}},\"selection_glyph\":{\"type\":\"object\",\"name\":\"Line\",\"id\":\"ba4ec95c-52af-4b1b-a891-fc75111e485a\",\"attributes\":{\"tags\":[\"apply_ranges\"],\"x\":{\"type\":\"field\",\"field\":\"value_time\"},\"y\":{\"type\":\"field\",\"field\":\"primary_value\"},\"line_width\":2}},\"nonselection_glyph\":{\"type\":\"object\",\"name\":\"Line\",\"id\":\"49a2ead7-ad82-4baf-9252-6ab2ede0cb61\",\"attributes\":{\"tags\":[\"apply_ranges\"],\"x\":{\"type\":\"field\",\"field\":\"value_time\"},\"y\":{\"type\":\"field\",\"field\":\"primary_value\"},\"line_alpha\":0.1,\"line_width\":2}},\"muted_glyph\":{\"type\":\"object\",\"name\":\"Line\",\"id\":\"c5fcc7ed-da8e-41cf-ac3c-60b6b6046d13\",\"attributes\":{\"tags\":[\"apply_ranges\"],\"x\":{\"type\":\"field\",\"field\":\"value_time\"},\"y\":{\"type\":\"field\",\"field\":\"primary_value\"},\"line_alpha\":0.2,\"line_width\":2}}}},{\"type\":\"object\",\"name\":\"GlyphRenderer\",\"id\":\"6abf619d-88f5-4183-86eb-ef8db4efd993\",\"attributes\":{\"data_source\":{\"type\":\"object\",\"name\":\"ColumnDataSource\",\"id\":\"5519a404-1214-4680-85e7-d285eef9da13\",\"attributes\":{\"selected\":{\"type\":\"object\",\"name\":\"Selection\",\"id\":\"b40f69b2-353c-42aa-96fd-ca67ee3467d6\",\"attributes\":{\"indices\":[],\"line_indices\":[]}},\"selection_policy\":{\"type\":\"object\",\"name\":\"UnionRenderers\",\"id\":\"309d692f-a072-4b88-9a49-de4dd7601c78\"},\"data\":{\"type\":\"map\",\"entries\":[[\"value_time\",{\"type\":\"ndarray\",\"array\":{\"type\":\"bytes\",\"data\":\"AADQ58AieUIAALhWxCJ5QgAAoMXHInlCAACINMsieUIAAHCjziJ5QgAAWBLSInlCAABAgdUieUIAACjw2CJ5QgAAEF/cInlCAAD4zd8ieUIAAOA84yJ5QgAAyKvmInlCAACwGuoieUIAAJiJ7SJ5QgAAgPjwInlCAABoZ/QieUIAAFDW9yJ5QgAAOEX7InlC\"},\"shape\":[18],\"dtype\":\"float64\",\"order\":\"little\"}],[\"primary_value\",{\"type\":\"ndarray\",\"array\":{\"type\":\"bytes\",\"data\":\"x3HhOu8QqjrHGxQ7HuJCOeMUDjjOHFo3fKfEOP5DRzqCXw84VcKtNZTBRzi9nhE50WAXOQn5QTgAAAAAsYL7NWZ8EjnwmHQ3\"},\"shape\":[18],\"dtype\":\"float32\",\"order\":\"little\"}],[\"primary_location_id\",[\"wbd-0505000117\",\"wbd-0505000117\",\"wbd-0505000117\",\"wbd-0505000117\",\"wbd-0505000117\",\"wbd-0505000117\",\"wbd-0505000117\",\"wbd-0505000117\",\"wbd-0505000117\",\"wbd-0505000117\",\"wbd-0505000117\",\"wbd-0505000117\",\"wbd-0505000117\",\"wbd-0505000117\",\"wbd-0505000117\",\"wbd-0505000117\",\"wbd-0505000117\",\"wbd-0505000117\"]],[\"configuration_name\",[\"nwm30_forcing_short_range\",\"nwm30_forcing_short_range\",\"nwm30_forcing_short_range\",\"nwm30_forcing_short_range\",\"nwm30_forcing_short_range\",\"nwm30_forcing_short_range\",\"nwm30_forcing_short_range\",\"nwm30_forcing_short_range\",\"nwm30_forcing_short_range\",\"nwm30_forcing_short_range\",\"nwm30_forcing_short_range\",\"nwm30_forcing_short_range\",\"nwm30_forcing_short_range\",\"nwm30_forcing_short_range\",\"nwm30_forcing_short_range\",\"nwm30_forcing_short_range\",\"nwm30_forcing_short_range\",\"nwm30_forcing_short_range\"]]]}}},\"view\":{\"type\":\"object\",\"name\":\"CDSView\",\"id\":\"eddedc83-9c05-487b-8c54-2e583453116b\",\"attributes\":{\"filter\":{\"type\":\"object\",\"name\":\"AllIndices\",\"id\":\"98ce2b67-ba99-47be-aed1-fc711d190553\"}}},\"glyph\":{\"type\":\"object\",\"name\":\"Line\",\"id\":\"74819da2-6cd7-48a4-8b45-51760043ff84\",\"attributes\":{\"tags\":[\"apply_ranges\"],\"x\":{\"type\":\"field\",\"field\":\"value_time\"},\"y\":{\"type\":\"field\",\"field\":\"primary_value\"},\"line_width\":2}},\"selection_glyph\":{\"type\":\"object\",\"name\":\"Line\",\"id\":\"fe7dfc52-ba69-4318-8d62-64533b41f7d1\",\"attributes\":{\"tags\":[\"apply_ranges\"],\"x\":{\"type\":\"field\",\"field\":\"value_time\"},\"y\":{\"type\":\"field\",\"field\":\"primary_value\"},\"line_width\":2}},\"nonselection_glyph\":{\"type\":\"object\",\"name\":\"Line\",\"id\":\"c189d2c9-6bf4-45a5-b51d-1c4377da904a\",\"attributes\":{\"tags\":[\"apply_ranges\"],\"x\":{\"type\":\"field\",\"field\":\"value_time\"},\"y\":{\"type\":\"field\",\"field\":\"primary_value\"},\"line_alpha\":0.1,\"line_width\":2}},\"muted_glyph\":{\"type\":\"object\",\"name\":\"Line\",\"id\":\"79c45e03-8ce7-429d-b278-c41727447265\",\"attributes\":{\"tags\":[\"apply_ranges\"],\"x\":{\"type\":\"field\",\"field\":\"value_time\"},\"y\":{\"type\":\"field\",\"field\":\"primary_value\"},\"line_alpha\":0.2,\"line_width\":2}}}},{\"type\":\"object\",\"name\":\"GlyphRenderer\",\"id\":\"a289e69b-ae7b-4931-85a8-19a8297308af\",\"attributes\":{\"data_source\":{\"type\":\"object\",\"name\":\"ColumnDataSource\",\"id\":\"5f8a2675-03f4-4c0c-b479-aa25ea6852b6\",\"attributes\":{\"selected\":{\"type\":\"object\",\"name\":\"Selection\",\"id\":\"e2ef2a36-a26a-4b20-b97b-deb65425cbe8\",\"attributes\":{\"indices\":[],\"line_indices\":[]}},\"selection_policy\":{\"type\":\"object\",\"name\":\"UnionRenderers\",\"id\":\"29d61679-cb96-44c5-93ee-76d01820b446\"},\"data\":{\"type\":\"map\",\"entries\":[[\"value_time\",{\"type\":\"ndarray\",\"array\":{\"type\":\"bytes\",\"data\":\"AADQ58AieUIAALhWxCJ5QgAAoMXHInlCAACINMsieUIAAHCjziJ5QgAAWBLSInlCAABAgdUieUIAACjw2CJ5QgAAEF/cInlCAAD4zd8ieUIAAOA84yJ5QgAAyKvmInlCAACwGuoieUIAAJiJ7SJ5QgAAgPjwInlCAABoZ/QieUIAAFDW9yJ5QgAAOEX7InlC\"},\"shape\":[18],\"dtype\":\"float64\",\"order\":\"little\"}],[\"primary_value\",{\"type\":\"ndarray\",\"array\":{\"type\":\"bytes\",\"data\":\"Cx1tOd+MSjvvtZg7Qby2OlRGXDgHeh85FcPuOEY7nzoYdlM6UbZ5ORaMXTmmPIw5BdRcOaZ+gDkAAAAAd66DNRG8HzmBx+04\"},\"shape\":[18],\"dtype\":\"float32\",\"order\":\"little\"}],[\"primary_location_id\",[\"wbd-0505000118\",\"wbd-0505000118\",\"wbd-0505000118\",\"wbd-0505000118\",\"wbd-0505000118\",\"wbd-0505000118\",\"wbd-0505000118\",\"wbd-0505000118\",\"wbd-0505000118\",\"wbd-0505000118\",\"wbd-0505000118\",\"wbd-0505000118\",\"wbd-0505000118\",\"wbd-0505000118\",\"wbd-0505000118\",\"wbd-0505000118\",\"wbd-0505000118\",\"wbd-0505000118\"]],[\"configuration_name\",[\"nwm30_forcing_short_range\",\"nwm30_forcing_short_range\",\"nwm30_forcing_short_range\",\"nwm30_forcing_short_range\",\"nwm30_forcing_short_range\",\"nwm30_forcing_short_range\",\"nwm30_forcing_short_range\",\"nwm30_forcing_short_range\",\"nwm30_forcing_short_range\",\"nwm30_forcing_short_range\",\"nwm30_forcing_short_range\",\"nwm30_forcing_short_range\",\"nwm30_forcing_short_range\",\"nwm30_forcing_short_range\",\"nwm30_forcing_short_range\",\"nwm30_forcing_short_range\",\"nwm30_forcing_short_range\",\"nwm30_forcing_short_range\"]]]}}},\"view\":{\"type\":\"object\",\"name\":\"CDSView\",\"id\":\"7ad8569d-79dd-4240-94d9-4f9879fbbe9c\",\"attributes\":{\"filter\":{\"type\":\"object\",\"name\":\"AllIndices\",\"id\":\"45a8677f-a014-42ca-bb86-3c5aad30d378\"}}},\"glyph\":{\"type\":\"object\",\"name\":\"Line\",\"id\":\"bd2e501a-2383-4f11-8f87-5a4ba63fbe6a\",\"attributes\":{\"tags\":[\"apply_ranges\"],\"x\":{\"type\":\"field\",\"field\":\"value_time\"},\"y\":{\"type\":\"field\",\"field\":\"primary_value\"},\"line_width\":2}},\"selection_glyph\":{\"type\":\"object\",\"name\":\"Line\",\"id\":\"81325035-0f76-421d-889a-89c3595e5301\",\"attributes\":{\"tags\":[\"apply_ranges\"],\"x\":{\"type\":\"field\",\"field\":\"value_time\"},\"y\":{\"type\":\"field\",\"field\":\"primary_value\"},\"line_width\":2}},\"nonselection_glyph\":{\"type\":\"object\",\"name\":\"Line\",\"id\":\"c6b9d8d0-ebcc-440b-b792-d6fad340cfa6\",\"attributes\":{\"tags\":[\"apply_ranges\"],\"x\":{\"type\":\"field\",\"field\":\"value_time\"},\"y\":{\"type\":\"field\",\"field\":\"primary_value\"},\"line_alpha\":0.1,\"line_width\":2}},\"muted_glyph\":{\"type\":\"object\",\"name\":\"Line\",\"id\":\"cf4d5864-bc3c-485d-a3d8-a6021c9dea94\",\"attributes\":{\"tags\":[\"apply_ranges\"],\"x\":{\"type\":\"field\",\"field\":\"value_time\"},\"y\":{\"type\":\"field\",\"field\":\"primary_value\"},\"line_alpha\":0.2,\"line_width\":2}}}}],\"toolbar\":{\"type\":\"object\",\"name\":\"Toolbar\",\"id\":\"2bdc5c12-ca9d-4705-8379-406175e39388\",\"attributes\":{\"tools\":[{\"type\":\"object\",\"name\":\"WheelZoomTool\",\"id\":\"70b1663d-5b35-4779-baf5-ff2e20d3b9ba\",\"attributes\":{\"tags\":[\"hv_created\"],\"renderers\":\"auto\",\"zoom_together\":\"none\"}},{\"type\":\"object\",\"name\":\"HoverTool\",\"id\":\"3dc082b4-3d6c-4dbd-a1d5-82ac6963112d\",\"attributes\":{\"tags\":[\"hv_created\"],\"renderers\":[{\"id\":\"9c52b8a2-691b-49ec-8992-52f224c1d10d\"},{\"id\":\"280d7bc0-6e06-41c1-9934-3102c5b140e0\"},{\"id\":\"348b9284-d2bb-47ff-9a10-3575bf9d5ca0\"}],\"tooltips\":[[\"primary_location_id\",\"@{primary_location_id}\"],[\"value_time\",\"@{value_time}{%F %T}\"],[\"secondary_value\",\"@{secondary_value}\"]],\"formatters\":{\"type\":\"map\",\"entries\":[[\"@{value_time}\",\"datetime\"]]}}},{\"type\":\"object\",\"name\":\"HoverTool\",\"id\":\"ae1d2226-6b6d-4e7f-93a6-23cb30523445\",\"attributes\":{\"tags\":[\"hv_created\"],\"renderers\":[{\"id\":\"2f1497ef-51ef-4786-a6f9-ce267eedfd43\"},{\"id\":\"6abf619d-88f5-4183-86eb-ef8db4efd993\"},{\"id\":\"a289e69b-ae7b-4931-85a8-19a8297308af\"}],\"tooltips\":[[\"primary_location_id\",\"@{primary_location_id}\"],[\"configuration_name\",\"@{configuration_name}\"],[\"value_time\",\"@{value_time}{%F %T}\"],[\"primary_value\",\"@{primary_value}\"]],\"formatters\":{\"type\":\"map\",\"entries\":[[\"@{value_time}\",\"datetime\"]]}}},{\"type\":\"object\",\"name\":\"SaveTool\",\"id\":\"2ae89dbe-5bc7-482c-8876-6601e7f22f9b\"},{\"type\":\"object\",\"name\":\"PanTool\",\"id\":\"ca9ddfaa-cb47-451e-9392-802d6d4188ff\"},{\"type\":\"object\",\"name\":\"BoxZoomTool\",\"id\":\"8a31f1b4-a099-41e9-a47f-18c84167b78f\",\"attributes\":{\"overlay\":{\"type\":\"object\",\"name\":\"BoxAnnotation\",\"id\":\"bf41ef90-a754-44d0-8f16-45925c054ebe\",\"attributes\":{\"syncable\":false,\"line_color\":\"black\",\"line_alpha\":1.0,\"line_width\":2,\"line_dash\":[4,4],\"fill_color\":\"lightgrey\",\"fill_alpha\":0.5,\"level\":\"overlay\",\"visible\":false,\"left\":{\"type\":\"number\",\"value\":\"nan\"},\"right\":{\"type\":\"number\",\"value\":\"nan\"},\"top\":{\"type\":\"number\",\"value\":\"nan\"},\"bottom\":{\"type\":\"number\",\"value\":\"nan\"},\"left_units\":\"canvas\",\"right_units\":\"canvas\",\"top_units\":\"canvas\",\"bottom_units\":\"canvas\",\"handles\":{\"type\":\"object\",\"name\":\"BoxInteractionHandles\",\"id\":\"5a2195b6-f95b-45dc-b859-12d39750c9db\",\"attributes\":{\"all\":{\"type\":\"object\",\"name\":\"AreaVisuals\",\"id\":\"20ad5a55-68dd-45a2-9052-b41570c05104\",\"attributes\":{\"fill_color\":\"white\",\"hover_fill_color\":\"lightgray\"}}}}}}}},{\"type\":\"object\",\"name\":\"ResetTool\",\"id\":\"a27bb724-03d9-424c-8f63-480aaf24929c\"}],\"active_drag\":{\"id\":\"ca9ddfaa-cb47-451e-9392-802d6d4188ff\"}}},\"left\":[{\"type\":\"object\",\"name\":\"LinearAxis\",\"id\":\"c3c1052c-3929-42d7-9f71-03cd470f997b\",\"attributes\":{\"ticker\":{\"type\":\"object\",\"name\":\"BasicTicker\",\"id\":\"068fb512-0a4e-4eff-ac40-99c54e5e7af7\",\"attributes\":{\"mantissas\":[1,2,5]}},\"formatter\":{\"type\":\"object\",\"name\":\"BasicTickFormatter\",\"id\":\"6bbc0ec1-3275-440b-ab9b-2d6b9dd194f6\"},\"axis_label\":\"secondary_value\",\"major_label_policy\":{\"type\":\"object\",\"name\":\"AllLabels\",\"id\":\"2078630d-6035-4f73-b828-31a01da1e6f7\"}}}],\"below\":[{\"type\":\"object\",\"name\":\"DatetimeAxis\",\"id\":\"ae275e1c-e6ab-48bc-a64c-3bd22d70f6c0\",\"attributes\":{\"ticker\":{\"type\":\"object\",\"name\":\"DatetimeTicker\",\"id\":\"8ca2946e-7d46-4228-849e-28b7f3ddb937\",\"attributes\":{\"num_minor_ticks\":5,\"tickers\":[{\"type\":\"object\",\"name\":\"AdaptiveTicker\",\"id\":\"552cda94-9acc-4834-90ff-e2bfb40c7d81\",\"attributes\":{\"num_minor_ticks\":0,\"mantissas\":[1,2,5],\"max_interval\":500.0}},{\"type\":\"object\",\"name\":\"AdaptiveTicker\",\"id\":\"77eba63c-abf7-48e6-a7b9-84ce8649b05c\",\"attributes\":{\"num_minor_ticks\":0,\"base\":60,\"mantissas\":[1,2,5,10,15,20,30],\"min_interval\":1000.0,\"max_interval\":1800000.0}},{\"type\":\"object\",\"name\":\"AdaptiveTicker\",\"id\":\"f21b148e-9dcf-488a-aafb-7a95a5ef19ee\",\"attributes\":{\"num_minor_ticks\":0,\"base\":24,\"mantissas\":[1,2,4,6,8,12],\"min_interval\":3600000.0,\"max_interval\":43200000.0}},{\"type\":\"object\",\"name\":\"DaysTicker\",\"id\":\"f1074a7c-b0f9-44f3-b017-2a49fe9924a1\",\"attributes\":{\"days\":[1,2,3,4,5,6,7,8,9,10,11,12,13,14,15,16,17,18,19,20,21,22,23,24,25,26,27,28,29,30,31]}},{\"type\":\"object\",\"name\":\"DaysTicker\",\"id\":\"de261541-0b8f-4d54-ba3b-7d19ec3e9c74\",\"attributes\":{\"days\":[1,4,7,10,13,16,19,22,25,28]}},{\"type\":\"object\",\"name\":\"DaysTicker\",\"id\":\"24ecad5d-9ecc-4c2e-97ac-91e154882adc\",\"attributes\":{\"days\":[1,8,15,22]}},{\"type\":\"object\",\"name\":\"DaysTicker\",\"id\":\"2d9fea49-4094-4056-8b89-4a778bd83c02\",\"attributes\":{\"days\":[1,15]}},{\"type\":\"object\",\"name\":\"MonthsTicker\",\"id\":\"7182bf83-b317-410f-8d55-c441f09c364e\",\"attributes\":{\"months\":[0,1,2,3,4,5,6,7,8,9,10,11]}},{\"type\":\"object\",\"name\":\"MonthsTicker\",\"id\":\"24ac8780-0f0c-4b11-bd29-73df725ef1d7\",\"attributes\":{\"months\":[0,2,4,6,8,10]}},{\"type\":\"object\",\"name\":\"MonthsTicker\",\"id\":\"23941451-a86b-4bb6-8044-95634ce19630\",\"attributes\":{\"months\":[0,4,8]}},{\"type\":\"object\",\"name\":\"MonthsTicker\",\"id\":\"fa192765-ac51-4896-a3ea-7b245c66c8c7\",\"attributes\":{\"months\":[0,6]}},{\"type\":\"object\",\"name\":\"YearsTicker\",\"id\":\"ab41e209-7656-45c3-b35d-c1f7cbaee1db\"}]}},\"formatter\":{\"type\":\"object\",\"name\":\"DatetimeTickFormatter\",\"id\":\"ebc8d56b-f7bc-4d26-9046-a2aebd8086a1\"},\"axis_label\":\"value_time\",\"major_label_policy\":{\"type\":\"object\",\"name\":\"AllLabels\",\"id\":\"3ba753d5-804a-4a1c-93c1-bcaa222f3e95\"}}}],\"center\":[{\"type\":\"object\",\"name\":\"Grid\",\"id\":\"aaf33a22-5394-440a-bd48-a92080f03e50\",\"attributes\":{\"axis\":{\"id\":\"ae275e1c-e6ab-48bc-a64c-3bd22d70f6c0\"},\"ticker\":{\"id\":\"8ca2946e-7d46-4228-849e-28b7f3ddb937\"}}},{\"type\":\"object\",\"name\":\"Grid\",\"id\":\"18403c85-a75b-4df0-bcdf-0d7cec8442e8\",\"attributes\":{\"dimension\":1,\"axis\":{\"id\":\"c3c1052c-3929-42d7-9f71-03cd470f997b\"},\"ticker\":{\"id\":\"068fb512-0a4e-4eff-ac40-99c54e5e7af7\"}}}],\"min_border_top\":10,\"min_border_bottom\":10,\"min_border_left\":10,\"min_border_right\":10,\"output_backend\":\"webgl\"}},{\"type\":\"object\",\"name\":\"Spacer\",\"id\":\"4b976dc0-df3c-4e21-a563-863d6d00e4b5\",\"attributes\":{\"name\":\"HSpacer00841\",\"stylesheets\":[\"\\n:host(.pn-loading):before, .pn-loading:before {\\n  background-color: #c3c3c3;\\n  mask-size: auto calc(min(50%, 400px));\\n  -webkit-mask-size: auto calc(min(50%, 400px));\\n}\",{\"id\":\"65e83d31-fcde-44be-a3d2-d29646ce5b8d\"},{\"id\":\"2573ee46-7b23-4454-8617-9cb014a538c0\"},{\"id\":\"616830e6-317b-4aa6-863b-7dc7f7a2ae84\"}],\"margin\":0,\"sizing_mode\":\"stretch_width\",\"align\":\"start\"}}]}}],\"defs\":[{\"type\":\"model\",\"name\":\"ReactiveHTML1\"},{\"type\":\"model\",\"name\":\"FlexBox1\",\"properties\":[{\"name\":\"align_content\",\"kind\":\"Any\",\"default\":\"flex-start\"},{\"name\":\"align_items\",\"kind\":\"Any\",\"default\":\"flex-start\"},{\"name\":\"flex_direction\",\"kind\":\"Any\",\"default\":\"row\"},{\"name\":\"flex_wrap\",\"kind\":\"Any\",\"default\":\"wrap\"},{\"name\":\"gap\",\"kind\":\"Any\",\"default\":\"\"},{\"name\":\"justify_content\",\"kind\":\"Any\",\"default\":\"flex-start\"}]},{\"type\":\"model\",\"name\":\"FloatPanel1\",\"properties\":[{\"name\":\"config\",\"kind\":\"Any\",\"default\":{\"type\":\"map\"}},{\"name\":\"contained\",\"kind\":\"Any\",\"default\":true},{\"name\":\"position\",\"kind\":\"Any\",\"default\":\"right-top\"},{\"name\":\"offsetx\",\"kind\":\"Any\",\"default\":null},{\"name\":\"offsety\",\"kind\":\"Any\",\"default\":null},{\"name\":\"theme\",\"kind\":\"Any\",\"default\":\"primary\"},{\"name\":\"status\",\"kind\":\"Any\",\"default\":\"normalized\"}]},{\"type\":\"model\",\"name\":\"GridStack1\",\"properties\":[{\"name\":\"mode\",\"kind\":\"Any\",\"default\":\"warn\"},{\"name\":\"ncols\",\"kind\":\"Any\",\"default\":null},{\"name\":\"nrows\",\"kind\":\"Any\",\"default\":null},{\"name\":\"allow_resize\",\"kind\":\"Any\",\"default\":true},{\"name\":\"allow_drag\",\"kind\":\"Any\",\"default\":true},{\"name\":\"state\",\"kind\":\"Any\",\"default\":[]}]},{\"type\":\"model\",\"name\":\"drag1\",\"properties\":[{\"name\":\"slider_width\",\"kind\":\"Any\",\"default\":5},{\"name\":\"slider_color\",\"kind\":\"Any\",\"default\":\"black\"},{\"name\":\"value\",\"kind\":\"Any\",\"default\":50}]},{\"type\":\"model\",\"name\":\"click1\",\"properties\":[{\"name\":\"terminal_output\",\"kind\":\"Any\",\"default\":\"\"},{\"name\":\"debug_name\",\"kind\":\"Any\",\"default\":\"\"},{\"name\":\"clears\",\"kind\":\"Any\",\"default\":0}]},{\"type\":\"model\",\"name\":\"FastWrapper1\",\"properties\":[{\"name\":\"object\",\"kind\":\"Any\",\"default\":null},{\"name\":\"style\",\"kind\":\"Any\",\"default\":null}]},{\"type\":\"model\",\"name\":\"NotificationAreaBase1\",\"properties\":[{\"name\":\"js_events\",\"kind\":\"Any\",\"default\":{\"type\":\"map\"}},{\"name\":\"position\",\"kind\":\"Any\",\"default\":\"bottom-right\"},{\"name\":\"_clear\",\"kind\":\"Any\",\"default\":0}]},{\"type\":\"model\",\"name\":\"NotificationArea1\",\"properties\":[{\"name\":\"js_events\",\"kind\":\"Any\",\"default\":{\"type\":\"map\"}},{\"name\":\"notifications\",\"kind\":\"Any\",\"default\":[]},{\"name\":\"position\",\"kind\":\"Any\",\"default\":\"bottom-right\"},{\"name\":\"_clear\",\"kind\":\"Any\",\"default\":0},{\"name\":\"types\",\"kind\":\"Any\",\"default\":[{\"type\":\"map\",\"entries\":[[\"type\",\"warning\"],[\"background\",\"#ffc107\"],[\"icon\",{\"type\":\"map\",\"entries\":[[\"className\",\"fas fa-exclamation-triangle\"],[\"tagName\",\"i\"],[\"color\",\"white\"]]}]]},{\"type\":\"map\",\"entries\":[[\"type\",\"info\"],[\"background\",\"#007bff\"],[\"icon\",{\"type\":\"map\",\"entries\":[[\"className\",\"fas fa-info-circle\"],[\"tagName\",\"i\"],[\"color\",\"white\"]]}]]}]}]},{\"type\":\"model\",\"name\":\"Notification\",\"properties\":[{\"name\":\"background\",\"kind\":\"Any\",\"default\":null},{\"name\":\"duration\",\"kind\":\"Any\",\"default\":3000},{\"name\":\"icon\",\"kind\":\"Any\",\"default\":null},{\"name\":\"message\",\"kind\":\"Any\",\"default\":\"\"},{\"name\":\"notification_type\",\"kind\":\"Any\",\"default\":null},{\"name\":\"_rendered\",\"kind\":\"Any\",\"default\":false},{\"name\":\"_destroyed\",\"kind\":\"Any\",\"default\":false}]},{\"type\":\"model\",\"name\":\"TemplateActions1\",\"properties\":[{\"name\":\"open_modal\",\"kind\":\"Any\",\"default\":0},{\"name\":\"close_modal\",\"kind\":\"Any\",\"default\":0}]},{\"type\":\"model\",\"name\":\"BootstrapTemplateActions1\",\"properties\":[{\"name\":\"open_modal\",\"kind\":\"Any\",\"default\":0},{\"name\":\"close_modal\",\"kind\":\"Any\",\"default\":0}]},{\"type\":\"model\",\"name\":\"TemplateEditor1\",\"properties\":[{\"name\":\"layout\",\"kind\":\"Any\",\"default\":[]}]},{\"type\":\"model\",\"name\":\"MaterialTemplateActions1\",\"properties\":[{\"name\":\"open_modal\",\"kind\":\"Any\",\"default\":0},{\"name\":\"close_modal\",\"kind\":\"Any\",\"default\":0}]},{\"type\":\"model\",\"name\":\"ReactiveESM1\",\"properties\":[{\"name\":\"esm_constants\",\"kind\":\"Any\",\"default\":{\"type\":\"map\"}}]},{\"type\":\"model\",\"name\":\"JSComponent1\",\"properties\":[{\"name\":\"esm_constants\",\"kind\":\"Any\",\"default\":{\"type\":\"map\"}}]},{\"type\":\"model\",\"name\":\"ReactComponent1\",\"properties\":[{\"name\":\"esm_constants\",\"kind\":\"Any\",\"default\":{\"type\":\"map\"}}]},{\"type\":\"model\",\"name\":\"AnyWidgetComponent1\",\"properties\":[{\"name\":\"esm_constants\",\"kind\":\"Any\",\"default\":{\"type\":\"map\"}}]},{\"type\":\"model\",\"name\":\"request_value1\",\"properties\":[{\"name\":\"fill\",\"kind\":\"Any\",\"default\":\"none\"},{\"name\":\"_synced\",\"kind\":\"Any\",\"default\":null},{\"name\":\"_request_sync\",\"kind\":\"Any\",\"default\":0}]}]}};\n",
       "  var render_items = [{\"docid\":\"f89bbea3-0e85-4d30-a55f-49820e085053\",\"roots\":{\"e9052a14-fa2a-42a9-b5e2-e2d485c9e42b\":\"cf2271b9-e268-4b97-bff6-93413116774f\"},\"root_ids\":[\"e9052a14-fa2a-42a9-b5e2-e2d485c9e42b\"]}];\n",
       "  var docs = Object.values(docs_json)\n",
       "  if (!docs) {\n",
       "    return\n",
       "  }\n",
       "  const py_version = docs[0].version.replace('rc', '-rc.').replace('.dev', '-dev.')\n",
       "  async function embed_document(root) {\n",
       "    var Bokeh = get_bokeh(root)\n",
       "    await Bokeh.embed.embed_items_notebook(docs_json, render_items);\n",
       "    for (const render_item of render_items) {\n",
       "      for (const root_id of render_item.root_ids) {\n",
       "\tconst id_el = document.getElementById(root_id)\n",
       "\tif (id_el.children.length && id_el.children[0].hasAttribute('data-root-id')) {\n",
       "\t  const root_el = id_el.children[0]\n",
       "\t  root_el.id = root_el.id + '-rendered'\n",
       "\t  for (const child of root_el.children) {\n",
       "            // Ensure JupyterLab does not capture keyboard shortcuts\n",
       "            // see: https://jupyterlab.readthedocs.io/en/4.1.x/extension/notebook.html#keyboard-interaction-model\n",
       "\t    child.setAttribute('data-lm-suppress-shortcuts', 'true')\n",
       "\t  }\n",
       "\t}\n",
       "      }\n",
       "    }\n",
       "  }\n",
       "  function get_bokeh(root) {\n",
       "    if (root.Bokeh === undefined) {\n",
       "      return null\n",
       "    } else if (root.Bokeh.version !== py_version) {\n",
       "      if (root.Bokeh.versions === undefined || !root.Bokeh.versions.has(py_version)) {\n",
       "\treturn null\n",
       "      }\n",
       "      return root.Bokeh.versions.get(py_version);\n",
       "    } else if (root.Bokeh.version === py_version) {\n",
       "      return root.Bokeh\n",
       "    }\n",
       "    return null\n",
       "  }\n",
       "  function is_loaded(root) {\n",
       "    var Bokeh = get_bokeh(root)\n",
       "    return (Bokeh != null && Bokeh.Panel !== undefined)\n",
       "  }\n",
       "  if (is_loaded(root)) {\n",
       "    embed_document(root);\n",
       "  } else {\n",
       "    var attempts = 0;\n",
       "    var timer = setInterval(function(root) {\n",
       "      if (is_loaded(root)) {\n",
       "        clearInterval(timer);\n",
       "        embed_document(root);\n",
       "      } else if (document.readyState == \"complete\") {\n",
       "        attempts++;\n",
       "        if (attempts > 200) {\n",
       "          clearInterval(timer);\n",
       "\t  var Bokeh = get_bokeh(root)\n",
       "\t  if (Bokeh == null || Bokeh.Panel == null) {\n",
       "            console.warn(\"Panel: ERROR: Unable to run Panel code because Bokeh or Panel library is missing\");\n",
       "\t  } else {\n",
       "\t    console.warn(\"Panel: WARNING: Attempting to render but not all required libraries could be resolved.\")\n",
       "\t    embed_document(root)\n",
       "\t  }\n",
       "        }\n",
       "      }\n",
       "    }, 25, root)\n",
       "  }\n",
       "})(window);</script>"
      ],
      "text/plain": [
       ":Overlay\n",
       "   .NdOverlay.I  :NdOverlay   [primary_location_id]\n",
       "      :Curve   [value_time]   (secondary_value)\n",
       "   .NdOverlay.II :NdOverlay   [primary_location_id,configuration_name]\n",
       "      :Curve   [value_time]   (primary_value)"
      ]
     },
     "execution_count": 26,
     "metadata": {
      "application/vnd.holoviews_exec.v0+json": {
       "id": "e9052a14-fa2a-42a9-b5e2-e2d485c9e42b"
      }
     },
     "output_type": "execute_result"
    }
   ],
   "source": [
    "plot_timeseries(\n",
    "    configuration_name=\"nwm30_forcing_short_range\",\n",
    "    secondary_by=[\"primary_location_id\"],\n",
    "    title=\"Observed MAP (black) and forecast MAP at the three HUC10s\"\n",
    ")"
   ]
  },
  {
   "cell_type": "code",
   "execution_count": 27,
   "metadata": {},
   "outputs": [
    {
     "name": "stderr",
     "output_type": "stream",
     "text": [
      "                                                                                \r"
     ]
    },
    {
     "data": {
      "text/html": [
       "<div>\n",
       "<style scoped>\n",
       "    .dataframe tbody tr th:only-of-type {\n",
       "        vertical-align: middle;\n",
       "    }\n",
       "\n",
       "    .dataframe tbody tr th {\n",
       "        vertical-align: top;\n",
       "    }\n",
       "\n",
       "    .dataframe thead th {\n",
       "        text-align: right;\n",
       "    }\n",
       "</style>\n",
       "<table border=\"1\" class=\"dataframe\">\n",
       "  <thead>\n",
       "    <tr style=\"text-align: right;\">\n",
       "      <th></th>\n",
       "      <th>primary_location_id</th>\n",
       "      <th>configuration_name</th>\n",
       "      <th>relative_bias</th>\n",
       "      <th>kling_gupta_efficiency</th>\n",
       "    </tr>\n",
       "  </thead>\n",
       "  <tbody>\n",
       "    <tr>\n",
       "      <th>0</th>\n",
       "      <td>usgs-03171000</td>\n",
       "      <td>nwm30_medium_range</td>\n",
       "      <td>-0.605284</td>\n",
       "      <td>-0.700095</td>\n",
       "    </tr>\n",
       "    <tr>\n",
       "      <th>1</th>\n",
       "      <td>wbd-0505000115</td>\n",
       "      <td>nwm30_forcing_short_range</td>\n",
       "      <td>-0.624619</td>\n",
       "      <td>-0.539740</td>\n",
       "    </tr>\n",
       "    <tr>\n",
       "      <th>2</th>\n",
       "      <td>wbd-0505000117</td>\n",
       "      <td>nwm30_forcing_short_range</td>\n",
       "      <td>0.283773</td>\n",
       "      <td>0.228351</td>\n",
       "    </tr>\n",
       "    <tr>\n",
       "      <th>3</th>\n",
       "      <td>wbd-0505000118</td>\n",
       "      <td>nwm30_forcing_short_range</td>\n",
       "      <td>-0.479357</td>\n",
       "      <td>-0.396829</td>\n",
       "    </tr>\n",
       "  </tbody>\n",
       "</table>\n",
       "</div>"
      ],
      "text/plain": [
       "  primary_location_id         configuration_name  relative_bias  \\\n",
       "0       usgs-03171000         nwm30_medium_range      -0.605284   \n",
       "1      wbd-0505000115  nwm30_forcing_short_range      -0.624619   \n",
       "2      wbd-0505000117  nwm30_forcing_short_range       0.283773   \n",
       "3      wbd-0505000118  nwm30_forcing_short_range      -0.479357   \n",
       "\n",
       "   kling_gupta_efficiency  \n",
       "0               -0.700095  \n",
       "1               -0.539740  \n",
       "2                0.228351  \n",
       "3               -0.396829  "
      ]
     },
     "execution_count": 27,
     "metadata": {},
     "output_type": "execute_result"
    }
   ],
   "source": [
    "bias = teehr.DeterministicMetrics.RelativeBias()\n",
    "kge = teehr.DeterministicMetrics.KlingGuptaEfficiency()\n",
    "\n",
    "ev.metrics.query(\n",
    "    include_metrics=[bias, kge],\n",
    "    group_by=[\"primary_location_id\", \"configuration_name\"],\n",
    "    order_by=[\"primary_location_id\", \"configuration_name\"],\n",
    ").to_pandas()"
   ]
  },
  {
   "cell_type": "code",
   "execution_count": 28,
   "metadata": {},
   "outputs": [],
   "source": [
    "ev.spark.stop()"
   ]
  }
 ],
 "metadata": {
  "kernelspec": {
   "display_name": ".venv",
   "language": "python",
   "name": "python3"
  },
  "language_info": {
   "codemirror_mode": {
    "name": "ipython",
    "version": 3
   },
   "file_extension": ".py",
   "mimetype": "text/x-python",
   "name": "python",
   "nbconvert_exporter": "python",
   "pygments_lexer": "ipython3",
   "version": "3.10.12"
  }
 },
 "nbformat": 4,
 "nbformat_minor": 2
}
