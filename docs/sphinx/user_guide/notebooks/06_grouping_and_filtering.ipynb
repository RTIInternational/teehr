{
 "cells": [
  {
   "cell_type": "markdown",
   "metadata": {},
   "source": [
    "## Grouping and Filtering"
   ]
  },
  {
   "cell_type": "markdown",
   "metadata": {},
   "source": [
    "**Note:** The images shown below are slightly out of date. We are in the process of updating them."
   ]
  },
  {
   "cell_type": "markdown",
   "metadata": {},
   "source": [
    "Once the data has been joined into a single table, we can start to group and filter the data based on the table attributes,\n",
    "and calculate metrics for specific subsets of the data.  This is the explorative power of TEEHR, which allows us to\n",
    "better understand model performance. For example, if the joined table contained several model simulations (\"configurations\")\n",
    "we could group the ``configuration_name`` field to calculate performance metrics for each model configuration.\n",
    "\n",
    "We could then include filters to further narrow the population subset such as only considering first order stream locations or\n",
    "locations below a certain mean slope value. This allows us to gain more insight into the model performance through specific\n",
    "quantitative analysis."
   ]
  },
  {
   "cell_type": "markdown",
   "metadata": {},
   "source": [
    "The grouping and filtering capabilities in TEEHR provide the ability to explore models across\n",
    "different subsets of the data, allowing us to better understand where and why the model performs well or poorly."
   ]
  },
  {
   "cell_type": "markdown",
   "metadata": {},
   "source": [
    "We'll look at an example to help illustrate the grouping and filtering concepts."
   ]
  },
  {
   "cell_type": "markdown",
   "metadata": {},
   "source": [
    "<img src=\"https://github.com/RTIInternational/teehr/blob/main/docs/images/tutorials/grouping_filtering/grouping_example_table.png?raw=true\" width=\"600px\" height=\"600px\">"
   ]
  },
  {
   "cell_type": "markdown",
   "metadata": {},
   "source": [
    "Consider this joined timeseries table containing:\n",
    "\n",
    "* 2 USGS locations\n",
    "* 3 Model configurations\n",
    "* 4 Daily timesteps spanning two months\n",
    "* 1 Location attribute (q95_cms)\n",
    "* 1 User-defined attribute (month)"
   ]
  },
  {
   "cell_type": "markdown",
   "metadata": {
    "vscode": {
     "languageId": "plaintext"
    }
   },
   "source": [
    "When calculating metrics in TEEHR, we can use the data in this table to calculate metrics over specific subsets or\n",
    "populations of the data. For example, we could calculate the relative bias for each model configuration for each month."
   ]
  },
  {
   "cell_type": "markdown",
   "metadata": {},
   "source": [
    "Grouping\n",
    "--------\n",
    "\n",
    "Let's use this table of joined timeseries values to demonstrate how grouping selected fields affects the results.\n",
    "\n",
    "First, we'll calculate the relative bias for each model configuration at each location:"
   ]
  },
  {
   "cell_type": "markdown",
   "metadata": {},
   "source": [
    "<img src=\"https://github.com/RTIInternational/teehr/blob/main/docs/images/tutorials/grouping_filtering/grouping_example_1.png?raw=true\" width=850 height=500>"
   ]
  },
  {
   "cell_type": "markdown",
   "metadata": {},
   "source": [
    "We can demonstrate how this calculation is performed in TEEHR using sample data. First, we'll set up a local directory that will contain our Evaluation, then we'll clone a subset of an existing Evaluation from s3 storage."
   ]
  },
  {
   "cell_type": "code",
   "execution_count": 1,
   "metadata": {
    "tags": [
     "hide-output"
    ]
   },
   "outputs": [
    {
     "name": "stderr",
     "output_type": "stream",
     "text": [
      "24/11/17 10:28:01 WARN Utils: Your hostname, ubuntu3 resolves to a loopback address: 127.0.1.1; using 10.0.2.15 instead (on interface enp0s3)\n",
      "24/11/17 10:28:01 WARN Utils: Set SPARK_LOCAL_IP if you need to bind to another address\n",
      "Setting default log level to \"WARN\".\n",
      "To adjust logging level use sc.setLogLevel(newLevel). For SparkR, use setLogLevel(newLevel).\n",
      "24/11/17 10:28:01 WARN NativeCodeLoader: Unable to load native-hadoop library for your platform... using builtin-java classes where applicable\n",
      "24/11/17 10:28:02 WARN Utils: Service 'SparkUI' could not bind on port 4040. Attempting port 4041.\n"
     ]
    }
   ],
   "source": [
    "from pathlib import Path\n",
    "import shutil\n",
    "\n",
    "import teehr\n",
    "\n",
    "# Define the directory where the Evaluation will be created\n",
    "test_eval_dir = Path(Path().home(), \"temp\", \"grouping_tutorial\")\n",
    "shutil.rmtree(test_eval_dir, ignore_errors=True)\n",
    "\n",
    "# Create an Evaluation object and create the directory\n",
    "ev = teehr.Evaluation(dir_path=test_eval_dir, create_dir=True)\n"
   ]
  },
  {
   "cell_type": "code",
   "execution_count": 2,
   "metadata": {},
   "outputs": [
    {
     "data": {
      "text/html": [
       "<div>\n",
       "<style scoped>\n",
       "    .dataframe tbody tr th:only-of-type {\n",
       "        vertical-align: middle;\n",
       "    }\n",
       "\n",
       "    .dataframe tbody tr th {\n",
       "        vertical-align: top;\n",
       "    }\n",
       "\n",
       "    .dataframe thead th {\n",
       "        text-align: right;\n",
       "    }\n",
       "</style>\n",
       "<table border=\"1\" class=\"dataframe\">\n",
       "  <thead>\n",
       "    <tr style=\"text-align: right;\">\n",
       "      <th></th>\n",
       "      <th>name</th>\n",
       "      <th>description</th>\n",
       "      <th>url</th>\n",
       "    </tr>\n",
       "  </thead>\n",
       "  <tbody>\n",
       "    <tr>\n",
       "      <th>0</th>\n",
       "      <td>p0_2_location_example</td>\n",
       "      <td>Example evaluation datsets with 2 USGS gages</td>\n",
       "      <td>s3a://ciroh-rti-public-data/teehr-data-warehou...</td>\n",
       "    </tr>\n",
       "    <tr>\n",
       "      <th>1</th>\n",
       "      <td>p1_camels_daily_streamflow</td>\n",
       "      <td>Daily average streamflow at ther Camels basins</td>\n",
       "      <td>s3a://ciroh-rti-public-data/teehr-data-warehou...</td>\n",
       "    </tr>\n",
       "    <tr>\n",
       "      <th>2</th>\n",
       "      <td>p2_camels_hourly_streamflow</td>\n",
       "      <td>Hourly instantaneous streamflow at ther Camels...</td>\n",
       "      <td>s3a://ciroh-rti-public-data/teehr-data-warehou...</td>\n",
       "    </tr>\n",
       "    <tr>\n",
       "      <th>3</th>\n",
       "      <td>p3_usgs_hourly_streamflow</td>\n",
       "      <td>Hourly instantaneous streamflow at USGS CONUS ...</td>\n",
       "      <td>s3a://ciroh-rti-public-data/teehr-data-warehou...</td>\n",
       "    </tr>\n",
       "  </tbody>\n",
       "</table>\n",
       "</div>"
      ],
      "text/plain": [
       "                          name  \\\n",
       "0        p0_2_location_example   \n",
       "1   p1_camels_daily_streamflow   \n",
       "2  p2_camels_hourly_streamflow   \n",
       "3    p3_usgs_hourly_streamflow   \n",
       "\n",
       "                                         description  \\\n",
       "0       Example evaluation datsets with 2 USGS gages   \n",
       "1     Daily average streamflow at ther Camels basins   \n",
       "2  Hourly instantaneous streamflow at ther Camels...   \n",
       "3  Hourly instantaneous streamflow at USGS CONUS ...   \n",
       "\n",
       "                                                 url  \n",
       "0  s3a://ciroh-rti-public-data/teehr-data-warehou...  \n",
       "1  s3a://ciroh-rti-public-data/teehr-data-warehou...  \n",
       "2  s3a://ciroh-rti-public-data/teehr-data-warehou...  \n",
       "3  s3a://ciroh-rti-public-data/teehr-data-warehou...  "
      ]
     },
     "execution_count": 2,
     "metadata": {},
     "output_type": "execute_result"
    }
   ],
   "source": [
    "# List the evaluations in the S3 bucket\n",
    "ev.list_s3_evaluations()"
   ]
  },
  {
   "cell_type": "code",
   "execution_count": 3,
   "metadata": {
    "tags": [
     "hide-output"
    ]
   },
   "outputs": [
    {
     "name": "stderr",
     "output_type": "stream",
     "text": [
      "24/11/17 10:28:09 WARN MetricsConfig: Cannot locate configuration: tried hadoop-metrics2-s3a-file-system.properties,hadoop-metrics2.properties\n",
      "24/11/17 10:28:33 WARN SparkStringUtils: Truncated the string representation of a plan since it was too large. This behavior can be adjusted by setting 'spark.sql.debug.maxToStringFields'.\n",
      "                                                                                \r"
     ]
    }
   ],
   "source": [
    "ev.clone_from_s3(\n",
    "    evaluation_name=\"p1_camels_daily_streamflow\",\n",
    "    primary_location_ids=[\"usgs-01013500\", \"usgs-01022500\"],\n",
    "    start_date=\"1990-10-30 00:00\",\n",
    "    end_date=\"1990-11-02 23:00\"\n",
    ")"
   ]
  },
  {
   "cell_type": "markdown",
   "metadata": {},
   "source": [
    "Here we calculate relative bias, grouping by ``primary_location_id`` and ``configuration_name``:"
   ]
  },
  {
   "cell_type": "code",
   "execution_count": null,
   "metadata": {
    "tags": [
     "hide-output"
    ]
   },
   "outputs": [],
   "source": [
    "from teehr import Metrics as m\n",
    "\n",
    "metrics_df = ev.metrics.query(\n",
    "    group_by=[\"primary_location_id\", \"configuration_name\"],\n",
    "    include_metrics=[\n",
    "        m.RelativeBias(),\n",
    "    ]\n",
    ").to_pandas()"
   ]
  },
  {
   "cell_type": "code",
   "execution_count": null,
   "metadata": {},
   "outputs": [],
   "source": [
    "metrics_df"
   ]
  },
  {
   "cell_type": "markdown",
   "metadata": {},
   "source": [
    "Note that if you wanted to include a field in the query result, it must be included in the ``group_by`` list\n",
    "even if it's not necessary for the grouping operation.\n",
    "\n",
    "For example, if we wanted to include ``q95`` in the query result, we would need to include it in the\n",
    "``group_by`` list:"
   ]
  },
  {
   "cell_type": "markdown",
   "metadata": {},
   "source": [
    "<img src=\"https://github.com/RTIInternational/teehr/blob/main/docs/images/tutorials/grouping_filtering/grouping_example_2.png?raw=true\" width=\"850px\" height=\"450px\">"
   ]
  },
  {
   "cell_type": "code",
   "execution_count": null,
   "metadata": {
    "tags": [
     "hide-output"
    ]
   },
   "outputs": [],
   "source": [
    "# Adding q95_cms to the group_by list to include it in the results.\n",
    "metrics_df = ev.metrics.query(\n",
    "    group_by=[\"primary_location_id\", \"configuration_name\", \"q95\"],\n",
    "    include_metrics=[\n",
    "        m.RelativeBias(),\n",
    "    ]\n",
    ").to_pandas()"
   ]
  },
  {
   "cell_type": "code",
   "execution_count": null,
   "metadata": {},
   "outputs": [],
   "source": [
    "metrics_df"
   ]
  },
  {
   "cell_type": "markdown",
   "metadata": {},
   "source": [
    "Filtering\n",
    "---------\n",
    "\n",
    "Next, we'll add filtering to further narrow the population for our metric calculations. Let's say we only\n",
    "want to consider ``NWM v3.0`` and ``Marrmot`` model configurations:"
   ]
  },
  {
   "cell_type": "markdown",
   "metadata": {},
   "source": [
    "<img src=\"https://github.com/RTIInternational/teehr/blob/main/docs/images/tutorials/grouping_filtering/grouping_example_3.png?raw=true\" width=\"850px\" height=\"450px\">"
   ]
  },
  {
   "cell_type": "markdown",
   "metadata": {},
   "source": [
    "We need to specify a filter in the ``query`` method to only include the desired model configurations:"
   ]
  },
  {
   "cell_type": "code",
   "execution_count": null,
   "metadata": {
    "tags": [
     "hide-output"
    ]
   },
   "outputs": [],
   "source": [
    "# Adding a filter to further limit the population for metrics calculations.\n",
    "metrics_df = ev.metrics.query(\n",
    "    group_by=[\"primary_location_id\", \"configuration_name\", \"q95\"],\n",
    "    include_metrics=[\n",
    "        m.RelativeBias(),\n",
    "    ],\n",
    "    filters = [\n",
    "        {\n",
    "            \"column\": \"configuration_name\",\n",
    "            \"operator\": \"in\",\n",
    "            \"value\": [\"nwm30_retro\", \"marrmot_37_hbv_obj1\"]\n",
    "        }\n",
    "    ]\n",
    ").to_pandas()"
   ]
  },
  {
   "cell_type": "code",
   "execution_count": null,
   "metadata": {},
   "outputs": [],
   "source": [
    "metrics_df"
   ]
  },
  {
   "cell_type": "markdown",
   "metadata": {},
   "source": [
    "Summary\n",
    "-------\n",
    "\n",
    "Grouping and filtering are powerful tools in TEEHR that allow us to explore the data in more detail and calculate metrics\n",
    "for specific subsets of the data.\n",
    "\n",
    "See the User Guide for more in-depth examples using the code base."
   ]
  },
  {
   "cell_type": "code",
   "execution_count": null,
   "metadata": {},
   "outputs": [],
   "source": [
    "ev.spark.stop()"
   ]
  }
 ],
 "metadata": {
  "kernelspec": {
   "display_name": ".venv",
   "language": "python",
   "name": "python3"
  },
  "language_info": {
   "codemirror_mode": {
    "name": "ipython",
    "version": 3
   },
   "file_extension": ".py",
   "mimetype": "text/x-python",
   "name": "python",
   "nbconvert_exporter": "python",
   "pygments_lexer": "ipython3",
   "version": "3.10.12"
  }
 },
 "nbformat": 4,
 "nbformat_minor": 2
}
