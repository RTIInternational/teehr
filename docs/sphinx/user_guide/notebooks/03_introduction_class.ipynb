{
 "cells": [
  {
   "cell_type": "markdown",
   "metadata": {},
   "source": [
    "# Introduction to the Evaluation Class"
   ]
  },
  {
   "cell_type": "markdown",
   "metadata": {},
   "source": [
    "## Overview\n",
    "In the previous lesson we loaded some test data from the user's local drive (although we first downloaded it from the repository). In this example we will continue to explore the Evaluation schema through the Evaluation class interface. \n",
    "\n",
    "Note: this lesson builds off of the dataset that we created in the last lesson `Loading Local Data`.  If you have not run through the Loading Local Data lesson, then go back and first work though that notebook to generate the required dataset for this lesson."
   ]
  },
  {
   "cell_type": "markdown",
   "metadata": {},
   "source": [
    "### Create a new Evaluation\n",
    "First we will import the the TEEHR Evaluation class and create a new instance that points to a directory where the data loaded in lesson `02_loading_data` is stored."
   ]
  },
  {
   "cell_type": "code",
   "execution_count": 1,
   "metadata": {},
   "outputs": [
    {
     "name": "stderr",
     "output_type": "stream",
     "text": [
      "Setting default log level to \"WARN\".\n",
      "To adjust logging level use sc.setLogLevel(newLevel). For SparkR, use setLogLevel(newLevel).\n",
      "24/11/13 09:10:27 WARN NativeCodeLoader: Unable to load native-hadoop library for your platform... using builtin-java classes where applicable\n"
     ]
    }
   ],
   "source": [
    "import teehr\n",
    "from pathlib import Path\n",
    "\n",
    "# Define the directory where the Evaluation will be created\n",
    "test_eval_dir = Path(Path().home(), \"temp\", \"02_loading_data\")\n",
    "\n",
    "# Create an Evaluation object and create the directory\n",
    "ev = teehr.Evaluation(dir_path=test_eval_dir, create_dir=True)"
   ]
  },
  {
   "cell_type": "markdown",
   "metadata": {},
   "source": [
    "Now that we have created a new evaluation that points to the dataset we created in `02_loading _data`, lets take a look at the data, specifically the `dataset` directory.  You can see that the three different data groups are stored in slightly different ways.  \n",
    "- The domain tables (units, variables, configurations, attributes) are stored as *.csv files.  While in this case the files happen to have the same name as the table, there is no requirement that they do.\n",
    "- The location tables (locations, location_attributes, location_crosswalks) are stored as parquet files without hive partitioning.  The file names are managed by Spark.\n",
    "- The timeseries tables (primary_timeseries, secondary_timeseries, joined_timeseries) are stored as parquet files with hive partitioning. The file names are managed by Spark.\n",
    "\n",
    "Note, if you don't have tree installed and don't want to install it, you can uncomment the comment lines to use a Python function roughly does the same thing."
   ]
  },
  {
   "cell_type": "code",
   "execution_count": 2,
   "metadata": {},
   "outputs": [
    {
     "name": "stdout",
     "output_type": "stream",
     "text": [
      "\u001b[01;34m/Users/mdenno/temp/02_loading_data/dataset\u001b[0m\n",
      "├── \u001b[01;34mattributes\u001b[0m\n",
      "│   └── \u001b[00mattributes.csv\u001b[0m\n",
      "├── \u001b[01;34mconfigurations\u001b[0m\n",
      "│   └── \u001b[00mconfigurations.csv\u001b[0m\n",
      "├── \u001b[01;34mjoined_timeseries\u001b[0m\n",
      "│   └── \u001b[01;34mconfiguration_name=test_short\u001b[0m\n",
      "│       └── \u001b[01;34mvariable_name=streamflow_hourly_inst\u001b[0m\n",
      "│           └── \u001b[00mpart-00000-01a83c80-8cd6-43a5-981e-221c9484ca26.c000.snappy.parquet\u001b[0m\n",
      "├── \u001b[01;34mlocation_attributes\u001b[0m\n",
      "│   ├── \u001b[00mpart-00000-845dbf33-1fa2-4756-9c24-a3f8e6557a63-c000.snappy.parquet\u001b[0m\n",
      "│   ├── \u001b[00mpart-00001-845dbf33-1fa2-4756-9c24-a3f8e6557a63-c000.snappy.parquet\u001b[0m\n",
      "│   └── \u001b[00mpart-00002-845dbf33-1fa2-4756-9c24-a3f8e6557a63-c000.snappy.parquet\u001b[0m\n",
      "├── \u001b[01;34mlocation_crosswalks\u001b[0m\n",
      "│   └── \u001b[00mpart-00000-580d1b7d-73b2-4195-8d11-80d909f180f7-c000.snappy.parquet\u001b[0m\n",
      "├── \u001b[01;34mlocations\u001b[0m\n",
      "│   └── \u001b[00mgages.parquet\u001b[0m\n",
      "├── \u001b[01;34mprimary_timeseries\u001b[0m\n",
      "│   └── \u001b[01;34mconfiguration_name=usgs_observations\u001b[0m\n",
      "│       └── \u001b[01;34mvariable_name=streamflow_hourly_inst\u001b[0m\n",
      "│           └── \u001b[00mpart-00000-29c1ca49-be54-427e-915e-ec74effbcf88.c000.snappy.parquet\u001b[0m\n",
      "├── \u001b[01;34msecondary_timeseries\u001b[0m\n",
      "│   └── \u001b[01;34mconfiguration_name=test_short\u001b[0m\n",
      "│       └── \u001b[01;34mvariable_name=streamflow_hourly_inst\u001b[0m\n",
      "│           └── \u001b[00mpart-00000-78485188-0295-4316-b30c-12a6e8627afc.c000.snappy.parquet\u001b[0m\n",
      "├── \u001b[01;34munits\u001b[0m\n",
      "│   └── \u001b[00munits.csv\u001b[0m\n",
      "└── \u001b[01;34mvariables\u001b[0m\n",
      "    └── \u001b[00mvariables.csv\u001b[0m\n",
      "\n",
      "17 directories, 12 files\n"
     ]
    }
   ],
   "source": [
    "# from teehr.evaluation.utils import print_tree\n",
    "# print_tree(ev.dataset_dir, exclude_patterns=[\".*\", \"_*\"])\n",
    "\n",
    "!tree $HOME/temp/02_loading_data/dataset -I \".*|_*\""
   ]
  },
  {
   "cell_type": "markdown",
   "metadata": {},
   "source": [
    "### Table Classes\n",
    "The TEEHR Evaluation class contains different sub-classes that are used to organize class methods into logical groups.  One of these types of sub-classes is the \"table\" sub-classes which contain methods for interacting with the data tables. Each of the tables in the Evaluation dataset has a respective sub-class with the table name.\n",
    "```\n",
    "ev.units\n",
    "ev.attributes\n",
    "ev.variables\n",
    "ev.configurations\n",
    "ev.locations\n",
    "ev.location_attributes\n",
    "ev.location_crosswalks\n",
    "ev.primary_timeseries\n",
    "ev.secondary_timeseries\n",
    "ev.joined_timeseries\n",
    "```\n",
    "Each of the table sub-classes then has methods to add and/or load new data as well as methods to query the table to get data out.  These are documented in the API documentation. For now, because all the tables are relatively small, we will just use the `to_pandas()` method and then the `head()` method on the Pandas DataFrame to see an example of the data that is returned.  In an actual evaluation setting, with lots of data in the TEEHR dataset, you would likely want to include a `filter()` method to reduce the amount of data you are querying and putting into memory."
   ]
  },
  {
   "cell_type": "code",
   "execution_count": 3,
   "metadata": {},
   "outputs": [
    {
     "data": {
      "text/html": [
       "<div>\n",
       "<style scoped>\n",
       "    .dataframe tbody tr th:only-of-type {\n",
       "        vertical-align: middle;\n",
       "    }\n",
       "\n",
       "    .dataframe tbody tr th {\n",
       "        vertical-align: top;\n",
       "    }\n",
       "\n",
       "    .dataframe thead th {\n",
       "        text-align: right;\n",
       "    }\n",
       "</style>\n",
       "<table border=\"1\" class=\"dataframe\">\n",
       "  <thead>\n",
       "    <tr style=\"text-align: right;\">\n",
       "      <th></th>\n",
       "      <th>name</th>\n",
       "      <th>long_name</th>\n",
       "    </tr>\n",
       "  </thead>\n",
       "  <tbody>\n",
       "    <tr>\n",
       "      <th>0</th>\n",
       "      <td>m^3/s</td>\n",
       "      <td>Cubic Meters Per Second</td>\n",
       "    </tr>\n",
       "    <tr>\n",
       "      <th>1</th>\n",
       "      <td>ft^3/s</td>\n",
       "      <td>Cubic Feet Per Second</td>\n",
       "    </tr>\n",
       "    <tr>\n",
       "      <th>2</th>\n",
       "      <td>km^2</td>\n",
       "      <td>Square Kilometers</td>\n",
       "    </tr>\n",
       "    <tr>\n",
       "      <th>3</th>\n",
       "      <td>mm/s</td>\n",
       "      <td>Millimeters Per Second</td>\n",
       "    </tr>\n",
       "  </tbody>\n",
       "</table>\n",
       "</div>"
      ],
      "text/plain": [
       "     name                long_name\n",
       "0   m^3/s  Cubic Meters Per Second\n",
       "1  ft^3/s    Cubic Feet Per Second\n",
       "2    km^2        Square Kilometers\n",
       "3    mm/s   Millimeters Per Second"
      ]
     },
     "execution_count": 3,
     "metadata": {},
     "output_type": "execute_result"
    }
   ],
   "source": [
    "ev.units.to_pandas().head()"
   ]
  },
  {
   "cell_type": "code",
   "execution_count": 4,
   "metadata": {},
   "outputs": [
    {
     "data": {
      "text/html": [
       "<div>\n",
       "<style scoped>\n",
       "    .dataframe tbody tr th:only-of-type {\n",
       "        vertical-align: middle;\n",
       "    }\n",
       "\n",
       "    .dataframe tbody tr th {\n",
       "        vertical-align: top;\n",
       "    }\n",
       "\n",
       "    .dataframe thead th {\n",
       "        text-align: right;\n",
       "    }\n",
       "</style>\n",
       "<table border=\"1\" class=\"dataframe\">\n",
       "  <thead>\n",
       "    <tr style=\"text-align: right;\">\n",
       "      <th></th>\n",
       "      <th>name</th>\n",
       "      <th>type</th>\n",
       "      <th>description</th>\n",
       "    </tr>\n",
       "  </thead>\n",
       "  <tbody>\n",
       "    <tr>\n",
       "      <th>0</th>\n",
       "      <td>2_year_flow</td>\n",
       "      <td>continuous</td>\n",
       "      <td>Two year flow rate in m^3/s</td>\n",
       "    </tr>\n",
       "    <tr>\n",
       "      <th>1</th>\n",
       "      <td>drainage_area</td>\n",
       "      <td>continuous</td>\n",
       "      <td>Drainage area in square kilometers</td>\n",
       "    </tr>\n",
       "    <tr>\n",
       "      <th>2</th>\n",
       "      <td>ecoregion</td>\n",
       "      <td>categorical</td>\n",
       "      <td>Ecoregion</td>\n",
       "    </tr>\n",
       "    <tr>\n",
       "      <th>3</th>\n",
       "      <td>year_2_discharge</td>\n",
       "      <td>continuous</td>\n",
       "      <td>2-yr discharge in cubic meters per second</td>\n",
       "    </tr>\n",
       "  </tbody>\n",
       "</table>\n",
       "</div>"
      ],
      "text/plain": [
       "               name         type                                description\n",
       "0       2_year_flow   continuous                Two year flow rate in m^3/s\n",
       "1     drainage_area   continuous         Drainage area in square kilometers\n",
       "2         ecoregion  categorical                                  Ecoregion\n",
       "3  year_2_discharge   continuous  2-yr discharge in cubic meters per second"
      ]
     },
     "execution_count": 4,
     "metadata": {},
     "output_type": "execute_result"
    }
   ],
   "source": [
    "ev.attributes.to_pandas().head()"
   ]
  },
  {
   "cell_type": "code",
   "execution_count": 5,
   "metadata": {},
   "outputs": [
    {
     "data": {
      "text/html": [
       "<div>\n",
       "<style scoped>\n",
       "    .dataframe tbody tr th:only-of-type {\n",
       "        vertical-align: middle;\n",
       "    }\n",
       "\n",
       "    .dataframe tbody tr th {\n",
       "        vertical-align: top;\n",
       "    }\n",
       "\n",
       "    .dataframe thead th {\n",
       "        text-align: right;\n",
       "    }\n",
       "</style>\n",
       "<table border=\"1\" class=\"dataframe\">\n",
       "  <thead>\n",
       "    <tr style=\"text-align: right;\">\n",
       "      <th></th>\n",
       "      <th>name</th>\n",
       "      <th>long_name</th>\n",
       "    </tr>\n",
       "  </thead>\n",
       "  <tbody>\n",
       "    <tr>\n",
       "      <th>0</th>\n",
       "      <td>streamflow_hourly_inst</td>\n",
       "      <td>Hourly Instantaneous Streamflow</td>\n",
       "    </tr>\n",
       "    <tr>\n",
       "      <th>1</th>\n",
       "      <td>streamflow_daily_mean</td>\n",
       "      <td>Daily Mean Streamflow</td>\n",
       "    </tr>\n",
       "    <tr>\n",
       "      <th>2</th>\n",
       "      <td>rainfall_hourly_rate</td>\n",
       "      <td>Hourly Rainfall Rate</td>\n",
       "    </tr>\n",
       "  </tbody>\n",
       "</table>\n",
       "</div>"
      ],
      "text/plain": [
       "                     name                        long_name\n",
       "0  streamflow_hourly_inst  Hourly Instantaneous Streamflow\n",
       "1   streamflow_daily_mean            Daily Mean Streamflow\n",
       "2    rainfall_hourly_rate             Hourly Rainfall Rate"
      ]
     },
     "execution_count": 5,
     "metadata": {},
     "output_type": "execute_result"
    }
   ],
   "source": [
    "ev.variables.to_pandas().head()"
   ]
  },
  {
   "cell_type": "code",
   "execution_count": 6,
   "metadata": {},
   "outputs": [
    {
     "data": {
      "text/html": [
       "<div>\n",
       "<style scoped>\n",
       "    .dataframe tbody tr th:only-of-type {\n",
       "        vertical-align: middle;\n",
       "    }\n",
       "\n",
       "    .dataframe tbody tr th {\n",
       "        vertical-align: top;\n",
       "    }\n",
       "\n",
       "    .dataframe thead th {\n",
       "        text-align: right;\n",
       "    }\n",
       "</style>\n",
       "<table border=\"1\" class=\"dataframe\">\n",
       "  <thead>\n",
       "    <tr style=\"text-align: right;\">\n",
       "      <th></th>\n",
       "      <th>name</th>\n",
       "      <th>type</th>\n",
       "      <th>description</th>\n",
       "    </tr>\n",
       "  </thead>\n",
       "  <tbody>\n",
       "    <tr>\n",
       "      <th>0</th>\n",
       "      <td>nwm30_retrospective</td>\n",
       "      <td>secondary</td>\n",
       "      <td>NWM 3.0 Retrospective</td>\n",
       "    </tr>\n",
       "    <tr>\n",
       "      <th>1</th>\n",
       "      <td>nwm22_retrospective</td>\n",
       "      <td>secondary</td>\n",
       "      <td>NWM 2.2 Retrospective</td>\n",
       "    </tr>\n",
       "    <tr>\n",
       "      <th>2</th>\n",
       "      <td>nwm21_retrospective</td>\n",
       "      <td>secondary</td>\n",
       "      <td>NWM 2.1 Retrospective</td>\n",
       "    </tr>\n",
       "    <tr>\n",
       "      <th>3</th>\n",
       "      <td>nwm20_retrospective</td>\n",
       "      <td>secondary</td>\n",
       "      <td>NWM 2.0 Retrospective</td>\n",
       "    </tr>\n",
       "    <tr>\n",
       "      <th>4</th>\n",
       "      <td>usgs_observations</td>\n",
       "      <td>primary</td>\n",
       "      <td>USGS Observations</td>\n",
       "    </tr>\n",
       "  </tbody>\n",
       "</table>\n",
       "</div>"
      ],
      "text/plain": [
       "                  name       type            description\n",
       "0  nwm30_retrospective  secondary  NWM 3.0 Retrospective\n",
       "1  nwm22_retrospective  secondary  NWM 2.2 Retrospective\n",
       "2  nwm21_retrospective  secondary  NWM 2.1 Retrospective\n",
       "3  nwm20_retrospective  secondary  NWM 2.0 Retrospective\n",
       "4    usgs_observations    primary      USGS Observations"
      ]
     },
     "execution_count": 6,
     "metadata": {},
     "output_type": "execute_result"
    }
   ],
   "source": [
    "ev.configurations.to_pandas().head()"
   ]
  },
  {
   "cell_type": "code",
   "execution_count": 7,
   "metadata": {},
   "outputs": [
    {
     "data": {
      "text/html": [
       "<div>\n",
       "<style scoped>\n",
       "    .dataframe tbody tr th:only-of-type {\n",
       "        vertical-align: middle;\n",
       "    }\n",
       "\n",
       "    .dataframe tbody tr th {\n",
       "        vertical-align: top;\n",
       "    }\n",
       "\n",
       "    .dataframe thead th {\n",
       "        text-align: right;\n",
       "    }\n",
       "</style>\n",
       "<table border=\"1\" class=\"dataframe\">\n",
       "  <thead>\n",
       "    <tr style=\"text-align: right;\">\n",
       "      <th></th>\n",
       "      <th>id</th>\n",
       "      <th>name</th>\n",
       "      <th>geometry</th>\n",
       "    </tr>\n",
       "  </thead>\n",
       "  <tbody>\n",
       "    <tr>\n",
       "      <th>0</th>\n",
       "      <td>gage-A</td>\n",
       "      <td>Site A</td>\n",
       "      <td>b'\\x01\\x01\\x00\\x00\\x00\\xc8f\\xa9\\x1d\\x07.T\\xc0\\...</td>\n",
       "    </tr>\n",
       "    <tr>\n",
       "      <th>1</th>\n",
       "      <td>gage-B</td>\n",
       "      <td>Site B</td>\n",
       "      <td>b'\\x01\\x01\\x00\\x00\\x00\\x00\\x06?-\\xa3-T\\xc0\\xbb...</td>\n",
       "    </tr>\n",
       "    <tr>\n",
       "      <th>2</th>\n",
       "      <td>gage-C</td>\n",
       "      <td>Bite C</td>\n",
       "      <td>b\"\\x01\\x01\\x00\\x00\\x00\\xb0Y\\xebG'/T\\xc0K\\xa5\\n...</td>\n",
       "    </tr>\n",
       "  </tbody>\n",
       "</table>\n",
       "</div>"
      ],
      "text/plain": [
       "       id    name                                           geometry\n",
       "0  gage-A  Site A  b'\\x01\\x01\\x00\\x00\\x00\\xc8f\\xa9\\x1d\\x07.T\\xc0\\...\n",
       "1  gage-B  Site B  b'\\x01\\x01\\x00\\x00\\x00\\x00\\x06?-\\xa3-T\\xc0\\xbb...\n",
       "2  gage-C  Bite C  b\"\\x01\\x01\\x00\\x00\\x00\\xb0Y\\xebG'/T\\xc0K\\xa5\\n..."
      ]
     },
     "execution_count": 7,
     "metadata": {},
     "output_type": "execute_result"
    }
   ],
   "source": [
    "ev.locations.to_pandas().head()"
   ]
  },
  {
   "cell_type": "code",
   "execution_count": 8,
   "metadata": {},
   "outputs": [
    {
     "data": {
      "text/html": [
       "<div>\n",
       "<style scoped>\n",
       "    .dataframe tbody tr th:only-of-type {\n",
       "        vertical-align: middle;\n",
       "    }\n",
       "\n",
       "    .dataframe tbody tr th {\n",
       "        vertical-align: top;\n",
       "    }\n",
       "\n",
       "    .dataframe thead th {\n",
       "        text-align: right;\n",
       "    }\n",
       "</style>\n",
       "<table border=\"1\" class=\"dataframe\">\n",
       "  <thead>\n",
       "    <tr style=\"text-align: right;\">\n",
       "      <th></th>\n",
       "      <th>location_id</th>\n",
       "      <th>attribute_name</th>\n",
       "      <th>value</th>\n",
       "    </tr>\n",
       "  </thead>\n",
       "  <tbody>\n",
       "    <tr>\n",
       "      <th>0</th>\n",
       "      <td>gage-A</td>\n",
       "      <td>year_2_discharge</td>\n",
       "      <td>500</td>\n",
       "    </tr>\n",
       "    <tr>\n",
       "      <th>1</th>\n",
       "      <td>gage-B</td>\n",
       "      <td>year_2_discharge</td>\n",
       "      <td>200</td>\n",
       "    </tr>\n",
       "    <tr>\n",
       "      <th>2</th>\n",
       "      <td>gage-C</td>\n",
       "      <td>year_2_discharge</td>\n",
       "      <td>300</td>\n",
       "    </tr>\n",
       "    <tr>\n",
       "      <th>3</th>\n",
       "      <td>gage-A</td>\n",
       "      <td>ecoregion</td>\n",
       "      <td>coastal_plain</td>\n",
       "    </tr>\n",
       "    <tr>\n",
       "      <th>4</th>\n",
       "      <td>gage-B</td>\n",
       "      <td>ecoregion</td>\n",
       "      <td>piedmont</td>\n",
       "    </tr>\n",
       "  </tbody>\n",
       "</table>\n",
       "</div>"
      ],
      "text/plain": [
       "  location_id    attribute_name          value\n",
       "0      gage-A  year_2_discharge            500\n",
       "1      gage-B  year_2_discharge            200\n",
       "2      gage-C  year_2_discharge            300\n",
       "3      gage-A         ecoregion  coastal_plain\n",
       "4      gage-B         ecoregion       piedmont"
      ]
     },
     "execution_count": 8,
     "metadata": {},
     "output_type": "execute_result"
    }
   ],
   "source": [
    "ev.location_attributes.to_pandas().head()"
   ]
  },
  {
   "cell_type": "code",
   "execution_count": 9,
   "metadata": {},
   "outputs": [
    {
     "data": {
      "text/html": [
       "<div>\n",
       "<style scoped>\n",
       "    .dataframe tbody tr th:only-of-type {\n",
       "        vertical-align: middle;\n",
       "    }\n",
       "\n",
       "    .dataframe tbody tr th {\n",
       "        vertical-align: top;\n",
       "    }\n",
       "\n",
       "    .dataframe thead th {\n",
       "        text-align: right;\n",
       "    }\n",
       "</style>\n",
       "<table border=\"1\" class=\"dataframe\">\n",
       "  <thead>\n",
       "    <tr style=\"text-align: right;\">\n",
       "      <th></th>\n",
       "      <th>reference_time</th>\n",
       "      <th>value_time</th>\n",
       "      <th>value</th>\n",
       "      <th>unit_name</th>\n",
       "      <th>location_id</th>\n",
       "      <th>configuration_name</th>\n",
       "      <th>variable_name</th>\n",
       "    </tr>\n",
       "  </thead>\n",
       "  <tbody>\n",
       "    <tr>\n",
       "      <th>0</th>\n",
       "      <td>NaT</td>\n",
       "      <td>2022-01-01 00:00:00</td>\n",
       "      <td>0.1</td>\n",
       "      <td>m^3/s</td>\n",
       "      <td>gage-A</td>\n",
       "      <td>usgs_observations</td>\n",
       "      <td>streamflow_hourly_inst</td>\n",
       "    </tr>\n",
       "    <tr>\n",
       "      <th>1</th>\n",
       "      <td>NaT</td>\n",
       "      <td>2022-01-01 01:00:00</td>\n",
       "      <td>1.1</td>\n",
       "      <td>m^3/s</td>\n",
       "      <td>gage-A</td>\n",
       "      <td>usgs_observations</td>\n",
       "      <td>streamflow_hourly_inst</td>\n",
       "    </tr>\n",
       "    <tr>\n",
       "      <th>2</th>\n",
       "      <td>NaT</td>\n",
       "      <td>2022-01-01 02:00:00</td>\n",
       "      <td>0.1</td>\n",
       "      <td>m^3/s</td>\n",
       "      <td>gage-A</td>\n",
       "      <td>usgs_observations</td>\n",
       "      <td>streamflow_hourly_inst</td>\n",
       "    </tr>\n",
       "    <tr>\n",
       "      <th>3</th>\n",
       "      <td>NaT</td>\n",
       "      <td>2022-01-01 03:00:00</td>\n",
       "      <td>0.2</td>\n",
       "      <td>m^3/s</td>\n",
       "      <td>gage-A</td>\n",
       "      <td>usgs_observations</td>\n",
       "      <td>streamflow_hourly_inst</td>\n",
       "    </tr>\n",
       "    <tr>\n",
       "      <th>4</th>\n",
       "      <td>NaT</td>\n",
       "      <td>2022-01-01 04:00:00</td>\n",
       "      <td>0.3</td>\n",
       "      <td>m^3/s</td>\n",
       "      <td>gage-A</td>\n",
       "      <td>usgs_observations</td>\n",
       "      <td>streamflow_hourly_inst</td>\n",
       "    </tr>\n",
       "  </tbody>\n",
       "</table>\n",
       "</div>"
      ],
      "text/plain": [
       "  reference_time          value_time  value unit_name location_id  \\\n",
       "0            NaT 2022-01-01 00:00:00    0.1     m^3/s      gage-A   \n",
       "1            NaT 2022-01-01 01:00:00    1.1     m^3/s      gage-A   \n",
       "2            NaT 2022-01-01 02:00:00    0.1     m^3/s      gage-A   \n",
       "3            NaT 2022-01-01 03:00:00    0.2     m^3/s      gage-A   \n",
       "4            NaT 2022-01-01 04:00:00    0.3     m^3/s      gage-A   \n",
       "\n",
       "  configuration_name           variable_name  \n",
       "0  usgs_observations  streamflow_hourly_inst  \n",
       "1  usgs_observations  streamflow_hourly_inst  \n",
       "2  usgs_observations  streamflow_hourly_inst  \n",
       "3  usgs_observations  streamflow_hourly_inst  \n",
       "4  usgs_observations  streamflow_hourly_inst  "
      ]
     },
     "execution_count": 9,
     "metadata": {},
     "output_type": "execute_result"
    }
   ],
   "source": [
    "ev.primary_timeseries.to_pandas().head()"
   ]
  },
  {
   "cell_type": "code",
   "execution_count": 10,
   "metadata": {},
   "outputs": [
    {
     "data": {
      "text/html": [
       "<div>\n",
       "<style scoped>\n",
       "    .dataframe tbody tr th:only-of-type {\n",
       "        vertical-align: middle;\n",
       "    }\n",
       "\n",
       "    .dataframe tbody tr th {\n",
       "        vertical-align: top;\n",
       "    }\n",
       "\n",
       "    .dataframe thead th {\n",
       "        text-align: right;\n",
       "    }\n",
       "</style>\n",
       "<table border=\"1\" class=\"dataframe\">\n",
       "  <thead>\n",
       "    <tr style=\"text-align: right;\">\n",
       "      <th></th>\n",
       "      <th>primary_location_id</th>\n",
       "      <th>secondary_location_id</th>\n",
       "    </tr>\n",
       "  </thead>\n",
       "  <tbody>\n",
       "    <tr>\n",
       "      <th>0</th>\n",
       "      <td>gage-A</td>\n",
       "      <td>fcst-1</td>\n",
       "    </tr>\n",
       "    <tr>\n",
       "      <th>1</th>\n",
       "      <td>gage-B</td>\n",
       "      <td>fcst-2</td>\n",
       "    </tr>\n",
       "    <tr>\n",
       "      <th>2</th>\n",
       "      <td>gage-C</td>\n",
       "      <td>fcst-3</td>\n",
       "    </tr>\n",
       "  </tbody>\n",
       "</table>\n",
       "</div>"
      ],
      "text/plain": [
       "  primary_location_id secondary_location_id\n",
       "0              gage-A                fcst-1\n",
       "1              gage-B                fcst-2\n",
       "2              gage-C                fcst-3"
      ]
     },
     "execution_count": 10,
     "metadata": {},
     "output_type": "execute_result"
    }
   ],
   "source": [
    "ev.location_crosswalks.to_pandas().head()"
   ]
  },
  {
   "cell_type": "code",
   "execution_count": 11,
   "metadata": {},
   "outputs": [
    {
     "data": {
      "text/html": [
       "<div>\n",
       "<style scoped>\n",
       "    .dataframe tbody tr th:only-of-type {\n",
       "        vertical-align: middle;\n",
       "    }\n",
       "\n",
       "    .dataframe tbody tr th {\n",
       "        vertical-align: top;\n",
       "    }\n",
       "\n",
       "    .dataframe thead th {\n",
       "        text-align: right;\n",
       "    }\n",
       "</style>\n",
       "<table border=\"1\" class=\"dataframe\">\n",
       "  <thead>\n",
       "    <tr style=\"text-align: right;\">\n",
       "      <th></th>\n",
       "      <th>reference_time</th>\n",
       "      <th>value_time</th>\n",
       "      <th>value</th>\n",
       "      <th>unit_name</th>\n",
       "      <th>location_id</th>\n",
       "      <th>configuration_name</th>\n",
       "      <th>variable_name</th>\n",
       "    </tr>\n",
       "  </thead>\n",
       "  <tbody>\n",
       "    <tr>\n",
       "      <th>0</th>\n",
       "      <td>2022-01-01</td>\n",
       "      <td>2022-01-01 00:00:00</td>\n",
       "      <td>0.0</td>\n",
       "      <td>m^3/s</td>\n",
       "      <td>fcst-1</td>\n",
       "      <td>test_short</td>\n",
       "      <td>streamflow_hourly_inst</td>\n",
       "    </tr>\n",
       "    <tr>\n",
       "      <th>1</th>\n",
       "      <td>2022-01-01</td>\n",
       "      <td>2022-01-01 01:00:00</td>\n",
       "      <td>0.1</td>\n",
       "      <td>m^3/s</td>\n",
       "      <td>fcst-1</td>\n",
       "      <td>test_short</td>\n",
       "      <td>streamflow_hourly_inst</td>\n",
       "    </tr>\n",
       "    <tr>\n",
       "      <th>2</th>\n",
       "      <td>2022-01-01</td>\n",
       "      <td>2022-01-01 02:00:00</td>\n",
       "      <td>0.2</td>\n",
       "      <td>m^3/s</td>\n",
       "      <td>fcst-1</td>\n",
       "      <td>test_short</td>\n",
       "      <td>streamflow_hourly_inst</td>\n",
       "    </tr>\n",
       "    <tr>\n",
       "      <th>3</th>\n",
       "      <td>2022-01-01</td>\n",
       "      <td>2022-01-01 03:00:00</td>\n",
       "      <td>0.3</td>\n",
       "      <td>m^3/s</td>\n",
       "      <td>fcst-1</td>\n",
       "      <td>test_short</td>\n",
       "      <td>streamflow_hourly_inst</td>\n",
       "    </tr>\n",
       "    <tr>\n",
       "      <th>4</th>\n",
       "      <td>2022-01-01</td>\n",
       "      <td>2022-01-01 04:00:00</td>\n",
       "      <td>0.4</td>\n",
       "      <td>m^3/s</td>\n",
       "      <td>fcst-1</td>\n",
       "      <td>test_short</td>\n",
       "      <td>streamflow_hourly_inst</td>\n",
       "    </tr>\n",
       "  </tbody>\n",
       "</table>\n",
       "</div>"
      ],
      "text/plain": [
       "  reference_time          value_time  value unit_name location_id  \\\n",
       "0     2022-01-01 2022-01-01 00:00:00    0.0     m^3/s      fcst-1   \n",
       "1     2022-01-01 2022-01-01 01:00:00    0.1     m^3/s      fcst-1   \n",
       "2     2022-01-01 2022-01-01 02:00:00    0.2     m^3/s      fcst-1   \n",
       "3     2022-01-01 2022-01-01 03:00:00    0.3     m^3/s      fcst-1   \n",
       "4     2022-01-01 2022-01-01 04:00:00    0.4     m^3/s      fcst-1   \n",
       "\n",
       "  configuration_name           variable_name  \n",
       "0         test_short  streamflow_hourly_inst  \n",
       "1         test_short  streamflow_hourly_inst  \n",
       "2         test_short  streamflow_hourly_inst  \n",
       "3         test_short  streamflow_hourly_inst  \n",
       "4         test_short  streamflow_hourly_inst  "
      ]
     },
     "execution_count": 11,
     "metadata": {},
     "output_type": "execute_result"
    }
   ],
   "source": [
    "ev.secondary_timeseries.to_pandas().head()"
   ]
  },
  {
   "cell_type": "markdown",
   "metadata": {},
   "source": [
    "### Querying\n",
    "Above, we just used the `to_pandas()` method on each table in the dataset to see an example of the data that is in each table. The underlying query engine for TEEHR is PySpark.  As a result, each of the table sub-classes can return data as either a Spark DataFrame (using the `to_sdf()` method) or as a Pandas DataFrame (using the `to_pandas()` method).  The location data tables have an additional method that returns a GeoPandas DataFrame (using the `to_geopandas()` method) where the geometry bytes column has been converted to a proper WKT geometry column.\n",
    "\n",
    "Note: PySpark itself is \"lazy loaded\" meaning that it does not actually run the query until the data is needed for display, plotting, etc.  Therefore, if you just use the `to_sdf()` method, you do not get the data but rather a lazy Spark DataFrame that can be used with subsequent Spark operations that will all be evaluated when the results are requested.  Here we show how to get the Spark DataFrame and show the data but there are many other ways that the lazy Spark DataFrame can be used in subsequent operations that are beyond the scope of this document."
   ]
  },
  {
   "cell_type": "code",
   "execution_count": 12,
   "metadata": {},
   "outputs": [
    {
     "data": {
      "text/plain": [
       "DataFrame[id: string, name: string, geometry: binary]"
      ]
     },
     "execution_count": 12,
     "metadata": {},
     "output_type": "execute_result"
    }
   ],
   "source": [
    "# Query the locations and return as a lazy Spark DataFrame.\n",
    "ev.locations.to_sdf()"
   ]
  },
  {
   "cell_type": "code",
   "execution_count": 13,
   "metadata": {},
   "outputs": [
    {
     "name": "stdout",
     "output_type": "stream",
     "text": [
      "+------+------+--------------------+\n",
      "|    id|  name|            geometry|\n",
      "+------+------+--------------------+\n",
      "|gage-A|Site A|[01 01 00 00 00 C...|\n",
      "|gage-B|Site B|[01 01 00 00 00 0...|\n",
      "|gage-C|Bite C|[01 01 00 00 00 B...|\n",
      "+------+------+--------------------+\n",
      "\n"
     ]
    }
   ],
   "source": [
    "# Query the locations and return as a Spark DataFrame but tell Spark to show the data.\n",
    "ev.locations.to_sdf().show()"
   ]
  },
  {
   "cell_type": "code",
   "execution_count": 14,
   "metadata": {},
   "outputs": [
    {
     "data": {
      "text/html": [
       "<div>\n",
       "<style scoped>\n",
       "    .dataframe tbody tr th:only-of-type {\n",
       "        vertical-align: middle;\n",
       "    }\n",
       "\n",
       "    .dataframe tbody tr th {\n",
       "        vertical-align: top;\n",
       "    }\n",
       "\n",
       "    .dataframe thead th {\n",
       "        text-align: right;\n",
       "    }\n",
       "</style>\n",
       "<table border=\"1\" class=\"dataframe\">\n",
       "  <thead>\n",
       "    <tr style=\"text-align: right;\">\n",
       "      <th></th>\n",
       "      <th>id</th>\n",
       "      <th>name</th>\n",
       "      <th>geometry</th>\n",
       "    </tr>\n",
       "  </thead>\n",
       "  <tbody>\n",
       "    <tr>\n",
       "      <th>0</th>\n",
       "      <td>gage-A</td>\n",
       "      <td>Site A</td>\n",
       "      <td>b'\\x01\\x01\\x00\\x00\\x00\\xc8f\\xa9\\x1d\\x07.T\\xc0\\...</td>\n",
       "    </tr>\n",
       "    <tr>\n",
       "      <th>1</th>\n",
       "      <td>gage-B</td>\n",
       "      <td>Site B</td>\n",
       "      <td>b'\\x01\\x01\\x00\\x00\\x00\\x00\\x06?-\\xa3-T\\xc0\\xbb...</td>\n",
       "    </tr>\n",
       "    <tr>\n",
       "      <th>2</th>\n",
       "      <td>gage-C</td>\n",
       "      <td>Bite C</td>\n",
       "      <td>b\"\\x01\\x01\\x00\\x00\\x00\\xb0Y\\xebG'/T\\xc0K\\xa5\\n...</td>\n",
       "    </tr>\n",
       "  </tbody>\n",
       "</table>\n",
       "</div>"
      ],
      "text/plain": [
       "       id    name                                           geometry\n",
       "0  gage-A  Site A  b'\\x01\\x01\\x00\\x00\\x00\\xc8f\\xa9\\x1d\\x07.T\\xc0\\...\n",
       "1  gage-B  Site B  b'\\x01\\x01\\x00\\x00\\x00\\x00\\x06?-\\xa3-T\\xc0\\xbb...\n",
       "2  gage-C  Bite C  b\"\\x01\\x01\\x00\\x00\\x00\\xb0Y\\xebG'/T\\xc0K\\xa5\\n..."
      ]
     },
     "execution_count": 14,
     "metadata": {},
     "output_type": "execute_result"
    }
   ],
   "source": [
    "# Query the locations and return as a Pandas DataFrame.\n",
    "# Note that the geometry column is shown as a byte string.\n",
    "ev.locations.to_pandas()"
   ]
  },
  {
   "cell_type": "code",
   "execution_count": 15,
   "metadata": {},
   "outputs": [
    {
     "data": {
      "text/html": [
       "<div>\n",
       "<style scoped>\n",
       "    .dataframe tbody tr th:only-of-type {\n",
       "        vertical-align: middle;\n",
       "    }\n",
       "\n",
       "    .dataframe tbody tr th {\n",
       "        vertical-align: top;\n",
       "    }\n",
       "\n",
       "    .dataframe thead th {\n",
       "        text-align: right;\n",
       "    }\n",
       "</style>\n",
       "<table border=\"1\" class=\"dataframe\">\n",
       "  <thead>\n",
       "    <tr style=\"text-align: right;\">\n",
       "      <th></th>\n",
       "      <th>id</th>\n",
       "      <th>name</th>\n",
       "      <th>geometry</th>\n",
       "    </tr>\n",
       "  </thead>\n",
       "  <tbody>\n",
       "    <tr>\n",
       "      <th>0</th>\n",
       "      <td>gage-A</td>\n",
       "      <td>Site A</td>\n",
       "      <td>POINT (-80.71918 35.17611)</td>\n",
       "    </tr>\n",
       "    <tr>\n",
       "      <th>1</th>\n",
       "      <td>gage-B</td>\n",
       "      <td>Site B</td>\n",
       "      <td>POINT (-80.71308 35.15839)</td>\n",
       "    </tr>\n",
       "    <tr>\n",
       "      <th>2</th>\n",
       "      <td>gage-C</td>\n",
       "      <td>Bite C</td>\n",
       "      <td>POINT (-80.73677 35.18693)</td>\n",
       "    </tr>\n",
       "  </tbody>\n",
       "</table>\n",
       "</div>"
      ],
      "text/plain": [
       "       id    name                    geometry\n",
       "0  gage-A  Site A  POINT (-80.71918 35.17611)\n",
       "1  gage-B  Site B  POINT (-80.71308 35.15839)\n",
       "2  gage-C  Bite C  POINT (-80.73677 35.18693)"
      ]
     },
     "execution_count": 15,
     "metadata": {},
     "output_type": "execute_result"
    }
   ],
   "source": [
    "# Query the locations and return as a GeoPandas DataFrame.\n",
    "# Note that the geometry column is now a proper WKT geometry column.\n",
    "ev.locations.to_geopandas()"
   ]
  },
  {
   "cell_type": "markdown",
   "metadata": {},
   "source": [
    "One very quick example of how the Spark DataFrame's lazy loading can be beneficial, would be to get the number of rows in a query result.  If you did `len(ev.primary_timeseries.to_pandas())`, first the entire data frame would have to be loaded in memory as a Pandas DataFrame and then the length calculated.  On the otherhand, if you were to `ev.primary_timeseries.to_sdf().count()` the Spark engine would calculate the number of rows without loading the entire dataset into memory first.  For larger datsets this could be very important."
   ]
  },
  {
   "cell_type": "code",
   "execution_count": 16,
   "metadata": {},
   "outputs": [
    {
     "data": {
      "text/plain": [
       "78"
      ]
     },
     "metadata": {},
     "output_type": "display_data"
    },
    {
     "data": {
      "text/plain": [
       "78"
      ]
     },
     "metadata": {},
     "output_type": "display_data"
    }
   ],
   "source": [
    "display(\n",
    "    len(ev.primary_timeseries.to_pandas())\n",
    ")\n",
    "display(\n",
    "    ev.primary_timeseries.to_sdf().count()\n",
    ")"
   ]
  },
  {
   "cell_type": "markdown",
   "metadata": {},
   "source": [
    "### Filtering and Ordering\n",
    "As noted above, because the tables are a lazy loaded Spark DataFrames, we can filter and order the data before returning it as a Pandas or GeoPandas DataFrame. The filter methods take either a raw SQL string, a filter dictionary or a FilterObject, Operator and field enumeration. Using an FilterObject, Operator and field enumeration is probably not a common pattern for most users, but it is used internally to validate filter arguments and is available to users if they would like to use it."
   ]
  },
  {
   "cell_type": "code",
   "execution_count": 17,
   "metadata": {},
   "outputs": [
    {
     "data": {
      "text/html": [
       "<div>\n",
       "<style scoped>\n",
       "    .dataframe tbody tr th:only-of-type {\n",
       "        vertical-align: middle;\n",
       "    }\n",
       "\n",
       "    .dataframe tbody tr th {\n",
       "        vertical-align: top;\n",
       "    }\n",
       "\n",
       "    .dataframe thead th {\n",
       "        text-align: right;\n",
       "    }\n",
       "</style>\n",
       "<table border=\"1\" class=\"dataframe\">\n",
       "  <thead>\n",
       "    <tr style=\"text-align: right;\">\n",
       "      <th></th>\n",
       "      <th>id</th>\n",
       "      <th>name</th>\n",
       "      <th>geometry</th>\n",
       "    </tr>\n",
       "  </thead>\n",
       "  <tbody>\n",
       "    <tr>\n",
       "      <th>0</th>\n",
       "      <td>gage-A</td>\n",
       "      <td>Site A</td>\n",
       "      <td>POINT (-80.71918 35.17611)</td>\n",
       "    </tr>\n",
       "  </tbody>\n",
       "</table>\n",
       "</div>"
      ],
      "text/plain": [
       "       id    name                    geometry\n",
       "0  gage-A  Site A  POINT (-80.71918 35.17611)"
      ]
     },
     "execution_count": 17,
     "metadata": {},
     "output_type": "execute_result"
    }
   ],
   "source": [
    "# Filter using a raw SQL string\n",
    "ev.locations.filter(\"id = 'gage-A'\").to_geopandas()"
   ]
  },
  {
   "cell_type": "code",
   "execution_count": 18,
   "metadata": {},
   "outputs": [
    {
     "data": {
      "text/html": [
       "<div>\n",
       "<style scoped>\n",
       "    .dataframe tbody tr th:only-of-type {\n",
       "        vertical-align: middle;\n",
       "    }\n",
       "\n",
       "    .dataframe tbody tr th {\n",
       "        vertical-align: top;\n",
       "    }\n",
       "\n",
       "    .dataframe thead th {\n",
       "        text-align: right;\n",
       "    }\n",
       "</style>\n",
       "<table border=\"1\" class=\"dataframe\">\n",
       "  <thead>\n",
       "    <tr style=\"text-align: right;\">\n",
       "      <th></th>\n",
       "      <th>id</th>\n",
       "      <th>name</th>\n",
       "      <th>geometry</th>\n",
       "    </tr>\n",
       "  </thead>\n",
       "  <tbody>\n",
       "    <tr>\n",
       "      <th>0</th>\n",
       "      <td>gage-A</td>\n",
       "      <td>Site A</td>\n",
       "      <td>POINT (-80.71918 35.17611)</td>\n",
       "    </tr>\n",
       "  </tbody>\n",
       "</table>\n",
       "</div>"
      ],
      "text/plain": [
       "       id    name                    geometry\n",
       "0  gage-A  Site A  POINT (-80.71918 35.17611)"
      ]
     },
     "execution_count": 18,
     "metadata": {},
     "output_type": "execute_result"
    }
   ],
   "source": [
    "# Filter using a dictionary\n",
    "ev.locations.filter({\n",
    "    \"column\": \"id\",\n",
    "    \"operator\": \"=\",\n",
    "    \"value\": \"gage-A\"\n",
    "}).to_geopandas()"
   ]
  },
  {
   "cell_type": "code",
   "execution_count": 19,
   "metadata": {},
   "outputs": [
    {
     "data": {
      "text/html": [
       "<div>\n",
       "<style scoped>\n",
       "    .dataframe tbody tr th:only-of-type {\n",
       "        vertical-align: middle;\n",
       "    }\n",
       "\n",
       "    .dataframe tbody tr th {\n",
       "        vertical-align: top;\n",
       "    }\n",
       "\n",
       "    .dataframe thead th {\n",
       "        text-align: right;\n",
       "    }\n",
       "</style>\n",
       "<table border=\"1\" class=\"dataframe\">\n",
       "  <thead>\n",
       "    <tr style=\"text-align: right;\">\n",
       "      <th></th>\n",
       "      <th>id</th>\n",
       "      <th>name</th>\n",
       "      <th>geometry</th>\n",
       "    </tr>\n",
       "  </thead>\n",
       "  <tbody>\n",
       "    <tr>\n",
       "      <th>0</th>\n",
       "      <td>gage-A</td>\n",
       "      <td>Site A</td>\n",
       "      <td>POINT (-80.71918 35.17611)</td>\n",
       "    </tr>\n",
       "  </tbody>\n",
       "</table>\n",
       "</div>"
      ],
      "text/plain": [
       "       id    name                    geometry\n",
       "0  gage-A  Site A  POINT (-80.71918 35.17611)"
      ]
     },
     "execution_count": 19,
     "metadata": {},
     "output_type": "execute_result"
    }
   ],
   "source": [
    "# Import the LocationFilter and Operators classes\n",
    "from teehr import LocationFilter, Operators\n",
    "\n",
    "# Get the field enumeration\n",
    "fields = ev.locations.field_enum()\n",
    "\n",
    "# Filter using the LocationFilter class\n",
    "lf = LocationFilter(\n",
    "    column=fields.id,\n",
    "    operator=Operators.eq,\n",
    "    value=\"gage-A\"\n",
    ")\n",
    "ev.locations.filter(lf).to_geopandas()"
   ]
  },
  {
   "cell_type": "code",
   "execution_count": 20,
   "metadata": {},
   "outputs": [],
   "source": [
    "ev.spark.stop()"
   ]
  },
  {
   "cell_type": "markdown",
   "metadata": {},
   "source": [
    "This same approach can be used to query the other tables in the evaluation dataset.  There are also other methods that we did not explore and users are encouraged to checkout the TEEHR API documentation as well as the PySpark documentation for a more in-depth understanding of what happens in the background."
   ]
  }
 ],
 "metadata": {
  "kernelspec": {
   "display_name": ".venv",
   "language": "python",
   "name": "python3"
  },
  "language_info": {
   "codemirror_mode": {
    "name": "ipython",
    "version": 3
   },
   "file_extension": ".py",
   "mimetype": "text/x-python",
   "name": "python",
   "nbconvert_exporter": "python",
   "pygments_lexer": "ipython3",
   "version": "3.10.15"
  }
 },
 "nbformat": 4,
 "nbformat_minor": 2
}
