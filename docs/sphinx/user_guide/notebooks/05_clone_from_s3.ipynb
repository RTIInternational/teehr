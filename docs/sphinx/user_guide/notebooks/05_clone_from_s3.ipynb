{
 "cells": [
  {
   "cell_type": "markdown",
   "metadata": {},
   "source": [
    "# Introduction to the Evaluation Class"
   ]
  },
  {
   "cell_type": "markdown",
   "metadata": {},
   "source": [
    "## Introduction\n",
    "In this notebook we will continue to explore the Evaluation schema through the Evaluation class interface. To do so, we first need to create an Evaluation and populate it with data. There are many ways to do this ranging from cloneing a complete Evaluation from the TEEHR S3 bucket that already contains all the nessesary data, to cloning a blank template and populating the tables with all the nessesary data using the builtin loading and fetching methods.  In this exercise we are going to clone a complete Evaluation and explore the tables using the TEEHR Evaluation table subclasses."
   ]
  },
  {
   "cell_type": "markdown",
   "metadata": {},
   "source": [
    "### Create a new Evaluation\n",
    "First we will import the the TEEHR Evaluation class and create a new instance that points to a directory where the evaluation data will be stored"
   ]
  },
  {
   "cell_type": "code",
   "execution_count": 2,
   "metadata": {},
   "outputs": [
    {
     "name": "stderr",
     "output_type": "stream",
     "text": [
      "Setting default log level to \"WARN\".\n",
      "To adjust logging level use sc.setLogLevel(newLevel). For SparkR, use setLogLevel(newLevel).\n",
      "24/11/11 08:52:03 WARN NativeCodeLoader: Unable to load native-hadoop library for your platform... using builtin-java classes where applicable\n"
     ]
    }
   ],
   "source": [
    "from teehr import Evaluation\n",
    "from pathlib import Path\n",
    "import shutil\n",
    "\n",
    "# Define the directory where the Evaluation will be created\n",
    "test_eval_dir = Path(Path().home(), \"temp\", \"03_introduction_class\")\n",
    "shutil.rmtree(test_eval_dir, ignore_errors=True)\n",
    "\n",
    "# Create an Evaluation object and create the directory\n",
    "ev = Evaluation(dir_path=test_eval_dir, create_dir=True)\n",
    "\n",
    "# Enable logging\n",
    "ev.enable_logging()"
   ]
  },
  {
   "cell_type": "markdown",
   "metadata": {},
   "source": [
    "### Clone Evaluation Data form S3\n",
    "As mentioned above, for this exercise we will be cloning a complete Evaluation dataset from the TEEHR S3 bucket.  First we will list the available Evaluations and then we will clone the `p0_2_location_example` evaluation which is  a small example Evaluation that only contains 2 gages."
   ]
  },
  {
   "cell_type": "code",
   "execution_count": 3,
   "metadata": {},
   "outputs": [
    {
     "data": {
      "text/html": [
       "<div>\n",
       "<style scoped>\n",
       "    .dataframe tbody tr th:only-of-type {\n",
       "        vertical-align: middle;\n",
       "    }\n",
       "\n",
       "    .dataframe tbody tr th {\n",
       "        vertical-align: top;\n",
       "    }\n",
       "\n",
       "    .dataframe thead th {\n",
       "        text-align: right;\n",
       "    }\n",
       "</style>\n",
       "<table border=\"1\" class=\"dataframe\">\n",
       "  <thead>\n",
       "    <tr style=\"text-align: right;\">\n",
       "      <th></th>\n",
       "      <th>name</th>\n",
       "      <th>description</th>\n",
       "      <th>url</th>\n",
       "    </tr>\n",
       "  </thead>\n",
       "  <tbody>\n",
       "    <tr>\n",
       "      <th>0</th>\n",
       "      <td>p0_2_location_example</td>\n",
       "      <td>Example evaluation datsets with 2 USGS gages</td>\n",
       "      <td>s3a://ciroh-rti-public-data/teehr-data-warehou...</td>\n",
       "    </tr>\n",
       "    <tr>\n",
       "      <th>1</th>\n",
       "      <td>p1_camels_daily_streamflow</td>\n",
       "      <td>Daily average streamflow at ther Camels basins</td>\n",
       "      <td>s3a://ciroh-rti-public-data/teehr-data-warehou...</td>\n",
       "    </tr>\n",
       "    <tr>\n",
       "      <th>2</th>\n",
       "      <td>p2_camels_hourly_streamflow</td>\n",
       "      <td>Hourly instantaneous streamflow at ther Camels...</td>\n",
       "      <td>s3a://ciroh-rti-public-data/teehr-data-warehou...</td>\n",
       "    </tr>\n",
       "    <tr>\n",
       "      <th>3</th>\n",
       "      <td>p3_usgs_hourly_streamflow</td>\n",
       "      <td>Hourly instantaneous streamflow at USGS CONUS ...</td>\n",
       "      <td>s3a://ciroh-rti-public-data/teehr-data-warehou...</td>\n",
       "    </tr>\n",
       "  </tbody>\n",
       "</table>\n",
       "</div>"
      ],
      "text/plain": [
       "                          name  \\\n",
       "0        p0_2_location_example   \n",
       "1   p1_camels_daily_streamflow   \n",
       "2  p2_camels_hourly_streamflow   \n",
       "3    p3_usgs_hourly_streamflow   \n",
       "\n",
       "                                         description  \\\n",
       "0       Example evaluation datsets with 2 USGS gages   \n",
       "1     Daily average streamflow at ther Camels basins   \n",
       "2  Hourly instantaneous streamflow at ther Camels...   \n",
       "3  Hourly instantaneous streamflow at USGS CONUS ...   \n",
       "\n",
       "                                                 url  \n",
       "0  s3a://ciroh-rti-public-data/teehr-data-warehou...  \n",
       "1  s3a://ciroh-rti-public-data/teehr-data-warehou...  \n",
       "2  s3a://ciroh-rti-public-data/teehr-data-warehou...  \n",
       "3  s3a://ciroh-rti-public-data/teehr-data-warehou...  "
      ]
     },
     "execution_count": 3,
     "metadata": {},
     "output_type": "execute_result"
    }
   ],
   "source": [
    "# List the evaluations in the S3 bucket\n",
    "ev.list_s3_evaluations()"
   ]
  },
  {
   "cell_type": "code",
   "execution_count": 4,
   "metadata": {},
   "outputs": [
    {
     "name": "stderr",
     "output_type": "stream",
     "text": [
      "24/11/11 08:52:35 WARN MetricsConfig: Cannot locate configuration: tried hadoop-metrics2-s3a-file-system.properties,hadoop-metrics2.properties\n",
      "24/11/11 08:52:49 WARN SparkStringUtils: Truncated the string representation of a plan since it was too large. This behavior can be adjusted by setting 'spark.sql.debug.maxToStringFields'.\n",
      "                                                                                \r"
     ]
    }
   ],
   "source": [
    "# Clone the p0_2_location_example evaluation from the S3 bucket\n",
    "ev.clone_from_s3(\"p0_2_location_example\")"
   ]
  },
  {
   "cell_type": "markdown",
   "metadata": {},
   "source": [
    "Now that we have cloned the `p0_2_location_example` evaluation, lets take a look at the data that was cloned from S3, specifically the `dataset` directory.  You can see that the three different data groups are stored in slightly different ways.  \n",
    "- The domain tables (units, variables, configurations, attributes) are stored as *.csv files\n",
    "- The location tables (locations, location_attributes, location_crosswalks) are stored as parquet files without hive partitioning\n",
    "- The timeseries tables (primary_timeseries, secondary_timeseries, joined_timeseries) are stored as parquet files with hive partitioning"
   ]
  },
  {
   "cell_type": "code",
   "execution_count": 21,
   "metadata": {},
   "outputs": [
    {
     "name": "stdout",
     "output_type": "stream",
     "text": [
      "\u001b[01;34m/Users/mdenno/temp/03_introduction_class/dataset\u001b[0m\n",
      "├── \u001b[01;34mattributes\u001b[0m\n",
      "│   └── \u001b[00mpart-00000-6b1674d9-f697-431f-a8b0-5fd4ad736b95-c000.csv\u001b[0m\n",
      "├── \u001b[01;34mconfigurations\u001b[0m\n",
      "│   └── \u001b[00mpart-00000-c115ed3c-8def-45c6-8217-1d3efc9d427e-c000.csv\u001b[0m\n",
      "├── \u001b[01;34mjoined_timeseries\u001b[0m\n",
      "│   └── \u001b[01;34mconfiguration_name=nwm30_retrospective\u001b[0m\n",
      "│       └── \u001b[01;34mvariable_name=streamflow_hourly_inst\u001b[0m\n",
      "│           └── \u001b[00mpart-00000-321fe0ea-bf64-4618-a24e-709bf8264b74.c000.snappy.parquet\u001b[0m\n",
      "├── \u001b[01;34mlocation_attributes\u001b[0m\n",
      "│   └── \u001b[00mpart-00000-67d78cfc-82f0-433a-89b4-cdbdfdec3461-c000.snappy.parquet\u001b[0m\n",
      "├── \u001b[01;34mlocation_crosswalks\u001b[0m\n",
      "│   └── \u001b[00mpart-00000-b128b985-bd61-47c8-8a89-b046dc4b8fc6-c000.snappy.parquet\u001b[0m\n",
      "├── \u001b[01;34mlocations\u001b[0m\n",
      "│   └── \u001b[00mpart-00000-1d4e966b-d413-4bb7-8b04-16c08670772b-c000.snappy.parquet\u001b[0m\n",
      "├── \u001b[01;34mprimary_timeseries\u001b[0m\n",
      "│   └── \u001b[01;34mconfiguration_name=usgs_observations\u001b[0m\n",
      "│       └── \u001b[01;34mvariable_name=streamflow_hourly_inst\u001b[0m\n",
      "│           └── \u001b[00mpart-00000-60a5eb34-d348-4518-bea6-bff0942aa9f6.c000.snappy.parquet\u001b[0m\n",
      "├── \u001b[01;34msecondary_timeseries\u001b[0m\n",
      "│   └── \u001b[01;34mconfiguration_name=nwm30_retrospective\u001b[0m\n",
      "│       └── \u001b[01;34mvariable_name=streamflow_hourly_inst\u001b[0m\n",
      "│           └── \u001b[00mpart-00000-9babafc2-54be-4d97-b97e-f14452d14292.c000.snappy.parquet\u001b[0m\n",
      "├── \u001b[01;34munits\u001b[0m\n",
      "│   └── \u001b[00mpart-00000-2ec3a2aa-f260-4160-98d1-81b1b1eb15fd-c000.csv\u001b[0m\n",
      "└── \u001b[01;34mvariables\u001b[0m\n",
      "    └── \u001b[00mpart-00000-507147a2-9b56-4a24-b4f3-b378bdb376de-c000.csv\u001b[0m\n",
      "\n",
      "17 directories, 10 files\n"
     ]
    }
   ],
   "source": [
    "# Note, if you don't have tree installed and don't want to install it (i.e., you are on Windows),\n",
    "# you can uncomment the next two lines and comment the third to use a Python function roughly does the same thing.\n",
    "\n",
    "# from teehr.evaluation.utils import print_tree\n",
    "# print_tree(ev.dataset_dir, exclude_patterns=[\".*\", \"_*\"])\n",
    "\n",
    "!tree $HOME/temp/03_introduction_class/dataset -I \".*|_*\""
   ]
  },
  {
   "cell_type": "markdown",
   "metadata": {},
   "source": [
    "### Table Classes\n",
    "The TEEHR Evaluation class contains different sub-classes that are used to oragnize class methods into logical groups.  One of these types of sub-classes is the \"table\" sub-classes which contain methods for interacting with the data tables. Each of the tables in the Evaluation dataset has a respective sub-class with the table name.\n",
    "```\n",
    "ev.units\n",
    "ev.attributes\n",
    "ev.variables\n",
    "ev.configurations\n",
    "ev.locations\n",
    "ev.location_attributes\n",
    "ev.location_crosswalks\n",
    "ev.primary_timeseries\n",
    "ev.secondary_timeseries\n",
    "ev.joined_timeseries\n",
    "```\n",
    "Each of the table sub-classes then has methods to add or insert new data as well as methods to query the table to get data out.  These are documented in the API documentation. For now, because all the tables are relatively small, we will just use the `to_pandas()` method and then the `head()` method on the Pandas DataFrame to see asn example of the data that is returned.  In an actual evaluation setting, with lots of data in the TEEHR dataset, you would likely want to include a `filter()` method to reduce the amount of data you are querying and putting into memory."
   ]
  },
  {
   "cell_type": "code",
   "execution_count": 20,
   "metadata": {},
   "outputs": [
    {
     "data": {
      "text/html": [
       "<div>\n",
       "<style scoped>\n",
       "    .dataframe tbody tr th:only-of-type {\n",
       "        vertical-align: middle;\n",
       "    }\n",
       "\n",
       "    .dataframe tbody tr th {\n",
       "        vertical-align: top;\n",
       "    }\n",
       "\n",
       "    .dataframe thead th {\n",
       "        text-align: right;\n",
       "    }\n",
       "</style>\n",
       "<table border=\"1\" class=\"dataframe\">\n",
       "  <thead>\n",
       "    <tr style=\"text-align: right;\">\n",
       "      <th></th>\n",
       "      <th>name</th>\n",
       "      <th>long_name</th>\n",
       "    </tr>\n",
       "  </thead>\n",
       "  <tbody>\n",
       "    <tr>\n",
       "      <th>0</th>\n",
       "      <td>m^3/s</td>\n",
       "      <td>Cubic Meters Per Second</td>\n",
       "    </tr>\n",
       "    <tr>\n",
       "      <th>1</th>\n",
       "      <td>ft^3/s</td>\n",
       "      <td>Cubic Feet Per Second</td>\n",
       "    </tr>\n",
       "    <tr>\n",
       "      <th>2</th>\n",
       "      <td>km^2</td>\n",
       "      <td>Square Kilometers</td>\n",
       "    </tr>\n",
       "    <tr>\n",
       "      <th>3</th>\n",
       "      <td>mm/s</td>\n",
       "      <td>Millimeters Per Second</td>\n",
       "    </tr>\n",
       "  </tbody>\n",
       "</table>\n",
       "</div>"
      ],
      "text/plain": [
       "     name                long_name\n",
       "0   m^3/s  Cubic Meters Per Second\n",
       "1  ft^3/s    Cubic Feet Per Second\n",
       "2    km^2        Square Kilometers\n",
       "3    mm/s   Millimeters Per Second"
      ]
     },
     "execution_count": 20,
     "metadata": {},
     "output_type": "execute_result"
    }
   ],
   "source": [
    "ev.units.to_pandas().head()"
   ]
  },
  {
   "cell_type": "code",
   "execution_count": 10,
   "metadata": {},
   "outputs": [
    {
     "data": {
      "text/html": [
       "<div>\n",
       "<style scoped>\n",
       "    .dataframe tbody tr th:only-of-type {\n",
       "        vertical-align: middle;\n",
       "    }\n",
       "\n",
       "    .dataframe tbody tr th {\n",
       "        vertical-align: top;\n",
       "    }\n",
       "\n",
       "    .dataframe thead th {\n",
       "        text-align: right;\n",
       "    }\n",
       "</style>\n",
       "<table border=\"1\" class=\"dataframe\">\n",
       "  <thead>\n",
       "    <tr style=\"text-align: right;\">\n",
       "      <th></th>\n",
       "      <th>name</th>\n",
       "      <th>type</th>\n",
       "      <th>description</th>\n",
       "    </tr>\n",
       "  </thead>\n",
       "  <tbody>\n",
       "    <tr>\n",
       "      <th>0</th>\n",
       "      <td>2_year_flow</td>\n",
       "      <td>continuous</td>\n",
       "      <td>Two year flow rate in m^3/s</td>\n",
       "    </tr>\n",
       "    <tr>\n",
       "      <th>1</th>\n",
       "      <td>frac_urban</td>\n",
       "      <td>categorical</td>\n",
       "      <td>frac_urban</td>\n",
       "    </tr>\n",
       "    <tr>\n",
       "      <th>2</th>\n",
       "      <td>high_prec_freq</td>\n",
       "      <td>categorical</td>\n",
       "      <td>high_prec_freq</td>\n",
       "    </tr>\n",
       "    <tr>\n",
       "      <th>3</th>\n",
       "      <td>pet_mean</td>\n",
       "      <td>categorical</td>\n",
       "      <td>pet_mean</td>\n",
       "    </tr>\n",
       "    <tr>\n",
       "      <th>4</th>\n",
       "      <td>ecoregion_L2</td>\n",
       "      <td>categorical</td>\n",
       "      <td>ecoregion_L2</td>\n",
       "    </tr>\n",
       "  </tbody>\n",
       "</table>\n",
       "</div>"
      ],
      "text/plain": [
       "             name         type                  description\n",
       "0     2_year_flow   continuous  Two year flow rate in m^3/s\n",
       "1      frac_urban  categorical                   frac_urban\n",
       "2  high_prec_freq  categorical               high_prec_freq\n",
       "3        pet_mean  categorical                     pet_mean\n",
       "4    ecoregion_L2  categorical                 ecoregion_L2"
      ]
     },
     "execution_count": 10,
     "metadata": {},
     "output_type": "execute_result"
    }
   ],
   "source": [
    "ev.attributes.to_pandas().head()"
   ]
  },
  {
   "cell_type": "code",
   "execution_count": 11,
   "metadata": {},
   "outputs": [
    {
     "data": {
      "text/html": [
       "<div>\n",
       "<style scoped>\n",
       "    .dataframe tbody tr th:only-of-type {\n",
       "        vertical-align: middle;\n",
       "    }\n",
       "\n",
       "    .dataframe tbody tr th {\n",
       "        vertical-align: top;\n",
       "    }\n",
       "\n",
       "    .dataframe thead th {\n",
       "        text-align: right;\n",
       "    }\n",
       "</style>\n",
       "<table border=\"1\" class=\"dataframe\">\n",
       "  <thead>\n",
       "    <tr style=\"text-align: right;\">\n",
       "      <th></th>\n",
       "      <th>name</th>\n",
       "      <th>long_name</th>\n",
       "    </tr>\n",
       "  </thead>\n",
       "  <tbody>\n",
       "    <tr>\n",
       "      <th>0</th>\n",
       "      <td>streamflow_hourly_inst</td>\n",
       "      <td>Hourly Instantaneous Streamflow</td>\n",
       "    </tr>\n",
       "    <tr>\n",
       "      <th>1</th>\n",
       "      <td>streamflow_daily_mean</td>\n",
       "      <td>Daily Mean Streamflow</td>\n",
       "    </tr>\n",
       "    <tr>\n",
       "      <th>2</th>\n",
       "      <td>rainfall_hourly_rate</td>\n",
       "      <td>Hourly Rainfall Rate</td>\n",
       "    </tr>\n",
       "  </tbody>\n",
       "</table>\n",
       "</div>"
      ],
      "text/plain": [
       "                     name                        long_name\n",
       "0  streamflow_hourly_inst  Hourly Instantaneous Streamflow\n",
       "1   streamflow_daily_mean            Daily Mean Streamflow\n",
       "2    rainfall_hourly_rate             Hourly Rainfall Rate"
      ]
     },
     "execution_count": 11,
     "metadata": {},
     "output_type": "execute_result"
    }
   ],
   "source": [
    "ev.variables.to_pandas().head()"
   ]
  },
  {
   "cell_type": "code",
   "execution_count": 12,
   "metadata": {},
   "outputs": [
    {
     "data": {
      "text/html": [
       "<div>\n",
       "<style scoped>\n",
       "    .dataframe tbody tr th:only-of-type {\n",
       "        vertical-align: middle;\n",
       "    }\n",
       "\n",
       "    .dataframe tbody tr th {\n",
       "        vertical-align: top;\n",
       "    }\n",
       "\n",
       "    .dataframe thead th {\n",
       "        text-align: right;\n",
       "    }\n",
       "</style>\n",
       "<table border=\"1\" class=\"dataframe\">\n",
       "  <thead>\n",
       "    <tr style=\"text-align: right;\">\n",
       "      <th></th>\n",
       "      <th>name</th>\n",
       "      <th>type</th>\n",
       "      <th>description</th>\n",
       "    </tr>\n",
       "  </thead>\n",
       "  <tbody>\n",
       "    <tr>\n",
       "      <th>0</th>\n",
       "      <td>nwm30_retrospective</td>\n",
       "      <td>secondary</td>\n",
       "      <td>NWM 3.0 Retrospective</td>\n",
       "    </tr>\n",
       "    <tr>\n",
       "      <th>1</th>\n",
       "      <td>nwm22_retrospective</td>\n",
       "      <td>secondary</td>\n",
       "      <td>NWM 2.2 Retrospective</td>\n",
       "    </tr>\n",
       "    <tr>\n",
       "      <th>2</th>\n",
       "      <td>nwm21_retrospective</td>\n",
       "      <td>secondary</td>\n",
       "      <td>NWM 2.1 Retrospective</td>\n",
       "    </tr>\n",
       "    <tr>\n",
       "      <th>3</th>\n",
       "      <td>nwm20_retrospective</td>\n",
       "      <td>secondary</td>\n",
       "      <td>NWM 2.0 Retrospective</td>\n",
       "    </tr>\n",
       "    <tr>\n",
       "      <th>4</th>\n",
       "      <td>usgs_observations</td>\n",
       "      <td>primary</td>\n",
       "      <td>USGS Observations</td>\n",
       "    </tr>\n",
       "  </tbody>\n",
       "</table>\n",
       "</div>"
      ],
      "text/plain": [
       "                  name       type            description\n",
       "0  nwm30_retrospective  secondary  NWM 3.0 Retrospective\n",
       "1  nwm22_retrospective  secondary  NWM 2.2 Retrospective\n",
       "2  nwm21_retrospective  secondary  NWM 2.1 Retrospective\n",
       "3  nwm20_retrospective  secondary  NWM 2.0 Retrospective\n",
       "4    usgs_observations    primary      USGS Observations"
      ]
     },
     "execution_count": 12,
     "metadata": {},
     "output_type": "execute_result"
    }
   ],
   "source": [
    "ev.configurations.to_pandas().head()"
   ]
  },
  {
   "cell_type": "code",
   "execution_count": 13,
   "metadata": {},
   "outputs": [
    {
     "data": {
      "text/html": [
       "<div>\n",
       "<style scoped>\n",
       "    .dataframe tbody tr th:only-of-type {\n",
       "        vertical-align: middle;\n",
       "    }\n",
       "\n",
       "    .dataframe tbody tr th {\n",
       "        vertical-align: top;\n",
       "    }\n",
       "\n",
       "    .dataframe thead th {\n",
       "        text-align: right;\n",
       "    }\n",
       "</style>\n",
       "<table border=\"1\" class=\"dataframe\">\n",
       "  <thead>\n",
       "    <tr style=\"text-align: right;\">\n",
       "      <th></th>\n",
       "      <th>id</th>\n",
       "      <th>name</th>\n",
       "      <th>geometry</th>\n",
       "    </tr>\n",
       "  </thead>\n",
       "  <tbody>\n",
       "    <tr>\n",
       "      <th>0</th>\n",
       "      <td>usgs-14316700</td>\n",
       "      <td>STEAMBOAT CREEK NEAR GLIDE, OR</td>\n",
       "      <td>b'\\x01\\x01\\x00\\x00\\x00\\x9f\\xcc?\\xfa\\xa6\\xae^\\x...</td>\n",
       "    </tr>\n",
       "    <tr>\n",
       "      <th>1</th>\n",
       "      <td>usgs-14138800</td>\n",
       "      <td>BLAZED ALDER CREEK NEAR RHODODENDRON, OR</td>\n",
       "      <td>b'\\x01\\x01\\x00\\x00\\x00\\xb7\\xday\\xd1\\ry^\\xc0\\x1...</td>\n",
       "    </tr>\n",
       "  </tbody>\n",
       "</table>\n",
       "</div>"
      ],
      "text/plain": [
       "              id                                      name  \\\n",
       "0  usgs-14316700            STEAMBOAT CREEK NEAR GLIDE, OR   \n",
       "1  usgs-14138800  BLAZED ALDER CREEK NEAR RHODODENDRON, OR   \n",
       "\n",
       "                                            geometry  \n",
       "0  b'\\x01\\x01\\x00\\x00\\x00\\x9f\\xcc?\\xfa\\xa6\\xae^\\x...  \n",
       "1  b'\\x01\\x01\\x00\\x00\\x00\\xb7\\xday\\xd1\\ry^\\xc0\\x1...  "
      ]
     },
     "execution_count": 13,
     "metadata": {},
     "output_type": "execute_result"
    }
   ],
   "source": [
    "ev.locations.to_pandas().head()"
   ]
  },
  {
   "cell_type": "code",
   "execution_count": 14,
   "metadata": {},
   "outputs": [
    {
     "data": {
      "text/html": [
       "<div>\n",
       "<style scoped>\n",
       "    .dataframe tbody tr th:only-of-type {\n",
       "        vertical-align: middle;\n",
       "    }\n",
       "\n",
       "    .dataframe tbody tr th {\n",
       "        vertical-align: top;\n",
       "    }\n",
       "\n",
       "    .dataframe thead th {\n",
       "        text-align: right;\n",
       "    }\n",
       "</style>\n",
       "<table border=\"1\" class=\"dataframe\">\n",
       "  <thead>\n",
       "    <tr style=\"text-align: right;\">\n",
       "      <th></th>\n",
       "      <th>location_id</th>\n",
       "      <th>attribute_name</th>\n",
       "      <th>value</th>\n",
       "    </tr>\n",
       "  </thead>\n",
       "  <tbody>\n",
       "    <tr>\n",
       "      <th>0</th>\n",
       "      <td>usgs-14316700</td>\n",
       "      <td>aridity</td>\n",
       "      <td>0.501305088892464</td>\n",
       "    </tr>\n",
       "    <tr>\n",
       "      <th>1</th>\n",
       "      <td>usgs-14138800</td>\n",
       "      <td>aridity</td>\n",
       "      <td>0.270945979187767</td>\n",
       "    </tr>\n",
       "    <tr>\n",
       "      <th>2</th>\n",
       "      <td>usgs-14316700</td>\n",
       "      <td>dom_land_cover</td>\n",
       "      <td>Evergreen Needleleaf Forest</td>\n",
       "    </tr>\n",
       "    <tr>\n",
       "      <th>3</th>\n",
       "      <td>usgs-14138800</td>\n",
       "      <td>dom_land_cover</td>\n",
       "      <td>Evergreen Needleleaf Forest</td>\n",
       "    </tr>\n",
       "    <tr>\n",
       "      <th>4</th>\n",
       "      <td>usgs-14316700</td>\n",
       "      <td>dom_land_cover_frac</td>\n",
       "      <td>0.999999999999874</td>\n",
       "    </tr>\n",
       "  </tbody>\n",
       "</table>\n",
       "</div>"
      ],
      "text/plain": [
       "     location_id       attribute_name                            value\n",
       "0  usgs-14316700              aridity                0.501305088892464\n",
       "1  usgs-14138800              aridity                0.270945979187767\n",
       "2  usgs-14316700       dom_land_cover      Evergreen Needleleaf Forest\n",
       "3  usgs-14138800       dom_land_cover      Evergreen Needleleaf Forest\n",
       "4  usgs-14316700  dom_land_cover_frac                0.999999999999874"
      ]
     },
     "execution_count": 14,
     "metadata": {},
     "output_type": "execute_result"
    }
   ],
   "source": [
    "ev.location_attributes.to_pandas().head()"
   ]
  },
  {
   "cell_type": "code",
   "execution_count": 15,
   "metadata": {},
   "outputs": [
    {
     "data": {
      "text/html": [
       "<div>\n",
       "<style scoped>\n",
       "    .dataframe tbody tr th:only-of-type {\n",
       "        vertical-align: middle;\n",
       "    }\n",
       "\n",
       "    .dataframe tbody tr th {\n",
       "        vertical-align: top;\n",
       "    }\n",
       "\n",
       "    .dataframe thead th {\n",
       "        text-align: right;\n",
       "    }\n",
       "</style>\n",
       "<table border=\"1\" class=\"dataframe\">\n",
       "  <thead>\n",
       "    <tr style=\"text-align: right;\">\n",
       "      <th></th>\n",
       "      <th>reference_time</th>\n",
       "      <th>value_time</th>\n",
       "      <th>value</th>\n",
       "      <th>unit_name</th>\n",
       "      <th>location_id</th>\n",
       "      <th>configuration_name</th>\n",
       "      <th>variable_name</th>\n",
       "    </tr>\n",
       "  </thead>\n",
       "  <tbody>\n",
       "    <tr>\n",
       "      <th>0</th>\n",
       "      <td>NaT</td>\n",
       "      <td>2000-09-30 20:00:00</td>\n",
       "      <td>3.341388</td>\n",
       "      <td>m^3/s</td>\n",
       "      <td>usgs-14138800</td>\n",
       "      <td>usgs_observations</td>\n",
       "      <td>streamflow_hourly_inst</td>\n",
       "    </tr>\n",
       "    <tr>\n",
       "      <th>1</th>\n",
       "      <td>NaT</td>\n",
       "      <td>2000-09-30 21:00:00</td>\n",
       "      <td>3.992675</td>\n",
       "      <td>m^3/s</td>\n",
       "      <td>usgs-14138800</td>\n",
       "      <td>usgs_observations</td>\n",
       "      <td>streamflow_hourly_inst</td>\n",
       "    </tr>\n",
       "    <tr>\n",
       "      <th>2</th>\n",
       "      <td>NaT</td>\n",
       "      <td>2000-09-30 22:00:00</td>\n",
       "      <td>4.445745</td>\n",
       "      <td>m^3/s</td>\n",
       "      <td>usgs-14138800</td>\n",
       "      <td>usgs_observations</td>\n",
       "      <td>streamflow_hourly_inst</td>\n",
       "    </tr>\n",
       "    <tr>\n",
       "      <th>3</th>\n",
       "      <td>NaT</td>\n",
       "      <td>2000-09-30 23:00:00</td>\n",
       "      <td>5.408518</td>\n",
       "      <td>m^3/s</td>\n",
       "      <td>usgs-14138800</td>\n",
       "      <td>usgs_observations</td>\n",
       "      <td>streamflow_hourly_inst</td>\n",
       "    </tr>\n",
       "    <tr>\n",
       "      <th>4</th>\n",
       "      <td>NaT</td>\n",
       "      <td>2000-10-01 00:00:00</td>\n",
       "      <td>5.606736</td>\n",
       "      <td>m^3/s</td>\n",
       "      <td>usgs-14138800</td>\n",
       "      <td>usgs_observations</td>\n",
       "      <td>streamflow_hourly_inst</td>\n",
       "    </tr>\n",
       "  </tbody>\n",
       "</table>\n",
       "</div>"
      ],
      "text/plain": [
       "  reference_time          value_time     value unit_name    location_id  \\\n",
       "0            NaT 2000-09-30 20:00:00  3.341388     m^3/s  usgs-14138800   \n",
       "1            NaT 2000-09-30 21:00:00  3.992675     m^3/s  usgs-14138800   \n",
       "2            NaT 2000-09-30 22:00:00  4.445745     m^3/s  usgs-14138800   \n",
       "3            NaT 2000-09-30 23:00:00  5.408518     m^3/s  usgs-14138800   \n",
       "4            NaT 2000-10-01 00:00:00  5.606736     m^3/s  usgs-14138800   \n",
       "\n",
       "  configuration_name           variable_name  \n",
       "0  usgs_observations  streamflow_hourly_inst  \n",
       "1  usgs_observations  streamflow_hourly_inst  \n",
       "2  usgs_observations  streamflow_hourly_inst  \n",
       "3  usgs_observations  streamflow_hourly_inst  \n",
       "4  usgs_observations  streamflow_hourly_inst  "
      ]
     },
     "execution_count": 15,
     "metadata": {},
     "output_type": "execute_result"
    }
   ],
   "source": [
    "ev.primary_timeseries.to_pandas().head()"
   ]
  },
  {
   "cell_type": "code",
   "execution_count": 16,
   "metadata": {},
   "outputs": [
    {
     "data": {
      "text/html": [
       "<div>\n",
       "<style scoped>\n",
       "    .dataframe tbody tr th:only-of-type {\n",
       "        vertical-align: middle;\n",
       "    }\n",
       "\n",
       "    .dataframe tbody tr th {\n",
       "        vertical-align: top;\n",
       "    }\n",
       "\n",
       "    .dataframe thead th {\n",
       "        text-align: right;\n",
       "    }\n",
       "</style>\n",
       "<table border=\"1\" class=\"dataframe\">\n",
       "  <thead>\n",
       "    <tr style=\"text-align: right;\">\n",
       "      <th></th>\n",
       "      <th>primary_location_id</th>\n",
       "      <th>secondary_location_id</th>\n",
       "    </tr>\n",
       "  </thead>\n",
       "  <tbody>\n",
       "    <tr>\n",
       "      <th>0</th>\n",
       "      <td>usgs-14316700</td>\n",
       "      <td>nwm30-23894572</td>\n",
       "    </tr>\n",
       "    <tr>\n",
       "      <th>1</th>\n",
       "      <td>usgs-14138800</td>\n",
       "      <td>nwm30-23736071</td>\n",
       "    </tr>\n",
       "  </tbody>\n",
       "</table>\n",
       "</div>"
      ],
      "text/plain": [
       "  primary_location_id secondary_location_id\n",
       "0       usgs-14316700        nwm30-23894572\n",
       "1       usgs-14138800        nwm30-23736071"
      ]
     },
     "execution_count": 16,
     "metadata": {},
     "output_type": "execute_result"
    }
   ],
   "source": [
    "ev.location_crosswalks.to_pandas().head()"
   ]
  },
  {
   "cell_type": "code",
   "execution_count": 17,
   "metadata": {},
   "outputs": [
    {
     "data": {
      "text/html": [
       "<div>\n",
       "<style scoped>\n",
       "    .dataframe tbody tr th:only-of-type {\n",
       "        vertical-align: middle;\n",
       "    }\n",
       "\n",
       "    .dataframe tbody tr th {\n",
       "        vertical-align: top;\n",
       "    }\n",
       "\n",
       "    .dataframe thead th {\n",
       "        text-align: right;\n",
       "    }\n",
       "</style>\n",
       "<table border=\"1\" class=\"dataframe\">\n",
       "  <thead>\n",
       "    <tr style=\"text-align: right;\">\n",
       "      <th></th>\n",
       "      <th>reference_time</th>\n",
       "      <th>value_time</th>\n",
       "      <th>value</th>\n",
       "      <th>unit_name</th>\n",
       "      <th>location_id</th>\n",
       "      <th>configuration_name</th>\n",
       "      <th>variable_name</th>\n",
       "    </tr>\n",
       "  </thead>\n",
       "  <tbody>\n",
       "    <tr>\n",
       "      <th>0</th>\n",
       "      <td>NaT</td>\n",
       "      <td>2000-09-30 20:00:00</td>\n",
       "      <td>0.38</td>\n",
       "      <td>m^3/s</td>\n",
       "      <td>nwm30-23894572</td>\n",
       "      <td>nwm30_retrospective</td>\n",
       "      <td>streamflow_hourly_inst</td>\n",
       "    </tr>\n",
       "    <tr>\n",
       "      <th>1</th>\n",
       "      <td>NaT</td>\n",
       "      <td>2000-09-30 20:00:00</td>\n",
       "      <td>0.06</td>\n",
       "      <td>m^3/s</td>\n",
       "      <td>nwm30-23736071</td>\n",
       "      <td>nwm30_retrospective</td>\n",
       "      <td>streamflow_hourly_inst</td>\n",
       "    </tr>\n",
       "    <tr>\n",
       "      <th>2</th>\n",
       "      <td>NaT</td>\n",
       "      <td>2000-09-30 21:00:00</td>\n",
       "      <td>0.38</td>\n",
       "      <td>m^3/s</td>\n",
       "      <td>nwm30-23894572</td>\n",
       "      <td>nwm30_retrospective</td>\n",
       "      <td>streamflow_hourly_inst</td>\n",
       "    </tr>\n",
       "    <tr>\n",
       "      <th>3</th>\n",
       "      <td>NaT</td>\n",
       "      <td>2000-09-30 21:00:00</td>\n",
       "      <td>0.06</td>\n",
       "      <td>m^3/s</td>\n",
       "      <td>nwm30-23736071</td>\n",
       "      <td>nwm30_retrospective</td>\n",
       "      <td>streamflow_hourly_inst</td>\n",
       "    </tr>\n",
       "    <tr>\n",
       "      <th>4</th>\n",
       "      <td>NaT</td>\n",
       "      <td>2000-09-30 22:00:00</td>\n",
       "      <td>0.38</td>\n",
       "      <td>m^3/s</td>\n",
       "      <td>nwm30-23894572</td>\n",
       "      <td>nwm30_retrospective</td>\n",
       "      <td>streamflow_hourly_inst</td>\n",
       "    </tr>\n",
       "  </tbody>\n",
       "</table>\n",
       "</div>"
      ],
      "text/plain": [
       "  reference_time          value_time  value unit_name     location_id  \\\n",
       "0            NaT 2000-09-30 20:00:00   0.38     m^3/s  nwm30-23894572   \n",
       "1            NaT 2000-09-30 20:00:00   0.06     m^3/s  nwm30-23736071   \n",
       "2            NaT 2000-09-30 21:00:00   0.38     m^3/s  nwm30-23894572   \n",
       "3            NaT 2000-09-30 21:00:00   0.06     m^3/s  nwm30-23736071   \n",
       "4            NaT 2000-09-30 22:00:00   0.38     m^3/s  nwm30-23894572   \n",
       "\n",
       "    configuration_name           variable_name  \n",
       "0  nwm30_retrospective  streamflow_hourly_inst  \n",
       "1  nwm30_retrospective  streamflow_hourly_inst  \n",
       "2  nwm30_retrospective  streamflow_hourly_inst  \n",
       "3  nwm30_retrospective  streamflow_hourly_inst  \n",
       "4  nwm30_retrospective  streamflow_hourly_inst  "
      ]
     },
     "execution_count": 17,
     "metadata": {},
     "output_type": "execute_result"
    }
   ],
   "source": [
    "ev.secondary_timeseries.to_pandas().head()"
   ]
  },
  {
   "cell_type": "markdown",
   "metadata": {},
   "source": [
    "### Querying\n",
    "Above, we just used the `to_pandas()` method on each table in the The underlying query engine for TEEHR is PySpark.  Each of the table sub-classes can return data as either a Spark DataFrame (using the `to_sdf()` method) or as a Pandas DataFrame (using the `to_pandas()` method).  The location data tables have an additional method that returns a GeoPandas DataFrame (using the `to_geopandas()` method) where the geometry bytes column has been converted to a proper WKT geometry column.\n",
    "\n",
    "Note: PySpark itself is \"lazy loaded\" meaning that it does not actually run the query until the data is needed for display, plotting, etc.  Therefore, if you just use the `to_sdf()` method, you do not get the data but rather a lazy Spark DataFrame that can be used with subsequent Spark operations that will all be evaluated when the results are requested.  Here we show how to get the Spark DataFrame and show the data but there are many other ways that the lazy Spark DataFrame can be used in subsequent operations that are beyond the scope of this document."
   ]
  },
  {
   "cell_type": "code",
   "execution_count": null,
   "metadata": {},
   "outputs": [],
   "source": [
    "# Query the locations and return as a lazy Spark DataFrame.\n",
    "ev.locations.to_sdf()"
   ]
  },
  {
   "cell_type": "code",
   "execution_count": null,
   "metadata": {},
   "outputs": [],
   "source": [
    "# Query the locations and return as a Spark DataFrame but tell Spark to show the data.\n",
    "ev.locations.to_sdf().show()"
   ]
  },
  {
   "cell_type": "code",
   "execution_count": null,
   "metadata": {},
   "outputs": [],
   "source": [
    "# Query the locations and return as a Pandas DataFrame.\n",
    "# Note that the geometry column is shown as a byte string.\n",
    "ev.locations.to_pandas()"
   ]
  },
  {
   "cell_type": "code",
   "execution_count": null,
   "metadata": {},
   "outputs": [],
   "source": [
    "# Query the locations and return as a GeoPandas DataFrame.\n",
    "# Note that the geometry column is now a proper WKT geometry column.\n",
    "ev.locations.to_geopandas()"
   ]
  },
  {
   "cell_type": "markdown",
   "metadata": {},
   "source": [
    "### Filter and Order\n",
    "As noted above, because the tables are a lazy loaded Spark DataFrames, we can filter and order the data before returning it as a Pandas or GeoPandas DataFrame. The filter methods take either a raw SQL string, a filter dictionary or a FilterObject, Operator and field enumeration. Using an FilterObject, Operator and field enumeration is probably not a common pattern for most users, but it is used internally to validate filter arguments and is available to users if they would like to use it."
   ]
  },
  {
   "cell_type": "code",
   "execution_count": null,
   "metadata": {},
   "outputs": [],
   "source": [
    "# Filter using a raw SQL string\n",
    "ev.locations.filter(\"id = 'usgs-14316700'\").to_geopandas()"
   ]
  },
  {
   "cell_type": "code",
   "execution_count": null,
   "metadata": {},
   "outputs": [],
   "source": [
    "# Filter using a dictionary\n",
    "ev.locations.filter({\n",
    "    \"column\": \"id\",\n",
    "    \"operator\": \"=\",\n",
    "    \"value\": \"usgs-14316700\"\n",
    "}).to_geopandas()"
   ]
  },
  {
   "cell_type": "code",
   "execution_count": null,
   "metadata": {},
   "outputs": [],
   "source": [
    "# Import the LocationFilter and Operators classes\n",
    "from teehr import LocationFilter, Operators\n",
    "\n",
    "# Get the field enumeration\n",
    "fields = ev.locations.field_enum()\n",
    "\n",
    "# Filter using the LocationFilter class\n",
    "lf = LocationFilter(\n",
    "    column=fields.id,\n",
    "    operator=Operators.eq,\n",
    "    value=\"usgs-14316700\"\n",
    ")\n",
    "ev.locations.filter(lf).to_geopandas()"
   ]
  },
  {
   "cell_type": "markdown",
   "metadata": {},
   "source": [
    "This same approach can be used to query the other tables in the evaluation dataset.  There are also other methods that we did not explore and users are encourgaed to checkout the TEEHR API documentation as well as the PySpark documentation for a more indepth understanding of what happens in the background."
   ]
  }
 ],
 "metadata": {
  "kernelspec": {
   "display_name": ".venv",
   "language": "python",
   "name": "python3"
  },
  "language_info": {
   "codemirror_mode": {
    "name": "ipython",
    "version": 3
   },
   "file_extension": ".py",
   "mimetype": "text/x-python",
   "name": "python",
   "nbconvert_exporter": "python",
   "pygments_lexer": "ipython3",
   "version": "3.10.15"
  }
 },
 "nbformat": 4,
 "nbformat_minor": 2
}
