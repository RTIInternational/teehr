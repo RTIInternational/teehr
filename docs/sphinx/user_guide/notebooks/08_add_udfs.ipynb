{
 "cells": [
  {
   "cell_type": "markdown",
   "metadata": {},
   "source": [
    "# 08 Add User Defined Fields"
   ]
  },
  {
   "cell_type": "markdown",
   "metadata": {},
   "source": [
    "## Overview\n",
    "In this lesson we will clone a small example TEEHR Evaluation from S3 and work through the different ways to add user defined columns to the joined_timeseries table, save them to the joined_timeseries table on disk to persist them, or add them temporarily before calculating metrics.  The first few stesp for creating and cloning the TEEHR Evaluation should look familiar of you worked through the examples as we did this previously."
   ]
  },
  {
   "cell_type": "markdown",
   "metadata": {},
   "source": [
    "### Create a new Evaluation\n",
    "First we will import TEEHR along with some other required libraries for this example.  Then we create a new instance of the Evaluation that points to a directory where the evaluation data will be stored."
   ]
  },
  {
   "cell_type": "code",
   "execution_count": 1,
   "metadata": {},
   "outputs": [
    {
     "data": {
      "text/html": [
       "    <style>\n",
       "        .bk-notebook-logo {\n",
       "            display: block;\n",
       "            width: 20px;\n",
       "            height: 20px;\n",
       "            background-image: url(data:image/png;base64,iVBORw0KGgoAAAANSUhEUgAAABQAAAAUCAYAAACNiR0NAAAABHNCSVQICAgIfAhkiAAAAAlwSFlzAAALEgAACxIB0t1+/AAAABx0RVh0U29mdHdhcmUAQWRvYmUgRmlyZXdvcmtzIENTNui8sowAAAOkSURBVDiNjZRtaJVlGMd/1/08zzln5zjP1LWcU9N0NkN8m2CYjpgQYQXqSs0I84OLIC0hkEKoPtiH3gmKoiJDU7QpLgoLjLIQCpEsNJ1vqUOdO7ppbuec5+V+rj4ctwzd8IIbbi6u+8f1539dt3A78eXC7QizUF7gyV1fD1Yqg4JWz84yffhm0qkFqBogB9rM8tZdtwVsPUhWhGcFJngGeWrPzHm5oaMmkfEg1usvLFyc8jLRqDOMru7AyC8saQr7GG7f5fvDeH7Ej8CM66nIF+8yngt6HWaKh7k49Soy9nXurCi1o3qUbS3zWfrYeQDTB/Qj6kX6Ybhw4B+bOYoLKCC9H3Nu/leUTZ1JdRWkkn2ldcCamzrcf47KKXdAJllSlxAOkRgyHsGC/zRday5Qld9DyoM4/q/rUoy/CXh3jzOu3bHUVZeU+DEn8FInkPBFlu3+nW3Nw0mk6vCDiWg8CeJaxEwuHS3+z5RgY+YBR6V1Z1nxSOfoaPa4LASWxxdNp+VWTk7+4vzaou8v8PN+xo+KY2xsw6une2frhw05CTYOmQvsEhjhWjn0bmXPjpE1+kplmmkP3suftwTubK9Vq22qKmrBhpY4jvd5afdRA3wGjFAgcnTK2s4hY0/GPNIb0nErGMCRxWOOX64Z8RAC4oCXdklmEvcL8o0BfkNK4lUg9HTl+oPlQxdNo3Mg4Nv175e/1LDGzZen30MEjRUtmXSfiTVu1kK8W4txyV6BMKlbgk3lMwYCiusNy9fVfvvwMxv8Ynl6vxoByANLTWplvuj/nF9m2+PDtt1eiHPBr1oIfhCChQMBw6Aw0UulqTKZdfVvfG7VcfIqLG9bcldL/+pdWTLxLUy8Qq38heUIjh4XlzZxzQm19lLFlr8vdQ97rjZVOLf8nclzckbcD4wxXMidpX30sFd37Fv/GtwwhzhxGVAprjbg0gCAEeIgwCZyTV2Z1REEW8O4py0wsjeloKoMr6iCY6dP92H6Vw/oTyICIthibxjm/DfN9lVz8IqtqKYLUXfoKVMVQVVJOElGjrnnUt9T9wbgp8AyYKaGlqingHZU/uG2NTZSVqwHQTWkx9hxjkpWDaCg6Ckj5qebgBVbT3V3NNXMSiWSDdGV3hrtzla7J+duwPOToIg42ChPQOQjspnSlp1V+Gjdged7+8UN5CRAV7a5EdFNwCjEaBR27b3W890TE7g24NAP/mMDXRWrGoFPQI9ls/MWO2dWFAar/xcOIImbbpA3zgAAAABJRU5ErkJggg==);\n",
       "        }\n",
       "    </style>\n",
       "    <div>\n",
       "        <a href=\"https://bokeh.org\" target=\"_blank\" class=\"bk-notebook-logo\"></a>\n",
       "        <span id=\"a14e2e93-82e3-47c9-beac-e4ee66e1a96a\">Loading BokehJS ...</span>\n",
       "    </div>\n"
      ]
     },
     "metadata": {},
     "output_type": "display_data"
    },
    {
     "data": {
      "application/javascript": "'use strict';\n(function(root) {\n  function now() {\n    return new Date();\n  }\n\n  const force = true;\n\n  if (typeof root._bokeh_onload_callbacks === \"undefined\" || force === true) {\n    root._bokeh_onload_callbacks = [];\n    root._bokeh_is_loading = undefined;\n  }\n\nconst JS_MIME_TYPE = 'application/javascript';\n  const HTML_MIME_TYPE = 'text/html';\n  const EXEC_MIME_TYPE = 'application/vnd.bokehjs_exec.v0+json';\n  const CLASS_NAME = 'output_bokeh rendered_html';\n\n  /**\n   * Render data to the DOM node\n   */\n  function render(props, node) {\n    const script = document.createElement(\"script\");\n    node.appendChild(script);\n  }\n\n  /**\n   * Handle when an output is cleared or removed\n   */\n  function handleClearOutput(event, handle) {\n    function drop(id) {\n      const view = Bokeh.index.get_by_id(id)\n      if (view != null) {\n        view.model.document.clear()\n        Bokeh.index.delete(view)\n      }\n    }\n\n    const cell = handle.cell;\n\n    const id = cell.output_area._bokeh_element_id;\n    const server_id = cell.output_area._bokeh_server_id;\n\n    // Clean up Bokeh references\n    if (id != null) {\n      drop(id)\n    }\n\n    if (server_id !== undefined) {\n      // Clean up Bokeh references\n      const cmd_clean = \"from bokeh.io.state import curstate; print(curstate().uuid_to_server['\" + server_id + \"'].get_sessions()[0].document.roots[0]._id)\";\n      cell.notebook.kernel.execute(cmd_clean, {\n        iopub: {\n          output: function(msg) {\n            const id = msg.content.text.trim()\n            drop(id)\n          }\n        }\n      });\n      // Destroy server and session\n      const cmd_destroy = \"import bokeh.io.notebook as ion; ion.destroy_server('\" + server_id + \"')\";\n      cell.notebook.kernel.execute(cmd_destroy);\n    }\n  }\n\n  /**\n   * Handle when a new output is added\n   */\n  function handleAddOutput(event, handle) {\n    const output_area = handle.output_area;\n    const output = handle.output;\n\n    // limit handleAddOutput to display_data with EXEC_MIME_TYPE content only\n    if ((output.output_type != \"display_data\") || (!Object.prototype.hasOwnProperty.call(output.data, EXEC_MIME_TYPE))) {\n      return\n    }\n\n    const toinsert = output_area.element.find(\".\" + CLASS_NAME.split(' ')[0]);\n\n    if (output.metadata[EXEC_MIME_TYPE][\"id\"] !== undefined) {\n      toinsert[toinsert.length - 1].firstChild.textContent = output.data[JS_MIME_TYPE];\n      // store reference to embed id on output_area\n      output_area._bokeh_element_id = output.metadata[EXEC_MIME_TYPE][\"id\"];\n    }\n    if (output.metadata[EXEC_MIME_TYPE][\"server_id\"] !== undefined) {\n      const bk_div = document.createElement(\"div\");\n      bk_div.innerHTML = output.data[HTML_MIME_TYPE];\n      const script_attrs = bk_div.children[0].attributes;\n      for (let i = 0; i < script_attrs.length; i++) {\n        toinsert[toinsert.length - 1].firstChild.setAttribute(script_attrs[i].name, script_attrs[i].value);\n        toinsert[toinsert.length - 1].firstChild.textContent = bk_div.children[0].textContent\n      }\n      // store reference to server id on output_area\n      output_area._bokeh_server_id = output.metadata[EXEC_MIME_TYPE][\"server_id\"];\n    }\n  }\n\n  function register_renderer(events, OutputArea) {\n\n    function append_mime(data, metadata, element) {\n      // create a DOM node to render to\n      const toinsert = this.create_output_subarea(\n        metadata,\n        CLASS_NAME,\n        EXEC_MIME_TYPE\n      );\n      this.keyboard_manager.register_events(toinsert);\n      // Render to node\n      const props = {data: data, metadata: metadata[EXEC_MIME_TYPE]};\n      render(props, toinsert[toinsert.length - 1]);\n      element.append(toinsert);\n      return toinsert\n    }\n\n    /* Handle when an output is cleared or removed */\n    events.on('clear_output.CodeCell', handleClearOutput);\n    events.on('delete.Cell', handleClearOutput);\n\n    /* Handle when a new output is added */\n    events.on('output_added.OutputArea', handleAddOutput);\n\n    /**\n     * Register the mime type and append_mime function with output_area\n     */\n    OutputArea.prototype.register_mime_type(EXEC_MIME_TYPE, append_mime, {\n      /* Is output safe? */\n      safe: true,\n      /* Index of renderer in `output_area.display_order` */\n      index: 0\n    });\n  }\n\n  // register the mime type if in Jupyter Notebook environment and previously unregistered\n  if (root.Jupyter !== undefined) {\n    const events = require('base/js/events');\n    const OutputArea = require('notebook/js/outputarea').OutputArea;\n\n    if (OutputArea.prototype.mime_types().indexOf(EXEC_MIME_TYPE) == -1) {\n      register_renderer(events, OutputArea);\n    }\n  }\n  if (typeof (root._bokeh_timeout) === \"undefined\" || force === true) {\n    root._bokeh_timeout = Date.now() + 5000;\n    root._bokeh_failed_load = false;\n  }\n\n  const NB_LOAD_WARNING = {'data': {'text/html':\n     \"<div style='background-color: #fdd'>\\n\"+\n     \"<p>\\n\"+\n     \"BokehJS does not appear to have successfully loaded. If loading BokehJS from CDN, this \\n\"+\n     \"may be due to a slow or bad network connection. Possible fixes:\\n\"+\n     \"</p>\\n\"+\n     \"<ul>\\n\"+\n     \"<li>re-rerun `output_notebook()` to attempt to load from CDN again, or</li>\\n\"+\n     \"<li>use INLINE resources instead, as so:</li>\\n\"+\n     \"</ul>\\n\"+\n     \"<code>\\n\"+\n     \"from bokeh.resources import INLINE\\n\"+\n     \"output_notebook(resources=INLINE)\\n\"+\n     \"</code>\\n\"+\n     \"</div>\"}};\n\n  function display_loaded(error = null) {\n    const el = document.getElementById(\"a14e2e93-82e3-47c9-beac-e4ee66e1a96a\");\n    if (el != null) {\n      const html = (() => {\n        if (typeof root.Bokeh === \"undefined\") {\n          if (error == null) {\n            return \"BokehJS is loading ...\";\n          } else {\n            return \"BokehJS failed to load.\";\n          }\n        } else {\n          const prefix = `BokehJS ${root.Bokeh.version}`;\n          if (error == null) {\n            return `${prefix} successfully loaded.`;\n          } else {\n            return `${prefix} <b>encountered errors</b> while loading and may not function as expected.`;\n          }\n        }\n      })();\n      el.innerHTML = html;\n\n      if (error != null) {\n        const wrapper = document.createElement(\"div\");\n        wrapper.style.overflow = \"auto\";\n        wrapper.style.height = \"5em\";\n        wrapper.style.resize = \"vertical\";\n        const content = document.createElement(\"div\");\n        content.style.fontFamily = \"monospace\";\n        content.style.whiteSpace = \"pre-wrap\";\n        content.style.backgroundColor = \"rgb(255, 221, 221)\";\n        content.textContent = error.stack ?? error.toString();\n        wrapper.append(content);\n        el.append(wrapper);\n      }\n    } else if (Date.now() < root._bokeh_timeout) {\n      setTimeout(() => display_loaded(error), 100);\n    }\n  }\n\n  function run_callbacks() {\n    try {\n      root._bokeh_onload_callbacks.forEach(function(callback) {\n        if (callback != null)\n          callback();\n      });\n    } finally {\n      delete root._bokeh_onload_callbacks\n    }\n    console.debug(\"Bokeh: all callbacks have finished\");\n  }\n\n  function load_libs(css_urls, js_urls, callback) {\n    if (css_urls == null) css_urls = [];\n    if (js_urls == null) js_urls = [];\n\n    root._bokeh_onload_callbacks.push(callback);\n    if (root._bokeh_is_loading > 0) {\n      console.debug(\"Bokeh: BokehJS is being loaded, scheduling callback at\", now());\n      return null;\n    }\n    if (js_urls == null || js_urls.length === 0) {\n      run_callbacks();\n      return null;\n    }\n    console.debug(\"Bokeh: BokehJS not loaded, scheduling load and callback at\", now());\n    root._bokeh_is_loading = css_urls.length + js_urls.length;\n\n    function on_load() {\n      root._bokeh_is_loading--;\n      if (root._bokeh_is_loading === 0) {\n        console.debug(\"Bokeh: all BokehJS libraries/stylesheets loaded\");\n        run_callbacks()\n      }\n    }\n\n    function on_error(url) {\n      console.error(\"failed to load \" + url);\n    }\n\n    for (let i = 0; i < css_urls.length; i++) {\n      const url = css_urls[i];\n      const element = document.createElement(\"link\");\n      element.onload = on_load;\n      element.onerror = on_error.bind(null, url);\n      element.rel = \"stylesheet\";\n      element.type = \"text/css\";\n      element.href = url;\n      console.debug(\"Bokeh: injecting link tag for BokehJS stylesheet: \", url);\n      document.body.appendChild(element);\n    }\n\n    for (let i = 0; i < js_urls.length; i++) {\n      const url = js_urls[i];\n      const element = document.createElement('script');\n      element.onload = on_load;\n      element.onerror = on_error.bind(null, url);\n      element.async = false;\n      element.src = url;\n      console.debug(\"Bokeh: injecting script tag for BokehJS library: \", url);\n      document.head.appendChild(element);\n    }\n  };\n\n  function inject_raw_css(css) {\n    const element = document.createElement(\"style\");\n    element.appendChild(document.createTextNode(css));\n    document.body.appendChild(element);\n  }\n\n  const js_urls = [\"https://cdn.bokeh.org/bokeh/release/bokeh-3.6.1.min.js\", \"https://cdn.bokeh.org/bokeh/release/bokeh-gl-3.6.1.min.js\", \"https://cdn.bokeh.org/bokeh/release/bokeh-widgets-3.6.1.min.js\", \"https://cdn.bokeh.org/bokeh/release/bokeh-tables-3.6.1.min.js\", \"https://cdn.bokeh.org/bokeh/release/bokeh-mathjax-3.6.1.min.js\"];\n  const css_urls = [];\n\n  const inline_js = [    function(Bokeh) {\n      Bokeh.set_log_level(\"info\");\n    },\nfunction(Bokeh) {\n    }\n  ];\n\n  function run_inline_js() {\n    if (root.Bokeh !== undefined || force === true) {\n      try {\n            for (let i = 0; i < inline_js.length; i++) {\n      inline_js[i].call(root, root.Bokeh);\n    }\n\n      } catch (error) {display_loaded(error);throw error;\n      }if (force === true) {\n        display_loaded();\n      }} else if (Date.now() < root._bokeh_timeout) {\n      setTimeout(run_inline_js, 100);\n    } else if (!root._bokeh_failed_load) {\n      console.log(\"Bokeh: BokehJS failed to load within specified timeout.\");\n      root._bokeh_failed_load = true;\n    } else if (force !== true) {\n      const cell = $(document.getElementById(\"a14e2e93-82e3-47c9-beac-e4ee66e1a96a\")).parents('.cell').data().cell;\n      cell.output_area.append_execute_result(NB_LOAD_WARNING)\n    }\n  }\n\n  if (root._bokeh_is_loading === 0) {\n    console.debug(\"Bokeh: BokehJS loaded, going straight to plotting\");\n    run_inline_js();\n  } else {\n    load_libs(css_urls, js_urls, function() {\n      console.debug(\"Bokeh: BokehJS plotting callback run at\", now());\n      run_inline_js();\n    });\n  }\n}(window));",
      "application/vnd.bokehjs_load.v0+json": ""
     },
     "metadata": {},
     "output_type": "display_data"
    }
   ],
   "source": [
    "import teehr\n",
    "from pathlib import Path\n",
    "import shutil\n",
    "\n",
    "# Tell Bokeh to output plots in the notebook\n",
    "from bokeh.io import output_notebook\n",
    "output_notebook()"
   ]
  },
  {
   "cell_type": "code",
   "execution_count": 2,
   "metadata": {
    "tags": [
     "hide-output"
    ]
   },
   "outputs": [
    {
     "name": "stderr",
     "output_type": "stream",
     "text": [
      "Setting default log level to \"WARN\".\n",
      "To adjust logging level use sc.setLogLevel(newLevel). For SparkR, use setLogLevel(newLevel).\n",
      "24/12/15 23:08:29 WARN NativeCodeLoader: Unable to load native-hadoop library for your platform... using builtin-java classes where applicable\n"
     ]
    }
   ],
   "source": [
    "# Define the directory where the Evaluation will be created\n",
    "test_eval_dir = Path(Path().home(), \"temp\", \"08_add_udfs\")\n",
    "shutil.rmtree(test_eval_dir, ignore_errors=True)\n",
    "\n",
    "# Create an Evaluation object and create the directory\n",
    "ev = teehr.Evaluation(dir_path=test_eval_dir, create_dir=True)"
   ]
  },
  {
   "cell_type": "markdown",
   "metadata": {},
   "source": [
    "### Clone Evaluation Data form S3\n",
    "As mentioned above, for this exercise we will be cloning a complete Evaluation dataset from the TEEHR S3 bucket.  First we will list the available Evaluations and then we will clone the `e0_2_location_example` evaluation which is  a small example Evaluation that only contains 2 gages."
   ]
  },
  {
   "cell_type": "code",
   "execution_count": 3,
   "metadata": {},
   "outputs": [
    {
     "data": {
      "text/html": [
       "<div>\n",
       "<style scoped>\n",
       "    .dataframe tbody tr th:only-of-type {\n",
       "        vertical-align: middle;\n",
       "    }\n",
       "\n",
       "    .dataframe tbody tr th {\n",
       "        vertical-align: top;\n",
       "    }\n",
       "\n",
       "    .dataframe thead th {\n",
       "        text-align: right;\n",
       "    }\n",
       "</style>\n",
       "<table border=\"1\" class=\"dataframe\">\n",
       "  <thead>\n",
       "    <tr style=\"text-align: right;\">\n",
       "      <th></th>\n",
       "      <th>name</th>\n",
       "      <th>description</th>\n",
       "      <th>url</th>\n",
       "    </tr>\n",
       "  </thead>\n",
       "  <tbody>\n",
       "    <tr>\n",
       "      <th>0</th>\n",
       "      <td>e0_2_location_example</td>\n",
       "      <td>Example evaluation datsets with 2 USGS gages</td>\n",
       "      <td>s3a://ciroh-rti-public-data/teehr-data-warehou...</td>\n",
       "    </tr>\n",
       "    <tr>\n",
       "      <th>1</th>\n",
       "      <td>e1_camels_daily_streamflow</td>\n",
       "      <td>Daily average streamflow at ther Camels basins</td>\n",
       "      <td>s3a://ciroh-rti-public-data/teehr-data-warehou...</td>\n",
       "    </tr>\n",
       "    <tr>\n",
       "      <th>2</th>\n",
       "      <td>e2_camels_hourly_streamflow</td>\n",
       "      <td>Hourly instantaneous streamflow at ther Camels...</td>\n",
       "      <td>s3a://ciroh-rti-public-data/teehr-data-warehou...</td>\n",
       "    </tr>\n",
       "    <tr>\n",
       "      <th>3</th>\n",
       "      <td>e3_usgs_hourly_streamflow</td>\n",
       "      <td>Hourly instantaneous streamflow at USGS CONUS ...</td>\n",
       "      <td>s3a://ciroh-rti-public-data/teehr-data-warehou...</td>\n",
       "    </tr>\n",
       "  </tbody>\n",
       "</table>\n",
       "</div>"
      ],
      "text/plain": [
       "                          name  \\\n",
       "0        e0_2_location_example   \n",
       "1   e1_camels_daily_streamflow   \n",
       "2  e2_camels_hourly_streamflow   \n",
       "3    e3_usgs_hourly_streamflow   \n",
       "\n",
       "                                         description  \\\n",
       "0       Example evaluation datsets with 2 USGS gages   \n",
       "1     Daily average streamflow at ther Camels basins   \n",
       "2  Hourly instantaneous streamflow at ther Camels...   \n",
       "3  Hourly instantaneous streamflow at USGS CONUS ...   \n",
       "\n",
       "                                                 url  \n",
       "0  s3a://ciroh-rti-public-data/teehr-data-warehou...  \n",
       "1  s3a://ciroh-rti-public-data/teehr-data-warehou...  \n",
       "2  s3a://ciroh-rti-public-data/teehr-data-warehou...  \n",
       "3  s3a://ciroh-rti-public-data/teehr-data-warehou...  "
      ]
     },
     "execution_count": 3,
     "metadata": {},
     "output_type": "execute_result"
    }
   ],
   "source": [
    "# List the evaluations in the S3 bucket\n",
    "ev.list_s3_evaluations()"
   ]
  },
  {
   "cell_type": "code",
   "execution_count": 4,
   "metadata": {
    "tags": [
     "hide-output"
    ]
   },
   "outputs": [
    {
     "name": "stderr",
     "output_type": "stream",
     "text": [
      "24/12/15 23:08:31 WARN MetricsConfig: Cannot locate configuration: tried hadoop-metrics2-s3a-file-system.properties,hadoop-metrics2.properties\n",
      "24/12/15 23:08:46 WARN SparkStringUtils: Truncated the string representation of a plan since it was too large. This behavior can be adjusted by setting 'spark.sql.debug.maxToStringFields'.\n",
      "                                                                                \r"
     ]
    }
   ],
   "source": [
    "# Clone the e0_2_location_example evaluation from the S3 bucket\n",
    "ev.clone_from_s3(\"e0_2_location_example\")"
   ]
  },
  {
   "cell_type": "markdown",
   "metadata": {},
   "source": [
    "Now we will get right to it.  Let start by looking at the dat in the `joined_timeseries` table."
   ]
  },
  {
   "cell_type": "code",
   "execution_count": 5,
   "metadata": {},
   "outputs": [
    {
     "data": {
      "text/html": [
       "<div>\n",
       "<style scoped>\n",
       "    .dataframe tbody tr th:only-of-type {\n",
       "        vertical-align: middle;\n",
       "    }\n",
       "\n",
       "    .dataframe tbody tr th {\n",
       "        vertical-align: top;\n",
       "    }\n",
       "\n",
       "    .dataframe thead th {\n",
       "        text-align: right;\n",
       "    }\n",
       "</style>\n",
       "<table border=\"1\" class=\"dataframe\">\n",
       "  <thead>\n",
       "    <tr style=\"text-align: right;\">\n",
       "      <th></th>\n",
       "      <th>reference_time</th>\n",
       "      <th>value_time</th>\n",
       "      <th>primary_location_id</th>\n",
       "      <th>secondary_location_id</th>\n",
       "      <th>primary_value</th>\n",
       "      <th>secondary_value</th>\n",
       "      <th>unit_name</th>\n",
       "      <th>location_id</th>\n",
       "      <th>frac_snow</th>\n",
       "      <th>frac_urban</th>\n",
       "      <th>...</th>\n",
       "      <th>q_mean</th>\n",
       "      <th>baseflow_index</th>\n",
       "      <th>river_forecast_center</th>\n",
       "      <th>month</th>\n",
       "      <th>year</th>\n",
       "      <th>water_year</th>\n",
       "      <th>primary_normalized_flow</th>\n",
       "      <th>secondary_normalized_flow</th>\n",
       "      <th>configuration_name</th>\n",
       "      <th>variable_name</th>\n",
       "    </tr>\n",
       "  </thead>\n",
       "  <tbody>\n",
       "    <tr>\n",
       "      <th>0</th>\n",
       "      <td>NaT</td>\n",
       "      <td>2000-10-01 00:00:00</td>\n",
       "      <td>usgs-14316700</td>\n",
       "      <td>nwm30-23894572</td>\n",
       "      <td>1.132674</td>\n",
       "      <td>0.38</td>\n",
       "      <td>m^3/s</td>\n",
       "      <td>usgs-14316700</td>\n",
       "      <td>0.176336580742005</td>\n",
       "      <td>0.0</td>\n",
       "      <td>...</td>\n",
       "      <td>19.909239533259516</td>\n",
       "      <td>0.508616082222394</td>\n",
       "      <td>NWRFC</td>\n",
       "      <td>10</td>\n",
       "      <td>2000</td>\n",
       "      <td>2001</td>\n",
       "      <td>0.001927</td>\n",
       "      <td>0.000646</td>\n",
       "      <td>nwm30_retrospective</td>\n",
       "      <td>streamflow_hourly_inst</td>\n",
       "    </tr>\n",
       "    <tr>\n",
       "      <th>1</th>\n",
       "      <td>NaT</td>\n",
       "      <td>2000-10-01 00:00:00</td>\n",
       "      <td>usgs-14138800</td>\n",
       "      <td>nwm30-23736071</td>\n",
       "      <td>3.341388</td>\n",
       "      <td>0.06</td>\n",
       "      <td>m^3/s</td>\n",
       "      <td>usgs-14138800</td>\n",
       "      <td>0.317266212149897</td>\n",
       "      <td>0.0</td>\n",
       "      <td>...</td>\n",
       "      <td>1.5975415858787265</td>\n",
       "      <td>0.457869583655904</td>\n",
       "      <td>NWRFC</td>\n",
       "      <td>10</td>\n",
       "      <td>2000</td>\n",
       "      <td>2001</td>\n",
       "      <td>0.157613</td>\n",
       "      <td>0.002830</td>\n",
       "      <td>nwm30_retrospective</td>\n",
       "      <td>streamflow_hourly_inst</td>\n",
       "    </tr>\n",
       "    <tr>\n",
       "      <th>2</th>\n",
       "      <td>NaT</td>\n",
       "      <td>2000-10-01 01:00:00</td>\n",
       "      <td>usgs-14316700</td>\n",
       "      <td>nwm30-23894572</td>\n",
       "      <td>1.132674</td>\n",
       "      <td>0.38</td>\n",
       "      <td>m^3/s</td>\n",
       "      <td>usgs-14316700</td>\n",
       "      <td>0.176336580742005</td>\n",
       "      <td>0.0</td>\n",
       "      <td>...</td>\n",
       "      <td>19.909239533259516</td>\n",
       "      <td>0.508616082222394</td>\n",
       "      <td>NWRFC</td>\n",
       "      <td>10</td>\n",
       "      <td>2000</td>\n",
       "      <td>2001</td>\n",
       "      <td>0.001927</td>\n",
       "      <td>0.000646</td>\n",
       "      <td>nwm30_retrospective</td>\n",
       "      <td>streamflow_hourly_inst</td>\n",
       "    </tr>\n",
       "    <tr>\n",
       "      <th>3</th>\n",
       "      <td>NaT</td>\n",
       "      <td>2000-10-01 01:00:00</td>\n",
       "      <td>usgs-14138800</td>\n",
       "      <td>nwm30-23736071</td>\n",
       "      <td>3.992675</td>\n",
       "      <td>0.06</td>\n",
       "      <td>m^3/s</td>\n",
       "      <td>usgs-14138800</td>\n",
       "      <td>0.317266212149897</td>\n",
       "      <td>0.0</td>\n",
       "      <td>...</td>\n",
       "      <td>1.5975415858787265</td>\n",
       "      <td>0.457869583655904</td>\n",
       "      <td>NWRFC</td>\n",
       "      <td>10</td>\n",
       "      <td>2000</td>\n",
       "      <td>2001</td>\n",
       "      <td>0.188334</td>\n",
       "      <td>0.002830</td>\n",
       "      <td>nwm30_retrospective</td>\n",
       "      <td>streamflow_hourly_inst</td>\n",
       "    </tr>\n",
       "    <tr>\n",
       "      <th>4</th>\n",
       "      <td>NaT</td>\n",
       "      <td>2000-10-01 02:00:00</td>\n",
       "      <td>usgs-14316700</td>\n",
       "      <td>nwm30-23894572</td>\n",
       "      <td>1.132674</td>\n",
       "      <td>0.38</td>\n",
       "      <td>m^3/s</td>\n",
       "      <td>usgs-14316700</td>\n",
       "      <td>0.176336580742005</td>\n",
       "      <td>0.0</td>\n",
       "      <td>...</td>\n",
       "      <td>19.909239533259516</td>\n",
       "      <td>0.508616082222394</td>\n",
       "      <td>NWRFC</td>\n",
       "      <td>10</td>\n",
       "      <td>2000</td>\n",
       "      <td>2001</td>\n",
       "      <td>0.001927</td>\n",
       "      <td>0.000646</td>\n",
       "      <td>nwm30_retrospective</td>\n",
       "      <td>streamflow_hourly_inst</td>\n",
       "    </tr>\n",
       "  </tbody>\n",
       "</table>\n",
       "<p>5 rows × 40 columns</p>\n",
       "</div>"
      ],
      "text/plain": [
       "  reference_time          value_time primary_location_id  \\\n",
       "0            NaT 2000-10-01 00:00:00       usgs-14316700   \n",
       "1            NaT 2000-10-01 00:00:00       usgs-14138800   \n",
       "2            NaT 2000-10-01 01:00:00       usgs-14316700   \n",
       "3            NaT 2000-10-01 01:00:00       usgs-14138800   \n",
       "4            NaT 2000-10-01 02:00:00       usgs-14316700   \n",
       "\n",
       "  secondary_location_id  primary_value  secondary_value unit_name  \\\n",
       "0        nwm30-23894572       1.132674             0.38     m^3/s   \n",
       "1        nwm30-23736071       3.341388             0.06     m^3/s   \n",
       "2        nwm30-23894572       1.132674             0.38     m^3/s   \n",
       "3        nwm30-23736071       3.992675             0.06     m^3/s   \n",
       "4        nwm30-23894572       1.132674             0.38     m^3/s   \n",
       "\n",
       "     location_id          frac_snow frac_urban  ...              q_mean  \\\n",
       "0  usgs-14316700  0.176336580742005        0.0  ...  19.909239533259516   \n",
       "1  usgs-14138800  0.317266212149897        0.0  ...  1.5975415858787265   \n",
       "2  usgs-14316700  0.176336580742005        0.0  ...  19.909239533259516   \n",
       "3  usgs-14138800  0.317266212149897        0.0  ...  1.5975415858787265   \n",
       "4  usgs-14316700  0.176336580742005        0.0  ...  19.909239533259516   \n",
       "\n",
       "      baseflow_index river_forecast_center month  year water_year  \\\n",
       "0  0.508616082222394                 NWRFC    10  2000       2001   \n",
       "1  0.457869583655904                 NWRFC    10  2000       2001   \n",
       "2  0.508616082222394                 NWRFC    10  2000       2001   \n",
       "3  0.457869583655904                 NWRFC    10  2000       2001   \n",
       "4  0.508616082222394                 NWRFC    10  2000       2001   \n",
       "\n",
       "  primary_normalized_flow secondary_normalized_flow   configuration_name  \\\n",
       "0                0.001927                  0.000646  nwm30_retrospective   \n",
       "1                0.157613                  0.002830  nwm30_retrospective   \n",
       "2                0.001927                  0.000646  nwm30_retrospective   \n",
       "3                0.188334                  0.002830  nwm30_retrospective   \n",
       "4                0.001927                  0.000646  nwm30_retrospective   \n",
       "\n",
       "            variable_name  \n",
       "0  streamflow_hourly_inst  \n",
       "1  streamflow_hourly_inst  \n",
       "2  streamflow_hourly_inst  \n",
       "3  streamflow_hourly_inst  \n",
       "4  streamflow_hourly_inst  \n",
       "\n",
       "[5 rows x 40 columns]"
      ]
     },
     "execution_count": 5,
     "metadata": {},
     "output_type": "execute_result"
    }
   ],
   "source": [
    "ev.joined_timeseries.to_pandas().head()"
   ]
  },
  {
   "cell_type": "markdown",
   "metadata": {},
   "source": [
    "Lets also query the `primary_timeseries` and plot the timeseries data using the `df.teehr.timeseries_plot()` method."
   ]
  },
  {
   "cell_type": "code",
   "execution_count": 6,
   "metadata": {},
   "outputs": [
    {
     "name": "stdout",
     "output_type": "stream",
     "text": [
      "+--------------+-------------------+-----+---------+--------------+------+-------------------+--------------------+\n",
      "|reference_time|         value_time|value|unit_name|   location_id|member| configuration_name|       variable_name|\n",
      "+--------------+-------------------+-----+---------+--------------+------+-------------------+--------------------+\n",
      "|          NULL|2000-10-01 00:00:00| 0.38|    m^3/s|nwm30-23894572|  NULL|nwm30_retrospective|streamflow_hourly...|\n",
      "|          NULL|2000-10-01 00:00:00| 0.06|    m^3/s|nwm30-23736071|  NULL|nwm30_retrospective|streamflow_hourly...|\n",
      "|          NULL|2000-10-01 01:00:00| 0.38|    m^3/s|nwm30-23894572|  NULL|nwm30_retrospective|streamflow_hourly...|\n",
      "|          NULL|2000-10-01 01:00:00| 0.06|    m^3/s|nwm30-23736071|  NULL|nwm30_retrospective|streamflow_hourly...|\n",
      "|          NULL|2000-10-01 02:00:00| 0.38|    m^3/s|nwm30-23894572|  NULL|nwm30_retrospective|streamflow_hourly...|\n",
      "|          NULL|2000-10-01 02:00:00| 0.06|    m^3/s|nwm30-23736071|  NULL|nwm30_retrospective|streamflow_hourly...|\n",
      "|          NULL|2000-10-01 03:00:00| 0.38|    m^3/s|nwm30-23894572|  NULL|nwm30_retrospective|streamflow_hourly...|\n",
      "|          NULL|2000-10-01 03:00:00| 0.06|    m^3/s|nwm30-23736071|  NULL|nwm30_retrospective|streamflow_hourly...|\n",
      "|          NULL|2000-10-01 04:00:00| 0.38|    m^3/s|nwm30-23894572|  NULL|nwm30_retrospective|streamflow_hourly...|\n",
      "|          NULL|2000-10-01 04:00:00| 0.06|    m^3/s|nwm30-23736071|  NULL|nwm30_retrospective|streamflow_hourly...|\n",
      "|          NULL|2000-10-01 05:00:00| 0.38|    m^3/s|nwm30-23894572|  NULL|nwm30_retrospective|streamflow_hourly...|\n",
      "|          NULL|2000-10-01 05:00:00| 0.06|    m^3/s|nwm30-23736071|  NULL|nwm30_retrospective|streamflow_hourly...|\n",
      "|          NULL|2000-10-01 06:00:00| 0.38|    m^3/s|nwm30-23894572|  NULL|nwm30_retrospective|streamflow_hourly...|\n",
      "|          NULL|2000-10-01 06:00:00| 0.06|    m^3/s|nwm30-23736071|  NULL|nwm30_retrospective|streamflow_hourly...|\n",
      "|          NULL|2000-10-01 07:00:00| 0.38|    m^3/s|nwm30-23894572|  NULL|nwm30_retrospective|streamflow_hourly...|\n",
      "|          NULL|2000-10-01 07:00:00| 0.06|    m^3/s|nwm30-23736071|  NULL|nwm30_retrospective|streamflow_hourly...|\n",
      "|          NULL|2000-10-01 08:00:00| 0.38|    m^3/s|nwm30-23894572|  NULL|nwm30_retrospective|streamflow_hourly...|\n",
      "|          NULL|2000-10-01 08:00:00| 0.06|    m^3/s|nwm30-23736071|  NULL|nwm30_retrospective|streamflow_hourly...|\n",
      "|          NULL|2000-10-01 09:00:00| 0.38|    m^3/s|nwm30-23894572|  NULL|nwm30_retrospective|streamflow_hourly...|\n",
      "|          NULL|2000-10-01 09:00:00| 0.07|    m^3/s|nwm30-23736071|  NULL|nwm30_retrospective|streamflow_hourly...|\n",
      "+--------------+-------------------+-----+---------+--------------+------+-------------------+--------------------+\n",
      "only showing top 20 rows\n",
      "\n"
     ]
    }
   ],
   "source": [
    "sdf = ev.secondary_timeseries.to_sdf()\n",
    "validated_sdf = ev.secondary_timeseries._validate(sdf, add_missing_columns=True)\n",
    "ev.secondary_timeseries._write_spark_df(validated_sdf)\n",
    "sdf = ev.secondary_timeseries.to_sdf()\n",
    "sdf.show()\n"
   ]
  },
  {
   "cell_type": "code",
   "execution_count": 7,
   "metadata": {},
   "outputs": [
    {
     "name": "stderr",
     "output_type": "stream",
     "text": [
      "                                                                                \r"
     ]
    }
   ],
   "source": [
    "ev.joined_timeseries.create(add_attrs=True)"
   ]
  },
  {
   "cell_type": "code",
   "execution_count": 8,
   "metadata": {},
   "outputs": [
    {
     "name": "stdout",
     "output_type": "stream",
     "text": [
      "+--------------+-------------------+-------------------+---------------------+-------------+---------------+---------+------+-------------+-----------------+----------+-----------------+----------+-------------+----------------+-----------------+-----------+------------------+-------------------+-----------+-------------------+------------+----------------+----------------+--------------+--------------------+-----------+---------+-----------------+--------------------+-----------------+------------------+-----------------+---------------------+-------------------+--------------------+\n",
      "|reference_time|         value_time|primary_location_id|secondary_location_id|primary_value|secondary_value|unit_name|member|  location_id|        frac_snow|frac_urban|    soil_porosity|slope_mean|drainage_area|          p_mean|          aridity|zero_q_freq|     p_seasonality|                 q5|high_q_freq|dom_land_cover_frac|stream_order|        pet_mean|       slope_fdc|high_prec_freq|        ecoregion_L2|forest_frac|elev_mean|              q95|      dom_land_cover|     runoff_ratio|            q_mean|   baseflow_index|river_forecast_center| configuration_name|       variable_name|\n",
      "+--------------+-------------------+-------------------+---------------------+-------------+---------------+---------+------+-------------+-----------------+----------+-----------------+----------+-------------+----------------+-----------------+-----------+------------------+-------------------+-----------+-------------------+------------+----------------+----------------+--------------+--------------------+-----------+---------+-----------------+--------------------+-----------------+------------------+-----------------+---------------------+-------------------+--------------------+\n",
      "|          NULL|2000-10-01 00:00:00|      usgs-14316700|       nwm30-23894572|    1.1326739|           0.38|    m^3/s|  NULL|usgs-14316700|0.176336580742005|       0.0|0.443106792908292|  119.0892|        587.9|4.54340041067762|0.501305088892464|        0.0|-0.821172341608197| 0.9627727841279988|      16.15|  0.999999999999874|           5| 2.2776297467488|2.23102329485064|         14.75|6.2  WESTERN CORD...|        1.0|   952.26| 72.4911272755203|    Evergreen Nee...|0.643997143591881|19.909239533259516|0.508616082222394|                NWRFC|nwm30_retrospective|streamflow_hourly...|\n",
      "|          NULL|2000-10-01 00:00:00|      usgs-14138800|       nwm30-23736071|    3.3413877|           0.06|    m^3/s|  NULL|usgs-14138800|0.317266212149897|       0.0|0.443124776255651| 142.23871|         21.2|7.72975085557837|0.270945979187767|        0.0|-0.814759416733027|0.06203371183893283|       12.8|                1.0|           3|2.09434491444216|1.81851920741996|         12.55|6.2  WESTERN CORD...|        1.0|   821.62|5.780414057718752|    Evergreen Nee...|0.842295649815027|1.5975415858787265|0.457869583655904|                NWRFC|nwm30_retrospective|streamflow_hourly...|\n",
      "|          NULL|2000-10-01 01:00:00|      usgs-14316700|       nwm30-23894572|    1.1326739|           0.38|    m^3/s|  NULL|usgs-14316700|0.176336580742005|       0.0|0.443106792908292|  119.0892|        587.9|4.54340041067762|0.501305088892464|        0.0|-0.821172341608197| 0.9627727841279988|      16.15|  0.999999999999874|           5| 2.2776297467488|2.23102329485064|         14.75|6.2  WESTERN CORD...|        1.0|   952.26| 72.4911272755203|    Evergreen Nee...|0.643997143591881|19.909239533259516|0.508616082222394|                NWRFC|nwm30_retrospective|streamflow_hourly...|\n",
      "|          NULL|2000-10-01 01:00:00|      usgs-14138800|       nwm30-23736071|    3.9926753|           0.06|    m^3/s|  NULL|usgs-14138800|0.317266212149897|       0.0|0.443124776255651| 142.23871|         21.2|7.72975085557837|0.270945979187767|        0.0|-0.814759416733027|0.06203371183893283|       12.8|                1.0|           3|2.09434491444216|1.81851920741996|         12.55|6.2  WESTERN CORD...|        1.0|   821.62|5.780414057718752|    Evergreen Nee...|0.842295649815027|1.5975415858787265|0.457869583655904|                NWRFC|nwm30_retrospective|streamflow_hourly...|\n",
      "|          NULL|2000-10-01 02:00:00|      usgs-14316700|       nwm30-23894572|    1.1326739|           0.38|    m^3/s|  NULL|usgs-14316700|0.176336580742005|       0.0|0.443106792908292|  119.0892|        587.9|4.54340041067762|0.501305088892464|        0.0|-0.821172341608197| 0.9627727841279988|      16.15|  0.999999999999874|           5| 2.2776297467488|2.23102329485064|         14.75|6.2  WESTERN CORD...|        1.0|   952.26| 72.4911272755203|    Evergreen Nee...|0.643997143591881|19.909239533259516|0.508616082222394|                NWRFC|nwm30_retrospective|streamflow_hourly...|\n",
      "|          NULL|2000-10-01 02:00:00|      usgs-14138800|       nwm30-23736071|     4.445745|           0.06|    m^3/s|  NULL|usgs-14138800|0.317266212149897|       0.0|0.443124776255651| 142.23871|         21.2|7.72975085557837|0.270945979187767|        0.0|-0.814759416733027|0.06203371183893283|       12.8|                1.0|           3|2.09434491444216|1.81851920741996|         12.55|6.2  WESTERN CORD...|        1.0|   821.62|5.780414057718752|    Evergreen Nee...|0.842295649815027|1.5975415858787265|0.457869583655904|                NWRFC|nwm30_retrospective|streamflow_hourly...|\n",
      "|          NULL|2000-10-01 03:00:00|      usgs-14316700|       nwm30-23894572|    1.1326739|           0.38|    m^3/s|  NULL|usgs-14316700|0.176336580742005|       0.0|0.443106792908292|  119.0892|        587.9|4.54340041067762|0.501305088892464|        0.0|-0.821172341608197| 0.9627727841279988|      16.15|  0.999999999999874|           5| 2.2776297467488|2.23102329485064|         14.75|6.2  WESTERN CORD...|        1.0|   952.26| 72.4911272755203|    Evergreen Nee...|0.643997143591881|19.909239533259516|0.508616082222394|                NWRFC|nwm30_retrospective|streamflow_hourly...|\n",
      "|          NULL|2000-10-01 03:00:00|      usgs-14138800|       nwm30-23736071|     5.408518|           0.06|    m^3/s|  NULL|usgs-14138800|0.317266212149897|       0.0|0.443124776255651| 142.23871|         21.2|7.72975085557837|0.270945979187767|        0.0|-0.814759416733027|0.06203371183893283|       12.8|                1.0|           3|2.09434491444216|1.81851920741996|         12.55|6.2  WESTERN CORD...|        1.0|   821.62|5.780414057718752|    Evergreen Nee...|0.842295649815027|1.5975415858787265|0.457869583655904|                NWRFC|nwm30_retrospective|streamflow_hourly...|\n",
      "|          NULL|2000-10-01 04:00:00|      usgs-14316700|       nwm30-23894572|    1.1326739|           0.38|    m^3/s|  NULL|usgs-14316700|0.176336580742005|       0.0|0.443106792908292|  119.0892|        587.9|4.54340041067762|0.501305088892464|        0.0|-0.821172341608197| 0.9627727841279988|      16.15|  0.999999999999874|           5| 2.2776297467488|2.23102329485064|         14.75|6.2  WESTERN CORD...|        1.0|   952.26| 72.4911272755203|    Evergreen Nee...|0.643997143591881|19.909239533259516|0.508616082222394|                NWRFC|nwm30_retrospective|streamflow_hourly...|\n",
      "|          NULL|2000-10-01 04:00:00|      usgs-14138800|       nwm30-23736071|    5.6067357|           0.06|    m^3/s|  NULL|usgs-14138800|0.317266212149897|       0.0|0.443124776255651| 142.23871|         21.2|7.72975085557837|0.270945979187767|        0.0|-0.814759416733027|0.06203371183893283|       12.8|                1.0|           3|2.09434491444216|1.81851920741996|         12.55|6.2  WESTERN CORD...|        1.0|   821.62|5.780414057718752|    Evergreen Nee...|0.842295649815027|1.5975415858787265|0.457869583655904|                NWRFC|nwm30_retrospective|streamflow_hourly...|\n",
      "|          NULL|2000-10-01 05:00:00|      usgs-14316700|       nwm30-23894572|    1.1326739|           0.38|    m^3/s|  NULL|usgs-14316700|0.176336580742005|       0.0|0.443106792908292|  119.0892|        587.9|4.54340041067762|0.501305088892464|        0.0|-0.821172341608197| 0.9627727841279988|      16.15|  0.999999999999874|           5| 2.2776297467488|2.23102329485064|         14.75|6.2  WESTERN CORD...|        1.0|   952.26| 72.4911272755203|    Evergreen Nee...|0.643997143591881|19.909239533259516|0.508616082222394|                NWRFC|nwm30_retrospective|streamflow_hourly...|\n",
      "|          NULL|2000-10-01 05:00:00|      usgs-14138800|       nwm30-23736071|     5.153666|           0.06|    m^3/s|  NULL|usgs-14138800|0.317266212149897|       0.0|0.443124776255651| 142.23871|         21.2|7.72975085557837|0.270945979187767|        0.0|-0.814759416733027|0.06203371183893283|       12.8|                1.0|           3|2.09434491444216|1.81851920741996|         12.55|6.2  WESTERN CORD...|        1.0|   821.62|5.780414057718752|    Evergreen Nee...|0.842295649815027|1.5975415858787265|0.457869583655904|                NWRFC|nwm30_retrospective|streamflow_hourly...|\n",
      "|          NULL|2000-10-01 06:00:00|      usgs-14316700|       nwm30-23894572|    1.1326739|           0.38|    m^3/s|  NULL|usgs-14316700|0.176336580742005|       0.0|0.443106792908292|  119.0892|        587.9|4.54340041067762|0.501305088892464|        0.0|-0.821172341608197| 0.9627727841279988|      16.15|  0.999999999999874|           5| 2.2776297467488|2.23102329485064|         14.75|6.2  WESTERN CORD...|        1.0|   952.26| 72.4911272755203|    Evergreen Nee...|0.643997143591881|19.909239533259516|0.508616082222394|                NWRFC|nwm30_retrospective|streamflow_hourly...|\n",
      "|          NULL|2000-10-01 06:00:00|      usgs-14138800|       nwm30-23736071|    4.5590124|           0.06|    m^3/s|  NULL|usgs-14138800|0.317266212149897|       0.0|0.443124776255651| 142.23871|         21.2|7.72975085557837|0.270945979187767|        0.0|-0.814759416733027|0.06203371183893283|       12.8|                1.0|           3|2.09434491444216|1.81851920741996|         12.55|6.2  WESTERN CORD...|        1.0|   821.62|5.780414057718752|    Evergreen Nee...|0.842295649815027|1.5975415858787265|0.457869583655904|                NWRFC|nwm30_retrospective|streamflow_hourly...|\n",
      "|          NULL|2000-10-01 07:00:00|      usgs-14316700|       nwm30-23894572|    1.1326739|           0.38|    m^3/s|  NULL|usgs-14316700|0.176336580742005|       0.0|0.443106792908292|  119.0892|        587.9|4.54340041067762|0.501305088892464|        0.0|-0.821172341608197| 0.9627727841279988|      16.15|  0.999999999999874|           5| 2.2776297467488|2.23102329485064|         14.75|6.2  WESTERN CORD...|        1.0|   952.26| 72.4911272755203|    Evergreen Nee...|0.643997143591881|19.909239533259516|0.508616082222394|                NWRFC|nwm30_retrospective|streamflow_hourly...|\n",
      "|          NULL|2000-10-01 07:00:00|      usgs-14138800|       nwm30-23736071|    5.2952504|           0.06|    m^3/s|  NULL|usgs-14138800|0.317266212149897|       0.0|0.443124776255651| 142.23871|         21.2|7.72975085557837|0.270945979187767|        0.0|-0.814759416733027|0.06203371183893283|       12.8|                1.0|           3|2.09434491444216|1.81851920741996|         12.55|6.2  WESTERN CORD...|        1.0|   821.62|5.780414057718752|    Evergreen Nee...|0.842295649815027|1.5975415858787265|0.457869583655904|                NWRFC|nwm30_retrospective|streamflow_hourly...|\n",
      "|          NULL|2000-10-01 08:00:00|      usgs-14316700|       nwm30-23894572|    1.1326739|           0.38|    m^3/s|  NULL|usgs-14316700|0.176336580742005|       0.0|0.443106792908292|  119.0892|        587.9|4.54340041067762|0.501305088892464|        0.0|-0.821172341608197| 0.9627727841279988|      16.15|  0.999999999999874|           5| 2.2776297467488|2.23102329485064|         14.75|6.2  WESTERN CORD...|        1.0|   952.26| 72.4911272755203|    Evergreen Nee...|0.643997143591881|19.909239533259516|0.508616082222394|                NWRFC|nwm30_retrospective|streamflow_hourly...|\n",
      "|          NULL|2000-10-01 08:00:00|      usgs-14138800|       nwm30-23736071|     7.730499|           0.06|    m^3/s|  NULL|usgs-14138800|0.317266212149897|       0.0|0.443124776255651| 142.23871|         21.2|7.72975085557837|0.270945979187767|        0.0|-0.814759416733027|0.06203371183893283|       12.8|                1.0|           3|2.09434491444216|1.81851920741996|         12.55|6.2  WESTERN CORD...|        1.0|   821.62|5.780414057718752|    Evergreen Nee...|0.842295649815027|1.5975415858787265|0.457869583655904|                NWRFC|nwm30_retrospective|streamflow_hourly...|\n",
      "|          NULL|2000-10-01 09:00:00|      usgs-14316700|       nwm30-23894572|    1.1326739|           0.38|    m^3/s|  NULL|usgs-14316700|0.176336580742005|       0.0|0.443106792908292|  119.0892|        587.9|4.54340041067762|0.501305088892464|        0.0|-0.821172341608197| 0.9627727841279988|      16.15|  0.999999999999874|           5| 2.2776297467488|2.23102329485064|         14.75|6.2  WESTERN CORD...|        1.0|   952.26| 72.4911272755203|    Evergreen Nee...|0.643997143591881|19.909239533259516|0.508616082222394|                NWRFC|nwm30_retrospective|streamflow_hourly...|\n",
      "|          NULL|2000-10-01 09:00:00|      usgs-14138800|       nwm30-23736071|     9.825946|           0.07|    m^3/s|  NULL|usgs-14138800|0.317266212149897|       0.0|0.443124776255651| 142.23871|         21.2|7.72975085557837|0.270945979187767|        0.0|-0.814759416733027|0.06203371183893283|       12.8|                1.0|           3|2.09434491444216|1.81851920741996|         12.55|6.2  WESTERN CORD...|        1.0|   821.62|5.780414057718752|    Evergreen Nee...|0.842295649815027|1.5975415858787265|0.457869583655904|                NWRFC|nwm30_retrospective|streamflow_hourly...|\n",
      "+--------------+-------------------+-------------------+---------------------+-------------+---------------+---------+------+-------------+-----------------+----------+-----------------+----------+-------------+----------------+-----------------+-----------+------------------+-------------------+-----------+-------------------+------------+----------------+----------------+--------------+--------------------+-----------+---------+-----------------+--------------------+-----------------+------------------+-----------------+---------------------+-------------------+--------------------+\n",
      "only showing top 20 rows\n",
      "\n"
     ]
    }
   ],
   "source": [
    "sdf = ev.joined_timeseries.to_sdf()\n",
    "sdf.show()"
   ]
  },
  {
   "cell_type": "code",
   "execution_count": 9,
   "metadata": {},
   "outputs": [],
   "source": [
    "from teehr import RowLevelUDF as rlu\n",
    "from teehr import TimeseriesAwareUDF as tau"
   ]
  },
  {
   "cell_type": "code",
   "execution_count": null,
   "metadata": {},
   "outputs": [],
   "source": [
    "sdf = ev.joined_timeseries.add_udf_columns([\n",
    "    rlu.Month(),\n",
    "    rlu.Year(),\n",
    "    rlu.WaterYear(),\n",
    "    rlu.NormalizedFlow(),\n",
    "    rlu.Seasons()\n",
    "]).to_sdf()\n",
    "sdf.show()"
   ]
  },
  {
   "cell_type": "code",
   "execution_count": null,
   "metadata": {},
   "outputs": [],
   "source": [
    "ev.joined_timeseries.to_sdf().show()"
   ]
  },
  {
   "cell_type": "code",
   "execution_count": null,
   "metadata": {},
   "outputs": [],
   "source": [
    "ev.joined_timeseries.add_udf_columns([\n",
    "    rlu.Month(),\n",
    "    rlu.Year(),\n",
    "    rlu.WaterYear(),\n",
    "    rlu.NormalizedFlow(),\n",
    "    rlu.Seasons()\n",
    "]).write()\n"
   ]
  },
  {
   "cell_type": "code",
   "execution_count": null,
   "metadata": {},
   "outputs": [],
   "source": [
    "ev.joined_timeseries.to_sdf().show()"
   ]
  },
  {
   "cell_type": "code",
   "execution_count": null,
   "metadata": {},
   "outputs": [],
   "source": [
    "sdf = ev.joined_timeseries.add_udf_columns([\n",
    "    tau.PercentileEventDetection()\n",
    "]).to_sdf()\n",
    "sdf.show()"
   ]
  },
  {
   "cell_type": "code",
   "execution_count": null,
   "metadata": {},
   "outputs": [],
   "source": [
    "ev.joined_timeseries.to_sdf().show()"
   ]
  },
  {
   "cell_type": "code",
   "execution_count": null,
   "metadata": {},
   "outputs": [],
   "source": [
    "ev.joined_timeseries.add_udf_columns([\n",
    "    tau.PercentileEventDetection()\n",
    "]).write()"
   ]
  },
  {
   "cell_type": "code",
   "execution_count": null,
   "metadata": {},
   "outputs": [],
   "source": [
    "ev.joined_timeseries.to_sdf().show()"
   ]
  },
  {
   "cell_type": "code",
   "execution_count": null,
   "metadata": {},
   "outputs": [],
   "source": [
    "import hvplot.pandas  # noqa"
   ]
  },
  {
   "cell_type": "code",
   "execution_count": null,
   "metadata": {},
   "outputs": [],
   "source": [
    "pdf = ev.joined_timeseries.filter([\n",
    "    \"primary_location_id = 'usgs-14138800'\",\n",
    "    \"event = true\",\n",
    "]).to_pandas()"
   ]
  },
  {
   "cell_type": "code",
   "execution_count": null,
   "metadata": {},
   "outputs": [],
   "source": [
    "primary_plot = pdf.hvplot.points(x=\"value_time\", y=\"primary_value\", color=\"event_id\") #.opts(width=1200, height=400)"
   ]
  },
  {
   "cell_type": "code",
   "execution_count": null,
   "metadata": {},
   "outputs": [],
   "source": [
    "primary_plot.opts(width=1200, height=400)"
   ]
  },
  {
   "cell_type": "markdown",
   "metadata": {},
   "source": [
    "### Metrics"
   ]
  },
  {
   "cell_type": "code",
   "execution_count": null,
   "metadata": {},
   "outputs": [],
   "source": [
    "(\n",
    "    ev.metrics\n",
    "    .query(\n",
    "        group_by=[\"configuration_name\", \"primary_location_id\", \"event_id\"],\n",
    "        filters=[\n",
    "            \"primary_location_id = 'usgs-14138800'\",\n",
    "            \"event = true\",\n",
    "        ],\n",
    "        include_metrics=[\n",
    "            teehr.Metrics.Maximum(\n",
    "                input_field_names=[\"primary_value\"],\n",
    "                output_field_name=\"max_primary_value\"\n",
    "            ),\n",
    "            teehr.Metrics.Maximum(\n",
    "                input_field_names=[\"secondary_value\"],\n",
    "                output_field_name=\"max_secondary_value\"\n",
    "            )\n",
    "        ]\n",
    "    )\n",
    "    .to_pandas()\n",
    ")"
   ]
  },
  {
   "cell_type": "code",
   "execution_count": null,
   "metadata": {},
   "outputs": [],
   "source": [
    "(\n",
    "    ev.metrics\n",
    "    .query(\n",
    "        group_by=[\"configuration_name\", \"primary_location_id\", \"event_id\"],\n",
    "        filters=[\n",
    "            \"primary_location_id = 'usgs-14138800'\",\n",
    "            \"event = true\",\n",
    "        ],\n",
    "        include_metrics=[\n",
    "            teehr.Metrics.Maximum(\n",
    "                input_field_names=[\"primary_value\"],\n",
    "                output_field_name=\"max_primary_value\"\n",
    "            ),\n",
    "            teehr.Metrics.Maximum(\n",
    "                input_field_names=[\"secondary_value\"],\n",
    "                output_field_name=\"max_secondary_value\"\n",
    "            )\n",
    "        ]\n",
    "    )\n",
    "    .query(\n",
    "        group_by=[\"configuration_name\", \"primary_location_id\"],\n",
    "        include_metrics=[\n",
    "            teehr.Metrics.RelativeBias(\n",
    "                input_field_names=[\"max_primary_value\", \"max_secondary_value\"],\n",
    "                output_field_name=\"event_max_relative_bias\"\n",
    "            )\n",
    "        ]\n",
    "    )\n",
    "    .to_pandas()\n",
    ")"
   ]
  },
  {
   "cell_type": "code",
   "execution_count": null,
   "metadata": {},
   "outputs": [
    {
     "name": "stderr",
     "output_type": "stream",
     "text": [
      "                                                                                \r"
     ]
    },
    {
     "data": {
      "text/html": [
       "<div>\n",
       "<style scoped>\n",
       "    .dataframe tbody tr th:only-of-type {\n",
       "        vertical-align: middle;\n",
       "    }\n",
       "\n",
       "    .dataframe tbody tr th {\n",
       "        vertical-align: top;\n",
       "    }\n",
       "\n",
       "    .dataframe thead th {\n",
       "        text-align: right;\n",
       "    }\n",
       "</style>\n",
       "<table border=\"1\" class=\"dataframe\">\n",
       "  <thead>\n",
       "    <tr style=\"text-align: right;\">\n",
       "      <th></th>\n",
       "      <th>configuration_name</th>\n",
       "      <th>primary_location_id</th>\n",
       "      <th>event_90th_max_relative_bias</th>\n",
       "    </tr>\n",
       "  </thead>\n",
       "  <tbody>\n",
       "    <tr>\n",
       "      <th>0</th>\n",
       "      <td>nwm30_retrospective</td>\n",
       "      <td>usgs-14138800</td>\n",
       "      <td>-0.087357</td>\n",
       "    </tr>\n",
       "  </tbody>\n",
       "</table>\n",
       "</div>"
      ],
      "text/plain": [
       "    configuration_name primary_location_id  event_90th_max_relative_bias\n",
       "0  nwm30_retrospective       usgs-14138800                     -0.087357"
      ]
     },
     "execution_count": 10,
     "metadata": {},
     "output_type": "execute_result"
    }
   ],
   "source": [
    "(\n",
    "    ev.metrics\n",
    "    # Add the PercentileEventDetection UDF to identify events greater than the 90th percentile.\n",
    "    .add_udf_columns([\n",
    "        tau.PercentileEventDetection(\n",
    "            quantile=0.90\n",
    "        )\n",
    "    ])\n",
    "    # First query to calculate the maximum primary and secondary values for each event.\n",
    "    .query(\n",
    "        group_by=[\"configuration_name\", \"primary_location_id\", \"event_id\"],\n",
    "        filters=[\n",
    "            \"primary_location_id = 'usgs-14138800'\",\n",
    "            \"event = true\",\n",
    "        ],\n",
    "        include_metrics=[\n",
    "            teehr.Metrics.Maximum(\n",
    "                input_field_names=[\"primary_value\"],\n",
    "                output_field_name=\"max_primary_value\"\n",
    "            ),\n",
    "            teehr.Metrics.Maximum(\n",
    "                input_field_names=[\"secondary_value\"],\n",
    "                output_field_name=\"max_secondary_value\"\n",
    "            )\n",
    "        ]\n",
    "    )\n",
    "    # Second query to calculate the relative bias between the maximum primary and secondary values.\n",
    "    .query(\n",
    "        group_by=[\"configuration_name\", \"primary_location_id\"],\n",
    "        include_metrics=[\n",
    "            teehr.Metrics.RelativeBias(\n",
    "                input_field_names=[\"max_primary_value\", \"max_secondary_value\"],\n",
    "                output_field_name=\"event_90th_max_relative_bias\"\n",
    "            )\n",
    "        ]\n",
    "    )\n",
    "    # Convert the metrics to a pandas DataFrame\n",
    "    .to_pandas()\n",
    ")"
   ]
  },
  {
   "cell_type": "code",
   "execution_count": null,
   "metadata": {},
   "outputs": [],
   "source": [
    "ev.spark.stop()"
   ]
  }
 ],
 "metadata": {
  "kernelspec": {
   "display_name": ".venv",
   "language": "python",
   "name": "python3"
  },
  "language_info": {
   "codemirror_mode": {
    "name": "ipython",
    "version": 3
   },
   "file_extension": ".py",
   "mimetype": "text/x-python",
   "name": "python",
   "nbconvert_exporter": "python",
   "pygments_lexer": "ipython3",
   "version": "3.10.15"
  }
 },
 "nbformat": 4,
 "nbformat_minor": 2
}
