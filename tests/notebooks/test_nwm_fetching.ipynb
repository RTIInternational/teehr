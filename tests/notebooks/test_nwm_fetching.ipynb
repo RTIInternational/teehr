{
 "cells": [
  {
   "cell_type": "code",
   "execution_count": null,
   "id": "196e48ea-cf2c-4d1c-afba-2fa64e40fdfc",
   "metadata": {},
   "outputs": [],
   "source": [
    "from teehr.fetching.nwm.nwm_points import nwm_to_parquet\n",
    "from teehr import Evaluation\n",
    "\n",
    "import tempfile\n",
    "from pathlib import Path\n",
    "from datetime import datetime\n",
    "\n",
    "import pytest\n",
    "import pandas as pd\n",
    "from dask.distributed import Client"
   ]
  },
  {
   "cell_type": "code",
   "execution_count": null,
   "id": "4756f1d6-b571-486d-98dc-20d545ab2829",
   "metadata": {},
   "outputs": [],
   "source": [
    "client = Client()\n",
    "client"
   ]
  },
  {
   "cell_type": "code",
   "execution_count": null,
   "id": "3f2d6496",
   "metadata": {},
   "outputs": [],
   "source": [
    "ROOT_DIR = Path.cwd().parent  # if running locally\n",
    "# ROOT_DIR = Path(\"/data/playground/teehr-test-data\")  # if connected to a remote kernel"
   ]
  },
  {
   "cell_type": "code",
   "execution_count": null,
   "id": "32659e9c",
   "metadata": {},
   "outputs": [],
   "source": [
    "ROOT_DIR"
   ]
  },
  {
   "cell_type": "code",
   "execution_count": null,
   "id": "b98d6775",
   "metadata": {},
   "outputs": [],
   "source": [
    "TEST_STUDY_DATA_DIR = Path(ROOT_DIR, \"data\", \"test_study\")\n",
    "GEO_GAGES_FILEPATH = Path(\n",
    "    TEST_STUDY_DATA_DIR,\n",
    "    \"geo\",\n",
    "    \"usgs_point_geometry.test.parquet\"\n",
    ")\n",
    "CROSSWALK_FILEPATH = Path(\n",
    "    TEST_STUDY_DATA_DIR,\n",
    "    \"geo\",\n",
    "    \"usgs_nwm30_crosswalk.test.parquet\"\n",
    ")"
   ]
  },
  {
   "cell_type": "markdown",
   "id": "a4453959",
   "metadata": {},
   "source": [
    "### Test fetching NWM operational points within an Evaluation"
   ]
  },
  {
   "cell_type": "code",
   "execution_count": null,
   "id": "65c17aa0",
   "metadata": {},
   "outputs": [],
   "source": [
    "with tempfile.TemporaryDirectory(prefix=\"teehr-\") as tempdir:\n",
    "\n",
    "    ev = Evaluation(dir_path=tempdir)\n",
    "    ev.clone_template()\n",
    "\n",
    "    ev.locations.load_spatial(in_path=GEO_GAGES_FILEPATH)\n",
    "\n",
    "    ev.location_crosswalks.load_parquet(\n",
    "        in_path=CROSSWALK_FILEPATH\n",
    "    )\n",
    "\n",
    "    ev.fetch.usgs_streamflow(\n",
    "        start_date=datetime(2022, 2, 22),\n",
    "        end_date=datetime(2022, 2, 23)\n",
    "    )\n",
    "\n",
    "    ev.fetch.nwm_operational_points(\n",
    "        nwm_configuration=\"analysis_assim\",\n",
    "        output_type=\"channel_rt\",\n",
    "        variable_name=\"streamflow\",\n",
    "        start_date=datetime(2024, 2, 22),\n",
    "        ingest_days=1,\n",
    "        nwm_version=\"nwm30\",\n",
    "        prioritize_analysis_valid_time=True,\n",
    "        t_minus_hours=[0],\n",
    "        process_by_z_hour=False\n",
    "    )\n",
    "    ts_df = ev.secondary_timeseries.to_pandas()"
   ]
  },
  {
   "cell_type": "markdown",
   "id": "f8f5697e",
   "metadata": {},
   "source": [
    "### Test fetching NWM operational points independent of an Evaluation"
   ]
  },
  {
   "cell_type": "code",
   "execution_count": null,
   "id": "7dec10fe",
   "metadata": {},
   "outputs": [],
   "source": [
    "df = pd.read_parquet(CROSSWALK_FILEPATH)\n",
    "nwm_ids = df[\"secondary_location_id\"].str.split(\"-\", expand=True).iloc[:, 1].tolist()"
   ]
  },
  {
   "cell_type": "code",
   "execution_count": null,
   "id": "ef20e211-cdba-47f6-aab3-f0db0c52b8c6",
   "metadata": {},
   "outputs": [],
   "source": [
    "with tempfile.TemporaryDirectory(prefix=\"teehr-\") as tempdir:\n",
    "\n",
    "    # choose dates to fetch - must be within range for a single nwm version\n",
    "    start_date = datetime(2024, 1, 2)\n",
    "    end_date = datetime(2024, 1, 2)\n",
    "    nwm_version = \"nwm30\"\n",
    "\n",
    "    # choose nwm configuration, associated nwm output type, and variable\n",
    "    # \"channel_rt\" for short range and all AnA configs\n",
    "    # \"channel_rt_X\" for medium_range_memX, e.g., channel_rt_1 for medium_range_mem1\n",
    "    # configuration = \"medium_range_mem1\"\n",
    "    # output_type = \"channel_rt_1\"\n",
    "\n",
    "    configuration = \"analysis_assim\"\n",
    "    output_type = \"channel_rt\"\n",
    "\n",
    "    variable_name = \"streamflow\"\n",
    "\n",
    "    # run teehr fetching function for point data\n",
    "    nwm_to_parquet(\n",
    "        configuration=configuration,\n",
    "        output_type=output_type,\n",
    "        variable_name=variable_name,\n",
    "        start_date=start_date,\n",
    "        ingest_days=(end_date - start_date).days + 1,\n",
    "        location_ids=nwm_ids,\n",
    "        json_dir=Path(tempdir, \"kerchunk\", configuration),\n",
    "        output_parquet_dir=Path(tempdir, \"parquet\", configuration),\n",
    "        nwm_version=nwm_version,\n",
    "        data_source=\"GCS\",\n",
    "        kerchunk_method=\"local\",\n",
    "        process_by_z_hour=True,\n",
    "        ignore_missing_file=True,\n",
    "        overwrite_output=True\n",
    "    )"
   ]
  },
  {
   "cell_type": "markdown",
   "id": "07f5b170",
   "metadata": {},
   "source": [
    "### Run all tests (currently fails due to path issues)"
   ]
  },
  {
   "cell_type": "code",
   "execution_count": null,
   "id": "9573464f",
   "metadata": {},
   "outputs": [],
   "source": [
    "# ! pytest ../test_*"
   ]
  },
  {
   "cell_type": "markdown",
   "id": "271abbe1",
   "metadata": {},
   "source": []
  }
 ],
 "metadata": {
  "kernelspec": {
   "display_name": ".venv",
   "language": "python",
   "name": "python3"
  },
  "language_info": {
   "codemirror_mode": {
    "name": "ipython",
    "version": 3
   },
   "file_extension": ".py",
   "mimetype": "text/x-python",
   "name": "python",
   "nbconvert_exporter": "python",
   "pygments_lexer": "ipython3",
   "version": "3.10.12"
  }
 },
 "nbformat": 4,
 "nbformat_minor": 5
}
