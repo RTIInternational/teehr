{
 "cells": [
  {
   "cell_type": "code",
   "execution_count": 1,
   "metadata": {},
   "outputs": [],
   "source": [
    "from teehr import Evaluation\n",
    "from pathlib import Path\n",
    "import shutil"
   ]
  },
  {
   "cell_type": "code",
   "execution_count": 2,
   "metadata": {},
   "outputs": [],
   "source": [
    "# Set a path to the directory where the evaluation will be created\n",
    "TEST_STUDY_DIR = Path(Path().home(), \"temp\", \"test_study\")\n",
    "shutil.rmtree(TEST_STUDY_DIR, ignore_errors=True)\n",
    "TEST_STUDY_DIR.mkdir(parents=True, exist_ok=True)"
   ]
  },
  {
   "cell_type": "code",
   "execution_count": 3,
   "metadata": {},
   "outputs": [
    {
     "name": "stderr",
     "output_type": "stream",
     "text": [
      "Setting default log level to \"WARN\".\n",
      "To adjust logging level use sc.setLogLevel(newLevel). For SparkR, use setLogLevel(newLevel).\n",
      "24/10/31 15:12:07 WARN NativeCodeLoader: Unable to load native-hadoop library for your platform... using builtin-java classes where applicable\n"
     ]
    }
   ],
   "source": [
    "# Create an Evaluation object\n",
    "ev = Evaluation(dir_path=TEST_STUDY_DIR)"
   ]
  },
  {
   "cell_type": "code",
   "execution_count": 4,
   "metadata": {},
   "outputs": [],
   "source": [
    "ev.clone_template()"
   ]
  },
  {
   "cell_type": "code",
   "execution_count": 5,
   "metadata": {},
   "outputs": [
    {
     "data": {
      "text/html": [
       "<div>\n",
       "<style scoped>\n",
       "    .dataframe tbody tr th:only-of-type {\n",
       "        vertical-align: middle;\n",
       "    }\n",
       "\n",
       "    .dataframe tbody tr th {\n",
       "        vertical-align: top;\n",
       "    }\n",
       "\n",
       "    .dataframe thead th {\n",
       "        text-align: right;\n",
       "    }\n",
       "</style>\n",
       "<table border=\"1\" class=\"dataframe\">\n",
       "  <thead>\n",
       "    <tr style=\"text-align: right;\">\n",
       "      <th></th>\n",
       "      <th>name</th>\n",
       "      <th>description</th>\n",
       "      <th>url</th>\n",
       "    </tr>\n",
       "  </thead>\n",
       "  <tbody>\n",
       "    <tr>\n",
       "      <th>0</th>\n",
       "      <td>p0_2_location_example</td>\n",
       "      <td>Example evaluation datsets with 2 USGS gages</td>\n",
       "      <td>s3a://ciroh-rti-public-data/teehr-data-warehou...</td>\n",
       "    </tr>\n",
       "    <tr>\n",
       "      <th>1</th>\n",
       "      <td>p1_camels_daily_streamflow</td>\n",
       "      <td>Daily average streamflow at ther Camels basins</td>\n",
       "      <td>s3a://ciroh-rti-public-data/teehr-data-warehou...</td>\n",
       "    </tr>\n",
       "    <tr>\n",
       "      <th>2</th>\n",
       "      <td>p2_camels_hourly_streamflow</td>\n",
       "      <td>Hourly instantaneous streamflow at ther Camels...</td>\n",
       "      <td>s3a://ciroh-rti-public-data/teehr-data-warehou...</td>\n",
       "    </tr>\n",
       "    <tr>\n",
       "      <th>3</th>\n",
       "      <td>p3_retro_hourly_streamflow</td>\n",
       "      <td>Hourly instantaneous streamflow at USGS CONUS ...</td>\n",
       "      <td>s3a://ciroh-rti-public-data/teehr-data-warehou...</td>\n",
       "    </tr>\n",
       "  </tbody>\n",
       "</table>\n",
       "</div>"
      ],
      "text/plain": [
       "                          name  \\\n",
       "0        p0_2_location_example   \n",
       "1   p1_camels_daily_streamflow   \n",
       "2  p2_camels_hourly_streamflow   \n",
       "3   p3_retro_hourly_streamflow   \n",
       "\n",
       "                                         description  \\\n",
       "0       Example evaluation datsets with 2 USGS gages   \n",
       "1     Daily average streamflow at ther Camels basins   \n",
       "2  Hourly instantaneous streamflow at ther Camels...   \n",
       "3  Hourly instantaneous streamflow at USGS CONUS ...   \n",
       "\n",
       "                                                 url  \n",
       "0  s3a://ciroh-rti-public-data/teehr-data-warehou...  \n",
       "1  s3a://ciroh-rti-public-data/teehr-data-warehou...  \n",
       "2  s3a://ciroh-rti-public-data/teehr-data-warehou...  \n",
       "3  s3a://ciroh-rti-public-data/teehr-data-warehou...  "
      ]
     },
     "execution_count": 5,
     "metadata": {},
     "output_type": "execute_result"
    }
   ],
   "source": [
    "ev.fetch.list_s3_evaluations()"
   ]
  },
  {
   "cell_type": "code",
   "execution_count": 6,
   "metadata": {},
   "outputs": [
    {
     "name": "stderr",
     "output_type": "stream",
     "text": [
      "24/10/31 15:12:09 WARN MetricsConfig: Cannot locate configuration: tried hadoop-metrics2-s3a-file-system.properties,hadoop-metrics2.properties\n",
      "24/10/31 15:12:22 WARN SparkStringUtils: Truncated the string representation of a plan since it was too large. This behavior can be adjusted by setting 'spark.sql.debug.maxToStringFields'.\n",
      "                                                                                \r"
     ]
    }
   ],
   "source": [
    "ev.fetch.clone_from_s3(\"p0_2_location_example\")"
   ]
  },
  {
   "cell_type": "code",
   "execution_count": 7,
   "metadata": {},
   "outputs": [
    {
     "name": "stdout",
     "output_type": "stream",
     "text": [
      "+------+--------------------+\n",
      "|  name|           long_name|\n",
      "+------+--------------------+\n",
      "| m^3/s|Cubic Meters Per ...|\n",
      "|ft^3/s|Cubic Feet Per Se...|\n",
      "|  km^2|   Square Kilometers|\n",
      "|  mm/s|Millimeters Per S...|\n",
      "+------+--------------------+\n",
      "\n"
     ]
    }
   ],
   "source": [
    "ev.units.to_sdf().show(5)"
   ]
  },
  {
   "cell_type": "code",
   "execution_count": 8,
   "metadata": {},
   "outputs": [
    {
     "name": "stdout",
     "output_type": "stream",
     "text": [
      "+--------------------+--------------------+\n",
      "|                name|           long_name|\n",
      "+--------------------+--------------------+\n",
      "|streamflow_hourly...|Hourly Instantane...|\n",
      "|streamflow_daily_...|Daily Mean Stream...|\n",
      "|rainfall_hourly_rate|Hourly Rainfall Rate|\n",
      "+--------------------+--------------------+\n",
      "\n"
     ]
    }
   ],
   "source": [
    "ev.variables.to_sdf().show(5)"
   ]
  },
  {
   "cell_type": "code",
   "execution_count": 9,
   "metadata": {},
   "outputs": [
    {
     "name": "stdout",
     "output_type": "stream",
     "text": [
      "+--------------+-----------+--------------------+\n",
      "|          name|       type|         description|\n",
      "+--------------+-----------+--------------------+\n",
      "|   2_year_flow| continuous|Two year flow rat...|\n",
      "|    frac_urban|categorical|          frac_urban|\n",
      "|high_prec_freq|categorical|      high_prec_freq|\n",
      "|      pet_mean|categorical|            pet_mean|\n",
      "|  ecoregion_L2|categorical|        ecoregion_L2|\n",
      "+--------------+-----------+--------------------+\n",
      "only showing top 5 rows\n",
      "\n"
     ]
    }
   ],
   "source": [
    "ev.attributes.to_sdf().show(5)"
   ]
  },
  {
   "cell_type": "code",
   "execution_count": 10,
   "metadata": {},
   "outputs": [
    {
     "name": "stdout",
     "output_type": "stream",
     "text": [
      "+-------------------+---------+--------------------+\n",
      "|               name|     type|         description|\n",
      "+-------------------+---------+--------------------+\n",
      "|nwm30_retrospective|secondary|NWM 3.0 Retrospec...|\n",
      "|nwm22_retrospective|secondary|NWM 2.2 Retrospec...|\n",
      "|nwm21_retrospective|secondary|NWM 2.1 Retrospec...|\n",
      "|nwm20_retrospective|secondary|NWM 2.0 Retrospec...|\n",
      "|  usgs_observations|  primary|   USGS Observations|\n",
      "+-------------------+---------+--------------------+\n",
      "only showing top 5 rows\n",
      "\n"
     ]
    }
   ],
   "source": [
    "ev.configurations.to_sdf().show(5)"
   ]
  },
  {
   "cell_type": "code",
   "execution_count": 11,
   "metadata": {},
   "outputs": [
    {
     "name": "stdout",
     "output_type": "stream",
     "text": [
      "+-------------+--------------------+--------------------+\n",
      "|           id|                name|            geometry|\n",
      "+-------------+--------------------+--------------------+\n",
      "|usgs-14316700|STEAMBOAT CREEK N...|[01 01 00 00 00 9...|\n",
      "|usgs-14138800|BLAZED ALDER CREE...|[01 01 00 00 00 B...|\n",
      "+-------------+--------------------+--------------------+\n",
      "\n"
     ]
    }
   ],
   "source": [
    "ev.locations.to_sdf().show(5)"
   ]
  },
  {
   "cell_type": "code",
   "execution_count": 12,
   "metadata": {},
   "outputs": [
    {
     "name": "stdout",
     "output_type": "stream",
     "text": [
      "+-------------+-------------------+--------------------+\n",
      "|  location_id|     attribute_name|               value|\n",
      "+-------------+-------------------+--------------------+\n",
      "|usgs-14316700|            aridity|   0.501305088892464|\n",
      "|usgs-14138800|            aridity|   0.270945979187767|\n",
      "|usgs-14316700|     dom_land_cover|    Evergreen Nee...|\n",
      "|usgs-14138800|     dom_land_cover|    Evergreen Nee...|\n",
      "|usgs-14316700|dom_land_cover_frac|   0.999999999999874|\n",
      "+-------------+-------------------+--------------------+\n",
      "only showing top 5 rows\n",
      "\n"
     ]
    }
   ],
   "source": [
    "ev.location_attributes.to_sdf().show(5)"
   ]
  },
  {
   "cell_type": "code",
   "execution_count": 13,
   "metadata": {},
   "outputs": [
    {
     "name": "stdout",
     "output_type": "stream",
     "text": [
      "+-------------------+---------------------+\n",
      "|primary_location_id|secondary_location_id|\n",
      "+-------------------+---------------------+\n",
      "|      usgs-14316700|       nwm30-23894572|\n",
      "|      usgs-14138800|       nwm30-23736071|\n",
      "+-------------------+---------------------+\n",
      "\n"
     ]
    }
   ],
   "source": [
    "ev.location_crosswalks.to_sdf().show(5)"
   ]
  },
  {
   "cell_type": "code",
   "execution_count": 14,
   "metadata": {},
   "outputs": [
    {
     "name": "stdout",
     "output_type": "stream",
     "text": [
      "+--------------+-------------------+---------+---------+-------------+------------------+--------------------+\n",
      "|reference_time|         value_time|    value|unit_name|  location_id|configuration_name|       variable_name|\n",
      "+--------------+-------------------+---------+---------+-------------+------------------+--------------------+\n",
      "|          NULL|2000-09-30 20:00:00|3.3413877|    m^3/s|usgs-14138800| usgs_observations|streamflow_hourly...|\n",
      "|          NULL|2000-09-30 21:00:00|3.9926753|    m^3/s|usgs-14138800| usgs_observations|streamflow_hourly...|\n",
      "|          NULL|2000-09-30 22:00:00| 4.445745|    m^3/s|usgs-14138800| usgs_observations|streamflow_hourly...|\n",
      "|          NULL|2000-09-30 23:00:00| 5.408518|    m^3/s|usgs-14138800| usgs_observations|streamflow_hourly...|\n",
      "|          NULL|2000-10-01 00:00:00|5.6067357|    m^3/s|usgs-14138800| usgs_observations|streamflow_hourly...|\n",
      "+--------------+-------------------+---------+---------+-------------+------------------+--------------------+\n",
      "only showing top 5 rows\n",
      "\n"
     ]
    }
   ],
   "source": [
    "ev.primary_timeseries.to_sdf().show(5)"
   ]
  },
  {
   "cell_type": "code",
   "execution_count": 15,
   "metadata": {},
   "outputs": [
    {
     "name": "stdout",
     "output_type": "stream",
     "text": [
      "+--------------+-------------------+-----+---------+--------------+-------------------+--------------------+\n",
      "|reference_time|         value_time|value|unit_name|   location_id| configuration_name|       variable_name|\n",
      "+--------------+-------------------+-----+---------+--------------+-------------------+--------------------+\n",
      "|          NULL|2000-09-30 20:00:00| 0.38|    m^3/s|nwm30-23894572|nwm30_retrospective|streamflow_hourly...|\n",
      "|          NULL|2000-09-30 20:00:00| 0.06|    m^3/s|nwm30-23736071|nwm30_retrospective|streamflow_hourly...|\n",
      "|          NULL|2000-09-30 21:00:00| 0.38|    m^3/s|nwm30-23894572|nwm30_retrospective|streamflow_hourly...|\n",
      "|          NULL|2000-09-30 21:00:00| 0.06|    m^3/s|nwm30-23736071|nwm30_retrospective|streamflow_hourly...|\n",
      "|          NULL|2000-09-30 22:00:00| 0.38|    m^3/s|nwm30-23894572|nwm30_retrospective|streamflow_hourly...|\n",
      "+--------------+-------------------+-----+---------+--------------+-------------------+--------------------+\n",
      "only showing top 5 rows\n",
      "\n"
     ]
    }
   ],
   "source": [
    "ev.secondary_timeseries.to_sdf().show(5)"
   ]
  },
  {
   "cell_type": "code",
   "execution_count": 16,
   "metadata": {},
   "outputs": [
    {
     "name": "stdout",
     "output_type": "stream",
     "text": [
      "+--------------+-------------------+-------------------+---------------------+-------------+---------------+---------+-------------+-----------------+----------+-----------------+----------+-------------+----------------+-----------------+-----------+------------------+-------------------+-----------+-------------------+------------+----------------+----------------+--------------+--------------------+-----------+---------+-----------------+--------------------+-----------------+------------------+-----------------+---------------------+-----+----+----------+-----------------------+-------------------------+-------------------+--------------------+\n",
      "|reference_time|         value_time|primary_location_id|secondary_location_id|primary_value|secondary_value|unit_name|  location_id|        frac_snow|frac_urban|    soil_porosity|slope_mean|drainage_area|          p_mean|          aridity|zero_q_freq|     p_seasonality|                 q5|high_q_freq|dom_land_cover_frac|stream_order|        pet_mean|       slope_fdc|high_prec_freq|        ecoregion_L2|forest_frac|elev_mean|              q95|      dom_land_cover|     runoff_ratio|            q_mean|   baseflow_index|river_forecast_center|month|year|water_year|primary_normalized_flow|secondary_normalized_flow| configuration_name|       variable_name|\n",
      "+--------------+-------------------+-------------------+---------------------+-------------+---------------+---------+-------------+-----------------+----------+-----------------+----------+-------------+----------------+-----------------+-----------+------------------+-------------------+-----------+-------------------+------------+----------------+----------------+--------------+--------------------+-----------+---------+-----------------+--------------------+-----------------+------------------+-----------------+---------------------+-----+----+----------+-----------------------+-------------------------+-------------------+--------------------+\n",
      "|          NULL|2000-09-30 20:00:00|      usgs-14316700|       nwm30-23894572|    1.1326739|           0.38|    m^3/s|usgs-14316700|0.176336580742005|       0.0|0.443106792908292|  119.0892|        587.9|4.54340041067762|0.501305088892464|        0.0|-0.821172341608197| 0.9627727841279988|      16.15|  0.999999999999874|           5| 2.2776297467488|2.23102329485064|         14.75|6.2  WESTERN CORD...|        1.0|   952.26| 72.4911272755203|    Evergreen Nee...|0.643997143591881|19.909239533259516|0.508616082222394|                NWRFC|   10|2000|      2001|           0.0019266438|              6.463684E-4|nwm30_retrospective|streamflow_hourly...|\n",
      "|          NULL|2000-09-30 20:00:00|      usgs-14138800|       nwm30-23736071|    3.3413877|           0.06|    m^3/s|usgs-14138800|0.317266212149897|       0.0|0.443124776255651| 142.23871|         21.2|7.72975085557837|0.270945979187767|        0.0|-0.814759416733027|0.06203371183893283|       12.8|                1.0|           3|2.09434491444216|1.81851920741996|         12.55|6.2  WESTERN CORD...|        1.0|   821.62|5.780414057718752|    Evergreen Nee...|0.842295649815027|1.5975415858787265|0.457869583655904|                NWRFC|   10|2000|      2001|             0.15761264|             0.0028301887|nwm30_retrospective|streamflow_hourly...|\n",
      "|          NULL|2000-09-30 21:00:00|      usgs-14316700|       nwm30-23894572|    1.1326739|           0.38|    m^3/s|usgs-14316700|0.176336580742005|       0.0|0.443106792908292|  119.0892|        587.9|4.54340041067762|0.501305088892464|        0.0|-0.821172341608197| 0.9627727841279988|      16.15|  0.999999999999874|           5| 2.2776297467488|2.23102329485064|         14.75|6.2  WESTERN CORD...|        1.0|   952.26| 72.4911272755203|    Evergreen Nee...|0.643997143591881|19.909239533259516|0.508616082222394|                NWRFC|   10|2000|      2001|           0.0019266438|              6.463684E-4|nwm30_retrospective|streamflow_hourly...|\n",
      "|          NULL|2000-09-30 21:00:00|      usgs-14138800|       nwm30-23736071|    3.9926753|           0.06|    m^3/s|usgs-14138800|0.317266212149897|       0.0|0.443124776255651| 142.23871|         21.2|7.72975085557837|0.270945979187767|        0.0|-0.814759416733027|0.06203371183893283|       12.8|                1.0|           3|2.09434491444216|1.81851920741996|         12.55|6.2  WESTERN CORD...|        1.0|   821.62|5.780414057718752|    Evergreen Nee...|0.842295649815027|1.5975415858787265|0.457869583655904|                NWRFC|   10|2000|      2001|             0.18833373|             0.0028301887|nwm30_retrospective|streamflow_hourly...|\n",
      "|          NULL|2000-09-30 22:00:00|      usgs-14316700|       nwm30-23894572|    1.1326739|           0.38|    m^3/s|usgs-14316700|0.176336580742005|       0.0|0.443106792908292|  119.0892|        587.9|4.54340041067762|0.501305088892464|        0.0|-0.821172341608197| 0.9627727841279988|      16.15|  0.999999999999874|           5| 2.2776297467488|2.23102329485064|         14.75|6.2  WESTERN CORD...|        1.0|   952.26| 72.4911272755203|    Evergreen Nee...|0.643997143591881|19.909239533259516|0.508616082222394|                NWRFC|   10|2000|      2001|           0.0019266438|              6.463684E-4|nwm30_retrospective|streamflow_hourly...|\n",
      "+--------------+-------------------+-------------------+---------------------+-------------+---------------+---------+-------------+-----------------+----------+-----------------+----------+-------------+----------------+-----------------+-----------+------------------+-------------------+-----------+-------------------+------------+----------------+----------------+--------------+--------------------+-----------+---------+-----------------+--------------------+-----------------+------------------+-----------------+---------------------+-----+----+----------+-----------------------+-------------------------+-------------------+--------------------+\n",
      "only showing top 5 rows\n",
      "\n"
     ]
    }
   ],
   "source": [
    "ev.joined_timeseries.to_sdf().show(5)"
   ]
  },
  {
   "cell_type": "code",
   "execution_count": 17,
   "metadata": {},
   "outputs": [],
   "source": [
    "ev.spark.stop()"
   ]
  }
 ],
 "metadata": {
  "kernelspec": {
   "display_name": ".venv",
   "language": "python",
   "name": "python3"
  },
  "language_info": {
   "codemirror_mode": {
    "name": "ipython",
    "version": 3
   },
   "file_extension": ".py",
   "mimetype": "text/x-python",
   "name": "python",
   "nbconvert_exporter": "python",
   "pygments_lexer": "ipython3",
   "version": "3.10.15"
  }
 },
 "nbformat": 4,
 "nbformat_minor": 2
}
