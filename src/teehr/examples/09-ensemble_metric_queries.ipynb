{
 "cells": [
  {
   "cell_type": "markdown",
   "metadata": {},
   "source": [
    "Continuous Ranked Probability Score (CRPS) makes use of the `scoringrules` package.\n",
    "https://frazane.github.io/scoringrules/api/crps/#scoringrules.crps_ensemble"
   ]
  },
  {
   "cell_type": "code",
   "execution_count": 4,
   "metadata": {},
   "outputs": [],
   "source": [
    "from pathlib import Path\n",
    "import numpy as np\n",
    "\n",
    "from teehr import Evaluation\n",
    "from teehr import ProbabilisticMetrics as pm"
   ]
  },
  {
   "cell_type": "code",
   "execution_count": 5,
   "metadata": {},
   "outputs": [],
   "source": [
    "# Hint: Run setup_ensemble_evaluation.py to create the test ensemble evaluation directory.\n",
    "EVALUATION_DIR = Path(Path.home(), \"teehr\", \"test_ensemble_evaluation\")"
   ]
  },
  {
   "cell_type": "code",
   "execution_count": null,
   "metadata": {},
   "outputs": [],
   "source": [
    "ev = Evaluation(dir_path=EVALUATION_DIR)"
   ]
  },
  {
   "cell_type": "code",
   "execution_count": 11,
   "metadata": {},
   "outputs": [],
   "source": [
    "crps = pm.CRPS()\n",
    "\n",
    "# Specify the estimator to use.\n",
    "#   \"pwm\" - Probability Weighted Moment form (default)\n",
    "#   \"nrg\" - Energy form\n",
    "#   \"fair\" - Fair version of energy form\n",
    "crps.estimator = \"pwm\"\n",
    "\n",
    "# Specify the backend to use.\n",
    "#   \"numba\" - Use the numba library for calculations (default)\n",
    "#   \"numpy\" - Use the numpy library for calculations\n",
    "crps.backend = \"numba\"\n",
    "\n",
    "# Specify an optional summary function to apply to the results as a callable.\n",
    "# If `summary_func` is not set/None (default), an array of CRPS values will be returned.\n",
    "crps.summary_func = np.mean"
   ]
  },
  {
   "cell_type": "code",
   "execution_count": null,
   "metadata": {},
   "outputs": [],
   "source": [
    "# Get the currently available fields to use in the query.\n",
    "flds = ev.joined_timeseries.field_enum()\n",
    "\n",
    "include_metrics = [crps]\n",
    "\n",
    "metrics_df = ev.metrics.query(\n",
    "    include_metrics=include_metrics,\n",
    "    group_by=[\n",
    "        flds.primary_location_id,\n",
    "        flds.reference_time,\n",
    "        flds.configuration_name\n",
    "    ],\n",
    "    order_by=[\"primary_location_id\"],\n",
    ").to_pandas()\n",
    "metrics_df"
   ]
  }
 ],
 "metadata": {
  "kernelspec": {
   "display_name": ".venv",
   "language": "python",
   "name": "python3"
  },
  "language_info": {
   "codemirror_mode": {
    "name": "ipython",
    "version": 3
   },
   "file_extension": ".py",
   "mimetype": "text/x-python",
   "name": "python",
   "nbconvert_exporter": "python",
   "pygments_lexer": "ipython3",
   "version": "3.10.12"
  }
 },
 "nbformat": 4,
 "nbformat_minor": 2
}
