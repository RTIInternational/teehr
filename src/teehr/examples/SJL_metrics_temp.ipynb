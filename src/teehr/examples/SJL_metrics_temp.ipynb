{
 "cells": [
  {
   "cell_type": "code",
   "execution_count": null,
   "metadata": {},
   "outputs": [],
   "source": [
    "import teehr\n",
    "from teehr import Evaluation\n",
    "from teehr import DeterministicMetrics\n",
    "\n",
    "from pathlib import Path\n",
    "\n",
    "# Tell Bokeh to output plots in the notebook\n",
    "from bokeh.io import output_notebook\n",
    "output_notebook()"
   ]
  },
  {
   "cell_type": "code",
   "execution_count": null,
   "metadata": {},
   "outputs": [],
   "source": [
    "# Set a path to the directory where the evaluation will be created\n",
    "TEST_STUDY_DIR = Path(Path().home(), \"temp\", \"test_study\")\n",
    "TEST_STUDY_DIR.mkdir(parents=True, exist_ok=True)\n",
    "\n",
    "# Create an Evaluation object\n",
    "ev = Evaluation(dir_path=TEST_STUDY_DIR)\n",
    "\n",
    "# Enable logging\n",
    "ev.enable_logging()"
   ]
  },
  {
   "cell_type": "code",
   "execution_count": null,
   "metadata": {},
   "outputs": [],
   "source": [
    "kge = DeterministicMetrics.KlingGuptaEfficiency()\n",
    "kge.sr = 0.5\n",
    "kge.sa = 0.5\n",
    "kge.sb = 0.5\n",
    "\n",
    "kge_mod1 = DeterministicMetrics.KlingGuptaEfficiencyMod1()\n",
    "kge_mod1.sr = 0.5\n",
    "kge_mod1.sa = 0.5\n",
    "kge_mod1.sb = 0.5\n",
    "\n",
    "kge_mod2 = DeterministicMetrics.KlingGuptaEfficiencyMod2()\n",
    "kge_mod2.sr = 0.5\n",
    "kge_mod2.sa = 0.5\n",
    "kge_mod2.sb = 0.5\n",
    "\n",
    "include_metrics=[kge, kge_mod1, kge_mod2]"
   ]
  },
  {
   "cell_type": "code",
   "execution_count": null,
   "metadata": {},
   "outputs": [],
   "source": [
    "metrics_df = ev.metrics.query(\n",
    "    group_by=[\"primary_location_id\", \"configuration_name\"],\n",
    "    include_metrics=include_metrics\n",
    ").to_pandas()"
   ]
  },
  {
   "cell_type": "code",
   "execution_count": null,
   "metadata": {},
   "outputs": [],
   "source": [
    "metrics_df"
   ]
  },
  {
   "cell_type": "code",
   "execution_count": null,
   "metadata": {},
   "outputs": [],
   "source": [
    "metrics_df = ev.metrics.query(\n",
    "    group_by=[\"primary_location_id\", \"configuration_name\"],\n",
    "    include_metrics = [\n",
    "        DeterministicMetrics.KlingGuptaEfficiency(),\n",
    "        DeterministicMetrics.KlingGuptaEfficiencyMod1(),\n",
    "        DeterministicMetrics.KlingGuptaEfficiencyMod2()\n",
    "    ]\n",
    ").to_pandas()"
   ]
  },
  {
   "cell_type": "code",
   "execution_count": null,
   "metadata": {},
   "outputs": [],
   "source": [
    "metrics_df"
   ]
  },
  {
   "cell_type": "markdown",
   "metadata": {},
   "source": [
    "test performance difference w/ wrapper vs w/o wrapper"
   ]
  },
  {
   "cell_type": "code",
   "execution_count": null,
   "metadata": {},
   "outputs": [],
   "source": [
    "ev = teehr.Evaluation(\"s3a://ciroh-rti-public-data/teehr-data-warehouse/v0_4_evaluations/e1_camels_daily_streamflow\")"
   ]
  },
  {
   "cell_type": "code",
   "execution_count": null,
   "metadata": {},
   "outputs": [],
   "source": [
    "kge = DeterministicMetrics.KlingGuptaEfficiency()\n",
    "kge.sr = 0.5\n",
    "kge.sa = 0.5\n",
    "kge.sb = 0.5\n",
    "\n",
    "kge_mod1 = DeterministicMetrics.KlingGuptaEfficiencyMod1()\n",
    "kge_mod1.sr = 0.5\n",
    "kge_mod1.sa = 0.5\n",
    "kge_mod1.sb = 0.5\n",
    "\n",
    "kge_mod2 = DeterministicMetrics.KlingGuptaEfficiencyMod2()\n",
    "kge_mod2.sr = 0.5\n",
    "kge_mod2.sa = 0.5\n",
    "kge_mod2.sb = 0.5\n",
    "\n",
    "include_metrics=[kge, kge_mod1, kge_mod2]"
   ]
  },
  {
   "cell_type": "code",
   "execution_count": null,
   "metadata": {},
   "outputs": [],
   "source": [
    "metrics_df = ev.metrics.query(\n",
    "    group_by=[\"primary_location_id\", \"configuration_name\"],\n",
    "    include_metrics=include_metrics\n",
    ").to_pandas()"
   ]
  },
  {
   "cell_type": "code",
   "execution_count": null,
   "metadata": {},
   "outputs": [],
   "source": [
    "metrics_df"
   ]
  },
  {
   "cell_type": "code",
   "execution_count": null,
   "metadata": {},
   "outputs": [],
   "source": [
    "metrics_df = ev.metrics.query(\n",
    "    group_by=[\"primary_location_id\", \"configuration_name\"],\n",
    "    include_metrics = [\n",
    "        DeterministicMetrics.KlingGuptaEfficiency(),\n",
    "        DeterministicMetrics.KlingGuptaEfficiencyMod1(),\n",
    "        DeterministicMetrics.KlingGuptaEfficiencyMod2()\n",
    "    ]\n",
    ").to_pandas()"
   ]
  },
  {
   "cell_type": "code",
   "execution_count": null,
   "metadata": {},
   "outputs": [],
   "source": [
    "metrics_df"
   ]
  }
 ],
 "metadata": {
  "kernelspec": {
   "display_name": ".venv",
   "language": "python",
   "name": "python3"
  },
  "language_info": {
   "codemirror_mode": {
    "name": "ipython",
    "version": 3
   },
   "file_extension": ".py",
   "mimetype": "text/x-python",
   "name": "python",
   "nbconvert_exporter": "python",
   "pygments_lexer": "ipython3",
   "version": "3.10.12"
  }
 },
 "nbformat": 4,
 "nbformat_minor": 2
}
