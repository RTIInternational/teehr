{
 "cells": [
  {
   "cell_type": "code",
   "execution_count": 1,
   "id": "f04536a0",
   "metadata": {},
   "outputs": [],
   "source": [
    "import teehr\n",
    "from pathlib import Path\n",
    "import pandas as pd\n",
    "import numpy as np\n",
    "import shutil\n",
    "\n",
    "from teehr import TimeseriesAwareCalculatedFields as tcf"
   ]
  },
  {
   "cell_type": "code",
   "execution_count": 2,
   "id": "625d397d",
   "metadata": {},
   "outputs": [
    {
     "data": {
      "text/plain": [
       "'  ## SMALL EVAL\\n\\n# set up the eval directory, clear contents if any exist\\ntest_eval_dir = Path(Path.home(), \\'temp\\', \\'metric_numpy_test\\')\\nif test_eval_dir.exists():\\n    shutil.rmtree(test_eval_dir)\\n    print(\"Removed the existing test eval directory...\")\\ntest_eval_dir.mkdir(parents=True, exist_ok=True)\\nprint(f\"Created the test eval directory at {test_eval_dir}\")\\n\\n# copy contents of s3 directory to the test directory folder\\ns3_e0_dir = Path(Path.home(), \\'temp\\', \\'s3_e0_08122025\\')\\nshutil.copytree(s3_e0_dir, test_eval_dir, dirs_exist_ok=True)\\nprint(f\"Copied contents from {s3_e0_dir} to {test_eval_dir}\") '"
      ]
     },
     "execution_count": 2,
     "metadata": {},
     "output_type": "execute_result"
    }
   ],
   "source": [
    "\"\"\"  ## SMALL EVAL\n",
    "\n",
    "# set up the eval directory, clear contents if any exist\n",
    "test_eval_dir = Path(Path.home(), 'temp', 'metric_numpy_test')\n",
    "if test_eval_dir.exists():\n",
    "    shutil.rmtree(test_eval_dir)\n",
    "    print(\"Removed the existing test eval directory...\")\n",
    "test_eval_dir.mkdir(parents=True, exist_ok=True)\n",
    "print(f\"Created the test eval directory at {test_eval_dir}\")\n",
    "\n",
    "# copy contents of s3 directory to the test directory folder\n",
    "s3_e0_dir = Path(Path.home(), 'temp', 's3_e0_08122025')\n",
    "shutil.copytree(s3_e0_dir, test_eval_dir, dirs_exist_ok=True)\n",
    "print(f\"Copied contents from {s3_e0_dir} to {test_eval_dir}\") \"\"\""
   ]
  },
  {
   "cell_type": "code",
   "execution_count": 3,
   "id": "68aae438",
   "metadata": {},
   "outputs": [
    {
     "name": "stdout",
     "output_type": "stream",
     "text": [
      "Removed the existing test eval directory...\n",
      "Created the test eval directory at /home/slandsteiner/temp/metric_numpy_test\n",
      "Copied contents from /home/slandsteiner/temp/PSU_data/PSU_evaluation to /home/slandsteiner/temp/metric_numpy_test\n"
     ]
    }
   ],
   "source": [
    "## BIGGER EVAL\n",
    "\n",
    "# set up the eval directory, clear contents if any exist\n",
    "test_eval_dir = Path(Path.home(), 'temp', 'metric_numpy_test')\n",
    "if test_eval_dir.exists():\n",
    "    shutil.rmtree(test_eval_dir)\n",
    "    print(\"Removed the existing test eval directory...\")\n",
    "test_eval_dir.mkdir(parents=True, exist_ok=True)\n",
    "print(f\"Created the test eval directory at {test_eval_dir}\")\n",
    "\n",
    "# copy contents of s3 directory to the test directory folder\n",
    "PSU_dir = Path(Path.home(), 'temp', 'PSU_data', 'PSU_evaluation')\n",
    "shutil.copytree(PSU_dir, test_eval_dir, dirs_exist_ok=True)\n",
    "print(f\"Copied contents from {PSU_dir} to {test_eval_dir}\")"
   ]
  },
  {
   "cell_type": "code",
   "execution_count": 4,
   "id": "491e97a6",
   "metadata": {},
   "outputs": [
    {
     "name": "stderr",
     "output_type": "stream",
     "text": [
      "Version file not found in /home/slandsteiner/temp/metric_numpy_test.\n",
      "WARNING: Using incubator modules: jdk.incubator.vector\n",
      "Using Spark's default log4j profile: org/apache/spark/log4j2-defaults.properties\n",
      "25/10/02 15:27:36 WARN Utils: Your hostname, RTI-504155, resolves to a loopback address: 127.0.1.1; using 10.255.255.254 instead (on interface lo)\n",
      "25/10/02 15:27:36 WARN Utils: Set SPARK_LOCAL_IP if you need to bind to another address\n",
      ":: loading settings :: url = jar:file:/home/slandsteiner/repos/teehr/.venv/lib/python3.10/site-packages/pyspark/jars/ivy-2.5.3.jar!/org/apache/ivy/core/settings/ivysettings.xml\n",
      "Ivy Default Cache set to: /home/slandsteiner/.ivy2.5.2/cache\n",
      "The jars for the packages stored in: /home/slandsteiner/.ivy2.5.2/jars\n",
      "org.apache.hadoop#hadoop-aws added as a dependency\n",
      ":: resolving dependencies :: org.apache.spark#spark-submit-parent-f4eabb1b-ba51-4270-96fe-0aa41b0b6288;1.0\n",
      "\tconfs: [default]\n",
      "\tfound org.apache.hadoop#hadoop-aws;3.4.1 in central\n",
      "\tfound software.amazon.awssdk#bundle;2.24.6 in central\n",
      "\tfound org.wildfly.openssl#wildfly-openssl;1.1.3.Final in central\n",
      ":: resolution report :: resolve 206ms :: artifacts dl 10ms\n",
      "\t:: modules in use:\n",
      "\torg.apache.hadoop#hadoop-aws;3.4.1 from central in [default]\n",
      "\torg.wildfly.openssl#wildfly-openssl;1.1.3.Final from central in [default]\n",
      "\tsoftware.amazon.awssdk#bundle;2.24.6 from central in [default]\n",
      "\t---------------------------------------------------------------------\n",
      "\t|                  |            modules            ||   artifacts   |\n",
      "\t|       conf       | number| search|dwnlded|evicted|| number|dwnlded|\n",
      "\t---------------------------------------------------------------------\n",
      "\t|      default     |   3   |   0   |   0   |   0   ||   3   |   0   |\n",
      "\t---------------------------------------------------------------------\n",
      ":: retrieving :: org.apache.spark#spark-submit-parent-f4eabb1b-ba51-4270-96fe-0aa41b0b6288\n",
      "\tconfs: [default]\n",
      "\t0 artifacts copied, 3 already retrieved (0kB/6ms)\n",
      "25/10/02 15:27:37 WARN NativeCodeLoader: Unable to load native-hadoop library for your platform... using builtin-java classes where applicable\n",
      "Using Spark's default log4j profile: org/apache/spark/log4j2-defaults.properties\n",
      "Setting default log level to \"WARN\".\n",
      "To adjust logging level use sc.setLogLevel(newLevel). For SparkR, use setLogLevel(newLevel).\n"
     ]
    }
   ],
   "source": [
    "ev = teehr.Evaluation(test_eval_dir)"
   ]
  },
  {
   "cell_type": "code",
   "execution_count": 5,
   "id": "b91d9770",
   "metadata": {},
   "outputs": [
    {
     "name": "stderr",
     "output_type": "stream",
     "text": [
      "                                                                                \r"
     ]
    },
    {
     "name": "stdout",
     "output_type": "stream",
     "text": [
      "+--------------+-------------------+-------------------+---------------------+-------------+---------------+---------+------+------------------+--------------------+\n",
      "|reference_time|         value_time|primary_location_id|secondary_location_id|primary_value|secondary_value|unit_name|member|configuration_name|       variable_name|\n",
      "+--------------+-------------------+-------------------+---------------------+-------------+---------------+---------+------+------------------+--------------------+\n",
      "|          NULL|1993-03-24 00:00:00|      usgs-06799100|        usgs-06799100|     9.542777|      13.559723|    m^3/s|  None|          d_sacsma|streamflow_daily_...|\n",
      "|          NULL|1992-10-26 00:00:00|      usgs-01011000|        usgs-01011000|     33.93774|       71.04006|    m^3/s|  None|          d_sacsma|streamflow_daily_...|\n",
      "|          NULL|1993-04-07 00:00:00|      usgs-06799100|        usgs-06799100|     10.67545|      14.996458|    m^3/s|  None|          d_sacsma|streamflow_daily_...|\n",
      "|          NULL|1992-11-13 00:00:00|      usgs-01011000|        usgs-01011000|    30.579834|       55.06896|    m^3/s|  None|          d_sacsma|streamflow_daily_...|\n",
      "|          NULL|1993-09-11 00:00:00|      usgs-06799100|        usgs-06799100|     3.277675|      3.0116186|    m^3/s|  None|          d_sacsma|streamflow_daily_...|\n",
      "|          NULL|1992-12-01 00:00:00|      usgs-01011000|        usgs-01011000|    36.375347|      39.429817|    m^3/s|  None|          d_sacsma|streamflow_daily_...|\n",
      "|          NULL|1993-09-15 00:00:00|      usgs-06799100|        usgs-06799100|    2.8824189|       2.611203|    m^3/s|  None|          d_sacsma|streamflow_daily_...|\n",
      "|          NULL|1993-07-07 00:00:00|      usgs-01011000|        usgs-01011000|     57.38881|      27.718904|    m^3/s|  None|          d_sacsma|streamflow_daily_...|\n",
      "|          NULL|1993-09-24 00:00:00|      usgs-06799100|        usgs-06799100|    4.8905554|       4.220942|    m^3/s|  None|          d_sacsma|streamflow_daily_...|\n",
      "|          NULL|1993-07-23 00:00:00|      usgs-01011000|        usgs-01011000|     21.18572|      21.725128|    m^3/s|  None|          d_sacsma|streamflow_daily_...|\n",
      "|          NULL|1993-11-17 00:00:00|      usgs-06799100|        usgs-06799100|    3.9926755|      4.0891705|    m^3/s|  None|          d_sacsma|streamflow_daily_...|\n",
      "|          NULL|1993-09-12 00:00:00|      usgs-01011000|        usgs-01011000|     54.68691|      41.569134|    m^3/s|  None|          d_sacsma|streamflow_daily_...|\n",
      "|          NULL|1993-12-07 00:00:00|      usgs-06799100|        usgs-06799100|    4.4752417|      2.1221604|    m^3/s|  None|          d_sacsma|streamflow_daily_...|\n",
      "|          NULL|1993-10-28 00:00:00|      usgs-01011000|        usgs-01011000|      70.9573|      63.773766|    m^3/s|  None|          d_sacsma|streamflow_daily_...|\n",
      "|          NULL|1994-04-10 00:00:00|      usgs-06799100|        usgs-06799100|    3.2564373|      1.7831672|    m^3/s|  None|          d_sacsma|streamflow_daily_...|\n",
      "|          NULL|1994-05-26 00:00:00|      usgs-01011000|        usgs-01011000|     91.93536|      71.298256|    m^3/s|  None|          d_sacsma|streamflow_daily_...|\n",
      "|          NULL|1994-04-16 00:00:00|      usgs-06799100|        usgs-06799100|    11.270105|       7.285694|    m^3/s|  None|          d_sacsma|streamflow_daily_...|\n",
      "|          NULL|1994-06-19 00:00:00|      usgs-01011000|        usgs-01011000|    112.94882|       91.84307|    m^3/s|  None|          d_sacsma|streamflow_daily_...|\n",
      "|          NULL|1994-06-22 00:00:00|      usgs-06799100|        usgs-06799100|     6.837339|       9.262268|    m^3/s|  None|          d_sacsma|streamflow_daily_...|\n",
      "|          NULL|1994-06-25 00:00:00|      usgs-01011000|        usgs-01011000|    99.864075|        91.7693|    m^3/s|  None|          d_sacsma|streamflow_daily_...|\n",
      "+--------------+-------------------+-------------------+---------------------+-------------+---------------+---------+------+------------------+--------------------+\n",
      "only showing top 20 rows\n"
     ]
    }
   ],
   "source": [
    "sdf = ev.joined_timeseries.to_sdf()\n",
    "sdf.show()"
   ]
  },
  {
   "cell_type": "code",
   "execution_count": 6,
   "id": "8b3d02c9",
   "metadata": {},
   "outputs": [
    {
     "name": "stderr",
     "output_type": "stream",
     "text": [
      "                                                                                \r"
     ]
    },
    {
     "name": "stdout",
     "output_type": "stream",
     "text": [
      "Data ranges from 1992-09-30 19:00:00 to 2010-09-28 19:00:00\n"
     ]
    },
    {
     "name": "stderr",
     "output_type": "stream",
     "text": [
      "[Stage 15:============>                                           (6 + 21) / 27]\r"
     ]
    },
    {
     "name": "stdout",
     "output_type": "stream",
     "text": [
      "Number of rows in joined timeseries: 58152288\n",
      "Number of distinct primary_location_id: 2572\n",
      "Average number of rows per primary_location_id: 22609.75427682737\n"
     ]
    },
    {
     "name": "stderr",
     "output_type": "stream",
     "text": [
      "                                                                                \r"
     ]
    }
   ],
   "source": [
    "# get minimum date and maximum date from value_time column\n",
    "min_date = sdf.agg({\"value_time\": \"min\"}).collect()[0][0]\n",
    "max_date = sdf.agg({\"value_time\": \"max\"}).collect()[0][0]\n",
    "print(f\"Data ranges from {min_date} to {max_date}\")\n",
    "\n",
    "# get length of the jts per primary_location_id\n",
    "jts_length = sdf.count()\n",
    "number_of_locations = sdf.select(\"primary_location_id\").distinct().count()\n",
    "print(f\"Number of rows in joined timeseries: {jts_length}\")\n",
    "print(f\"Number of distinct primary_location_id: {number_of_locations}\")\n",
    "print(f\"Average number of rows per primary_location_id: {jts_length/number_of_locations}\")"
   ]
  },
  {
   "cell_type": "code",
   "execution_count": 7,
   "id": "321ff767",
   "metadata": {},
   "outputs": [
    {
     "name": "stderr",
     "output_type": "stream",
     "text": [
      "[Stage 23:>                                                         (0 + 1) / 1]\r"
     ]
    },
    {
     "name": "stdout",
     "output_type": "stream",
     "text": [
      "Unique primary location ids: ['usgs-01153550', 'usgs-07336200', 'usgs-07362587', 'usgs-01398500', 'usgs-08200000', 'usgs-01447680', 'usgs-09124500', 'usgs-01541000', 'usgs-09247600', 'usgs-11376000', 'usgs-02421000', 'usgs-02473500', 'usgs-03106000', 'usgs-07335300', 'usgs-01467150', 'usgs-10166430', 'usgs-10242000', 'usgs-11460750', 'usgs-03168000', 'usgs-04243500', 'usgs-01124000', 'usgs-09128000', 'usgs-01573000', 'usgs-10343500', 'usgs-11124500', 'usgs-12027500', 'usgs-12324200', 'usgs-12395000', 'usgs-02455980', 'usgs-02474560']\n"
     ]
    },
    {
     "name": "stderr",
     "output_type": "stream",
     "text": [
      "                                                                                \r"
     ]
    }
   ],
   "source": [
    "# get list of first 30 unique primary location ids\n",
    "unique_ids = sdf.select('primary_location_id').distinct().rdd.map(lambda row: row[0]).collect()\n",
    "unique_ids = unique_ids[:30]\n",
    "print(f\"Unique primary location ids: {unique_ids}\")"
   ]
  },
  {
   "cell_type": "code",
   "execution_count": 8,
   "id": "4fc36cfe",
   "metadata": {},
   "outputs": [
    {
     "name": "stderr",
     "output_type": "stream",
     "text": [
      "[Stage 31:==================================================>       (7 + 1) / 8]\r"
     ]
    },
    {
     "name": "stdout",
     "output_type": "stream",
     "text": [
      "+-------------------+------------------+-------------+\n",
      "|primary_location_id|configuration_name|relative_bias|\n",
      "+-------------------+------------------+-------------+\n",
      "|      usgs-01124000|        d_ensemble|  0.028561877|\n",
      "|      usgs-01124000|             d_hbv|   0.03245213|\n",
      "|      usgs-01124000|            d_prms|  0.038089544|\n",
      "|      usgs-01124000|          d_sacsma|  0.038089544|\n",
      "|      usgs-01153550|        d_ensemble|   0.04093089|\n",
      "|      usgs-01153550|             d_hbv|  0.012490803|\n",
      "|      usgs-01153550|            d_prms|   0.05484145|\n",
      "|      usgs-01153550|          d_sacsma|   0.05484145|\n",
      "|      usgs-01398500|        d_ensemble|   0.03511029|\n",
      "|      usgs-01398500|             d_hbv|  -0.02304061|\n",
      "|      usgs-01398500|            d_prms| 0.0028719162|\n",
      "|      usgs-01398500|          d_sacsma| 0.0028719166|\n",
      "|      usgs-01447680|        d_ensemble|  -0.04990004|\n",
      "|      usgs-01447680|             d_hbv| -0.047125384|\n",
      "|      usgs-01447680|            d_prms| -0.014411413|\n",
      "|      usgs-01447680|          d_sacsma| -0.014411412|\n",
      "|      usgs-01467150|        d_ensemble|   0.14559549|\n",
      "|      usgs-01467150|             d_hbv|   0.22714846|\n",
      "|      usgs-01467150|            d_prms|   0.10584779|\n",
      "|      usgs-01467150|          d_sacsma|   0.10584779|\n",
      "+-------------------+------------------+-------------+\n",
      "only showing top 20 rows\n"
     ]
    },
    {
     "name": "stderr",
     "output_type": "stream",
     "text": [
      "                                                                                \r"
     ]
    }
   ],
   "source": [
    "test = ev.metrics.query(\n",
    "    filters=[\n",
    "        \"primary_location_id IN ({})\".format(', '.join(f\"'{id}'\" for id in unique_ids))\n",
    "    ],\n",
    "    group_by=['primary_location_id','configuration_name'],\n",
    "    order_by=['primary_location_id','configuration_name'],\n",
    "    include_metrics=[\n",
    "        teehr.DeterministicMetrics.RelativeBias(),\n",
    "    ]\n",
    ").to_sdf()\n",
    "\n",
    "test.show()"
   ]
  },
  {
   "cell_type": "code",
   "execution_count": 9,
   "id": "6e1db46e",
   "metadata": {},
   "outputs": [
    {
     "name": "stderr",
     "output_type": "stream",
     "text": [
      "[Stage 37:==========>                                             (5 + 22) / 27]\r"
     ]
    },
    {
     "name": "stdout",
     "output_type": "stream",
     "text": [
      "+-------------------+------------------+----------------------------+\n",
      "|primary_location_id|configuration_name|mean_absolute_relative_error|\n",
      "+-------------------+------------------+----------------------------+\n",
      "|      usgs-01124000|        d_ensemble|                  0.22769767|\n",
      "|      usgs-01124000|             d_hbv|                  0.26217392|\n",
      "|      usgs-01124000|            d_prms|                  0.23940893|\n",
      "|      usgs-01124000|          d_sacsma|                  0.23940893|\n",
      "|      usgs-01153550|        d_ensemble|                   0.3041933|\n",
      "|      usgs-01153550|             d_hbv|                  0.35183188|\n",
      "|      usgs-01153550|            d_prms|                   0.3402173|\n",
      "|      usgs-01153550|          d_sacsma|                   0.3402173|\n",
      "|      usgs-01398500|        d_ensemble|                   0.3012323|\n",
      "|      usgs-01398500|             d_hbv|                  0.31756875|\n",
      "|      usgs-01398500|            d_prms|                  0.31320545|\n",
      "|      usgs-01398500|          d_sacsma|                  0.31320545|\n",
      "|      usgs-01447680|        d_ensemble|                  0.29185098|\n",
      "|      usgs-01447680|             d_hbv|                  0.28291234|\n",
      "|      usgs-01447680|            d_prms|                  0.30389258|\n",
      "|      usgs-01447680|          d_sacsma|                  0.30389258|\n",
      "|      usgs-01467150|        d_ensemble|                  0.39873546|\n",
      "|      usgs-01467150|             d_hbv|                   0.4634056|\n",
      "|      usgs-01467150|            d_prms|                   0.3990335|\n",
      "|      usgs-01467150|          d_sacsma|                   0.3990335|\n",
      "+-------------------+------------------+----------------------------+\n",
      "only showing top 20 rows\n"
     ]
    },
    {
     "name": "stderr",
     "output_type": "stream",
     "text": [
      "                                                                                \r"
     ]
    }
   ],
   "source": [
    "test = ev.metrics.query(\n",
    "    filters=[\n",
    "        \"primary_location_id IN ({})\".format(', '.join(f\"'{id}'\" for id in unique_ids))\n",
    "    ],\n",
    "    group_by=['primary_location_id','configuration_name'],\n",
    "    order_by=['primary_location_id','configuration_name'],\n",
    "    include_metrics=[\n",
    "        teehr.DeterministicMetrics.MeanAbsoluteRelativeError(),\n",
    "    ]\n",
    ").to_sdf()\n",
    "\n",
    "test.show()"
   ]
  },
  {
   "cell_type": "code",
   "execution_count": 10,
   "id": "b4ce2bd9",
   "metadata": {},
   "outputs": [
    {
     "name": "stderr",
     "output_type": "stream",
     "text": [
      "[Stage 45:=========================================>              (20 + 7) / 27]\r"
     ]
    },
    {
     "name": "stdout",
     "output_type": "stream",
     "text": [
      "+-------------------+------------------+-------------------------+\n",
      "|primary_location_id|configuration_name|nash_sutcliffe_efficiency|\n",
      "+-------------------+------------------+-------------------------+\n",
      "|      usgs-01124000|        d_ensemble|                0.8676816|\n",
      "|      usgs-01124000|             d_hbv|               0.82247573|\n",
      "|      usgs-01124000|            d_prms|               0.84164375|\n",
      "|      usgs-01124000|          d_sacsma|               0.84164375|\n",
      "|      usgs-01153550|        d_ensemble|               0.76861763|\n",
      "|      usgs-01153550|             d_hbv|               0.65908766|\n",
      "|      usgs-01153550|            d_prms|               0.74809736|\n",
      "|      usgs-01153550|          d_sacsma|                0.7480974|\n",
      "|      usgs-01398500|        d_ensemble|               0.56605387|\n",
      "|      usgs-01398500|             d_hbv|                0.5427208|\n",
      "|      usgs-01398500|            d_prms|               0.54573154|\n",
      "|      usgs-01398500|          d_sacsma|               0.54573154|\n",
      "|      usgs-01447680|        d_ensemble|               0.73244137|\n",
      "|      usgs-01447680|             d_hbv|                0.7475122|\n",
      "|      usgs-01447680|            d_prms|               0.72549105|\n",
      "|      usgs-01447680|          d_sacsma|               0.72549105|\n",
      "|      usgs-01467150|        d_ensemble|                0.6746506|\n",
      "|      usgs-01467150|             d_hbv|                0.5463801|\n",
      "|      usgs-01467150|            d_prms|                0.6152747|\n",
      "|      usgs-01467150|          d_sacsma|                0.6152747|\n",
      "+-------------------+------------------+-------------------------+\n",
      "only showing top 20 rows\n"
     ]
    },
    {
     "name": "stderr",
     "output_type": "stream",
     "text": [
      "                                                                                \r"
     ]
    }
   ],
   "source": [
    "test = ev.metrics.query(\n",
    "    filters=[\n",
    "        \"primary_location_id IN ({})\".format(', '.join(f\"'{id}'\" for id in unique_ids))\n",
    "    ],\n",
    "    group_by=['primary_location_id','configuration_name'],\n",
    "    order_by=['primary_location_id','configuration_name'],\n",
    "    include_metrics=[\n",
    "        teehr.DeterministicMetrics.NashSutcliffeEfficiency(),\n",
    "    ]\n",
    ").to_sdf()\n",
    "\n",
    "test.show()"
   ]
  },
  {
   "cell_type": "code",
   "execution_count": 11,
   "id": "53e70caa",
   "metadata": {},
   "outputs": [
    {
     "name": "stderr",
     "output_type": "stream",
     "text": [
      "[Stage 53:=====================================================>  (26 + 1) / 27]\r"
     ]
    },
    {
     "name": "stdout",
     "output_type": "stream",
     "text": [
      "+-------------------+------------------+----------------------+\n",
      "|primary_location_id|configuration_name|kling_gupta_efficiency|\n",
      "+-------------------+------------------+----------------------+\n",
      "|      usgs-01124000|        d_ensemble|             0.8706531|\n",
      "|      usgs-01124000|             d_hbv|            0.85633445|\n",
      "|      usgs-01124000|            d_prms|             0.8795865|\n",
      "|      usgs-01124000|          d_sacsma|             0.8795865|\n",
      "|      usgs-01153550|        d_ensemble|            0.87344384|\n",
      "|      usgs-01153550|             d_hbv|             0.8016018|\n",
      "|      usgs-01153550|            d_prms|            0.85472584|\n",
      "|      usgs-01153550|          d_sacsma|            0.85472584|\n",
      "|      usgs-01398500|        d_ensemble|            0.68338233|\n",
      "|      usgs-01398500|             d_hbv|             0.6434177|\n",
      "|      usgs-01398500|            d_prms|              0.726921|\n",
      "|      usgs-01398500|          d_sacsma|              0.726921|\n",
      "|      usgs-01447680|        d_ensemble|             0.7435426|\n",
      "|      usgs-01447680|             d_hbv|            0.77771395|\n",
      "|      usgs-01447680|            d_prms|             0.7752826|\n",
      "|      usgs-01447680|          d_sacsma|             0.7752826|\n",
      "|      usgs-01467150|        d_ensemble|            0.76542276|\n",
      "|      usgs-01467150|             d_hbv|             0.6884165|\n",
      "|      usgs-01467150|            d_prms|             0.7729337|\n",
      "|      usgs-01467150|          d_sacsma|             0.7729338|\n",
      "+-------------------+------------------+----------------------+\n",
      "only showing top 20 rows\n"
     ]
    },
    {
     "name": "stderr",
     "output_type": "stream",
     "text": [
      "                                                                                \r"
     ]
    }
   ],
   "source": [
    "test = ev.metrics.query(\n",
    "    filters=[\n",
    "        \"primary_location_id IN ({})\".format(', '.join(f\"'{id}'\" for id in unique_ids))\n",
    "    ],\n",
    "    group_by=['primary_location_id','configuration_name'],\n",
    "    order_by=['primary_location_id','configuration_name'],\n",
    "    include_metrics=[\n",
    "        teehr.DeterministicMetrics.KlingGuptaEfficiency(),\n",
    "    ]\n",
    ").to_sdf()\n",
    "\n",
    "test.show()"
   ]
  },
  {
   "cell_type": "code",
   "execution_count": 12,
   "id": "ec948ad1",
   "metadata": {},
   "outputs": [],
   "source": [
    "ev.spark.stop()"
   ]
  }
 ],
 "metadata": {
  "kernelspec": {
   "display_name": "teehr-py3.10",
   "language": "python",
   "name": "python3"
  },
  "language_info": {
   "codemirror_mode": {
    "name": "ipython",
    "version": 3
   },
   "file_extension": ".py",
   "mimetype": "text/x-python",
   "name": "python",
   "nbconvert_exporter": "python",
   "pygments_lexer": "ipython3",
   "version": "3.10.12"
  }
 },
 "nbformat": 4,
 "nbformat_minor": 5
}
