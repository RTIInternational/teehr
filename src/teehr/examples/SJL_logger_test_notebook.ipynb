{
 "cells": [
  {
   "cell_type": "markdown",
   "id": "5cec05e3",
   "metadata": {},
   "source": [
    "# TEEHR PySpark Logging Test - Notebook Version\n",
    "\n",
    "This notebook is identical to SJL_logger_test.py to compare logging behavior between script and notebook environments."
   ]
  },
  {
   "cell_type": "code",
   "execution_count": null,
   "id": "8780498b",
   "metadata": {},
   "outputs": [],
   "source": [
    "import teehr\n",
    "from pathlib import Path\n",
    "import shutil\n",
    "import logging"
   ]
  },
  {
   "cell_type": "code",
   "execution_count": null,
   "id": "e1160aa5",
   "metadata": {},
   "outputs": [],
   "source": [
    "# define pathing\n",
    "test_eval_dir = Path(Path().home(), \"temp\", \"logging_test\", \"test_eval_notebook\")\n",
    "shutil.rmtree(test_eval_dir, ignore_errors=True)"
   ]
  },
  {
   "cell_type": "code",
   "execution_count": null,
   "id": "5e31d231",
   "metadata": {},
   "outputs": [],
   "source": [
    "# create evaluation object\n",
    "ev = teehr.Evaluation(dir_path=test_eval_dir,\n",
    "                      create_dir=True)"
   ]
  },
  {
   "cell_type": "code",
   "execution_count": null,
   "id": "6deee6ba",
   "metadata": {},
   "outputs": [],
   "source": [
    "ev.enable_logging()"
   ]
  },
  {
   "cell_type": "code",
   "execution_count": null,
   "id": "0671702f",
   "metadata": {},
   "outputs": [],
   "source": [
    "# Test default teehr logging output\n",
    "logger = logging.getLogger(\"teehr\")\n",
    "logger.info(\"Test log message: TEEHR logging is working!\")\n",
    "logger.debug(\"Test debug message: This is a debug level message\")\n",
    "logger.warning(\"Test warning message: This is a warning level message\")"
   ]
  },
  {
   "cell_type": "code",
   "execution_count": null,
   "id": "f105ad1d",
   "metadata": {},
   "outputs": [],
   "source": [
    "# Test PySpark logging output by performing operations that generate logs\n",
    "print(\"Performing PySpark operations to generate logs...\")\n",
    "\n",
    "# Create a simple DataFrame to trigger PySpark/py4j activity\n",
    "data = [(\"Alice\", 25), (\"Bob\", 30), (\"Charlie\", 35)]\n",
    "columns = [\"name\", \"age\"]\n",
    "df = ev.spark.createDataFrame(data, columns)"
   ]
  },
  {
   "cell_type": "code",
   "execution_count": null,
   "id": "ebc75f07",
   "metadata": {},
   "outputs": [],
   "source": [
    "# Perform some operations that should generate logs\n",
    "df.show()  # This should trigger logging"
   ]
  },
  {
   "cell_type": "code",
   "execution_count": null,
   "id": "d2626554",
   "metadata": {},
   "outputs": [],
   "source": [
    "df.count()  # This should also trigger logging"
   ]
  },
  {
   "cell_type": "code",
   "execution_count": null,
   "id": "3a59016c",
   "metadata": {},
   "outputs": [],
   "source": [
    "df.filter(df.age > 25).collect()  # More operations"
   ]
  },
  {
   "cell_type": "code",
   "execution_count": null,
   "id": "690300a9",
   "metadata": {},
   "outputs": [],
   "source": [
    "# Run a simple SQL query to generate more logging\n",
    "ev.spark.sql(\"SELECT 1 as test_column\").show()"
   ]
  },
  {
   "cell_type": "code",
   "execution_count": null,
   "id": "303b1f73",
   "metadata": {},
   "outputs": [],
   "source": [
    "print(\"PySpark operations completed. Check teehr.log for output.\")"
   ]
  },
  {
   "cell_type": "code",
   "execution_count": null,
   "id": "77a94625",
   "metadata": {},
   "outputs": [],
   "source": [
    "# kill spark\n",
    "ev.spark.stop()"
   ]
  }
 ],
 "metadata": {
  "kernelspec": {
   "display_name": "teehr-py3.10",
   "language": "python",
   "name": "python3"
  },
  "language_info": {
   "codemirror_mode": {
    "name": "ipython",
    "version": 3
   },
   "file_extension": ".py",
   "mimetype": "text/x-python",
   "name": "python",
   "nbconvert_exporter": "python",
   "pygments_lexer": "ipython3",
   "version": "3.10.12"
  }
 },
 "nbformat": 4,
 "nbformat_minor": 5
}
