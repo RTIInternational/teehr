{
 "cells": [
  {
   "cell_type": "code",
   "execution_count": null,
   "metadata": {},
   "outputs": [],
   "source": [
    "from teehr import Evaluation\n",
    "from pathlib import Path"
   ]
  },
  {
   "cell_type": "code",
   "execution_count": null,
   "metadata": {},
   "outputs": [],
   "source": [
    "# Set a path to the directory where the evaluation will be created\n",
    "TEST_STUDY_DIR = Path(Path().home(), \"temp\", \"test_study\")\n",
    "\n",
    "# Create an Evaluation object\n",
    "ev = Evaluation(dir_path=TEST_STUDY_DIR)\n",
    "\n",
    "# Enable logging\n",
    "ev.enable_logging()"
   ]
  },
  {
   "cell_type": "code",
   "execution_count": null,
   "metadata": {},
   "outputs": [],
   "source": [
    "ts_df = ev.primary_timeseries.to_pandas()\n",
    "ts_df.head()"
   ]
  },
  {
   "cell_type": "code",
   "execution_count": null,
   "metadata": {},
   "outputs": [],
   "source": [
    "# Pass in SQL format \"where\" clauses as chained filter calls.\n",
    "# Note, no internal validation is done when filtering with SQL formatted strings.\n",
    "ts_df = ev.primary_timeseries.filter(\n",
    "    \"value_time > '2022-01-01' and value_time < '2022-01-02'\"\n",
    ").filter(\n",
    "    \"location_id = 'gage-C'\"\n",
    ").to_pandas()\n",
    "ts_df.head()"
   ]
  },
  {
   "cell_type": "code",
   "execution_count": null,
   "metadata": {},
   "outputs": [],
   "source": [
    "# Pass in a list of dictionaries with \"column\", \"operator\", and \"value\" keys\n",
    "# to chain filters.\n",
    "ts_df = ev.primary_timeseries.filter(\n",
    "    [\n",
    "        {\n",
    "            \"column\": \"value_time\",\n",
    "            \"operator\": \">\",\n",
    "            \"value\": \"2022-01-01\",\n",
    "        },\n",
    "        {\n",
    "            \"column\": \"value_time\",\n",
    "            \"operator\": \"<\",\n",
    "            \"value\": \"2022-01-02\",\n",
    "        },\n",
    "        {\n",
    "            \"column\": \"location_id\",\n",
    "            \"operator\": \"=\",\n",
    "            \"value\": \"gage-C\",\n",
    "        },\n",
    "    ]\n",
    ").to_pandas()\n",
    "ts_df.head()"
   ]
  },
  {
   "cell_type": "code",
   "execution_count": null,
   "metadata": {},
   "outputs": [],
   "source": [
    "# Using the query method to filter the timeseries where filters are passed in as arguments.\n",
    "ts_df = ev.primary_timeseries.query(\n",
    "    filters=[\n",
    "        \"value_time > '2022-01-01'\",\n",
    "        \"value_time < '2022-01-02'\",\n",
    "        \"location_id = 'gage-C'\"\n",
    "    ]\n",
    ").to_pandas()\n",
    "ts_df.head()"
   ]
  },
  {
   "cell_type": "code",
   "execution_count": null,
   "metadata": {},
   "outputs": [],
   "source": [
    "ts_df = ev.primary_timeseries.query(\n",
    "    filters=[\n",
    "        {\n",
    "            \"column\": \"value_time\",\n",
    "            \"operator\": \">\",\n",
    "            \"value\": \"2022-01-01\",\n",
    "        },\n",
    "        {\n",
    "            \"column\": \"value_time\",\n",
    "            \"operator\": \"<\",\n",
    "            \"value\": \"2022-01-02\",\n",
    "        },\n",
    "        {\n",
    "            \"column\": \"location_id\",\n",
    "            \"operator\": \"=\",\n",
    "            \"value\": \"gage-C\",\n",
    "        },\n",
    "    ],\n",
    "    order_by=[\"location_id\", \"value_time\"]\n",
    ").to_pandas()\n",
    "ts_df.head()"
   ]
  },
  {
   "cell_type": "code",
   "execution_count": null,
   "metadata": {},
   "outputs": [],
   "source": [
    "from teehr.models.filters import TimeseriesFilter\n",
    "from teehr.models.filters import FilterOperators\n",
    "fields = ev.primary_timeseries.field_enum()"
   ]
  },
  {
   "cell_type": "code",
   "execution_count": null,
   "metadata": {},
   "outputs": [],
   "source": [
    "ts_df = ev.primary_timeseries.query(\n",
    "    filters=[\n",
    "        TimeseriesFilter(\n",
    "            column=fields.value_time,\n",
    "            operator=FilterOperators.gt,\n",
    "            value=\"2022-01-01\",\n",
    "        ),\n",
    "        TimeseriesFilter(\n",
    "            column=fields.value_time,\n",
    "            operator=FilterOperators.lt,\n",
    "            value=\"2022-01-02\",\n",
    "        ),\n",
    "        TimeseriesFilter(\n",
    "            column=fields.location_id,\n",
    "            operator=FilterOperators.eq,\n",
    "            value=\"gage-C\",\n",
    "        ),\n",
    "]).to_pandas()\n",
    "ts_df.head()"
   ]
  },
  {
   "cell_type": "code",
   "execution_count": null,
   "metadata": {},
   "outputs": [],
   "source": [
    "# Using the query method to filter the timeseries where filters are passed in as arguments.\n",
    "# The result is returned as a Spark DataFrame, which is further \"selected\" and \"ordered\" before\n",
    "# being converted to a pandas DataFrame.\n",
    "ts_sdf = ev.primary_timeseries.query(\n",
    "    filters=[\n",
    "        \"value_time > '2022-01-01'\",\n",
    "        \"value_time < '2022-01-02'\",\n",
    "        \"location_id = 'gage-C'\"\n",
    "    ]\n",
    ").to_sdf()\n",
    "ts_df = ts_sdf.select(\"value_time\", \"location_id\", \"value\").orderBy(\"value\").toPandas()\n",
    "ts_df.head()"
   ]
  }
 ],
 "metadata": {
  "kernelspec": {
   "display_name": ".venv",
   "language": "python",
   "name": "python3"
  },
  "language_info": {
   "codemirror_mode": {
    "name": "ipython",
    "version": 3
   },
   "file_extension": ".py",
   "mimetype": "text/x-python",
   "name": "python",
   "nbconvert_exporter": "python",
   "pygments_lexer": "ipython3",
   "version": "3.10.15"
  }
 },
 "nbformat": 4,
 "nbformat_minor": 2
}
