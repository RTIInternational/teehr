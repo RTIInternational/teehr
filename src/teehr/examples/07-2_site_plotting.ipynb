{
 "cells": [
  {
   "cell_type": "code",
   "execution_count": null,
   "metadata": {},
   "outputs": [],
   "source": [
    "from teehr import Evaluation\n",
    "from pathlib import Path\n",
    "\n",
    "\n",
    "from bokeh.io import output_notebook\n",
    "output_notebook()"
   ]
  },
  {
   "cell_type": "code",
   "execution_count": null,
   "metadata": {},
   "outputs": [],
   "source": [
    "# Set a path to the directory where the evaluation will be created\n",
    "TEST_STUDY_DIR = Path(Path().home(), \"temp\", \"real_study\")\n",
    "TEST_STUDY_DIR.mkdir(parents=True, exist_ok=True)\n",
    "\n",
    "# Create an Evaluation object\n",
    "ev = Evaluation(dir_path=TEST_STUDY_DIR)\n",
    "\n",
    "# Enable logging\n",
    "ev.enable_logging()"
   ]
  },
  {
   "cell_type": "markdown",
   "metadata": {},
   "source": [
    "##### Test table attributes"
   ]
  },
  {
   "cell_type": "code",
   "execution_count": null,
   "metadata": {},
   "outputs": [],
   "source": [
    "# create variable table dataframe from Evaluation object (tests None behavior)\n",
    "df = eval.variables.to_pandas()\n",
    "df_type = df.attrs['table_type']\n",
    "print(f'VariableTable has table_type = {df_type}')\n",
    "df.teehr.timeseries_plot()"
   ]
  },
  {
   "cell_type": "code",
   "execution_count": null,
   "metadata": {},
   "outputs": [],
   "source": [
    "# create location table dataframe from Evaluation object (tests location behavior)\n",
    "df = eval.locations.to_pandas()\n",
    "df_type = df.attrs['table_type']\n",
    "print(f'LocationsTable has table_type = {df_type}')\n",
    "df.teehr.timeseries_plot()"
   ]
  },
  {
   "cell_type": "code",
   "execution_count": null,
   "metadata": {},
   "outputs": [],
   "source": [
    "# Create primary timeseries dataframe from Evaluation object (tests timeseries behavior)\n",
    "df = eval.primary_timeseries.to_pandas()\n",
    "df_type = df.attrs['table_type']\n",
    "print(f'PrimaryTimeseriesTable has table_type = {df_type}')\n",
    "df.teehr.timeseries_plot()"
   ]
  },
  {
   "cell_type": "code",
   "execution_count": null,
   "metadata": {},
   "outputs": [],
   "source": []
  },
  {
   "cell_type": "markdown",
   "metadata": {},
   "source": [
    "##### Test timeseries plotting"
   ]
  },
  {
   "cell_type": "code",
   "execution_count": null,
   "metadata": {},
   "outputs": [],
   "source": [
    "# Create primary timeseries dataframe from Evaluation object\n",
    "df = ev.primary_timeseries.to_pandas()"
   ]
  },
  {
   "cell_type": "code",
   "execution_count": 4,
   "metadata": {},
   "outputs": [],
   "source": [
    "# plot with no input arguments and invalid save path\n",
    "PLOT_STUDY_DIR = Path(Path().home(), \"temp\", \"real_study\",\"figures\")\n",
    "df.teehr.timeseries_plot(output_dir=PLOT_STUDY_DIR)"
   ]
  },
  {
   "cell_type": "code",
   "execution_count": null,
   "metadata": {},
   "outputs": [],
   "source": [
    "# plot with no input arguments and valid save path\n",
    "PLOT_STUDY_DIR = Path(Path().home(), \"temp\", \"real_study\",\"figures\")\n",
    "df.teehr.timeseries_plot(output_dir=PLOT_STUDY_DIR)"
   ]
  },
  {
   "cell_type": "code",
   "execution_count": null,
   "metadata": {},
   "outputs": [],
   "source": [
    "# plot with no input arguments and no save path -- should just show figure\n",
    "df.teehr.timeseries_plot()"
   ]
  }
 ],
 "metadata": {
  "kernelspec": {
   "display_name": ".venv",
   "language": "python",
   "name": "python3"
  },
  "language_info": {
   "codemirror_mode": {
    "name": "ipython",
    "version": 3
   },
   "file_extension": ".py",
   "mimetype": "text/x-python",
   "name": "python",
   "nbconvert_exporter": "python",
   "pygments_lexer": "ipython3",
   "version": "3.10.12"
  }
 },
 "nbformat": 4,
 "nbformat_minor": 2
}
