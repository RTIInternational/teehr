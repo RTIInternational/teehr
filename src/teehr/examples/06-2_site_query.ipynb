{
 "cells": [
  {
   "cell_type": "code",
   "execution_count": null,
   "metadata": {},
   "outputs": [],
   "source": [
    "from teehr import Evaluation\n",
    "from pathlib import Path"
   ]
  },
  {
   "cell_type": "code",
   "execution_count": null,
   "metadata": {},
   "outputs": [],
   "source": [
    "# Set a path to the directory where the evaluation will be created\n",
    "TEST_STUDY_DIR = Path(Path().home(), \"temp\", \"real_study\")\n",
    "TEST_STUDY_DIR.mkdir(parents=True, exist_ok=True)"
   ]
  },
  {
   "cell_type": "code",
   "execution_count": null,
   "metadata": {},
   "outputs": [],
   "source": [
    "# Create an Evaluation object\n",
    "eval = Evaluation(dir_path=TEST_STUDY_DIR)\n",
    "\n",
    "# Enable logging\n",
    "eval.enable_logging()"
   ]
  },
  {
   "cell_type": "code",
   "execution_count": null,
   "metadata": {},
   "outputs": [],
   "source": [
    "from teehr import Metrics as metrics"
   ]
  },
  {
   "cell_type": "code",
   "execution_count": null,
   "metadata": {},
   "outputs": [],
   "source": [
    "eval.metrics.query(\n",
    "    order_by=[\"primary_location_id\", \"month\"],\n",
    "    group_by=[\"primary_location_id\", \"month\"],\n",
    "    include_metrics=[\n",
    "        metrics.KlingGuptaEfficiency(),\n",
    "        metrics.NashSutcliffeEfficiency(),\n",
    "        metrics.RelativeBias()\n",
    "    ]\n",
    ").to_pandas()"
   ]
  },
  {
   "cell_type": "code",
   "execution_count": null,
   "metadata": {},
   "outputs": [],
   "source": [
    "jt_fields = eval.joined_timeseries.field_enum()"
   ]
  },
  {
   "cell_type": "code",
   "execution_count": null,
   "metadata": {},
   "outputs": [],
   "source": [
    "eval.metrics.query(\n",
    "    order_by=[\"primary_location_id\"],\n",
    "    group_by=[\"primary_location_id\"],\n",
    "    include_metrics=[\n",
    "        metrics.KlingGuptaEfficiency(),\n",
    "        metrics.NashSutcliffeEfficiency(),\n",
    "        metrics.RelativeBias()\n",
    "    ]\n",
    ").to_pandas()"
   ]
  },
  {
   "cell_type": "code",
   "execution_count": null,
   "metadata": {},
   "outputs": [],
   "source": [
    "from teehr.models.metrics.bootstrap_models import Bootstrappers"
   ]
  },
  {
   "cell_type": "code",
   "execution_count": null,
   "metadata": {},
   "outputs": [],
   "source": [
    "# Define a bootstrapper with custom parameters.\n",
    "boot = Bootstrappers.CircularBlock(\n",
    "    seed=50,\n",
    "    reps=500,\n",
    "    block_size=10,\n",
    "    quantiles=[0.05, 0.95]\n",
    ")\n",
    "kge = metrics.KlingGuptaEfficiency(bootstrap=boot)\n",
    "kge.output_field_name = \"kge_bootstrap\"\n",
    "\n",
    "include_metrics = [kge, metrics.KlingGuptaEfficiency()]"
   ]
  },
  {
   "cell_type": "code",
   "execution_count": null,
   "metadata": {},
   "outputs": [],
   "source": [
    "metrics_gdf = eval.metrics.query(\n",
    "    include_metrics=include_metrics,\n",
    "    group_by=[\"primary_location_id\"],\n",
    "    order_by=[\"primary_location_id\"]\n",
    ").to_geopandas()\n",
    "metrics_gdf"
   ]
  },
  {
   "cell_type": "code",
   "execution_count": null,
   "metadata": {},
   "outputs": [],
   "source": [
    "from pyspark.sql.functions import avg, max"
   ]
  },
  {
   "cell_type": "code",
   "execution_count": null,
   "metadata": {},
   "outputs": [],
   "source": [
    "mdf = eval.metrics.query(\n",
    "    order_by=[\"primary_location_id\", \"month\"],\n",
    "    group_by=[\"primary_location_id\", \"month\"],\n",
    "    include_metrics=[\n",
    "        metrics.KlingGuptaEfficiency(),\n",
    "        metrics.NashSutcliffeEfficiency(),\n",
    "        metrics.RelativeBias()\n",
    "    ]\n",
    ").to_sdf().groupBy(\"primary_location_id\").agg(avg(\"relative_bias\").alias(\"relative_bias_avg\")).toPandas()\n",
    "mdf"
   ]
  },
  {
   "cell_type": "code",
   "execution_count": null,
   "metadata": {},
   "outputs": [],
   "source": [
    "# This does not work.\n",
    "eval.metrics.query(\n",
    "    order_by=[\"primary_location_id\", \"month\"],\n",
    "    group_by=[\"primary_location_id\", \"month\"],\n",
    "    include_metrics=[\n",
    "        metrics.KlingGuptaEfficiency(),\n",
    "        metrics.NashSutcliffeEfficiency(),\n",
    "        metrics.RelativeBias()\n",
    "    ]\n",
    ").query(\n",
    "    order_by=[\"primary_location_id\"],\n",
    "    group_by=[\"primary_location_id\"],\n",
    "    include_metrics=[\n",
    "        metrics.PrimaryAverage(\n",
    "            input_field_names=[\"relative_bias\"],\n",
    "        )\n",
    "    ]\n",
    ").to_pandas()"
   ]
  },
  {
   "cell_type": "code",
   "execution_count": null,
   "metadata": {},
   "outputs": [],
   "source": [
    "(\n",
    "    eval.joined_timeseries.to_sdf()\n",
    "    .groupBy(\"primary_location_id\", \"month\").agg(avg(\"primary_value\").alias(\"value_avg\")).orderBy(\"primary_location_id\",\"month\").toPandas()\n",
    ")"
   ]
  },
  {
   "cell_type": "code",
   "execution_count": null,
   "metadata": {},
   "outputs": [],
   "source": [
    "(\n",
    "    eval.joined_timeseries.to_sdf()\n",
    "    .groupBy(\"primary_location_id\", \"month\").agg(avg(\"primary_value\").alias(\"value_avg\"))\n",
    "    .groupBy(\"primary_location_id\").agg(max(\"value_avg\").alias(\"max_value_avg\"))\n",
    "    .toPandas()\n",
    ")"
   ]
  },
  {
   "cell_type": "code",
   "execution_count": null,
   "metadata": {},
   "outputs": [],
   "source": []
  }
 ],
 "metadata": {
  "kernelspec": {
   "display_name": ".venv",
   "language": "python",
   "name": "python3"
  },
  "language_info": {
   "codemirror_mode": {
    "name": "ipython",
    "version": 3
   },
   "file_extension": ".py",
   "mimetype": "text/x-python",
   "name": "python",
   "nbconvert_exporter": "python",
   "pygments_lexer": "ipython3",
   "version": "3.10.12"
  }
 },
 "nbformat": 4,
 "nbformat_minor": 2
}
