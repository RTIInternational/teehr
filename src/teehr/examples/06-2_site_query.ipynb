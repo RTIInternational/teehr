{
 "cells": [
  {
   "cell_type": "code",
   "execution_count": null,
   "metadata": {},
   "outputs": [],
   "source": [
    "from teehr import Evaluation\n",
    "from pathlib import Path"
   ]
  },
  {
   "cell_type": "code",
   "execution_count": null,
   "metadata": {},
   "outputs": [],
   "source": [
    "# Set a path to the directory where the evaluation will be created\n",
    "TEST_STUDY_DIR = Path(Path().home(), \"temp\", \"real_study\")\n",
    "TEST_STUDY_DIR.mkdir(parents=True, exist_ok=True)"
   ]
  },
  {
   "cell_type": "code",
   "execution_count": null,
   "metadata": {},
   "outputs": [],
   "source": [
    "# Create an Evaluation object\n",
    "ev = Evaluation(dir_path=TEST_STUDY_DIR)\n",
    "\n",
    "# Enable logging\n",
    "ev.enable_logging()"
   ]
  },
  {
   "cell_type": "code",
   "execution_count": null,
   "metadata": {},
   "outputs": [],
   "source": [
    "ev.joined_timeseries.to_pandas()"
   ]
  },
  {
   "cell_type": "code",
   "execution_count": null,
   "metadata": {},
   "outputs": [],
   "source": [
    "from teehr import Metrics as metrics"
   ]
  },
  {
   "cell_type": "code",
   "execution_count": null,
   "metadata": {},
   "outputs": [],
   "source": [
    "ev.metrics.query(\n",
    "    order_by=[\"primary_location_id\", \"month\"],\n",
    "    group_by=[\"primary_location_id\", \"month\"],\n",
    "    include_metrics=[\n",
    "        metrics.KlingGuptaEfficiency(),\n",
    "        metrics.NashSutcliffeEfficiency(),\n",
    "        metrics.RelativeBias()\n",
    "    ]\n",
    ").to_pandas()"
   ]
  },
  {
   "cell_type": "code",
   "execution_count": null,
   "metadata": {},
   "outputs": [],
   "source": [
    "jt_fields = ev.joined_timeseries.field_enum()"
   ]
  },
  {
   "cell_type": "code",
   "execution_count": null,
   "metadata": {},
   "outputs": [],
   "source": [
    "ev.metrics.query(\n",
    "    order_by=[\"primary_location_id\"],\n",
    "    group_by=[\"primary_location_id\"],\n",
    "    include_metrics=[\n",
    "        metrics.KlingGuptaEfficiency(),\n",
    "        metrics.NashSutcliffeEfficiency(),\n",
    "        metrics.RelativeBias()\n",
    "    ]\n",
    ").to_pandas()"
   ]
  },
  {
   "cell_type": "code",
   "execution_count": null,
   "metadata": {},
   "outputs": [],
   "source": [
    "from teehr.models.metrics.bootstrap_models import Bootstrappers"
   ]
  },
  {
   "cell_type": "code",
   "execution_count": null,
   "metadata": {},
   "outputs": [],
   "source": [
    "# Define a bootstrapper with custom parameters.\n",
    "cb = Bootstrappers.CircularBlock(\n",
    "    seed=50,\n",
    "    reps=500,\n",
    "    block_size=10,\n",
    "    quantiles=[0.05, 0.95]\n",
    ")\n",
    "kge_cb = metrics.KlingGuptaEfficiency(bootstrap=cb)\n",
    "kge_cb.output_field_name = \"kge_cb\""
   ]
  },
  {
   "cell_type": "code",
   "execution_count": null,
   "metadata": {},
   "outputs": [],
   "source": [
    "# Define a bootstrapper with custom parameters.\n",
    "gum = Bootstrappers.Gumboot(\n",
    "    seed=50,\n",
    "    reps=500,\n",
    "    quantiles=[0.05, 0.95]\n",
    ")\n",
    "kge_gum = metrics.KlingGuptaEfficiency(bootstrap=gum)\n",
    "kge_gum.output_field_name = \"kge_gum\"\n",
    "\n"
   ]
  },
  {
   "cell_type": "code",
   "execution_count": null,
   "metadata": {},
   "outputs": [],
   "source": [
    "include_metrics = [kge_cb, kge_gum, metrics.KlingGuptaEfficiency()]"
   ]
  },
  {
   "cell_type": "code",
   "execution_count": null,
   "metadata": {},
   "outputs": [],
   "source": [
    "metrics_gdf = ev.metrics.query(\n",
    "    include_metrics=include_metrics,\n",
    "    group_by=[\"primary_location_id\"],\n",
    "    order_by=[\"primary_location_id\"]\n",
    ").to_pandas()\n",
    "metrics_gdf"
   ]
  },
  {
   "cell_type": "code",
   "execution_count": null,
   "metadata": {},
   "outputs": [],
   "source": [
    "sdf = ev.metrics.query(\n",
    "    include_metrics=include_metrics,\n",
    "    group_by=[\"primary_location_id\"],\n",
    "    order_by=[\"primary_location_id\"]\n",
    ").to_sdf()"
   ]
  },
  {
   "cell_type": "code",
   "execution_count": null,
   "metadata": {},
   "outputs": [],
   "source": [
    "%%time\n",
    "import pyspark.sql.functions as F\n",
    "keys_cb = sdf.select(\n",
    "    F.explode(F.map_keys(F.col(\"kge_cb\"))),\n",
    ").distinct()\n",
    "cb_key_list = list(map(lambda row: row[0], keys_cb.collect()))\n",
    "\n",
    "keys_gum = sdf.select(\n",
    "    F.explode(F.map_keys(F.col(\"kge_gum\")))\n",
    ").distinct()\n",
    "gum_key_list = list(map(lambda row: row[0], keys_gum.collect()))\n",
    "\n",
    "cb_key_cols = list(map(lambda f: F.col(\"kge_cb\").getItem(f).alias(str(f)), cb_key_list))\n",
    "gum_key_cols = list(map(lambda f: F.col(\"kge_gum\").getItem(f).alias(str(f)), gum_key_list))\n",
    "sdf.select(\"primary_location_id\", \"kling_gupta_efficiency\", *cb_key_cols, *gum_key_cols).toPandas()"
   ]
  },
  {
   "cell_type": "code",
   "execution_count": null,
   "metadata": {},
   "outputs": [],
   "source": [
    "(\n",
    "    ev.metrics.query(\n",
    "        order_by=[\"primary_location_id\", \"month\"],\n",
    "        group_by=[\"primary_location_id\", \"month\"],\n",
    "        include_metrics=[\n",
    "            metrics.Maximum(\n",
    "                output_field_name=\"primary_max\",\n",
    "                input_field_names=[\"primary_value\"]\n",
    "            ),\n",
    "            metrics.Maximum(\n",
    "                output_field_name=\"secondary_max\",\n",
    "                input_field_names=[\"secondary_value\"]\n",
    "            ),\n",
    "        ]\n",
    "    )\n",
    "    .to_pandas()\n",
    ")"
   ]
  },
  {
   "cell_type": "code",
   "execution_count": null,
   "metadata": {},
   "outputs": [],
   "source": [
    "cb = Bootstrappers.CircularBlock(\n",
    "    seed=11,\n",
    "    reps=100,\n",
    "    block_size=1,\n",
    "    quantiles=[0.05, 0.95]\n",
    ")\n",
    "\n",
    "df = (\n",
    "    ev.metrics.query(\n",
    "        order_by=[\"primary_location_id\", \"month\"],\n",
    "        group_by=[\"primary_location_id\", \"month\"],\n",
    "        include_metrics=[\n",
    "            metrics.Maximum(\n",
    "                output_field_name=\"primary_max\",\n",
    "                input_field_names=[\"primary_value\"]\n",
    "            ),\n",
    "            metrics.Maximum(\n",
    "                output_field_name=\"secondary_max\",\n",
    "                input_field_names=[\"secondary_value\"]\n",
    "            ),\n",
    "        ]\n",
    "    )\n",
    "    .query(\n",
    "        order_by=[\"primary_location_id\"],\n",
    "        group_by=[\"primary_location_id\"],\n",
    "        include_metrics=[\n",
    "            metrics.RelativeBias(\n",
    "                input_field_names=[\"primary_max\", \"secondary_max\"],\n",
    "                bootstrap=cb,\n",
    "                output_field_name = \"rb_cb\"\n",
    "            )\n",
    "        ]\n",
    "    )\n",
    "    .to_pandas()\n",
    ")\n",
    "df"
   ]
  }
 ],
 "metadata": {
  "kernelspec": {
   "display_name": ".venv",
   "language": "python",
   "name": "python3"
  },
  "language_info": {
   "codemirror_mode": {
    "name": "ipython",
    "version": 3
   },
   "file_extension": ".py",
   "mimetype": "text/x-python",
   "name": "python",
   "nbconvert_exporter": "python",
   "pygments_lexer": "ipython3",
   "version": "3.10.15"
  }
 },
 "nbformat": 4,
 "nbformat_minor": 2
}
