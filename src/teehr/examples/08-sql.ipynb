{
 "cells": [
  {
   "cell_type": "code",
   "execution_count": 1,
   "metadata": {},
   "outputs": [],
   "source": [
    "from teehr import Evaluation\n",
    "from pathlib import Path"
   ]
  },
  {
   "cell_type": "code",
   "execution_count": 2,
   "metadata": {},
   "outputs": [],
   "source": [
    "TEST_STUDY_DIR = Path(Path().home(), \"temp\", \"2_location_test\")"
   ]
  },
  {
   "cell_type": "code",
   "execution_count": 3,
   "metadata": {},
   "outputs": [
    {
     "name": "stderr",
     "output_type": "stream",
     "text": [
      "Setting default log level to \"WARN\".\n",
      "To adjust logging level use sc.setLogLevel(newLevel). For SparkR, use setLogLevel(newLevel).\n",
      "24/11/04 21:09:06 WARN NativeCodeLoader: Unable to load native-hadoop library for your platform... using builtin-java classes where applicable\n"
     ]
    }
   ],
   "source": [
    "ev = Evaluation(dir_path=TEST_STUDY_DIR, create_dir=True)"
   ]
  },
  {
   "cell_type": "code",
   "execution_count": 4,
   "metadata": {},
   "outputs": [
    {
     "data": {
      "text/html": [
       "<div>\n",
       "<style scoped>\n",
       "    .dataframe tbody tr th:only-of-type {\n",
       "        vertical-align: middle;\n",
       "    }\n",
       "\n",
       "    .dataframe tbody tr th {\n",
       "        vertical-align: top;\n",
       "    }\n",
       "\n",
       "    .dataframe thead th {\n",
       "        text-align: right;\n",
       "    }\n",
       "</style>\n",
       "<table border=\"1\" class=\"dataframe\">\n",
       "  <thead>\n",
       "    <tr style=\"text-align: right;\">\n",
       "      <th></th>\n",
       "      <th>name</th>\n",
       "      <th>description</th>\n",
       "      <th>url</th>\n",
       "    </tr>\n",
       "  </thead>\n",
       "  <tbody>\n",
       "    <tr>\n",
       "      <th>0</th>\n",
       "      <td>p0_2_location_example</td>\n",
       "      <td>Example evaluation datsets with 2 USGS gages</td>\n",
       "      <td>s3a://ciroh-rti-public-data/teehr-data-warehou...</td>\n",
       "    </tr>\n",
       "    <tr>\n",
       "      <th>1</th>\n",
       "      <td>p1_camels_daily_streamflow</td>\n",
       "      <td>Daily average streamflow at ther Camels basins</td>\n",
       "      <td>s3a://ciroh-rti-public-data/teehr-data-warehou...</td>\n",
       "    </tr>\n",
       "    <tr>\n",
       "      <th>2</th>\n",
       "      <td>p2_camels_hourly_streamflow</td>\n",
       "      <td>Hourly instantaneous streamflow at ther Camels...</td>\n",
       "      <td>s3a://ciroh-rti-public-data/teehr-data-warehou...</td>\n",
       "    </tr>\n",
       "    <tr>\n",
       "      <th>3</th>\n",
       "      <td>p3_retro_hourly_streamflow</td>\n",
       "      <td>Hourly instantaneous streamflow at USGS CONUS ...</td>\n",
       "      <td>s3a://ciroh-rti-public-data/teehr-data-warehou...</td>\n",
       "    </tr>\n",
       "  </tbody>\n",
       "</table>\n",
       "</div>"
      ],
      "text/plain": [
       "                          name  \\\n",
       "0        p0_2_location_example   \n",
       "1   p1_camels_daily_streamflow   \n",
       "2  p2_camels_hourly_streamflow   \n",
       "3   p3_retro_hourly_streamflow   \n",
       "\n",
       "                                         description  \\\n",
       "0       Example evaluation datsets with 2 USGS gages   \n",
       "1     Daily average streamflow at ther Camels basins   \n",
       "2  Hourly instantaneous streamflow at ther Camels...   \n",
       "3  Hourly instantaneous streamflow at USGS CONUS ...   \n",
       "\n",
       "                                                 url  \n",
       "0  s3a://ciroh-rti-public-data/teehr-data-warehou...  \n",
       "1  s3a://ciroh-rti-public-data/teehr-data-warehou...  \n",
       "2  s3a://ciroh-rti-public-data/teehr-data-warehou...  \n",
       "3  s3a://ciroh-rti-public-data/teehr-data-warehou...  "
      ]
     },
     "execution_count": 4,
     "metadata": {},
     "output_type": "execute_result"
    }
   ],
   "source": [
    "ev.list_s3_evaluations()"
   ]
  },
  {
   "cell_type": "code",
   "execution_count": 5,
   "metadata": {},
   "outputs": [
    {
     "name": "stderr",
     "output_type": "stream",
     "text": [
      "24/11/04 21:09:38 WARN MetricsConfig: Cannot locate configuration: tried hadoop-metrics2-s3a-file-system.properties,hadoop-metrics2.properties\n",
      "24/11/04 21:09:52 WARN SparkStringUtils: Truncated the string representation of a plan since it was too large. This behavior can be adjusted by setting 'spark.sql.debug.maxToStringFields'.\n",
      "                                                                                \r"
     ]
    }
   ],
   "source": [
    "ev.clone_from_s3(\"p0_2_location_example\")"
   ]
  },
  {
   "cell_type": "code",
   "execution_count": 13,
   "metadata": {},
   "outputs": [
    {
     "name": "stdout",
     "output_type": "stream",
     "text": [
      "+--------------+-------------------+---------+---------+-------------+------------------+--------------------+-----+--------------------+-----------------+-------+-----------------+\n",
      "|reference_time|         value_time|    value|unit_name|  location_id|configuration_name|       variable_name| name|           long_name|             name|   type|      description|\n",
      "+--------------+-------------------+---------+---------+-------------+------------------+--------------------+-----+--------------------+-----------------+-------+-----------------+\n",
      "|          NULL|2000-09-30 20:00:00|3.3413877|    m^3/s|usgs-14138800| usgs_observations|streamflow_hourly...|m^3/s|Cubic Meters Per ...|usgs_observations|primary|USGS Observations|\n",
      "|          NULL|2000-09-30 21:00:00|3.9926753|    m^3/s|usgs-14138800| usgs_observations|streamflow_hourly...|m^3/s|Cubic Meters Per ...|usgs_observations|primary|USGS Observations|\n",
      "|          NULL|2000-09-30 22:00:00| 4.445745|    m^3/s|usgs-14138800| usgs_observations|streamflow_hourly...|m^3/s|Cubic Meters Per ...|usgs_observations|primary|USGS Observations|\n",
      "|          NULL|2000-09-30 23:00:00| 5.408518|    m^3/s|usgs-14138800| usgs_observations|streamflow_hourly...|m^3/s|Cubic Meters Per ...|usgs_observations|primary|USGS Observations|\n",
      "|          NULL|2000-10-01 00:00:00|5.6067357|    m^3/s|usgs-14138800| usgs_observations|streamflow_hourly...|m^3/s|Cubic Meters Per ...|usgs_observations|primary|USGS Observations|\n",
      "|          NULL|2000-10-01 01:00:00| 5.153666|    m^3/s|usgs-14138800| usgs_observations|streamflow_hourly...|m^3/s|Cubic Meters Per ...|usgs_observations|primary|USGS Observations|\n",
      "|          NULL|2000-10-01 02:00:00|4.5590124|    m^3/s|usgs-14138800| usgs_observations|streamflow_hourly...|m^3/s|Cubic Meters Per ...|usgs_observations|primary|USGS Observations|\n",
      "|          NULL|2000-10-01 03:00:00|5.2952504|    m^3/s|usgs-14138800| usgs_observations|streamflow_hourly...|m^3/s|Cubic Meters Per ...|usgs_observations|primary|USGS Observations|\n",
      "|          NULL|2000-10-01 04:00:00| 7.730499|    m^3/s|usgs-14138800| usgs_observations|streamflow_hourly...|m^3/s|Cubic Meters Per ...|usgs_observations|primary|USGS Observations|\n",
      "|          NULL|2000-10-01 05:00:00| 9.825946|    m^3/s|usgs-14138800| usgs_observations|streamflow_hourly...|m^3/s|Cubic Meters Per ...|usgs_observations|primary|USGS Observations|\n",
      "+--------------+-------------------+---------+---------+-------------+------------------+--------------------+-----+--------------------+-----------------+-------+-----------------+\n",
      "\n"
     ]
    }
   ],
   "source": [
    "sdf = ev.sql(\"\"\"\n",
    "    SELECT * FROM primary_timeseries pt\n",
    "    JOIN units u ON pt.unit_name = u.name\n",
    "    JOIN configurations c ON pt.configuration_name = c.name\n",
    "    LIMIT 10;\n",
    "\"\"\")\n",
    "sdf.show()"
   ]
  },
  {
   "cell_type": "code",
   "execution_count": null,
   "metadata": {},
   "outputs": [],
   "source": []
  }
 ],
 "metadata": {
  "kernelspec": {
   "display_name": ".venv",
   "language": "python",
   "name": "python3"
  },
  "language_info": {
   "codemirror_mode": {
    "name": "ipython",
    "version": 3
   },
   "file_extension": ".py",
   "mimetype": "text/x-python",
   "name": "python",
   "nbconvert_exporter": "python",
   "pygments_lexer": "ipython3",
   "version": "3.10.15"
  }
 },
 "nbformat": 4,
 "nbformat_minor": 2
}
