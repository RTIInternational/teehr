{
 "cells": [
  {
   "cell_type": "code",
   "execution_count": null,
   "metadata": {},
   "outputs": [],
   "source": [
    "from teehr import Evaluation\n",
    "from pathlib import Path"
   ]
  },
  {
   "cell_type": "code",
   "execution_count": null,
   "metadata": {},
   "outputs": [],
   "source": [
    "\n",
    "# Set a path to the directory where the evaluation will be created\n",
    "TEST_STUDY_DIR = Path(Path().home(), \"temp\", \"test_study\")"
   ]
  },
  {
   "cell_type": "code",
   "execution_count": null,
   "metadata": {},
   "outputs": [],
   "source": [
    "# Create an Evaluation object\n",
    "ev = Evaluation(dir_path=TEST_STUDY_DIR)\n",
    "\n",
    "# Enable logging\n",
    "ev.enable_logging()"
   ]
  },
  {
   "cell_type": "code",
   "execution_count": null,
   "metadata": {},
   "outputs": [],
   "source": [
    "from teehr.models.filters import FilterOperators as fop"
   ]
  },
  {
   "cell_type": "code",
   "execution_count": null,
   "metadata": {},
   "outputs": [],
   "source": [
    "\n",
    "from teehr.models.filters import TimeseriesFilter\n",
    "ts_fields = ev.primary_timeseries.field_enum()"
   ]
  },
  {
   "cell_type": "code",
   "execution_count": null,
   "metadata": {},
   "outputs": [],
   "source": [
    "ts = ev.primary_timeseries.to_sdf()\n",
    "ts.schema"
   ]
  },
  {
   "cell_type": "code",
   "execution_count": null,
   "metadata": {},
   "outputs": [],
   "source": [
    "# Get the timeseries data\n",
    "ts_df = ev.primary_timeseries.query(\n",
    "    filters=[\n",
    "        TimeseriesFilter(\n",
    "            column=ts_fields.location_id,\n",
    "            operator=fop.eq,\n",
    "            value=\"gage-A\"\n",
    "        )\n",
    "    ]\n",
    ").to_pandas()\n",
    "ts_df.head()"
   ]
  },
  {
   "cell_type": "code",
   "execution_count": null,
   "metadata": {},
   "outputs": [],
   "source": [
    "from teehr.models.filters import JoinedTimeseriesFilter\n",
    "jt_fields = ev.joined_timeseries.field_enum()"
   ]
  },
  {
   "cell_type": "code",
   "execution_count": null,
   "metadata": {},
   "outputs": [],
   "source": [
    "jts_df = ev.joined_timeseries.query(\n",
    "    filters=[\n",
    "        JoinedTimeseriesFilter(\n",
    "            column=jt_fields.primary_location_id,\n",
    "            operator=fop.eq,\n",
    "            value=\"gage-A\"\n",
    "        )\n",
    "    ]\n",
    ").to_pandas()\n",
    "jts_df.head()"
   ]
  },
  {
   "cell_type": "code",
   "execution_count": null,
   "metadata": {},
   "outputs": [],
   "source": [
    "from teehr import Metrics as metrics"
   ]
  },
  {
   "cell_type": "code",
   "execution_count": null,
   "metadata": {},
   "outputs": [],
   "source": [
    "metrics.KlingGuptaEfficiency()"
   ]
  },
  {
   "cell_type": "code",
   "execution_count": null,
   "metadata": {},
   "outputs": [],
   "source": [
    "metrics_df = ev.metrics.query(\n",
    "    group_by=[jt_fields.primary_location_id],\n",
    "    order_by=[jt_fields.primary_location_id],\n",
    "    include_metrics=[\n",
    "        metrics.KlingGuptaEfficiency(),\n",
    "        metrics.NashSutcliffeEfficiency()\n",
    "    ]\n",
    ").to_pandas()\n",
    "metrics_df.head()"
   ]
  },
  {
   "cell_type": "code",
   "execution_count": null,
   "metadata": {},
   "outputs": [],
   "source": [
    "metrics_df = ev.metrics.query(\n",
    "    filters=[\n",
    "        JoinedTimeseriesFilter(\n",
    "            column=jt_fields.primary_location_id,\n",
    "            operator=fop.eq,\n",
    "            value=\"gage-A\"\n",
    "        )\n",
    "    ],\n",
    "    group_by=[jt_fields.primary_location_id],\n",
    "    order_by=[jt_fields.primary_location_id],\n",
    "    include_metrics=[\n",
    "        metrics.KlingGuptaEfficiency(),\n",
    "        metrics.NashSutcliffeEfficiency()\n",
    "    ]\n",
    ").to_geopandas()\n",
    "metrics_df.head()"
   ]
  },
  {
   "cell_type": "code",
   "execution_count": null,
   "metadata": {},
   "outputs": [],
   "source": [
    "metrics_df = ev.metrics.query(\n",
    "    filters=[\n",
    "        \"primary_location_id = 'gage-A'\"\n",
    "    ],\n",
    "    group_by=[\"primary_location_id\"],\n",
    "    order_by=[\"primary_location_id\"],\n",
    "    include_metrics=[\n",
    "        metrics.KlingGuptaEfficiency(),\n",
    "        metrics.NashSutcliffeEfficiency()\n",
    "    ]\n",
    ").to_pandas()\n",
    "metrics_df.head()"
   ]
  },
  {
   "cell_type": "code",
   "execution_count": null,
   "metadata": {},
   "outputs": [],
   "source": [
    "kge = metrics.KlingGuptaEfficiency()\n",
    "kge.output_field_name = \"KGE\""
   ]
  },
  {
   "cell_type": "code",
   "execution_count": null,
   "metadata": {},
   "outputs": [],
   "source": [
    "metrics_df = ev.metrics.query(\n",
    "    group_by=[jt_fields.primary_location_id],\n",
    "    order_by=[jt_fields.primary_location_id],\n",
    "    include_metrics=[\n",
    "        kge,\n",
    "        metrics.NashSutcliffeEfficiency(),\n",
    "        metrics.Average()\n",
    "    ]\n",
    ").to_pandas()\n",
    "metrics_df.head()"
   ]
  },
  {
   "cell_type": "code",
   "execution_count": null,
   "metadata": {},
   "outputs": [],
   "source": [
    "pa = metrics.Average()\n",
    "pa.input_field_names = [jt_fields.primary_normalized_flow]\n",
    "pa.output_field_name = \"normalized_primary_avg\""
   ]
  },
  {
   "cell_type": "code",
   "execution_count": null,
   "metadata": {},
   "outputs": [],
   "source": [
    "metrics_df = ev.metrics.query(\n",
    "    group_by=[jt_fields.primary_location_id],\n",
    "    order_by=[jt_fields.primary_location_id],\n",
    "    include_metrics=[\n",
    "        metrics.KlingGuptaEfficiency(),\n",
    "        metrics.NashSutcliffeEfficiency(),\n",
    "        pa\n",
    "    ]\n",
    ").to_pandas()\n",
    "metrics_df.head()"
   ]
  },
  {
   "cell_type": "code",
   "execution_count": null,
   "metadata": {},
   "outputs": [],
   "source": [
    "kge = metrics.KlingGuptaEfficiency()\n",
    "kge"
   ]
  },
  {
   "cell_type": "code",
   "execution_count": null,
   "metadata": {},
   "outputs": [],
   "source": [
    "# Estimate uncertainty of the KGE metric.\n",
    "from teehr.models.metrics.bootstrap_models import Bootstrappers"
   ]
  },
  {
   "cell_type": "code",
   "execution_count": null,
   "metadata": {},
   "outputs": [],
   "source": [
    "# Define a bootstrapper with custom parameters.\n",
    "boot = Bootstrappers.CircularBlock(\n",
    "    seed=50,\n",
    "    reps=500,\n",
    "    block_size=10,\n",
    "    quantiles=[0.05, 0.95]\n",
    ")\n",
    "kge = metrics.KlingGuptaEfficiency(bootstrap=boot)\n",
    "kge.output_field_name = \"BS_KGE\"\n",
    "\n",
    "include_metrics = [kge, metrics.KlingGuptaEfficiency()]"
   ]
  },
  {
   "cell_type": "code",
   "execution_count": null,
   "metadata": {},
   "outputs": [],
   "source": [
    "# Get the currently available fields to use in the query.\n",
    "flds = ev.joined_timeseries.field_enum()\n",
    "\n",
    "metrics_df = ev.metrics.query(\n",
    "    include_metrics=include_metrics,\n",
    "    group_by=[flds.primary_location_id],\n",
    "    order_by=[flds.primary_location_id]\n",
    ").to_geopandas()\n",
    "metrics_df"
   ]
  }
 ],
 "metadata": {
  "kernelspec": {
   "display_name": ".venv",
   "language": "python",
   "name": "python3"
  },
  "language_info": {
   "codemirror_mode": {
    "name": "ipython",
    "version": 3
   },
   "file_extension": ".py",
   "mimetype": "text/x-python",
   "name": "python",
   "nbconvert_exporter": "python",
   "pygments_lexer": "ipython3",
   "version": "3.10.15"
  }
 },
 "nbformat": 4,
 "nbformat_minor": 2
}
