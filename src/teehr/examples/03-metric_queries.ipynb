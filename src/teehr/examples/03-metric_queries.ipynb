{
 "cells": [
  {
   "cell_type": "code",
   "execution_count": null,
   "metadata": {},
   "outputs": [],
   "source": [
    "from teehr import Evaluation\n",
    "from pathlib import Path"
   ]
  },
  {
   "cell_type": "code",
   "execution_count": null,
   "metadata": {},
   "outputs": [],
   "source": [
    "\n",
    "# Set a path to the directory where the evaluation will be created\n",
    "TEST_STUDY_DIR = Path(Path().home(), \"temp\", \"test_study\")"
   ]
  },
  {
   "cell_type": "code",
   "execution_count": null,
   "metadata": {},
   "outputs": [],
   "source": [
    "# Create an Evaluation object\n",
    "eval = Evaluation(dir_path=TEST_STUDY_DIR)\n",
    "\n",
    "# Enable logging\n",
    "eval.enable_logging()"
   ]
  },
  {
   "cell_type": "code",
   "execution_count": null,
   "metadata": {},
   "outputs": [],
   "source": [
    "from teehr.models.dataset.filters import FilterOperators as fo"
   ]
  },
  {
   "cell_type": "code",
   "execution_count": null,
   "metadata": {},
   "outputs": [],
   "source": [
    "\n",
    "from teehr.models.dataset.filters import TimeseriesFilter\n",
    "ts_fields = eval.fields.get_timeseries_fields()"
   ]
  },
  {
   "cell_type": "code",
   "execution_count": null,
   "metadata": {},
   "outputs": [],
   "source": [
    "# Get the timeseries data\n",
    "ts_df = eval.query.get_primary_timeseries(\n",
    "    filters=[\n",
    "        TimeseriesFilter(\n",
    "            column=ts_fields.location_id,\n",
    "            operator=fo.eq,\n",
    "            value=\"gage-A\"\n",
    "        )\n",
    "    ]\n",
    ")\n",
    "ts_df.head()"
   ]
  },
  {
   "cell_type": "code",
   "execution_count": null,
   "metadata": {},
   "outputs": [],
   "source": [
    "from teehr.models.dataset.filters import JoinedTimeseriesFilter\n",
    "jt_fields = eval.fields.get_joined_timeseries_fields()"
   ]
  },
  {
   "cell_type": "code",
   "execution_count": null,
   "metadata": {},
   "outputs": [],
   "source": [
    "jts_df = eval.query.get_joined_timeseries(\n",
    "    filters=[\n",
    "        JoinedTimeseriesFilter(\n",
    "            column=jt_fields.primary_location_id,\n",
    "            operator=fo.eq,\n",
    "            value=\"gage-A\"\n",
    "        )\n",
    "    ]\n",
    ")\n",
    "jts_df.head()"
   ]
  },
  {
   "cell_type": "code",
   "execution_count": null,
   "metadata": {},
   "outputs": [],
   "source": [
    "from teehr.models.metrics.metric_models import Metrics as metrics"
   ]
  },
  {
   "cell_type": "code",
   "execution_count": null,
   "metadata": {},
   "outputs": [],
   "source": [
    "metrics_df = eval.query.get_metrics(\n",
    "    group_by=[jt_fields.primary_location_id],\n",
    "    order_by=[jt_fields.primary_location_id],\n",
    "    include_metrics=[\n",
    "        metrics.KlingGuptaEfficiency(),\n",
    "        metrics.NashSutcliffeEfficiency()\n",
    "    ]\n",
    ")\n",
    "metrics_df.head()"
   ]
  },
  {
   "cell_type": "code",
   "execution_count": null,
   "metadata": {},
   "outputs": [],
   "source": [
    "metrics_df = eval.query.get_metrics(\n",
    "    filters=[\n",
    "        JoinedTimeseriesFilter(\n",
    "            column=jt_fields.primary_location_id,\n",
    "            operator=fo.eq,\n",
    "            value=\"gage-A\"\n",
    "        )\n",
    "    ],\n",
    "    group_by=[jt_fields.primary_location_id],\n",
    "    order_by=[jt_fields.primary_location_id],\n",
    "    include_metrics=[\n",
    "        metrics.KlingGuptaEfficiency(),\n",
    "        metrics.NashSutcliffeEfficiency()\n",
    "    ]\n",
    ")\n",
    "metrics_df.head()"
   ]
  },
  {
   "cell_type": "code",
   "execution_count": null,
   "metadata": {},
   "outputs": [],
   "source": [
    "kge = metrics.KlingGuptaEfficiency()\n",
    "kge.output_field_name = \"kge\""
   ]
  },
  {
   "cell_type": "code",
   "execution_count": null,
   "metadata": {},
   "outputs": [],
   "source": [
    "metrics_df = eval.query.get_metrics(\n",
    "    group_by=[jt_fields.primary_location_id],\n",
    "    order_by=[jt_fields.primary_location_id],\n",
    "    include_metrics=[\n",
    "        metrics.KlingGuptaEfficiency(),\n",
    "        metrics.NashSutcliffeEfficiency(),\n",
    "        metrics.PrimaryAverage()\n",
    "    ]\n",
    ")\n",
    "metrics_df.head()"
   ]
  },
  {
   "cell_type": "code",
   "execution_count": null,
   "metadata": {},
   "outputs": [],
   "source": [
    "pa = metrics.PrimaryAverage()\n",
    "pa.input_field_names = [jt_fields.primary_normalized_flow]\n",
    "pa.output_field_name = \"normalized_primary_avg\""
   ]
  },
  {
   "cell_type": "code",
   "execution_count": null,
   "metadata": {},
   "outputs": [],
   "source": [
    "metrics_df = eval.query.get_metrics(\n",
    "    group_by=[jt_fields.primary_location_id],\n",
    "    order_by=[jt_fields.primary_location_id],\n",
    "    include_metrics=[\n",
    "        metrics.KlingGuptaEfficiency(),\n",
    "        metrics.NashSutcliffeEfficiency(),\n",
    "        pa\n",
    "    ]\n",
    ")\n",
    "metrics_df.head()"
   ]
  },
  {
   "cell_type": "code",
   "execution_count": null,
   "metadata": {},
   "outputs": [],
   "source": [
    "kge = metrics.KlingGuptaEfficiency()\n",
    "kge"
   ]
  },
  {
   "cell_type": "code",
   "execution_count": null,
   "metadata": {},
   "outputs": [],
   "source": [
    "# Estimate uncertainty of the KGE metric.\n",
    "from teehr.models.metrics.bootstrap_models import Bootstrappers"
   ]
  },
  {
   "cell_type": "code",
   "execution_count": null,
   "metadata": {},
   "outputs": [],
   "source": [
    "# Define a bootstrapper with custom parameters.\n",
    "boot = Bootstrappers.CircularBlock(\n",
    "    seed=50,\n",
    "    reps=500,\n",
    "    block_size=10,\n",
    "    quantiles=[0.05, 0.95]\n",
    ")\n",
    "kge = metrics.KlingGuptaEfficiency(bootstrap=boot)\n",
    "\n",
    "include_metrics = [kge]"
   ]
  },
  {
   "cell_type": "code",
   "execution_count": null,
   "metadata": {},
   "outputs": [],
   "source": [
    "# Get the currently available fields to use in the query.\n",
    "flds = eval.fields.get_joined_timeseries_fields()\n",
    "\n",
    "metrics_df = eval.query.get_metrics(\n",
    "    include_metrics=include_metrics,\n",
    "    group_by=[flds.primary_location_id],\n",
    "    order_by=[flds.primary_location_id],\n",
    "    include_geometry=False\n",
    ")\n",
    "metrics_df"
   ]
  }
 ],
 "metadata": {
  "kernelspec": {
   "display_name": ".venv",
   "language": "python",
   "name": "python3"
  },
  "language_info": {
   "codemirror_mode": {
    "name": "ipython",
    "version": 3
   },
   "file_extension": ".py",
   "mimetype": "text/x-python",
   "name": "python",
   "nbconvert_exporter": "python",
   "pygments_lexer": "ipython3",
   "version": "3.10.12"
  }
 },
 "nbformat": 4,
 "nbformat_minor": 2
}
