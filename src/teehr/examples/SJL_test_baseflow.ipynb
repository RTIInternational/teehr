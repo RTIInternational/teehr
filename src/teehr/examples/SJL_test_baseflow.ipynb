{
 "cells": [
  {
   "cell_type": "code",
   "execution_count": 1,
   "id": "b1f704ff",
   "metadata": {},
   "outputs": [],
   "source": [
    "import teehr\n",
    "from pathlib import Path\n",
    "import pandas as pd\n",
    "import numpy as np\n",
    "import shutil\n",
    "\n",
    "from teehr import TimeseriesAwareCalculatedFields as tcf"
   ]
  },
  {
   "cell_type": "markdown",
   "id": "6efd8d81",
   "metadata": {},
   "source": [
    "### Set-up evaluation "
   ]
  },
  {
   "cell_type": "code",
   "execution_count": 2,
   "id": "aa4bd342",
   "metadata": {},
   "outputs": [
    {
     "name": "stderr",
     "output_type": "stream",
     "text": [
      "WARNING: Using incubator modules: jdk.incubator.vector\n",
      "Using Spark's default log4j profile: org/apache/spark/log4j2-defaults.properties\n",
      "25/08/14 10:41:48 WARN Utils: Your hostname, RTI-504155, resolves to a loopback address: 127.0.1.1; using 10.255.255.254 instead (on interface lo)\n",
      "25/08/14 10:41:48 WARN Utils: Set SPARK_LOCAL_IP if you need to bind to another address\n",
      "Using Spark's default log4j profile: org/apache/spark/log4j2-defaults.properties\n",
      "Setting default log level to \"WARN\".\n",
      "To adjust logging level use sc.setLogLevel(newLevel). For SparkR, use setLogLevel(newLevel).\n",
      "25/08/14 10:41:49 WARN NativeCodeLoader: Unable to load native-hadoop library for your platform... using builtin-java classes where applicable\n"
     ]
    }
   ],
   "source": [
    "import pyspark\n",
    "\n",
    "conf = (\n",
    "    pyspark.SparkConf()\n",
    "    .setAppName(\"TEEHR\")\n",
    "    .setMaster(\"local[*]\")\n",
    "    .set(\"spark.sql.sources.partitionOverwriteMode\", \"dynamic\")\n",
    "    .set(\"spark.hadoop.fs.s3a.impl\", \"org.apache.hadoop.fs.s3a.S3AFileSystem\")\n",
    "    .set(\"spark.hadoop.fs.s3a.aws.credentials.provider\", \"org.apache.hadoop.fs.s3a.AnonymousAWSCredentialsProvider\")\n",
    "    .set(\"spark.sql.execution.arrow.pyspark.enabled\", \"true\")\n",
    "    .set(\"spark.sql.session.timeZone\", \"UTC\")\n",
    "    .set(\"spark.driver.maxResultSize\", \"32g\")\n",
    "    .set(\"spark.driver.memory\", \"32g\")\n",
    ")\n",
    "spark_session = pyspark.sql.SparkSession.builder.config(conf=conf).getOrCreate()"
   ]
  },
  {
   "cell_type": "code",
   "execution_count": 3,
   "id": "38be508b",
   "metadata": {},
   "outputs": [
    {
     "name": "stdout",
     "output_type": "stream",
     "text": [
      "Removed the existing test eval directory...\n",
      "Created the test eval directory at /home/slandsteiner/temp/baseflow_test\n",
      "Copied contents from /home/slandsteiner/temp/s3_e0_08122025 to /home/slandsteiner/temp/baseflow_test\n"
     ]
    }
   ],
   "source": [
    "# set up the eval directory, clear contents if any exist\n",
    "test_eval_dir = Path(Path.home(), 'temp', 'baseflow_test')\n",
    "if test_eval_dir.exists():\n",
    "    shutil.rmtree(test_eval_dir)\n",
    "    print(\"Removed the existing test eval directory...\")\n",
    "test_eval_dir.mkdir(parents=True, exist_ok=True)\n",
    "print(f\"Created the test eval directory at {test_eval_dir}\")\n",
    "\n",
    "# copy contents of s3 directory to the test directory folder\n",
    "s3_e1_dir = Path(Path.home(), 'temp', 's3_e0_08122025')\n",
    "shutil.copytree(s3_e1_dir, test_eval_dir, dirs_exist_ok=True)\n",
    "print(f\"Copied contents from {s3_e1_dir} to {test_eval_dir}\")"
   ]
  },
  {
   "cell_type": "code",
   "execution_count": 4,
   "id": "affb3a1e",
   "metadata": {},
   "outputs": [
    {
     "name": "stderr",
     "output_type": "stream",
     "text": [
      "Version file not found in /home/slandsteiner/temp/baseflow_test.\n"
     ]
    }
   ],
   "source": [
    "# set up evaluation\n",
    "ev = teehr.Evaluation(test_eval_dir, spark=spark_session)"
   ]
  },
  {
   "cell_type": "markdown",
   "id": "1f1cd74c",
   "metadata": {},
   "source": [
    "### Examine the dataset"
   ]
  },
  {
   "cell_type": "code",
   "execution_count": 5,
   "id": "eb05acae",
   "metadata": {},
   "outputs": [
    {
     "name": "stdout",
     "output_type": "stream",
     "text": [
      "+--------------+-------------------+---------+---------+-------------+------------------+--------------------+\n",
      "|reference_time|         value_time|    value|unit_name|  location_id|configuration_name|       variable_name|\n",
      "+--------------+-------------------+---------+---------+-------------+------------------+--------------------+\n",
      "|          NULL|2000-10-01 00:00:00|3.3413877|    m^3/s|usgs-14138800| usgs_observations|streamflow_hourly...|\n",
      "|          NULL|2000-10-01 01:00:00|3.9926753|    m^3/s|usgs-14138800| usgs_observations|streamflow_hourly...|\n",
      "|          NULL|2000-10-01 02:00:00| 4.445745|    m^3/s|usgs-14138800| usgs_observations|streamflow_hourly...|\n",
      "|          NULL|2000-10-01 03:00:00| 5.408518|    m^3/s|usgs-14138800| usgs_observations|streamflow_hourly...|\n",
      "|          NULL|2000-10-01 04:00:00|5.6067357|    m^3/s|usgs-14138800| usgs_observations|streamflow_hourly...|\n",
      "|          NULL|2000-10-01 05:00:00| 5.153666|    m^3/s|usgs-14138800| usgs_observations|streamflow_hourly...|\n",
      "|          NULL|2000-10-01 06:00:00|4.5590124|    m^3/s|usgs-14138800| usgs_observations|streamflow_hourly...|\n",
      "|          NULL|2000-10-01 07:00:00|5.2952504|    m^3/s|usgs-14138800| usgs_observations|streamflow_hourly...|\n",
      "|          NULL|2000-10-01 08:00:00| 7.730499|    m^3/s|usgs-14138800| usgs_observations|streamflow_hourly...|\n",
      "|          NULL|2000-10-01 09:00:00| 9.825946|    m^3/s|usgs-14138800| usgs_observations|streamflow_hourly...|\n",
      "|          NULL|2000-10-01 10:00:00|10.562183|    m^3/s|usgs-14138800| usgs_observations|streamflow_hourly...|\n",
      "|          NULL|2000-10-01 11:00:00|10.788718|    m^3/s|usgs-14138800| usgs_observations|streamflow_hourly...|\n",
      "|          NULL|2000-10-01 12:00:00|10.165748|    m^3/s|usgs-14138800| usgs_observations|streamflow_hourly...|\n",
      "|          NULL|2000-10-01 13:00:00| 9.769312|    m^3/s|usgs-14138800| usgs_observations|streamflow_hourly...|\n",
      "|          NULL|2000-10-01 14:00:00|  8.89149|    m^3/s|usgs-14138800| usgs_observations|streamflow_hourly...|\n",
      "|          NULL|2000-10-01 15:00:00| 8.381786|    m^3/s|usgs-14138800| usgs_observations|streamflow_hourly...|\n",
      "|          NULL|2000-10-01 16:00:00| 9.995847|    m^3/s|usgs-14138800| usgs_observations|streamflow_hourly...|\n",
      "|          NULL|2000-10-01 17:00:00|11.015253|    m^3/s|usgs-14138800| usgs_observations|streamflow_hourly...|\n",
      "|          NULL|2000-10-01 18:00:00| 9.995847|    m^3/s|usgs-14138800| usgs_observations|streamflow_hourly...|\n",
      "|          NULL|2000-10-01 19:00:00|  8.97644|    m^3/s|usgs-14138800| usgs_observations|streamflow_hourly...|\n",
      "+--------------+-------------------+---------+---------+-------------+------------------+--------------------+\n",
      "only showing top 20 rows\n"
     ]
    }
   ],
   "source": [
    "sdf = ev.primary_timeseries.to_sdf()\n",
    "sdf.show()"
   ]
  },
  {
   "cell_type": "code",
   "execution_count": 6,
   "id": "2907df70",
   "metadata": {},
   "outputs": [
    {
     "name": "stdout",
     "output_type": "stream",
     "text": [
      "+-------------------+-----+---------+--------------+------+-------------------+--------------------+--------------+\n",
      "|         value_time|value|unit_name|   location_id|member| configuration_name|       variable_name|reference_time|\n",
      "+-------------------+-----+---------+--------------+------+-------------------+--------------------+--------------+\n",
      "|2000-10-01 00:00:00| 0.38|    m^3/s|nwm30-23894572|  NULL|nwm30_retrospective|streamflow_hourly...|          NULL|\n",
      "|2000-10-01 00:00:00| 0.06|    m^3/s|nwm30-23736071|  NULL|nwm30_retrospective|streamflow_hourly...|          NULL|\n",
      "|2000-10-01 01:00:00| 0.38|    m^3/s|nwm30-23894572|  NULL|nwm30_retrospective|streamflow_hourly...|          NULL|\n",
      "|2000-10-01 01:00:00| 0.06|    m^3/s|nwm30-23736071|  NULL|nwm30_retrospective|streamflow_hourly...|          NULL|\n",
      "|2000-10-01 02:00:00| 0.38|    m^3/s|nwm30-23894572|  NULL|nwm30_retrospective|streamflow_hourly...|          NULL|\n",
      "|2000-10-01 02:00:00| 0.06|    m^3/s|nwm30-23736071|  NULL|nwm30_retrospective|streamflow_hourly...|          NULL|\n",
      "|2000-10-01 03:00:00| 0.38|    m^3/s|nwm30-23894572|  NULL|nwm30_retrospective|streamflow_hourly...|          NULL|\n",
      "|2000-10-01 03:00:00| 0.06|    m^3/s|nwm30-23736071|  NULL|nwm30_retrospective|streamflow_hourly...|          NULL|\n",
      "|2000-10-01 04:00:00| 0.38|    m^3/s|nwm30-23894572|  NULL|nwm30_retrospective|streamflow_hourly...|          NULL|\n",
      "|2000-10-01 04:00:00| 0.06|    m^3/s|nwm30-23736071|  NULL|nwm30_retrospective|streamflow_hourly...|          NULL|\n",
      "|2000-10-01 05:00:00| 0.38|    m^3/s|nwm30-23894572|  NULL|nwm30_retrospective|streamflow_hourly...|          NULL|\n",
      "|2000-10-01 05:00:00| 0.06|    m^3/s|nwm30-23736071|  NULL|nwm30_retrospective|streamflow_hourly...|          NULL|\n",
      "|2000-10-01 06:00:00| 0.38|    m^3/s|nwm30-23894572|  NULL|nwm30_retrospective|streamflow_hourly...|          NULL|\n",
      "|2000-10-01 06:00:00| 0.06|    m^3/s|nwm30-23736071|  NULL|nwm30_retrospective|streamflow_hourly...|          NULL|\n",
      "|2000-10-01 07:00:00| 0.38|    m^3/s|nwm30-23894572|  NULL|nwm30_retrospective|streamflow_hourly...|          NULL|\n",
      "|2000-10-01 07:00:00| 0.06|    m^3/s|nwm30-23736071|  NULL|nwm30_retrospective|streamflow_hourly...|          NULL|\n",
      "|2000-10-01 08:00:00| 0.38|    m^3/s|nwm30-23894572|  NULL|nwm30_retrospective|streamflow_hourly...|          NULL|\n",
      "|2000-10-01 08:00:00| 0.06|    m^3/s|nwm30-23736071|  NULL|nwm30_retrospective|streamflow_hourly...|          NULL|\n",
      "|2000-10-01 09:00:00| 0.38|    m^3/s|nwm30-23894572|  NULL|nwm30_retrospective|streamflow_hourly...|          NULL|\n",
      "|2000-10-01 09:00:00| 0.07|    m^3/s|nwm30-23736071|  NULL|nwm30_retrospective|streamflow_hourly...|          NULL|\n",
      "+-------------------+-----+---------+--------------+------+-------------------+--------------------+--------------+\n",
      "only showing top 20 rows\n"
     ]
    }
   ],
   "source": [
    "ev.secondary_timeseries.to_sdf().show()"
   ]
  },
  {
   "cell_type": "code",
   "execution_count": 7,
   "id": "ecd3f325",
   "metadata": {},
   "outputs": [
    {
     "name": "stdout",
     "output_type": "stream",
     "text": [
      "+-------------------+-------------------+---------------------+-------------+---------------+---------+------+-------------------+--------------------+--------------+\n",
      "|         value_time|primary_location_id|secondary_location_id|primary_value|secondary_value|unit_name|member| configuration_name|       variable_name|reference_time|\n",
      "+-------------------+-------------------+---------------------+-------------+---------------+---------+------+-------------------+--------------------+--------------+\n",
      "|2000-10-01 00:00:00|      usgs-14316700|       nwm30-23894572|    1.1326739|           0.38|    m^3/s|  NULL|nwm30_retrospective|streamflow_hourly...|          NULL|\n",
      "|2000-10-01 00:00:00|      usgs-14138800|       nwm30-23736071|    3.3413877|           0.06|    m^3/s|  NULL|nwm30_retrospective|streamflow_hourly...|          NULL|\n",
      "|2000-10-01 01:00:00|      usgs-14316700|       nwm30-23894572|    1.1326739|           0.38|    m^3/s|  NULL|nwm30_retrospective|streamflow_hourly...|          NULL|\n",
      "|2000-10-01 01:00:00|      usgs-14138800|       nwm30-23736071|    3.9926753|           0.06|    m^3/s|  NULL|nwm30_retrospective|streamflow_hourly...|          NULL|\n",
      "|2000-10-01 02:00:00|      usgs-14316700|       nwm30-23894572|    1.1326739|           0.38|    m^3/s|  NULL|nwm30_retrospective|streamflow_hourly...|          NULL|\n",
      "|2000-10-01 02:00:00|      usgs-14138800|       nwm30-23736071|     4.445745|           0.06|    m^3/s|  NULL|nwm30_retrospective|streamflow_hourly...|          NULL|\n",
      "|2000-10-01 03:00:00|      usgs-14316700|       nwm30-23894572|    1.1326739|           0.38|    m^3/s|  NULL|nwm30_retrospective|streamflow_hourly...|          NULL|\n",
      "|2000-10-01 03:00:00|      usgs-14138800|       nwm30-23736071|     5.408518|           0.06|    m^3/s|  NULL|nwm30_retrospective|streamflow_hourly...|          NULL|\n",
      "|2000-10-01 04:00:00|      usgs-14316700|       nwm30-23894572|    1.1326739|           0.38|    m^3/s|  NULL|nwm30_retrospective|streamflow_hourly...|          NULL|\n",
      "|2000-10-01 04:00:00|      usgs-14138800|       nwm30-23736071|    5.6067357|           0.06|    m^3/s|  NULL|nwm30_retrospective|streamflow_hourly...|          NULL|\n",
      "|2000-10-01 05:00:00|      usgs-14316700|       nwm30-23894572|    1.1326739|           0.38|    m^3/s|  NULL|nwm30_retrospective|streamflow_hourly...|          NULL|\n",
      "|2000-10-01 05:00:00|      usgs-14138800|       nwm30-23736071|     5.153666|           0.06|    m^3/s|  NULL|nwm30_retrospective|streamflow_hourly...|          NULL|\n",
      "|2000-10-01 06:00:00|      usgs-14316700|       nwm30-23894572|    1.1326739|           0.38|    m^3/s|  NULL|nwm30_retrospective|streamflow_hourly...|          NULL|\n",
      "|2000-10-01 06:00:00|      usgs-14138800|       nwm30-23736071|    4.5590124|           0.06|    m^3/s|  NULL|nwm30_retrospective|streamflow_hourly...|          NULL|\n",
      "|2000-10-01 07:00:00|      usgs-14316700|       nwm30-23894572|    1.1326739|           0.38|    m^3/s|  NULL|nwm30_retrospective|streamflow_hourly...|          NULL|\n",
      "|2000-10-01 07:00:00|      usgs-14138800|       nwm30-23736071|    5.2952504|           0.06|    m^3/s|  NULL|nwm30_retrospective|streamflow_hourly...|          NULL|\n",
      "|2000-10-01 08:00:00|      usgs-14316700|       nwm30-23894572|    1.1326739|           0.38|    m^3/s|  NULL|nwm30_retrospective|streamflow_hourly...|          NULL|\n",
      "|2000-10-01 08:00:00|      usgs-14138800|       nwm30-23736071|     7.730499|           0.06|    m^3/s|  NULL|nwm30_retrospective|streamflow_hourly...|          NULL|\n",
      "|2000-10-01 09:00:00|      usgs-14316700|       nwm30-23894572|    1.1326739|           0.38|    m^3/s|  NULL|nwm30_retrospective|streamflow_hourly...|          NULL|\n",
      "|2000-10-01 09:00:00|      usgs-14138800|       nwm30-23736071|     9.825946|           0.07|    m^3/s|  NULL|nwm30_retrospective|streamflow_hourly...|          NULL|\n",
      "+-------------------+-------------------+---------------------+-------------+---------------+---------+------+-------------------+--------------------+--------------+\n",
      "only showing top 20 rows\n"
     ]
    }
   ],
   "source": [
    "# rewrite JTS without attributes\n",
    "#ev.joined_timeseries.create(add_attrs=False, execute_scripts=False)\n",
    "sdf = ev.joined_timeseries.to_sdf()\n",
    "sdf.show()"
   ]
  },
  {
   "cell_type": "code",
   "execution_count": 8,
   "id": "361398ab",
   "metadata": {},
   "outputs": [
    {
     "name": "stdout",
     "output_type": "stream",
     "text": [
      "+-------------+--------------------+--------------------+\n",
      "|           id|                name|            geometry|\n",
      "+-------------+--------------------+--------------------+\n",
      "|usgs-14316700|STEAMBOAT CREEK N...|[01 01 00 00 00 9...|\n",
      "|usgs-14138800|BLAZED ALDER CREE...|[01 01 00 00 00 B...|\n",
      "+-------------+--------------------+--------------------+\n",
      "\n"
     ]
    }
   ],
   "source": [
    "sdf = ev.locations.to_sdf()\n",
    "sdf.show()"
   ]
  },
  {
   "cell_type": "markdown",
   "id": "61697a17",
   "metadata": {},
   "source": [
    "### Local Testing"
   ]
  },
  {
   "cell_type": "markdown",
   "id": "ba52140b",
   "metadata": {},
   "source": [
    "##### Debug Chapman"
   ]
  },
  {
   "cell_type": "code",
   "execution_count": 9,
   "id": "cfd13b43",
   "metadata": {},
   "outputs": [],
   "source": [
    "def clean_streamflow(series):\n",
    "    \"\"\"\n",
    "    Cleans a streamflow time series by removing invalid values and keeping only years with at least 120 data points.\n",
    "\n",
    "    Args:\n",
    "        series (pandas.Series): The streamflow time series to be cleaned.\n",
    "\n",
    "    Returns:\n",
    "        tuple: A tuple containing the cleaned streamflow values and the corresponding dates.\n",
    "    \"\"\"\n",
    "    date, Q = series.index, series.values.astype(float)\n",
    "    has_value = np.isfinite(Q)\n",
    "    date, Q = date[has_value], np.abs(Q[has_value])\n",
    "    year_unique, counts = np.unique(date.year, return_counts=True)\n",
    "    keep = np.isin(date.year, year_unique[counts >= 120])\n",
    "    return Q[keep], date[keep]\n",
    "\n",
    "def format_method(method):\n",
    "    \"\"\"\n",
    "    Formats the input method parameter to a list of method names.\n",
    "\n",
    "    Args:\n",
    "        method (str or list): The input method parameter, which can be a single string or a list of strings.\n",
    "\n",
    "    Returns:\n",
    "        list: A list of method names.\n",
    "    \"\"\"\n",
    "    if method == 'all':\n",
    "        method = ['UKIH', 'Local', 'Fixed', 'Slide', 'LH', 'Chapman',\n",
    "                  'CM', 'Boughton', 'Furey', 'Eckhardt', 'EWMA', 'Willems']\n",
    "    elif isinstance(method, str):\n",
    "        method = [method]\n",
    "    return method\n",
    "\n",
    "def strict_baseflow(Q, ice=None, quantile=0.9):\n",
    "    \"\"\"\n",
    "    Identify the strict baseflow component of a flow time series.\n",
    "\n",
    "    This function applies a series of heuristic rules to identify the strict baseflow\n",
    "    component of a flow time series. The rules are based on the behavior of the\n",
    "    derivative of the flow time series, as well as the magnitude of the flow values.\n",
    "\n",
    "    The function returns a boolean mask indicating the time steps that correspond to\n",
    "    the strict baseflow component.\n",
    "\n",
    "    Parameters:\n",
    "        Q (numpy.ndarray): The flow time series.\n",
    "        ice (numpy.ndarray, optional): A boolean mask indicating time steps with ice\n",
    "            conditions, which can invalidate the groundwater-baseflow relationship.\n",
    "        quantile (float, optional): The quantile value used to identify major events.\n",
    "            Default is 0.9 (90th percentile).\n",
    "\n",
    "    Returns:\n",
    "        numpy.ndarray: A boolean mask indicating the time steps that correspond to\n",
    "            the strict baseflow component.\n",
    "    \"\"\"\n",
    "    dQ = (Q[2:] - Q[:-2]) / 2\n",
    "\n",
    "    # 1. flow data associated with positive and zero values of dy / dt\n",
    "    wet1 = np.concatenate([[True], dQ >= 0, [True]])\n",
    "\n",
    "    # 2. previous 2 points before points with dy/dt≥0, as well as the next 3 points\n",
    "    idx_first = np.where(wet1[1:].astype(int) - wet1[:-1].astype(int) == 1)[0] + 1\n",
    "    idx_last = np.where(wet1[1:].astype(int) - wet1[:-1].astype(int) == -1)[0]\n",
    "    idx_before = np.repeat([idx_first], 2) - np.tile(range(1, 3), idx_first.shape)\n",
    "    idx_next = np.repeat([idx_last], 3) + np.tile(range(1, 4), idx_last.shape)\n",
    "    idx_remove = np.concatenate([idx_before, idx_next])\n",
    "    wet2 = np.full(Q.shape, False)\n",
    "    wet2[idx_remove.clip(min=0, max=Q.shape[0] - 1)] = True\n",
    "\n",
    "    # 3. five data points after major events (quantile)\n",
    "    growing = np.concatenate([[True], (Q[1:] - Q[:-1]) >= 0, [True]])\n",
    "    idx_major = np.where((Q >= np.quantile(Q, quantile)) & growing[:-1] & ~growing[1:])[0]\n",
    "    idx_after = np.repeat([idx_major], 5) + np.tile(range(1, 6), idx_major.shape)\n",
    "    wet3 = np.full(Q.shape, False)\n",
    "    wet3[idx_after.clip(min=0, max=Q.shape[0] - 1)] = True\n",
    "\n",
    "    # 4. flow data followed by a data point with a larger value of -dy / dt\n",
    "    wet4 = np.concatenate([[True], dQ[1:] - dQ[:-1] < 0, [True, True]])\n",
    "\n",
    "    # dry points, namely strict baseflow\n",
    "    dry = ~(wet1 + wet2 + wet3 + wet4)\n",
    "\n",
    "    # avoid ice conditions which invalidate the groundwater-baseflow relationship\n",
    "    if ice is not None:\n",
    "        dry[ice] = False\n",
    "\n",
    "    return dry\n",
    "\n",
    "def recession_coefficient(Q, strict):\n",
    "    \"\"\"\n",
    "    Calculates the recession coefficient `K` from the given discharge `Q` and a boolean mask `strict` indicating which values to use.\n",
    "\n",
    "    The recession coefficient `K` is calculated as follows:\n",
    "    1. Extract the middle values of `Q` (`cQ`) and the centered finite difference of `Q` (`dQ`) using the `strict` mask.\n",
    "    2. Sort `dQ / cQ` in descending order and take the value at the 5th percentile.\n",
    "    3. Calculate `K` as the negative ratio of `cQ` to `dQ` at the selected index.\n",
    "    4. Return the exponential of `-1 / K` as the final recession coefficient.\n",
    "\n",
    "    Args:\n",
    "        Q (numpy.ndarray): Array of discharge values.\n",
    "        strict (numpy.ndarray): Boolean mask indicating which values of `Q` to use.\n",
    "\n",
    "    Returns:\n",
    "        float: The calculated recession coefficient.\n",
    "    \"\"\"\n",
    "    cQ, dQ = Q[1:-1], (Q[2:] - Q[:-2]) / 2\n",
    "    cQ, dQ = cQ[strict[1:-1]], dQ[strict[1:-1]]\n",
    "\n",
    "    idx = np.argsort(-dQ / cQ)[np.floor(dQ.shape[0] * 0.05).astype(int)]\n",
    "    K = - cQ[idx] / dQ[idx]\n",
    "    return np.exp(-1 / K)\n",
    "\n",
    "def lh(Q, beta=0.925, return_exceed=False):\n",
    "    \"\"\"LH digital filter (Lyne & Hollick, 1979)\n",
    "    Lyne, V. and Hollick, M. (1979) Stochastic Time-Variable Rainfall-Runoff Modeling. Institute of Engineers Australia National Conference, 89-93.\n",
    "\n",
    "    Args:\n",
    "        Q (np.array): streamflow\n",
    "        beta (float): filter parameter, 0.925 recommended by (Nathan & McMahon, 1990)\n",
    "    \"\"\"\n",
    "    if return_exceed:\n",
    "        b = np.zeros(Q.shape[0] + 1)\n",
    "    else:\n",
    "        b = np.zeros(Q.shape[0])\n",
    "\n",
    "    # first pass\n",
    "    b[0] = Q[0]\n",
    "    for i in range(Q.shape[0] - 1):\n",
    "        b[i + 1] = beta * b[i] + (1 - beta) / 2 * (Q[i] + Q[i + 1])\n",
    "        if b[i + 1] > Q[i + 1]:\n",
    "            b[i + 1] = Q[i + 1]\n",
    "            if return_exceed:\n",
    "                b[-1] += 1\n",
    "\n",
    "    # second pass\n",
    "    b1 = np.copy(b)\n",
    "    for i in range(Q.shape[0] - 2, -1, -1):\n",
    "        b[i] = beta * b[i + 1] + (1 - beta) / 2 * (b1[i + 1] + b1[i])\n",
    "        if b[i] > b1[i]:\n",
    "            b[i] = b1[i]\n",
    "            if return_exceed:\n",
    "                b[-1] += 1\n",
    "    return b\n",
    "\n",
    "def chapman(Q, a = 0.925, initial_method='Q0', return_exceed=False):\n",
    "    \"\"\"Chapman filter (Chapman, 1991)\n",
    "    Chapman, Tom G. \"Comment on 'Evaluation of Automated Techniques for Base Flow and Recession Analyses' by R. J. Nathan and T. A. McMahon.\" Water Resources Research 27, no. 7 (1991): 1783–84. https://doi.org/10.1029/91WR01007.\n",
    "\n",
    "    Args:\n",
    "        Q (np.array): streamflow\n",
    "        a (float): recession coefficient\n",
    "        initial_method (str or float, optional): method to calculate the initial baseflow value.\n",
    "            Accepted string values are:\n",
    "            - 'Q0': Use Q[0] as the initial baseflow value.\n",
    "            - 'min': Use np.min(Q) as the initial baseflow value.\n",
    "            - 'LH': Calculate the initial baseflow value using the LH method.\n",
    "            Alternatively, a float value can be provided to directly set the initial baseflow value.\n",
    "            Default is 'Q0'.\n",
    "        return_exceed (bool, optional): if True, returns the number of times the\n",
    "            baseflow exceeds the streamflow.\n",
    "    \"\"\"\n",
    "    if return_exceed:\n",
    "        b = np.zeros(Q.shape[0] + 1)\n",
    "    else:\n",
    "        b = np.zeros(Q.shape[0])\n",
    "\n",
    "    # Set initial value for b based on the specified method\n",
    "    if isinstance(initial_method, str):\n",
    "        if initial_method == 'Q0':\n",
    "            b[0] = Q[0]\n",
    "        elif initial_method == 'min':\n",
    "            b[0] = np.min(Q)\n",
    "        elif initial_method == 'LH':\n",
    "            b[0] = lh(Q)[0]  # Calculate the initial value using the LH method\n",
    "        else:\n",
    "            raise ValueError(f\"Invalid initial_method: {initial_method}\")\n",
    "    else:\n",
    "        b[0] = initial_method\n",
    "\n",
    "    for i in range(Q.shape[0] - 1):\n",
    "        b[i + 1] = (3 * a - 1) / (3 - a) * b[i] + (1 - a) / (3 - a) * (Q[i + 1] + Q[i])\n",
    "        if b[i + 1] > Q[i + 1]:\n",
    "            b[i + 1] = Q[i + 1]\n",
    "            if return_exceed:\n",
    "                b[-1] += 1\n",
    "    return b\n",
    "\n",
    "def single_chapman_test(series, area=None, ice=None, method='all', return_kge=True):\n",
    "    \"\"\"\n",
    "    Calculates baseflow on a single station using multiple methods.\n",
    "\n",
    "    Args:\n",
    "        series (pandas.Series): The streamflow time series to separate.\n",
    "        area (float): The area of the basin in km^2.\n",
    "        ice (numpy.ndarray): INSERT DESCRIPTION.\n",
    "        method (callable): The baseflow estimation method to use.\n",
    "        return_kge (bool): If True, returns the KGE values for each method.\n",
    "\n",
    "    Returns:\n",
    "        pandas.DataFrame or dict: The baseflow time series for each method, or error dictionary if an error occurred.\n",
    "        pandas.Series or None: The KGE values for each method, or None if an error occurred.\n",
    "    \"\"\"\n",
    "    try:\n",
    "        Q, date = clean_streamflow(series)\n",
    "        method = format_method(method)\n",
    "\n",
    "        # Check if we have sufficient data after cleaning\n",
    "        if len(Q) == 0:\n",
    "            error_msg = \"No valid data points remaining after cleaning streamflow\"\n",
    "            return {'error': error_msg, 'error_type': 'insufficient_data'}, None\n",
    "\n",
    "        if len(Q) < 3:\n",
    "            error_msg = f\"Insufficient data points ({len(Q)}) for baseflow analysis. Need at least 3 points.\"\n",
    "            return {'error': error_msg, 'error_type': 'insufficient_data'}, None\n",
    "\n",
    "        # convert ice_period ([11, 1], [3, 31]) to bool array\n",
    "        # if not isinstance(ice, np.ndarray) or ice.shape[0] == 12:\n",
    "        #     ice = exist_ice(date, ice)\n",
    "\n",
    "        strict = strict_baseflow(Q, ice)\n",
    "\n",
    "        # Check if we have sufficient strict baseflow points for recession coefficient calculation\n",
    "        strict_count = np.sum(strict[1:-1])  # middle points only for recession calculation\n",
    "        if any(m in ['Chapman'] for m in method) and strict_count < 1:\n",
    "            error_msg = f\"Insufficient strict baseflow points ({strict_count}) for Chapman method recession coefficient calculation\"\n",
    "            return {'error': error_msg, 'error_type': 'insufficient_strict_points'}, None\n",
    "\n",
    "        if any(m in ['Chapman'] for m in method):\n",
    "            a = recession_coefficient(Q, strict)\n",
    "\n",
    "        b_LH = lh(Q)\n",
    "        b = pd.DataFrame(np.nan, index=date, columns=method)\n",
    "\n",
    "        for m in method:\n",
    "            if m == 'LH':\n",
    "                b[m] = b_LH\n",
    "\n",
    "            if m == 'Chapman':\n",
    "                b[m] = chapman(Q, a)\n",
    "\n",
    "        if return_kge:\n",
    "            # Check if we have valid strict points for KGE calculation\n",
    "            strict_values = b[strict].values\n",
    "            if strict_values.size == 0:\n",
    "                error_msg = \"No strict baseflow points available for KGE calculation\"\n",
    "                return {'error': error_msg, 'error_type': 'no_strict_points'}, None\n",
    "\n",
    "            KGEs = pd.Series(return_kge(strict_values, np.repeat(\n",
    "                Q[strict], len(method)).reshape(-1, len(method))), index=b.columns)\n",
    "            return b, KGEs\n",
    "        else:\n",
    "            return b, None\n",
    "\n",
    "    except IndexError as e:\n",
    "        error_msg = f\"IndexError in baseflow calculation: {str(e)}\"\n",
    "        return {'error': error_msg, 'error_type': 'index_error'}, None\n",
    "    except ValueError as e:\n",
    "        error_msg = f\"ValueError in baseflow calculation: {str(e)}\"\n",
    "        return {'error': error_msg, 'error_type': 'value_error'}, None\n",
    "    except Exception as e:\n",
    "        error_msg = f\"Unexpected error in baseflow calculation: {str(e)}\"\n",
    "        return {'error': error_msg, 'error_type': 'unexpected_error'}, None"
   ]
  },
  {
   "cell_type": "code",
   "execution_count": 10,
   "id": "028b0a1a",
   "metadata": {},
   "outputs": [],
   "source": [
    "# Assemble the input series manually\n",
    "jts = ev.joined_timeseries.to_pandas()\n",
    "\n",
    "# trim to gage-A, sort by value_time, reindex\n",
    "jts_trimmed = jts[jts['primary_location_id'] == 'usgs-14138800']\n",
    "jts_trimmed = jts_trimmed.sort_values('value_time').reset_index(drop=True)\n",
    "\n",
    "# isolate streamflow series for baseflow separation\n",
    "streamflow = pd.Series(jts_trimmed['primary_value'].values,\n",
    "                       index=jts_trimmed['value_time'])\n"
   ]
  },
  {
   "cell_type": "code",
   "execution_count": 11,
   "id": "dc3984bb",
   "metadata": {},
   "outputs": [
    {
     "data": {
      "application/vnd.microsoft.datawrangler.viewer.v0+json": {
       "columns": [
        {
         "name": "index",
         "rawType": "int64",
         "type": "integer"
        },
        {
         "name": "value_time",
         "rawType": "datetime64[ns]",
         "type": "datetime"
        },
        {
         "name": "primary_location_id",
         "rawType": "object",
         "type": "string"
        },
        {
         "name": "secondary_location_id",
         "rawType": "object",
         "type": "string"
        },
        {
         "name": "primary_value",
         "rawType": "float32",
         "type": "float"
        },
        {
         "name": "secondary_value",
         "rawType": "float32",
         "type": "float"
        },
        {
         "name": "unit_name",
         "rawType": "object",
         "type": "string"
        },
        {
         "name": "member",
         "rawType": "object",
         "type": "unknown"
        },
        {
         "name": "configuration_name",
         "rawType": "object",
         "type": "string"
        },
        {
         "name": "variable_name",
         "rawType": "object",
         "type": "string"
        },
        {
         "name": "reference_time",
         "rawType": "object",
         "type": "unknown"
        }
       ],
       "ref": "32c31345-9f00-4a3e-949d-20877eca13f8",
       "rows": [
        [
         "0",
         "2000-10-01 00:00:00",
         "usgs-14138800",
         "nwm30-23736071",
         "3.3413877",
         "0.06",
         "m^3/s",
         null,
         "nwm30_retrospective",
         "streamflow_hourly_inst",
         null
        ],
        [
         "1",
         "2000-10-01 01:00:00",
         "usgs-14138800",
         "nwm30-23736071",
         "3.9926753",
         "0.06",
         "m^3/s",
         null,
         "nwm30_retrospective",
         "streamflow_hourly_inst",
         null
        ],
        [
         "2",
         "2000-10-01 02:00:00",
         "usgs-14138800",
         "nwm30-23736071",
         "4.445745",
         "0.06",
         "m^3/s",
         null,
         "nwm30_retrospective",
         "streamflow_hourly_inst",
         null
        ],
        [
         "3",
         "2000-10-01 03:00:00",
         "usgs-14138800",
         "nwm30-23736071",
         "5.408518",
         "0.06",
         "m^3/s",
         null,
         "nwm30_retrospective",
         "streamflow_hourly_inst",
         null
        ],
        [
         "4",
         "2000-10-01 04:00:00",
         "usgs-14138800",
         "nwm30-23736071",
         "5.6067357",
         "0.06",
         "m^3/s",
         null,
         "nwm30_retrospective",
         "streamflow_hourly_inst",
         null
        ],
        [
         "5",
         "2000-10-01 05:00:00",
         "usgs-14138800",
         "nwm30-23736071",
         "5.153666",
         "0.06",
         "m^3/s",
         null,
         "nwm30_retrospective",
         "streamflow_hourly_inst",
         null
        ],
        [
         "6",
         "2000-10-01 06:00:00",
         "usgs-14138800",
         "nwm30-23736071",
         "4.5590124",
         "0.06",
         "m^3/s",
         null,
         "nwm30_retrospective",
         "streamflow_hourly_inst",
         null
        ],
        [
         "7",
         "2000-10-01 07:00:00",
         "usgs-14138800",
         "nwm30-23736071",
         "5.2952504",
         "0.06",
         "m^3/s",
         null,
         "nwm30_retrospective",
         "streamflow_hourly_inst",
         null
        ],
        [
         "8",
         "2000-10-01 08:00:00",
         "usgs-14138800",
         "nwm30-23736071",
         "7.730499",
         "0.06",
         "m^3/s",
         null,
         "nwm30_retrospective",
         "streamflow_hourly_inst",
         null
        ],
        [
         "9",
         "2000-10-01 09:00:00",
         "usgs-14138800",
         "nwm30-23736071",
         "9.825946",
         "0.07",
         "m^3/s",
         null,
         "nwm30_retrospective",
         "streamflow_hourly_inst",
         null
        ],
        [
         "10",
         "2000-10-01 10:00:00",
         "usgs-14138800",
         "nwm30-23736071",
         "10.562183",
         "0.07",
         "m^3/s",
         null,
         "nwm30_retrospective",
         "streamflow_hourly_inst",
         null
        ],
        [
         "11",
         "2000-10-01 11:00:00",
         "usgs-14138800",
         "nwm30-23736071",
         "10.788718",
         "0.07",
         "m^3/s",
         null,
         "nwm30_retrospective",
         "streamflow_hourly_inst",
         null
        ],
        [
         "12",
         "2000-10-01 12:00:00",
         "usgs-14138800",
         "nwm30-23736071",
         "10.165748",
         "0.07",
         "m^3/s",
         null,
         "nwm30_retrospective",
         "streamflow_hourly_inst",
         null
        ],
        [
         "13",
         "2000-10-01 13:00:00",
         "usgs-14138800",
         "nwm30-23736071",
         "9.769312",
         "0.07",
         "m^3/s",
         null,
         "nwm30_retrospective",
         "streamflow_hourly_inst",
         null
        ],
        [
         "14",
         "2000-10-01 14:00:00",
         "usgs-14138800",
         "nwm30-23736071",
         "8.89149",
         "0.07",
         "m^3/s",
         null,
         "nwm30_retrospective",
         "streamflow_hourly_inst",
         null
        ],
        [
         "15",
         "2000-10-01 15:00:00",
         "usgs-14138800",
         "nwm30-23736071",
         "8.381786",
         "0.06",
         "m^3/s",
         null,
         "nwm30_retrospective",
         "streamflow_hourly_inst",
         null
        ],
        [
         "16",
         "2000-10-01 16:00:00",
         "usgs-14138800",
         "nwm30-23736071",
         "9.995847",
         "0.07",
         "m^3/s",
         null,
         "nwm30_retrospective",
         "streamflow_hourly_inst",
         null
        ],
        [
         "17",
         "2000-10-01 17:00:00",
         "usgs-14138800",
         "nwm30-23736071",
         "11.015253",
         "0.06",
         "m^3/s",
         null,
         "nwm30_retrospective",
         "streamflow_hourly_inst",
         null
        ],
        [
         "18",
         "2000-10-01 18:00:00",
         "usgs-14138800",
         "nwm30-23736071",
         "9.995847",
         "0.06",
         "m^3/s",
         null,
         "nwm30_retrospective",
         "streamflow_hourly_inst",
         null
        ],
        [
         "19",
         "2000-10-01 19:00:00",
         "usgs-14138800",
         "nwm30-23736071",
         "8.97644",
         "0.06",
         "m^3/s",
         null,
         "nwm30_retrospective",
         "streamflow_hourly_inst",
         null
        ],
        [
         "20",
         "2000-10-01 20:00:00",
         "usgs-14138800",
         "nwm30-23736071",
         "8.070301",
         "0.06",
         "m^3/s",
         null,
         "nwm30_retrospective",
         "streamflow_hourly_inst",
         null
        ],
        [
         "21",
         "2000-10-01 21:00:00",
         "usgs-14138800",
         "nwm30-23736071",
         "7.2207956",
         "0.06",
         "m^3/s",
         null,
         "nwm30_retrospective",
         "streamflow_hourly_inst",
         null
        ],
        [
         "22",
         "2000-10-01 22:00:00",
         "usgs-14138800",
         "nwm30-23736071",
         "6.569508",
         "0.06",
         "m^3/s",
         null,
         "nwm30_retrospective",
         "streamflow_hourly_inst",
         null
        ],
        [
         "23",
         "2000-10-01 23:00:00",
         "usgs-14138800",
         "nwm30-23736071",
         "6.0031714",
         "0.06",
         "m^3/s",
         null,
         "nwm30_retrospective",
         "streamflow_hourly_inst",
         null
        ],
        [
         "24",
         "2000-10-02 00:00:00",
         "usgs-14138800",
         "nwm30-23736071",
         "5.6067357",
         "0.06",
         "m^3/s",
         null,
         "nwm30_retrospective",
         "streamflow_hourly_inst",
         null
        ],
        [
         "25",
         "2000-10-02 01:00:00",
         "usgs-14138800",
         "nwm30-23736071",
         "5.153666",
         "0.06",
         "m^3/s",
         null,
         "nwm30_retrospective",
         "streamflow_hourly_inst",
         null
        ],
        [
         "26",
         "2000-10-02 02:00:00",
         "usgs-14138800",
         "nwm30-23736071",
         "4.785547",
         "0.06",
         "m^3/s",
         null,
         "nwm30_retrospective",
         "streamflow_hourly_inst",
         null
        ],
        [
         "27",
         "2000-10-02 03:00:00",
         "usgs-14138800",
         "nwm30-23736071",
         "4.5023785",
         "0.06",
         "m^3/s",
         null,
         "nwm30_retrospective",
         "streamflow_hourly_inst",
         null
        ],
        [
         "28",
         "2000-10-02 04:00:00",
         "usgs-14138800",
         "nwm30-23736071",
         "4.1342597",
         "0.06",
         "m^3/s",
         null,
         "nwm30_retrospective",
         "streamflow_hourly_inst",
         null
        ],
        [
         "29",
         "2000-10-02 05:00:00",
         "usgs-14138800",
         "nwm30-23736071",
         "3.8227742",
         "0.06",
         "m^3/s",
         null,
         "nwm30_retrospective",
         "streamflow_hourly_inst",
         null
        ],
        [
         "30",
         "2000-10-02 06:00:00",
         "usgs-14138800",
         "nwm30-23736071",
         "3.4546552",
         "0.06",
         "m^3/s",
         null,
         "nwm30_retrospective",
         "streamflow_hourly_inst",
         null
        ],
        [
         "31",
         "2000-10-02 07:00:00",
         "usgs-14138800",
         "nwm30-23736071",
         "3.2281206",
         "0.06",
         "m^3/s",
         null,
         "nwm30_retrospective",
         "streamflow_hourly_inst",
         null
        ],
        [
         "32",
         "2000-10-02 08:00:00",
         "usgs-14138800",
         "nwm30-23736071",
         "2.9732687",
         "0.06",
         "m^3/s",
         null,
         "nwm30_retrospective",
         "streamflow_hourly_inst",
         null
        ],
        [
         "33",
         "2000-10-02 09:00:00",
         "usgs-14138800",
         "nwm30-23736071",
         "2.7467341",
         "0.06",
         "m^3/s",
         null,
         "nwm30_retrospective",
         "streamflow_hourly_inst",
         null
        ],
        [
         "34",
         "2000-10-02 10:00:00",
         "usgs-14138800",
         "nwm30-23736071",
         "2.576833",
         "0.06",
         "m^3/s",
         null,
         "nwm30_retrospective",
         "streamflow_hourly_inst",
         null
        ],
        [
         "35",
         "2000-10-02 11:00:00",
         "usgs-14138800",
         "nwm30-23736071",
         "2.2653477",
         "0.06",
         "m^3/s",
         null,
         "nwm30_retrospective",
         "streamflow_hourly_inst",
         null
        ],
        [
         "36",
         "2000-10-02 12:00:00",
         "usgs-14138800",
         "nwm30-23736071",
         "2.1237636",
         "0.06",
         "m^3/s",
         null,
         "nwm30_retrospective",
         "streamflow_hourly_inst",
         null
        ],
        [
         "37",
         "2000-10-02 13:00:00",
         "usgs-14138800",
         "nwm30-23736071",
         "2.0104961",
         "0.06",
         "m^3/s",
         null,
         "nwm30_retrospective",
         "streamflow_hourly_inst",
         null
        ],
        [
         "38",
         "2000-10-02 14:00:00",
         "usgs-14138800",
         "nwm30-23736071",
         "1.9255456",
         "0.06",
         "m^3/s",
         null,
         "nwm30_retrospective",
         "streamflow_hourly_inst",
         null
        ],
        [
         "39",
         "2000-10-02 15:00:00",
         "usgs-14138800",
         "nwm30-23736071",
         "1.8122782",
         "0.06",
         "m^3/s",
         null,
         "nwm30_retrospective",
         "streamflow_hourly_inst",
         null
        ],
        [
         "40",
         "2000-10-02 16:00:00",
         "usgs-14138800",
         "nwm30-23736071",
         "1.7273276",
         "0.06",
         "m^3/s",
         null,
         "nwm30_retrospective",
         "streamflow_hourly_inst",
         null
        ],
        [
         "41",
         "2000-10-02 17:00:00",
         "usgs-14138800",
         "nwm30-23736071",
         "1.642377",
         "0.06",
         "m^3/s",
         null,
         "nwm30_retrospective",
         "streamflow_hourly_inst",
         null
        ],
        [
         "42",
         "2000-10-02 18:00:00",
         "usgs-14138800",
         "nwm30-23736071",
         "1.5007929",
         "0.06",
         "m^3/s",
         null,
         "nwm30_retrospective",
         "streamflow_hourly_inst",
         null
        ],
        [
         "43",
         "2000-10-02 19:00:00",
         "usgs-14138800",
         "nwm30-23736071",
         "1.4158423",
         "0.19",
         "m^3/s",
         null,
         "nwm30_retrospective",
         "streamflow_hourly_inst",
         null
        ],
        [
         "44",
         "2000-10-02 20:00:00",
         "usgs-14138800",
         "nwm30-23736071",
         "1.3592086",
         "0.06",
         "m^3/s",
         null,
         "nwm30_retrospective",
         "streamflow_hourly_inst",
         null
        ],
        [
         "45",
         "2000-10-02 21:00:00",
         "usgs-14138800",
         "nwm30-23736071",
         "1.3025749",
         "0.06",
         "m^3/s",
         null,
         "nwm30_retrospective",
         "streamflow_hourly_inst",
         null
        ],
        [
         "46",
         "2000-10-02 22:00:00",
         "usgs-14138800",
         "nwm30-23736071",
         "1.2459413",
         "0.19",
         "m^3/s",
         null,
         "nwm30_retrospective",
         "streamflow_hourly_inst",
         null
        ],
        [
         "47",
         "2000-10-02 23:00:00",
         "usgs-14138800",
         "nwm30-23736071",
         "1.2176244",
         "0.06",
         "m^3/s",
         null,
         "nwm30_retrospective",
         "streamflow_hourly_inst",
         null
        ],
        [
         "48",
         "2000-10-03 00:00:00",
         "usgs-14138800",
         "nwm30-23736071",
         "1.1609907",
         "0.06",
         "m^3/s",
         null,
         "nwm30_retrospective",
         "streamflow_hourly_inst",
         null
        ],
        [
         "49",
         "2000-10-03 01:00:00",
         "usgs-14138800",
         "nwm30-23736071",
         "1.1326739",
         "0.06",
         "m^3/s",
         null,
         "nwm30_retrospective",
         "streamflow_hourly_inst",
         null
        ]
       ],
       "shape": {
        "columns": 10,
        "rows": 100278
       }
      },
      "text/html": [
       "<div>\n",
       "<style scoped>\n",
       "    .dataframe tbody tr th:only-of-type {\n",
       "        vertical-align: middle;\n",
       "    }\n",
       "\n",
       "    .dataframe tbody tr th {\n",
       "        vertical-align: top;\n",
       "    }\n",
       "\n",
       "    .dataframe thead th {\n",
       "        text-align: right;\n",
       "    }\n",
       "</style>\n",
       "<table border=\"1\" class=\"dataframe\">\n",
       "  <thead>\n",
       "    <tr style=\"text-align: right;\">\n",
       "      <th></th>\n",
       "      <th>value_time</th>\n",
       "      <th>primary_location_id</th>\n",
       "      <th>secondary_location_id</th>\n",
       "      <th>primary_value</th>\n",
       "      <th>secondary_value</th>\n",
       "      <th>unit_name</th>\n",
       "      <th>member</th>\n",
       "      <th>configuration_name</th>\n",
       "      <th>variable_name</th>\n",
       "      <th>reference_time</th>\n",
       "    </tr>\n",
       "  </thead>\n",
       "  <tbody>\n",
       "    <tr>\n",
       "      <th>0</th>\n",
       "      <td>2000-10-01 00:00:00</td>\n",
       "      <td>usgs-14138800</td>\n",
       "      <td>nwm30-23736071</td>\n",
       "      <td>3.341388</td>\n",
       "      <td>0.06</td>\n",
       "      <td>m^3/s</td>\n",
       "      <td>None</td>\n",
       "      <td>nwm30_retrospective</td>\n",
       "      <td>streamflow_hourly_inst</td>\n",
       "      <td>None</td>\n",
       "    </tr>\n",
       "    <tr>\n",
       "      <th>1</th>\n",
       "      <td>2000-10-01 01:00:00</td>\n",
       "      <td>usgs-14138800</td>\n",
       "      <td>nwm30-23736071</td>\n",
       "      <td>3.992675</td>\n",
       "      <td>0.06</td>\n",
       "      <td>m^3/s</td>\n",
       "      <td>None</td>\n",
       "      <td>nwm30_retrospective</td>\n",
       "      <td>streamflow_hourly_inst</td>\n",
       "      <td>None</td>\n",
       "    </tr>\n",
       "    <tr>\n",
       "      <th>2</th>\n",
       "      <td>2000-10-01 02:00:00</td>\n",
       "      <td>usgs-14138800</td>\n",
       "      <td>nwm30-23736071</td>\n",
       "      <td>4.445745</td>\n",
       "      <td>0.06</td>\n",
       "      <td>m^3/s</td>\n",
       "      <td>None</td>\n",
       "      <td>nwm30_retrospective</td>\n",
       "      <td>streamflow_hourly_inst</td>\n",
       "      <td>None</td>\n",
       "    </tr>\n",
       "    <tr>\n",
       "      <th>3</th>\n",
       "      <td>2000-10-01 03:00:00</td>\n",
       "      <td>usgs-14138800</td>\n",
       "      <td>nwm30-23736071</td>\n",
       "      <td>5.408518</td>\n",
       "      <td>0.06</td>\n",
       "      <td>m^3/s</td>\n",
       "      <td>None</td>\n",
       "      <td>nwm30_retrospective</td>\n",
       "      <td>streamflow_hourly_inst</td>\n",
       "      <td>None</td>\n",
       "    </tr>\n",
       "    <tr>\n",
       "      <th>4</th>\n",
       "      <td>2000-10-01 04:00:00</td>\n",
       "      <td>usgs-14138800</td>\n",
       "      <td>nwm30-23736071</td>\n",
       "      <td>5.606736</td>\n",
       "      <td>0.06</td>\n",
       "      <td>m^3/s</td>\n",
       "      <td>None</td>\n",
       "      <td>nwm30_retrospective</td>\n",
       "      <td>streamflow_hourly_inst</td>\n",
       "      <td>None</td>\n",
       "    </tr>\n",
       "    <tr>\n",
       "      <th>...</th>\n",
       "      <td>...</td>\n",
       "      <td>...</td>\n",
       "      <td>...</td>\n",
       "      <td>...</td>\n",
       "      <td>...</td>\n",
       "      <td>...</td>\n",
       "      <td>...</td>\n",
       "      <td>...</td>\n",
       "      <td>...</td>\n",
       "      <td>...</td>\n",
       "    </tr>\n",
       "    <tr>\n",
       "      <th>100273</th>\n",
       "      <td>2012-09-29 20:00:00</td>\n",
       "      <td>usgs-14138800</td>\n",
       "      <td>nwm30-23736071</td>\n",
       "      <td>0.052953</td>\n",
       "      <td>0.07</td>\n",
       "      <td>m^3/s</td>\n",
       "      <td>None</td>\n",
       "      <td>nwm30_retrospective</td>\n",
       "      <td>streamflow_hourly_inst</td>\n",
       "      <td>None</td>\n",
       "    </tr>\n",
       "    <tr>\n",
       "      <th>100274</th>\n",
       "      <td>2012-09-29 21:00:00</td>\n",
       "      <td>usgs-14138800</td>\n",
       "      <td>nwm30-23736071</td>\n",
       "      <td>0.052953</td>\n",
       "      <td>0.07</td>\n",
       "      <td>m^3/s</td>\n",
       "      <td>None</td>\n",
       "      <td>nwm30_retrospective</td>\n",
       "      <td>streamflow_hourly_inst</td>\n",
       "      <td>None</td>\n",
       "    </tr>\n",
       "    <tr>\n",
       "      <th>100275</th>\n",
       "      <td>2012-09-29 22:00:00</td>\n",
       "      <td>usgs-14138800</td>\n",
       "      <td>nwm30-23736071</td>\n",
       "      <td>0.052953</td>\n",
       "      <td>0.07</td>\n",
       "      <td>m^3/s</td>\n",
       "      <td>None</td>\n",
       "      <td>nwm30_retrospective</td>\n",
       "      <td>streamflow_hourly_inst</td>\n",
       "      <td>None</td>\n",
       "    </tr>\n",
       "    <tr>\n",
       "      <th>100276</th>\n",
       "      <td>2012-09-29 23:00:00</td>\n",
       "      <td>usgs-14138800</td>\n",
       "      <td>nwm30-23736071</td>\n",
       "      <td>0.052953</td>\n",
       "      <td>0.07</td>\n",
       "      <td>m^3/s</td>\n",
       "      <td>None</td>\n",
       "      <td>nwm30_retrospective</td>\n",
       "      <td>streamflow_hourly_inst</td>\n",
       "      <td>None</td>\n",
       "    </tr>\n",
       "    <tr>\n",
       "      <th>100277</th>\n",
       "      <td>2012-09-30 00:00:00</td>\n",
       "      <td>usgs-14138800</td>\n",
       "      <td>nwm30-23736071</td>\n",
       "      <td>0.052953</td>\n",
       "      <td>0.07</td>\n",
       "      <td>m^3/s</td>\n",
       "      <td>None</td>\n",
       "      <td>nwm30_retrospective</td>\n",
       "      <td>streamflow_hourly_inst</td>\n",
       "      <td>None</td>\n",
       "    </tr>\n",
       "  </tbody>\n",
       "</table>\n",
       "<p>100278 rows × 10 columns</p>\n",
       "</div>"
      ],
      "text/plain": [
       "                value_time primary_location_id secondary_location_id  \\\n",
       "0      2000-10-01 00:00:00       usgs-14138800        nwm30-23736071   \n",
       "1      2000-10-01 01:00:00       usgs-14138800        nwm30-23736071   \n",
       "2      2000-10-01 02:00:00       usgs-14138800        nwm30-23736071   \n",
       "3      2000-10-01 03:00:00       usgs-14138800        nwm30-23736071   \n",
       "4      2000-10-01 04:00:00       usgs-14138800        nwm30-23736071   \n",
       "...                    ...                 ...                   ...   \n",
       "100273 2012-09-29 20:00:00       usgs-14138800        nwm30-23736071   \n",
       "100274 2012-09-29 21:00:00       usgs-14138800        nwm30-23736071   \n",
       "100275 2012-09-29 22:00:00       usgs-14138800        nwm30-23736071   \n",
       "100276 2012-09-29 23:00:00       usgs-14138800        nwm30-23736071   \n",
       "100277 2012-09-30 00:00:00       usgs-14138800        nwm30-23736071   \n",
       "\n",
       "        primary_value  secondary_value unit_name member   configuration_name  \\\n",
       "0            3.341388             0.06     m^3/s   None  nwm30_retrospective   \n",
       "1            3.992675             0.06     m^3/s   None  nwm30_retrospective   \n",
       "2            4.445745             0.06     m^3/s   None  nwm30_retrospective   \n",
       "3            5.408518             0.06     m^3/s   None  nwm30_retrospective   \n",
       "4            5.606736             0.06     m^3/s   None  nwm30_retrospective   \n",
       "...               ...              ...       ...    ...                  ...   \n",
       "100273       0.052953             0.07     m^3/s   None  nwm30_retrospective   \n",
       "100274       0.052953             0.07     m^3/s   None  nwm30_retrospective   \n",
       "100275       0.052953             0.07     m^3/s   None  nwm30_retrospective   \n",
       "100276       0.052953             0.07     m^3/s   None  nwm30_retrospective   \n",
       "100277       0.052953             0.07     m^3/s   None  nwm30_retrospective   \n",
       "\n",
       "                 variable_name reference_time  \n",
       "0       streamflow_hourly_inst           None  \n",
       "1       streamflow_hourly_inst           None  \n",
       "2       streamflow_hourly_inst           None  \n",
       "3       streamflow_hourly_inst           None  \n",
       "4       streamflow_hourly_inst           None  \n",
       "...                        ...            ...  \n",
       "100273  streamflow_hourly_inst           None  \n",
       "100274  streamflow_hourly_inst           None  \n",
       "100275  streamflow_hourly_inst           None  \n",
       "100276  streamflow_hourly_inst           None  \n",
       "100277  streamflow_hourly_inst           None  \n",
       "\n",
       "[100278 rows x 10 columns]"
      ]
     },
     "execution_count": 11,
     "metadata": {},
     "output_type": "execute_result"
    }
   ],
   "source": [
    "jts_trimmed"
   ]
  },
  {
   "cell_type": "code",
   "execution_count": 12,
   "id": "635782a9",
   "metadata": {},
   "outputs": [
    {
     "data": {
      "application/vnd.microsoft.datawrangler.viewer.v0+json": {
       "columns": [
        {
         "name": "value_time",
         "rawType": "datetime64[ns]",
         "type": "datetime"
        },
        {
         "name": "0",
         "rawType": "float32",
         "type": "float"
        }
       ],
       "ref": "804894c6-bbd9-41c4-8197-94c8b1a94915",
       "rows": [
        [
         "2000-10-01 00:00:00",
         "3.3413877"
        ],
        [
         "2000-10-01 01:00:00",
         "3.9926753"
        ],
        [
         "2000-10-01 02:00:00",
         "4.445745"
        ],
        [
         "2000-10-01 03:00:00",
         "5.408518"
        ],
        [
         "2000-10-01 04:00:00",
         "5.6067357"
        ],
        [
         "2000-10-01 05:00:00",
         "5.153666"
        ],
        [
         "2000-10-01 06:00:00",
         "4.5590124"
        ],
        [
         "2000-10-01 07:00:00",
         "5.2952504"
        ],
        [
         "2000-10-01 08:00:00",
         "7.730499"
        ],
        [
         "2000-10-01 09:00:00",
         "9.825946"
        ],
        [
         "2000-10-01 10:00:00",
         "10.562183"
        ],
        [
         "2000-10-01 11:00:00",
         "10.788718"
        ],
        [
         "2000-10-01 12:00:00",
         "10.165748"
        ],
        [
         "2000-10-01 13:00:00",
         "9.769312"
        ],
        [
         "2000-10-01 14:00:00",
         "8.89149"
        ],
        [
         "2000-10-01 15:00:00",
         "8.381786"
        ],
        [
         "2000-10-01 16:00:00",
         "9.995847"
        ],
        [
         "2000-10-01 17:00:00",
         "11.015253"
        ],
        [
         "2000-10-01 18:00:00",
         "9.995847"
        ],
        [
         "2000-10-01 19:00:00",
         "8.97644"
        ],
        [
         "2000-10-01 20:00:00",
         "8.070301"
        ],
        [
         "2000-10-01 21:00:00",
         "7.2207956"
        ],
        [
         "2000-10-01 22:00:00",
         "6.569508"
        ],
        [
         "2000-10-01 23:00:00",
         "6.0031714"
        ],
        [
         "2000-10-02 00:00:00",
         "5.6067357"
        ],
        [
         "2000-10-02 01:00:00",
         "5.153666"
        ],
        [
         "2000-10-02 02:00:00",
         "4.785547"
        ],
        [
         "2000-10-02 03:00:00",
         "4.5023785"
        ],
        [
         "2000-10-02 04:00:00",
         "4.1342597"
        ],
        [
         "2000-10-02 05:00:00",
         "3.8227742"
        ],
        [
         "2000-10-02 06:00:00",
         "3.4546552"
        ],
        [
         "2000-10-02 07:00:00",
         "3.2281206"
        ],
        [
         "2000-10-02 08:00:00",
         "2.9732687"
        ],
        [
         "2000-10-02 09:00:00",
         "2.7467341"
        ],
        [
         "2000-10-02 10:00:00",
         "2.576833"
        ],
        [
         "2000-10-02 11:00:00",
         "2.2653477"
        ],
        [
         "2000-10-02 12:00:00",
         "2.1237636"
        ],
        [
         "2000-10-02 13:00:00",
         "2.0104961"
        ],
        [
         "2000-10-02 14:00:00",
         "1.9255456"
        ],
        [
         "2000-10-02 15:00:00",
         "1.8122782"
        ],
        [
         "2000-10-02 16:00:00",
         "1.7273276"
        ],
        [
         "2000-10-02 17:00:00",
         "1.642377"
        ],
        [
         "2000-10-02 18:00:00",
         "1.5007929"
        ],
        [
         "2000-10-02 19:00:00",
         "1.4158423"
        ],
        [
         "2000-10-02 20:00:00",
         "1.3592086"
        ],
        [
         "2000-10-02 21:00:00",
         "1.3025749"
        ],
        [
         "2000-10-02 22:00:00",
         "1.2459413"
        ],
        [
         "2000-10-02 23:00:00",
         "1.2176244"
        ],
        [
         "2000-10-03 00:00:00",
         "1.1609907"
        ],
        [
         "2000-10-03 01:00:00",
         "1.1326739"
        ]
       ],
       "shape": {
        "columns": 1,
        "rows": 100278
       }
      },
      "text/plain": [
       "value_time\n",
       "2000-10-01 00:00:00    3.341388\n",
       "2000-10-01 01:00:00    3.992675\n",
       "2000-10-01 02:00:00    4.445745\n",
       "2000-10-01 03:00:00    5.408518\n",
       "2000-10-01 04:00:00    5.606736\n",
       "                         ...   \n",
       "2012-09-29 20:00:00    0.052953\n",
       "2012-09-29 21:00:00    0.052953\n",
       "2012-09-29 22:00:00    0.052953\n",
       "2012-09-29 23:00:00    0.052953\n",
       "2012-09-30 00:00:00    0.052953\n",
       "Length: 100278, dtype: float32"
      ]
     },
     "execution_count": 12,
     "metadata": {},
     "output_type": "execute_result"
    }
   ],
   "source": [
    "streamflow"
   ]
  },
  {
   "cell_type": "code",
   "execution_count": 13,
   "id": "d6f5aeec",
   "metadata": {},
   "outputs": [],
   "source": [
    "# try lyne-hollick\n",
    "result = single_chapman_test(series=streamflow,\n",
    "                             area=None,\n",
    "                             ice=None,\n",
    "                             method='LH',\n",
    "                             return_kge=False)"
   ]
  },
  {
   "cell_type": "code",
   "execution_count": 14,
   "id": "0f1e2b88",
   "metadata": {},
   "outputs": [
    {
     "data": {
      "application/vnd.microsoft.datawrangler.viewer.v0+json": {
       "columns": [
        {
         "name": "value_time",
         "rawType": "datetime64[ns]",
         "type": "datetime"
        },
        {
         "name": "LH",
         "rawType": "float64",
         "type": "float"
        }
       ],
       "ref": "ff395597-eea9-4955-a22b-9f8b4a27365f",
       "rows": [
        [
         "2000-10-01 00:00:00",
         "3.3413877487182617"
        ],
        [
         "2000-10-01 01:00:00",
         "3.3658110320568086"
        ],
        [
         "2000-10-01 02:00:00",
         "3.429815965741873"
        ],
        [
         "2000-10-01 03:00:00",
         "3.5421146243922412"
        ],
        [
         "2000-10-01 04:00:00",
         "3.689528035457339"
        ],
        [
         "2000-10-01 05:00:00",
         "3.8163284975143776"
        ],
        [
         "2000-10-01 06:00:00",
         "3.894329301418222"
        ],
        [
         "2000-10-01 07:00:00",
         "3.971789459892864"
        ],
        [
         "2000-10-01 08:00:00",
         "4.162370845646261"
        ],
        [
         "2000-10-01 09:00:00",
         "4.50855970640759"
        ],
        [
         "2000-10-01 10:00:00",
         "4.934972574713795"
        ],
        [
         "2000-10-01 11:00:00",
         "5.191337775283627"
        ],
        [
         "2000-10-01 12:00:00",
         "5.161673423806148"
        ],
        [
         "2000-10-01 13:00:00",
         "5.10123449708127"
        ],
        [
         "2000-10-01 14:00:00",
         "5.013140450251747"
        ],
        [
         "2000-10-01 15:00:00",
         "4.90090220616886"
        ],
        [
         "2000-10-01 16:00:00",
         "4.764267728066992"
        ],
        [
         "2000-10-01 17:00:00",
         "4.596723628684549"
        ],
        [
         "2000-10-01 18:00:00",
         "4.3932474776054855"
        ],
        [
         "2000-10-01 19:00:00",
         "4.1557014660962075"
        ],
        [
         "2000-10-01 20:00:00",
         "3.8886679537096907"
        ],
        [
         "2000-10-01 21:00:00",
         "3.6075424683965363"
        ],
        [
         "2000-10-01 22:00:00",
         "3.3409795452750606"
        ],
        [
         "2000-10-01 23:00:00",
         "3.1021665549060122"
        ],
        [
         "2000-10-02 00:00:00",
         "2.883021661373991"
        ],
        [
         "2000-10-02 01:00:00",
         "2.6805476720623265"
        ],
        [
         "2000-10-02 02:00:00",
         "2.494948315780667"
        ],
        [
         "2000-10-02 03:00:00",
         "2.320703912598923"
        ],
        [
         "2000-10-02 04:00:00",
         "2.158735115058825"
        ],
        [
         "2000-10-02 05:00:00",
         "2.0111852376607153"
        ],
        [
         "2000-10-02 06:00:00",
         "1.879223391703345"
        ],
        [
         "2000-10-02 07:00:00",
         "1.7606695152527336"
        ],
        [
         "2000-10-02 08:00:00",
         "1.6520188281349497"
        ],
        [
         "2000-10-02 09:00:00",
         "1.5540742916472492"
        ],
        [
         "2000-10-02 10:00:00",
         "1.4642600253474323"
        ],
        [
         "2000-10-02 11:00:00",
         "1.3866791870413178"
        ],
        [
         "2000-10-02 12:00:00",
         "1.321175690837589"
        ],
        [
         "2000-10-02 13:00:00",
         "1.260692921144347"
        ],
        [
         "2000-10-02 14:00:00",
         "1.2033420074765537"
        ],
        [
         "2000-10-02 15:00:00",
         "1.1493768841065433"
        ],
        [
         "2000-10-02 16:00:00",
         "1.099072074571973"
        ],
        [
         "2000-10-02 17:00:00",
         "1.0515763804501521"
        ],
        [
         "2000-10-02 18:00:00",
         "1.0094135242739484"
        ],
        [
         "2000-10-02 19:00:00",
         "0.9730158983092227"
        ],
        [
         "2000-10-02 20:00:00",
         "0.9394070166103173"
        ],
        [
         "2000-10-02 21:00:00",
         "0.9076650129515984"
        ],
        [
         "2000-10-02 22:00:00",
         "0.8779412509900019"
        ],
        [
         "2000-10-02 23:00:00",
         "0.8492513913186484"
        ],
        [
         "2000-10-03 00:00:00",
         "0.8216792686857719"
        ],
        [
         "2000-10-03 01:00:00",
         "0.7953155104188165"
        ]
       ],
       "shape": {
        "columns": 1,
        "rows": 100278
       }
      },
      "text/html": [
       "<div>\n",
       "<style scoped>\n",
       "    .dataframe tbody tr th:only-of-type {\n",
       "        vertical-align: middle;\n",
       "    }\n",
       "\n",
       "    .dataframe tbody tr th {\n",
       "        vertical-align: top;\n",
       "    }\n",
       "\n",
       "    .dataframe thead th {\n",
       "        text-align: right;\n",
       "    }\n",
       "</style>\n",
       "<table border=\"1\" class=\"dataframe\">\n",
       "  <thead>\n",
       "    <tr style=\"text-align: right;\">\n",
       "      <th></th>\n",
       "      <th>LH</th>\n",
       "    </tr>\n",
       "    <tr>\n",
       "      <th>value_time</th>\n",
       "      <th></th>\n",
       "    </tr>\n",
       "  </thead>\n",
       "  <tbody>\n",
       "    <tr>\n",
       "      <th>2000-10-01 00:00:00</th>\n",
       "      <td>3.341388</td>\n",
       "    </tr>\n",
       "    <tr>\n",
       "      <th>2000-10-01 01:00:00</th>\n",
       "      <td>3.365811</td>\n",
       "    </tr>\n",
       "    <tr>\n",
       "      <th>2000-10-01 02:00:00</th>\n",
       "      <td>3.429816</td>\n",
       "    </tr>\n",
       "    <tr>\n",
       "      <th>2000-10-01 03:00:00</th>\n",
       "      <td>3.542115</td>\n",
       "    </tr>\n",
       "    <tr>\n",
       "      <th>2000-10-01 04:00:00</th>\n",
       "      <td>3.689528</td>\n",
       "    </tr>\n",
       "    <tr>\n",
       "      <th>...</th>\n",
       "      <td>...</td>\n",
       "    </tr>\n",
       "    <tr>\n",
       "      <th>2012-09-29 20:00:00</th>\n",
       "      <td>0.052953</td>\n",
       "    </tr>\n",
       "    <tr>\n",
       "      <th>2012-09-29 21:00:00</th>\n",
       "      <td>0.052953</td>\n",
       "    </tr>\n",
       "    <tr>\n",
       "      <th>2012-09-29 22:00:00</th>\n",
       "      <td>0.052953</td>\n",
       "    </tr>\n",
       "    <tr>\n",
       "      <th>2012-09-29 23:00:00</th>\n",
       "      <td>0.052953</td>\n",
       "    </tr>\n",
       "    <tr>\n",
       "      <th>2012-09-30 00:00:00</th>\n",
       "      <td>0.052953</td>\n",
       "    </tr>\n",
       "  </tbody>\n",
       "</table>\n",
       "<p>100278 rows × 1 columns</p>\n",
       "</div>"
      ],
      "text/plain": [
       "                           LH\n",
       "value_time                   \n",
       "2000-10-01 00:00:00  3.341388\n",
       "2000-10-01 01:00:00  3.365811\n",
       "2000-10-01 02:00:00  3.429816\n",
       "2000-10-01 03:00:00  3.542115\n",
       "2000-10-01 04:00:00  3.689528\n",
       "...                       ...\n",
       "2012-09-29 20:00:00  0.052953\n",
       "2012-09-29 21:00:00  0.052953\n",
       "2012-09-29 22:00:00  0.052953\n",
       "2012-09-29 23:00:00  0.052953\n",
       "2012-09-30 00:00:00  0.052953\n",
       "\n",
       "[100278 rows x 1 columns]"
      ]
     },
     "execution_count": 14,
     "metadata": {},
     "output_type": "execute_result"
    }
   ],
   "source": [
    "result_df = result[0]\n",
    "result_df"
   ]
  },
  {
   "cell_type": "code",
   "execution_count": 15,
   "id": "c2ed1cb0",
   "metadata": {},
   "outputs": [],
   "source": [
    "# try chapman\n",
    "result = single_chapman_test(series=streamflow,\n",
    "                             area = None,\n",
    "                             ice = None,\n",
    "                             method='Chapman',\n",
    "                             return_kge=False)"
   ]
  },
  {
   "cell_type": "code",
   "execution_count": 16,
   "id": "e6b84a30",
   "metadata": {},
   "outputs": [
    {
     "data": {
      "application/vnd.microsoft.datawrangler.viewer.v0+json": {
       "columns": [
        {
         "name": "value_time",
         "rawType": "datetime64[ns]",
         "type": "datetime"
        },
        {
         "name": "Chapman",
         "rawType": "float64",
         "type": "float"
        }
       ],
       "ref": "645c24d0-ad7b-4b50-bca2-d852bd6be81d",
       "rows": [
        [
         "2000-10-01 00:00:00",
         "3.3413877487182617"
        ],
        [
         "2000-10-01 01:00:00",
         "3.3087501391875898"
        ],
        [
         "2000-10-01 02:00:00",
         "3.2827948665990854"
        ],
        [
         "2000-10-01 03:00:00",
         "3.2650628033479294"
        ],
        [
         "2000-10-01 04:00:00",
         "3.2539969045060197"
        ],
        [
         "2000-10-01 05:00:00",
         "3.2417914699059054"
        ],
        [
         "2000-10-01 06:00:00",
         "3.224180775571636"
        ],
        [
         "2000-10-01 07:00:00",
         "3.2077174034523708"
        ],
        [
         "2000-10-01 08:00:00",
         "3.2087719366147622"
        ],
        [
         "2000-10-01 09:00:00",
         "3.234320160269615"
        ],
        [
         "2000-10-01 10:00:00",
         "3.27463821933017"
        ],
        [
         "2000-10-01 11:00:00",
         "3.319293358832062"
        ],
        [
         "2000-10-01 12:00:00",
         "3.3608367516114535"
        ],
        [
         "2000-10-01 13:00:00",
         "3.395964730170693"
        ],
        [
         "2000-10-01 14:00:00",
         "3.423437102454507"
        ],
        [
         "2000-10-01 15:00:00",
         "3.4428066569757387"
        ],
        [
         "2000-10-01 16:00:00",
         "3.4677328604362936"
        ],
        [
         "2000-10-01 17:00:00",
         "3.5063697655602843"
        ],
        [
         "2000-10-01 18:00:00",
         "3.544170382037035"
        ],
        [
         "2000-10-01 19:00:00",
         "3.5701203808061677"
        ],
        [
         "2000-10-01 20:00:00",
         "3.585089176795524"
        ],
        [
         "2000-10-01 21:00:00",
         "3.5902338244407743"
        ],
        [
         "2000-10-01 22:00:00",
         "3.587146020697971"
        ],
        [
         "2000-10-01 23:00:00",
         "3.5775362394540555"
        ],
        [
         "2000-10-02 00:00:00",
         "3.5629247027894815"
        ],
        [
         "2000-10-02 01:00:00",
         "3.5440325832778266"
        ],
        [
         "2000-10-02 02:00:00",
         "3.5211057596772"
        ],
        [
         "2000-10-02 03:00:00",
         "3.4951509333274133"
        ],
        [
         "2000-10-02 04:00:00",
         "3.466233647366774"
        ],
        [
         "2000-10-02 05:00:00",
         "3.434264793477753"
        ],
        [
         "2000-10-02 06:00:00",
         "3.3993104209921983"
        ],
        [
         "2000-10-02 07:00:00",
         "3.2281205654144287"
        ],
        [
         "2000-10-02 08:00:00",
         "2.973268747329712"
        ],
        [
         "2000-10-02 09:00:00",
         "2.746734142303467"
        ],
        [
         "2000-10-02 10:00:00",
         "2.5768330097198486"
        ],
        [
         "2000-10-02 11:00:00",
         "2.265347719192505"
        ],
        [
         "2000-10-02 12:00:00",
         "2.1237635612487793"
        ],
        [
         "2000-10-02 13:00:00",
         "2.010496139526367"
        ],
        [
         "2000-10-02 14:00:00",
         "1.925545573234558"
        ],
        [
         "2000-10-02 15:00:00",
         "1.812278151512146"
        ],
        [
         "2000-10-02 16:00:00",
         "1.727327585220337"
        ],
        [
         "2000-10-02 17:00:00",
         "1.6423770189285278"
        ],
        [
         "2000-10-02 18:00:00",
         "1.5007928609848022"
        ],
        [
         "2000-10-02 19:00:00",
         "1.4158422946929932"
        ],
        [
         "2000-10-02 20:00:00",
         "1.359208583831787"
        ],
        [
         "2000-10-02 21:00:00",
         "1.302574872970581"
        ],
        [
         "2000-10-02 22:00:00",
         "1.2459412813186646"
        ],
        [
         "2000-10-02 23:00:00",
         "1.2176244258880615"
        ],
        [
         "2000-10-03 00:00:00",
         "1.1609907150268555"
        ],
        [
         "2000-10-03 01:00:00",
         "1.1326738595962524"
        ]
       ],
       "shape": {
        "columns": 1,
        "rows": 100278
       }
      },
      "text/html": [
       "<div>\n",
       "<style scoped>\n",
       "    .dataframe tbody tr th:only-of-type {\n",
       "        vertical-align: middle;\n",
       "    }\n",
       "\n",
       "    .dataframe tbody tr th {\n",
       "        vertical-align: top;\n",
       "    }\n",
       "\n",
       "    .dataframe thead th {\n",
       "        text-align: right;\n",
       "    }\n",
       "</style>\n",
       "<table border=\"1\" class=\"dataframe\">\n",
       "  <thead>\n",
       "    <tr style=\"text-align: right;\">\n",
       "      <th></th>\n",
       "      <th>Chapman</th>\n",
       "    </tr>\n",
       "    <tr>\n",
       "      <th>value_time</th>\n",
       "      <th></th>\n",
       "    </tr>\n",
       "  </thead>\n",
       "  <tbody>\n",
       "    <tr>\n",
       "      <th>2000-10-01 00:00:00</th>\n",
       "      <td>3.341388</td>\n",
       "    </tr>\n",
       "    <tr>\n",
       "      <th>2000-10-01 01:00:00</th>\n",
       "      <td>3.308750</td>\n",
       "    </tr>\n",
       "    <tr>\n",
       "      <th>2000-10-01 02:00:00</th>\n",
       "      <td>3.282795</td>\n",
       "    </tr>\n",
       "    <tr>\n",
       "      <th>2000-10-01 03:00:00</th>\n",
       "      <td>3.265063</td>\n",
       "    </tr>\n",
       "    <tr>\n",
       "      <th>2000-10-01 04:00:00</th>\n",
       "      <td>3.253997</td>\n",
       "    </tr>\n",
       "    <tr>\n",
       "      <th>...</th>\n",
       "      <td>...</td>\n",
       "    </tr>\n",
       "    <tr>\n",
       "      <th>2012-09-29 20:00:00</th>\n",
       "      <td>0.027012</td>\n",
       "    </tr>\n",
       "    <tr>\n",
       "      <th>2012-09-29 21:00:00</th>\n",
       "      <td>0.027001</td>\n",
       "    </tr>\n",
       "    <tr>\n",
       "      <th>2012-09-29 22:00:00</th>\n",
       "      <td>0.026989</td>\n",
       "    </tr>\n",
       "    <tr>\n",
       "      <th>2012-09-29 23:00:00</th>\n",
       "      <td>0.026978</td>\n",
       "    </tr>\n",
       "    <tr>\n",
       "      <th>2012-09-30 00:00:00</th>\n",
       "      <td>0.026967</td>\n",
       "    </tr>\n",
       "  </tbody>\n",
       "</table>\n",
       "<p>100278 rows × 1 columns</p>\n",
       "</div>"
      ],
      "text/plain": [
       "                      Chapman\n",
       "value_time                   \n",
       "2000-10-01 00:00:00  3.341388\n",
       "2000-10-01 01:00:00  3.308750\n",
       "2000-10-01 02:00:00  3.282795\n",
       "2000-10-01 03:00:00  3.265063\n",
       "2000-10-01 04:00:00  3.253997\n",
       "...                       ...\n",
       "2012-09-29 20:00:00  0.027012\n",
       "2012-09-29 21:00:00  0.027001\n",
       "2012-09-29 22:00:00  0.026989\n",
       "2012-09-29 23:00:00  0.026978\n",
       "2012-09-30 00:00:00  0.026967\n",
       "\n",
       "[100278 rows x 1 columns]"
      ]
     },
     "execution_count": 16,
     "metadata": {},
     "output_type": "execute_result"
    }
   ],
   "source": [
    "result_df = result[0]\n",
    "result_df"
   ]
  },
  {
   "cell_type": "markdown",
   "id": "6f624abe",
   "metadata": {},
   "source": [
    "#### Test minimum record length\n",
    "\n",
    "NOTE: remember that some cases were failing with >=120 hourly timesteps via the strict_baseflow() method. Need to try and replicate by choosing a baseflow dominated period and trying this same test."
   ]
  },
  {
   "cell_type": "markdown",
   "id": "f8e82e98",
   "metadata": {},
   "source": [
    "##### length == 120 timesteps"
   ]
  },
  {
   "cell_type": "code",
   "execution_count": 17,
   "id": "618ec295",
   "metadata": {},
   "outputs": [],
   "source": [
    "# define start_POR and end_POR to trim streamflow to exactly 120 hours\n",
    "start_POR = streamflow.index.min()\n",
    "end_POR = start_POR + pd.Timedelta(hours=119)\n",
    "streamflow = streamflow[start_POR:end_POR]"
   ]
  },
  {
   "cell_type": "code",
   "execution_count": 18,
   "id": "ad744ce1",
   "metadata": {},
   "outputs": [],
   "source": [
    "result = single_chapman_test(series=streamflow,\n",
    "                             area = None,\n",
    "                             ice = None,\n",
    "                             method='Chapman',\n",
    "                             return_kge=False)"
   ]
  },
  {
   "cell_type": "code",
   "execution_count": 19,
   "id": "804cd590",
   "metadata": {},
   "outputs": [
    {
     "data": {
      "application/vnd.microsoft.datawrangler.viewer.v0+json": {
       "columns": [
        {
         "name": "value_time",
         "rawType": "datetime64[ns]",
         "type": "datetime"
        },
        {
         "name": "Chapman",
         "rawType": "float64",
         "type": "float"
        }
       ],
       "ref": "d52e3b22-6d0d-4379-b49d-d1f7547d382d",
       "rows": [
        [
         "2000-10-01 00:00:00",
         "3.3413877487182617"
        ],
        [
         "2000-10-01 01:00:00",
         "3.2552296427525387"
        ],
        [
         "2000-10-01 02:00:00",
         "3.1897699459407156"
        ],
        [
         "2000-10-01 03:00:00",
         "3.148275454128448"
        ],
        [
         "2000-10-01 04:00:00",
         "3.1257363360887935"
        ],
        [
         "2000-10-01 05:00:00",
         "3.1008445914330496"
        ],
        [
         "2000-10-01 06:00:00",
         "3.0624087009510266"
        ],
        [
         "2000-10-01 07:00:00",
         "3.0281914871489204"
        ],
        [
         "2000-10-01 08:00:00",
         "3.0412331957692373"
        ],
        [
         "2000-10-01 09:00:00",
         "3.1182494237374647"
        ],
        [
         "2000-10-01 10:00:00",
         "3.2313148478066394"
        ],
        [
         "2000-10-01 11:00:00",
         "3.3516727730123703"
        ],
        [
         "2000-10-01 12:00:00",
         "3.4594906091861892"
        ],
        [
         "2000-10-01 13:00:00",
         "3.546585923645778"
        ],
        [
         "2000-10-01 14:00:00",
         "3.6105022983196937"
        ],
        [
         "2000-10-01 15:00:00",
         "3.6509461516866257"
        ],
        [
         "2000-10-01 16:00:00",
         "3.704854514112585"
        ],
        [
         "2000-10-01 17:00:00",
         "3.7933009436244456"
        ],
        [
         "2000-10-01 18:00:00",
         "3.876693643827865"
        ],
        [
         "2000-10-01 19:00:00",
         "3.9261975150011796"
        ],
        [
         "2000-10-01 20:00:00",
         "3.9453669130408824"
        ],
        [
         "2000-10-01 21:00:00",
         "3.9383621019627775"
        ],
        [
         "2000-10-01 22:00:00",
         "3.910319132999708"
        ],
        [
         "2000-10-01 23:00:00",
         "3.866485089209941"
        ],
        [
         "2000-10-02 00:00:00",
         "3.8114027412341014"
        ],
        [
         "2000-10-02 01:00:00",
         "3.7473327908936196"
        ],
        [
         "2000-10-02 02:00:00",
         "3.675193272852477"
        ],
        [
         "2000-10-02 03:00:00",
         "3.5978722663327485"
        ],
        [
         "2000-10-02 04:00:00",
         "3.515665842558354"
        ],
        [
         "2000-10-02 05:00:00",
         "3.428448645355065"
        ],
        [
         "2000-10-02 06:00:00",
         "3.336506981264022"
        ],
        [
         "2000-10-02 07:00:00",
         "3.2281205654144287"
        ],
        [
         "2000-10-02 08:00:00",
         "2.973268747329712"
        ],
        [
         "2000-10-02 09:00:00",
         "2.746734142303467"
        ],
        [
         "2000-10-02 10:00:00",
         "2.5768330097198486"
        ],
        [
         "2000-10-02 11:00:00",
         "2.265347719192505"
        ],
        [
         "2000-10-02 12:00:00",
         "2.1237635612487793"
        ],
        [
         "2000-10-02 13:00:00",
         "2.010496139526367"
        ],
        [
         "2000-10-02 14:00:00",
         "1.925545573234558"
        ],
        [
         "2000-10-02 15:00:00",
         "1.812278151512146"
        ],
        [
         "2000-10-02 16:00:00",
         "1.727327585220337"
        ],
        [
         "2000-10-02 17:00:00",
         "1.6423770189285278"
        ],
        [
         "2000-10-02 18:00:00",
         "1.5007928609848022"
        ],
        [
         "2000-10-02 19:00:00",
         "1.4158422946929932"
        ],
        [
         "2000-10-02 20:00:00",
         "1.359208583831787"
        ],
        [
         "2000-10-02 21:00:00",
         "1.302574872970581"
        ],
        [
         "2000-10-02 22:00:00",
         "1.2459412813186646"
        ],
        [
         "2000-10-02 23:00:00",
         "1.2099409426602836"
        ],
        [
         "2000-10-03 00:00:00",
         "1.1609907150268555"
        ],
        [
         "2000-10-03 01:00:00",
         "1.1274173661803133"
        ]
       ],
       "shape": {
        "columns": 1,
        "rows": 120
       }
      },
      "text/html": [
       "<div>\n",
       "<style scoped>\n",
       "    .dataframe tbody tr th:only-of-type {\n",
       "        vertical-align: middle;\n",
       "    }\n",
       "\n",
       "    .dataframe tbody tr th {\n",
       "        vertical-align: top;\n",
       "    }\n",
       "\n",
       "    .dataframe thead th {\n",
       "        text-align: right;\n",
       "    }\n",
       "</style>\n",
       "<table border=\"1\" class=\"dataframe\">\n",
       "  <thead>\n",
       "    <tr style=\"text-align: right;\">\n",
       "      <th></th>\n",
       "      <th>Chapman</th>\n",
       "    </tr>\n",
       "    <tr>\n",
       "      <th>value_time</th>\n",
       "      <th></th>\n",
       "    </tr>\n",
       "  </thead>\n",
       "  <tbody>\n",
       "    <tr>\n",
       "      <th>2000-10-01 00:00:00</th>\n",
       "      <td>3.341388</td>\n",
       "    </tr>\n",
       "    <tr>\n",
       "      <th>2000-10-01 01:00:00</th>\n",
       "      <td>3.255230</td>\n",
       "    </tr>\n",
       "    <tr>\n",
       "      <th>2000-10-01 02:00:00</th>\n",
       "      <td>3.189770</td>\n",
       "    </tr>\n",
       "    <tr>\n",
       "      <th>2000-10-01 03:00:00</th>\n",
       "      <td>3.148275</td>\n",
       "    </tr>\n",
       "    <tr>\n",
       "      <th>2000-10-01 04:00:00</th>\n",
       "      <td>3.125736</td>\n",
       "    </tr>\n",
       "    <tr>\n",
       "      <th>...</th>\n",
       "      <td>...</td>\n",
       "    </tr>\n",
       "    <tr>\n",
       "      <th>2000-10-05 19:00:00</th>\n",
       "      <td>0.229031</td>\n",
       "    </tr>\n",
       "    <tr>\n",
       "      <th>2000-10-05 20:00:00</th>\n",
       "      <td>0.226462</td>\n",
       "    </tr>\n",
       "    <tr>\n",
       "      <th>2000-10-05 21:00:00</th>\n",
       "      <td>0.223634</td>\n",
       "    </tr>\n",
       "    <tr>\n",
       "      <th>2000-10-05 22:00:00</th>\n",
       "      <td>0.220564</td>\n",
       "    </tr>\n",
       "    <tr>\n",
       "      <th>2000-10-05 23:00:00</th>\n",
       "      <td>0.217669</td>\n",
       "    </tr>\n",
       "  </tbody>\n",
       "</table>\n",
       "<p>120 rows × 1 columns</p>\n",
       "</div>"
      ],
      "text/plain": [
       "                      Chapman\n",
       "value_time                   \n",
       "2000-10-01 00:00:00  3.341388\n",
       "2000-10-01 01:00:00  3.255230\n",
       "2000-10-01 02:00:00  3.189770\n",
       "2000-10-01 03:00:00  3.148275\n",
       "2000-10-01 04:00:00  3.125736\n",
       "...                       ...\n",
       "2000-10-05 19:00:00  0.229031\n",
       "2000-10-05 20:00:00  0.226462\n",
       "2000-10-05 21:00:00  0.223634\n",
       "2000-10-05 22:00:00  0.220564\n",
       "2000-10-05 23:00:00  0.217669\n",
       "\n",
       "[120 rows x 1 columns]"
      ]
     },
     "execution_count": 19,
     "metadata": {},
     "output_type": "execute_result"
    }
   ],
   "source": [
    "result_df = result[0]\n",
    "result_df"
   ]
  },
  {
   "cell_type": "markdown",
   "id": "a5865250",
   "metadata": {},
   "source": [
    "##### length < 120 timesteps"
   ]
  },
  {
   "cell_type": "code",
   "execution_count": 20,
   "id": "661d6165",
   "metadata": {},
   "outputs": [],
   "source": [
    "# define start_POR and end_POR to trim streamflow to exactly 120 hours\n",
    "start_POR = streamflow.index.min()\n",
    "end_POR = start_POR + pd.Timedelta(hours=118)\n",
    "streamflow = streamflow[start_POR:end_POR]"
   ]
  },
  {
   "cell_type": "code",
   "execution_count": 21,
   "id": "42dd40cb",
   "metadata": {},
   "outputs": [],
   "source": [
    "result = single_chapman_test(series=streamflow,\n",
    "                             area = None,\n",
    "                             ice = None,\n",
    "                             method='Chapman',\n",
    "                             return_kge=False)"
   ]
  },
  {
   "cell_type": "code",
   "execution_count": 22,
   "id": "bf8e309d",
   "metadata": {},
   "outputs": [
    {
     "data": {
      "text/plain": [
       "{'error': 'No valid data points remaining after cleaning streamflow',\n",
       " 'error_type': 'insufficient_data'}"
      ]
     },
     "execution_count": 22,
     "metadata": {},
     "output_type": "execute_result"
    }
   ],
   "source": [
    "result_df = result[0]\n",
    "result_df"
   ]
  },
  {
   "cell_type": "markdown",
   "id": "7952392a",
   "metadata": {},
   "source": [
    "### Test adding baseflow"
   ]
  },
  {
   "cell_type": "markdown",
   "id": "974ad31e",
   "metadata": {},
   "source": [
    "#### Lynn-Hollick"
   ]
  },
  {
   "cell_type": "code",
   "execution_count": 23,
   "id": "dfc6ea8f",
   "metadata": {},
   "outputs": [
    {
     "name": "stderr",
     "output_type": "stream",
     "text": [
      "                                                                                \r"
     ]
    },
    {
     "name": "stdout",
     "output_type": "stream",
     "text": [
      "+-------------------+-------------------+---------------------+-------------+---------------+---------+------+-------------------+--------------------+--------------+--------------------+----------------------+\n",
      "|         value_time|primary_location_id|secondary_location_id|primary_value|secondary_value|unit_name|member| configuration_name|       variable_name|reference_time|lyne_hollick_primary|lyne_hollick_secondary|\n",
      "+-------------------+-------------------+---------------------+-------------+---------------+---------+------+-------------------+--------------------+--------------+--------------------+----------------------+\n",
      "|2000-10-01 00:00:00|      usgs-14316700|       nwm30-23894572|    1.1326739|           0.38|    m^3/s|  NULL|nwm30_retrospective|streamflow_hourly...|          NULL|                1.13|                  0.38|\n",
      "|2000-10-01 01:00:00|      usgs-14316700|       nwm30-23894572|    1.1326739|           0.38|    m^3/s|  NULL|nwm30_retrospective|streamflow_hourly...|          NULL|                1.13|                  0.38|\n",
      "|2000-10-01 02:00:00|      usgs-14316700|       nwm30-23894572|    1.1326739|           0.38|    m^3/s|  NULL|nwm30_retrospective|streamflow_hourly...|          NULL|                1.13|                  0.38|\n",
      "|2000-10-01 03:00:00|      usgs-14316700|       nwm30-23894572|    1.1326739|           0.38|    m^3/s|  NULL|nwm30_retrospective|streamflow_hourly...|          NULL|                1.13|                  0.38|\n",
      "|2000-10-01 04:00:00|      usgs-14316700|       nwm30-23894572|    1.1326739|           0.38|    m^3/s|  NULL|nwm30_retrospective|streamflow_hourly...|          NULL|                1.13|                  0.38|\n",
      "|2000-10-01 05:00:00|      usgs-14316700|       nwm30-23894572|    1.1326739|           0.38|    m^3/s|  NULL|nwm30_retrospective|streamflow_hourly...|          NULL|                1.13|                  0.38|\n",
      "|2000-10-01 06:00:00|      usgs-14316700|       nwm30-23894572|    1.1326739|           0.38|    m^3/s|  NULL|nwm30_retrospective|streamflow_hourly...|          NULL|                1.13|                  0.38|\n",
      "|2000-10-01 07:00:00|      usgs-14316700|       nwm30-23894572|    1.1326739|           0.38|    m^3/s|  NULL|nwm30_retrospective|streamflow_hourly...|          NULL|                1.13|                  0.38|\n",
      "|2000-10-01 08:00:00|      usgs-14316700|       nwm30-23894572|    1.1326739|           0.38|    m^3/s|  NULL|nwm30_retrospective|streamflow_hourly...|          NULL|                1.13|                  0.38|\n",
      "|2000-10-01 09:00:00|      usgs-14316700|       nwm30-23894572|    1.1326739|           0.38|    m^3/s|  NULL|nwm30_retrospective|streamflow_hourly...|          NULL|                1.13|                  0.38|\n",
      "|2000-10-01 10:00:00|      usgs-14316700|       nwm30-23894572|    1.1326739|           0.38|    m^3/s|  NULL|nwm30_retrospective|streamflow_hourly...|          NULL|                1.13|                  0.38|\n",
      "|2000-10-01 11:00:00|      usgs-14316700|       nwm30-23894572|    1.1326739|           0.38|    m^3/s|  NULL|nwm30_retrospective|streamflow_hourly...|          NULL|                1.13|                  0.38|\n",
      "|2000-10-01 12:00:00|      usgs-14316700|       nwm30-23894572|    1.1326739|           0.38|    m^3/s|  NULL|nwm30_retrospective|streamflow_hourly...|          NULL|                1.13|                  0.38|\n",
      "|2000-10-01 13:00:00|      usgs-14316700|       nwm30-23894572|    1.1326739|           0.38|    m^3/s|  NULL|nwm30_retrospective|streamflow_hourly...|          NULL|                1.13|                  0.38|\n",
      "|2000-10-01 14:00:00|      usgs-14316700|       nwm30-23894572|    1.1326739|           0.38|    m^3/s|  NULL|nwm30_retrospective|streamflow_hourly...|          NULL|                1.13|                  0.37|\n",
      "|2000-10-01 15:00:00|      usgs-14316700|       nwm30-23894572|    1.1326739|           0.38|    m^3/s|  NULL|nwm30_retrospective|streamflow_hourly...|          NULL|                1.13|                  0.37|\n",
      "|2000-10-01 16:00:00|      usgs-14316700|       nwm30-23894572|    1.1326739|           0.38|    m^3/s|  NULL|nwm30_retrospective|streamflow_hourly...|          NULL|                1.13|                  0.37|\n",
      "|2000-10-01 17:00:00|      usgs-14316700|       nwm30-23894572|    1.1326739|           0.38|    m^3/s|  NULL|nwm30_retrospective|streamflow_hourly...|          NULL|                1.13|                  0.37|\n",
      "|2000-10-01 18:00:00|      usgs-14316700|       nwm30-23894572|    1.1326739|           0.38|    m^3/s|  NULL|nwm30_retrospective|streamflow_hourly...|          NULL|                1.13|                  0.37|\n",
      "|2000-10-01 19:00:00|      usgs-14316700|       nwm30-23894572|    1.1326739|           0.38|    m^3/s|  NULL|nwm30_retrospective|streamflow_hourly...|          NULL|                1.13|                  0.37|\n",
      "+-------------------+-------------------+---------------------+-------------+---------------+---------+------+-------------------+--------------------+--------------+--------------------+----------------------+\n",
      "only showing top 20 rows\n"
     ]
    }
   ],
   "source": [
    "sdf = ev.joined_timeseries.add_calculated_fields([\n",
    "    tcf.LyneHollickBaseflow(\n",
    "        output_field_name = 'lyne_hollick_primary'\n",
    "    ),\n",
    "    tcf.LyneHollickBaseflow(\n",
    "        value_field_name = 'secondary_value',\n",
    "        output_field_name = 'lyne_hollick_secondary',\n",
    "    )\n",
    "]).to_sdf()\n",
    "\n",
    "sdf.show()"
   ]
  },
  {
   "cell_type": "markdown",
   "id": "2cb8248d",
   "metadata": {},
   "source": [
    "#### Chapman"
   ]
  },
  {
   "cell_type": "code",
   "execution_count": 24,
   "id": "2c608ddc",
   "metadata": {},
   "outputs": [
    {
     "name": "stderr",
     "output_type": "stream",
     "text": [
      "                                                                                \r"
     ]
    },
    {
     "name": "stdout",
     "output_type": "stream",
     "text": [
      "+-------------------+-------------------+---------------------+-------------+---------------+---------+------+-------------------+--------------------+--------------+---------------+-----------------+\n",
      "|         value_time|primary_location_id|secondary_location_id|primary_value|secondary_value|unit_name|member| configuration_name|       variable_name|reference_time|chapman_primary|chapman_secondary|\n",
      "+-------------------+-------------------+---------------------+-------------+---------------+---------+------+-------------------+--------------------+--------------+---------------+-----------------+\n",
      "|2000-10-01 00:00:00|      usgs-14316700|       nwm30-23894572|    1.1326739|           0.38|    m^3/s|  NULL|nwm30_retrospective|streamflow_hourly...|          NULL|           1.13|             0.38|\n",
      "|2000-10-01 01:00:00|      usgs-14316700|       nwm30-23894572|    1.1326739|           0.38|    m^3/s|  NULL|nwm30_retrospective|streamflow_hourly...|          NULL|           1.13|             0.38|\n",
      "|2000-10-01 02:00:00|      usgs-14316700|       nwm30-23894572|    1.1326739|           0.38|    m^3/s|  NULL|nwm30_retrospective|streamflow_hourly...|          NULL|           1.12|             0.38|\n",
      "|2000-10-01 03:00:00|      usgs-14316700|       nwm30-23894572|    1.1326739|           0.38|    m^3/s|  NULL|nwm30_retrospective|streamflow_hourly...|          NULL|           1.12|             0.38|\n",
      "|2000-10-01 04:00:00|      usgs-14316700|       nwm30-23894572|    1.1326739|           0.38|    m^3/s|  NULL|nwm30_retrospective|streamflow_hourly...|          NULL|           1.11|             0.38|\n",
      "|2000-10-01 05:00:00|      usgs-14316700|       nwm30-23894572|    1.1326739|           0.38|    m^3/s|  NULL|nwm30_retrospective|streamflow_hourly...|          NULL|           1.11|             0.38|\n",
      "|2000-10-01 06:00:00|      usgs-14316700|       nwm30-23894572|    1.1326739|           0.38|    m^3/s|  NULL|nwm30_retrospective|streamflow_hourly...|          NULL|            1.1|             0.38|\n",
      "|2000-10-01 07:00:00|      usgs-14316700|       nwm30-23894572|    1.1326739|           0.38|    m^3/s|  NULL|nwm30_retrospective|streamflow_hourly...|          NULL|            1.1|             0.38|\n",
      "|2000-10-01 08:00:00|      usgs-14316700|       nwm30-23894572|    1.1326739|           0.38|    m^3/s|  NULL|nwm30_retrospective|streamflow_hourly...|          NULL|           1.09|             0.38|\n",
      "|2000-10-01 09:00:00|      usgs-14316700|       nwm30-23894572|    1.1326739|           0.38|    m^3/s|  NULL|nwm30_retrospective|streamflow_hourly...|          NULL|           1.08|             0.37|\n",
      "|2000-10-01 10:00:00|      usgs-14316700|       nwm30-23894572|    1.1326739|           0.38|    m^3/s|  NULL|nwm30_retrospective|streamflow_hourly...|          NULL|           1.08|             0.37|\n",
      "|2000-10-01 11:00:00|      usgs-14316700|       nwm30-23894572|    1.1326739|           0.38|    m^3/s|  NULL|nwm30_retrospective|streamflow_hourly...|          NULL|           1.07|             0.37|\n",
      "|2000-10-01 12:00:00|      usgs-14316700|       nwm30-23894572|    1.1326739|           0.38|    m^3/s|  NULL|nwm30_retrospective|streamflow_hourly...|          NULL|           1.07|             0.37|\n",
      "|2000-10-01 13:00:00|      usgs-14316700|       nwm30-23894572|    1.1326739|           0.38|    m^3/s|  NULL|nwm30_retrospective|streamflow_hourly...|          NULL|           1.07|             0.37|\n",
      "|2000-10-01 14:00:00|      usgs-14316700|       nwm30-23894572|    1.1326739|           0.38|    m^3/s|  NULL|nwm30_retrospective|streamflow_hourly...|          NULL|           1.06|             0.37|\n",
      "|2000-10-01 15:00:00|      usgs-14316700|       nwm30-23894572|    1.1326739|           0.38|    m^3/s|  NULL|nwm30_retrospective|streamflow_hourly...|          NULL|           1.06|             0.37|\n",
      "|2000-10-01 16:00:00|      usgs-14316700|       nwm30-23894572|    1.1326739|           0.38|    m^3/s|  NULL|nwm30_retrospective|streamflow_hourly...|          NULL|           1.05|             0.37|\n",
      "|2000-10-01 17:00:00|      usgs-14316700|       nwm30-23894572|    1.1326739|           0.38|    m^3/s|  NULL|nwm30_retrospective|streamflow_hourly...|          NULL|           1.05|             0.37|\n",
      "|2000-10-01 18:00:00|      usgs-14316700|       nwm30-23894572|    1.1326739|           0.38|    m^3/s|  NULL|nwm30_retrospective|streamflow_hourly...|          NULL|           1.04|             0.37|\n",
      "|2000-10-01 19:00:00|      usgs-14316700|       nwm30-23894572|    1.1326739|           0.38|    m^3/s|  NULL|nwm30_retrospective|streamflow_hourly...|          NULL|           1.04|             0.37|\n",
      "+-------------------+-------------------+---------------------+-------------+---------------+---------+------+-------------------+--------------------+--------------+---------------+-----------------+\n",
      "only showing top 20 rows\n"
     ]
    }
   ],
   "source": [
    "sdf = ev.joined_timeseries.add_calculated_fields([\n",
    "    tcf.ChapmanBaseflow(\n",
    "        output_field_name = 'chapman_primary'\n",
    "    ),\n",
    "    tcf.ChapmanBaseflow(\n",
    "        value_field_name = 'secondary_value',\n",
    "        output_field_name = 'chapman_secondary',\n",
    "    )\n",
    "]).to_sdf()\n",
    "\n",
    "sdf.show()"
   ]
  },
  {
   "cell_type": "markdown",
   "id": "0f8650bb",
   "metadata": {},
   "source": [
    "#### Chapman-Maxwell"
   ]
  },
  {
   "cell_type": "code",
   "execution_count": 25,
   "id": "924a6dee",
   "metadata": {},
   "outputs": [
    {
     "name": "stderr",
     "output_type": "stream",
     "text": [
      "                                                                                \r"
     ]
    },
    {
     "name": "stdout",
     "output_type": "stream",
     "text": [
      "+-------------------+-------------------+---------------------+-------------+---------------+---------+------+-------------------+--------------------+--------------+-----------------------+-------------------------+\n",
      "|         value_time|primary_location_id|secondary_location_id|primary_value|secondary_value|unit_name|member| configuration_name|       variable_name|reference_time|chapman_maxwell_primary|chapman_maxwell_secondary|\n",
      "+-------------------+-------------------+---------------------+-------------+---------------+---------+------+-------------------+--------------------+--------------+-----------------------+-------------------------+\n",
      "|2000-10-01 00:00:00|      usgs-14316700|       nwm30-23894572|    1.1326739|           0.38|    m^3/s|  NULL|nwm30_retrospective|streamflow_hourly...|          NULL|                   1.13|                     0.38|\n",
      "|2000-10-01 01:00:00|      usgs-14316700|       nwm30-23894572|    1.1326739|           0.38|    m^3/s|  NULL|nwm30_retrospective|streamflow_hourly...|          NULL|                   1.13|                     0.38|\n",
      "|2000-10-01 02:00:00|      usgs-14316700|       nwm30-23894572|    1.1326739|           0.38|    m^3/s|  NULL|nwm30_retrospective|streamflow_hourly...|          NULL|                   1.12|                     0.38|\n",
      "|2000-10-01 03:00:00|      usgs-14316700|       nwm30-23894572|    1.1326739|           0.38|    m^3/s|  NULL|nwm30_retrospective|streamflow_hourly...|          NULL|                   1.12|                     0.38|\n",
      "|2000-10-01 04:00:00|      usgs-14316700|       nwm30-23894572|    1.1326739|           0.38|    m^3/s|  NULL|nwm30_retrospective|streamflow_hourly...|          NULL|                   1.11|                     0.38|\n",
      "|2000-10-01 05:00:00|      usgs-14316700|       nwm30-23894572|    1.1326739|           0.38|    m^3/s|  NULL|nwm30_retrospective|streamflow_hourly...|          NULL|                   1.11|                     0.38|\n",
      "|2000-10-01 06:00:00|      usgs-14316700|       nwm30-23894572|    1.1326739|           0.38|    m^3/s|  NULL|nwm30_retrospective|streamflow_hourly...|          NULL|                    1.1|                     0.38|\n",
      "|2000-10-01 07:00:00|      usgs-14316700|       nwm30-23894572|    1.1326739|           0.38|    m^3/s|  NULL|nwm30_retrospective|streamflow_hourly...|          NULL|                    1.1|                     0.38|\n",
      "|2000-10-01 08:00:00|      usgs-14316700|       nwm30-23894572|    1.1326739|           0.38|    m^3/s|  NULL|nwm30_retrospective|streamflow_hourly...|          NULL|                   1.09|                     0.38|\n",
      "|2000-10-01 09:00:00|      usgs-14316700|       nwm30-23894572|    1.1326739|           0.38|    m^3/s|  NULL|nwm30_retrospective|streamflow_hourly...|          NULL|                   1.09|                     0.37|\n",
      "|2000-10-01 10:00:00|      usgs-14316700|       nwm30-23894572|    1.1326739|           0.38|    m^3/s|  NULL|nwm30_retrospective|streamflow_hourly...|          NULL|                   1.08|                     0.37|\n",
      "|2000-10-01 11:00:00|      usgs-14316700|       nwm30-23894572|    1.1326739|           0.38|    m^3/s|  NULL|nwm30_retrospective|streamflow_hourly...|          NULL|                   1.07|                     0.37|\n",
      "|2000-10-01 12:00:00|      usgs-14316700|       nwm30-23894572|    1.1326739|           0.38|    m^3/s|  NULL|nwm30_retrospective|streamflow_hourly...|          NULL|                   1.07|                     0.37|\n",
      "|2000-10-01 13:00:00|      usgs-14316700|       nwm30-23894572|    1.1326739|           0.38|    m^3/s|  NULL|nwm30_retrospective|streamflow_hourly...|          NULL|                   1.07|                     0.37|\n",
      "|2000-10-01 14:00:00|      usgs-14316700|       nwm30-23894572|    1.1326739|           0.38|    m^3/s|  NULL|nwm30_retrospective|streamflow_hourly...|          NULL|                   1.06|                     0.37|\n",
      "|2000-10-01 15:00:00|      usgs-14316700|       nwm30-23894572|    1.1326739|           0.38|    m^3/s|  NULL|nwm30_retrospective|streamflow_hourly...|          NULL|                   1.06|                     0.37|\n",
      "|2000-10-01 16:00:00|      usgs-14316700|       nwm30-23894572|    1.1326739|           0.38|    m^3/s|  NULL|nwm30_retrospective|streamflow_hourly...|          NULL|                   1.05|                     0.37|\n",
      "|2000-10-01 17:00:00|      usgs-14316700|       nwm30-23894572|    1.1326739|           0.38|    m^3/s|  NULL|nwm30_retrospective|streamflow_hourly...|          NULL|                   1.05|                     0.37|\n",
      "|2000-10-01 18:00:00|      usgs-14316700|       nwm30-23894572|    1.1326739|           0.38|    m^3/s|  NULL|nwm30_retrospective|streamflow_hourly...|          NULL|                   1.04|                     0.37|\n",
      "|2000-10-01 19:00:00|      usgs-14316700|       nwm30-23894572|    1.1326739|           0.38|    m^3/s|  NULL|nwm30_retrospective|streamflow_hourly...|          NULL|                   1.04|                     0.37|\n",
      "+-------------------+-------------------+---------------------+-------------+---------------+---------+------+-------------------+--------------------+--------------+-----------------------+-------------------------+\n",
      "only showing top 20 rows\n"
     ]
    }
   ],
   "source": [
    "sdf = ev.joined_timeseries.add_calculated_fields([\n",
    "    tcf.ChapmanMaxwellBaseflow(\n",
    "        output_field_name = 'chapman_maxwell_primary'\n",
    "    ),\n",
    "    tcf.ChapmanMaxwellBaseflow(\n",
    "        value_field_name = 'secondary_value',\n",
    "        output_field_name = 'chapman_maxwell_secondary',\n",
    "    )\n",
    "]).to_sdf()\n",
    "\n",
    "sdf.show()"
   ]
  },
  {
   "cell_type": "markdown",
   "id": "fcad19a4",
   "metadata": {},
   "source": [
    "#### Boughton"
   ]
  },
  {
   "cell_type": "code",
   "execution_count": 26,
   "id": "cdae5fb7",
   "metadata": {},
   "outputs": [
    {
     "name": "stderr",
     "output_type": "stream",
     "text": [
      "[Stage 92:>                                                         (0 + 2) / 2]\r"
     ]
    },
    {
     "name": "stdout",
     "output_type": "stream",
     "text": [
      "+-------------------+-------------------+---------------------+-------------+---------------+---------+------+-------------------+--------------------+--------------+----------------+------------------+\n",
      "|         value_time|primary_location_id|secondary_location_id|primary_value|secondary_value|unit_name|member| configuration_name|       variable_name|reference_time|boughton_primary|boughton_secondary|\n",
      "+-------------------+-------------------+---------------------+-------------+---------------+---------+------+-------------------+--------------------+--------------+----------------+------------------+\n",
      "|2000-10-01 00:00:00|      usgs-14316700|       nwm30-23894572|    1.1326739|           0.38|    m^3/s|  NULL|nwm30_retrospective|streamflow_hourly...|          NULL|            1.13|              0.38|\n",
      "|2000-10-01 01:00:00|      usgs-14316700|       nwm30-23894572|    1.1326739|           0.38|    m^3/s|  NULL|nwm30_retrospective|streamflow_hourly...|          NULL|            1.13|              0.38|\n",
      "|2000-10-01 02:00:00|      usgs-14316700|       nwm30-23894572|    1.1326739|           0.38|    m^3/s|  NULL|nwm30_retrospective|streamflow_hourly...|          NULL|            1.12|              0.38|\n",
      "|2000-10-01 03:00:00|      usgs-14316700|       nwm30-23894572|    1.1326739|           0.38|    m^3/s|  NULL|nwm30_retrospective|streamflow_hourly...|          NULL|            1.12|              0.38|\n",
      "|2000-10-01 04:00:00|      usgs-14316700|       nwm30-23894572|    1.1326739|           0.38|    m^3/s|  NULL|nwm30_retrospective|streamflow_hourly...|          NULL|            1.12|              0.38|\n",
      "|2000-10-01 05:00:00|      usgs-14316700|       nwm30-23894572|    1.1326739|           0.38|    m^3/s|  NULL|nwm30_retrospective|streamflow_hourly...|          NULL|            1.11|              0.38|\n",
      "|2000-10-01 06:00:00|      usgs-14316700|       nwm30-23894572|    1.1326739|           0.38|    m^3/s|  NULL|nwm30_retrospective|streamflow_hourly...|          NULL|            1.11|              0.38|\n",
      "|2000-10-01 07:00:00|      usgs-14316700|       nwm30-23894572|    1.1326739|           0.38|    m^3/s|  NULL|nwm30_retrospective|streamflow_hourly...|          NULL|            1.11|              0.38|\n",
      "|2000-10-01 08:00:00|      usgs-14316700|       nwm30-23894572|    1.1326739|           0.38|    m^3/s|  NULL|nwm30_retrospective|streamflow_hourly...|          NULL|             1.1|              0.38|\n",
      "|2000-10-01 09:00:00|      usgs-14316700|       nwm30-23894572|    1.1326739|           0.38|    m^3/s|  NULL|nwm30_retrospective|streamflow_hourly...|          NULL|             1.1|              0.38|\n",
      "|2000-10-01 10:00:00|      usgs-14316700|       nwm30-23894572|    1.1326739|           0.38|    m^3/s|  NULL|nwm30_retrospective|streamflow_hourly...|          NULL|             1.1|              0.38|\n",
      "|2000-10-01 11:00:00|      usgs-14316700|       nwm30-23894572|    1.1326739|           0.38|    m^3/s|  NULL|nwm30_retrospective|streamflow_hourly...|          NULL|             1.1|              0.38|\n",
      "|2000-10-01 12:00:00|      usgs-14316700|       nwm30-23894572|    1.1326739|           0.38|    m^3/s|  NULL|nwm30_retrospective|streamflow_hourly...|          NULL|             1.1|              0.38|\n",
      "|2000-10-01 13:00:00|      usgs-14316700|       nwm30-23894572|    1.1326739|           0.38|    m^3/s|  NULL|nwm30_retrospective|streamflow_hourly...|          NULL|            1.09|              0.38|\n",
      "|2000-10-01 14:00:00|      usgs-14316700|       nwm30-23894572|    1.1326739|           0.38|    m^3/s|  NULL|nwm30_retrospective|streamflow_hourly...|          NULL|            1.09|              0.38|\n",
      "|2000-10-01 15:00:00|      usgs-14316700|       nwm30-23894572|    1.1326739|           0.38|    m^3/s|  NULL|nwm30_retrospective|streamflow_hourly...|          NULL|            1.09|              0.37|\n",
      "|2000-10-01 16:00:00|      usgs-14316700|       nwm30-23894572|    1.1326739|           0.38|    m^3/s|  NULL|nwm30_retrospective|streamflow_hourly...|          NULL|            1.09|              0.37|\n",
      "|2000-10-01 17:00:00|      usgs-14316700|       nwm30-23894572|    1.1326739|           0.38|    m^3/s|  NULL|nwm30_retrospective|streamflow_hourly...|          NULL|            1.09|              0.37|\n",
      "|2000-10-01 18:00:00|      usgs-14316700|       nwm30-23894572|    1.1326739|           0.38|    m^3/s|  NULL|nwm30_retrospective|streamflow_hourly...|          NULL|            1.09|              0.37|\n",
      "|2000-10-01 19:00:00|      usgs-14316700|       nwm30-23894572|    1.1326739|           0.38|    m^3/s|  NULL|nwm30_retrospective|streamflow_hourly...|          NULL|            1.09|              0.37|\n",
      "+-------------------+-------------------+---------------------+-------------+---------------+---------+------+-------------------+--------------------+--------------+----------------+------------------+\n",
      "only showing top 20 rows\n"
     ]
    },
    {
     "name": "stderr",
     "output_type": "stream",
     "text": [
      "                                                                                \r"
     ]
    }
   ],
   "source": [
    "sdf = ev.joined_timeseries.add_calculated_fields([\n",
    "    tcf.BoughtonBaseflow(\n",
    "        output_field_name = 'boughton_primary'\n",
    "    ),\n",
    "    tcf.BoughtonBaseflow(\n",
    "        value_field_name = 'secondary_value',\n",
    "        output_field_name = 'boughton_secondary',\n",
    "    )\n",
    "]).to_sdf()\n",
    "\n",
    "sdf.show()"
   ]
  },
  {
   "cell_type": "markdown",
   "id": "1253b895",
   "metadata": {},
   "source": [
    "#### Furey"
   ]
  },
  {
   "cell_type": "code",
   "execution_count": 27,
   "id": "cf98237a",
   "metadata": {},
   "outputs": [
    {
     "name": "stderr",
     "output_type": "stream",
     "text": [
      "[Stage 114:>                                                        (0 + 2) / 2]\r"
     ]
    },
    {
     "name": "stdout",
     "output_type": "stream",
     "text": [
      "+-------------------+-------------------+---------------------+-------------+---------------+---------+------+-------------------+--------------------+--------------+-------------+---------------+\n",
      "|         value_time|primary_location_id|secondary_location_id|primary_value|secondary_value|unit_name|member| configuration_name|       variable_name|reference_time|furey_primary|furey_secondary|\n",
      "+-------------------+-------------------+---------------------+-------------+---------------+---------+------+-------------------+--------------------+--------------+-------------+---------------+\n",
      "|2000-10-01 00:00:00|      usgs-14316700|       nwm30-23894572|    1.1326739|           0.38|    m^3/s|  NULL|nwm30_retrospective|streamflow_hourly...|          NULL|         1.13|           0.38|\n",
      "|2000-10-01 01:00:00|      usgs-14316700|       nwm30-23894572|    1.1326739|           0.38|    m^3/s|  NULL|nwm30_retrospective|streamflow_hourly...|          NULL|         1.13|           0.38|\n",
      "|2000-10-01 02:00:00|      usgs-14316700|       nwm30-23894572|    1.1326739|           0.38|    m^3/s|  NULL|nwm30_retrospective|streamflow_hourly...|          NULL|         1.12|           0.38|\n",
      "|2000-10-01 03:00:00|      usgs-14316700|       nwm30-23894572|    1.1326739|           0.38|    m^3/s|  NULL|nwm30_retrospective|streamflow_hourly...|          NULL|         1.12|           0.38|\n",
      "|2000-10-01 04:00:00|      usgs-14316700|       nwm30-23894572|    1.1326739|           0.38|    m^3/s|  NULL|nwm30_retrospective|streamflow_hourly...|          NULL|         1.11|           0.38|\n",
      "|2000-10-01 05:00:00|      usgs-14316700|       nwm30-23894572|    1.1326739|           0.38|    m^3/s|  NULL|nwm30_retrospective|streamflow_hourly...|          NULL|         1.11|           0.38|\n",
      "|2000-10-01 06:00:00|      usgs-14316700|       nwm30-23894572|    1.1326739|           0.38|    m^3/s|  NULL|nwm30_retrospective|streamflow_hourly...|          NULL|          1.1|           0.38|\n",
      "|2000-10-01 07:00:00|      usgs-14316700|       nwm30-23894572|    1.1326739|           0.38|    m^3/s|  NULL|nwm30_retrospective|streamflow_hourly...|          NULL|          1.1|           0.38|\n",
      "|2000-10-01 08:00:00|      usgs-14316700|       nwm30-23894572|    1.1326739|           0.38|    m^3/s|  NULL|nwm30_retrospective|streamflow_hourly...|          NULL|          1.1|           0.38|\n",
      "|2000-10-01 09:00:00|      usgs-14316700|       nwm30-23894572|    1.1326739|           0.38|    m^3/s|  NULL|nwm30_retrospective|streamflow_hourly...|          NULL|         1.09|           0.37|\n",
      "|2000-10-01 10:00:00|      usgs-14316700|       nwm30-23894572|    1.1326739|           0.38|    m^3/s|  NULL|nwm30_retrospective|streamflow_hourly...|          NULL|         1.09|           0.37|\n",
      "|2000-10-01 11:00:00|      usgs-14316700|       nwm30-23894572|    1.1326739|           0.38|    m^3/s|  NULL|nwm30_retrospective|streamflow_hourly...|          NULL|         1.09|           0.37|\n",
      "|2000-10-01 12:00:00|      usgs-14316700|       nwm30-23894572|    1.1326739|           0.38|    m^3/s|  NULL|nwm30_retrospective|streamflow_hourly...|          NULL|         1.08|           0.37|\n",
      "|2000-10-01 13:00:00|      usgs-14316700|       nwm30-23894572|    1.1326739|           0.38|    m^3/s|  NULL|nwm30_retrospective|streamflow_hourly...|          NULL|         1.08|           0.37|\n",
      "|2000-10-01 14:00:00|      usgs-14316700|       nwm30-23894572|    1.1326739|           0.38|    m^3/s|  NULL|nwm30_retrospective|streamflow_hourly...|          NULL|         1.08|           0.37|\n",
      "|2000-10-01 15:00:00|      usgs-14316700|       nwm30-23894572|    1.1326739|           0.38|    m^3/s|  NULL|nwm30_retrospective|streamflow_hourly...|          NULL|         1.07|           0.37|\n",
      "|2000-10-01 16:00:00|      usgs-14316700|       nwm30-23894572|    1.1326739|           0.38|    m^3/s|  NULL|nwm30_retrospective|streamflow_hourly...|          NULL|         1.07|           0.37|\n",
      "|2000-10-01 17:00:00|      usgs-14316700|       nwm30-23894572|    1.1326739|           0.38|    m^3/s|  NULL|nwm30_retrospective|streamflow_hourly...|          NULL|         1.07|           0.37|\n",
      "|2000-10-01 18:00:00|      usgs-14316700|       nwm30-23894572|    1.1326739|           0.38|    m^3/s|  NULL|nwm30_retrospective|streamflow_hourly...|          NULL|         1.07|           0.37|\n",
      "|2000-10-01 19:00:00|      usgs-14316700|       nwm30-23894572|    1.1326739|           0.38|    m^3/s|  NULL|nwm30_retrospective|streamflow_hourly...|          NULL|         1.07|           0.37|\n",
      "+-------------------+-------------------+---------------------+-------------+---------------+---------+------+-------------------+--------------------+--------------+-------------+---------------+\n",
      "only showing top 20 rows\n"
     ]
    },
    {
     "name": "stderr",
     "output_type": "stream",
     "text": [
      "                                                                                \r"
     ]
    }
   ],
   "source": [
    "sdf = ev.joined_timeseries.add_calculated_fields([\n",
    "    tcf.FureyBaseflow(\n",
    "        output_field_name = 'furey_primary'\n",
    "    ),\n",
    "    tcf.FureyBaseflow(\n",
    "        value_field_name = 'secondary_value',\n",
    "        output_field_name = 'furey_secondary',\n",
    "    )\n",
    "]).to_sdf()\n",
    "\n",
    "sdf.show()"
   ]
  },
  {
   "cell_type": "markdown",
   "id": "bc15ab38",
   "metadata": {},
   "source": [
    "#### Eckhardt"
   ]
  },
  {
   "cell_type": "code",
   "execution_count": 28,
   "id": "6a1a3e71",
   "metadata": {},
   "outputs": [
    {
     "name": "stderr",
     "output_type": "stream",
     "text": [
      "[Stage 136:>                                                        (0 + 2) / 2]\r"
     ]
    },
    {
     "name": "stdout",
     "output_type": "stream",
     "text": [
      "+-------------------+-------------------+---------------------+-------------+---------------+---------+------+-------------------+--------------------+--------------+----------------+------------------+\n",
      "|         value_time|primary_location_id|secondary_location_id|primary_value|secondary_value|unit_name|member| configuration_name|       variable_name|reference_time|eckhardt_primary|eckhardt_secondary|\n",
      "+-------------------+-------------------+---------------------+-------------+---------------+---------+------+-------------------+--------------------+--------------+----------------+------------------+\n",
      "|2000-10-01 00:00:00|      usgs-14316700|       nwm30-23894572|    1.1326739|           0.38|    m^3/s|  NULL|nwm30_retrospective|streamflow_hourly...|          NULL|            1.13|              0.38|\n",
      "|2000-10-01 01:00:00|      usgs-14316700|       nwm30-23894572|    1.1326739|           0.38|    m^3/s|  NULL|nwm30_retrospective|streamflow_hourly...|          NULL|            1.13|              0.38|\n",
      "|2000-10-01 02:00:00|      usgs-14316700|       nwm30-23894572|    1.1326739|           0.38|    m^3/s|  NULL|nwm30_retrospective|streamflow_hourly...|          NULL|            1.12|              0.38|\n",
      "|2000-10-01 03:00:00|      usgs-14316700|       nwm30-23894572|    1.1326739|           0.38|    m^3/s|  NULL|nwm30_retrospective|streamflow_hourly...|          NULL|            1.12|              0.38|\n",
      "|2000-10-01 04:00:00|      usgs-14316700|       nwm30-23894572|    1.1326739|           0.38|    m^3/s|  NULL|nwm30_retrospective|streamflow_hourly...|          NULL|            1.12|              0.38|\n",
      "|2000-10-01 05:00:00|      usgs-14316700|       nwm30-23894572|    1.1326739|           0.38|    m^3/s|  NULL|nwm30_retrospective|streamflow_hourly...|          NULL|            1.11|              0.38|\n",
      "|2000-10-01 06:00:00|      usgs-14316700|       nwm30-23894572|    1.1326739|           0.38|    m^3/s|  NULL|nwm30_retrospective|streamflow_hourly...|          NULL|            1.11|              0.38|\n",
      "|2000-10-01 07:00:00|      usgs-14316700|       nwm30-23894572|    1.1326739|           0.38|    m^3/s|  NULL|nwm30_retrospective|streamflow_hourly...|          NULL|            1.11|              0.38|\n",
      "|2000-10-01 08:00:00|      usgs-14316700|       nwm30-23894572|    1.1326739|           0.38|    m^3/s|  NULL|nwm30_retrospective|streamflow_hourly...|          NULL|             1.1|              0.38|\n",
      "|2000-10-01 09:00:00|      usgs-14316700|       nwm30-23894572|    1.1326739|           0.38|    m^3/s|  NULL|nwm30_retrospective|streamflow_hourly...|          NULL|             1.1|              0.38|\n",
      "|2000-10-01 10:00:00|      usgs-14316700|       nwm30-23894572|    1.1326739|           0.38|    m^3/s|  NULL|nwm30_retrospective|streamflow_hourly...|          NULL|             1.1|              0.38|\n",
      "|2000-10-01 11:00:00|      usgs-14316700|       nwm30-23894572|    1.1326739|           0.38|    m^3/s|  NULL|nwm30_retrospective|streamflow_hourly...|          NULL|             1.1|              0.38|\n",
      "|2000-10-01 12:00:00|      usgs-14316700|       nwm30-23894572|    1.1326739|           0.38|    m^3/s|  NULL|nwm30_retrospective|streamflow_hourly...|          NULL|            1.09|              0.38|\n",
      "|2000-10-01 13:00:00|      usgs-14316700|       nwm30-23894572|    1.1326739|           0.38|    m^3/s|  NULL|nwm30_retrospective|streamflow_hourly...|          NULL|            1.09|              0.38|\n",
      "|2000-10-01 14:00:00|      usgs-14316700|       nwm30-23894572|    1.1326739|           0.38|    m^3/s|  NULL|nwm30_retrospective|streamflow_hourly...|          NULL|            1.09|              0.38|\n",
      "|2000-10-01 15:00:00|      usgs-14316700|       nwm30-23894572|    1.1326739|           0.38|    m^3/s|  NULL|nwm30_retrospective|streamflow_hourly...|          NULL|            1.09|              0.37|\n",
      "|2000-10-01 16:00:00|      usgs-14316700|       nwm30-23894572|    1.1326739|           0.38|    m^3/s|  NULL|nwm30_retrospective|streamflow_hourly...|          NULL|            1.09|              0.37|\n",
      "|2000-10-01 17:00:00|      usgs-14316700|       nwm30-23894572|    1.1326739|           0.38|    m^3/s|  NULL|nwm30_retrospective|streamflow_hourly...|          NULL|            1.09|              0.37|\n",
      "|2000-10-01 18:00:00|      usgs-14316700|       nwm30-23894572|    1.1326739|           0.38|    m^3/s|  NULL|nwm30_retrospective|streamflow_hourly...|          NULL|            1.09|              0.37|\n",
      "|2000-10-01 19:00:00|      usgs-14316700|       nwm30-23894572|    1.1326739|           0.38|    m^3/s|  NULL|nwm30_retrospective|streamflow_hourly...|          NULL|            1.09|              0.37|\n",
      "+-------------------+-------------------+---------------------+-------------+---------------+---------+------+-------------------+--------------------+--------------+----------------+------------------+\n",
      "only showing top 20 rows\n"
     ]
    },
    {
     "name": "stderr",
     "output_type": "stream",
     "text": [
      "                                                                                \r"
     ]
    }
   ],
   "source": [
    "sdf = ev.joined_timeseries.add_calculated_fields([\n",
    "    tcf.EckhardtBaseflow(\n",
    "        output_field_name = 'eckhardt_primary'\n",
    "    ),\n",
    "    tcf.EckhardtBaseflow(\n",
    "        value_field_name = 'secondary_value',\n",
    "        output_field_name = 'eckhardt_secondary',\n",
    "    )\n",
    "]).to_sdf()\n",
    "\n",
    "sdf.show()"
   ]
  },
  {
   "cell_type": "markdown",
   "id": "232a6d41",
   "metadata": {},
   "source": [
    "#### EWMA"
   ]
  },
  {
   "cell_type": "code",
   "execution_count": 29,
   "id": "54224404",
   "metadata": {},
   "outputs": [
    {
     "name": "stderr",
     "output_type": "stream",
     "text": [
      "[Stage 158:>                                                        (0 + 2) / 2]\r"
     ]
    },
    {
     "name": "stdout",
     "output_type": "stream",
     "text": [
      "+-------------------+-------------------+---------------------+-------------+---------------+---------+------+-------------------+--------------------+--------------+------------+--------------+\n",
      "|         value_time|primary_location_id|secondary_location_id|primary_value|secondary_value|unit_name|member| configuration_name|       variable_name|reference_time|ewma_primary|ewma_secondary|\n",
      "+-------------------+-------------------+---------------------+-------------+---------------+---------+------+-------------------+--------------------+--------------+------------+--------------+\n",
      "|2000-10-01 00:00:00|      usgs-14316700|       nwm30-23894572|    1.1326739|           0.38|    m^3/s|  NULL|nwm30_retrospective|streamflow_hourly...|          NULL|        1.13|          0.38|\n",
      "|2000-10-01 01:00:00|      usgs-14316700|       nwm30-23894572|    1.1326739|           0.38|    m^3/s|  NULL|nwm30_retrospective|streamflow_hourly...|          NULL|        1.13|          0.38|\n",
      "|2000-10-01 02:00:00|      usgs-14316700|       nwm30-23894572|    1.1326739|           0.38|    m^3/s|  NULL|nwm30_retrospective|streamflow_hourly...|          NULL|        1.13|          0.38|\n",
      "|2000-10-01 03:00:00|      usgs-14316700|       nwm30-23894572|    1.1326739|           0.38|    m^3/s|  NULL|nwm30_retrospective|streamflow_hourly...|          NULL|        1.13|          0.38|\n",
      "|2000-10-01 04:00:00|      usgs-14316700|       nwm30-23894572|    1.1326739|           0.38|    m^3/s|  NULL|nwm30_retrospective|streamflow_hourly...|          NULL|        1.13|          0.38|\n",
      "|2000-10-01 05:00:00|      usgs-14316700|       nwm30-23894572|    1.1326739|           0.38|    m^3/s|  NULL|nwm30_retrospective|streamflow_hourly...|          NULL|        1.13|          0.38|\n",
      "|2000-10-01 06:00:00|      usgs-14316700|       nwm30-23894572|    1.1326739|           0.38|    m^3/s|  NULL|nwm30_retrospective|streamflow_hourly...|          NULL|        1.13|          0.38|\n",
      "|2000-10-01 07:00:00|      usgs-14316700|       nwm30-23894572|    1.1326739|           0.38|    m^3/s|  NULL|nwm30_retrospective|streamflow_hourly...|          NULL|        1.13|          0.38|\n",
      "|2000-10-01 08:00:00|      usgs-14316700|       nwm30-23894572|    1.1326739|           0.38|    m^3/s|  NULL|nwm30_retrospective|streamflow_hourly...|          NULL|        1.13|          0.38|\n",
      "|2000-10-01 09:00:00|      usgs-14316700|       nwm30-23894572|    1.1326739|           0.38|    m^3/s|  NULL|nwm30_retrospective|streamflow_hourly...|          NULL|        1.13|          0.38|\n",
      "|2000-10-01 10:00:00|      usgs-14316700|       nwm30-23894572|    1.1326739|           0.38|    m^3/s|  NULL|nwm30_retrospective|streamflow_hourly...|          NULL|        1.13|          0.38|\n",
      "|2000-10-01 11:00:00|      usgs-14316700|       nwm30-23894572|    1.1326739|           0.38|    m^3/s|  NULL|nwm30_retrospective|streamflow_hourly...|          NULL|        1.13|          0.38|\n",
      "|2000-10-01 12:00:00|      usgs-14316700|       nwm30-23894572|    1.1326739|           0.38|    m^3/s|  NULL|nwm30_retrospective|streamflow_hourly...|          NULL|        1.13|          0.38|\n",
      "|2000-10-01 13:00:00|      usgs-14316700|       nwm30-23894572|    1.1326739|           0.38|    m^3/s|  NULL|nwm30_retrospective|streamflow_hourly...|          NULL|        1.13|          0.38|\n",
      "|2000-10-01 14:00:00|      usgs-14316700|       nwm30-23894572|    1.1326739|           0.38|    m^3/s|  NULL|nwm30_retrospective|streamflow_hourly...|          NULL|        1.13|          0.38|\n",
      "|2000-10-01 15:00:00|      usgs-14316700|       nwm30-23894572|    1.1326739|           0.38|    m^3/s|  NULL|nwm30_retrospective|streamflow_hourly...|          NULL|        1.13|          0.38|\n",
      "|2000-10-01 16:00:00|      usgs-14316700|       nwm30-23894572|    1.1326739|           0.38|    m^3/s|  NULL|nwm30_retrospective|streamflow_hourly...|          NULL|        1.13|          0.38|\n",
      "|2000-10-01 17:00:00|      usgs-14316700|       nwm30-23894572|    1.1326739|           0.38|    m^3/s|  NULL|nwm30_retrospective|streamflow_hourly...|          NULL|        1.13|          0.38|\n",
      "|2000-10-01 18:00:00|      usgs-14316700|       nwm30-23894572|    1.1326739|           0.38|    m^3/s|  NULL|nwm30_retrospective|streamflow_hourly...|          NULL|        1.13|          0.38|\n",
      "|2000-10-01 19:00:00|      usgs-14316700|       nwm30-23894572|    1.1326739|           0.38|    m^3/s|  NULL|nwm30_retrospective|streamflow_hourly...|          NULL|        1.13|          0.38|\n",
      "+-------------------+-------------------+---------------------+-------------+---------------+---------+------+-------------------+--------------------+--------------+------------+--------------+\n",
      "only showing top 20 rows\n"
     ]
    },
    {
     "name": "stderr",
     "output_type": "stream",
     "text": [
      "                                                                                \r"
     ]
    }
   ],
   "source": [
    "sdf = ev.joined_timeseries.add_calculated_fields([\n",
    "    tcf.EWMABaseflow(\n",
    "        output_field_name = 'ewma_primary'\n",
    "    ),\n",
    "    tcf.EWMABaseflow(\n",
    "        value_field_name = 'secondary_value',\n",
    "        output_field_name = 'ewma_secondary',\n",
    "    )\n",
    "]).to_sdf()\n",
    "\n",
    "sdf.show()"
   ]
  },
  {
   "cell_type": "markdown",
   "id": "7befd512",
   "metadata": {},
   "source": [
    "#### Willems"
   ]
  },
  {
   "cell_type": "code",
   "execution_count": 30,
   "id": "7cf6d40b",
   "metadata": {},
   "outputs": [
    {
     "name": "stderr",
     "output_type": "stream",
     "text": [
      "[Stage 180:>                                                        (0 + 2) / 2]\r"
     ]
    },
    {
     "name": "stdout",
     "output_type": "stream",
     "text": [
      "+-------------------+-------------------+---------------------+-------------+---------------+---------+------+-------------------+--------------------+--------------+---------------+-----------------+\n",
      "|         value_time|primary_location_id|secondary_location_id|primary_value|secondary_value|unit_name|member| configuration_name|       variable_name|reference_time|willems_primary|willems_secondary|\n",
      "+-------------------+-------------------+---------------------+-------------+---------------+---------+------+-------------------+--------------------+--------------+---------------+-----------------+\n",
      "|2000-10-01 00:00:00|      usgs-14316700|       nwm30-23894572|    1.1326739|           0.38|    m^3/s|  NULL|nwm30_retrospective|streamflow_hourly...|          NULL|           1.13|             0.38|\n",
      "|2000-10-01 01:00:00|      usgs-14316700|       nwm30-23894572|    1.1326739|           0.38|    m^3/s|  NULL|nwm30_retrospective|streamflow_hourly...|          NULL|           1.13|             0.38|\n",
      "|2000-10-01 02:00:00|      usgs-14316700|       nwm30-23894572|    1.1326739|           0.38|    m^3/s|  NULL|nwm30_retrospective|streamflow_hourly...|          NULL|           1.12|             0.38|\n",
      "|2000-10-01 03:00:00|      usgs-14316700|       nwm30-23894572|    1.1326739|           0.38|    m^3/s|  NULL|nwm30_retrospective|streamflow_hourly...|          NULL|           1.12|             0.38|\n",
      "|2000-10-01 04:00:00|      usgs-14316700|       nwm30-23894572|    1.1326739|           0.38|    m^3/s|  NULL|nwm30_retrospective|streamflow_hourly...|          NULL|           1.11|             0.38|\n",
      "|2000-10-01 05:00:00|      usgs-14316700|       nwm30-23894572|    1.1326739|           0.38|    m^3/s|  NULL|nwm30_retrospective|streamflow_hourly...|          NULL|           1.11|             0.38|\n",
      "|2000-10-01 06:00:00|      usgs-14316700|       nwm30-23894572|    1.1326739|           0.38|    m^3/s|  NULL|nwm30_retrospective|streamflow_hourly...|          NULL|           1.11|             0.38|\n",
      "|2000-10-01 07:00:00|      usgs-14316700|       nwm30-23894572|    1.1326739|           0.38|    m^3/s|  NULL|nwm30_retrospective|streamflow_hourly...|          NULL|            1.1|             0.38|\n",
      "|2000-10-01 08:00:00|      usgs-14316700|       nwm30-23894572|    1.1326739|           0.38|    m^3/s|  NULL|nwm30_retrospective|streamflow_hourly...|          NULL|            1.1|             0.38|\n",
      "|2000-10-01 09:00:00|      usgs-14316700|       nwm30-23894572|    1.1326739|           0.38|    m^3/s|  NULL|nwm30_retrospective|streamflow_hourly...|          NULL|            1.1|             0.38|\n",
      "|2000-10-01 10:00:00|      usgs-14316700|       nwm30-23894572|    1.1326739|           0.38|    m^3/s|  NULL|nwm30_retrospective|streamflow_hourly...|          NULL|            1.1|             0.38|\n",
      "|2000-10-01 11:00:00|      usgs-14316700|       nwm30-23894572|    1.1326739|           0.38|    m^3/s|  NULL|nwm30_retrospective|streamflow_hourly...|          NULL|           1.09|             0.38|\n",
      "|2000-10-01 12:00:00|      usgs-14316700|       nwm30-23894572|    1.1326739|           0.38|    m^3/s|  NULL|nwm30_retrospective|streamflow_hourly...|          NULL|           1.09|             0.38|\n",
      "|2000-10-01 13:00:00|      usgs-14316700|       nwm30-23894572|    1.1326739|           0.38|    m^3/s|  NULL|nwm30_retrospective|streamflow_hourly...|          NULL|           1.09|             0.38|\n",
      "|2000-10-01 14:00:00|      usgs-14316700|       nwm30-23894572|    1.1326739|           0.38|    m^3/s|  NULL|nwm30_retrospective|streamflow_hourly...|          NULL|           1.09|             0.38|\n",
      "|2000-10-01 15:00:00|      usgs-14316700|       nwm30-23894572|    1.1326739|           0.38|    m^3/s|  NULL|nwm30_retrospective|streamflow_hourly...|          NULL|           1.09|             0.37|\n",
      "|2000-10-01 16:00:00|      usgs-14316700|       nwm30-23894572|    1.1326739|           0.38|    m^3/s|  NULL|nwm30_retrospective|streamflow_hourly...|          NULL|           1.09|             0.37|\n",
      "|2000-10-01 17:00:00|      usgs-14316700|       nwm30-23894572|    1.1326739|           0.38|    m^3/s|  NULL|nwm30_retrospective|streamflow_hourly...|          NULL|           1.09|             0.37|\n",
      "|2000-10-01 18:00:00|      usgs-14316700|       nwm30-23894572|    1.1326739|           0.38|    m^3/s|  NULL|nwm30_retrospective|streamflow_hourly...|          NULL|           1.09|             0.37|\n",
      "|2000-10-01 19:00:00|      usgs-14316700|       nwm30-23894572|    1.1326739|           0.38|    m^3/s|  NULL|nwm30_retrospective|streamflow_hourly...|          NULL|           1.08|             0.37|\n",
      "+-------------------+-------------------+---------------------+-------------+---------------+---------+------+-------------------+--------------------+--------------+---------------+-----------------+\n",
      "only showing top 20 rows\n"
     ]
    },
    {
     "name": "stderr",
     "output_type": "stream",
     "text": [
      "                                                                                \r"
     ]
    }
   ],
   "source": [
    "sdf = ev.joined_timeseries.add_calculated_fields([\n",
    "    tcf.WillemsBaseflow(\n",
    "        output_field_name = 'willems_primary'\n",
    "    ),\n",
    "    tcf.WillemsBaseflow(\n",
    "        value_field_name = 'secondary_value',\n",
    "        output_field_name = 'willems_secondary',\n",
    "    )\n",
    "]).to_sdf()\n",
    "\n",
    "sdf.show()"
   ]
  },
  {
   "cell_type": "markdown",
   "id": "aadd1ac5",
   "metadata": {},
   "source": [
    "#### UKIH"
   ]
  },
  {
   "cell_type": "code",
   "execution_count": 31,
   "id": "4c678647",
   "metadata": {},
   "outputs": [
    {
     "name": "stderr",
     "output_type": "stream",
     "text": [
      "                                                                                \r"
     ]
    },
    {
     "name": "stdout",
     "output_type": "stream",
     "text": [
      "+-------------------+-------------------+---------------------+-------------+---------------+---------+------+-------------------+--------------------+--------------+------------+--------------+\n",
      "|         value_time|primary_location_id|secondary_location_id|primary_value|secondary_value|unit_name|member| configuration_name|       variable_name|reference_time|ukih_primary|ukih_secondary|\n",
      "+-------------------+-------------------+---------------------+-------------+---------------+---------+------+-------------------+--------------------+--------------+------------+--------------+\n",
      "|2000-10-01 00:00:00|      usgs-14316700|       nwm30-23894572|    1.1326739|           0.38|    m^3/s|  NULL|nwm30_retrospective|streamflow_hourly...|          NULL|        1.13|          0.38|\n",
      "|2000-10-01 01:00:00|      usgs-14316700|       nwm30-23894572|    1.1326739|           0.38|    m^3/s|  NULL|nwm30_retrospective|streamflow_hourly...|          NULL|        1.13|          0.38|\n",
      "|2000-10-01 02:00:00|      usgs-14316700|       nwm30-23894572|    1.1326739|           0.38|    m^3/s|  NULL|nwm30_retrospective|streamflow_hourly...|          NULL|        1.13|          0.38|\n",
      "|2000-10-01 03:00:00|      usgs-14316700|       nwm30-23894572|    1.1326739|           0.38|    m^3/s|  NULL|nwm30_retrospective|streamflow_hourly...|          NULL|        1.13|          0.38|\n",
      "|2000-10-01 04:00:00|      usgs-14316700|       nwm30-23894572|    1.1326739|           0.38|    m^3/s|  NULL|nwm30_retrospective|streamflow_hourly...|          NULL|        1.13|          0.38|\n",
      "|2000-10-01 05:00:00|      usgs-14316700|       nwm30-23894572|    1.1326739|           0.38|    m^3/s|  NULL|nwm30_retrospective|streamflow_hourly...|          NULL|        1.13|          0.38|\n",
      "|2000-10-01 06:00:00|      usgs-14316700|       nwm30-23894572|    1.1326739|           0.38|    m^3/s|  NULL|nwm30_retrospective|streamflow_hourly...|          NULL|        1.13|          0.38|\n",
      "|2000-10-01 07:00:00|      usgs-14316700|       nwm30-23894572|    1.1326739|           0.38|    m^3/s|  NULL|nwm30_retrospective|streamflow_hourly...|          NULL|        1.13|          0.38|\n",
      "|2000-10-01 08:00:00|      usgs-14316700|       nwm30-23894572|    1.1326739|           0.38|    m^3/s|  NULL|nwm30_retrospective|streamflow_hourly...|          NULL|        1.13|          0.38|\n",
      "|2000-10-01 09:00:00|      usgs-14316700|       nwm30-23894572|    1.1326739|           0.38|    m^3/s|  NULL|nwm30_retrospective|streamflow_hourly...|          NULL|        1.13|          0.38|\n",
      "|2000-10-01 10:00:00|      usgs-14316700|       nwm30-23894572|    1.1326739|           0.38|    m^3/s|  NULL|nwm30_retrospective|streamflow_hourly...|          NULL|        1.13|          0.38|\n",
      "|2000-10-01 11:00:00|      usgs-14316700|       nwm30-23894572|    1.1326739|           0.38|    m^3/s|  NULL|nwm30_retrospective|streamflow_hourly...|          NULL|        1.13|          0.38|\n",
      "|2000-10-01 12:00:00|      usgs-14316700|       nwm30-23894572|    1.1326739|           0.38|    m^3/s|  NULL|nwm30_retrospective|streamflow_hourly...|          NULL|        1.13|          0.38|\n",
      "|2000-10-01 13:00:00|      usgs-14316700|       nwm30-23894572|    1.1326739|           0.38|    m^3/s|  NULL|nwm30_retrospective|streamflow_hourly...|          NULL|        1.13|          0.38|\n",
      "|2000-10-01 14:00:00|      usgs-14316700|       nwm30-23894572|    1.1326739|           0.38|    m^3/s|  NULL|nwm30_retrospective|streamflow_hourly...|          NULL|        1.13|          0.38|\n",
      "|2000-10-01 15:00:00|      usgs-14316700|       nwm30-23894572|    1.1326739|           0.38|    m^3/s|  NULL|nwm30_retrospective|streamflow_hourly...|          NULL|        1.13|          0.38|\n",
      "|2000-10-01 16:00:00|      usgs-14316700|       nwm30-23894572|    1.1326739|           0.38|    m^3/s|  NULL|nwm30_retrospective|streamflow_hourly...|          NULL|        1.13|          0.38|\n",
      "|2000-10-01 17:00:00|      usgs-14316700|       nwm30-23894572|    1.1326739|           0.38|    m^3/s|  NULL|nwm30_retrospective|streamflow_hourly...|          NULL|        1.13|          0.38|\n",
      "|2000-10-01 18:00:00|      usgs-14316700|       nwm30-23894572|    1.1326739|           0.38|    m^3/s|  NULL|nwm30_retrospective|streamflow_hourly...|          NULL|        1.13|          0.38|\n",
      "|2000-10-01 19:00:00|      usgs-14316700|       nwm30-23894572|    1.1326739|           0.38|    m^3/s|  NULL|nwm30_retrospective|streamflow_hourly...|          NULL|        1.13|          0.38|\n",
      "+-------------------+-------------------+---------------------+-------------+---------------+---------+------+-------------------+--------------------+--------------+------------+--------------+\n",
      "only showing top 20 rows\n"
     ]
    }
   ],
   "source": [
    "sdf = ev.joined_timeseries.add_calculated_fields([\n",
    "    tcf.UKIHBaseflow(\n",
    "        output_field_name = 'ukih_primary'\n",
    "    ),\n",
    "    tcf.UKIHBaseflow(\n",
    "        value_field_name = 'secondary_value',\n",
    "        output_field_name = 'ukih_secondary',\n",
    "    )\n",
    "]).to_sdf()\n",
    "\n",
    "sdf.show()"
   ]
  }
 ],
 "metadata": {
  "kernelspec": {
   "display_name": "teehr-py3.10",
   "language": "python",
   "name": "python3"
  },
  "language_info": {
   "codemirror_mode": {
    "name": "ipython",
    "version": 3
   },
   "file_extension": ".py",
   "mimetype": "text/x-python",
   "name": "python",
   "nbconvert_exporter": "python",
   "pygments_lexer": "ipython3",
   "version": "3.10.12"
  }
 },
 "nbformat": 4,
 "nbformat_minor": 5
}
