{
 "cells": [
  {
   "cell_type": "code",
   "execution_count": 1,
   "metadata": {},
   "outputs": [],
   "source": [
    "import duckdb"
   ]
  },
  {
   "cell_type": "code",
   "execution_count": 3,
   "metadata": {},
   "outputs": [],
   "source": [
    "conn = duckdb.connect()"
   ]
  },
  {
   "cell_type": "code",
   "execution_count": null,
   "metadata": {},
   "outputs": [],
   "source": [
    "conn.sql(\"\"\"\n",
    "CREATE TABLE IF NOT EXISTS primary (\n",
    "    reference_time DATETIME,\n",
    "    value_time DATETIME,\n",
    "    configuration VARCHAR,\n",
    "    measurement_unit VARCHAR,\n",
    "    variable_name VARCHAR,\n",
    "    value FLOAT,\n",
    "    location_id VARCHAR,\n",
    "    FOREIGN KEY (measurement_unit) REFERENCES units (name)\n",
    ");\n",
    "\"\"\")"
   ]
  },
  {
   "cell_type": "code",
   "execution_count": null,
   "metadata": {},
   "outputs": [],
   "source": [
    "conn.sql(\"\"\"\n",
    "CREATE TABLE IF NOT EXISTS secondary (\n",
    "    reference_time DATETIME,\n",
    "    value_time DATETIME,\n",
    "    configuration VARCHAR,\n",
    "    measurement_unit VARCHAR,\n",
    "    variable_name VARCHAR,\n",
    "    value FLOAT,\n",
    "    location_id VARCHAR,\n",
    "    FOREIGN KEY (measurement_unit) REFERENCES units (name)\n",
    ");\n",
    "\"\"\")"
   ]
  },
  {
   "cell_type": "code",
   "execution_count": 5,
   "metadata": {},
   "outputs": [],
   "source": [
    "conn.sql(\"\"\"\n",
    "DROP TABLE attributes;\n",
    "CREATE TABLE attributes (\n",
    "         name VARCHAR PRIMARY KEY,\n",
    "         description varchar\n",
    ");\n",
    "\"\"\")"
   ]
  },
  {
   "cell_type": "code",
   "execution_count": 10,
   "metadata": {},
   "outputs": [],
   "source": [
    "conn.sql(\"\"\"\n",
    "DROP TABLE units;\n",
    "CREATE TABLE units (\n",
    "         name VARCHAR PRIMARY KEY,\n",
    "         description varchar\n",
    ");\n",
    "INSERT INTO units VALUES ('cms', 'Cubic Meters Per Second');\n",
    "INSERT INTO units VALUES ('cfs', 'Cubic Feet Per Second');\n",
    "\"\"\")"
   ]
  },
  {
   "cell_type": "code",
   "execution_count": 12,
   "metadata": {},
   "outputs": [],
   "source": [
    "conn.sql(\"\"\"\n",
    "CREATE TABLE IF NOT EXISTS joined_timeseries(\n",
    "    reference_time DATETIME,\n",
    "    value_time DATETIME,\n",
    "    configuration VARCHAR,\n",
    "    measurement_unit VARCHAR,\n",
    "    variable_name VARCHAR,\n",
    "    value FLOAT,\n",
    "    location_id VARCHAR,\n",
    "    FOREIGN KEY (measurement_unit) REFERENCES units (name)\n",
    ");\n",
    "\"\"\")"
   ]
  },
  {
   "cell_type": "code",
   "execution_count": 15,
   "metadata": {},
   "outputs": [],
   "source": [
    "conn.sql(\"\"\"\n",
    "INSERT INTO joined_timeseries VALUES ('2024-01-01 12:00:00', '2024-01-01 12:00:00', 'config', 'cms', 'var', 0.12, '12345');\n",
    "\"\"\")"
   ]
  },
  {
   "cell_type": "code",
   "execution_count": 16,
   "metadata": {},
   "outputs": [
    {
     "data": {
      "text/plain": [
       "┌─────────────────────┬─────────────────────┬───────────────┬──────────────────┬───────────────┬───────┬─────────────┐\n",
       "│   reference_time    │     value_time      │ configuration │ measurement_unit │ variable_name │ value │ location_id │\n",
       "│      timestamp      │      timestamp      │    varchar    │     varchar      │    varchar    │ float │   varchar   │\n",
       "├─────────────────────┼─────────────────────┼───────────────┼──────────────────┼───────────────┼───────┼─────────────┤\n",
       "│ 2024-01-01 12:00:00 │ 2024-01-01 12:00:00 │ config        │ cms              │ var           │  0.12 │ 12345       │\n",
       "└─────────────────────┴─────────────────────┴───────────────┴──────────────────┴───────────────┴───────┴─────────────┘"
      ]
     },
     "execution_count": 16,
     "metadata": {},
     "output_type": "execute_result"
    }
   ],
   "source": [
    "conn.sql(\"\"\"\n",
    "SELECT * FROM  joined_timeseries;\n",
    "\"\"\")"
   ]
  },
  {
   "cell_type": "code",
   "execution_count": null,
   "metadata": {},
   "outputs": [],
   "source": []
  }
 ],
 "metadata": {
  "kernelspec": {
   "display_name": ".venv",
   "language": "python",
   "name": "python3"
  },
  "language_info": {
   "codemirror_mode": {
    "name": "ipython",
    "version": 3
   },
   "file_extension": ".py",
   "mimetype": "text/x-python",
   "name": "python",
   "nbconvert_exporter": "python",
   "pygments_lexer": "ipython3",
   "version": "3.10.12"
  }
 },
 "nbformat": 4,
 "nbformat_minor": 2
}
