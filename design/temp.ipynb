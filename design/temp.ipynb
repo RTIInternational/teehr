{
 "cells": [
  {
   "cell_type": "code",
   "execution_count": null,
   "metadata": {},
   "outputs": [],
   "source": [
    "import duckdb"
   ]
  },
  {
   "cell_type": "code",
   "execution_count": null,
   "metadata": {},
   "outputs": [],
   "source": [
    "conn = duckdb.connect()"
   ]
  },
  {
   "cell_type": "code",
   "execution_count": null,
   "metadata": {},
   "outputs": [],
   "source": [
    "conn.sql(\"\"\"\n",
    "CREATE TABLE IF NOT EXISTS units (\n",
    "         name VARCHAR PRIMARY KEY,\n",
    "         long_name VARCHAR,\n",
    "         -- symbolic_name VARCHAR,\n",
    ");\n",
    "INSERT INTO units VALUES ('cms', 'Cubic Meters Per Second');\n",
    "INSERT INTO units VALUES ('cfs', 'Cubic Feet Per Second');\n",
    "INSERT INTO units VALUES ('km2', 'Square Kilometers');\n",
    "\"\"\")"
   ]
  },
  {
   "cell_type": "code",
   "execution_count": null,
   "metadata": {},
   "outputs": [],
   "source": [
    "conn.sql(\"\"\"\n",
    "CREATE TABLE IF NOT EXISTS configurations (\n",
    "         name VARCHAR PRIMARY KEY,\n",
    "         type VARCHAR,\n",
    "         description VARCHAR\n",
    ");\n",
    "INSERT INTO configurations VALUES ('nwm30_retro', 'secondary', 'NWM 3.0 Retrospective');\n",
    "INSERT INTO configurations VALUES ('usgs_observations', 'primary', 'USGS Observations');\n",
    "\"\"\")"
   ]
  },
  {
   "cell_type": "code",
   "execution_count": null,
   "metadata": {},
   "outputs": [],
   "source": [
    "conn.sql(\"\"\"\n",
    "CREATE TABLE IF NOT EXISTS variables (\n",
    "         name VARCHAR PRIMARY KEY,\n",
    "         long_name VARCHAR\n",
    ");\n",
    "INSERT INTO variables VALUES ('streamflow_hourly_inst', 'Hourly Instantaneous Streamflow');\n",
    "INSERT INTO variables VALUES ('streamflow_daily_mean', 'Daily Mean Streamflow');\n",
    "\"\"\")"
   ]
  },
  {
   "cell_type": "code",
   "execution_count": null,
   "metadata": {},
   "outputs": [],
   "source": [
    "conn.sql(\"\"\"\n",
    "CREATE TABLE IF NOT EXISTS attributes (\n",
    "         name VARCHAR PRIMARY KEY,\n",
    "         unit_name VARCHAR,\n",
    "         FOREIGN KEY (unit_name) REFERENCES units (name)\n",
    ");\n",
    "INSERT INTO attributes VALUES ('drainage_area_km2', 'km2');\n",
    "INSERT INTO attributes VALUES ('mean_daily_flow_cms', 'cms');\n",
    "\"\"\")"
   ]
  },
  {
   "cell_type": "code",
   "execution_count": null,
   "metadata": {},
   "outputs": [],
   "source": [
    "conn.sql(\"\"\"\n",
    "CREATE TABLE IF NOT EXISTS location_crosswalk (\n",
    "         primary_location_id VARCHAR PRIMARY KEY,\n",
    "         secondary_location_id VARCHAR,\n",
    ");\n",
    "INSERT INTO location_crosswalk VALUES ('p-1', 's-1');\n",
    "INSERT INTO location_crosswalk VALUES ('p-2', 's-2');\n",
    "\"\"\")"
   ]
  },
  {
   "cell_type": "code",
   "execution_count": null,
   "metadata": {},
   "outputs": [],
   "source": [
    "conn.sql(\"\"\"\n",
    "INSTALL spatial;\n",
    "LOAD spatial;\n",
    "CREATE TABLE IF NOT EXISTS locations (\n",
    "         id VARCHAR PRIMARY KEY,\n",
    "         name VARCHAR,\n",
    "         geometry GEOMETRY\n",
    ");\n",
    "INSERT INTO locations VALUES ('p-1', 'gage-A', 'POINT(1 1)');\n",
    "INSERT INTO locations VALUES ('p-2', 'gage-B', 'POINT(2 2)');\n",
    "\"\"\")"
   ]
  },
  {
   "cell_type": "code",
   "execution_count": null,
   "metadata": {},
   "outputs": [],
   "source": [
    "conn.sql(\"\"\"\n",
    "CREATE TABLE IF NOT EXISTS primary_timeseries (\n",
    "    reference_time DATETIME,\n",
    "    value_time DATETIME,\n",
    "    configuration VARCHAR,\n",
    "    measurement_unit VARCHAR,\n",
    "    variable_name VARCHAR,\n",
    "    value FLOAT,\n",
    "    location_id VARCHAR,\n",
    "    FOREIGN KEY (configuration) REFERENCES configurations (name),\n",
    "    FOREIGN KEY (measurement_unit) REFERENCES units (name),\n",
    "    FOREIGN KEY (variable_name) REFERENCES variables (name),\n",
    "    FOREIGN KEY (location_id) REFERENCES location_crosswalk (primary_location_id)\n",
    ");\n",
    "\"\"\")"
   ]
  },
  {
   "cell_type": "code",
   "execution_count": null,
   "metadata": {},
   "outputs": [],
   "source": [
    "conn.sql(\"\"\"\n",
    "INSERT INTO primary_timeseries VALUES ('2024-01-01 12:00:00', '2024-01-01 12:00:00', 'usgs_observations', 'cms', 'streamflow_daily_mean', 0.12, 'p-1');\n",
    "INSERT INTO primary_timeseries VALUES ('2024-01-02 12:00:00', '2024-01-01 12:00:00', 'usgs_observations', 'cms', 'streamflow_daily_mean', 2.1, 'p-1');\n",
    "\"\"\")\n"
   ]
  },
  {
   "cell_type": "code",
   "execution_count": null,
   "metadata": {},
   "outputs": [],
   "source": [
    "conn.sql(\"\"\"\n",
    "CREATE TABLE IF NOT EXISTS secondary_timeseries (\n",
    "    reference_time DATETIME,\n",
    "    value_time DATETIME,\n",
    "    configuration VARCHAR,\n",
    "    measurement_unit VARCHAR,\n",
    "    variable_name VARCHAR,\n",
    "    value FLOAT,\n",
    "    location_id VARCHAR,\n",
    "    FOREIGN KEY (configuration) REFERENCES configurations (name),\n",
    "    FOREIGN KEY (measurement_unit) REFERENCES units (name),\n",
    "    FOREIGN KEY (variable_name) REFERENCES variables (name),\n",
    "    FOREIGN KEY (location_id) REFERENCES location_crosswalk (secondary_location_id)\n",
    ");\n",
    "\"\"\")"
   ]
  },
  {
   "cell_type": "code",
   "execution_count": null,
   "metadata": {},
   "outputs": [],
   "source": [
    "conn.sql(\"\"\"\n",
    "INSERT INTO secondary_timeseries VALUES ('2024-01-01 12:00:00', '2024-01-01 12:00:00', 'nwm30_retro', 'cms', 'streamflow_daily_mean', 0.2, 's-1');\n",
    "INSERT INTO secondary_timeseries VALUES ('2024-01-02 12:00:00', '2024-01-01 12:00:00', 'nwm30_retro', 'cms', 'streamflow_daily_mean', 2.3, 's-1');\n",
    "\"\"\")"
   ]
  },
  {
   "cell_type": "code",
   "execution_count": null,
   "metadata": {},
   "outputs": [],
   "source": [
    "conn.sql(\"\"\"\n",
    "CREATE TABLE IF NOT EXISTS location_attributes(\n",
    "         attribute_name VARCHAR PRIMARY KEY,\n",
    "         value VARCHAR,\n",
    "         location_id VARCHAR,\n",
    "         FOREIGN KEY (attribute_name) REFERENCES attributes (name),\n",
    "         FOREIGN KEY (location_id) REFERENCES locations (id)\n",
    ");\n",
    "\"\"\")"
   ]
  },
  {
   "cell_type": "code",
   "execution_count": null,
   "metadata": {},
   "outputs": [],
   "source": [
    "conn.sql(\"\"\"\n",
    "CREATE TABLE IF NOT EXISTS joined_timeseries(\n",
    "    reference_time DATETIME,\n",
    "    value_time DATETIME,\n",
    "    configuration VARCHAR,\n",
    "    measurement_unit VARCHAR,\n",
    "    variable_name VARCHAR,\n",
    "    value FLOAT,\n",
    "    location_id VARCHAR,\n",
    "    FOREIGN KEY (measurement_unit) REFERENCES units (name)\n",
    ");\n",
    "\"\"\")"
   ]
  },
  {
   "cell_type": "code",
   "execution_count": null,
   "metadata": {},
   "outputs": [],
   "source": [
    "conn.sql(\"\"\"\n",
    "INSERT INTO joined_timeseries VALUES ('2024-01-01 12:00:00', '2024-01-01 12:00:00', 'config', 'cms', 'var', 0.12, '12345');\n",
    "\"\"\")"
   ]
  },
  {
   "cell_type": "code",
   "execution_count": null,
   "metadata": {},
   "outputs": [],
   "source": [
    "conn.sql(\"\"\"\n",
    "SELECT * FROM  joined_timeseries;\n",
    "\"\"\")"
   ]
  },
  {
   "cell_type": "code",
   "execution_count": null,
   "metadata": {},
   "outputs": [],
   "source": []
  }
 ],
 "metadata": {
  "kernelspec": {
   "display_name": ".venv",
   "language": "python",
   "name": "python3"
  },
  "language_info": {
   "codemirror_mode": {
    "name": "ipython",
    "version": 3
   },
   "file_extension": ".py",
   "mimetype": "text/x-python",
   "name": "python",
   "nbconvert_exporter": "python",
   "pygments_lexer": "ipython3",
   "version": "3.10.12"
  }
 },
 "nbformat": 4,
 "nbformat_minor": 2
}
