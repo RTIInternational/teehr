{
 "cells": [
  {
   "cell_type": "markdown",
   "id": "768e3b78",
   "metadata": {},
   "source": [
    "NOTE: Plotting requires plotly to be installed\n",
    "ie., `poetry add plotly=\">=4.8,<=6\"`"
   ]
  },
  {
   "cell_type": "code",
   "execution_count": null,
   "id": "9ec2612f",
   "metadata": {},
   "outputs": [],
   "source": [
    "from pathlib import Path\n",
    "from teehr import Evaluation, Configuration\n",
    "from teehr.models.pydantic_table_models import (\n",
    "    Attribute\n",
    ")\n",
    "import tempfile\n",
    "import geopandas as gpd\n",
    "import numpy as np\n",
    "\n",
    "\n",
    "TEST_DATA_DIR = Path(Path.cwd().parents[1], \"tests\", \"data\", \"v0_3_test_study\")\n",
    "GEOJSON_GAGES_FILEPATH = Path(TEST_DATA_DIR, \"geo\", \"gages.geojson\")\n",
    "PRIMARY_TIMESERIES_FILEPATH = Path(\n",
    "    TEST_DATA_DIR, \"timeseries\", \"test_short_obs.parquet\"\n",
    ")\n",
    "CROSSWALK_FILEPATH = Path(TEST_DATA_DIR, \"geo\", \"crosswalk.csv\")\n",
    "SECONDARY_TIMESERIES_FILEPATH = Path(\n",
    "    TEST_DATA_DIR, \"timeseries\", \"test_short_fcast.parquet\"\n",
    ")\n",
    "GEO_FILEPATH = Path(TEST_DATA_DIR, \"geo\")"
   ]
  },
  {
   "cell_type": "code",
   "execution_count": null,
   "id": "079dc6ca",
   "metadata": {},
   "outputs": [],
   "source": [
    "tmpdir = tempfile.TemporaryDirectory(prefix=\"teehr-\")"
   ]
  },
  {
   "cell_type": "code",
   "execution_count": null,
   "id": "9b5ef548",
   "metadata": {},
   "outputs": [],
   "source": [
    "ev = Evaluation(dir_path=Path(tmpdir.name))\n",
    "\n",
    "# Enable logging\n",
    "ev.enable_logging()\n",
    "\n",
    "# Clone the template\n",
    "ev.clone_template()\n",
    "\n",
    "# Load the location data\n",
    "ev.locations.load_spatial(in_path=GEOJSON_GAGES_FILEPATH)\n",
    "\n",
    "ev.configurations.add(\n",
    "    Configuration(\n",
    "        name=\"usgs_observations\",\n",
    "        type=\"primary\",\n",
    "        description=\"test primary configuration\"\n",
    "    )\n",
    ")\n",
    "\n",
    "# Load the timeseries data and map over the fields and set constants\n",
    "ev.primary_timeseries.load_parquet(\n",
    "    in_path=PRIMARY_TIMESERIES_FILEPATH,\n",
    "    field_mapping={\n",
    "        \"reference_time\": \"reference_time\",\n",
    "        \"value_time\": \"value_time\",\n",
    "        \"configuration\": \"configuration_name\",\n",
    "        \"measurement_unit\": \"unit_name\",\n",
    "        \"variable_name\": \"variable_name\",\n",
    "        \"value\": \"value\",\n",
    "        \"location_id\": \"location_id\"\n",
    "    },\n",
    "    constant_field_values={\n",
    "        \"unit_name\": \"m^3/s\",\n",
    "        \"variable_name\": \"streamflow_hourly_inst\",\n",
    "        \"configuration_name\": \"usgs_observations\"\n",
    "    }\n",
    ")"
   ]
  },
  {
   "cell_type": "code",
   "execution_count": null,
   "id": "c857b018",
   "metadata": {},
   "outputs": [],
   "source": [
    "sdf = ev.primary_timeseries.to_sdf()"
   ]
  },
  {
   "cell_type": "code",
   "execution_count": null,
   "id": "3bcadd23",
   "metadata": {},
   "outputs": [],
   "source": [
    "sdf.show()"
   ]
  },
  {
   "cell_type": "code",
   "execution_count": null,
   "id": "ae4fdfb8",
   "metadata": {},
   "outputs": [],
   "source": [
    "sdf = ev.primary_timeseries.to_sdf()\n",
    "(\n",
    "    sdf\n",
    "    .orderBy(\"value_time\")\n",
    "    .plot\n",
    "    .line(\n",
    "        x=\"value_time\",\n",
    "        y=\"value\",\n",
    "        title=\"Primary Timeseries Data\",\n",
    "        line_group=\"location_id\",\n",
    "        color=\"location_id\",\n",
    "    )\n",
    ")\n"
   ]
  },
  {
   "cell_type": "code",
   "execution_count": null,
   "id": "354b5a57",
   "metadata": {},
   "outputs": [],
   "source": []
  }
 ],
 "metadata": {
  "kernelspec": {
   "display_name": "teehr-UF_UIVrG-py3.12",
   "language": "python",
   "name": "python3"
  },
  "language_info": {
   "codemirror_mode": {
    "name": "ipython",
    "version": 3
   },
   "file_extension": ".py",
   "mimetype": "text/x-python",
   "name": "python",
   "nbconvert_exporter": "python",
   "pygments_lexer": "ipython3",
   "version": "3.12.3"
  }
 },
 "nbformat": 4,
 "nbformat_minor": 5
}
