{
 "cells": [
  {
   "cell_type": "code",
   "execution_count": null,
   "id": "9b5ef548",
   "metadata": {},
   "outputs": [],
   "source": [
    "from pyspark.sql import SparkSession\n",
    "from pyspark import SparkConf"
   ]
  },
  {
   "cell_type": "code",
   "execution_count": null,
   "id": "cfa9a6a3",
   "metadata": {},
   "outputs": [],
   "source": [
    "conf = (\n",
    "    SparkConf()\n",
    "    .setAppName(\"TEEHR\")\n",
    "    .setMaster(\"local[*]\")\n",
    "    # .set(\"spark.sql.sources.partitionOverwriteMode\", \"dynamic\")\n",
    "    .set(\"spark.hadoop.fs.s3a.impl\", \"org.apache.hadoop.fs.s3a.S3AFileSystem\")\n",
    "    .set(\"spark.hadoop.fs.s3a.aws.credentials.provider\", \"org.apache.hadoop.fs.s3a.AnonymousAWSCredentialsProvider\")\n",
    "    # .set(\"spark.sql.execution.arrow.pyspark.enabled\", \"true\")\n",
    "    # .set(\"spark.sql.session.timeZone\", \"UTC\")\n",
    "    # .set(\"spark.driver.host\", \"localhost\")\n",
    "    .set(\"spark.jars.packages\", \"org.apache.hadoop:hadoop-aws:3.4.1\")\n",
    "    # .set(\"spark.jars.packages\", \"org.apache.iceberg:iceberg-spark-runtime-3.5_2.12:1.6.1\")\n",
    "    # .set(\"spark.jars.packages\", \"com.amazonaws:aws-java-sdk-bundle:1.12.787\")\n",
    "    # .set(\"spark.sql.parquet.enableVectorizedReader\", \"false\")\n",
    ")\n",
    "spark = SparkSession.builder.config(conf=conf).getOrCreate()"
   ]
  },
  {
   "cell_type": "code",
   "execution_count": null,
   "id": "3f3d742b",
   "metadata": {},
   "outputs": [],
   "source": [
    "options = {'header': 'true', 'ignoreMissingFiles': 'true'}\n",
    "path = 's3a://ciroh-rti-public-data/teehr-data-warehouse/v0_4_evaluations/e0_2_location_example/dataset/units/units.csv'"
   ]
  },
  {
   "cell_type": "code",
   "execution_count": null,
   "id": "2a2a22d7",
   "metadata": {},
   "outputs": [],
   "source": [
    "spark.read.format(\"csv\").options(**options).load(path)"
   ]
  },
  {
   "cell_type": "code",
   "execution_count": null,
   "id": "301cc7b5",
   "metadata": {},
   "outputs": [],
   "source": [
    "spark.read.format(\"csv\").load(path)"
   ]
  },
  {
   "cell_type": "code",
   "execution_count": null,
   "id": "98d86a68",
   "metadata": {},
   "outputs": [],
   "source": [
    "path"
   ]
  },
  {
   "cell_type": "code",
   "execution_count": null,
   "id": "c857b018",
   "metadata": {},
   "outputs": [],
   "source": []
  }
 ],
 "metadata": {
  "kernelspec": {
   "display_name": "teehr-UF_UIVrG-py3.12",
   "language": "python",
   "name": "python3"
  },
  "language_info": {
   "codemirror_mode": {
    "name": "ipython",
    "version": 3
   },
   "file_extension": ".py",
   "mimetype": "text/x-python",
   "name": "python",
   "nbconvert_exporter": "python",
   "pygments_lexer": "ipython3",
   "version": "3.12.3"
  }
 },
 "nbformat": 4,
 "nbformat_minor": 5
}
