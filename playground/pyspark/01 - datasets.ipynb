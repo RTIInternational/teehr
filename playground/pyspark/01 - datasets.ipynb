{
 "cells": [
  {
   "cell_type": "code",
   "execution_count": null,
   "id": "0",
   "metadata": {},
   "outputs": [],
   "source": [
    "# 01 Datasets"
   ]
  },
  {
   "cell_type": "code",
   "execution_count": null,
   "id": "1",
   "metadata": {},
   "outputs": [],
   "source": [
    "import duckdb"
   ]
  },
  {
   "cell_type": "code",
   "execution_count": null,
   "id": "2",
   "metadata": {},
   "outputs": [],
   "source": [
    "duckdb.query(\"\"\"\n",
    "SELECT count(*), count(distinct(primary_location_id)), count(distinct(configuration)), min(value_time), max(value_time)\n",
    "FROM read_parquet('/data/protocols/p1_daily_streamflow_sim/teehr_database/joined/**/*.parquet');\n",
    "\"\"\")"
   ]
  },
  {
   "cell_type": "code",
   "execution_count": null,
   "id": "3",
   "metadata": {},
   "outputs": [],
   "source": [
    "duckdb.query(\"\"\"\n",
    "SELECT count(*), count(distinct(primary_location_id)), count(distinct(configuration)), min(value_time), max(value_time)\n",
    "FROM read_parquet('/data/playground/mdenno/40-yr-retrospective/dataset/joined/**/*.parquet');\n",
    "\"\"\")"
   ]
  },
  {
   "cell_type": "code",
   "execution_count": null,
   "id": "4",
   "metadata": {},
   "outputs": [],
   "source": [
    "duckdb.query(\"\"\"\n",
    "SELECT count(*), count(distinct(primary_location_id)), count(distinct(configuration)), min(value_time), max(value_time)\n",
    "FROM read_parquet('/data/protocols/p2_hourly_streamflow_sim/teehr_database/joined/**/*.parquet');\n",
    "\"\"\")"
   ]
  },
  {
   "cell_type": "code",
   "execution_count": null,
   "id": "5",
   "metadata": {},
   "outputs": [],
   "source": [
    "duckdb.query(\"\"\"\n",
    "SELECT count(*), count(distinct(primary_location_id)), count(distinct(configuration)), min(value_time), max(value_time)\n",
    "FROM read_parquet('one_site.parquet');\n",
    "\"\"\")"
   ]
  },
  {
   "cell_type": "code",
   "execution_count": null,
   "id": "6",
   "metadata": {},
   "outputs": [],
   "source": [
    "duckdb.query(\"\"\"\n",
    "SELECT count(*), count(distinct(primary_location_id)), count(distinct(configuration)), min(value_time), max(value_time)\n",
    "FROM read_parquet('two_sites.parquet');\n",
    "\"\"\")"
   ]
  },
  {
   "cell_type": "code",
   "execution_count": null,
   "id": "7",
   "metadata": {},
   "outputs": [],
   "source": [
    "duckdb.query(\"\"\"\n",
    "SELECT count(*), count(distinct(primary_location_id)), count(distinct(configuration)), min(value_time), max(value_time)\n",
    "FROM read_parquet('/data/playground/retro_demo/retro/timeseries/joined_nwm20_retrospective_2016.parquet');\n",
    "\"\"\")"
   ]
  },
  {
   "cell_type": "code",
   "execution_count": null,
   "id": "8",
   "metadata": {},
   "outputs": [],
   "source": []
  }
 ],
 "metadata": {
  "kernelspec": {
   "display_name": "Python 3 (ipykernel)",
   "language": "python",
   "name": "python3"
  },
  "language_info": {
   "codemirror_mode": {
    "name": "ipython",
    "version": 3
   },
   "file_extension": ".py",
   "mimetype": "text/x-python",
   "name": "python",
   "nbconvert_exporter": "python",
   "pygments_lexer": "ipython3",
   "version": "3.11.8"
  }
 },
 "nbformat": 4,
 "nbformat_minor": 5
}
