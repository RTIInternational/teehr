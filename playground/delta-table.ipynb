{
 "cells": [
  {
   "cell_type": "code",
   "execution_count": null,
   "id": "68dbe80b",
   "metadata": {},
   "outputs": [],
   "source": [
    "import teehr\n",
    "import teehr.example_data.v0_3_test_study as test_study_data\n",
    "from pathlib import Path\n",
    "import shutil\n",
    "import geopandas as gpd\n",
    "import pandas as pd\n",
    "\n",
    "import pyspark\n",
    "\n",
    "from pyspark.sql import SparkSession\n",
    "from pyspark import SparkConf\n",
    "\n",
    "# Tell Bokeh to output plots in the notebook\n",
    "from bokeh.io import output_notebook\n",
    "output_notebook()\n"
   ]
  },
  {
   "cell_type": "code",
   "execution_count": null,
   "id": "c8ccbf7e",
   "metadata": {},
   "outputs": [],
   "source": [
    "# from delta import *\n",
    "\n",
    "# conf = (\n",
    "#     SparkConf()\n",
    "#     .setAppName(\"TEEHR\")\n",
    "#     .setMaster(\"local[*]\")\n",
    "#     .set(\"spark.sql.sources.partitionOverwriteMode\", \"dynamic\")\n",
    "#     .set(\"spark.hadoop.fs.s3a.impl\", \"org.apache.hadoop.fs.s3a.S3AFileSystem\")\n",
    "#     .set(\"spark.hadoop.fs.s3a.aws.credentials.provider\", \"org.apache.hadoop.fs.s3a.AnonymousAWSCredentialsProvider\")\n",
    "#     .set(\"spark.sql.execution.arrow.pyspark.enabled\", \"true\")\n",
    "#     .set(\"spark.sql.session.timeZone\", \"UTC\")\n",
    "#     .set(\"spark.sql.extensions\", \"io.delta.sql.DeltaSparkSessionExtension\")\n",
    "#     .set(\"spark.sql.catalog.spark_catalog\", \"org.apache.spark.sql.delta.catalog.DeltaCatalog\")\n",
    "#     .set(\"spark.sql.package\", \"io.delta:delta-core_2.12:2.1.0\")\n",
    "# )\n",
    "\n",
    "# builder = pyspark.sql.SparkSession.builder.config(conf=conf)\n",
    "# spark = configure_spark_with_delta_pip(builder).getOrCreate()\n"
   ]
  },
  {
   "cell_type": "code",
   "execution_count": null,
   "id": "0c98b67b",
   "metadata": {},
   "outputs": [],
   "source": [
    "# conf = (\n",
    "#     SparkConf()\n",
    "#     .setAppName(\"TEEHR\")\n",
    "#     .setMaster(\"local[*]\")\n",
    "#     .set(\"spark.sql.sources.partitionOverwriteMode\", \"dynamic\")\n",
    "#     .set(\"spark.hadoop.fs.s3a.impl\", \"org.apache.hadoop.fs.s3a.S3AFileSystem\")\n",
    "#     .set(\"spark.hadoop.fs.s3a.aws.credentials.provider\", \"org.apache.hadoop.fs.s3a.AnonymousAWSCredentialsProvider\")\n",
    "#     .set(\"spark.sql.execution.arrow.pyspark.enabled\", \"true\")\n",
    "#     .set(\"spark.sql.session.timeZone\", \"UTC\")\n",
    "#     .set(\"spark.sql.extensions\", \"io.delta.sql.DeltaSparkSessionExtension\")\n",
    "#     .set(\"spark.sql.catalog.spark_catalog\", \"org.apache.spark.sql.delta.catalog.DeltaCatalog\")\n",
    "#     .set(\"spark.sql.package\", \"io.delta:delta-core_2.12:2.1.0\")\n",
    "#     .set(\"spark.sql.warehouse.dir\", warehouse_location) \\\n",
    "# )\n",
    "# spark = SparkSession.builder.config(conf=conf).getOrCreate()"
   ]
  },
  {
   "cell_type": "code",
   "execution_count": null,
   "id": "bec4ad86",
   "metadata": {},
   "outputs": [],
   "source": [
    "# Define the directory where the Evaluation will be created\n",
    "test_eval_dir = Path(Path().home(), \"temp\", \"02_delta_tables\")\n",
    "shutil.rmtree(test_eval_dir, ignore_errors=True)\n",
    "\n",
    "# Create an Evaluation object and create the directory\n",
    "ev = teehr.Evaluation(\n",
    "    dir_path=test_eval_dir,\n",
    "    create_dir=True\n",
    ")\n",
    "\n",
    "# Clone the template\n",
    "ev.clone_template()"
   ]
  },
  {
   "cell_type": "code",
   "execution_count": null,
   "id": "4e0e81d3",
   "metadata": {},
   "outputs": [],
   "source": [
    "location_data_path = Path(test_eval_dir, \"gages.geojson\")\n",
    "test_study_data.fetch_file(\"gages.geojson\", location_data_path)"
   ]
  },
  {
   "cell_type": "code",
   "execution_count": null,
   "id": "425acb57",
   "metadata": {},
   "outputs": [],
   "source": [
    "location_data_path = Path(test_eval_dir, \"gages.geojson\")\n",
    "gdf = gpd.read_file(location_data_path)\n",
    "gdf"
   ]
  },
  {
   "cell_type": "code",
   "execution_count": null,
   "id": "ab4214d5",
   "metadata": {},
   "outputs": [],
   "source": [
    "ev.locations._create_delta_table()"
   ]
  },
  {
   "cell_type": "code",
   "execution_count": null,
   "id": "8eacaca1",
   "metadata": {},
   "outputs": [],
   "source": [
    "ev.locations.to_sdf().show()"
   ]
  },
  {
   "cell_type": "code",
   "execution_count": null,
   "id": "6c232fdf",
   "metadata": {},
   "outputs": [],
   "source": [
    "ev.locations.load_spatial(location_data_path)"
   ]
  },
  {
   "cell_type": "code",
   "execution_count": null,
   "id": "680c4e7b",
   "metadata": {},
   "outputs": [],
   "source": [
    "ev.locations.to_geopandas()"
   ]
  },
  {
   "cell_type": "code",
   "execution_count": null,
   "id": "7c8ade42",
   "metadata": {},
   "outputs": [],
   "source": [
    "primary_timeseries_path = Path(test_eval_dir, \"test_short_obs.csv\")\n",
    "test_study_data.fetch_file(\"test_short_obs.csv\", primary_timeseries_path)"
   ]
  },
  {
   "cell_type": "code",
   "execution_count": null,
   "id": "43a7b4fc",
   "metadata": {},
   "outputs": [],
   "source": [
    "primary_timeseries_df = pd.read_csv(primary_timeseries_path)\n",
    "primary_timeseries_df.head()"
   ]
  },
  {
   "cell_type": "code",
   "execution_count": null,
   "id": "9c1fcc68",
   "metadata": {},
   "outputs": [],
   "source": [
    "ev.units.to_pandas()"
   ]
  },
  {
   "cell_type": "code",
   "execution_count": null,
   "id": "6e4bf7f0",
   "metadata": {},
   "outputs": [],
   "source": [
    "ev.variables.to_pandas()"
   ]
  },
  {
   "cell_type": "code",
   "execution_count": null,
   "id": "f245245a",
   "metadata": {},
   "outputs": [],
   "source": [
    "ev.configurations.to_pandas()"
   ]
  },
  {
   "cell_type": "code",
   "execution_count": null,
   "id": "6facb74c",
   "metadata": {},
   "outputs": [],
   "source": [
    "ev.configurations.add(\n",
    "    teehr.Configuration(\n",
    "        name=\"usgs_observations\",\n",
    "        type=\"primary\",\n",
    "        description=\"Test Observed Configuration\",\n",
    "    )\n",
    ")"
   ]
  },
  {
   "cell_type": "code",
   "execution_count": null,
   "id": "69b8396c",
   "metadata": {},
   "outputs": [],
   "source": [
    "ev.configurations.to_pandas()"
   ]
  },
  {
   "cell_type": "code",
   "execution_count": null,
   "id": "61bd4420",
   "metadata": {},
   "outputs": [],
   "source": [
    "ev.primary_timeseries._create_delta_table()"
   ]
  },
  {
   "cell_type": "code",
   "execution_count": null,
   "id": "c2536254",
   "metadata": {},
   "outputs": [],
   "source": [
    "# Load the timeseries data and map over the fields and set constants\n",
    "ev.primary_timeseries.load_csv(\n",
    "    in_path=primary_timeseries_path,\n",
    "    field_mapping={\n",
    "        \"reference_time\": \"reference_time\",\n",
    "        \"value_time\": \"value_time\",\n",
    "        \"configuration\": \"configuration_name\",\n",
    "        \"measurement_unit\": \"unit_name\",\n",
    "        \"variable_name\": \"variable_name\",\n",
    "        \"value\": \"value\",\n",
    "        \"location_id\": \"location_id\"\n",
    "    },\n",
    "    constant_field_values={\n",
    "        \"unit_name\": \"m^3/s\",\n",
    "        \"variable_name\": \"streamflow_hourly_inst\",\n",
    "        \"configuration_name\": \"usgs_observations\"\n",
    "    },\n",
    "    # location_id_prefix=\"usgs\",\n",
    "    # write_mode=\"overwrite\"\n",
    ")"
   ]
  },
  {
   "cell_type": "code",
   "execution_count": null,
   "id": "b6a8ea47",
   "metadata": {},
   "outputs": [],
   "source": [
    "ev.primary_timeseries.to_sdf().count()"
   ]
  },
  {
   "cell_type": "code",
   "execution_count": null,
   "id": "1c6653d7",
   "metadata": {},
   "outputs": [],
   "source": []
  }
 ],
 "metadata": {
  "kernelspec": {
   "display_name": ".venv",
   "language": "python",
   "name": "python3"
  },
  "language_info": {
   "codemirror_mode": {
    "name": "ipython",
    "version": 3
   },
   "file_extension": ".py",
   "mimetype": "text/x-python",
   "name": "python",
   "nbconvert_exporter": "python",
   "pygments_lexer": "ipython3",
   "version": "3.10.15"
  }
 },
 "nbformat": 4,
 "nbformat_minor": 5
}
