{
 "cells": [
  {
   "cell_type": "code",
   "execution_count": 1,
   "id": "6136814e",
   "metadata": {},
   "outputs": [],
   "source": [
    "from pathlib import Path\n",
    "import teehr\n",
    "from datetime import datetime\n",
    "import pytz\n",
    "from pyspark.sql import SparkSession, DataFrame"
   ]
  },
  {
   "cell_type": "code",
   "execution_count": 2,
   "id": "21918262",
   "metadata": {},
   "outputs": [],
   "source": [
    "evaluation_path = str(Path.home() / \"temp\" / \"iceberg\" / \"evaluation\")\n",
    "warehouse_path = str(Path(evaluation_path) / \"spark-warehouse\")\n",
    "catalog_name = \"local\"\n",
    "schema_name = \"db\""
   ]
  },
  {
   "cell_type": "code",
   "execution_count": 3,
   "id": "2e929cb6",
   "metadata": {},
   "outputs": [
    {
     "name": "stderr",
     "output_type": "stream",
     "text": [
      "https://artifacts.unidata.ucar.edu/repository/unidata-all added as a remote repository with the name: repo-1\n",
      "Ivy Default Cache set to: /Users/mdenno/.ivy2/cache\n",
      "The jars for the packages stored in: /Users/mdenno/.ivy2/jars\n",
      "org.apache.sedona#sedona-spark-3.5_2.12 added as a dependency\n",
      "org.apache.iceberg#iceberg-spark-runtime-3.5_2.12 added as a dependency\n",
      "org.datasyslab#geotools-wrapper added as a dependency\n",
      ":: resolving dependencies :: org.apache.spark#spark-submit-parent-be543c5d-ab17-4fce-adf8-d7906586c233;1.0\n",
      "\tconfs: [default]\n",
      "\tfound org.apache.sedona#sedona-spark-3.5_2.12;1.7.1 in central\n",
      "\tfound org.apache.sedona#sedona-common;1.7.1 in central\n",
      "\tfound org.apache.commons#commons-math3;3.6.1 in central\n",
      "\tfound org.locationtech.jts#jts-core;1.20.0 in central\n",
      "\tfound org.wololo#jts2geojson;0.16.1 in central\n"
     ]
    },
    {
     "name": "stdout",
     "output_type": "stream",
     "text": [
      ":: loading settings :: url = jar:file:/Users/mdenno/repos/teehr/.venv/lib/python3.10/site-packages/pyspark/jars/ivy-2.5.1.jar!/org/apache/ivy/core/settings/ivysettings.xml\n"
     ]
    },
    {
     "name": "stderr",
     "output_type": "stream",
     "text": [
      "\tfound org.locationtech.spatial4j#spatial4j;0.8 in central\n",
      "\tfound com.google.geometry#s2-geometry;2.0.0 in central\n",
      "\tfound com.google.guava#guava;25.1-jre in central\n",
      "\tfound com.google.code.findbugs#jsr305;3.0.2 in central\n",
      "\tfound org.checkerframework#checker-qual;2.0.0 in central\n",
      "\tfound com.google.errorprone#error_prone_annotations;2.1.3 in central\n",
      "\tfound com.google.j2objc#j2objc-annotations;1.1 in central\n",
      "\tfound org.codehaus.mojo#animal-sniffer-annotations;1.14 in central\n",
      "\tfound com.uber#h3;4.1.1 in central\n",
      "\tfound net.sf.geographiclib#GeographicLib-Java;1.52 in central\n",
      "\tfound com.github.ben-manes.caffeine#caffeine;2.9.2 in central\n",
      "\tfound org.checkerframework#checker-qual;3.10.0 in central\n",
      "\tfound com.google.errorprone#error_prone_annotations;2.5.1 in central\n",
      "\tfound org.apache.sedona#sedona-spark-common-3.5_2.12;1.7.1 in central\n",
      "\tfound org.apache.sedona#shade-proto;1.7.1 in central\n",
      "\tfound org.xerial#sqlite-jdbc;3.41.2.2 in central\n",
      "\tfound commons-lang#commons-lang;2.6 in central\n",
      "\tfound graphframes#graphframes;0.8.3-spark3.5-s_2.12 in spark-packages\n",
      "\tfound org.slf4j#slf4j-api;1.7.36 in central\n",
      "\tfound org.scala-lang.modules#scala-collection-compat_2.12;2.5.0 in central\n",
      "\tfound org.beryx#awt-color-factory;1.0.0 in central\n",
      "\tfound org.apache.iceberg#iceberg-spark-runtime-3.5_2.12;1.9.0 in central\n",
      "\tfound org.datasyslab#geotools-wrapper;1.7.1-28.5 in central\n",
      ":: resolution report :: resolve 430ms :: artifacts dl 16ms\n",
      "\t:: modules in use:\n",
      "\tcom.github.ben-manes.caffeine#caffeine;2.9.2 from central in [default]\n",
      "\tcom.google.code.findbugs#jsr305;3.0.2 from central in [default]\n",
      "\tcom.google.errorprone#error_prone_annotations;2.5.1 from central in [default]\n",
      "\tcom.google.geometry#s2-geometry;2.0.0 from central in [default]\n",
      "\tcom.google.guava#guava;25.1-jre from central in [default]\n",
      "\tcom.google.j2objc#j2objc-annotations;1.1 from central in [default]\n",
      "\tcom.uber#h3;4.1.1 from central in [default]\n",
      "\tcommons-lang#commons-lang;2.6 from central in [default]\n",
      "\tgraphframes#graphframes;0.8.3-spark3.5-s_2.12 from spark-packages in [default]\n",
      "\tnet.sf.geographiclib#GeographicLib-Java;1.52 from central in [default]\n",
      "\torg.apache.commons#commons-math3;3.6.1 from central in [default]\n",
      "\torg.apache.iceberg#iceberg-spark-runtime-3.5_2.12;1.9.0 from central in [default]\n",
      "\torg.apache.sedona#sedona-common;1.7.1 from central in [default]\n",
      "\torg.apache.sedona#sedona-spark-3.5_2.12;1.7.1 from central in [default]\n",
      "\torg.apache.sedona#sedona-spark-common-3.5_2.12;1.7.1 from central in [default]\n",
      "\torg.apache.sedona#shade-proto;1.7.1 from central in [default]\n",
      "\torg.beryx#awt-color-factory;1.0.0 from central in [default]\n",
      "\torg.checkerframework#checker-qual;3.10.0 from central in [default]\n",
      "\torg.codehaus.mojo#animal-sniffer-annotations;1.14 from central in [default]\n",
      "\torg.datasyslab#geotools-wrapper;1.7.1-28.5 from central in [default]\n",
      "\torg.locationtech.jts#jts-core;1.20.0 from central in [default]\n",
      "\torg.locationtech.spatial4j#spatial4j;0.8 from central in [default]\n",
      "\torg.scala-lang.modules#scala-collection-compat_2.12;2.5.0 from central in [default]\n",
      "\torg.slf4j#slf4j-api;1.7.36 from central in [default]\n",
      "\torg.wololo#jts2geojson;0.16.1 from central in [default]\n",
      "\torg.xerial#sqlite-jdbc;3.41.2.2 from central in [default]\n",
      "\t:: evicted modules:\n",
      "\torg.checkerframework#checker-qual;2.0.0 by [org.checkerframework#checker-qual;3.10.0] in [default]\n",
      "\tcom.google.errorprone#error_prone_annotations;2.1.3 by [com.google.errorprone#error_prone_annotations;2.5.1] in [default]\n",
      "\t---------------------------------------------------------------------\n",
      "\t|                  |            modules            ||   artifacts   |\n",
      "\t|       conf       | number| search|dwnlded|evicted|| number|dwnlded|\n",
      "\t---------------------------------------------------------------------\n",
      "\t|      default     |   28  |   0   |   0   |   2   ||   26  |   0   |\n",
      "\t---------------------------------------------------------------------\n",
      ":: retrieving :: org.apache.spark#spark-submit-parent-be543c5d-ab17-4fce-adf8-d7906586c233\n",
      "\tconfs: [default]\n",
      "\t0 artifacts copied, 26 already retrieved (0kB/10ms)\n",
      "25/06/04 14:54:31 WARN NativeCodeLoader: Unable to load native-hadoop library for your platform... using builtin-java classes where applicable\n",
      "Setting default log level to \"WARN\".\n",
      "To adjust logging level use sc.setLogLevel(newLevel). For SparkR, use setLogLevel(newLevel).\n"
     ]
    }
   ],
   "source": [
    "from sedona.spark import *\n",
    "\n",
    "config = (\n",
    "    SedonaContext.builder()\n",
    "    .config(\n",
    "        \"spark.jars.packages\",\n",
    "        \"org.apache.sedona:sedona-spark-3.5_2.12:1.7.1,\"\n",
    "        \"org.apache.iceberg:iceberg-spark-runtime-3.5_2.12:1.9.0,\"\n",
    "        \"org.datasyslab:geotools-wrapper:1.7.1-28.5\"\n",
    "    )\n",
    "    .config(\n",
    "        \"spark.jars.repositories\",\n",
    "        \"https://artifacts.unidata.ucar.edu/repository/unidata-all\",\n",
    "    )\n",
    "    .config(\n",
    "        \"spark.sql.extensions\",\n",
    "        \"org.apache.iceberg.spark.extensions.IcebergSparkSessionExtensions\"\n",
    "    )\n",
    "    .config(\n",
    "        f\"spark.sql.catalog.{catalog_name}\",\n",
    "        \"org.apache.iceberg.spark.SparkCatalog\"\n",
    "    )\n",
    "    .config(\n",
    "        f\"spark.sql.catalog.{catalog_name}.type\", \"hadoop\"\n",
    "    )\n",
    "    .config(\n",
    "        f\"spark.sql.catalog.{catalog_name}.warehouse\",\n",
    "        f\"{warehouse_path}/{catalog_name}\"\n",
    "    )\n",
    "    .config(\"spark.hadoop.fs.s3a.impl\", \"org.apache.hadoop.fs.s3a.S3AFileSystem\")\n",
    "    .config(\"spark.hadoop.fs.s3a.aws.credentials.provider\", \"org.apache.hadoop.fs.s3a.AnonymousAWSCredentialsProvider\")\n",
    "    .config(\"spark.sql.execution.arrow.pyspark.enabled\", \"true\")\n",
    "    .config(\"spark.sql.session.timeZone\", \"UTC\")\n",
    "    .config(\"spark.driver.host\", \"localhost\")\n",
    "    .config(\"spark.driver.bindAddress\", \"localhost\")\n",
    "    .config(\"spark.driver.memory\", \"16g\")\n",
    "    .getOrCreate()\n",
    ")\n",
    "sedona = SedonaContext.create(config)"
   ]
  },
  {
   "cell_type": "code",
   "execution_count": 4,
   "id": "d4199150",
   "metadata": {},
   "outputs": [],
   "source": [
    "# Create an Evaluation object and create the directory\n",
    "ev = teehr.Evaluation(\n",
    "    dir_path=evaluation_path,\n",
    "    spark=sedona\n",
    ")"
   ]
  },
  {
   "cell_type": "markdown",
   "id": "65c7f96b",
   "metadata": {},
   "source": [
    "# Make some views and query"
   ]
  },
  {
   "cell_type": "code",
   "execution_count": 5,
   "id": "1370f9f7",
   "metadata": {},
   "outputs": [
    {
     "name": "stderr",
     "output_type": "stream",
     "text": [
      "25/06/04 14:54:37 WARN SparkStringUtils: Truncated the string representation of a plan since it was too large. This behavior can be adjusted by setting 'spark.sql.debug.maxToStringFields'.\n"
     ]
    },
    {
     "data": {
      "text/plain": [
       "DataFrame[]"
      ]
     },
     "execution_count": 5,
     "metadata": {},
     "output_type": "execute_result"
    }
   ],
   "source": [
    "attribute_names = [row.attribute_name for row in sedona.sql(f\"\"\"\n",
    "    SELECT DISTINCT(attribute_name) FROM local.db.location_attributes\n",
    "\"\"\").collect()]\n",
    "attribute_names_sql = \", \".join([f\"'{name}'\" for name in attribute_names])\n",
    "\n",
    "sedona.sql(f\"\"\"\n",
    "    CREATE OR REPLACE TEMP VIEW locations_view AS (\n",
    "        WITH location_attributes_pivot AS (\n",
    "            SELECT *\n",
    "            FROM (\n",
    "                SELECT location_id, attribute_name, value\n",
    "                FROM local.db.location_attributes\n",
    "            ) src\n",
    "            PIVOT (\n",
    "                max(value) FOR attribute_name IN ({attribute_names_sql})\n",
    "            )\n",
    "        )\n",
    "        SELECT l.id, l.name, ST_GeomFromWKB(l.geometry) AS geometry, la.*\n",
    "        FROM local.db.locations l\n",
    "        LEFT JOIN location_attributes_pivot la\n",
    "        ON l.id = la.location_id\n",
    "        WHERE l.id IS NOT NULL\n",
    "        AND la.location_id IS NOT NULL\n",
    "    )\n",
    "\"\"\")"
   ]
  },
  {
   "cell_type": "code",
   "execution_count": 6,
   "id": "448e22cc",
   "metadata": {},
   "outputs": [
    {
     "name": "stdout",
     "output_type": "stream",
     "text": [
      "+-------------+--------------------+--------------------+-------------+-----------------+----------------+-----------------+------------------+-----------------+-----------------+------------------+-----------------+-----------------+----------+-------------+----------------+-------------------+----------------+----------------+---------+----------+---------------+-----------+-----------+--------------+--------------------+-----------+-----------------+------------+---------------------+\n",
      "|           id|                name|            geometry|  location_id|        frac_snow|         aridity|    p_seasonality|                q5|              q95|     runoff_ratio|            q_mean|   baseflow_index|    soil_porosity|slope_mean|drainage_area|          p_mean|dom_land_cover_frac|        pet_mean|       slope_fdc|elev_mean|frac_urban|NID_dam_lengths|zero_q_freq|high_q_freq|high_prec_freq|        ecoregion_L2|forest_frac|   dom_land_cover|stream_order|river_forecast_center|\n",
      "+-------------+--------------------+--------------------+-------------+-----------------+----------------+-----------------+------------------+-----------------+-----------------+------------------+-----------------+-----------------+----------+-------------+----------------+-------------------+----------------+----------------+---------+----------+---------------+-----------+-----------+--------------+--------------------+-----------+-----------------+------------+---------------------+\n",
      "|usgs-01013500|Fish River near F...|POINT (-68.582777...|usgs-01013500|0.313440357191799|0.63055865946247|0.187940258706929|165.12784033492366|166.7828551043532|0.543437466590222|44.467109455834866|0.585225955779508|0.461148751156712|  21.64152|       2261.1|3.12667898699521|  0.883451918625571|1.97155451060917|1.52821853538976|   250.31|      0.01|        68189.0|        0.0|        6.1|         12.95|8.1  MIXED WOOD P...|     0.9063|    Mixed Forests|           5|                NERFC|\n",
      "+-------------+--------------------+--------------------+-------------+-----------------+----------------+-----------------+------------------+-----------------+-----------------+------------------+-----------------+-----------------+----------+-------------+----------------+-------------------+----------------+----------------+---------+----------+---------------+-----------+-----------+--------------+--------------------+-----------+-----------------+------------+---------------------+\n",
      "\n"
     ]
    }
   ],
   "source": [
    "sedona.sql(f\"\"\"\n",
    "    SELECT *\n",
    "    FROM locations_view\n",
    "    WHERE id = 'usgs-01013500'\n",
    "\"\"\").show()"
   ]
  },
  {
   "cell_type": "code",
   "execution_count": 7,
   "id": "7cadee0c",
   "metadata": {},
   "outputs": [
    {
     "data": {
      "text/plain": [
       "DataFrame[]"
      ]
     },
     "execution_count": 7,
     "metadata": {},
     "output_type": "execute_result"
    }
   ],
   "source": [
    "sedona.sql(\"\"\"\n",
    "CREATE OR REPLACE TEMP VIEW joined_timeseries_view AS (\n",
    "    SELECT\n",
    "        sf.reference_time\n",
    "        , sf.value_time as value_time\n",
    "        , pf.location_id as primary_location_id\n",
    "        , sf.location_id as secondary_location_id\n",
    "        , pf.value as primary_value\n",
    "        , sf.value as secondary_value\n",
    "        , sf.configuration_name\n",
    "        , sf.unit_name\n",
    "        , sf.variable_name\n",
    "        , sf.member\n",
    "    FROM local.db.secondary_timeseries sf\n",
    "    JOIN local.db.location_crosswalks cf\n",
    "        on cf.secondary_location_id = sf.location_id\n",
    "    JOIN local.db.primary_timeseries pf\n",
    "        on cf.primary_location_id = pf.location_id\n",
    "        and sf.value_time = pf.value_time\n",
    "        and sf.unit_name = pf.unit_name\n",
    "        and sf.variable_name = pf.variable_name\n",
    ")\n",
    "\"\"\", )\n"
   ]
  },
  {
   "cell_type": "code",
   "execution_count": 8,
   "id": "899bd197",
   "metadata": {},
   "outputs": [
    {
     "name": "stderr",
     "output_type": "stream",
     "text": [
      "[Stage 12:>                                                         (0 + 4) / 4]\r"
     ]
    },
    {
     "name": "stdout",
     "output_type": "stream",
     "text": [
      "+--------------+-------------------+-------------------+---------------------+-------------+---------------+-------------------+---------+--------------------+------+\n",
      "|reference_time|         value_time|primary_location_id|secondary_location_id|primary_value|secondary_value| configuration_name|unit_name|       variable_name|member|\n",
      "+--------------+-------------------+-------------------+---------------------+-------------+---------------+-------------------+---------+--------------------+------+\n",
      "|          NULL|1990-11-17 00:00:00|      usgs-01013500|        usgs-01013500|    70.827515|       99.89531|marrmot_37_hbv_obj1|    m^3/s|streamflow_daily_...|  NULL|\n",
      "|          NULL|1990-11-17 00:00:00|      usgs-01013500|        usgs-01013500|    70.827515|       60.40052|   camels_daymet_05|    m^3/s|streamflow_daily_...|  NULL|\n",
      "|          NULL|1990-11-17 00:00:00|      usgs-01013500|         nwm30-724696|    70.827515|       66.35166|nwm30_retrospective|    m^3/s|streamflow_daily_...|  NULL|\n",
      "|          NULL|1990-11-21 00:00:00|      usgs-01013500|        usgs-01013500|    68.290794|      84.232056|marrmot_37_hbv_obj1|    m^3/s|streamflow_daily_...|  NULL|\n",
      "|          NULL|1990-11-21 00:00:00|      usgs-01013500|        usgs-01013500|    68.290794|       50.08086|   camels_daymet_05|    m^3/s|streamflow_daily_...|  NULL|\n",
      "|          NULL|1990-11-21 00:00:00|      usgs-01013500|         nwm30-724696|    68.290794|      60.274998|nwm30_retrospective|    m^3/s|streamflow_daily_...|  NULL|\n",
      "|          NULL|1990-12-02 00:00:00|      usgs-01013500|        usgs-01013500|    62.249866|      69.003174|marrmot_37_hbv_obj1|    m^3/s|streamflow_daily_...|  NULL|\n",
      "|          NULL|1990-12-02 00:00:00|      usgs-01013500|        usgs-01013500|    62.249866|       50.55799|   camels_daymet_05|    m^3/s|streamflow_daily_...|  NULL|\n",
      "|          NULL|1990-12-02 00:00:00|      usgs-01013500|         nwm30-724696|    62.249866|          52.39|nwm30_retrospective|    m^3/s|streamflow_daily_...|  NULL|\n",
      "|          NULL|1990-12-10 00:00:00|      usgs-01013500|        usgs-01013500|     59.71315|      94.366585|marrmot_37_hbv_obj1|    m^3/s|streamflow_daily_...|  NULL|\n",
      "|          NULL|1990-12-10 00:00:00|      usgs-01013500|        usgs-01013500|     59.71315|       40.03757|   camels_daymet_05|    m^3/s|streamflow_daily_...|  NULL|\n",
      "|          NULL|1990-12-10 00:00:00|      usgs-01013500|         nwm30-724696|     59.71315|       49.70125|nwm30_retrospective|    m^3/s|streamflow_daily_...|  NULL|\n",
      "|          NULL|1990-12-14 00:00:00|      usgs-01013500|        usgs-01013500|     53.97191|      100.29387|marrmot_37_hbv_obj1|    m^3/s|streamflow_daily_...|  NULL|\n",
      "|          NULL|1990-12-14 00:00:00|      usgs-01013500|        usgs-01013500|     53.97191|       34.41625|   camels_daymet_05|    m^3/s|streamflow_daily_...|  NULL|\n",
      "|          NULL|1990-12-14 00:00:00|      usgs-01013500|         nwm30-724696|     53.97191|      46.901665|nwm30_retrospective|    m^3/s|streamflow_daily_...|  NULL|\n",
      "|          NULL|1991-05-07 00:00:00|      usgs-01013500|        usgs-01013500|    266.07217|      317.72256|marrmot_37_hbv_obj1|    m^3/s|streamflow_daily_...|  NULL|\n",
      "|          NULL|1991-05-07 00:00:00|      usgs-01013500|        usgs-01013500|    266.07217|      30.312372|   camels_daymet_05|    m^3/s|streamflow_daily_...|  NULL|\n",
      "|          NULL|1991-05-07 00:00:00|      usgs-01013500|         nwm30-724696|    266.07217|      134.92583|nwm30_retrospective|    m^3/s|streamflow_daily_...|  NULL|\n",
      "|          NULL|1991-05-19 00:00:00|      usgs-01013500|        usgs-01013500|    122.54115|      162.40059|marrmot_37_hbv_obj1|    m^3/s|streamflow_daily_...|  NULL|\n",
      "|          NULL|1991-05-19 00:00:00|      usgs-01013500|        usgs-01013500|    122.54115|      160.82036|   camels_daymet_05|    m^3/s|streamflow_daily_...|  NULL|\n",
      "+--------------+-------------------+-------------------+---------------------+-------------+---------------+-------------------+---------+--------------------+------+\n",
      "only showing top 20 rows\n",
      "\n"
     ]
    },
    {
     "name": "stderr",
     "output_type": "stream",
     "text": [
      "                                                                                \r"
     ]
    }
   ],
   "source": [
    "sedona.sql(f\"SELECT * FROM joined_timeseries_view\").show()"
   ]
  },
  {
   "cell_type": "code",
   "execution_count": 9,
   "id": "8fb3cd51",
   "metadata": {},
   "outputs": [
    {
     "name": "stderr",
     "output_type": "stream",
     "text": [
      "[Stage 25:============================================>           (12 + 3) / 15]\r"
     ]
    },
    {
     "name": "stdout",
     "output_type": "stream",
     "text": [
      "+---------------------+------------------+\n",
      "|river_forecast_center|               ave|\n",
      "+---------------------+------------------+\n",
      "|                CBRFC|1.5549045075001895|\n",
      "|                NWRFC| 24.37332440867924|\n",
      "|                NCRFC|10.509092417281442|\n",
      "|                WGRFC|3.0123704995564933|\n",
      "|                MARFC| 6.642655581080046|\n",
      "|                NERFC|11.451879210220044|\n",
      "|                LMRFC|14.989565046280838|\n",
      "|                OHRFC|  9.97940754219624|\n",
      "|                ABRFC|3.4584774255171933|\n",
      "|                SERFC| 6.083878497829004|\n",
      "|                CNRFC|12.503939524957193|\n",
      "|                MBRFC| 7.807546943110796|\n",
      "+---------------------+------------------+\n",
      "\n"
     ]
    },
    {
     "name": "stderr",
     "output_type": "stream",
     "text": [
      "                                                                                \r"
     ]
    }
   ],
   "source": [
    "sdf = sedona.sql(\"\"\"\n",
    "    SELECT river_forecast_center, avg(primary_value) as ave FROM joined_timeseries_view jtv\n",
    "        JOIN locations_view lv\n",
    "        ON jtv.primary_location_id = lv.id\n",
    "    GROUP BY river_forecast_center;\n",
    "\"\"\")\n",
    "sdf.show()"
   ]
  },
  {
   "cell_type": "markdown",
   "id": "2a054f59",
   "metadata": {},
   "source": [
    "# Lets play with inserts and merges"
   ]
  },
  {
   "cell_type": "code",
   "execution_count": 10,
   "id": "508c6621",
   "metadata": {},
   "outputs": [
    {
     "name": "stdout",
     "output_type": "stream",
     "text": [
      "+--------------+-------------------+------------------+---------+--------------------+---------+-------------+\n",
      "|reference_time|         value_time|configuration_name|unit_name|       variable_name|    value|  location_id|\n",
      "+--------------+-------------------+------------------+---------+--------------------+---------+-------------+\n",
      "|          NULL|1989-01-01 00:00:00| usgs_observations|    m^3/s|streamflow_daily_...|24.823256|usgs-14182500|\n",
      "|          NULL|1989-01-02 00:00:00| usgs_observations|    m^3/s|streamflow_daily_...|21.668287|usgs-14182500|\n",
      "|          NULL|1989-01-03 00:00:00| usgs_observations|    m^3/s|streamflow_daily_...|31.285395|usgs-14182500|\n",
      "|          NULL|1989-01-04 00:00:00| usgs_observations|    m^3/s|streamflow_daily_...|38.038963|usgs-14182500|\n",
      "|          NULL|1989-01-05 00:00:00| usgs_observations|    m^3/s|streamflow_daily_...| 37.80299|usgs-14182500|\n",
      "|          NULL|1989-01-06 00:00:00| usgs_observations|    m^3/s|streamflow_daily_...|29.954504|usgs-14182500|\n",
      "|          NULL|1989-01-07 00:00:00| usgs_observations|    m^3/s|streamflow_daily_...|23.809748|usgs-14182500|\n",
      "|          NULL|1989-01-08 00:00:00| usgs_observations|    m^3/s|streamflow_daily_...|20.220589|usgs-14182500|\n",
      "|          NULL|1989-01-09 00:00:00| usgs_observations|    m^3/s|streamflow_daily_...| 65.61013|usgs-14182500|\n",
      "|          NULL|1989-01-10 00:00:00| usgs_observations|    m^3/s|streamflow_daily_...|248.55112|usgs-14182500|\n",
      "+--------------+-------------------+------------------+---------+--------------------+---------+-------------+\n",
      "\n"
     ]
    }
   ],
   "source": [
    "sedona.sql(f\"\"\"\n",
    "    SELECT * FROM local.db.primary_timeseries\n",
    "    WHERE location_id == 'usgs-14182500'\n",
    "    ORDER BY value_time ASC\n",
    "    LIMIT 10\n",
    "\"\"\").show()"
   ]
  },
  {
   "cell_type": "code",
   "execution_count": 11,
   "id": "ea4f4998",
   "metadata": {},
   "outputs": [
    {
     "data": {
      "text/plain": [
       "StructType([StructField('reference_time', TimestampType(), True), StructField('value_time', TimestampType(), True), StructField('value', FloatType(), True), StructField('variable_name', StringType(), True), StructField('configuration_name', StringType(), True), StructField('unit_name', StringType(), True), StructField('location_id', StringType(), True)])"
      ]
     },
     "execution_count": 11,
     "metadata": {},
     "output_type": "execute_result"
    }
   ],
   "source": [
    "schema = ev.primary_timeseries.schema_func().to_structtype()\n",
    "schema"
   ]
  },
  {
   "cell_type": "code",
   "execution_count": 12,
   "id": "21674c30",
   "metadata": {},
   "outputs": [
    {
     "name": "stdout",
     "output_type": "stream",
     "text": [
      "+--------------+-------------------+-----+--------------------+------------------+---------+-------------+\n",
      "|reference_time|         value_time|value|       variable_name|configuration_name|unit_name|  location_id|\n",
      "+--------------+-------------------+-----+--------------------+------------------+---------+-------------+\n",
      "|          NULL|1989-01-01 05:00:00|24.82|streamflow_daily_...| usgs_observations|    m^3/s|usgs-14182500|\n",
      "|          NULL|1989-01-02 05:00:00|21.67|streamflow_daily_...| usgs_observations|    m^3/s|usgs-14182500|\n",
      "+--------------+-------------------+-----+--------------------+------------------+---------+-------------+\n",
      "\n"
     ]
    }
   ],
   "source": [
    "# Create some rows to add\n",
    "df = sedona.createDataFrame(\n",
    "    [\n",
    "        (None, datetime(1989, 1, 1, 0, 0), 24.82, \"streamflow_daily_mean\", \"usgs_observations\", \"m^3/s\", \"usgs-14182500\"),\n",
    "        (None, datetime(1989, 1, 2, 0, 0), 21.67, \"streamflow_daily_mean\", \"usgs_observations\", \"m^3/s\", \"usgs-14182500\"),\n",
    "    ],\n",
    "    schema\n",
    ")\n",
    "df.show()"
   ]
  },
  {
   "cell_type": "code",
   "execution_count": 13,
   "id": "5b68c105",
   "metadata": {},
   "outputs": [],
   "source": [
    "def merge_into(\n",
    "        spark: SparkSession,\n",
    "        ev: teehr.Evaluation,\n",
    "        df: DataFrame\n",
    "):\n",
    "    # This could come from self\n",
    "    pt = ev.primary_timeseries\n",
    "\n",
    "    # Create a temporary view for the source DataFrame\n",
    "    df.createOrReplaceTempView(\"source\")\n",
    "\n",
    "    # Define the join condition for the MERGE operation\n",
    "    # Join-on String with null-safe equality\n",
    "    join_on_string = \" AND \".join([\n",
    "        f\"t.{field} <=> s.{field}\" for field in pt.unique_column_set\n",
    "    ])\n",
    "\n",
    "    # Update any fields that are not part of the unique key\n",
    "    update_set = list(set(df.columns) - set(pt.unique_column_set))\n",
    "    update_set_string = \", \".join([\n",
    "        f\"t.{field} = s.{field}\" for field in update_set\n",
    "    ])\n",
    "\n",
    "    fields_string = \", \".join([f\"{field}\" for field in df.columns])\n",
    "\n",
    "    # on_string\n",
    "    spark.sql(f\"\"\"\n",
    "        MERGE INTO local.db.primary_timeseries t\n",
    "        USING (SELECT * FROM source) s\n",
    "        ON {join_on_string}\n",
    "        WHEN MATCHED THEN UPDATE SET {update_set_string}\n",
    "        WHEN NOT MATCHED THEN\n",
    "        INSERT ({fields_string}) VALUES ({fields_string})\n",
    "    \"\"\")"
   ]
  },
  {
   "cell_type": "code",
   "execution_count": 14,
   "id": "b961432c",
   "metadata": {},
   "outputs": [
    {
     "name": "stderr",
     "output_type": "stream",
     "text": [
      "                                                                                \r"
     ]
    }
   ],
   "source": [
    "# Merge the DataFrame into the primary_timeseries table\n",
    "merge_into(spark=sedona, ev=ev, df=df)"
   ]
  },
  {
   "cell_type": "code",
   "execution_count": 15,
   "id": "d6669087",
   "metadata": {},
   "outputs": [
    {
     "name": "stdout",
     "output_type": "stream",
     "text": [
      "+--------------+-------------------+------------------+---------+--------------------+---------+-------------+\n",
      "|reference_time|         value_time|configuration_name|unit_name|       variable_name|    value|  location_id|\n",
      "+--------------+-------------------+------------------+---------+--------------------+---------+-------------+\n",
      "|          NULL|1989-01-01 00:00:00| usgs_observations|    m^3/s|streamflow_daily_...|24.823256|usgs-14182500|\n",
      "|          NULL|1989-01-01 05:00:00| usgs_observations|    m^3/s|streamflow_daily_...|    24.82|usgs-14182500|\n",
      "|          NULL|1989-01-02 00:00:00| usgs_observations|    m^3/s|streamflow_daily_...|21.668287|usgs-14182500|\n",
      "|          NULL|1989-01-02 05:00:00| usgs_observations|    m^3/s|streamflow_daily_...|    21.67|usgs-14182500|\n",
      "|          NULL|1989-01-03 00:00:00| usgs_observations|    m^3/s|streamflow_daily_...|31.285395|usgs-14182500|\n",
      "|          NULL|1989-01-04 00:00:00| usgs_observations|    m^3/s|streamflow_daily_...|38.038963|usgs-14182500|\n",
      "|          NULL|1989-01-05 00:00:00| usgs_observations|    m^3/s|streamflow_daily_...| 37.80299|usgs-14182500|\n",
      "|          NULL|1989-01-06 00:00:00| usgs_observations|    m^3/s|streamflow_daily_...|29.954504|usgs-14182500|\n",
      "|          NULL|1989-01-07 00:00:00| usgs_observations|    m^3/s|streamflow_daily_...|23.809748|usgs-14182500|\n",
      "|          NULL|1989-01-08 00:00:00| usgs_observations|    m^3/s|streamflow_daily_...|20.220589|usgs-14182500|\n",
      "+--------------+-------------------+------------------+---------+--------------------+---------+-------------+\n",
      "\n"
     ]
    }
   ],
   "source": [
    "# Query\n",
    "sedona.sql(f\"\"\"\n",
    "    SELECT * FROM local.db.primary_timeseries\n",
    "    WHERE location_id == 'usgs-14182500'\n",
    "    ORDER BY value_time ASC\n",
    "    LIMIT 10\n",
    "\"\"\").show()"
   ]
  },
  {
   "cell_type": "code",
   "execution_count": 24,
   "id": "b94f4a5b",
   "metadata": {},
   "outputs": [
    {
     "name": "stdout",
     "output_type": "stream",
     "text": [
      "+--------------------+-------------------+-------------------+---------+--------------------+--------------------+\n",
      "|        committed_at|        snapshot_id|          parent_id|operation|       manifest_list|             summary|\n",
      "+--------------------+-------------------+-------------------+---------+--------------------+--------------------+\n",
      "|2025-06-04 01:56:...| 539526172352411418|               NULL|   append|/Users/mdenno/tem...|{spark.app.id -> ...|\n",
      "|2025-06-04 18:59:...|6640338625955216425| 539526172352411418|   append|/Users/mdenno/tem...|{spark.app.id -> ...|\n",
      "|2025-06-04 19:01:...|2368637203356834011| 539526172352411418|overwrite|/Users/mdenno/tem...|{spark.app.id -> ...|\n",
      "|2025-06-04 19:01:...|1024535650660937797|2368637203356834011|overwrite|/Users/mdenno/tem...|{spark.app.id -> ...|\n",
      "+--------------------+-------------------+-------------------+---------+--------------------+--------------------+\n",
      "\n"
     ]
    }
   ],
   "source": [
    "# Oops added values with the wrong timezone, let's fix that. Lets see available snapshots\n",
    "sedona.sql(f\"\"\"\n",
    "    SELECT * FROM local.db.primary_timeseries.snapshots;\n",
    "\"\"\").show()"
   ]
  },
  {
   "cell_type": "code",
   "execution_count": 17,
   "id": "75321e3f",
   "metadata": {},
   "outputs": [
    {
     "data": {
      "text/plain": [
       "DataFrame[previous_snapshot_id: bigint, current_snapshot_id: bigint]"
      ]
     },
     "execution_count": 17,
     "metadata": {},
     "output_type": "execute_result"
    }
   ],
   "source": [
    "# Roll back to initial append\n",
    "sedona.sql(f\"\"\"\n",
    "    CALL {catalog_name}.system.rollback_to_snapshot('db.primary_timeseries', 539526172352411418)\n",
    "\"\"\")"
   ]
  },
  {
   "cell_type": "code",
   "execution_count": 18,
   "id": "78ae433d",
   "metadata": {},
   "outputs": [
    {
     "name": "stdout",
     "output_type": "stream",
     "text": [
      "+--------------+-------------------+------------------+---------+--------------------+---------+-------------+\n",
      "|reference_time|         value_time|configuration_name|unit_name|       variable_name|    value|  location_id|\n",
      "+--------------+-------------------+------------------+---------+--------------------+---------+-------------+\n",
      "|          NULL|1989-01-01 00:00:00| usgs_observations|    m^3/s|streamflow_daily_...|24.823256|usgs-14182500|\n",
      "|          NULL|1989-01-02 00:00:00| usgs_observations|    m^3/s|streamflow_daily_...|21.668287|usgs-14182500|\n",
      "|          NULL|1989-01-03 00:00:00| usgs_observations|    m^3/s|streamflow_daily_...|31.285395|usgs-14182500|\n",
      "|          NULL|1989-01-04 00:00:00| usgs_observations|    m^3/s|streamflow_daily_...|38.038963|usgs-14182500|\n",
      "|          NULL|1989-01-05 00:00:00| usgs_observations|    m^3/s|streamflow_daily_...| 37.80299|usgs-14182500|\n",
      "|          NULL|1989-01-06 00:00:00| usgs_observations|    m^3/s|streamflow_daily_...|29.954504|usgs-14182500|\n",
      "|          NULL|1989-01-07 00:00:00| usgs_observations|    m^3/s|streamflow_daily_...|23.809748|usgs-14182500|\n",
      "|          NULL|1989-01-08 00:00:00| usgs_observations|    m^3/s|streamflow_daily_...|20.220589|usgs-14182500|\n",
      "|          NULL|1989-01-09 00:00:00| usgs_observations|    m^3/s|streamflow_daily_...| 65.61013|usgs-14182500|\n",
      "|          NULL|1989-01-10 00:00:00| usgs_observations|    m^3/s|streamflow_daily_...|248.55112|usgs-14182500|\n",
      "+--------------+-------------------+------------------+---------+--------------------+---------+-------------+\n",
      "\n"
     ]
    }
   ],
   "source": [
    "# Verify rollback\n",
    "sedona.sql(f\"\"\"\n",
    "    SELECT * FROM local.db.primary_timeseries\n",
    "    WHERE location_id == 'usgs-14182500'\n",
    "    ORDER BY value_time ASC\n",
    "    LIMIT 10\n",
    "\"\"\").show()"
   ]
  },
  {
   "cell_type": "code",
   "execution_count": 19,
   "id": "975821f5",
   "metadata": {},
   "outputs": [
    {
     "name": "stdout",
     "output_type": "stream",
     "text": [
      "+--------------+-------------------+-----+--------------------+------------------+---------+-------------+\n",
      "|reference_time|         value_time|value|       variable_name|configuration_name|unit_name|  location_id|\n",
      "+--------------+-------------------+-----+--------------------+------------------+---------+-------------+\n",
      "|          NULL|1989-01-01 00:00:00|24.82|streamflow_daily_...| usgs_observations|    m^3/s|usgs-14182500|\n",
      "|          NULL|1989-01-02 00:00:00|21.67|streamflow_daily_...| usgs_observations|    m^3/s|usgs-14182500|\n",
      "+--------------+-------------------+-----+--------------------+------------------+---------+-------------+\n",
      "\n"
     ]
    }
   ],
   "source": [
    "# Create new data with TZ set\n",
    "df = sedona.createDataFrame(\n",
    "    [\n",
    "        (None, datetime(1989, 1, 1, 0, 0, tzinfo=pytz.UTC), 24.82, \"streamflow_daily_mean\", \"usgs_observations\", \"m^3/s\", \"usgs-14182500\"),\n",
    "        (None, datetime(1989, 1, 2, 0, 0, tzinfo=pytz.UTC), 21.67, \"streamflow_daily_mean\", \"usgs_observations\", \"m^3/s\", \"usgs-14182500\"),\n",
    "    ],\n",
    "    schema\n",
    ")\n",
    "df.show()"
   ]
  },
  {
   "cell_type": "code",
   "execution_count": 20,
   "id": "ded41f9f",
   "metadata": {},
   "outputs": [
    {
     "name": "stderr",
     "output_type": "stream",
     "text": [
      "                                                                                \r"
     ]
    }
   ],
   "source": [
    "# Try to merge again\n",
    "# Merge the DataFrame into the primary_timeseries table\n",
    "merge_into(spark=sedona, ev=ev, df=df)"
   ]
  },
  {
   "cell_type": "code",
   "execution_count": 21,
   "id": "650c8233",
   "metadata": {},
   "outputs": [
    {
     "name": "stdout",
     "output_type": "stream",
     "text": [
      "+--------------+-------------------+------------------+---------+--------------------+---------+-------------+\n",
      "|reference_time|         value_time|configuration_name|unit_name|       variable_name|    value|  location_id|\n",
      "+--------------+-------------------+------------------+---------+--------------------+---------+-------------+\n",
      "|          NULL|1989-01-01 00:00:00| usgs_observations|    m^3/s|streamflow_daily_...|    24.82|usgs-14182500|\n",
      "|          NULL|1989-01-02 00:00:00| usgs_observations|    m^3/s|streamflow_daily_...|    21.67|usgs-14182500|\n",
      "|          NULL|1989-01-03 00:00:00| usgs_observations|    m^3/s|streamflow_daily_...|31.285395|usgs-14182500|\n",
      "|          NULL|1989-01-04 00:00:00| usgs_observations|    m^3/s|streamflow_daily_...|38.038963|usgs-14182500|\n",
      "|          NULL|1989-01-05 00:00:00| usgs_observations|    m^3/s|streamflow_daily_...| 37.80299|usgs-14182500|\n",
      "|          NULL|1989-01-06 00:00:00| usgs_observations|    m^3/s|streamflow_daily_...|29.954504|usgs-14182500|\n",
      "|          NULL|1989-01-07 00:00:00| usgs_observations|    m^3/s|streamflow_daily_...|23.809748|usgs-14182500|\n",
      "|          NULL|1989-01-08 00:00:00| usgs_observations|    m^3/s|streamflow_daily_...|20.220589|usgs-14182500|\n",
      "|          NULL|1989-01-09 00:00:00| usgs_observations|    m^3/s|streamflow_daily_...| 65.61013|usgs-14182500|\n",
      "|          NULL|1989-01-10 00:00:00| usgs_observations|    m^3/s|streamflow_daily_...|248.55112|usgs-14182500|\n",
      "+--------------+-------------------+------------------+---------+--------------------+---------+-------------+\n",
      "\n"
     ]
    }
   ],
   "source": [
    "# Query again\n",
    "sedona.sql(f\"\"\"\n",
    "    SELECT * FROM local.db.primary_timeseries\n",
    "    WHERE location_id == 'usgs-14182500'\n",
    "    ORDER BY value_time ASC\n",
    "    LIMIT 10\n",
    "\"\"\").show()"
   ]
  },
  {
   "cell_type": "code",
   "execution_count": 22,
   "id": "8f648151",
   "metadata": {},
   "outputs": [
    {
     "name": "stdout",
     "output_type": "stream",
     "text": [
      "+--------------+-------------------+-----+--------------------+------------------+---------+-------------+\n",
      "|reference_time|         value_time|value|       variable_name|configuration_name|unit_name|  location_id|\n",
      "+--------------+-------------------+-----+--------------------+------------------+---------+-------------+\n",
      "|          NULL|1988-12-30 00:00:00| 12.3|streamflow_daily_...| usgs_observations|    m^3/s|usgs-14182500|\n",
      "|          NULL|1988-12-31 00:00:00|12.31|streamflow_daily_...| usgs_observations|    m^3/s|usgs-14182500|\n",
      "|          NULL|1989-01-01 00:00:00| 19.0|streamflow_daily_...| usgs_observations|    m^3/s|usgs-14182500|\n",
      "+--------------+-------------------+-----+--------------------+------------------+---------+-------------+\n",
      "\n"
     ]
    }
   ],
   "source": [
    "# Create new data with TZ set\n",
    "df = sedona.createDataFrame(\n",
    "    [\n",
    "        (None, datetime(1988, 12, 30, 0, 0, tzinfo=pytz.UTC), 12.30, \"streamflow_daily_mean\", \"usgs_observations\", \"m^3/s\", \"usgs-14182500\"),\n",
    "        (None, datetime(1988, 12, 31, 0, 0, tzinfo=pytz.UTC), 12.31, \"streamflow_daily_mean\", \"usgs_observations\", \"m^3/s\", \"usgs-14182500\"),\n",
    "        (None, datetime(1989, 1, 1, 0, 0, tzinfo=pytz.UTC), 19.00, \"streamflow_daily_mean\", \"usgs_observations\", \"m^3/s\", \"usgs-14182500\"),\n",
    "    ],\n",
    "    schema\n",
    ")\n",
    "df.show()"
   ]
  },
  {
   "cell_type": "code",
   "execution_count": 23,
   "id": "1b84d36c",
   "metadata": {},
   "outputs": [
    {
     "name": "stderr",
     "output_type": "stream",
     "text": [
      "                                                                                \r"
     ]
    },
    {
     "name": "stdout",
     "output_type": "stream",
     "text": [
      "+--------------+-------------------+------------------+---------+--------------------+---------+-------------+\n",
      "|reference_time|         value_time|configuration_name|unit_name|       variable_name|    value|  location_id|\n",
      "+--------------+-------------------+------------------+---------+--------------------+---------+-------------+\n",
      "|          NULL|1988-12-30 00:00:00| usgs_observations|    m^3/s|streamflow_daily_...|     12.3|usgs-14182500|\n",
      "|          NULL|1988-12-31 00:00:00| usgs_observations|    m^3/s|streamflow_daily_...|    12.31|usgs-14182500|\n",
      "|          NULL|1989-01-01 00:00:00| usgs_observations|    m^3/s|streamflow_daily_...|     19.0|usgs-14182500|\n",
      "|          NULL|1989-01-02 00:00:00| usgs_observations|    m^3/s|streamflow_daily_...|    21.67|usgs-14182500|\n",
      "|          NULL|1989-01-03 00:00:00| usgs_observations|    m^3/s|streamflow_daily_...|31.285395|usgs-14182500|\n",
      "|          NULL|1989-01-04 00:00:00| usgs_observations|    m^3/s|streamflow_daily_...|38.038963|usgs-14182500|\n",
      "|          NULL|1989-01-05 00:00:00| usgs_observations|    m^3/s|streamflow_daily_...| 37.80299|usgs-14182500|\n",
      "|          NULL|1989-01-06 00:00:00| usgs_observations|    m^3/s|streamflow_daily_...|29.954504|usgs-14182500|\n",
      "|          NULL|1989-01-07 00:00:00| usgs_observations|    m^3/s|streamflow_daily_...|23.809748|usgs-14182500|\n",
      "|          NULL|1989-01-08 00:00:00| usgs_observations|    m^3/s|streamflow_daily_...|20.220589|usgs-14182500|\n",
      "+--------------+-------------------+------------------+---------+--------------------+---------+-------------+\n",
      "\n"
     ]
    }
   ],
   "source": [
    "merge_into(spark=sedona, ev=ev, df=df)\n",
    "# Verify the merge\n",
    "sedona.sql(\"\"\"\n",
    "    SELECT * FROM local.db.primary_timeseries\n",
    "    WHERE location_id == 'usgs-14182500'\n",
    "    ORDER BY value_time ASC\n",
    "    LIMIT 10\n",
    "\"\"\").show()"
   ]
  },
  {
   "cell_type": "code",
   "execution_count": 1,
   "id": "f3470218",
   "metadata": {},
   "outputs": [
    {
     "ename": "NameError",
     "evalue": "name 'sedona' is not defined",
     "output_type": "error",
     "traceback": [
      "\u001b[0;31m---------------------------------------------------------------------------\u001b[0m",
      "\u001b[0;31mNameError\u001b[0m                                 Traceback (most recent call last)",
      "Cell \u001b[0;32mIn[1], line 1\u001b[0m\n\u001b[0;32m----> 1\u001b[0m \u001b[43msedona\u001b[49m\u001b[38;5;241m.\u001b[39mstop()\n",
      "\u001b[0;31mNameError\u001b[0m: name 'sedona' is not defined"
     ]
    }
   ],
   "source": [
    "sedona.stop()"
   ]
  },
  {
   "cell_type": "markdown",
   "id": "5fc543c2",
   "metadata": {},
   "source": [
    "- Create joined timeseries needs some filters so that we can incrementally create the joined timeseries.  \n",
    "- Joined timeseries should maybe only contain the joined ts.  That join process does not parallelize well.  Other joins do."
   ]
  },
  {
   "cell_type": "code",
   "execution_count": null,
   "id": "d143b5bd",
   "metadata": {},
   "outputs": [],
   "source": []
  }
 ],
 "metadata": {
  "kernelspec": {
   "display_name": ".venv",
   "language": "python",
   "name": "python3"
  },
  "language_info": {
   "codemirror_mode": {
    "name": "ipython",
    "version": 3
   },
   "file_extension": ".py",
   "mimetype": "text/x-python",
   "name": "python",
   "nbconvert_exporter": "python",
   "pygments_lexer": "ipython3",
   "version": "3.10.15"
  }
 },
 "nbformat": 4,
 "nbformat_minor": 5
}
