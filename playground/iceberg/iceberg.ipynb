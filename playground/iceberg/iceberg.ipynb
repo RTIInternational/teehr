{
 "cells": [
  {
   "cell_type": "code",
   "execution_count": null,
   "id": "0d17b816",
   "metadata": {},
   "outputs": [],
   "source": [
    "import pyspark\n",
    "\n",
    "from pyspark.sql import SparkSession\n",
    "from pyspark import SparkConf\n",
    "\n",
    "from pathlib import Path"
   ]
  },
  {
   "cell_type": "code",
   "execution_count": null,
   "id": "5f7853c8",
   "metadata": {},
   "outputs": [],
   "source": [
    "warehouse = str(Path.home() / \"temp\" / \"iceberg\" / \"spark-warehouse\" / \"local\")"
   ]
  },
  {
   "cell_type": "code",
   "execution_count": null,
   "id": "c98a5020",
   "metadata": {},
   "outputs": [],
   "source": [
    "conf = (\n",
    "    SparkConf()\n",
    "    .setAppName(\"TEEHR\")\n",
    "    .setMaster(\"local[*]\")\n",
    "    .set(\"spark.sql.sources.partitionOverwriteMode\", \"dynamic\")\n",
    "    .set(\"spark.hadoop.fs.s3a.impl\", \"org.apache.hadoop.fs.s3a.S3AFileSystem\")\n",
    "    .set(\"spark.hadoop.fs.s3a.aws.credentials.provider\", \"org.apache.hadoop.fs.s3a.AnonymousAWSCredentialsProvider\")\n",
    "    .set(\"spark.sql.execution.arrow.pyspark.enabled\", \"true\")\n",
    "    .set(\"spark.sql.session.timeZone\", \"UTC\")\n",
    "\n",
    "    .set(\"spark.sql.package\", \"org.apache.iceberg:iceberg-spark-runtime-3.5_2.12:1.9.0\")\n",
    "    .set(\"spark.sql.extensions\", \"org.apache.iceberg.spark.extensions.IcebergSparkSessionExtensions\")\n",
    "    # .set(\"spark.sql.catalog.spark_catalog\", \"org.apache.iceberg.spark.SparkSessionCatalog\")\n",
    "    # .set(\"spark.sql.catalog.spark_catalog.type\", \"hive\")\n",
    "\n",
    "    .set(\"spark.sql.catalog.local\", \"org.apache.iceberg.spark.SparkCatalog\")\n",
    "    .set(\"spark.sql.catalog.local.type\", \"hadoop\")\n",
    "    .set(\"spark.sql.catalog.local.warehouse\", warehouse)\n",
    "\n",
    "    .set(\"spark.driver.host\", \"localhost\")\n",
    ")\n",
    "spark = SparkSession.builder.config(conf=conf).getOrCreate()"
   ]
  },
  {
   "cell_type": "code",
   "execution_count": null,
   "id": "e5dfb730",
   "metadata": {},
   "outputs": [],
   "source": [
    "spark.sql(\"SELECT * FROM local.db.locations;\")"
   ]
  },
  {
   "cell_type": "code",
   "execution_count": null,
   "id": "b280ce0d",
   "metadata": {},
   "outputs": [],
   "source": [
    "spark.sql(\"DESCRIBE EXTENDED local.db.locations\").show(truncate=False)\n"
   ]
  },
  {
   "cell_type": "code",
   "execution_count": null,
   "id": "e4da4c36",
   "metadata": {},
   "outputs": [],
   "source": [
    "spark.sql(\"CREATE TABLE local.table (id bigint, data string) USING iceberg;\")"
   ]
  },
  {
   "cell_type": "code",
   "execution_count": null,
   "id": "41ad5f0c",
   "metadata": {},
   "outputs": [],
   "source": [
    "spark.sql(\"INSERT INTO local.db.table VALUES (1, 'a'), (2, 'b'), (3, 'c')\")"
   ]
  },
  {
   "cell_type": "code",
   "execution_count": null,
   "id": "57227cfd",
   "metadata": {},
   "outputs": [],
   "source": [
    "spark.sql(\"SELECT * FROM local.db.table\").show()"
   ]
  },
  {
   "cell_type": "code",
   "execution_count": null,
   "id": "ef556380",
   "metadata": {},
   "outputs": [],
   "source": [
    "df = spark.table(\"local.table\")\n",
    "df.count()"
   ]
  },
  {
   "cell_type": "code",
   "execution_count": null,
   "id": "f0921417",
   "metadata": {},
   "outputs": [],
   "source": [
    "spark.sql(\"SELECT * FROM local.db.table.snapshots;\").show()"
   ]
  },
  {
   "cell_type": "code",
   "execution_count": null,
   "id": "195221de",
   "metadata": {},
   "outputs": [],
   "source": [
    "spark.sql(\"DROP TABLE local.db.primary_timeseries;\")\n",
    "spark.sql(\"\"\"\n",
    "    CREATE TABLE local.db.primary_timeseries (\n",
    "        reference_time timestamp,\n",
    "        value_time timestamp,\n",
    "        configuration_name string,\n",
    "        unit_name string,\n",
    "        variable_name string,\n",
    "        value float,\n",
    "        location_id string\n",
    "    ) USING iceberg PARTITIONED BY (configuration_name, variable_name, reference_time);\n",
    "\"\"\")"
   ]
  },
  {
   "cell_type": "code",
   "execution_count": null,
   "id": "05f5d71d",
   "metadata": {},
   "outputs": [],
   "source": [
    "spark.read.format(\"parquet\").load(\"/Users/mdenno/repos/teehr/tests/data/two_locations/two_locations.parquet\").show()"
   ]
  },
  {
   "cell_type": "code",
   "execution_count": null,
   "id": "7d9b466f",
   "metadata": {},
   "outputs": [],
   "source": [
    "# spark.sql(\"DROP TABLE local.db.location;\")\n",
    "spark.sql(\"\"\"\n",
    "    CREATE TABLE local.db.location (\n",
    "        id string,\n",
    "        name string,\n",
    "        geom binary\n",
    "    ) USING iceberg;\n",
    "\"\"\")"
   ]
  },
  {
   "cell_type": "code",
   "execution_count": null,
   "id": "d185a99e",
   "metadata": {},
   "outputs": [],
   "source": [
    "spark.stop()"
   ]
  },
  {
   "cell_type": "code",
   "execution_count": null,
   "id": "571ce54b",
   "metadata": {},
   "outputs": [],
   "source": []
  }
 ],
 "metadata": {
  "kernelspec": {
   "display_name": ".venv",
   "language": "python",
   "name": "python3"
  },
  "language_info": {
   "codemirror_mode": {
    "name": "ipython",
    "version": 3
   },
   "file_extension": ".py",
   "mimetype": "text/x-python",
   "name": "python",
   "nbconvert_exporter": "python",
   "pygments_lexer": "ipython3",
   "version": "3.10.15"
  }
 },
 "nbformat": 4,
 "nbformat_minor": 5
}
