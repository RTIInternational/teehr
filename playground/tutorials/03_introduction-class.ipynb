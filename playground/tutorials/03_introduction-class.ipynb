{
 "cells": [
  {
   "cell_type": "markdown",
   "metadata": {},
   "source": [
    "# 03 Introduction\n",
    "In this notebook we will explore the Evaluation schema through the Evaluation class interface."
   ]
  },
  {
   "cell_type": "code",
   "execution_count": null,
   "metadata": {},
   "outputs": [],
   "source": [
    "from teehr import Evaluation\n",
    "from pathlib import Path\n",
    "\n",
    "# Define the directory where the Evaluation will be created\n",
    "test_eval_dir = Path(Path().home(), \"temp\", \"03_introduction\")\n",
    "\n",
    "# Create an Evaluation object and create the directory\n",
    "ev = Evaluation(dir_path=test_eval_dir, create_dir=True)\n",
    "\n",
    "# Enable logging\n",
    "ev.enable_logging()\n",
    "\n",
    "# Clone the template\n",
    "ev.clone_template()"
   ]
  },
  {
   "cell_type": "code",
   "execution_count": null,
   "metadata": {},
   "outputs": [],
   "source": []
  }
 ],
 "metadata": {
  "kernelspec": {
   "display_name": ".venv",
   "language": "python",
   "name": "python3"
  },
  "language_info": {
   "name": "python",
   "version": "3.10.15"
  }
 },
 "nbformat": 4,
 "nbformat_minor": 2
}
