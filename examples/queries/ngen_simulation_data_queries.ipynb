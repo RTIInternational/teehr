{
 "cells": [
  {
   "cell_type": "markdown",
   "metadata": {},
   "source": [
    "# NGEN Simulation Data Query Examples\n",
    "This notebook provides examples of querying and visualizing some NGEN data that has been transformed and stored in the TEEHR format.\n",
    "\n",
    "There are only a few USGS gages in the study area, so you may wish to explore the forcing inputs and catchment ouptuts too."
   ]
  },
  {
   "cell_type": "code",
   "execution_count": null,
   "metadata": {},
   "outputs": [],
   "source": [
    "%%capture\n",
    "!pip install duckdb"
   ]
  },
  {
   "cell_type": "code",
   "execution_count": null,
   "metadata": {},
   "outputs": [],
   "source": [
    "# Need to install TEEHR to avoid this\n",
    "import sys\n",
    "sys.path.insert(0, \"../../src\")"
   ]
  },
  {
   "cell_type": "code",
   "execution_count": null,
   "metadata": {},
   "outputs": [],
   "source": [
    "# Import the required packages.\n",
    "import holoviews as hv\n",
    "import geoviews as gv\n",
    "from pathlib import Path\n",
    "import hvplot.pandas\n",
    "import cartopy.crs as ccrs\n",
    "from holoviews import opts\n",
    "import duckdb\n",
    "import geopandas as gpd\n",
    "\n",
    "import teehr.queries.duckdb as tqd"
   ]
  },
  {
   "cell_type": "code",
   "execution_count": null,
   "metadata": {},
   "outputs": [],
   "source": [
    "# Set some notebook variables to point to the relevant study files.\n",
    "# Set some configurations\n",
    "STUDY_DIR = \"/home/jovyan/shared-readwrite/rti-eval/awi_16_680661_001/\"\n",
    "STUDY_TS_DIR = Path(STUDY_DIR, \"timeseries\")\n",
    "STUDY_GEO_DIR = Path(STUDY_DIR, \"geo\")\n",
    "\n",
    "PRIMARY_FILEPATH = Path(STUDY_TS_DIR, \"usgs.parquet\")\n",
    "SECONDARY_FILEPATH = Path(STUDY_TS_DIR, \"nexus_simulation.parquet\")\n",
    "\n",
    "CROSSWALK_FILEPATH = Path(STUDY_GEO_DIR, \"usgs_nex_crosswalk.parquet\")\n",
    "GEOMETRY_FILEPATH = Path(STUDY_GEO_DIR, \"usgs_awi_16_680661_001_geometry.parquet\")\n",
    "\n",
    "CATCHMENT_FILEPATH = Path(STUDY_GEO_DIR, \"cat_geometry.parquet\")\n",
    "NEXUS_FILEPATH = Path(STUDY_GEO_DIR, \"nex_geometry.parquet\")"
   ]
  },
  {
   "cell_type": "code",
   "execution_count": null,
   "metadata": {},
   "outputs": [],
   "source": [
    "print(duckdb.query(f\"SELECT * from parquet_schema('{PRIMARY_FILEPATH}');\"))\n",
    "print(duckdb.query(f\"SELECT * from parquet_schema('{SECONDARY_FILEPATH}');\"))\n",
    "print(duckdb.query(f\"SELECT * from parquet_schema('{CROSSWALK_FILEPATH}');\"))\n",
    "print(duckdb.query(f\"SELECT * from parquet_schema('{GEOMETRY_FILEPATH}');\"))"
   ]
  },
  {
   "cell_type": "code",
   "execution_count": null,
   "metadata": {},
   "outputs": [],
   "source": [
    "print(duckdb.query(f\"SELECT * from read_parquet('{PRIMARY_FILEPATH}') LIMIT 1;\"))\n",
    "print(duckdb.query(f\"SELECT * from read_parquet('{SECONDARY_FILEPATH}') LIMIT 1;\"))\n",
    "print(duckdb.query(f\"SELECT * from read_parquet('{CROSSWALK_FILEPATH}') LIMIT 1;\"))\n",
    "print(duckdb.query(f\"SELECT * from read_parquet('{GEOMETRY_FILEPATH}') LIMIT 1;\"))"
   ]
  },
  {
   "cell_type": "code",
   "execution_count": null,
   "metadata": {},
   "outputs": [],
   "source": [
    "%%time\n",
    "# Query the specified study files with a simple group_by `primary_location_id`.\n",
    "# Include geometry in the response.\n",
    "\n",
    "# No USGS gages data for metrics\n",
    "query_gdf = tqd.get_metrics(\n",
    "        primary_filepath=PRIMARY_FILEPATH,\n",
    "        secondary_filepath=SECONDARY_FILEPATH,\n",
    "        crosswalk_filepath=CROSSWALK_FILEPATH,\n",
    "        geometry_filepath=GEOMETRY_FILEPATH,\n",
    "        group_by=[\"primary_location_id\"],\n",
    "        order_by=[\"primary_location_id\"],\n",
    "        return_query=False,\n",
    "        include_geometry=True,\n",
    ")"
   ]
  },
  {
   "cell_type": "code",
   "execution_count": null,
   "metadata": {},
   "outputs": [],
   "source": [
    "query_gdf"
   ]
  },
  {
   "cell_type": "code",
   "execution_count": null,
   "metadata": {},
   "outputs": [],
   "source": [
    "%%time\n",
    "query_gdf_prj = query_gdf.to_crs(\"EPSG:3857\")"
   ]
  },
  {
   "cell_type": "code",
   "execution_count": null,
   "metadata": {},
   "outputs": [],
   "source": [
    "catchments_gdf = catchments = gpd.read_parquet(CATCHMENT_FILEPATH).to_crs(\"EPSG:3857\")\n",
    "catchments = catchments_gdf.hvplot(color=\"lightblue\")"
   ]
  },
  {
   "cell_type": "code",
   "execution_count": null,
   "metadata": {},
   "outputs": [],
   "source": [
    "nexus_gdf = gpd.read_parquet(NEXUS_FILEPATH).to_crs(\"EPSG:3857\")\n",
    "nexus = nexus_gdf.hvplot(color=\"grey\", size=20)"
   ]
  },
  {
   "cell_type": "code",
   "execution_count": null,
   "metadata": {},
   "outputs": [],
   "source": [
    "%%time\n",
    "tiles = gv.tile_sources.OSM\n",
    "query_hvplot = query_gdf_prj.hvplot(\n",
    "    # color=\"red\",\n",
    "    crs=ccrs.GOOGLE_MERCATOR,\n",
    "    hover_cols=[\"primary_location_id\", \"bias\"],\n",
    "    c=\"bias\",\n",
    "    size=100\n",
    ")\n",
    "(tiles * catchments * nexus * query_hvplot).opts(width=600, height=600, show_legend=False)"
   ]
  },
  {
   "cell_type": "code",
   "execution_count": null,
   "metadata": {},
   "outputs": [],
   "source": [
    "%%time\n",
    "query_df = tqd.get_joined_timeseries(\n",
    "        primary_filepath=PRIMARY_FILEPATH,\n",
    "        secondary_filepath=SECONDARY_FILEPATH,\n",
    "        crosswalk_filepath=CROSSWALK_FILEPATH,\n",
    "        geometry_filepath=GEOMETRY_FILEPATH,\n",
    "        order_by=[\"primary_location_id\"],\n",
    "        filters=[{\n",
    "            \"column\": \"primary_location_id\",\n",
    "            \"operator\": \"=\",\n",
    "            \"value\": \"usgs-02450180\"\n",
    "\n",
    "        }],\n",
    "        return_query=False,\n",
    ")"
   ]
  },
  {
   "cell_type": "code",
   "execution_count": null,
   "metadata": {},
   "outputs": [],
   "source": [
    "query_df"
   ]
  },
  {
   "cell_type": "code",
   "execution_count": null,
   "metadata": {},
   "outputs": [],
   "source": [
    "obs = query_df.hvplot(\"value_time\", \"primary_value\", color=\"blue\")\n",
    "sim = query_df.hvplot(\"value_time\", \"secondary_value\", color=\"red\")\n",
    "obs * sim"
   ]
  },
  {
   "cell_type": "code",
   "execution_count": null,
   "metadata": {},
   "outputs": [],
   "source": []
  }
 ],
 "metadata": {
  "kernelspec": {
   "display_name": "Python 3 (ipykernel)",
   "language": "python",
   "name": "python3"
  },
  "language_info": {
   "codemirror_mode": {
    "name": "ipython",
    "version": 3
   },
   "file_extension": ".py",
   "mimetype": "text/x-python",
   "name": "python",
   "nbconvert_exporter": "python",
   "pygments_lexer": "ipython3",
   "version": "3.10.8"
  }
 },
 "nbformat": 4,
 "nbformat_minor": 4
}
