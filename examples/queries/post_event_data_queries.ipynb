{
 "cells": [
  {
   "cell_type": "markdown",
   "metadata": {},
   "source": [
    "# Run Queries Against Post-Event Dataset\n",
    "In this notebook we will run the queries against the post event datasets which are CONUS HUC10 mean areal precipitation that spans 2022-12-18 to 2023-01-18."
   ]
  },
  {
   "cell_type": "code",
   "execution_count": null,
   "metadata": {},
   "outputs": [],
   "source": [
    "# Import the required packages.\n",
    "\n",
    "# Need to install TEEHR to avoid this\n",
    "import sys\n",
    "sys.path.insert(0, \"../../src\")\n",
    "\n",
    "import holoviews as hv\n",
    "import geoviews as gv\n",
    "import teehr.queries.duckdb as tqd\n",
    "import hvplot.pandas\n",
    "import cartopy.crs as ccrs\n",
    "from holoviews import opts"
   ]
  },
  {
   "cell_type": "markdown",
   "metadata": {},
   "source": [
    "## First - MAPs"
   ]
  },
  {
   "cell_type": "code",
   "execution_count": null,
   "metadata": {},
   "outputs": [],
   "source": [
    "# Set some notebook variables to point to the relevant study files.\n",
    "FORCING_ANALYSIS_ASSIM = \"/home/jovyan/shared/rti-eval/post-event-example/timeseries/forcing_analysis_assim/*.parquet\"\n",
    "FORCING_MEDIUM_RANGE = \"/home/jovyan/shared/rti-eval/post-event-example/timeseries/forcing_medium_range/*.parquet\"\n",
    "CATCHMENT_XWALK = \"/home/jovyan/shared/rti-eval/post-event-example/geo/huc10_huc10_crosswalk.parquet\"\n",
    "CATCHMENT_GEOMETRY = \"/home/jovyan/shared/rti-eval/post-event-example/geo/huc10_geometry.parquet\""
   ]
  },
  {
   "cell_type": "code",
   "execution_count": null,
   "metadata": {},
   "outputs": [],
   "source": [
    "%%time\n",
    "# Query the specified study files with a simple group_by `primary_location_id`.\n",
    "# Include geometry in the response.\n",
    "\n",
    "query_gdf = tqd.get_metrics(\n",
    "        primary_filepath=PRIMARY_FILEPATH,\n",
    "        secondary_filepath=SECONDARY_FILEPATH,\n",
    "        crosswalk_filepath=CROSSWALK_FILEPATH,\n",
    "        # geometry_filepath=GEOMETRY_FILEPATH,\n",
    "        group_by=[\"primary_location_id\", \"reference_time\"],\n",
    "        order_by=[\"primary_location_id\", \"reference_time\"],\n",
    "        filters=[\n",
    "            {\n",
    "                \"column\": \"primary_location_id\",\n",
    "                \"operator\": \"like\",\n",
    "                \"value\": \"huc10-1810020416\"\n",
    "            },\n",
    "            {\n",
    "                \"column\": \"reference_time\",\n",
    "                \"operator\": \"=\",\n",
    "                \"value\": \"2022-12-18 12:00:00\"\n",
    "            },\n",
    "        ],\n",
    "        return_query=False,\n",
    "        include_geometry=False,\n",
    ")"
   ]
  },
  {
   "cell_type": "code",
   "execution_count": null,
   "metadata": {},
   "outputs": [],
   "source": [
    "query_gdf "
   ]
  },
  {
   "cell_type": "code",
   "execution_count": null,
   "metadata": {},
   "outputs": [],
   "source": [
    "%%time\n",
    "# Query the specified study files with a simple group_by `primary_location_id`.\n",
    "# Include geometry in the response.\n",
    "\n",
    "query_gdf = tqd.get_metrics(\n",
    "        primary_filepath=PRIMARY_FILEPATH,\n",
    "        secondary_filepath=SECONDARY_FILEPATH,\n",
    "        crosswalk_filepath=CROSSWALK_FILEPATH,\n",
    "        geometry_filepath=GEOMETRY_FILEPATH,\n",
    "        group_by=[\"primary_location_id\"],\n",
    "        order_by=[\"primary_location_id\"],\n",
    "        filters=[{\n",
    "            \"column\": \"primary_location_id\",\n",
    "            \"operator\": \"like\",\n",
    "            \"value\": \"huc10-18%\"\n",
    "        }],\n",
    "        return_query=False,\n",
    "        include_geometry=True,\n",
    ")"
   ]
  },
  {
   "cell_type": "code",
   "execution_count": null,
   "metadata": {},
   "outputs": [],
   "source": [
    "query_gdf "
   ]
  },
  {
   "cell_type": "code",
   "execution_count": null,
   "metadata": {},
   "outputs": [],
   "source": [
    "%%time\n",
    "# Query the specified study files with a simple group_by `primary_location_id`.\n",
    "# Include geometry in the response.\n",
    "\n",
    "query_pd_gdf = tqp.get_metrics(\n",
    "        primary_filepath=FORCING_ANALYSIS_ASSIM,\n",
    "        secondary_filepath=FORCING_MEDIUM_RANGE,\n",
    "        crosswalk_filepath=CATCHMENT_XWALK,\n",
    "        geometry_filepath=CATCHMENT_GEOMETRY,\n",
    "        group_by=[\"primary_location_id\"],\n",
    "        order_by=[\"primary_location_id\"],\n",
    "        include_metrics=[\"nash_sutcliffe_efficiency\"],\n",
    "        filters=[{\n",
    "            \"column\": \"primary_location_id\",\n",
    "            \"operator\": \"like\",\n",
    "            \"value\": \"huc10-18%\"\n",
    "        }],\n",
    "        return_query=False,\n",
    "        include_geometry=True,\n",
    ")"
   ]
  },
  {
   "cell_type": "code",
   "execution_count": null,
   "metadata": {},
   "outputs": [],
   "source": [
    "query_pd_gdf"
   ]
  },
  {
   "cell_type": "code",
   "execution_count": null,
   "metadata": {},
   "outputs": [],
   "source": [
    "%%time\n",
    "query_gdf_prj = query_gdf.to_crs(\"EPSG:3857\")"
   ]
  },
  {
   "cell_type": "code",
   "execution_count": null,
   "metadata": {},
   "outputs": [],
   "source": [
    "%%time\n",
    "tiles = gv.tile_sources.OSM\n",
    "query_hvplot = query_gdf_prj.hvplot(\n",
    "    color=\"red\",\n",
    "    crs=ccrs.GOOGLE_MERCATOR,\n",
    "    hover_cols=[\"nash_sutcliffe_efficiency\"]\n",
    ")\n",
    "(tiles * query_hvplot).opts(width=600, height=600, show_legend=False)"
   ]
  },
  {
   "cell_type": "code",
   "execution_count": null,
   "metadata": {},
   "outputs": [],
   "source": [
    "%%time\n",
    "query_df = tqd.get_joined_timeseries(\n",
    "        primary_filepath=FORCING_ANALYSIS_ASSIM,\n",
    "        secondary_filepath=FORCING_MEDIUM_RANGE,\n",
    "        crosswalk_filepath=CATCHMENT_XWALK,\n",
    "        geometry_filepath=CATCHMENT_GEOMETRY,\n",
    "        order_by=[\"primary_location_id\"],\n",
    "        filters=[{\n",
    "            \"column\": \"primary_location_id\",\n",
    "            \"operator\": \"=\",\n",
    "            \"value\": \"huc10-1801010101\"\n",
    "\n",
    "        }],\n",
    "        return_query=False,\n",
    ")"
   ]
  },
  {
   "cell_type": "code",
   "execution_count": null,
   "metadata": {},
   "outputs": [],
   "source": [
    "query_df"
   ]
  },
  {
   "cell_type": "code",
   "execution_count": null,
   "metadata": {},
   "outputs": [],
   "source": [
    "query_df.hvplot(\"value_time\", \"primary_value\")"
   ]
  },
  {
   "cell_type": "code",
   "execution_count": null,
   "metadata": {},
   "outputs": [],
   "source": [
    "## Second - Point Data"
   ]
  },
  {
   "cell_type": "code",
   "execution_count": null,
   "metadata": {},
   "outputs": [],
   "source": [
    "# Set some notebook variables to point to the relevant study files.\n",
    "USGS = \"/home/jovyan/shared/rti-eval/post-event-example/timeseries/usgs/*.parquet\"\n",
    "MEDIUM_RANGE_MEM1 = \"/home/jovyan/shared/rti-eval/post-event-example/timeseries/medium_range_mem1/*.parquet\"\n",
    "GAGE_XWALK = \"/home/jovyan/shared/rti-eval/post-event-example/geo/usgs_nwm22_crosswalk.parquet\"\n",
    "USGS_GEOMETRY = \"/home/jovyan/shared/rti-eval/post-event-example/geo/usgs_geometry.parquet\""
   ]
  },
  {
   "cell_type": "code",
   "execution_count": null,
   "metadata": {},
   "outputs": [],
   "source": [
    "%%time\n",
    "# Query the specified study files with a simple group_by `primary_location_id`.\n",
    "# Include geometry in the response.\n",
    "\n",
    "query_gdf = tqd.get_metrics(\n",
    "        primary_filepath=USGS,\n",
    "        secondary_filepath=MEDIUM_RANGE_MEM1,\n",
    "        crosswalk_filepath=GAGE_XWALK,\n",
    "        geometry_filepath=USGS_GEOMETRY,\n",
    "        group_by=[\"primary_location_id\"],\n",
    "        order_by=[\"primary_location_id\"],\n",
    "        include_metrics=[\"bias\"],\n",
    "        filters=[{\n",
    "            \"column\": \"primary_value\",\n",
    "            \"operator\": \">\",\n",
    "            \"value\": \"-999\"\n",
    "        }],\n",
    "        return_query=False,\n",
    "        include_geometry=True,\n",
    ")"
   ]
  },
  {
   "cell_type": "code",
   "execution_count": null,
   "metadata": {},
   "outputs": [],
   "source": [
    "query_gdf"
   ]
  },
  {
   "cell_type": "code",
   "execution_count": null,
   "metadata": {},
   "outputs": [],
   "source": [
    "%%time\n",
    "tiles = gv.tile_sources.OSM\n",
    "query_hvplot = query_gdf.to_crs(\"EPSG:3857\").hvplot(\n",
    "    crs=ccrs.GOOGLE_MERCATOR,\n",
    "    c=\"bias\"\n",
    ")\n",
    "(tiles * query_hvplot).opts(width=1200, height=600, show_legend=False)"
   ]
  },
  {
   "cell_type": "code",
   "execution_count": null,
   "metadata": {},
   "outputs": [],
   "source": []
  }
 ],
 "metadata": {
  "kernelspec": {
   "display_name": "Python 3 (ipykernel)",
   "language": "python",
   "name": "python3"
  },
  "language_info": {
   "codemirror_mode": {
    "name": "ipython",
    "version": 3
   },
   "file_extension": ".py",
   "mimetype": "text/x-python",
   "name": "python",
   "nbconvert_exporter": "python",
   "pygments_lexer": "ipython3",
   "version": "3.10.8"
  }
 },
 "nbformat": 4,
 "nbformat_minor": 4
}
