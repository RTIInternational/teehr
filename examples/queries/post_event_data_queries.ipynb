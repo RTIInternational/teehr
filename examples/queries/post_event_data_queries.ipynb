{
 "cells": [
  {
   "cell_type": "code",
   "execution_count": null,
   "metadata": {},
   "outputs": [],
   "source": [
    "!pip install duckdb hydrotools"
   ]
  },
  {
   "cell_type": "code",
   "execution_count": null,
   "metadata": {},
   "outputs": [],
   "source": [
    "# Import the required packages.\n",
    "\n",
    "# Need to install TEEHR to avoid this\n",
    "import sys\n",
    "sys.path.insert(0, \"../../src\")\n",
    "\n",
    "import holoviews as hv\n",
    "import geoviews as gv\n",
    "import teehr.queries.duckdb as tqd\n",
    "import teehr.queries.dataframe as tqdf\n",
    "import hvplot.pandas\n",
    "import cartopy.crs as ccrs\n",
    "from holoviews import opts"
   ]
  },
  {
   "cell_type": "code",
   "execution_count": null,
   "metadata": {},
   "outputs": [],
   "source": [
    "# Set some notebook variables to point to the relevant study files.\n",
    "PRIMARY_FILEPATH = \"/home/jovyan/shared/rti-eval/post-event-example/timeseries/forcing_analysis_assim/*.parquet\"\n",
    "SECONDARY_FILEPATH = \"/home/jovyan/shared/rti-eval/post-event-example/timeseries/forcing_medium_range/*.parquet\"\n",
    "CROSSWALK_FILEPATH = \"/home/jovyan/shared/rti-eval/post-event-example/geo/huc10_huc10_crosswalk.parquet\"\n",
    "GEOMETRY_FILEPATH = \"/home/jovyan/shared/rti-eval/post-event-example/geo/huc10_geometry.parquet\""
   ]
  },
  {
   "cell_type": "code",
   "execution_count": null,
   "metadata": {},
   "outputs": [],
   "source": [
    "%%time\n",
    "# Query the specified study files with a simple group_by `primary_location_id`.\n",
    "# Include geometry in the response.\n",
    "\n",
    "query_gdf = tqd.get_metrics(\n",
    "        primary_filepath=PRIMARY_FILEPATH,\n",
    "        secondary_filepath=SECONDARY_FILEPATH,\n",
    "        crosswalk_filepath=CROSSWALK_FILEPATH,\n",
    "        # geometry_filepath=GEOMETRY_FILEPATH,\n",
    "        group_by=[\"primary_location_id\", \"reference_time\"],\n",
    "        order_by=[\"primary_location_id\", \"reference_time\"],\n",
    "        filters=[\n",
    "            {\n",
    "                \"column\": \"primary_location_id\",\n",
    "                \"operator\": \"like\",\n",
    "                \"value\": \"huc10-1810020416\"\n",
    "            },\n",
    "            {\n",
    "                \"column\": \"reference_time\",\n",
    "                \"operator\": \"=\",\n",
    "                \"value\": \"2022-12-18 12:00:00\"\n",
    "            },\n",
    "        ],\n",
    "        return_query=False,\n",
    "        include_geometry=False,\n",
    ")"
   ]
  },
  {
   "cell_type": "code",
   "execution_count": null,
   "metadata": {},
   "outputs": [],
   "source": [
    "query_gdf "
   ]
  },
  {
   "cell_type": "code",
   "execution_count": null,
   "metadata": {},
   "outputs": [],
   "source": [
    "%%time\n",
    "# Query the specified study files with a simple group_by `primary_location_id`.\n",
    "# Include geometry in the response.\n",
    "\n",
    "query_gdf = tqdf.get_metrics(\n",
    "        primary_filepath=PRIMARY_FILEPATH,\n",
    "        secondary_filepath=SECONDARY_FILEPATH,\n",
    "        crosswalk_filepath=CROSSWALK_FILEPATH,\n",
    "        # geometry_filepath=GEOMETRY_FILEPATH,\n",
    "        group_by=[\"primary_location_id\", \"reference_time\"],\n",
    "        order_by=[\"primary_location_id\"],\n",
    "        filters=[\n",
    "            {\n",
    "                \"column\": \"primary_location_id\",\n",
    "                \"operator\": \"like\",\n",
    "                \"value\": \"huc10-1810020416\"\n",
    "            },\n",
    "            {\n",
    "                \"column\": \"reference_time\",\n",
    "                \"operator\": \"=\",\n",
    "                \"value\": \"2022-12-18 12:00:00\"\n",
    "            },\n",
    "        ],\n",
    "        return_query=False,\n",
    "        include_geometry=False,\n",
    ")"
   ]
  },
  {
   "cell_type": "code",
   "execution_count": null,
   "metadata": {},
   "outputs": [],
   "source": [
    "query_gdf "
   ]
  },
  {
   "cell_type": "code",
   "execution_count": null,
   "metadata": {},
   "outputs": [],
   "source": [
    "%%time\n",
    "query_gdf_prj = query_gdf.to_crs(\"EPSG:3857\")"
   ]
  },
  {
   "cell_type": "code",
   "execution_count": null,
   "metadata": {},
   "outputs": [],
   "source": [
    "%%time\n",
    "tiles = gv.tile_sources.OSM\n",
    "query_hvplot = query_gdf_prj.hvplot(\n",
    "    color=\"red\",\n",
    "    crs=ccrs.GOOGLE_MERCATOR,\n",
    "    hover_cols=[\"bias\"]\n",
    ")\n",
    "(tiles * query_hvplot).opts(width=600, height=600, show_legend=False)"
   ]
  },
  {
   "cell_type": "code",
   "execution_count": null,
   "metadata": {},
   "outputs": [],
   "source": [
    "%%time\n",
    "query_df = tqd.get_joined_timeseries(\n",
    "        primary_filepath=PRIMARY_FILEPATH,\n",
    "        secondary_filepath=SECONDARY_FILEPATH,\n",
    "        crosswalk_filepath=CROSSWALK_FILEPATH,\n",
    "        geometry_filepath=GEOMETRY_FILEPATH,\n",
    "        order_by=[\"primary_location_id\"],\n",
    "        filters=[{\n",
    "            \"column\": \"primary_location_id\",\n",
    "            \"operator\": \"=\",\n",
    "            \"value\": \"huc10-1801010101\"\n",
    "\n",
    "        }],\n",
    "        return_query=False,\n",
    ")"
   ]
  },
  {
   "cell_type": "code",
   "execution_count": null,
   "metadata": {},
   "outputs": [],
   "source": [
    "query_df"
   ]
  },
  {
   "cell_type": "code",
   "execution_count": null,
   "metadata": {},
   "outputs": [],
   "source": [
    "query_df.hvplot(\"value_time\", \"primary_value\")"
   ]
  }
 ],
 "metadata": {
  "kernelspec": {
   "display_name": "Python 3 (ipykernel)",
   "language": "python",
   "name": "python3"
  },
  "language_info": {
   "codemirror_mode": {
    "name": "ipython",
    "version": 3
   },
   "file_extension": ".py",
   "mimetype": "text/x-python",
   "name": "python",
   "nbconvert_exporter": "python",
   "pygments_lexer": "ipython3",
   "version": "3.10.8"
  }
 },
 "nbformat": 4,
 "nbformat_minor": 4
}
