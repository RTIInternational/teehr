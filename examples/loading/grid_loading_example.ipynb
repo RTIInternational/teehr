{
 "cells": [
  {
   "cell_type": "code",
   "execution_count": null,
   "id": "38f2f9f4-5294-4f9b-971a-931b91da8f85",
   "metadata": {},
   "outputs": [],
   "source": [
    "# Import the required packages.\n",
    "\n",
    "# Need to install TEEHR to avoid this\n",
    "import sys\n",
    "sys.path.insert(0, \"../../src\")\n",
    "\n",
    "import teehr.loading.nwm_grid_data as tlg"
   ]
  },
  {
   "cell_type": "code",
   "execution_count": null,
   "id": "76e363e7-a3e0-427f-811f-a6298b93536f",
   "metadata": {},
   "outputs": [],
   "source": [
    "# Set some notebook variables to point to the relevant study files.\n",
    "RUN = \"medium_range_mem1\"  # analysis_assim, short_range, analysis_assim_hawaii, medium_range_mem1\n",
    "OUTPUT_TYPE = \"channel_rt_1\"\n",
    "VARIABLE_NAME = \"streamflow\"\n",
    "\n",
    "START_DATE = \"2023-03-18\"\n",
    "INGEST_DAYS = 10\n",
    "\n",
    "JSON_DIR = '/home/jovyan/temp/parquet/jsons/'\n",
    "OUTPUT_DIR = \"/home/jovyan/temp/parquet\""
   ]
  }
 ],
 "metadata": {
  "kernelspec": {
   "display_name": "Python 3 (ipykernel)",
   "language": "python",
   "name": "python3"
  },
  "language_info": {
   "codemirror_mode": {
    "name": "ipython",
    "version": 3
   },
   "file_extension": ".py",
   "mimetype": "text/x-python",
   "name": "python",
   "nbconvert_exporter": "python",
   "pygments_lexer": "ipython3",
   "version": "3.10.8"
  }
 },
 "nbformat": 4,
 "nbformat_minor": 5
}
