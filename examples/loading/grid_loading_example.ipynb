{
 "cells": [
  {
   "cell_type": "code",
   "execution_count": null,
   "id": "38f2f9f4-5294-4f9b-971a-931b91da8f85",
   "metadata": {},
   "outputs": [],
   "source": [
    "# Import the required packages.\n",
    "\n",
    "# Need to install TEEHR to avoid this\n",
    "import sys\n",
    "sys.path.insert(0, \"../../src\")\n",
    "\n",
    "from dask.distributed import Client\n",
    "from pathlib import Path\n",
    "\n",
    "import teehr.loading.nwm_grid_data as tlg\n",
    "import teehr.loading.generate_weights as gw"
   ]
  },
  {
   "cell_type": "code",
   "execution_count": null,
   "id": "76e363e7-a3e0-427f-811f-a6298b93536f",
   "metadata": {},
   "outputs": [],
   "source": [
    "# Set some notebook variables to point to the relevant study files.\n",
    "TEMP_GEO_DIR = Path(Path.home(), \"temp/geo\")\n",
    "TEMP_GEO_DIR.mkdir(exist_ok=True, parents=True)\n",
    "\n",
    "# Generate weights\n",
    "# fetch \"https://storage.googleapis.com/national-water-model/nwm.20220101/forcing_short_range/nwm.t00z.short_range.forcing.f001.conus.nc\"\n",
    "GRID_TEMPLATE_FILE = Path(TEMP_GEO_DIR, \"nwm.t00z.short_range.forcing.f001.conus.nc\")\n",
    "\n",
    "# fetch \"https://nextgen-hydrofabric.s3.amazonaws.com/v1.2/nextgen_03S.gpkg\"\n",
    "ZONE_GEO_FILE = Path(TEMP_GEO_DIR, \"nextgen_03S.gpkg\")\n",
    "ZONAL_WEIGHTS_FILEPATH = Path(TEMP_GEO_DIR, \"nextgen_03S_weights.parquet\")\n",
    "UNIQUE_ZONE_ID = \"id\"\n",
    "ZONE_LOADING_ARGS = {\"layer\": \"divides\"}\n",
    "\n",
    "# NWM\n",
    "RUN = \"forcing_medium_range\"  # forcing_short_range, forcing_analysis_assim\n",
    "OUTPUT_TYPE = \"forcing\"\n",
    "VARIABLE_NAME = \"RAINRATE\"\n",
    "\n",
    "START_DATE = \"2020-12-18\" \n",
    "INGEST_DAYS = 1\n",
    "\n",
    "JSON_DIR = Path(Path.home(), \"temp/parquet/jsons/\")\n",
    "OUTPUT_DIR = Path(Path.home(), \"temp/parquet\")\n",
    "\n",
    "CONCAT_DIMS = [\"time\"]  # \"reference_time\"\n",
    "T_MINUS = [0, 1, 2]  # Only used if an assimilation run is selected"
   ]
  },
  {
   "cell_type": "code",
   "execution_count": null,
   "id": "53724249-5fbe-4fa4-8fd9-96a3238d16b3",
   "metadata": {},
   "outputs": [],
   "source": [
    "# Fetch template file\n",
    "!wget -O /home/jovyan/temp/geo/nwm.t00z.short_range.forcing.f001.conus.nc \\\n",
    "https://storage.googleapis.com/national-water-model/nwm.20220101/forcing_short_range/nwm.t00z.short_range.forcing.f001.conus.nc"
   ]
  },
  {
   "cell_type": "code",
   "execution_count": null,
   "id": "4a717b43",
   "metadata": {},
   "outputs": [],
   "source": [
    "# Fetch example polygons\n",
    "!wget -O /home/jovyan/temp/geo/nextgen_03S.gpkg https://nextgen-hydrofabric.s3.amazonaws.com/v1.2/nextgen_03S.gpkg"
   ]
  },
  {
   "cell_type": "code",
   "execution_count": null,
   "id": "0ac3c383-9aaf-4fd7-8c33-461ff5e87bb7",
   "metadata": {},
   "outputs": [],
   "source": [
    "gw.generate_weights_file(\n",
    "    zone_polygon_filepath=ZONE_GEO_FILE,\n",
    "    template_dataset=GRID_TEMPLATE_FILE,\n",
    "    variable_name=VARIABLE_NAME,\n",
    "    output_weights_filepath=str(ZONAL_WEIGHTS_FILEPATH),\n",
    "    unique_zone_id=UNIQUE_ZONE_ID,\n",
    "    read_args=ZONE_LOADING_ARGS\n",
    ")"
   ]
  },
  {
   "cell_type": "code",
   "execution_count": null,
   "id": "30f8283c",
   "metadata": {},
   "outputs": [],
   "source": [
    "client = Client(n_workers=16)\n",
    "client"
   ]
  },
  {
   "cell_type": "code",
   "execution_count": null,
   "id": "7b77bd47",
   "metadata": {},
   "outputs": [],
   "source": [
    "%%time\n",
    "tlg.nwm_grids_to_parquet(RUN,\n",
    "                         OUTPUT_TYPE,\n",
    "                         VARIABLE_NAME,\n",
    "                         START_DATE,\n",
    "                         INGEST_DAYS,\n",
    "                         ZONAL_WEIGHTS_FILEPATH,\n",
    "                         JSON_DIR,\n",
    "                         OUTPUT_DIR,\n",
    "                         T_MINUS)"
   ]
  },
  {
   "cell_type": "code",
   "execution_count": null,
   "id": "e2cbc537-8216-4944-b9ae-45e3a6ed4416",
   "metadata": {},
   "outputs": [],
   "source": []
  }
 ],
 "metadata": {
  "kernelspec": {
   "display_name": "Python 3 (ipykernel)",
   "language": "python",
   "name": "python3"
  },
  "language_info": {
   "codemirror_mode": {
    "name": "ipython",
    "version": 3
   },
   "file_extension": ".py",
   "mimetype": "text/x-python",
   "name": "python",
   "nbconvert_exporter": "python",
   "pygments_lexer": "ipython3",
   "version": "3.10.10"
  }
 },
 "nbformat": 4,
 "nbformat_minor": 5
}
