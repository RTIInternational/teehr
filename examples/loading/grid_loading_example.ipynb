{
 "cells": [
  {
   "cell_type": "code",
   "execution_count": null,
   "id": "38f2f9f4-5294-4f9b-971a-931b91da8f85",
   "metadata": {},
   "outputs": [],
   "source": [
    "# Import the required packages.\n",
    "\n",
    "# Need to install TEEHR to avoid this\n",
    "import sys\n",
    "sys.path.insert(0, \"../../src\")\n",
    "\n",
    "from dask.distributed import Client\n",
    "\n",
    "import teehr.loading.nwm_grid_data as tlg"
   ]
  },
  {
   "cell_type": "code",
   "execution_count": null,
   "id": "76e363e7-a3e0-427f-811f-a6298b93536f",
   "metadata": {},
   "outputs": [],
   "source": [
    "# Set some notebook variables to point to the relevant study files.\n",
    "RUN = \"forcing_medium_range\"  # analysis_assim, short_range, analysis_assim_hawaii, medium_range_mem1, forcing_short_range, forcing_analysis_assim\n",
    "OUTPUT_TYPE = \"forcing\"\n",
    "VARIABLE_NAME = \"RAINRATE\"\n",
    "\n",
    "START_DATE = \"2020-12-18\"  # 20201218T18Z\n",
    "INGEST_DAYS = 1\n",
    "\n",
    "JSON_DIR = \"/home/jovyan/temp/parquet/jsons/\"\n",
    "OUTPUT_DIR = \"/home/jovyan/temp/parquet\"\n",
    "\n",
    "CONCAT_DIMS = [\"time\"]  # \"reference_time\"\n",
    "T_MINUS = [0, 1, 2]  # Only used if an assimilation run is selected\n",
    "\n",
    "ZONAL_WEIGHTS_FILEPATH = \"/home/jovyan/temp/geo/wbdhuc10_medium_range_weights.parquet\""
   ]
  },
  {
   "cell_type": "code",
   "execution_count": null,
   "id": "30f8283c",
   "metadata": {},
   "outputs": [],
   "source": [
    "client = Client(n_workers=16)\n",
    "client"
   ]
  },
  {
   "cell_type": "code",
   "execution_count": null,
   "id": "7b77bd47",
   "metadata": {},
   "outputs": [],
   "source": [
    "%%time\n",
    "tlg.nwm_grids_to_parquet(RUN,\n",
    "                         OUTPUT_TYPE,\n",
    "                         VARIABLE_NAME,\n",
    "                         START_DATE,\n",
    "                         INGEST_DAYS,\n",
    "                         ZONAL_WEIGHTS_FILEPATH,\n",
    "                         JSON_DIR,\n",
    "                         OUTPUT_DIR,\n",
    "                         T_MINUS)"
   ]
  }
 ],
 "metadata": {
  "kernelspec": {
   "display_name": "Python 3 (ipykernel)",
   "language": "python",
   "name": "python3"
  },
  "language_info": {
   "codemirror_mode": {
    "name": "ipython",
    "version": 3
   },
   "file_extension": ".py",
   "mimetype": "text/x-python",
   "name": "python",
   "nbconvert_exporter": "python",
   "pygments_lexer": "ipython3",
   "version": "3.10.10"
  }
 },
 "nbformat": 4,
 "nbformat_minor": 5
}
