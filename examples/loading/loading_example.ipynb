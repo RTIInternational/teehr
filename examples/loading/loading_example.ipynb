{
 "cells": [
  {
   "cell_type": "code",
   "execution_count": null,
   "metadata": {},
   "outputs": [],
   "source": [
    "# Import the required packages.\n",
    "\n",
    "# Need to install TEEHR to avoid this\n",
    "import sys\n",
    "sys.path.insert(0, \"../../src\")\n",
    "\n",
    "import teehr.loading.nwm_point_data as tlp"
   ]
  },
  {
   "cell_type": "code",
   "execution_count": null,
   "metadata": {},
   "outputs": [],
   "source": [
    "# Set some notebook variables to point to the relevant study files.\n",
    "RUN = \"medium_range_mem1\"  # analysis_assim, short_range, analysis_assim_hawaii, medium_range_mem1\n",
    "OUTPUT_TYPE = \"channel_rt_1\"\n",
    "VARIABLE_NAME = \"streamflow\"\n",
    "\n",
    "START_DATE = \"2023-03-18\"\n",
    "INGEST_DAYS = 10\n",
    "\n",
    "JSON_DIR = '/home/jovyan/temp/parquet/jsons/'\n",
    "OUTPUT_DIR = \"/home/jovyan/temp/parquet\""
   ]
  },
  {
   "cell_type": "code",
   "execution_count": null,
   "metadata": {},
   "outputs": [],
   "source": [
    "%%time\n",
    "# For this example, we'll get the location_ids from an exisiting route_link crosswalk table and use only those NWM IDs that coincide with a USGS gauge\n",
    "import pandas as pd\n",
    "import numpy as np\n",
    "\n",
    "route_link_filename = \"/home/jovyan/shared/rti-eval/nwm/route_link_conus.parquet\"\n",
    "df_route_link = pd.read_parquet(route_link_filename)\n",
    "df_route_link.replace('', np.nan, inplace=True)\n",
    "df_route_link.dropna(subset=[\"gage_id\"], inplace=True)\n",
    "location_ids = df_route_link.nwm_feature_id.values.astype(float)"
   ]
  },
  {
   "cell_type": "code",
   "execution_count": null,
   "metadata": {},
   "outputs": [],
   "source": [
    "from dask.distributed import Client\n",
    "client = Client()\n",
    "# client"
   ]
  },
  {
   "cell_type": "code",
   "execution_count": null,
   "metadata": {},
   "outputs": [],
   "source": [
    "%%time\n",
    "tlp.nwm_to_parquet(RUN,\n",
    "                   OUTPUT_TYPE,\n",
    "                   VARIABLE_NAME,\n",
    "                   START_DATE,\n",
    "                   INGEST_DAYS,\n",
    "                   location_ids,\n",
    "                   JSON_DIR,\n",
    "                   OUTPUT_DIR)"
   ]
  }
 ],
 "metadata": {
  "kernelspec": {
   "display_name": "Python 3 (ipykernel)",
   "language": "python",
   "name": "python3"
  },
  "language_info": {
   "codemirror_mode": {
    "name": "ipython",
    "version": 3
   },
   "file_extension": ".py",
   "mimetype": "text/x-python",
   "name": "python",
   "nbconvert_exporter": "python",
   "pygments_lexer": "ipython3",
   "version": "3.10.8"
  }
 },
 "nbformat": 4,
 "nbformat_minor": 4
}
