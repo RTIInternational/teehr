{
 "cells": [
  {
   "cell_type": "code",
   "execution_count": null,
   "metadata": {},
   "outputs": [],
   "source": [
    "# Import the required packages.\n",
    "\n",
    "# Need to install TEEHR to avoid this\n",
    "import sys\n",
    "sys.path.insert(0, \"../../src\")\n",
    "\n",
    "import teehr.loading.nwm_point_data as tlp\n",
    "from pathlib import Path"
   ]
  },
  {
   "cell_type": "code",
   "execution_count": null,
   "metadata": {},
   "outputs": [],
   "source": [
    "# Set some notebook variables to point to the relevant study files.  \n",
    "# (Please refer the ../loading/const_nwm.py file for all configuration options)\n",
    "\n",
    "CONFIGURATION = \"short_range\"  # analysis_assim, short_range, analysis_assim_hawaii, medium_range_mem1\n",
    "OUTPUT_TYPE = \"channel_rt\"\n",
    "VARIABLE_NAME = \"streamflow\"\n",
    "T_MINUS = [0, 1, 2]  # Only used if an assimilation run is selected\n",
    "\n",
    "PROCESS_BY_Z_HOUR = True  # If True, NWM files will be processed by z-hour per day. If False, files will be\n",
    "                          # processed in chunks (defined by STEPSIZE). This can help if you want to read many reaches\n",
    "                          # at once (all ~2.7 million for medium range for example). \n",
    "STEPSIZE = 100  # Only used if PROCESS_BY_Z_HOUR = False. Controls how many files are processed in memory at once\n",
    "                # Higher values can increase performance at the expense on memory  (default value: 100)\n",
    "\n",
    "START_DATE = \"2023-03-18\"\n",
    "INGEST_DAYS = 1\n",
    "\n",
    "OUTPUT_ROOT = Path(Path().home(), \"temp\")\n",
    "JSON_DIR = Path(OUTPUT_ROOT, \"zarr\", RUN)\n",
    "OUTPUT_DIR = Path(OUTPUT_ROOT, \"timeseries\", RUN)\n",
    "\n",
    "# For this simple example, we'll get data for 10 NWM reaches that coincide with USGS gauges\n",
    "LOCATION_IDS = [7086109,  7040481,  7053819,  7111205,  7110249, 14299781, 14251875, 14267476,  7152082, 14828145]"
   ]
  },
  {
   "cell_type": "code",
   "execution_count": null,
   "metadata": {},
   "outputs": [],
   "source": [
    "from dask.distributed import Client\n",
    "client = Client(n_workers=8)\n",
    "client"
   ]
  },
  {
   "cell_type": "code",
   "execution_count": null,
   "metadata": {},
   "outputs": [],
   "source": [
    "%%time\n",
    "tlp.nwm_to_parquet(\n",
    "    CONFIGURATION,\n",
    "    OUTPUT_TYPE,\n",
    "    VARIABLE_NAME,\n",
    "    START_DATE,\n",
    "    INGEST_DAYS,\n",
    "    LOCATION_IDS,\n",
    "    JSON_DIR,\n",
    "    OUTPUT_DIR,\n",
    "    T_MINUS,\n",
    "    PROCESS_BY_Z_HOUR,\n",
    "    STEPSIZE\n",
    ")"
   ]
  },
  {
   "cell_type": "code",
   "execution_count": null,
   "metadata": {},
   "outputs": [],
   "source": []
  }
 ],
 "metadata": {
  "kernelspec": {
   "display_name": "Python 3 (ipykernel)",
   "language": "python",
   "name": "python3"
  },
  "language_info": {
   "codemirror_mode": {
    "name": "ipython",
    "version": 3
   },
   "file_extension": ".py",
   "mimetype": "text/x-python",
   "name": "python",
   "nbconvert_exporter": "python",
   "pygments_lexer": "ipython3",
   "version": "3.10.10"
  }
 },
 "nbformat": 4,
 "nbformat_minor": 4
}
